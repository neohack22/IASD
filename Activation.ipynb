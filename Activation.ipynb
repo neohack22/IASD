{
  "nbformat": 4,
  "nbformat_minor": 0,
  "metadata": {
    "colab": {
      "name": "Activation.ipynb",
      "provenance": [],
      "authorship_tag": "ABX9TyOx7TdOXxP92C4UZOURA2uw",
      "include_colab_link": true
    },
    "kernelspec": {
      "name": "python3",
      "display_name": "Python 3"
    },
    "language_info": {
      "name": "python"
    }
  },
  "cells": [
    {
      "cell_type": "markdown",
      "metadata": {
        "id": "view-in-github",
        "colab_type": "text"
      },
      "source": [
        "<a href=\"https://colab.research.google.com/github/neohack22/IASD/blob/DeepLearning/Activation.ipynb\" target=\"_parent\"><img src=\"https://colab.research.google.com/assets/colab-badge.svg\" alt=\"Open In Colab\"/></a>"
      ]
    },
    {
      "cell_type": "code",
      "execution_count": null,
      "metadata": {
        "id": "RqPcG2mNLYOB"
      },
      "outputs": [],
      "source": [
        "# define input\n",
        "i_1 = 0.05\n",
        "I_2 + 0.10\n",
        "\n",
        "# initialize weighs\n",
        "w_1 = .15\n",
        "w_2 = .25\n",
        "w_3 = \n",
        "\n",
        "#activation function\n",
        "sigmoid"
      ]
    },
    {
      "cell_type": "code",
      "source": [
        "import math\n",
        "w1 = .4\n",
        "w2 = .6\n",
        "w3 = .1\n",
        "i1 = .1\n",
        "i2 = .5\n",
        "out = .2\n",
        "eta = .5\n",
        "\n",
        "def sigmoid(x):\n",
        "  s = 1.0 / (1.0 + math.exp(-x))\n",
        "  return s"
      ],
      "metadata": {
        "id": "aE3vc4ktOe1z"
      },
      "execution_count": null,
      "outputs": []
    },
    {
      "cell_type": "code",
      "source": [
        "#net_h1 = w1 * i1 + w2 * i2"
      ],
      "metadata": {
        "id": "Uwj5ydNkOzct"
      },
      "execution_count": null,
      "outputs": []
    },
    {
      "cell_type": "code",
      "source": [
        "# forward\n",
        "net = w1 * i1 * i1 + w2 * i2\n",
        "outh = sigmoid(neth)\n",
        "neto = w3 * outh\n",
        "o = sigmoid(net)"
      ],
      "metadata": {
        "id": "UYX8BQXkPGpR"
      },
      "execution_count": null,
      "outputs": []
    },
    {
      "cell_type": "code",
      "source": [
        "# error\n",
        "E_o = 1/2 * (out - o)**2\n",
        "\n",
        "#E_outh = 1/2 * (outh - )"
      ],
      "metadata": {
        "id": "YRvLMCf0PbFj"
      },
      "execution_count": null,
      "outputs": []
    },
    {
      "cell_type": "markdown",
      "source": [
        "Backward Pass"
      ],
      "metadata": {
        "id": "4arCjpzTbvQB"
      }
    },
    {
      "cell_type": "code",
      "source": [
        "# output layer\n",
        "\n",
        "#d_E_o = (out-o)\n",
        "\n",
        "# how much does the output of o change w/ respect to it's total net input?\n",
        "d_o_outh = o * (1 - o)\n",
        "\n",
        "# how much does the totam net input on o change w/ respect to w1 ?\n",
        "i = w1 * i1 + w2 * i2\n",
        "\n",
        "# all together\n",
        "d_E_w3 = d_E_w1 * d_o"
      ],
      "metadata": {
        "id": "xDHuq5-HQNub"
      },
      "execution_count": null,
      "outputs": []
    },
    {
      "cell_type": "code",
      "source": [
        "# correction\n",
        "\n",
        "for i in range(1000):\n",
        "  neth = w1 * i1 + w2 * i2\n",
        "  outh = sigmoid(neth)\n",
        "  neto = w3 * outh\n",
        "  o = sigmoid(neto)\n",
        "  err = 0.5 * (out - o) ** 2\n",
        "  print(err, o)\n",
        "  dw3 = (o-out) * o * (1.0 - o) * outh\n",
        "  dw2 = (o-out) "
      ],
      "metadata": {
        "id": "hvRz4LSffcmn"
      },
      "execution_count": null,
      "outputs": []
    },
    {
      "cell_type": "code",
      "source": [
        "for i in range (1000):\n",
        "    neth = w1 * i1 + w2 * i2\n",
        "    outh = sigmoid (neth)\n",
        "    neto = w3 * outh\n",
        "    o = sigmoid (neto)\n",
        "    err = 0.5 * (out - o) ** 2\n",
        "    print (err, o)\n",
        "    dw3 = (o - out) * o * (1.0 - o) * outh\n",
        "    dw2 = (o - out) * o * (1.0 - o) * w3 * outh * (1.0 - outh) * i2\n",
        "    dw1 = (o - out) * o * (1.0 - o) * w3 * outh * (1.0 - outh) * i1\n",
        "    w3 = w3 - eta * dw3\n",
        "    w2 = w2 - eta * dw2\n",
        "    w1 = w1 - eta * dw1"
      ],
      "metadata": {
        "id": "zbp1jbSZgHPH"
      },
      "execution_count": null,
      "outputs": []
    },
    {
      "cell_type": "markdown",
      "source": [
        "# Cross entropy loss"
      ],
      "metadata": {
        "id": "F7eFXdD2gzns"
      }
    },
    {
      "cell_type": "code",
      "source": [
        "import math\n",
        "w1 = .4\n",
        "w2 = .6\n",
        "w3 = .1\n",
        "i1 = .1\n",
        "i2 = .5\n",
        "out = .2\n",
        "eta = .5\n",
        "\n",
        "def c_e(x):\n",
        "  c = -s1.0 / (1.0 + math.exp(-x))\n",
        "  return s"
      ],
      "metadata": {
        "id": "v9X5qmprg1wA"
      },
      "execution_count": null,
      "outputs": []
    },
    {
      "cell_type": "code",
      "source": [
        "# correction\n",
        "\n",
        "# binary cross entropy\n",
        "out = 1.0\n",
        "for i in range(1000):\n",
        "  neth = w1 * i1 + w2 * i2\n",
        "  outh = sigmoid(neth)"
      ],
      "metadata": {
        "id": "MEgZxoJ0iiYP"
      },
      "execution_count": null,
      "outputs": []
    },
    {
      "cell_type": "code",
      "source": [
        "# binary cross entropy\n",
        "out = 1.0\n",
        "for i in range (1000):\n",
        "    neth = w1 * i1 + w2 * i2\n",
        "    outh = sigmoid (neth)\n",
        "    neto = w3 * outh\n",
        "    o = sigmoid (neto)\n",
        "    err = -out * math.log (o) - (1.0 - out) * math.log (1.0 - o)\n",
        "    print (err, o)\n",
        "    dw3 = (-out / o) * o * (1.0 - o) * outh\n",
        "    dw2 = (-out / o) * o * (1.0 - o) * w3 * outh * (1.0 - outh) * i2\n",
        "    dw1 = (-out / o) * o * (1.0 - o) * w3 * outh * (1.0 - outh) * i1\n",
        "    w3 = w3 - eta * dw3\n",
        "    w2 = w2 - eta * dw2\n",
        "    w1 = w1 - eta * dw1"
      ],
      "metadata": {
        "id": "YUudRExsjl5j"
      },
      "execution_count": null,
      "outputs": []
    },
    {
      "cell_type": "markdown",
      "source": [
        "# categorical cross entropy"
      ],
      "metadata": {
        "id": "39rVyCcCkRzs"
      }
    },
    {
      "cell_type": "code",
      "source": [
        "import math\n",
        "w1 = .4\n",
        "w2 = .6\n",
        "w3 = .1\n",
        "w4 = .5\n",
        "i1 = .1\n",
        "i2 = .5\n",
        "out1 = 1.0\n",
        "out2 = 0.0\n",
        "eta = .5"
      ],
      "metadata": {
        "id": "HmJ9wyIFlPu2"
      },
      "execution_count": null,
      "outputs": []
    },
    {
      "cell_type": "code",
      "source": [
        "# categorical cross entropy\n",
        "out1 = 1.0\n",
        "out2 = 0.0\n",
        "for i in range (1000):\n",
        "    neth = w1 * i1 + w2 * i2\n",
        "    outh = sigmoid (neth)\n",
        "    neto1 = w3 * outh\n",
        "    neto2 = w4 * outh\n",
        "    o1 = sigmoid (neto1)\n",
        "    o2 = sigmoid (neto2)\n",
        "    err1 = -out * math.log (o) - (1.0 - out) * math.log (1.0 - o)\n",
        "    print (err, o)\n",
        "    dw3 = (-out / o) * o * (1.0 - o) * outh\n",
        "    dw2 = (-out / o) * o * (1.0 - o) * w3 * outh * (1.0 - outh) * i2\n",
        "    dw1 = (-out / o) * o * (1.0 - o) * w3 * outh * (1.0 - outh) * i1\n",
        "    w3 = w3 - eta * dw3\n",
        "    w2 = w2 - eta * dw2\n",
        "    w1 = w1 - eta * dw1"
      ],
      "metadata": {
        "id": "xelrFoDkkTjX"
      },
      "execution_count": null,
      "outputs": []
    },
    {
      "cell_type": "code",
      "source": [
        "# CORRECTION\n",
        "out1 "
      ],
      "metadata": {
        "id": "R_6P4On-l7uF"
      },
      "execution_count": null,
      "outputs": []
    },
    {
      "cell_type": "code",
      "source": [
        "# categorical cross entropy\n",
        "out1 = 1.0\n",
        "out2 = 0.0\n",
        "w4 = 0.5\n",
        "for i in range (1000):\n",
        "    neth = w1 * i1 + w2 * i2\n",
        "    outh = sigmoid (neth)\n",
        "    neto1 = w3 * outh\n",
        "    o1 = sigmoid (neto1)\n",
        "    neto2 = w4 * outh\n",
        "    o2 = sigmoid (neto2)\n",
        "    err = -out1 * math.log (o1) - out2 * math.log (o2)\n",
        "    print (err, o1, o2)\n",
        "    do2 = (-out2 / o2) * o2 * (1.0 - o2)\n",
        "    do1 = (-out1 / o1) * o1 * (1.0 - o1)\n",
        "    dw4 = do2 * outh\n",
        "    dw3 = do1 * outh\n",
        "    dw2 = (do1 * w3 + do2 * w4) * outh * (1.0 - outh) * i2\n",
        "    dw1 = (do1 * w3 + do2 * w4) * outh * (1.0 - outh) * i1\n",
        "    w4 = w4 - eta * dw4\n",
        "    w3 = w3 - eta * dw3\n",
        "    w2 = w2 - eta * dw2\n",
        "    w1 = w1 - eta * dw1"
      ],
      "metadata": {
        "id": "S9vF3c7Znl4R"
      },
      "execution_count": null,
      "outputs": []
    },
    {
      "cell_type": "code",
      "source": [
        "# correction\n",
        "\n",
        "# binary cross entropy\n",
        "out1 = 1.0\n",
        "out2 = 0.0\n",
        "w4 = 0.5\n",
        "for i in range (100000):\n",
        "    neth = w1 * i1 + w2 * i2\n",
        "    outh = sigmoid (neth)\n",
        "    neto1 = w3 * outh\n",
        "    o1 = sigmoid (neto1)\n",
        "    neto2 = w4 * outh\n",
        "    o2 = sigmoid (neto2)\n",
        "    err = -out1 * math.log (o1) - (1.0 - out2) * math.log (1.0 - o2)\n",
        "    print (err, o1, o2)\n",
        "    do2 = (1 - out2) / (1.0 - o2) * o2 * (1.0 - o2)\n",
        "    do1 = (-out1 / o1) * o1 * (1.0 - o1)\n",
        "    dw4 = do2 * outh\n",
        "    dw3 = do1 * outh\n",
        "    dw2 = (do1 * w3 + do2 * w4) * outh * (1.0 - outh) * i2\n",
        "    dw1 = (do1 * w3 + do2 * w4) * outh * (1.0 - outh) * i1\n",
        "    w4 = w4 - eta * dw4\n",
        "    w3 = w3 - eta * dw3\n",
        "    w2 = w2 - eta * dw2\n",
        "    w1 = w1 - eta * dw1"
      ],
      "metadata": {
        "id": "a-nCDMDRnwyK"
      },
      "execution_count": null,
      "outputs": []
    },
    {
      "cell_type": "markdown",
      "source": [
        "softmax"
      ],
      "metadata": {
        "id": "hWJBCWzDoKWP"
      }
    },
    {
      "cell_type": "code",
      "source": [
        "# softmax + cross entropy\n",
        "out1 = 1.0\n",
        "out2 = 0.0\n",
        "w4 = 0.5\n",
        "for i in range (100000):\n",
        "    neth = w1 * i1 + w2 * i2\n",
        "    outh = sigmoid (neth)\n",
        "    neto1 = w3 * outh\n",
        "    neto2 = w4 * outh\n",
        "    sigma = math.exp (neto1) + math.exp (neto2)\n",
        "    o1 = math.exp (neto1) / sigma\n",
        "    o2 = math.exp (neto2) / sigma\n",
        "    err = -out1 * math.log (o1) - out2 * math.log (o2)\n",
        "    print (err, o1, o2)\n",
        "    do2 = (o2 - out2) * o2 * (1.0 - o2)\n",
        "    do1 = (o1 - out1) * o1 * (1.0 - o1)\n",
        "    dw4 = do2 * outh\n",
        "    dw3 = do1 * outh\n",
        "    dw2 = (do1 * w3 + do2 * w4) * outh * (1.0 - outh) * i2\n",
        "    dw1 = (do1 * w3 + do2 * w4) * outh * (1.0 - outh) * i1\n",
        "    w4 = w4 - eta * dw4\n",
        "    w3 = w3 - eta * dw3\n",
        "    w2 = w2 - eta * dw2\n",
        "    w1 = w1 - eta * dw1"
      ],
      "metadata": {
        "id": "95q92obLoLha"
      },
      "execution_count": null,
      "outputs": []
    }
  ]
}