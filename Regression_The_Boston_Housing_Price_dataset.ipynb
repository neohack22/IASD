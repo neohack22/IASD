{
  "nbformat": 4,
  "nbformat_minor": 0,
  "metadata": {
    "colab": {
      "name": "Regression: The Boston Housing Price dataset.ipynb",
      "provenance": [],
      "include_colab_link": true
    },
    "kernelspec": {
      "name": "python3",
      "display_name": "Python 3"
    }
  },
  "cells": [
    {
      "cell_type": "markdown",
      "metadata": {
        "id": "view-in-github",
        "colab_type": "text"
      },
      "source": [
        "<a href=\"https://colab.research.google.com/github/neohack22/IASD/blob/DeepLearning/Regression_The_Boston_Housing_Price_dataset.ipynb\" target=\"_parent\"><img src=\"https://colab.research.google.com/assets/colab-badge.svg\" alt=\"Open In Colab\"/></a>"
      ]
    },
    {
      "cell_type": "markdown",
      "metadata": {
        "id": "hEcFe_L4Zu31",
        "colab_type": "text"
      },
      "source": [
        " Predict the median price of homes in a given Boston suburb in the mid-1970s, given data points\n",
        "about the suburb at the time, such as the crime rate, the local property tax rate, and so on. The\n",
        "dataset you’ll use has an interesting difference from the two previous examples. It has relatively\n",
        "few data points: only 506, split between 404 training samples and 102 test samples. And each\n",
        "feature in the input data (for example, the crime rate) has a different scale. For instance, some\n",
        "values are proportions, which take values between 0 and 1; others take values between 1 and\n",
        "12, others between 0 and 100, and so on."
      ]
    },
    {
      "cell_type": "code",
      "metadata": {
        "id": "Mo_N4jPDZkVI",
        "colab_type": "code",
        "outputId": "2ee7f067-bc4a-4822-d9ca-d29e9358115c",
        "colab": {
          "base_uri": "https://localhost:8080/",
          "height": 67
        }
      },
      "source": [
        "from keras.datasets import boston_housing\n",
        "(train_data, train_targets), (test_data, test_targets) = \\\n",
        "boston_housing.load_data()"
      ],
      "execution_count": 0,
      "outputs": [
        {
          "output_type": "stream",
          "text": [
            "Using TensorFlow backend.\n"
          ],
          "name": "stderr"
        },
        {
          "output_type": "stream",
          "text": [
            "Downloading data from https://s3.amazonaws.com/keras-datasets/boston_housing.npz\n",
            "57344/57026 [==============================] - 0s 2us/step\n"
          ],
          "name": "stdout"
        }
      ]
    },
    {
      "cell_type": "markdown",
      "metadata": {
        "id": "pUl6AHRKaMZU",
        "colab_type": "text"
      },
      "source": [
        "# Train a small dense network on the Boston Housing data"
      ]
    },
    {
      "cell_type": "markdown",
      "metadata": {
        "id": "Ru1jhX47aQB1",
        "colab_type": "text"
      },
      "source": [
        "## Encode the data"
      ]
    },
    {
      "cell_type": "markdown",
      "metadata": {
        "id": "H2JN5r2Faasd",
        "colab_type": "text"
      },
      "source": [
        "### Preparing the data"
      ]
    },
    {
      "cell_type": "markdown",
      "metadata": {
        "id": "xZ41wLYyahmW",
        "colab_type": "text"
      },
      "source": [
        "It would be problematic to feed into a neural network values that all take wildly different ranges. </br>The network might\n",
        "be able to automatically adapt to such heterogeneous data, but it would definitely make learning more difficult. </br>A\n",
        "widespread best practice to deal with such data is to do feature-wise normalization: for each feature in the input\n",
        "data (a column in the input data matrix), you subtract the mean of the feature and divide by the standard deviation,\n",
        "so that the feature is centered around 0 and has a unit standard deviation. </br>This is easily done in Numpy."
      ]
    },
    {
      "cell_type": "markdown",
      "metadata": {
        "id": "h9naF7ZUbKpM",
        "colab_type": "text"
      },
      "source": [
        "#### SyntaxError: invalid syntax"
      ]
    },
    {
      "cell_type": "code",
      "metadata": {
        "id": "FHIGqGpoaJga",
        "colab_type": "code",
        "outputId": "fe182c7d-17e0-46ca-bc22-83bfc2ef8c84",
        "colab": {
          "base_uri": "https://localhost:8080/",
          "height": 128
        }
      },
      "source": [
        "mean = train_datatrain_data -= mean\n",
        "std = train_data.std(axis=0)\n",
        "train_data /= std\n",
        "test_data -= mean\n",
        "test_data /= std"
      ],
      "execution_count": 0,
      "outputs": [
        {
          "output_type": "error",
          "ename": "SyntaxError",
          "evalue": "ignored",
          "traceback": [
            "\u001b[0;36m  File \u001b[0;32m\"<ipython-input-2-8a895bfe6c25>\"\u001b[0;36m, line \u001b[0;32m1\u001b[0m\n\u001b[0;31m    mean = train_datatrain_data -= mean\u001b[0m\n\u001b[0m                                 ^\u001b[0m\n\u001b[0;31mSyntaxError\u001b[0m\u001b[0;31m:\u001b[0m invalid syntax\n"
          ]
        }
      ]
    },
    {
      "cell_type": "markdown",
      "metadata": {
        "id": "LN4fw_nDbOiT",
        "colab_type": "text"
      },
      "source": [
        "#### Preparing the data 1.1"
      ]
    },
    {
      "cell_type": "code",
      "metadata": {
        "id": "Xzckz4pjbDho",
        "colab_type": "code",
        "colab": {}
      },
      "source": [
        "mean = train_data.mean(axis=0)\n",
        "train_data -= mean\n",
        "std = train_data.std(axis=0)\n",
        "train_data /= std\n",
        "test_data -= mean\n",
        "test_data /= std"
      ],
      "execution_count": 0,
      "outputs": []
    },
    {
      "cell_type": "markdown",
      "metadata": {
        "id": "IJvW3z8EbrIc",
        "colab_type": "text"
      },
      "source": [
        "### Building your network"
      ]
    },
    {
      "cell_type": "markdown",
      "metadata": {
        "id": "4YRkEkrLbutl",
        "colab_type": "text"
      },
      "source": [
        "Because so few samples are available, you’ll use a very small network with two hidden layers, each\n",
        "with 64 units. </br>In general, the less training data you have, the worse overfitting will be, and using a\n",
        "small network is one way to mitigate overfitting."
      ]
    },
    {
      "cell_type": "code",
      "metadata": {
        "id": "tHxEwYqIbj31",
        "colab_type": "code",
        "colab": {}
      },
      "source": [
        "from keras import models\n",
        "from keras import layers"
      ],
      "execution_count": 0,
      "outputs": []
    },
    {
      "cell_type": "code",
      "metadata": {
        "id": "32QlTYUYcEK0",
        "colab_type": "code",
        "colab": {}
      },
      "source": [
        "def build_model():\n",
        "  model = models.Sequential()\n",
        "  model.add(layers.Dense(64, activation='relu', \\\n",
        "                         input_shape=(train_data.shape[1],)))\n",
        "  model.add(layers.Dense(64, activation='relu'))\n",
        "  model.add(layers.Dense(1))\n",
        "  model.compile(optimizer='rmsprop', loss='mse', metrics=['mae'])\n",
        "  return model"
      ],
      "execution_count": 0,
      "outputs": []
    },
    {
      "cell_type": "markdown",
      "metadata": {
        "id": "bA1mJg6Hc3-a",
        "colab_type": "text"
      },
      "source": [
        "### 3-fold cross-validation"
      ]
    },
    {
      "cell_type": "code",
      "metadata": {
        "id": "Uwu62Uz9cx_r",
        "colab_type": "code",
        "colab": {}
      },
      "source": [
        "import numpy as np"
      ],
      "execution_count": 0,
      "outputs": []
    },
    {
      "cell_type": "markdown",
      "metadata": {
        "id": "mvx5jCKffqIV",
        "colab_type": "text"
      },
      "source": [
        "#### NameError: name 'all_score' is not defined"
      ]
    },
    {
      "cell_type": "code",
      "metadata": {
        "id": "KRtedOE4c7qh",
        "colab_type": "code",
        "outputId": "de332633-1f3a-4cf7-b887-ef72a4c4e310",
        "colab": {
          "base_uri": "https://localhost:8080/",
          "height": 686
        }
      },
      "source": [
        "k = 4\n",
        "num_val_samples = len(train_data) // k\n",
        "num_epochs = 100\n",
        "all_scores = []\n",
        "for i in range(k):\n",
        "  print('processing fold #', i)\n",
        "val_data = train_data[i * num_val_samples: (i + 1) * num_val_samples]\n",
        "val_targets = train_targets[i * num_val_samples: (i + 1) * num_val_samples]\n",
        "partial_train_data = \\\n",
        "np.concatenate([train_data[:i * num_val_samples], \\\n",
        "                train_data[(i + 1) * num_val_samples:]], axis=0)\n",
        "partial_train_targets = \\\n",
        "np.concatenate([train_targets[:i * num_val_samples], \\\n",
        "                train_targets[(i + 1) * num_val_samples:]], axis=0)\n",
        "model = build_model()\n",
        "model.fit(partial_train_data, partial_train_targets, \\\n",
        "          epochs=num_epochs, batch_size=1, verbose=0)\n",
        "val_mse, val_mae = model.evaluate(val_data, val_targets, verbose=0)\n",
        "all_score.append(val_mae)"
      ],
      "execution_count": 0,
      "outputs": [
        {
          "output_type": "stream",
          "text": [
            "processing fold # 0\n",
            "processing fold # 1\n",
            "processing fold # 2\n",
            "processing fold # 3\n",
            "WARNING:tensorflow:From /usr/local/lib/python3.6/dist-packages/keras/backend/tensorflow_backend.py:66: The name tf.get_default_graph is deprecated. Please use tf.compat.v1.get_default_graph instead.\n",
            "\n",
            "WARNING:tensorflow:From /usr/local/lib/python3.6/dist-packages/keras/backend/tensorflow_backend.py:541: The name tf.placeholder is deprecated. Please use tf.compat.v1.placeholder instead.\n",
            "\n",
            "WARNING:tensorflow:From /usr/local/lib/python3.6/dist-packages/keras/backend/tensorflow_backend.py:4432: The name tf.random_uniform is deprecated. Please use tf.random.uniform instead.\n",
            "\n",
            "WARNING:tensorflow:From /usr/local/lib/python3.6/dist-packages/keras/optimizers.py:793: The name tf.train.Optimizer is deprecated. Please use tf.compat.v1.train.Optimizer instead.\n",
            "\n",
            "WARNING:tensorflow:From /usr/local/lib/python3.6/dist-packages/keras/backend/tensorflow_backend.py:1033: The name tf.assign_add is deprecated. Please use tf.compat.v1.assign_add instead.\n",
            "\n",
            "WARNING:tensorflow:From /usr/local/lib/python3.6/dist-packages/keras/backend/tensorflow_backend.py:1020: The name tf.assign is deprecated. Please use tf.compat.v1.assign instead.\n",
            "\n",
            "WARNING:tensorflow:From /usr/local/lib/python3.6/dist-packages/keras/backend/tensorflow_backend.py:3005: The name tf.Session is deprecated. Please use tf.compat.v1.Session instead.\n",
            "\n",
            "WARNING:tensorflow:From /usr/local/lib/python3.6/dist-packages/keras/backend/tensorflow_backend.py:190: The name tf.get_default_session is deprecated. Please use tf.compat.v1.get_default_session instead.\n",
            "\n",
            "WARNING:tensorflow:From /usr/local/lib/python3.6/dist-packages/keras/backend/tensorflow_backend.py:197: The name tf.ConfigProto is deprecated. Please use tf.compat.v1.ConfigProto instead.\n",
            "\n",
            "WARNING:tensorflow:From /usr/local/lib/python3.6/dist-packages/keras/backend/tensorflow_backend.py:207: The name tf.global_variables is deprecated. Please use tf.compat.v1.global_variables instead.\n",
            "\n",
            "WARNING:tensorflow:From /usr/local/lib/python3.6/dist-packages/keras/backend/tensorflow_backend.py:216: The name tf.is_variable_initialized is deprecated. Please use tf.compat.v1.is_variable_initialized instead.\n",
            "\n",
            "WARNING:tensorflow:From /usr/local/lib/python3.6/dist-packages/keras/backend/tensorflow_backend.py:223: The name tf.variables_initializer is deprecated. Please use tf.compat.v1.variables_initializer instead.\n",
            "\n"
          ],
          "name": "stdout"
        },
        {
          "output_type": "error",
          "ename": "NameError",
          "evalue": "ignored",
          "traceback": [
            "\u001b[0;31m---------------------------------------------------------------------------\u001b[0m",
            "\u001b[0;31mNameError\u001b[0m                                 Traceback (most recent call last)",
            "\u001b[0;32m<ipython-input-7-5329a5763962>\u001b[0m in \u001b[0;36m<module>\u001b[0;34m()\u001b[0m\n\u001b[1;32m     12\u001b[0m \u001b[0mmodel\u001b[0m\u001b[0;34m.\u001b[0m\u001b[0mfit\u001b[0m\u001b[0;34m(\u001b[0m\u001b[0mpartial_train_data\u001b[0m\u001b[0;34m,\u001b[0m \u001b[0mpartial_train_targets\u001b[0m\u001b[0;34m,\u001b[0m           \u001b[0mepochs\u001b[0m\u001b[0;34m=\u001b[0m\u001b[0mnum_epochs\u001b[0m\u001b[0;34m,\u001b[0m \u001b[0mbatch_size\u001b[0m\u001b[0;34m=\u001b[0m\u001b[0;36m1\u001b[0m\u001b[0;34m,\u001b[0m \u001b[0mverbose\u001b[0m\u001b[0;34m=\u001b[0m\u001b[0;36m0\u001b[0m\u001b[0;34m)\u001b[0m\u001b[0;34m\u001b[0m\u001b[0;34m\u001b[0m\u001b[0m\n\u001b[1;32m     13\u001b[0m \u001b[0mval_mse\u001b[0m\u001b[0;34m,\u001b[0m \u001b[0mval_mae\u001b[0m \u001b[0;34m=\u001b[0m \u001b[0mmodel\u001b[0m\u001b[0;34m.\u001b[0m\u001b[0mevaluate\u001b[0m\u001b[0;34m(\u001b[0m\u001b[0mval_data\u001b[0m\u001b[0;34m,\u001b[0m \u001b[0mval_targets\u001b[0m\u001b[0;34m,\u001b[0m \u001b[0mverbose\u001b[0m\u001b[0;34m=\u001b[0m\u001b[0;36m0\u001b[0m\u001b[0;34m)\u001b[0m\u001b[0;34m\u001b[0m\u001b[0;34m\u001b[0m\u001b[0m\n\u001b[0;32m---> 14\u001b[0;31m \u001b[0mall_score\u001b[0m\u001b[0;34m.\u001b[0m\u001b[0mappend\u001b[0m\u001b[0;34m(\u001b[0m\u001b[0mval_mae\u001b[0m\u001b[0;34m)\u001b[0m\u001b[0;34m\u001b[0m\u001b[0;34m\u001b[0m\u001b[0m\n\u001b[0m",
            "\u001b[0;31mNameError\u001b[0m: name 'all_score' is not defined"
          ]
        }
      ]
    },
    {
      "cell_type": "code",
      "metadata": {
        "id": "zSc-ljtgfmim",
        "colab_type": "code",
        "colab": {}
      },
      "source": [
        "k = 4\n",
        "num_val_samples = len(train_data) // k\n",
        "num_epochs = 100\n",
        "all_scores = []\n",
        "for i in range(k):\n",
        "  print('processing fold #', i)\n",
        "val_data = train_data[i * num_val_samples: (i + 1) * num_val_samples]\n",
        "val_targets = train_targets[i * num_val_samples: (i + 1) * num_val_samples]\n",
        "partial_train_data = \\\n",
        "np.concatenate([train_data[:i * num_val_samples], \\\n",
        "                train_data[(i + 1) * num_val_samples:]], axis=0)\n",
        "partial_train_targets = \\\n",
        "np.concatenate([train_targets[:i * num_val_samples], \\\n",
        "                train_targets[(i + 1) * num_val_samples:]], axis=0)\n",
        "model = build_model()\n",
        "model.fit(partial_train_data, partial_train_targets, \\\n",
        "          epochs=num_epochs, batch_size=1, verbose=0)\n",
        "val_mse, val_mae = model.evaluate(val_data, val_targets, verbose=0)\n",
        "all_score.append(val_mae)"
      ],
      "execution_count": 0,
      "outputs": []
    },
    {
      "cell_type": "markdown",
      "metadata": {
        "id": "6LITNzewftv7",
        "colab_type": "text"
      },
      "source": [
        "#### 3-fold cross-validation 1.1"
      ]
    },
    {
      "cell_type": "code",
      "metadata": {
        "id": "EfDu0QmWfwUG",
        "colab_type": "code",
        "outputId": "1b830c6d-6a0d-486b-ff6d-7930dba8d958",
        "colab": {
          "base_uri": "https://localhost:8080/",
          "height": 84
        }
      },
      "source": [
        "num_epochs = 100\n",
        "all_scores = []\n",
        "for i in range(k):\n",
        "  print('processing fold #', i)\n",
        "  val_data = train_data[i * num_val_samples: (i + 1) * num_val_samples]\n",
        "  val_targets = train_targets[i * num_val_samples: (i + 1) * num_val_samples]\n",
        "  partial_train_data =\\\n",
        "  np.concatenate([train_data[:i * num_val_samples], \\\n",
        "                  train_data[(i + 1) * num_val_samples:]], axis=0)\n",
        "  partial_train_targets = \\\n",
        "  np.concatenate([train_targets[:i * num_val_samples],\\\n",
        "                  train_targets[(i + 1) * num_val_samples:]], axis=0)\n",
        "  model = build_model()\n",
        "  model.fit(partial_train_data, partial_train_targets, \\\n",
        "            epochs=num_epochs, batch_size=1, verbose=0)\n",
        "  val_mse, val_mae = model.evaluate(val_data, val_targets, verbose=0)\n",
        "  all_scores.append(val_mae)"
      ],
      "execution_count": 0,
      "outputs": [
        {
          "output_type": "stream",
          "text": [
            "processing fold # 0\n",
            "processing fold # 1\n",
            "processing fold # 2\n",
            "processing fold # 3\n"
          ],
          "name": "stdout"
        }
      ]
    },
    {
      "cell_type": "code",
      "metadata": {
        "id": "9QY-L1GRfabJ",
        "colab_type": "code",
        "outputId": "c09843f0-c31b-4c75-c516-0ef4ad027d76",
        "colab": {
          "base_uri": "https://localhost:8080/",
          "height": 84
        }
      },
      "source": [
        "num_epochs_1 = 500\n",
        "all_mae_histories = []\n",
        "for i in range(k):\n",
        "  print('processing fold #', i)\n",
        "  val_data_1 = train_data[i * num_val_samples: (i + 1) * num_val_samples]\n",
        "  val_targets_1 = train_targets[i * num_val_samples: (i + 1) * num_val_samples]\n",
        "  partial_train_data_1 = \\\n",
        "  np.concatenate([train_data[:i * num_val_samples],\\\n",
        "                  train_data[(i + 1) * num_val_samples:]], axis=0)\n",
        "  partial_train_targets_1 = \\\n",
        "  np.concatenate([train_targets[:i * num_val_samples],\\\n",
        "                  train_targets[(i + 1) * num_val_samples:]], axis=0)\n",
        "  model_1 = build_model()\n",
        "  history_1 = model.fit(partial_train_data_1, partial_train_targets_1,\\\n",
        "                        validation_data=(val_data_1, val_targets_1),\\\n",
        "                        epochs=num_epochs, batch_size=1, verbose=0)\n",
        "  mae_history = history_1.history['val_mean_absolute_error']\n",
        "  all_mae_histories.append(mae_history)"
      ],
      "execution_count": 0,
      "outputs": [
        {
          "output_type": "stream",
          "text": [
            "processing fold # 0\n",
            "processing fold # 1\n",
            "processing fold # 2\n",
            "processing fold # 3\n"
          ],
          "name": "stdout"
        }
      ]
    },
    {
      "cell_type": "code",
      "metadata": {
        "id": "O_h5LnY8mndq",
        "colab_type": "code",
        "colab": {}
      },
      "source": [
        "average_mae_history = [\\\n",
        "                       np.mean([x[i] for x in all_mae_histories]) for i in \\\n",
        "                       range(num_epochs)]"
      ],
      "execution_count": 0,
      "outputs": []
    },
    {
      "cell_type": "code",
      "metadata": {
        "id": "rFcPC7qrm5qR",
        "colab_type": "code",
        "colab": {}
      },
      "source": [
        "import matplotlib.pyplot as plt"
      ],
      "execution_count": 0,
      "outputs": []
    },
    {
      "cell_type": "code",
      "metadata": {
        "id": "dG-fq74Sm84y",
        "colab_type": "code",
        "outputId": "a13fbabf-8a16-49a8-cc34-67c019e6e363",
        "colab": {
          "base_uri": "https://localhost:8080/",
          "height": 283
        }
      },
      "source": [
        "plt.plot(range(1, len(average_mae_history) + 1),\\\n",
        "               average_mae_history)\n",
        "plt.xlabel('Epochs')\n",
        "plt.ylabel('Validation MAE')\n",
        "plt.show()"
      ],
      "execution_count": 0,
      "outputs": [
        {
          "output_type": "display_data",
          "data": {
            "image/png": "[encoded data removed]",
            "text/plain": [
              "<Figure size 432x288 with 1 Axes>"
            ]
          },
          "metadata": {
            "tags": []
          }
        }
      ]
    },
    {
      "cell_type": "markdown",
      "metadata": {
        "id": "sTyNiuxaneoQ",
        "colab_type": "text"
      },
      "source": [
        "Once you’re finished tuning other parameters of the model (in addition to the\n",
        "number of epochs, you could also adjust the size of the hidden layers), you can train\n",
        "a final production model on all of the training data, with the best parameters, and\n",
        "then look at its performance on the test data."
      ]
    },
    {
      "cell_type": "code",
      "metadata": {
        "id": "cHXwFhBXnZvq",
        "colab_type": "code",
        "outputId": "76d3ae8d-8128-4979-ad27-bedb4e79724a",
        "colab": {
          "base_uri": "https://localhost:8080/",
          "height": 34
        }
      },
      "source": [
        "model_2 = build_model()\n",
        "\n",
        "model_2.fit(train_data, train_targets,\\\n",
        "            epochs=80, batch_size=16, verbose=0)\n",
        "test_mse_score, test_mae_score = model.evaluate(test_data, test_targets)"
      ],
      "execution_count": 0,
      "outputs": [
        {
          "output_type": "stream",
          "text": [
            "102/102 [==============================] - 0s 65us/step\n"
          ],
          "name": "stdout"
        }
      ]
    },
    {
      "cell_type": "code",
      "metadata": {
        "id": "gGe6m0y-oHlv",
        "colab_type": "code",
        "colab": {}
      },
      "source": [
        ""
      ],
      "execution_count": 0,
      "outputs": []
    }
  ]
}