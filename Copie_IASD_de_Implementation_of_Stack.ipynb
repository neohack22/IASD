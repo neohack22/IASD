{
  "nbformat": 4,
  "nbformat_minor": 0,
  "metadata": {
    "kernelspec": {
      "display_name": "Python 2",
      "language": "python",
      "name": "python2"
    },
    "language_info": {
      "codemirror_mode": {
        "name": "ipython",
        "version": 2
      },
      "file_extension": ".py",
      "mimetype": "text/x-python",
      "name": "python",
      "nbconvert_exporter": "python",
      "pygments_lexer": "ipython2",
      "version": "2.7.10"
    },
    "colab": {
      "name": "Copie IASD de Implementation of Stack.ipynb",
      "provenance": [],
      "include_colab_link": true
    }
  },
  "cells": [
    {
      "cell_type": "markdown",
      "metadata": {
        "id": "view-in-github",
        "colab_type": "text"
      },
      "source": [
        "<a href=\"https://colab.research.google.com/github/neohack22/IASD/blob/Algorithmique/Copie_IASD_de_Implementation_of_Stack.ipynb\" target=\"_parent\"><img src=\"https://colab.research.google.com/assets/colab-badge.svg\" alt=\"Open In Colab\"/></a>"
      ]
    },
    {
      "cell_type": "markdown",
      "metadata": {
        "id": "eMbchHJrhz84"
      },
      "source": [
        "# Implementation of Stack\n",
        "\n",
        "## Stack Attributes and Methods\n",
        "\n",
        "Before we implement our own Stack class, let's review the properties and methods of a Stack.\n",
        "\n",
        "The stack abstract data type is defined by the following structure and operations. A stack is structured, as described above, as an ordered collection of items where items are added to and removed from the end called the “top.” Stacks are ordered LIFO. The stack operations are given below.\n",
        "\n",
        "* Stack() creates a new stack that is empty. It needs no parameters and returns an empty stack.\n",
        "* push(item) adds a new item to the top of the stack. It needs the item and returns nothing.\n",
        "* pop() removes the top item from the stack. It needs no parameters and returns the item. The stack is modified.\n",
        "* peek() returns the top item from the stack but does not remove it. It needs no parameters. The stack is not modified.\n",
        "* isEmpty() tests to see whether the stack is empty. It needs no parameters and returns a boolean value.\n",
        "* size() returns the number of items on the stack. It needs no parameters and returns an integer."
      ]
    },
    {
      "cell_type": "markdown",
      "metadata": {
        "id": "j_dUvUZFhz8_"
      },
      "source": [
        "____\n",
        "\n",
        "## Stack Implementation"
      ]
    },
    {
      "cell_type": "code",
      "metadata": {
        "id": "a1FW2isshz9A"
      },
      "source": [
        "class Stack:\n",
        "    \n",
        "    \n",
        "    def __init__(self):\n",
        "        self.items = []\n",
        "\n",
        "    def isEmpty(self):\n",
        "        return self.items == []\n",
        "\n",
        "    def push(self, item):\n",
        "        self.items.append(item)\n",
        "\n",
        "    def pop(self):\n",
        "        return self.items.pop()\n",
        "\n",
        "    def peek(self):\n",
        "        return self.items[len(self.items)-1]\n",
        "\n",
        "    def size(self):\n",
        "        return len(self.items)"
      ],
      "execution_count": null,
      "outputs": []
    },
    {
      "cell_type": "code",
      "metadata": {
        "id": "jjS44MTQiLcr"
      },
      "source": [
        "class Stack:\n",
        "\n",
        "  def __init__(self):\n",
        "    self.items = []\n",
        "\n",
        "  def isEmpty(self):\n",
        "    return self.items == []\n",
        "\n",
        "  def push(self, item):\n",
        "    self.items.append(item)\n",
        "\n",
        "  def pop(self):\n",
        "    return self.items.pop()\n",
        "\n",
        "  def peek(self):\n",
        "    return self.items[len(self.items)-1]\n",
        "\n",
        "  def size(self):\n",
        "    return len(self.items)"
      ],
      "execution_count": null,
      "outputs": []
    },
    {
      "cell_type": "markdown",
      "metadata": {
        "id": "b8r5qmxjhz9A"
      },
      "source": [
        "Let's try it out!"
      ]
    },
    {
      "cell_type": "code",
      "metadata": {
        "collapsed": true,
        "id": "QRvYzyFQhz9B"
      },
      "source": [
        "s = Stack()"
      ],
      "execution_count": null,
      "outputs": []
    },
    {
      "cell_type": "code",
      "metadata": {
        "id": "SyRiza7jjFHN"
      },
      "source": [
        "s = Stack()"
      ],
      "execution_count": null,
      "outputs": []
    },
    {
      "cell_type": "code",
      "metadata": {
        "id": "-XugjM41hz9B",
        "outputId": "60b893b4-57c9-4b07-cae7-f3a4f8206b90"
      },
      "source": [
        "print s.isEmpty()"
      ],
      "execution_count": null,
      "outputs": [
        {
          "output_type": "stream",
          "text": [
            "True\n"
          ],
          "name": "stdout"
        }
      ]
    },
    {
      "cell_type": "code",
      "metadata": {
        "id": "UV5dBJI2jH5_",
        "colab": {
          "base_uri": "https://localhost:8080/"
        },
        "outputId": "0ff813af-63ab-4a07-fac7-0d26938cd8e5"
      },
      "source": [
        "print s.isEmpty()"
      ],
      "execution_count": null,
      "outputs": [
        {
          "output_type": "stream",
          "text": [
            "True\n"
          ],
          "name": "stdout"
        }
      ]
    },
    {
      "cell_type": "code",
      "metadata": {
        "collapsed": true,
        "id": "szTVHr50hz9C"
      },
      "source": [
        "s.push(1)"
      ],
      "execution_count": null,
      "outputs": []
    },
    {
      "cell_type": "code",
      "metadata": {
        "id": "qFthB5k3jLsv"
      },
      "source": [
        "s.push(1)"
      ],
      "execution_count": null,
      "outputs": []
    },
    {
      "cell_type": "code",
      "metadata": {
        "collapsed": true,
        "id": "eCU15ALEhz9C"
      },
      "source": [
        "s.push('two')"
      ],
      "execution_count": null,
      "outputs": []
    },
    {
      "cell_type": "code",
      "metadata": {
        "id": "ONPvVG3cjOJv"
      },
      "source": [
        "s.push('two')"
      ],
      "execution_count": null,
      "outputs": []
    },
    {
      "cell_type": "code",
      "metadata": {
        "id": "vTUwPRlghz9D",
        "outputId": "5082ccbc-e9f0-4303-8db9-55ffd79cb323"
      },
      "source": [
        "s.peek()"
      ],
      "execution_count": null,
      "outputs": [
        {
          "output_type": "execute_result",
          "data": {
            "text/plain": [
              "'two'"
            ]
          },
          "metadata": {
            "tags": []
          },
          "execution_count": 7
        }
      ]
    },
    {
      "cell_type": "code",
      "metadata": {
        "id": "W72jzsVgjRu6",
        "colab": {
          "base_uri": "https://localhost:8080/",
          "height": 35
        },
        "outputId": "d685f232-5905-45ce-f7e2-3929864aebc7"
      },
      "source": [
        "s.peek()"
      ],
      "execution_count": null,
      "outputs": [
        {
          "output_type": "execute_result",
          "data": {
            "application/vnd.google.colaboratory.intrinsic+json": {
              "type": "string"
            },
            "text/plain": [
              "'two'"
            ]
          },
          "metadata": {
            "tags": []
          },
          "execution_count": 17
        }
      ]
    },
    {
      "cell_type": "code",
      "metadata": {
        "collapsed": true,
        "id": "gcRkSZEuhz9D"
      },
      "source": [
        "s.push(True)"
      ],
      "execution_count": null,
      "outputs": []
    },
    {
      "cell_type": "code",
      "metadata": {
        "id": "NSqQNcnBjrOn"
      },
      "source": [
        "s.push(True)"
      ],
      "execution_count": null,
      "outputs": []
    },
    {
      "cell_type": "code",
      "metadata": {
        "id": "AMBFS793hz9D",
        "outputId": "af025577-7971-426e-dd72-b01be702297e"
      },
      "source": [
        "s.size()"
      ],
      "execution_count": null,
      "outputs": [
        {
          "output_type": "execute_result",
          "data": {
            "text/plain": [
              "3"
            ]
          },
          "metadata": {
            "tags": []
          },
          "execution_count": 9
        }
      ]
    },
    {
      "cell_type": "code",
      "metadata": {
        "id": "EV9rjc0OjtUt",
        "colab": {
          "base_uri": "https://localhost:8080/"
        },
        "outputId": "02027da8-0720-41fa-ec4e-7def7b98687a"
      },
      "source": [
        "s.size()"
      ],
      "execution_count": null,
      "outputs": [
        {
          "output_type": "execute_result",
          "data": {
            "text/plain": [
              "3"
            ]
          },
          "metadata": {
            "tags": []
          },
          "execution_count": 19
        }
      ]
    },
    {
      "cell_type": "code",
      "metadata": {
        "id": "4r8YoDEDhz9E",
        "outputId": "5ec43a7d-0924-4f28-dd3f-78bb8f28aa9a"
      },
      "source": [
        "s.isEmpty()"
      ],
      "execution_count": null,
      "outputs": [
        {
          "output_type": "execute_result",
          "data": {
            "text/plain": [
              "False"
            ]
          },
          "metadata": {
            "tags": []
          },
          "execution_count": 10
        }
      ]
    },
    {
      "cell_type": "code",
      "metadata": {
        "id": "gP9LhdrCjvOa",
        "colab": {
          "base_uri": "https://localhost:8080/"
        },
        "outputId": "b9aaa95f-a281-418c-abff-bc4753f83895"
      },
      "source": [
        "s.isEmpty()"
      ],
      "execution_count": null,
      "outputs": [
        {
          "output_type": "execute_result",
          "data": {
            "text/plain": [
              "False"
            ]
          },
          "metadata": {
            "tags": []
          },
          "execution_count": 20
        }
      ]
    },
    {
      "cell_type": "code",
      "metadata": {
        "id": "uZvhsYhphz9E",
        "outputId": "e7614f14-56e7-468d-f470-8130c593bdbe"
      },
      "source": [
        "s.pop()"
      ],
      "execution_count": null,
      "outputs": [
        {
          "output_type": "execute_result",
          "data": {
            "text/plain": [
              "True"
            ]
          },
          "metadata": {
            "tags": []
          },
          "execution_count": 11
        }
      ]
    },
    {
      "cell_type": "code",
      "metadata": {
        "id": "hgAwam_WjxsM",
        "colab": {
          "base_uri": "https://localhost:8080/"
        },
        "outputId": "8185d7df-2d8f-402f-f7a0-1677796fc536"
      },
      "source": [
        "s.pop()"
      ],
      "execution_count": null,
      "outputs": [
        {
          "output_type": "execute_result",
          "data": {
            "text/plain": [
              "True"
            ]
          },
          "metadata": {
            "tags": []
          },
          "execution_count": 21
        }
      ]
    },
    {
      "cell_type": "code",
      "metadata": {
        "id": "yga2BRXNhz9F",
        "outputId": "6fb395a7-99d3-425f-812e-e1c285a0cae3"
      },
      "source": [
        "s.pop()"
      ],
      "execution_count": null,
      "outputs": [
        {
          "output_type": "stream",
          "text": [
            "two\n"
          ],
          "name": "stdout"
        }
      ]
    },
    {
      "cell_type": "code",
      "metadata": {
        "id": "o3ChijTujzfX",
        "colab": {
          "base_uri": "https://localhost:8080/",
          "height": 35
        },
        "outputId": "2ee7e4d5-455e-488d-d839-37c3492dad98"
      },
      "source": [
        "s.pop()"
      ],
      "execution_count": null,
      "outputs": [
        {
          "output_type": "execute_result",
          "data": {
            "application/vnd.google.colaboratory.intrinsic+json": {
              "type": "string"
            },
            "text/plain": [
              "'two'"
            ]
          },
          "metadata": {
            "tags": []
          },
          "execution_count": 22
        }
      ]
    },
    {
      "cell_type": "code",
      "metadata": {
        "id": "YZ1ddsyRhz9F",
        "outputId": "be52b057-b0ba-4113-94eb-8152f734d076"
      },
      "source": [
        "s.size()"
      ],
      "execution_count": null,
      "outputs": [
        {
          "output_type": "execute_result",
          "data": {
            "text/plain": [
              "1"
            ]
          },
          "metadata": {
            "tags": []
          },
          "execution_count": 13
        }
      ]
    },
    {
      "cell_type": "code",
      "metadata": {
        "id": "1foSAZKxj2Ax",
        "colab": {
          "base_uri": "https://localhost:8080/"
        },
        "outputId": "063c1893-7c78-4505-efba-fb21c1c66b0a"
      },
      "source": [
        "s.size()"
      ],
      "execution_count": null,
      "outputs": [
        {
          "output_type": "execute_result",
          "data": {
            "text/plain": [
              "1"
            ]
          },
          "metadata": {
            "tags": []
          },
          "execution_count": 23
        }
      ]
    },
    {
      "cell_type": "code",
      "metadata": {
        "id": "HAeyctAjhz9F",
        "outputId": "8939c1e5-961d-4077-ad32-864cf8db167c"
      },
      "source": [
        "s.pop()"
      ],
      "execution_count": null,
      "outputs": [
        {
          "output_type": "execute_result",
          "data": {
            "text/plain": [
              "1"
            ]
          },
          "metadata": {
            "tags": []
          },
          "execution_count": 14
        }
      ]
    },
    {
      "cell_type": "code",
      "metadata": {
        "id": "dDEsn4iGj3t9",
        "colab": {
          "base_uri": "https://localhost:8080/"
        },
        "outputId": "dd003d24-c7d0-4472-8490-69156f9296d3"
      },
      "source": [
        "s.pop()"
      ],
      "execution_count": null,
      "outputs": [
        {
          "output_type": "execute_result",
          "data": {
            "text/plain": [
              "1"
            ]
          },
          "metadata": {
            "tags": []
          },
          "execution_count": 24
        }
      ]
    },
    {
      "cell_type": "code",
      "metadata": {
        "id": "s1Xl5yKyhz9G",
        "outputId": "73eac8f9-90be-4cb7-dadb-f3bc52e6d649"
      },
      "source": [
        "s.isEmpty()"
      ],
      "execution_count": null,
      "outputs": [
        {
          "output_type": "execute_result",
          "data": {
            "text/plain": [
              "True"
            ]
          },
          "metadata": {
            "tags": []
          },
          "execution_count": 15
        }
      ]
    },
    {
      "cell_type": "code",
      "metadata": {
        "id": "HWeJgLG4j5lq",
        "colab": {
          "base_uri": "https://localhost:8080/"
        },
        "outputId": "79f738fb-7bf6-42fa-f0f5-4d129cf5c00c"
      },
      "source": [
        "s.isEmpty()"
      ],
      "execution_count": null,
      "outputs": [
        {
          "output_type": "execute_result",
          "data": {
            "text/plain": [
              "True"
            ]
          },
          "metadata": {
            "tags": []
          },
          "execution_count": 25
        }
      ]
    },
    {
      "cell_type": "markdown",
      "metadata": {
        "id": "Oi8EgREAhz9G"
      },
      "source": [
        "## Good Job!"
      ]
    },
    {
      "cell_type": "code",
      "metadata": {
        "id": "o5QWjmhSj8Aq"
      },
      "source": [
        "class Stack(object):\n",
        "\n",
        "  def __init__(self):\n",
        "    self.items = []\n",
        "\n",
        "  def isEmpty(self):\n",
        "    return self.items == []\n",
        "\n",
        "  def push(self,item):\n",
        "    self.items.append(item)\n",
        "\n",
        "  def pop(self):\n",
        "    return self.items.pop()\n",
        "\n",
        "  def peek(self):\n",
        "    return self.items[len(self.items)-1]\n",
        "\n",
        "  def size(self):\n",
        "    return len(self.items)"
      ],
      "execution_count": null,
      "outputs": []
    },
    {
      "cell_type": "code",
      "metadata": {
        "id": "QzATktYlphi-"
      },
      "source": [
        "s = Stack()"
      ],
      "execution_count": null,
      "outputs": []
    },
    {
      "cell_type": "code",
      "metadata": {
        "id": "uvG5Bonnpjsa",
        "colab": {
          "base_uri": "https://localhost:8080/"
        },
        "outputId": "2dfac726-9bba-4cd8-ae2e-b93c3bb5c869"
      },
      "source": [
        "print s.isEmpty()"
      ],
      "execution_count": null,
      "outputs": [
        {
          "output_type": "stream",
          "text": [
            "True\n"
          ],
          "name": "stdout"
        }
      ]
    },
    {
      "cell_type": "code",
      "metadata": {
        "id": "8DFajdYqpmrF"
      },
      "source": [
        "s.push(1)"
      ],
      "execution_count": null,
      "outputs": []
    },
    {
      "cell_type": "code",
      "metadata": {
        "id": "ii6ztafppo94"
      },
      "source": [
        "s.push('two')"
      ],
      "execution_count": null,
      "outputs": []
    },
    {
      "cell_type": "code",
      "metadata": {
        "id": "ppRKsllqpq1r",
        "colab": {
          "base_uri": "https://localhost:8080/",
          "height": 35
        },
        "outputId": "ad793ffc-8c01-49c7-a6f4-6244edc743d8"
      },
      "source": [
        "s.peek()"
      ],
      "execution_count": null,
      "outputs": [
        {
          "output_type": "execute_result",
          "data": {
            "application/vnd.google.colaboratory.intrinsic+json": {
              "type": "string"
            },
            "text/plain": [
              "'two'"
            ]
          },
          "metadata": {
            "tags": []
          },
          "execution_count": 31
        }
      ]
    },
    {
      "cell_type": "code",
      "metadata": {
        "id": "TkPN_nDspsLH"
      },
      "source": [
        "s.push(True)"
      ],
      "execution_count": null,
      "outputs": []
    },
    {
      "cell_type": "code",
      "metadata": {
        "id": "3oIPh8lvpt0f",
        "colab": {
          "base_uri": "https://localhost:8080/"
        },
        "outputId": "f01adf1b-390d-47fd-f1c0-eb66e0500e67"
      },
      "source": [
        "s.size()"
      ],
      "execution_count": null,
      "outputs": [
        {
          "output_type": "execute_result",
          "data": {
            "text/plain": [
              "3"
            ]
          },
          "metadata": {
            "tags": []
          },
          "execution_count": 33
        }
      ]
    },
    {
      "cell_type": "code",
      "metadata": {
        "id": "maIgn1x9pveH",
        "colab": {
          "base_uri": "https://localhost:8080/"
        },
        "outputId": "0485db89-4709-492c-a71f-6a074e7ec8cd"
      },
      "source": [
        "s.isEmpty()"
      ],
      "execution_count": null,
      "outputs": [
        {
          "output_type": "execute_result",
          "data": {
            "text/plain": [
              "False"
            ]
          },
          "metadata": {
            "tags": []
          },
          "execution_count": 34
        }
      ]
    },
    {
      "cell_type": "code",
      "metadata": {
        "id": "X7HhvE2Xpyuy",
        "colab": {
          "base_uri": "https://localhost:8080/"
        },
        "outputId": "3f8d4313-29d3-497f-c0aa-619d96fe4ecd"
      },
      "source": [
        "s.pop()"
      ],
      "execution_count": null,
      "outputs": [
        {
          "output_type": "execute_result",
          "data": {
            "text/plain": [
              "True"
            ]
          },
          "metadata": {
            "tags": []
          },
          "execution_count": 35
        }
      ]
    },
    {
      "cell_type": "code",
      "metadata": {
        "id": "ZH74_7Ofp0fW",
        "colab": {
          "base_uri": "https://localhost:8080/",
          "height": 35
        },
        "outputId": "aed55069-6384-4214-f42f-20586129595d"
      },
      "source": [
        "s.pop()"
      ],
      "execution_count": null,
      "outputs": [
        {
          "output_type": "execute_result",
          "data": {
            "application/vnd.google.colaboratory.intrinsic+json": {
              "type": "string"
            },
            "text/plain": [
              "'two'"
            ]
          },
          "metadata": {
            "tags": []
          },
          "execution_count": 36
        }
      ]
    },
    {
      "cell_type": "code",
      "metadata": {
        "id": "iEUWPQtbp2Tj",
        "colab": {
          "base_uri": "https://localhost:8080/"
        },
        "outputId": "0c9b5c3f-7a11-45b4-eca1-18aee517a8a3"
      },
      "source": [
        "s.pop()"
      ],
      "execution_count": null,
      "outputs": [
        {
          "output_type": "execute_result",
          "data": {
            "text/plain": [
              "1"
            ]
          },
          "metadata": {
            "tags": []
          },
          "execution_count": 37
        }
      ]
    },
    {
      "cell_type": "code",
      "metadata": {
        "id": "34Mg_TG3p3p2",
        "colab": {
          "base_uri": "https://localhost:8080/"
        },
        "outputId": "9edfc5e2-afbc-49d8-8a37-9fff7b8f6b21"
      },
      "source": [
        "s.isEmpty()"
      ],
      "execution_count": null,
      "outputs": [
        {
          "output_type": "execute_result",
          "data": {
            "text/plain": [
              "True"
            ]
          },
          "metadata": {
            "tags": []
          },
          "execution_count": 38
        }
      ]
    },
    {
      "cell_type": "code",
      "metadata": {
        "id": "MnfSMQmNp6u4"
      },
      "source": [
        ""
      ],
      "execution_count": null,
      "outputs": []
    }
  ]
}