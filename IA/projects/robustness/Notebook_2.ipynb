{
  "cells": [
    {
      "cell_type": "markdown",
      "metadata": {
        "id": "view-in-github",
        "colab_type": "text"
      },
      "source": [
        "<a href=\"https://colab.research.google.com/github/neohack22/IASD/blob/IA/IA/projects/robustness/Notebook_2.ipynb\" target=\"_parent\"><img src=\"https://colab.research.google.com/assets/colab-badge.svg\" alt=\"Open In Colab\"/></a>"
      ]
    },
    {
      "cell_type": "code",
      "execution_count": null,
      "metadata": {
        "id": "2VUv9a_BTvGy",
        "cellView": "form"
      },
      "outputs": [],
      "source": [
        "#@title\n",
        "import json\n",
        "import numpy as np\n",
        "import scipy as sp\n",
        "import matplotlib.pyplot as plt\n",
        "from PIL import Image\n",
        "\n",
        "import torch\n",
        "import torch.nn as nn\n",
        "import torch.optim as optim\n",
        "\n",
        "from torchvision import datasets, transforms\n",
        "from torch.utils.data import DataLoader\n",
        "\n",
        "cuda = torch.cuda.is_available()"
      ]
    },
    {
      "cell_type": "code",
      "source": [
        "import json\n",
        "import numpy as np\n",
        "import scipy as sp\n",
        "import matplotlib.pyplot as plt\n",
        "from PIL import Image\n",
        "\n",
        "import torch\n",
        "import torch.nn as nn\n",
        "import torch.optim as optim\n",
        "\n",
        "from torchvision import datasets, transforms\n",
        "from torch.utils.data import DataLoader\n",
        "\n",
        "cuda = torch.cuda.is_available()"
      ],
      "metadata": {
        "id": "t_o-0ivEJgAR"
      },
      "execution_count": 1,
      "outputs": []
    },
    {
      "cell_type": "markdown",
      "metadata": {
        "id": "XnJzSOTGTvG2"
      },
      "source": [
        "## Moving to neural networks\n",
        "\n",
        "Now that we've seen how adversarial examples work in the context of linear models, let's move to the setting we really care about: the possibility of adversarial examples in deep neural networks. \n",
        "\n",
        "First, let us define formally a neural network. Let us define $h_\\theta(x) : \\mathbb{R}^n \\rightarrow \\mathbb{R}^k$ to be an $d$-layer network, given by the following equations\n",
        "\\begin{equation}\n",
        "\\begin{split}\n",
        "z_1 & = x \\\\\n",
        "z_{i+1} & = f_i(W_i z_i + b_i), \\;\\; i,\\ldots,d \\\\\n",
        "h_\\theta(x) & = z_{d+1}\n",
        "\\end{split}\n",
        "\\end{equation}\n",
        "where $z_i$ denote the activations at layer $i$; $f_i$ denotes the activation function for layer $i$, which we will often take to be e.g. the ReLU operator $f_i(z) = \\max\\{0,z\\}$ for layers $i=1,\\ldots,d-1$ and the linear operator $f_i(z) = z$ for layer $d$ (remember, the last layer outputs are the class logits, and the loss function \"builds in\" the softmax operator, so we don't explicitly put the softmax into the network); and the parameters of the network are given by $\\theta = \\{W_1,b_1,\\ldots,W_d,b_d\\}$ (in the above, $W_i$ is most obviously interpreted a matrix, but it could really be any linear operator including convolutions).  We won't worry for now about explicitly defining the size of all the intermediate layers, but we assume that they are specified such that the final function $h_\\theta$ takes inputs in $\\mathbb{R}^n$ and outputs vectors in $\\mathbb{R}^k$.  The loss function for multiclass case, namely the Cross Entropy loss, is as follows:\n",
        "\\begin{equation}\n",
        "\\ell(h_\\theta(x), y) = \\log \\left ( \\sum_{j=1}^k \\exp(h_\\theta(x)_j) \\right ) - h_\\theta(x)_y.\n",
        "\\end{equation}"
      ]
    },
    {
      "cell_type": "markdown",
      "metadata": {
        "id": "aQcwbjuOTvG3"
      },
      "source": [
        "## Crafting an attack\n",
        "\n",
        "Unlike it the linear case, it is _not_ easy to solve, the maximization problem over our perturbation. This is because the cost surface for neural networks (here considering it over the _input_ space, not parameter space) is not convex, and is especially prone to local optima.  We can see this even in the simple example above, where there are local optimal when either trying to maximize or minimize the function above, and the initial gradient at a given point may or may not point in the direction of the actual maxima. \n",
        "\n",
        "So how _do_ we go about (approximately) solving the inner optimization problem\n",
        "\\begin{equation}\n",
        "\\DeclareMathOperator*{\\maximize}{maximize}\n",
        "\\maximize_{\\|\\delta\\| \\leq \\epsilon} \\ell(h_\\theta(x + \\delta), y)\n",
        "\\end{equation}\n",
        "in the case of $h_\\theta$ being a neural network? \n",
        "\n",
        "The most common strategy to approximate the pertubation is to find a _lower bound_ on the optimization objective.  Because (by definition) _any_ feasible $\\delta$ will give us a lower bound, this is equivalent to just \"trying to empirically solve the optimization problem\", i.e., \"find an adversarial example.\"  \n",
        "This is by far the most common strategy for solving the inner maximization motivated largely by the fact that for neural networks in general, problems of local optima don't seem as bad as initially may be thought. "
      ]
    },
    {
      "cell_type": "markdown",
      "metadata": {
        "id": "5wyZe7amTvG3"
      },
      "source": [
        "## Lower bounding the inner maximization (i.e., adversarial attacks)\n",
        "\n",
        "Let's start by considering perhaps the simplest way of solving the optimization problem we care about, the task of maximizing\n",
        "\\begin{equation}\n",
        "\\DeclareMathOperator*{\\maximize}{maximize}\n",
        "\\maximize_{\\|\\delta\\| \\leq \\epsilon} \\ell(h_\\theta(x + \\delta), y).\n",
        "\\end{equation}\n",
        "In fact we already saw one example for how to do this in our introductory lecture, but the basic idea here is quite simple: using backpropagation, we can compute the gradient of the loss function with respect to the perturbation $\\delta$ itself, so let's just perform gradient descent on $\\delta$ to maximize our objective.  However, we also need to ensure that $\\delta$ stays within the norm bound $\\epsilon$, so after each step, we can project back into this space.\n",
        "\n"
      ]
    },
    {
      "cell_type": "markdown",
      "metadata": {
        "id": "dlx4W6smTvG4"
      },
      "source": [
        "### The Fast Gradient Sign Method (FGSM)\n",
        "\n",
        "Let's consider in a bit more detail how we might do the attack we mentioned above.  For some given example $x$, we know that we are going to adjust $\\delta$ in the direction of it's gradient, i.e., we will first compute the gradient\n",
        "\\begin{equation}\n",
        "g := \\nabla_\\delta \\ell(h_\\theta(x + \\delta),y)\n",
        "\\end{equation}\n",
        "using simple backpropagation; note that if we're evaluating this gradient at $\\delta=0$ (as we would at the first timestep), then this is also just equal to $\\nabla_x \\ell(h_\\theta(x),y)$, but we'll express the gradients in terms of $\\delta$ to be consistent with how we do things going forward.\n",
        "\n",
        "In order to maximize loss, we want to adjust delta in the direction of this gradient, i.e., take a step\n",
        "\\begin{equation}\n",
        "\\delta := \\delta + \\alpha g\n",
        "\\end{equation}\n",
        "for some step size $\\alpha$ and then project back into the norm ball defined by $\\|\\delta\\| \\leq \\epsilon$.  But how big a step do we take?  For concreteness, let's consider the particular case of the $\\ell_\\infty$ norm $\\|\\delta\\|_\\infty \\leq \\epsilon$, where, as we mentioned before, projecting onto this norm ball simply involves clipping values of $\\delta$ to lie within the range $[-\\epsilon, \\epsilon]$.  If our initial $\\delta$ is zero, this gives the update\n",
        "\\begin{equation}\n",
        "\\delta := \\mathrm{clip}(\\alpha g, [-\\epsilon, \\epsilon]).\n",
        "\\end{equation}\n",
        "Now, how big of a step size should we take?  If we want to make increase the loss as much as possible, it makes sense to take as large a step as possible, i.e., take $\\alpha$ to be very large (of course knowing that we won't take _that_ big a step, since we're projecting back into the $\\ell_\\infty$ ball afterwards).  It is not hard to see that for $\\alpha$ large enough, the relative sizes of the entries of $g$ won't matter: we will simply take $\\delta_i$ to be either $+\\epsilon$ or $-\\epsilon$ depending upon the sign of $g_i$.  In other words, for large $\\alpha$, this update becomes\n",
        "\\begin{equation}\n",
        "\\delta := \\epsilon \\cdot \\mathrm{sign}(g).\n",
        "\\end{equation}\n",
        "\n",
        "This is know as the Fast Gradient Sign Method (FGSM) [1], and it was one of the first methods for constructing adversarial examples proposed by the deep learning community.\n",
        "\n",
        "[1] Explaining and Harnessing Adversarial Examples"
      ]
    },
    {
      "cell_type": "markdown",
      "metadata": {
        "id": "gjt8kxJfTvG4"
      },
      "source": [
        "### Exercice 2\n",
        "1. Define a neural network with 3 fully connected layers\n",
        "2. Define a neural network with 2 convolutional layers and a last fully connected layer\n",
        "2. Train the network on the full MNIST Dataset\n",
        "3. Code the FGSM attack\n",
        "4. Evaluate your model against FGSM\n",
        "5. Plot some images with and without the adversarial perturbation\n",
        "6. Make an analysis of FGSM attack and compare it with the attack from the first notebook"
      ]
    },
    {
      "cell_type": "code",
      "execution_count": null,
      "metadata": {
        "id": "E6LX9ZDNTvG5",
        "cellView": "form"
      },
      "outputs": [],
      "source": [
        "#@title\n",
        "# load CIFAR10 dataset\n",
        "def load_cifar(split, batch_size):\n",
        "  train = True if split == 'train' else False\n",
        "  dataset = datasets.CIFAR10(\"./docs\", train=split, download=True, transform=transforms.ToTensor())\n",
        "  return DataLoader(dataset, batch_size=batch_size, shuffle=train)\n",
        "\n",
        "batch_size = 100\n",
        "train_loader = load_cifar('train', batch_size)\n",
        "test_loader = load_cifar('test', batch_size)"
      ]
    },
    {
      "cell_type": "code",
      "source": [
        "# load CIFAR10 dataset\n",
        "def load_cifar(split, batch_size):\n",
        "  train = True if split == 'train' else False\n",
        "  dataset = datasets.CIFAR10(\n",
        "      \"./docs\", train=split, download=True, transform=transforms.ToTensor()\n",
        "  )\n",
        "  return DataLoader(\n",
        "      dataset, batch_size=batch_size, shuffle=train\n",
        "  )\n",
        "\n",
        "batch_size = 100\n",
        "train_loader = load_cifar(\n",
        "    'train', batch_size\n",
        ")\n",
        "test_loader = load_cifar(\n",
        "    'test', batch_size\n",
        ")"
      ],
      "metadata": {
        "colab": {
          "base_uri": "https://localhost:8080/",
          "height": 101,
          "referenced_widgets": [
            "1b571377ea8e4afba483abcec7814244",
            "928d00d68c1742a2ae0919ad434cf5b4",
            "9c830669500b4ae7987233b5459cbfc2",
            "e4041514cfab4eef807dc29b424443b3",
            "d4076b91480d49c58ec054bbf555cea9",
            "f18c6af44fc34077a8e16a95b8e325ae",
            "89425298f1a547bc9bfa1154ffb354a9",
            "202576d9802c4cd7a9114c67833ad14e",
            "038d295bbd654befaf8188ce175dd92a",
            "097f5ebf0eac4077a46af415d89c514e",
            "56d9b0bf35ed4edf94d7d33ffa58898b"
          ]
        },
        "id": "Bcxlm0xlo9yG",
        "outputId": "86dd9208-cd44-44f4-e8ea-bd07cfa6c307"
      },
      "execution_count": 2,
      "outputs": [
        {
          "output_type": "stream",
          "name": "stdout",
          "text": [
            "Downloading https://www.cs.toronto.edu/~kriz/cifar-10-python.tar.gz to ./docs/cifar-10-python.tar.gz\n"
          ]
        },
        {
          "output_type": "display_data",
          "data": {
            "text/plain": [
              "  0%|          | 0/170498071 [00:00<?, ?it/s]"
            ],
            "application/vnd.jupyter.widget-view+json": {
              "version_major": 2,
              "version_minor": 0,
              "model_id": "1b571377ea8e4afba483abcec7814244"
            }
          },
          "metadata": {}
        },
        {
          "output_type": "stream",
          "name": "stdout",
          "text": [
            "Extracting ./docs/cifar-10-python.tar.gz to ./docs\n",
            "Files already downloaded and verified\n"
          ]
        }
      ]
    },
    {
      "cell_type": "code",
      "execution_count": 4,
      "metadata": {
        "id": "gJdE1uDbTvG7",
        "colab": {
          "base_uri": "https://localhost:8080/",
          "height": 130
        },
        "outputId": "445a7c24-5552-4775-a360-c13013b0bd78"
      },
      "outputs": [
        {
          "output_type": "error",
          "ename": "IndentationError",
          "evalue": "ignored",
          "traceback": [
            "\u001b[0;36m  File \u001b[0;32m\"<ipython-input-4-174442083138>\"\u001b[0;36m, line \u001b[0;32m4\u001b[0m\n\u001b[0;31m    if cuda:\u001b[0m\n\u001b[0m    ^\u001b[0m\n\u001b[0;31mIndentationError\u001b[0m\u001b[0;31m:\u001b[0m unexpected indent\n"
          ]
        }
      ],
      "source": [
        "#@title\n",
        "def train_model(model, criterion, optimizer, loader):\n",
        "  \"\"\"Function to train the model\"\"\"\n",
        "    if cuda:\n",
        "        imgs, labels = imgs.cuda(), labels.cuda()\n",
        "  # code here ...\n",
        "  epochs = 10\n",
        "  iter = 0\n",
        "  for epoch in range(int(\n",
        "          epochs\n",
        "      )):\n",
        "    for batch_n, (\n",
        "        imgs = Variable(\n",
        "            images.view(\n",
        "                -1, 28 * 28\n",
        "            )\n",
        "        )\n",
        "        labels = Variable(labels)\n",
        "\n",
        "        opt.zero_grad() #opt #zero_grad()\n",
        "        outputs = model( # model()\n",
        "            imgs\n",
        "        )\n",
        "        loss.backward() # loss # backward()\n",
        "        opt.step() # step()\n",
        "\n",
        "        iter+=1\n",
        "    )\n",
        "\n"
      ]
    },
    {
      "cell_type": "code",
      "source": [
        "def train_model(model, criterion, optimizer, loader):\n",
        "  \"\"\"Function to train the model\"\"\"\n",
        "  if cuda:\n",
        "    imgs, labels = imgs.cuda(), labels.cuda()\n",
        "    epochs = 10\n",
        "    iter = 0\n",
        "    for epoch in range(int(epochs)):\n",
        "      for batch_n, (imgs = Variable(images.view(-1, 28 * 28))\n",
        "      labels = Variable(labels)\n",
        "      \n",
        "      opt.zero_grad()\n",
        "      outputs = model(imgs)\n",
        "      loss.backward()\n",
        "      opt.step()\n",
        "      iter+=1)"
      ],
      "metadata": {
        "colab": {
          "base_uri": "https://localhost:8080/",
          "height": 130
        },
        "id": "e8teXuDwwc9t",
        "outputId": "a9c69a09-6512-499d-fa68-0a3b149f524d"
      },
      "execution_count": 5,
      "outputs": [
        {
          "output_type": "error",
          "ename": "SyntaxError",
          "evalue": "ignored",
          "traceback": [
            "\u001b[0;36m  File \u001b[0;32m\"<ipython-input-5-f50113ab51a5>\"\u001b[0;36m, line \u001b[0;32m8\u001b[0m\n\u001b[0;31m    for batch_n, (imgs = Variable(images.view(-1, 28 * 28))\u001b[0m\n\u001b[0m                       ^\u001b[0m\n\u001b[0;31mSyntaxError\u001b[0m\u001b[0;31m:\u001b[0m invalid syntax\n"
          ]
        }
      ]
    },
    {
      "cell_type": "code",
      "execution_count": null,
      "metadata": {
        "id": "E1TM0cVUTvHA"
      },
      "outputs": [],
      "source": [
        "&# convolutional model with 2 convolution, 2 max pooling layer, 3 fully connected layer\n",
        "# the model should be: 2x (conv -> max pooling -> relu) -> 2x (fc -> relu) -> fc\n",
        "\n",
        "class ConvModel(torch.nn.Module):\n",
        "  \n",
        "  def __init__(self):\n",
        "    super(ConvModel, self).__init__()\n",
        "    # code here ...\n",
        "    self.fc1 = nn.Linear(16, 12)\n",
        "    self.fc2 = nn.Linear(12, 10)\n",
        "    self.fc3 = nn.Linear(10, 1)\n",
        "\n",
        "  \n",
        "  def forward(self, x):\n",
        "    # code here ...\n",
        "    x = F.relu(self.fc1(x))\n",
        "    x = F.relu(self.fc2(x))\n",
        "    x = self.fc3(x)\n",
        "\n",
        "model = ConvModel()    \n",
        "\n",
        "criterion = torch.nn.CrossEntropyLoss()    "
      ]
    },
    {
      "cell_type": "code",
      "execution_count": null,
      "metadata": {
        "id": "aVeRox2XTvHG"
      },
      "outputs": [],
      "source": [
        "model = ConvModel()\n",
        "if cuda:\n",
        "  model = model.cuda()\n",
        "\n",
        "# define your loss function\n",
        "criterion = # code here ...\n",
        "\n",
        "# define your optimizer\n",
        "opt = # code here ...\n",
        "\n",
        "train_model(model, criterion, opt, train_loader)"
      ]
    },
    {
      "cell_type": "code",
      "execution_count": null,
      "metadata": {
        "id": "dfZpqvldTvHI"
      },
      "outputs": [],
      "source": [
        "def eval_model(model, loader, attack=None):\n",
        "  \"\"\"Function to evaluate your model on a specific loader\"\"\"\n",
        "    if cuda:\n",
        "        imgs, labels = imgs.cuda(), labels.cuda()\n",
        "  # code here ...\n",
        "\n",
        "eval_model(model, test_loader)"
      ]
    },
    {
      "cell_type": "code",
      "execution_count": null,
      "metadata": {
        "id": "C-G90kSITvHK"
      },
      "outputs": [],
      "source": [
        "class FastGradientSignMethod:\n",
        "  \n",
        "  def __init__(self, model, eps):\n",
        "    # code here ...\n",
        "  \n",
        "  def compute(self, x, y):\n",
        "    \"\"\" Construct FGSM adversarial perturbation for examples x\"\"\"\n",
        "    # code here ...\n",
        "\n",
        "opt = torch.optim.SGD( #optim\n",
        "    model.parameters(), lr=lr_rate # lr_rate\n",
        ")\n",
        "\n",
        "fgsm = # code here ...\n",
        "eval_model(model, test_loader, fgsm)"
      ]
    },
    {
      "cell_type": "code",
      "execution_count": null,
      "metadata": {
        "id": "oTKKRESkTvHM"
      },
      "outputs": [],
      "source": [
        "def plot_images(x, y, yp, M=5, N=5):\n",
        "  x = x.cpu().numpy()\n",
        "  y = y.cpu().numpy()\n",
        "  f, ax = plt.subplots(M, N, sharex=True, sharey=True, figsize=(N, M*1.3))\n",
        "  for i in range(M):\n",
        "    for j in range(N):\n",
        "      img = x[i*N+j].transpose(1, 2, 0)\n",
        "      img = np.maximum(0, np.minimum(img, 1))\n",
        "      ax[i][j].imshow(img)\n",
        "      title = ax[i][j].set_title(\"Pred: {}\".format(yp[i*N+j].max(dim=0)[1]))\n",
        "      plt.setp(title, color=('g' if yp[i*N+j].max(dim=0)[1] == y[i*N+j] else 'r'))\n",
        "      ax[i][j].set_axis_off()\n",
        "    plt.tight_layout()\n",
        "  plt.show()\n",
        "  \n",
        "for imgs, labels in test_loader:\n",
        "  if cuda:\n",
        "    imgs, labels = imgs.cuda(), labels.cuda()\n",
        "  break\n",
        "\n",
        "# plot natural images\n",
        "output = model(imgs)\n",
        "plot_images(imgs, labels, output)\n",
        "  \n",
        "# plot adversarial images\n",
        "delta = fgsm.compute(imgs, labels)\n",
        "output = model(imgs + delta)\n",
        "plot_images(imgs + delta, labels, output)"
      ]
    },
    {
      "cell_type": "markdown",
      "metadata": {
        "id": "51gHv7p5TvHO"
      },
      "source": [
        "### Projected gradient descent\n",
        "\n",
        "This discussion immediately brings us to the next approach we would want to consider for maximizing the optimization problem, just doing projected gradient descent (i.e., the above procedure, but iterating it and with a smaller step size). [Note: technically speaking, this is gradient _ascent_ since we are maximizing a function rather than minimization, but it's common to just refer to the process as gradient descent.]. This was also called the \"basic iterative procedure\" in it's first appearance within the adversarial attacks literature [1], but essentially it is just the obvious choice for how we might maximize the inner objective a bit more carefully than with FGSM. The basic PGD algorithm simply iterates the updates:\n",
        "\\begin{equation}\n",
        "\\begin{split}\n",
        "& \\mbox{Repeat:} \\\\\n",
        "& \\quad \\delta := \\mathcal{P}(\\delta + \\alpha \\nabla_\\delta \\ell(h_\\theta(x+\\delta), y))\n",
        "\\end{split}\n",
        "\\end{equation}\n",
        "where $\\mathcal{P}$ denotes the projection onto the ball of interest (for example, clipping in the case of the $\\ell_\\infty$ norm).  Of course, with PGD we now have more choices we need to make when specifying the attack, such as the actual stepsize itself, and the number of iterations (we'll discuss some rules of thumb shortly once we present a slightly modified version of the above iteration).  We can implement this attack in the following manner, where we're here going to implement the gradient descent procedure rather than rely on one of PyTorch's optimizers, as we want to see what's going on a bit more explicitly (PyTorch's SGD also includes terms like momentum, which actually usually are able to optimize the inner term _better_, but we want to have as little black-box procedures here as possible).\n",
        "\n",
        "[1] Adversarial Machine Learning At Scale"
      ]
    },
    {
      "cell_type": "code",
      "execution_count": null,
      "metadata": {
        "id": "s6Ayp36hTvHP"
      },
      "outputs": [],
      "source": [
        "class ProjectedGradientDescent:\n",
        "  \n",
        "  def __init__(self, model, eps, alpha, num_iter):\n",
        "    # code here ...\n",
        "  \n",
        "  def compute(self, x, y):\n",
        "    \"\"\" Construct PGD adversarial pertubration on the examples x.\"\"\"  \n",
        "    # code here ...\n",
        "\n",
        "\n",
        "pgd = # code here ...\n",
        "eval_model(model, test_loader, pgd)"
      ]
    },
    {
      "cell_type": "code",
      "execution_count": null,
      "metadata": {
        "id": "6y6okpoETvHS"
      },
      "outputs": [],
      "source": [
        "pgd = # code here ...\n",
        "delta = pgd.compute(imgs, labels)\n",
        "output = model(imgs + delta)\n",
        "plot_images(imgs+delta, labels, output)"
      ]
    },
    {
      "cell_type": "code",
      "execution_count": null,
      "metadata": {
        "id": "bKnFIK-2TvHU"
      },
      "outputs": [],
      "source": []
    },
    {
      "cell_type": "code",
      "execution_count": null,
      "metadata": {
        "id": "HdANrvWvTvHW"
      },
      "outputs": [],
      "source": []
    },
    {
      "cell_type": "code",
      "metadata": {
        "id": "7nGqm2W8TvHY"
      },
      "source": [
        "### Test you attacks on real world images"
      ],
      "execution_count": null,
      "outputs": []
    },
    {
      "cell_type": "code",
      "metadata": {
        "id": "_iHGLqONTvHb"
      },
      "source": [
        "let's use the (pre-trained) ResNet50 model within PyTorch to classify this picture of a pig.\n",
        "\n",
        "!['Pig'](docs/pig.jpg)\n",
        "\n",
        "The normal strategy for image classification in PyTorch is to first transform the image (to approximately zero-mean, unit variance) using the `torchvision.transforms` module.  However, because we'd like to make perturbations in the original (unnormalized) image space, we'll take a slightly different approach and actually build the transformations at PyTorch layers, so that we can directly feed the image in.  First, let's just load the image and resize the 224x224, which is the default size that most ImageNet images (and hence the pre-trained classifiers) take as input."
      ],
      "execution_count": null,
      "outputs": []
    },
    {
      "cell_type": "code",
      "execution_count": null,
      "metadata": {
        "id": "wWcvN4XJTvHe"
      },
      "outputs": [],
      "source": [
        "# read the image, resize to 224 and convert to PyTorch Tensor\n",
        "pig_img = Image.open(\"docs/pig.jpg\")\n",
        "preprocess = transforms.Compose([\n",
        "   transforms.Resize(224),\n",
        "   transforms.ToTensor(),\n",
        "])\n",
        "pig_tensor = preprocess(pig_img)[None,:,:,:]\n",
        "\n",
        "# plot image (note that numpy using HWC whereas Pytorch user CHW, so we need to convert)\n",
        "plt.imshow(pig_tensor[0].numpy().transpose(1,2,0))\n",
        "plt.show()"
      ]
    },
    {
      "cell_type": "code",
      "execution_count": null,
      "metadata": {
        "id": "3uCiN-CiTvHg",
        "outputId": "6371c8ce-1a0f-483d-9879-a0d53235a39d"
      },
      "outputs": [
        {
          "data": {
            "image/png": "[encoded data removed]",
            "text/plain": [
              "<Figure size 432x288 with 1 Axes>"
            ]
          },
          "metadata": {
            "needs_background": "light"
          },
          "output_type": "display_data"
        }
      ],
      "source": [
        "from torchvision.models import resnet50\n",
        "\n",
        "# simple Module to normalize an image\n",
        "class Normalize(nn.Module):\n",
        "    def __init__(self, mean, std):\n",
        "        super(Normalize, self).__init__()\n",
        "        self.mean = torch.Tensor(mean)\n",
        "        self.std = torch.Tensor(std)\n",
        "    def forward(self, x):\n",
        "        return (x - self.mean.type_as(x)[None,:,None,None]) / self.std.type_as(x)[None,:,None,None]\n",
        "\n",
        "# values are standard normalization for ImageNet images, \n",
        "# from https://github.com/pytorch/examples/blob/master/imagenet/main.py\n",
        "norm = Normalize(mean=[0.485, 0.456, 0.406], std=[0.229, 0.224, 0.225])\n",
        "\n",
        "# load pre-trained ResNet50, and put into evaluation mode (necessary to e.g. turn off batchnorm)\n",
        "model = resnet50(pretrained=True)\n",
        "model.eval();"
      ]
    },
    {
      "cell_type": "code",
      "execution_count": null,
      "metadata": {
        "id": "BM1YkEf9TvHi"
      },
      "outputs": [],
      "source": [
        "# form predictions\n",
        "pred = model(norm(pig_tensor))"
      ]
    },
    {
      "cell_type": "code",
      "execution_count": null,
      "metadata": {
        "id": "aOd9JYvQTvHk"
      },
      "outputs": [],
      "source": [
        "# attack the pig image and plot the perturbation"
      ]
    },
    {
      "cell_type": "markdown",
      "metadata": {
        "id": "33IoXQpyzVk0"
      },
      "source": []
    },
    {
      "cell_type": "code",
      "execution_count": null,
      "metadata": {
        "id": "mIAPaFgTzVk0"
      },
      "outputs": [],
      "source": []
    },
    {
      "cell_type": "code",
      "execution_count": null,
      "metadata": {
        "id": "5I8_mQ-YzVk0"
      },
      "outputs": [],
      "source": []
    }
  ],
  "metadata": {
    "accelerator": "GPU",
    "colab": {
      "provenance": [],
      "include_colab_link": true
    },
    "kernelspec": {
      "display_name": "Python 3",
      "language": "python",
      "name": "python3"
    },
    "language_info": {
      "codemirror_mode": {
        "name": "ipython",
        "version": 3
      },
      "file_extension": ".py",
      "mimetype": "text/x-python",
      "name": "python",
      "nbconvert_exporter": "python",
      "pygments_lexer": "ipython3",
      "version": "3.9.4"
    },
    "widgets": {
      "application/vnd.jupyter.widget-state+json": {
        "1b571377ea8e4afba483abcec7814244": {
          "model_module": "@jupyter-widgets/controls",
          "model_name": "HBoxModel",
          "model_module_version": "1.5.0",
          "state": {
            "_dom_classes": [],
            "_model_module": "@jupyter-widgets/controls",
            "_model_module_version": "1.5.0",
            "_model_name": "HBoxModel",
            "_view_count": null,
            "_view_module": "@jupyter-widgets/controls",
            "_view_module_version": "1.5.0",
            "_view_name": "HBoxView",
            "box_style": "",
            "children": [
              "IPY_MODEL_928d00d68c1742a2ae0919ad434cf5b4",
              "IPY_MODEL_9c830669500b4ae7987233b5459cbfc2",
              "IPY_MODEL_e4041514cfab4eef807dc29b424443b3"
            ],
            "layout": "IPY_MODEL_d4076b91480d49c58ec054bbf555cea9"
          }
        },
        "928d00d68c1742a2ae0919ad434cf5b4": {
          "model_module": "@jupyter-widgets/controls",
          "model_name": "HTMLModel",
          "model_module_version": "1.5.0",
          "state": {
            "_dom_classes": [],
            "_model_module": "@jupyter-widgets/controls",
            "_model_module_version": "1.5.0",
            "_model_name": "HTMLModel",
            "_view_count": null,
            "_view_module": "@jupyter-widgets/controls",
            "_view_module_version": "1.5.0",
            "_view_name": "HTMLView",
            "description": "",
            "description_tooltip": null,
            "layout": "IPY_MODEL_f18c6af44fc34077a8e16a95b8e325ae",
            "placeholder": "​",
            "style": "IPY_MODEL_89425298f1a547bc9bfa1154ffb354a9",
            "value": "100%"
          }
        },
        "9c830669500b4ae7987233b5459cbfc2": {
          "model_module": "@jupyter-widgets/controls",
          "model_name": "FloatProgressModel",
          "model_module_version": "1.5.0",
          "state": {
            "_dom_classes": [],
            "_model_module": "@jupyter-widgets/controls",
            "_model_module_version": "1.5.0",
            "_model_name": "FloatProgressModel",
            "_view_count": null,
            "_view_module": "@jupyter-widgets/controls",
            "_view_module_version": "1.5.0",
            "_view_name": "ProgressView",
            "bar_style": "success",
            "description": "",
            "description_tooltip": null,
            "layout": "IPY_MODEL_202576d9802c4cd7a9114c67833ad14e",
            "max": 170498071,
            "min": 0,
            "orientation": "horizontal",
            "style": "IPY_MODEL_038d295bbd654befaf8188ce175dd92a",
            "value": 170498071
          }
        },
        "e4041514cfab4eef807dc29b424443b3": {
          "model_module": "@jupyter-widgets/controls",
          "model_name": "HTMLModel",
          "model_module_version": "1.5.0",
          "state": {
            "_dom_classes": [],
            "_model_module": "@jupyter-widgets/controls",
            "_model_module_version": "1.5.0",
            "_model_name": "HTMLModel",
            "_view_count": null,
            "_view_module": "@jupyter-widgets/controls",
            "_view_module_version": "1.5.0",
            "_view_name": "HTMLView",
            "description": "",
            "description_tooltip": null,
            "layout": "IPY_MODEL_097f5ebf0eac4077a46af415d89c514e",
            "placeholder": "​",
            "style": "IPY_MODEL_56d9b0bf35ed4edf94d7d33ffa58898b",
            "value": " 170498071/170498071 [00:13&lt;00:00, 13605177.44it/s]"
          }
        },
        "d4076b91480d49c58ec054bbf555cea9": {
          "model_module": "@jupyter-widgets/base",
          "model_name": "LayoutModel",
          "model_module_version": "1.2.0",
          "state": {
            "_model_module": "@jupyter-widgets/base",
            "_model_module_version": "1.2.0",
            "_model_name": "LayoutModel",
            "_view_count": null,
            "_view_module": "@jupyter-widgets/base",
            "_view_module_version": "1.2.0",
            "_view_name": "LayoutView",
            "align_content": null,
            "align_items": null,
            "align_self": null,
            "border": null,
            "bottom": null,
            "display": null,
            "flex": null,
            "flex_flow": null,
            "grid_area": null,
            "grid_auto_columns": null,
            "grid_auto_flow": null,
            "grid_auto_rows": null,
            "grid_column": null,
            "grid_gap": null,
            "grid_row": null,
            "grid_template_areas": null,
            "grid_template_columns": null,
            "grid_template_rows": null,
            "height": null,
            "justify_content": null,
            "justify_items": null,
            "left": null,
            "margin": null,
            "max_height": null,
            "max_width": null,
            "min_height": null,
            "min_width": null,
            "object_fit": null,
            "object_position": null,
            "order": null,
            "overflow": null,
            "overflow_x": null,
            "overflow_y": null,
            "padding": null,
            "right": null,
            "top": null,
            "visibility": null,
            "width": null
          }
        },
        "f18c6af44fc34077a8e16a95b8e325ae": {
          "model_module": "@jupyter-widgets/base",
          "model_name": "LayoutModel",
          "model_module_version": "1.2.0",
          "state": {
            "_model_module": "@jupyter-widgets/base",
            "_model_module_version": "1.2.0",
            "_model_name": "LayoutModel",
            "_view_count": null,
            "_view_module": "@jupyter-widgets/base",
            "_view_module_version": "1.2.0",
            "_view_name": "LayoutView",
            "align_content": null,
            "align_items": null,
            "align_self": null,
            "border": null,
            "bottom": null,
            "display": null,
            "flex": null,
            "flex_flow": null,
            "grid_area": null,
            "grid_auto_columns": null,
            "grid_auto_flow": null,
            "grid_auto_rows": null,
            "grid_column": null,
            "grid_gap": null,
            "grid_row": null,
            "grid_template_areas": null,
            "grid_template_columns": null,
            "grid_template_rows": null,
            "height": null,
            "justify_content": null,
            "justify_items": null,
            "left": null,
            "margin": null,
            "max_height": null,
            "max_width": null,
            "min_height": null,
            "min_width": null,
            "object_fit": null,
            "object_position": null,
            "order": null,
            "overflow": null,
            "overflow_x": null,
            "overflow_y": null,
            "padding": null,
            "right": null,
            "top": null,
            "visibility": null,
            "width": null
          }
        },
        "89425298f1a547bc9bfa1154ffb354a9": {
          "model_module": "@jupyter-widgets/controls",
          "model_name": "DescriptionStyleModel",
          "model_module_version": "1.5.0",
          "state": {
            "_model_module": "@jupyter-widgets/controls",
            "_model_module_version": "1.5.0",
            "_model_name": "DescriptionStyleModel",
            "_view_count": null,
            "_view_module": "@jupyter-widgets/base",
            "_view_module_version": "1.2.0",
            "_view_name": "StyleView",
            "description_width": ""
          }
        },
        "202576d9802c4cd7a9114c67833ad14e": {
          "model_module": "@jupyter-widgets/base",
          "model_name": "LayoutModel",
          "model_module_version": "1.2.0",
          "state": {
            "_model_module": "@jupyter-widgets/base",
            "_model_module_version": "1.2.0",
            "_model_name": "LayoutModel",
            "_view_count": null,
            "_view_module": "@jupyter-widgets/base",
            "_view_module_version": "1.2.0",
            "_view_name": "LayoutView",
            "align_content": null,
            "align_items": null,
            "align_self": null,
            "border": null,
            "bottom": null,
            "display": null,
            "flex": null,
            "flex_flow": null,
            "grid_area": null,
            "grid_auto_columns": null,
            "grid_auto_flow": null,
            "grid_auto_rows": null,
            "grid_column": null,
            "grid_gap": null,
            "grid_row": null,
            "grid_template_areas": null,
            "grid_template_columns": null,
            "grid_template_rows": null,
            "height": null,
            "justify_content": null,
            "justify_items": null,
            "left": null,
            "margin": null,
            "max_height": null,
            "max_width": null,
            "min_height": null,
            "min_width": null,
            "object_fit": null,
            "object_position": null,
            "order": null,
            "overflow": null,
            "overflow_x": null,
            "overflow_y": null,
            "padding": null,
            "right": null,
            "top": null,
            "visibility": null,
            "width": null
          }
        },
        "038d295bbd654befaf8188ce175dd92a": {
          "model_module": "@jupyter-widgets/controls",
          "model_name": "ProgressStyleModel",
          "model_module_version": "1.5.0",
          "state": {
            "_model_module": "@jupyter-widgets/controls",
            "_model_module_version": "1.5.0",
            "_model_name": "ProgressStyleModel",
            "_view_count": null,
            "_view_module": "@jupyter-widgets/base",
            "_view_module_version": "1.2.0",
            "_view_name": "StyleView",
            "bar_color": null,
            "description_width": ""
          }
        },
        "097f5ebf0eac4077a46af415d89c514e": {
          "model_module": "@jupyter-widgets/base",
          "model_name": "LayoutModel",
          "model_module_version": "1.2.0",
          "state": {
            "_model_module": "@jupyter-widgets/base",
            "_model_module_version": "1.2.0",
            "_model_name": "LayoutModel",
            "_view_count": null,
            "_view_module": "@jupyter-widgets/base",
            "_view_module_version": "1.2.0",
            "_view_name": "LayoutView",
            "align_content": null,
            "align_items": null,
            "align_self": null,
            "border": null,
            "bottom": null,
            "display": null,
            "flex": null,
            "flex_flow": null,
            "grid_area": null,
            "grid_auto_columns": null,
            "grid_auto_flow": null,
            "grid_auto_rows": null,
            "grid_column": null,
            "grid_gap": null,
            "grid_row": null,
            "grid_template_areas": null,
            "grid_template_columns": null,
            "grid_template_rows": null,
            "height": null,
            "justify_content": null,
            "justify_items": null,
            "left": null,
            "margin": null,
            "max_height": null,
            "max_width": null,
            "min_height": null,
            "min_width": null,
            "object_fit": null,
            "object_position": null,
            "order": null,
            "overflow": null,
            "overflow_x": null,
            "overflow_y": null,
            "padding": null,
            "right": null,
            "top": null,
            "visibility": null,
            "width": null
          }
        },
        "56d9b0bf35ed4edf94d7d33ffa58898b": {
          "model_module": "@jupyter-widgets/controls",
          "model_name": "DescriptionStyleModel",
          "model_module_version": "1.5.0",
          "state": {
            "_model_module": "@jupyter-widgets/controls",
            "_model_module_version": "1.5.0",
            "_model_name": "DescriptionStyleModel",
            "_view_count": null,
            "_view_module": "@jupyter-widgets/base",
            "_view_module_version": "1.2.0",
            "_view_name": "StyleView",
            "description_width": ""
          }
        }
      }
    }
  },
  "nbformat": 4,
  "nbformat_minor": 0
}