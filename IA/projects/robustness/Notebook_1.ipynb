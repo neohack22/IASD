{
  "cells": [
    {
      "cell_type": "markdown",
      "metadata": {
        "id": "view-in-github",
        "colab_type": "text"
      },
      "source": [
        "<a href=\"https://colab.research.google.com/github/neohack22/IASD/blob/IA/IA/projects/robustness/Notebook_1.ipynb\" target=\"_parent\"><img src=\"https://colab.research.google.com/assets/colab-badge.svg\" alt=\"Open In Colab\"/></a>"
      ]
    },
    {
      "cell_type": "code",
      "execution_count": null,
      "metadata": {
        "id": "_FNLmXBHT1Ix",
        "cellView": "form"
      },
      "outputs": [],
      "source": [
        "#@title\n",
        "import numpy as np\n",
        "import scipy as sp\n",
        "import matplotlib.pyplot as plt\n",
        "\n",
        "import torch\n",
        "import torch.nn as nn\n",
        "import torch.optim as optim\n",
        "\n",
        "from torchvision import datasets, transforms\n",
        "from torch.utils.data import DataLoader"
      ]
    },
    {
      "cell_type": "code",
      "source": [
        "import numpy as np\n",
        "import scipy as sp\n",
        "import matplotlib.pyplot as plt\n",
        "\n",
        "import torch\n",
        "import torch.nn as nn\n",
        "import torch.optim as optim\n",
        "\n",
        "from torchvision import datasets, transforms\n",
        "from torch.utils.data import DataLoader"
      ],
      "metadata": {
        "id": "QoR1htWy4J0u"
      },
      "execution_count": 1,
      "outputs": []
    },
    {
      "cell_type": "code",
      "source": [
        "from torch.autograd import Variable"
      ],
      "metadata": {
        "id": "0s9tYqyrdCtD"
      },
      "execution_count": 2,
      "outputs": []
    },
    {
      "cell_type": "markdown",
      "metadata": {
        "id": "k8785huAT1I1"
      },
      "source": [
        "## Introduction\n",
        "\n",
        "As we seek to deploy machine learning systems in the real world, it becomes critical that we examine not only whether the systems don't simply work \"most of the time\", but which are truly robust and reliable. Although many notions of robustness and reliability exist, one particular topic has raised a great deal of interest in recent years: robustness to adversarial examples. More precisely, can we develop classifiers that are robust to (test time) perturbations of their inputs, by an adversary intending to fool the classifier? \n",
        "A few years ago, researchers have shown that neural networks are vulnerable to <em> adversarial examples</em>, i.e. imperceptible variations of natural examples, crafted to deliberately mislead the models.\n",
        "\n",
        "<img width=\"500\" src=\"https://languagelog.ldc.upenn.edu/myl/adversarial-example.png\">\n",
        "\n",
        "The purpose of this project is to teach you how these pertubations are crafted and how can we create robust classifier. \n",
        "\n",
        "[1] Nightmare at test time: robust learning by feature deletion <br>\n",
        "[2] Evasion attacks against machine learning at test time <br>\n",
        "[3] Intriguing properties of neural networks"
      ]
    },
    {
      "cell_type": "markdown",
      "metadata": {
        "id": "rcgxdYFaT1I1"
      },
      "source": [
        "## Some introductory notation\n",
        "\n",
        "Let us consider a model $h_\\theta : \\mathcal{X} \\rightarrow \\mathbb{R}^k$ mapping an input $x$, to a vector $h_\\theta(x)$ in $\\mathbb{R}^k$ (where $k$ is the number of classes being predicted). $h_\\theta(x)$ is called a logit vector of the model $h_\\theta$ where each coordinate can be positive or negative. The $\\theta$ vector represents all the parameters defining this model (for example in a linear model it would represent the slope and the intercept). to get a prediction out of $h_\\theta$ for a given $x$, the classical technique is to output the biggest coordinate of \\begin{equation}\n",
        "\\DeclareMathOperator*{\\argmax}{argmax}\n",
        "\\argmax_{j} h_\\theta(x)_j \n",
        "\\end{equation} where $h_\\theta(x)_j$ denotes the $j$th elements of the vector $h_\\theta(x)$.\n",
        "\n",
        "In order the evaluate the quality of prediction of the model on a given example, we use a loss function $\\ell: \\mathbb{R}^k \\times \\mathbb{Z}_+ \\rightarrow \\mathbb{R}_+$ mapping the model predictions and true labels to a non-negative number. The semantics of this loss function are that the first argument is the model output (logits which can be positive or negative), and the second argument is the _index_ of the true class (that is, a number from 1 to $k$ denoting the index of the true label). Thus, the notation\n",
        "\\begin{equation}\n",
        "\\ell(h_\\theta(x), y)\n",
        "\\end{equation}\n",
        "for $x \\in \\mathcal{X}$ the input and $y \\in \\mathbb{Z}$ the true class, denotes the loss that the classifier achieves in its predictions on $x$, assuming the true class is $y$.  By far the most common form of loss used in machine learning (especially in deep learning) is the cross entropy loss (also sometimes called the softmax loss), defined as\n",
        "\\begin{equation}\n",
        "\\ell(h_\\theta(x), y) = \\log \\left ( \\sum_{j=1}^k \\exp(h_\\theta(x)_j) \\right ) - h_\\theta(x)_y\n",
        "\\end{equation}\n",
        "where $h_\\theta(x)_j$ denotes the $j$th elements of the vector $h_\\theta(x)$.\n",
        "\n",
        "Recall that a common approach to training a classifier is to optimize the _parameters_ $\\theta$, so as to minimize the average loss over some training set $\\{x_i \\in \\mathcal{X}, y_i \\in \\mathbb{Z}\\}$, $i=1,\\ldots,m$, which we write as the optimization problem\n",
        "\\begin{equation}\n",
        "\\DeclareMathOperator*{\\minimize}{minimize}\n",
        "\\minimize_\\theta \\frac{1}{m} \\sum_{i=1}^m \\ell(h_\\theta(x_i), y_i)\n",
        "\\end{equation}\n",
        "which we typically solve by (stochastic) gradient descent.  I.e., for some minibatch $\\mathcal{B} \\subseteq \\{1,\\ldots,m\\}$, we compute the gradient of our loss with respect to the parameters $\\theta$, and make a small adjustment to $\\theta$ in this negative direction\n",
        "\\begin{equation}\n",
        "\\theta := \\theta - \\frac{\\alpha}{|\\mathcal{B}|} \\sum_{i \\in \\mathcal{B}} \\nabla_\\theta \\ell(h_\\theta(x_i), y_i)\n",
        "\\end{equation}\n",
        "where $\\alpha$ is some step size, and we repeat this process for different minibatches covering the entire training set, until the parameters convergence."
      ]
    },
    {
      "cell_type": "markdown",
      "metadata": {
        "id": "x23yruXaT1I2"
      },
      "source": [
        "## Creating an adversarial example\n",
        "\n",
        "To create an adversarial example, instead of adjusting the parameters $\\theta$ with the gradient define above: $\\nabla_\\theta \\ell(h_\\theta(x_i), y_i)$, we are going to adjust the image in order to _maximize_ the loss. Therefore, we want to solve the optimization problem\n",
        "\\begin{equation}\n",
        "\\DeclareMathOperator*{\\maximize}{maximize}\n",
        "\\maximize_{\\hat{x}} \\ell(h_\\theta(\\hat{x}), y)\n",
        "\\end{equation}\n",
        "where $\\hat{x}$ denotes our adversarial example that is attempting to maximize the loss.\n",
        "\n",
        "Of course, we cannot just optimize arbitrarily over $\\hat{x}$ (there do exist, after all, some images that are _not_ pandas, and if we change the image entirely, say to a dog, then it's not particularly impressive that we can \"fool\" the classifier into thinking it's not a panda). So we instead need to ensure that $\\hat{x}$ is close to our original input $x$. By convention, we typically do this by optimizing over the _perturbation_ to $x$, which we will denote $\\delta$\n",
        "\\begin{equation}\n",
        "\\maximize_{\\delta \\in \\Delta} \\ell(h_\\theta(x +\\delta), y)\n",
        "\\end{equation}\n",
        "where $\\Delta$ represents an allowable set of perturbations (typically perturbation that make $x + \\tau$ sufficiently close to $x$).  \n",
        "\n",
        "Characterizing the \"correct\" set of allowable perturbations is actually quite difficult: in theory, we would like $\\Delta$ to capture anything that humans visually feel to be the \"same\" as the original input $x$.  This can include anthing ranging from adding slight amounts of noise, to rotating, translating, scaling, or performing some 3D transformation on the underlying model, or even completely changing the image in the \"non-panda\" locations.  Needless to say, it is not possible to give a mathematically rigorous definition of all the perturbations that _should_ be allowed, but the philosophy behind adversarial examples is that we can consider some _subset_ of the possible space of allowed perturbations, such that by any \"reasonable\" definition, the actual semantic content of the image could not change under this perturbation.\n",
        "\n",
        "A common perturbation set to use, though by no means the only reasonable choice, is the $\\ell_\\infty$ ball, defined by the set\n",
        "\\begin{equation}\n",
        "\\Delta = \\{\\delta : \\|\\delta\\|_\\infty \\leq \\epsilon\\}\n",
        "\\end{equation}\n",
        "where the $\\ell_\\infty$ norm a vector $z$ is defined as\n",
        "\\begin{equation}\n",
        "\\|z\\|_\\infty = \\max_i |z_i|\n",
        "\\end{equation}\n",
        "i.e., we allow the perturbation to have magnitude between $[-\\epsilon, \\epsilon]$ in each of its components (it is a slightly more complex, as we also need to ensure that $x + \\delta$ is also bounded between $[0,1]$ so that it is still a valid image).  "
      ]
    },
    {
      "cell_type": "markdown",
      "metadata": {
        "id": "yXFQ3d_AT1I2"
      },
      "source": [
        "## Binary classification\n",
        "\n",
        "Let's begin first by considering a simplified problem where $h_\\theta$ is a linear classifier (see below) and k=2.  In this case called binary classification, rather than use multi-class cross entropy loss, we'll be adopting the more common approach and using the binary cross entropy, or logistic loss. In this setting, we have our hypothesis function\n",
        "\\begin{equation}\n",
        "h_\\theta(x) = w^T x + b\n",
        "\\end{equation}\n",
        "for $\\theta = \\{w \\in \\mathbb{R}^n, b \\in \\mathbb{R}\\}$, class label $y \\in \\{+1,-1\\}$, and loss function\n",
        "\\begin{equation}\n",
        "\\ell(h_\\theta(x), y) = \\log(1+\\exp(-y\\cdot h_\\theta(x))) \\equiv L(y \\cdot h_\\theta(x))\n",
        "\\end{equation}\n",
        "where for convience below we define the function $L(z) = \\log(1+\\exp(-z))$ which we will use below when discussing how to solve the optimization problems involving this loss.  The semantics of this setup are that for a data point $x$, the classifier predicts class $+1$ with probability\n",
        "\\begin{equation}\n",
        "p(y=+1|x) = \\frac{1}{1 + \\exp(-h_\\theta(x))}.\n",
        "\\end{equation}\n"
      ]
    },
    {
      "cell_type": "markdown",
      "metadata": {
        "id": "h6W4asxRT1I3"
      },
      "source": [
        "### Computing an Adversarial pertubation\n",
        "\n",
        "Let us consider the creation of an adversarial example in the context of binary classification:\n",
        "\\begin{equation}\n",
        "\\DeclareMathOperator*{\\maximize}{maximize}\n",
        "\\maximize_{\\|\\delta\\| \\leq \\epsilon} \\ell(w^T (x+\\delta), y) \\equiv \\maximize_{\\|\\delta\\| \\leq \\epsilon} L(y \\cdot (w^T(x+\\delta) + b)).\n",
        "\\end{equation}\n",
        "The key point we need to make here is that in this setting, it is actually possible to solve this maximization problem exactly. \n",
        "\n",
        "Because the function is monotonic decreasing, if we want to maximize this function applied to a scalar, that is equivalent to just minimizing the scalar quantity.  That is\n",
        "\\begin{equation}\n",
        "\\begin{split}\n",
        "\\DeclareMathOperator*{\\minimize}{minimize}\n",
        "\\max_{\\|\\delta\\| \\leq \\epsilon} L \\left(y \\cdot (w^T(x+\\delta) + b) \\right) & =\n",
        "L\\left( \\min_{\\|\\delta\\| \\leq \\epsilon}  y \\cdot (w^T(x+\\delta) + b) \\right) \\\\\n",
        "& = L\\left(y\\cdot(w^Tx + b) + \\min_{\\|\\delta\\| \\leq \\epsilon} y \\cdot w^T\\delta  \\right)\n",
        "\\end{split}\n",
        "\\end{equation}\n",
        "where we get the second line by just distributing out the linear terms.\n",
        "\n",
        "Thanks to this simplification of the initial problem, we only need to consider how to solve the problem\n",
        "\\begin{equation}\n",
        "\\min_{\\|\\delta\\| \\leq \\epsilon} y \\cdot w^T\\delta.\n",
        "\\end{equation}\n",
        "To get the intuition here, let's just consider the case that $y = +1$, and consider an $\\ell_\\infty$ norm constraint $\\|\\delta\\|_\\infty \\leq \\epsilon$.  Since the $\\ell_\\infty$ norm says that each element in $\\delta$ must have magnitude less than or equal $\\epsilon$, we clearly minimize this quantity when we set $\\delta_i = -\\epsilon$ for $w_i \\geq 0$ and $\\delta_i = \\epsilon$ for $w_i < 0$.  For $y = -1$, we would just flip these quantities.  That is, the optimal solution to the above optimization problem for the $\\ell_\\infty$ norm is given by\n",
        "\\begin{equation}\n",
        "\\delta^\\star = - y \\epsilon \\cdot \\mathrm{sign}(w)\n",
        "\\end{equation}"
      ]
    },
    {
      "cell_type": "markdown",
      "metadata": {
        "id": "_SvwRodvT1I3"
      },
      "source": [
        "### Exercice 1\n",
        "\n",
        "Let's see what this looks like for an actual linear classifier.  In doing so, we can also get a sense of how well traditional linear models might work to also prevent adversarial examples.\n",
        "\n",
        "1. Define and train with gradient descent a linear model using the PyTorch library a binarize version of the MNIST dataset\n",
        "2. Evaluate your model on the train and test dataset \n",
        "3. Create adversarial pertubation on the images of the test set and evaluate the performance of your model <em>under attack</em>\n",
        "4. Evaluate the visibility of the pertubation by ploting the natural image next to the adversarial image \n",
        "5. Make a small analysis and conclusion"
      ]
    },
    {
      "cell_type": "code",
      "execution_count": null,
      "metadata": {
        "id": "fEPn1Fg7T1I4",
        "cellView": "form"
      },
      "outputs": [],
      "source": [
        "#@title\n",
        "# binary MNIST dataset\n",
        "def load_binary_mnist(split, batch_size):\n",
        "  train = True if split == 'train' else False\n",
        "  dataset = datasets.MNIST(\"./data\", train=split, download=True, transform=transforms.ToTensor())\n",
        "  idx = dataset.targets <= 1\n",
        "  dataset.data = dataset.data[idx]\n",
        "  dataset.targets = dataset.targets[idx]\n",
        "  return DataLoader(dataset, batch_size=batch_size, shuffle=train)\n",
        "\n",
        "batch_size = 100\n",
        "train_loader = load_binary_mnist('train', batch_size)\n",
        "test_loader = load_binary_mnist('test', batch_size)"
      ]
    },
    {
      "cell_type": "code",
      "source": [
        "# binary MNIST dataset\n",
        "def load_binary_mnist(split, batch_size):\n",
        "  train = True if split == 'train' else False\n",
        "  dataset = datasets.MNIST(\n",
        "      \"./data\", train=split, download=True, transform=transforms.ToTensor() #.ToTensor()\n",
        "  )\n",
        "  idx = dataset.targets <= 1\n",
        "  dataset.data = dataset.data[\n",
        "                              idx\n",
        "  ]\n",
        "  dataset.targets = dataset.targets[\n",
        "                                    idx\n",
        "  ]\n",
        "  return DataLoader(\n",
        "      dataset, batch_size=batch_size, shuffle=train\n",
        "  )\n",
        "\n",
        "batch_size = 100\n",
        "train_loader = load_binary_mnist(\n",
        "    'train', batch_size\n",
        ")  \n",
        "test_loader = load_binary_mnist(\n",
        "    'test', batch_size\n",
        ")"
      ],
      "metadata": {
        "id": "fnvl3lgNIaH6",
        "colab": {
          "base_uri": "https://localhost:8080/",
          "height": 423,
          "referenced_widgets": [
            "dfbfbc55035f47e68eeaffc8dd5037ba",
            "50c384fd1f62455ca25f7c213fc4f884",
            "b825f843ba9d40669e46ed290961b5a5",
            "0c2c28c51b4f483991da8dccf1c8dcaa",
            "0c5b5edc5c054698bd7722b91351e562",
            "6d977db69e1447c1ab45d5c3f9b5ccc5",
            "5ceb24fc6bf64b5bb2405d8408ca49c1",
            "888003c2f09e4279ad0fd161cf563ce4",
            "a8f3bda795fa43349dea0a4ff1abe50a",
            "1aba0fc4f22848878c3ab5151938c70b",
            "d53efc2bd13a4ee6bb2aa699f0532162",
            "88aa48acdd494837b4d89dad3d79ff41",
            "278e8c4b16d843f29a6c619bd1ac3334",
            "6147e141094e4a54af6dd7f90a2e9d44",
            "c3a1e85802f8454ba8b25e21a7830a56",
            "611c67e1f97547b7a070806d215e1dda",
            "3b0becace805410a8b10d7d7276bd5ee",
            "63c2b6f8779047d9a303a7bc1b9ed944",
            "a14becbad3be4886a6e056f2a2673c56",
            "0ad2c8b6854346edb6f26c18726495a5",
            "e6ccd114de6b423cb0d19dc4937dd6b8",
            "4a97dcb79f414a37a2ddeb4be0f29116",
            "30b05409563540498a34de405672cc77",
            "4dcc43c651e24015be8c6c2a2cdad39b",
            "40c48cc0d08c40b8884935cf30102618",
            "87fc6e8a892343f8890c19541de03991",
            "5f88b0e0ff6248c9a73ae8ee7861dc5b",
            "d8d82c99eecc4e3abbc8217aea871674",
            "b3c6d968391748fdbfdae50bf59fa965",
            "4d5c885cf4fb41519113ed0648db55b2",
            "fe233112aa124fea86b964a8bf83071e",
            "6027f304bc2e43dd8bb7cc62b09e8430",
            "348fa112664c4f6ab190132321d4bd9d",
            "8cac4f8731f54c4e958b1863713c28a6",
            "367a4a6a95b842639fd5438be4587053",
            "123be4093d2f475e884104a71e59d918",
            "8929d279ca9d4762bac098830f9663a3",
            "ccf536bdcacb4827b3391729b8141bc1",
            "9edd172aff5d41e1ab23f0f8606e318b",
            "073c5152952147ec9c75c989d3dd160c",
            "5809ef08765648fe99360818ba1ee628",
            "88da0ed45bb247c28cb67cd3fd44cf2e",
            "718c8fc92c9d4e86b4198e8245a074f8",
            "214fc064ba1d43f38757ab133d91dc7e"
          ]
        },
        "outputId": "b5d76d28-a6e3-4c01-cf2c-eb2082ea15e7"
      },
      "execution_count": 3,
      "outputs": [
        {
          "output_type": "stream",
          "name": "stdout",
          "text": [
            "Downloading http://yann.lecun.com/exdb/mnist/train-images-idx3-ubyte.gz\n",
            "Downloading http://yann.lecun.com/exdb/mnist/train-images-idx3-ubyte.gz to ./data/MNIST/raw/train-images-idx3-ubyte.gz\n"
          ]
        },
        {
          "output_type": "display_data",
          "data": {
            "text/plain": [
              "  0%|          | 0/9912422 [00:00<?, ?it/s]"
            ],
            "application/vnd.jupyter.widget-view+json": {
              "version_major": 2,
              "version_minor": 0,
              "model_id": "dfbfbc55035f47e68eeaffc8dd5037ba"
            }
          },
          "metadata": {}
        },
        {
          "output_type": "stream",
          "name": "stdout",
          "text": [
            "Extracting ./data/MNIST/raw/train-images-idx3-ubyte.gz to ./data/MNIST/raw\n",
            "\n",
            "Downloading http://yann.lecun.com/exdb/mnist/train-labels-idx1-ubyte.gz\n",
            "Downloading http://yann.lecun.com/exdb/mnist/train-labels-idx1-ubyte.gz to ./data/MNIST/raw/train-labels-idx1-ubyte.gz\n"
          ]
        },
        {
          "output_type": "display_data",
          "data": {
            "text/plain": [
              "  0%|          | 0/28881 [00:00<?, ?it/s]"
            ],
            "application/vnd.jupyter.widget-view+json": {
              "version_major": 2,
              "version_minor": 0,
              "model_id": "88aa48acdd494837b4d89dad3d79ff41"
            }
          },
          "metadata": {}
        },
        {
          "output_type": "stream",
          "name": "stdout",
          "text": [
            "Extracting ./data/MNIST/raw/train-labels-idx1-ubyte.gz to ./data/MNIST/raw\n",
            "\n",
            "Downloading http://yann.lecun.com/exdb/mnist/t10k-images-idx3-ubyte.gz\n",
            "Downloading http://yann.lecun.com/exdb/mnist/t10k-images-idx3-ubyte.gz to ./data/MNIST/raw/t10k-images-idx3-ubyte.gz\n"
          ]
        },
        {
          "output_type": "display_data",
          "data": {
            "text/plain": [
              "  0%|          | 0/1648877 [00:00<?, ?it/s]"
            ],
            "application/vnd.jupyter.widget-view+json": {
              "version_major": 2,
              "version_minor": 0,
              "model_id": "30b05409563540498a34de405672cc77"
            }
          },
          "metadata": {}
        },
        {
          "output_type": "stream",
          "name": "stdout",
          "text": [
            "Extracting ./data/MNIST/raw/t10k-images-idx3-ubyte.gz to ./data/MNIST/raw\n",
            "\n",
            "Downloading http://yann.lecun.com/exdb/mnist/t10k-labels-idx1-ubyte.gz\n",
            "Downloading http://yann.lecun.com/exdb/mnist/t10k-labels-idx1-ubyte.gz to ./data/MNIST/raw/t10k-labels-idx1-ubyte.gz\n"
          ]
        },
        {
          "output_type": "display_data",
          "data": {
            "text/plain": [
              "  0%|          | 0/4542 [00:00<?, ?it/s]"
            ],
            "application/vnd.jupyter.widget-view+json": {
              "version_major": 2,
              "version_minor": 0,
              "model_id": "8cac4f8731f54c4e958b1863713c28a6"
            }
          },
          "metadata": {}
        },
        {
          "output_type": "stream",
          "name": "stdout",
          "text": [
            "Extracting ./data/MNIST/raw/t10k-labels-idx1-ubyte.gz to ./data/MNIST/raw\n",
            "\n"
          ]
        }
      ]
    },
    {
      "cell_type": "code",
      "source": [
        "#@title\n",
        "# Define your model\n",
        "class Model(torch.nn.Module):\n",
        "\n",
        "  def __init__(self):\n",
        "    super(\n",
        "        Model, self\n",
        "    ).__init__()\n",
        "    "
      ],
      "metadata": {
        "id": "O745R-MiPUBG",
        "cellView": "form"
      },
      "execution_count": null,
      "outputs": []
    },
    {
      "cell_type": "code",
      "source": [
        "n_iters = 3000\n",
        "epochs = n_iters / (\n",
        "    len(\n",
        "        train_loader#_dataset\n",
        "    ) / batch_size\n",
        ")\n",
        "input_dim = 784\n",
        "output_dim = 10 #0\n",
        "lr_rate = 0.001"
      ],
      "metadata": {
        "id": "aGVqxPZ4cAs8"
      },
      "execution_count": 4,
      "outputs": []
    },
    {
      "cell_type": "code",
      "execution_count": 5,
      "metadata": {
        "id": "kotSpgOIT1I7",
        "colab": {
          "base_uri": "https://localhost:8080/"
        },
        "outputId": "3adfdeea-4398-4b08-d2aa-04e40c95cc96"
      },
      "outputs": [
        {
          "output_type": "stream",
          "name": "stdout",
          "text": [
            "Iteration: 500. Loss: 0.24654731154441833. Accuracy: 99.49466705322266.\n",
            "Iteration: 1000. Loss: 0.10593008249998093. Accuracy: 99.5578384399414.\n"
          ]
        }
      ],
      "source": [
        "# Define your model\n",
        "class Model(torch.nn.Module):  \n",
        "  \n",
        "  def __init__(self):\n",
        "    super(Model, self).__init__()\n",
        "    # code here ...\n",
        "    self.linear = torch.nn.Linear(\n",
        "        input_dim, output_dim\n",
        "    )\n",
        "    \n",
        "  def forward(self, x):\n",
        "    # code here ...\n",
        "    outputs = self.linear(x)\n",
        "    return outputs\n",
        "\n",
        "model = Model()\n",
        "\n",
        "# define your loss\n",
        "criterion = torch.nn.CrossEntropyLoss() # code here ...\n",
        "\n",
        "# define your optimizer\n",
        "opt = torch.optim.SGD(\n",
        "    model.parameters(), lr=lr_rate) # code here ...\n",
        "\n",
        "epochs = 10\n",
        "# train your model\n",
        "iter = 0\n",
        "for epoch in range(\n",
        "    int(\n",
        "        epochs\n",
        "    )\n",
        "): #epochs):\n",
        "  for batch_n, (\n",
        "      images, labels\n",
        "  ) in enumerate(\n",
        "      train_loader\n",
        "  ): #imgs, labels) in enumerate(train_loader):\n",
        "    # code here ...\n",
        "    images = Variable(\n",
        "        images.view(\n",
        "            -1, 28 * 28\n",
        "        )\n",
        "    )\n",
        "    labels = Variable(labels)\n",
        "\n",
        "    opt.zero_grad() #imizer.zero_grad()\n",
        "    outputs = model(\n",
        "        images\n",
        "    )\n",
        "    loss = criterion(\n",
        "        outputs, labels\n",
        "    )\n",
        "    loss.backward()\n",
        "    opt.step() #imizer.step()\n",
        "\n",
        "    iter+=1\n",
        "    if iter%500==0:\n",
        "      # calculate Accuracy\n",
        "      correct = 0\n",
        "      total = 0\n",
        "      for images, labels in test_loader:\n",
        "        images = Variable(\n",
        "            images.view(\n",
        "                -1, 28*28\n",
        "            )\n",
        "        )\n",
        "        outputs = model(\n",
        "            images\n",
        "        )\n",
        "        _, predicted = torch.max(\n",
        "            outputs.data, 1\n",
        "        )\n",
        "        total+= labels.size(\n",
        "            0\n",
        "        )\n",
        "\n",
        "        correct+= (\n",
        "            predicted == labels\n",
        "        ).sum()\n",
        "      accuracy = 100 * correct/total\n",
        "      print(\n",
        "          \"Iteration: {}. Loss: {}. Accuracy: {}.\".format(\n",
        "              iter, loss.item(), accuracy\n",
        "          )\n",
        "      )"
      ]
    },
    {
      "cell_type": "code",
      "execution_count": null,
      "metadata": {
        "id": "fvgHd9cuT1I-",
        "cellView": "form"
      },
      "outputs": [],
      "source": [
        "#@title\n",
        "# evalutation on test set\n",
        "accuracy = 0.\n",
        "n_inputs = 0.\n",
        "for n_batch, (imgs, labels) in enumerate(test_loader):\n",
        "  # code here ..."
      ]
    },
    {
      "cell_type": "code",
      "source": [
        "# evaluation on test set\n",
        "accuracy1 = 0.\n",
        "n_inputs = 0.\n",
        "for n_batch, (\n",
        "    imgs, labels\n",
        ") in enumerate(\n",
        "    test_loader):\n",
        "  imgs = Variable( #images = Variable(\n",
        "      imgs.view( #images.view(\n",
        "          -1, 28*28\n",
        "      )\n",
        "  )\n",
        "  outputs = model(\n",
        "      imgs #images\n",
        "  )\n",
        "  _, predicted = torch.max(\n",
        "      outputs.data, 1\n",
        "  )\n",
        "  total+= labels.size(\n",
        "      0\n",
        "  )\n",
        "\n",
        "  correct+= (\n",
        "      predicted == labels\n",
        "  ).sum()\n",
        "accuracy1 = 100 * correct/total\n",
        "print(\n",
        "    \"Iteration : {}. Loss: {}. Accuracy1: {}.\".format(\n",
        "        iter, loss.item(), accuracy1\n",
        "    )\n",
        ")\n",
        "  "
      ],
      "metadata": {
        "colab": {
          "base_uri": "https://localhost:8080/"
        },
        "id": "MuubtkwnhKmG",
        "outputId": "9269e930-75e5-47dc-9e27-174173b2c8b2"
      },
      "execution_count": 6,
      "outputs": [
        {
          "output_type": "stream",
          "name": "stdout",
          "text": [
            "Iteration : 1270. Loss: 0.10329961031675339. Accuracy1: 99.5696792602539.\n"
          ]
        }
      ]
    },
    {
      "cell_type": "code",
      "execution_count": null,
      "metadata": {
        "id": "xs3dUPwaT1JA",
        "cellView": "form"
      },
      "outputs": [],
      "source": [
        "#@title\n",
        "# compute and plot the adversairal pertubation\n",
        "eps = 0.2\n",
        "delta = eps * model.linear.weight.detach().sign()\n",
        "plt.imshow(1-delta.reshape(28, 28), cmap=\"gray\")\n",
        "plt.show()"
      ]
    },
    {
      "cell_type": "code",
      "source": [
        "# compute and plot the adversarial perturbation\n",
        "eps = 0.2\n",
        "delta = eps * model.linear.weight.detach().sign()\n",
        "plt.imshow(\n",
        "    1-delta[0].reshape(\n",
        "        28, 28\n",
        "    ), cmap=\"gray\"\n",
        ")\n",
        "plt.show()"
      ],
      "metadata": {
        "colab": {
          "base_uri": "https://localhost:8080/",
          "height": 265
        },
        "id": "sPrV8qTCo5Xr",
        "outputId": "ff5dd9f2-b9bd-4e04-dff1-26205d0f8928"
      },
      "execution_count": 7,
      "outputs": [
        {
          "output_type": "display_data",
          "data": {
            "text/plain": [
              "<Figure size 432x288 with 1 Axes>"
            ],
            "image/png": "[encoded data removed]"
          },
          "metadata": {
            "needs_background": "light"
          }
        }
      ]
    },
    {
      "cell_type": "code",
      "execution_count": null,
      "metadata": {
        "id": "n4rUG-EoT1JD",
        "cellView": "form"
      },
      "outputs": [],
      "source": [
        "#@title\n",
        "# [CELL ID] 11\n",
        "\n",
        "# make an evaluation \"under attack\"\n",
        "accuracy = 0.\n",
        "n_inputs = 0.\n",
        "for n_batch, (imgs, labels) in enumerate(test_loader):\n",
        "  # code here ..."
      ]
    },
    {
      "cell_type": "code",
      "execution_count": 8,
      "metadata": {
        "id": "ebUf1BxrT1JG",
        "colab": {
          "base_uri": "https://localhost:8080/"
        },
        "outputId": "c96187ed-3f86-42ec-9a46-81f80f287fe9"
      },
      "outputs": [
        {
          "output_type": "stream",
          "name": "stdout",
          "text": [
            "Iteration : 1270. Loss: 0.10329961031675339. Accuracy2: 77.20489501953125.\n"
          ]
        }
      ],
      "source": [
        "# evaluation on test set\n",
        "accuracy2 = 0.\n",
        "n_inputs = 0.\n",
        "for n_batch, (\n",
        "    imgs, labels\n",
        ") in enumerate(\n",
        "    test_loader):\n",
        "  imgs = Variable( #images = Variable(\n",
        "      imgs.view( #images.view(\n",
        "          -1, 28*28\n",
        "      )\n",
        "  )\n",
        "  outputs = model(\n",
        "      imgs + (2* labels.view(-1,1) - 1) * delta[0] #images\n",
        "  )\n",
        "  _, predicted = torch.max(\n",
        "      outputs.data, 1\n",
        "  )\n",
        "  total+= labels.size(\n",
        "      0\n",
        "  )\n",
        "\n",
        "  correct+= (\n",
        "      predicted == labels\n",
        "  ).sum()\n",
        "accuracy2 = 100 * correct/total\n",
        "print(\n",
        "    \"Iteration : {}. Loss: {}. Accuracy2: {}.\".format(\n",
        "        iter, loss.item(), accuracy2\n",
        "    )\n",
        ")\n",
        "  "
      ]
    },
    {
      "cell_type": "code",
      "execution_count": null,
      "metadata": {
        "id": "Wbsec2V8T1JK",
        "colab": {
          "base_uri": "https://localhost:8080/",
          "height": 265
        },
        "outputId": "06f51ffb-6ab8-437e-bec0-08471b1dbeb7",
        "collapsed": true,
        "cellView": "form"
      },
      "outputs": [
        {
          "output_type": "display_data",
          "data": {
            "text/plain": [
              "<Figure size 432x288 with 1 Axes>"
            ],
            "image/png": "[encoded data removed]"
          },
          "metadata": {
            "needs_background": "light"
          }
        }
      ],
      "source": [
        "#@title\n",
        "# compute and plot the adversarial perturbation\n",
        "eps = 0.2\n",
        "delta = eps * model.linear.weight.detach().sign()\n",
        "plt.imshow(\n",
        "    imgs[0].view(28,28)-delta[0].reshape( \n",
        "        28, 28\n",
        "    ), cmap=\"gray\"\n",
        ")\n",
        "plt.show()"
      ]
    },
    {
      "cell_type": "code",
      "execution_count": 12,
      "metadata": {
        "id": "kf5vDuVET1JM",
        "colab": {
          "base_uri": "https://localhost:8080/",
          "height": 265
        },
        "outputId": "69d3bdf9-7cf6-41b0-ec74-286aec48e8e9"
      },
      "outputs": [
        {
          "output_type": "display_data",
          "data": {
            "text/plain": [
              "<Figure size 432x288 with 1 Axes>"
            ],
            "image/png": "[encoded data removed]"
          },
          "metadata": {
            "needs_background": "light"
          }
        }
      ],
      "source": [
        "# compute and plot the adversarial perturbation\n",
        "eps = 0.2\n",
        "delta = eps * model.linear.weight.detach().sign() #/sign()\n",
        "plt.imshow(\n",
        "    imgs[0].view(28,28)-delta[0].reshape(28, 28), cmap=\"gray\" #reshape(28,28), cmap=\"gray\"\n",
        ")\n",
        "plt.show()"
      ]
    },
    {
      "cell_type": "code",
      "execution_count": null,
      "metadata": {
        "id": "XDmGlpCPT1JO"
      },
      "outputs": [],
      "source": []
    },
    {
      "cell_type": "code",
      "execution_count": null,
      "metadata": {
        "id": "bFeWct1DT1JQ"
      },
      "outputs": [],
      "source": []
    }
  ],
  "metadata": {
    "accelerator": "GPU",
    "colab": {
      "provenance": [],
      "include_colab_link": true
    },
    "kernelspec": {
      "display_name": "Python 3",
      "language": "python",
      "name": "python3"
    },
    "language_info": {
      "codemirror_mode": {
        "name": "ipython",
        "version": 3
      },
      "file_extension": ".py",
      "mimetype": "text/x-python",
      "name": "python",
      "nbconvert_exporter": "python",
      "pygments_lexer": "ipython3",
      "version": "3.9.4"
    },
    "widgets": {
      "application/vnd.jupyter.widget-state+json": {
        "dfbfbc55035f47e68eeaffc8dd5037ba": {
          "model_module": "@jupyter-widgets/controls",
          "model_name": "HBoxModel",
          "model_module_version": "1.5.0",
          "state": {
            "_dom_classes": [],
            "_model_module": "@jupyter-widgets/controls",
            "_model_module_version": "1.5.0",
            "_model_name": "HBoxModel",
            "_view_count": null,
            "_view_module": "@jupyter-widgets/controls",
            "_view_module_version": "1.5.0",
            "_view_name": "HBoxView",
            "box_style": "",
            "children": [
              "IPY_MODEL_50c384fd1f62455ca25f7c213fc4f884",
              "IPY_MODEL_b825f843ba9d40669e46ed290961b5a5",
              "IPY_MODEL_0c2c28c51b4f483991da8dccf1c8dcaa"
            ],
            "layout": "IPY_MODEL_0c5b5edc5c054698bd7722b91351e562"
          }
        },
        "50c384fd1f62455ca25f7c213fc4f884": {
          "model_module": "@jupyter-widgets/controls",
          "model_name": "HTMLModel",
          "model_module_version": "1.5.0",
          "state": {
            "_dom_classes": [],
            "_model_module": "@jupyter-widgets/controls",
            "_model_module_version": "1.5.0",
            "_model_name": "HTMLModel",
            "_view_count": null,
            "_view_module": "@jupyter-widgets/controls",
            "_view_module_version": "1.5.0",
            "_view_name": "HTMLView",
            "description": "",
            "description_tooltip": null,
            "layout": "IPY_MODEL_6d977db69e1447c1ab45d5c3f9b5ccc5",
            "placeholder": "​",
            "style": "IPY_MODEL_5ceb24fc6bf64b5bb2405d8408ca49c1",
            "value": "100%"
          }
        },
        "b825f843ba9d40669e46ed290961b5a5": {
          "model_module": "@jupyter-widgets/controls",
          "model_name": "FloatProgressModel",
          "model_module_version": "1.5.0",
          "state": {
            "_dom_classes": [],
            "_model_module": "@jupyter-widgets/controls",
            "_model_module_version": "1.5.0",
            "_model_name": "FloatProgressModel",
            "_view_count": null,
            "_view_module": "@jupyter-widgets/controls",
            "_view_module_version": "1.5.0",
            "_view_name": "ProgressView",
            "bar_style": "success",
            "description": "",
            "description_tooltip": null,
            "layout": "IPY_MODEL_888003c2f09e4279ad0fd161cf563ce4",
            "max": 9912422,
            "min": 0,
            "orientation": "horizontal",
            "style": "IPY_MODEL_a8f3bda795fa43349dea0a4ff1abe50a",
            "value": 9912422
          }
        },
        "0c2c28c51b4f483991da8dccf1c8dcaa": {
          "model_module": "@jupyter-widgets/controls",
          "model_name": "HTMLModel",
          "model_module_version": "1.5.0",
          "state": {
            "_dom_classes": [],
            "_model_module": "@jupyter-widgets/controls",
            "_model_module_version": "1.5.0",
            "_model_name": "HTMLModel",
            "_view_count": null,
            "_view_module": "@jupyter-widgets/controls",
            "_view_module_version": "1.5.0",
            "_view_name": "HTMLView",
            "description": "",
            "description_tooltip": null,
            "layout": "IPY_MODEL_1aba0fc4f22848878c3ab5151938c70b",
            "placeholder": "​",
            "style": "IPY_MODEL_d53efc2bd13a4ee6bb2aa699f0532162",
            "value": " 9912422/9912422 [00:00&lt;00:00, 88017366.04it/s]"
          }
        },
        "0c5b5edc5c054698bd7722b91351e562": {
          "model_module": "@jupyter-widgets/base",
          "model_name": "LayoutModel",
          "model_module_version": "1.2.0",
          "state": {
            "_model_module": "@jupyter-widgets/base",
            "_model_module_version": "1.2.0",
            "_model_name": "LayoutModel",
            "_view_count": null,
            "_view_module": "@jupyter-widgets/base",
            "_view_module_version": "1.2.0",
            "_view_name": "LayoutView",
            "align_content": null,
            "align_items": null,
            "align_self": null,
            "border": null,
            "bottom": null,
            "display": null,
            "flex": null,
            "flex_flow": null,
            "grid_area": null,
            "grid_auto_columns": null,
            "grid_auto_flow": null,
            "grid_auto_rows": null,
            "grid_column": null,
            "grid_gap": null,
            "grid_row": null,
            "grid_template_areas": null,
            "grid_template_columns": null,
            "grid_template_rows": null,
            "height": null,
            "justify_content": null,
            "justify_items": null,
            "left": null,
            "margin": null,
            "max_height": null,
            "max_width": null,
            "min_height": null,
            "min_width": null,
            "object_fit": null,
            "object_position": null,
            "order": null,
            "overflow": null,
            "overflow_x": null,
            "overflow_y": null,
            "padding": null,
            "right": null,
            "top": null,
            "visibility": null,
            "width": null
          }
        },
        "6d977db69e1447c1ab45d5c3f9b5ccc5": {
          "model_module": "@jupyter-widgets/base",
          "model_name": "LayoutModel",
          "model_module_version": "1.2.0",
          "state": {
            "_model_module": "@jupyter-widgets/base",
            "_model_module_version": "1.2.0",
            "_model_name": "LayoutModel",
            "_view_count": null,
            "_view_module": "@jupyter-widgets/base",
            "_view_module_version": "1.2.0",
            "_view_name": "LayoutView",
            "align_content": null,
            "align_items": null,
            "align_self": null,
            "border": null,
            "bottom": null,
            "display": null,
            "flex": null,
            "flex_flow": null,
            "grid_area": null,
            "grid_auto_columns": null,
            "grid_auto_flow": null,
            "grid_auto_rows": null,
            "grid_column": null,
            "grid_gap": null,
            "grid_row": null,
            "grid_template_areas": null,
            "grid_template_columns": null,
            "grid_template_rows": null,
            "height": null,
            "justify_content": null,
            "justify_items": null,
            "left": null,
            "margin": null,
            "max_height": null,
            "max_width": null,
            "min_height": null,
            "min_width": null,
            "object_fit": null,
            "object_position": null,
            "order": null,
            "overflow": null,
            "overflow_x": null,
            "overflow_y": null,
            "padding": null,
            "right": null,
            "top": null,
            "visibility": null,
            "width": null
          }
        },
        "5ceb24fc6bf64b5bb2405d8408ca49c1": {
          "model_module": "@jupyter-widgets/controls",
          "model_name": "DescriptionStyleModel",
          "model_module_version": "1.5.0",
          "state": {
            "_model_module": "@jupyter-widgets/controls",
            "_model_module_version": "1.5.0",
            "_model_name": "DescriptionStyleModel",
            "_view_count": null,
            "_view_module": "@jupyter-widgets/base",
            "_view_module_version": "1.2.0",
            "_view_name": "StyleView",
            "description_width": ""
          }
        },
        "888003c2f09e4279ad0fd161cf563ce4": {
          "model_module": "@jupyter-widgets/base",
          "model_name": "LayoutModel",
          "model_module_version": "1.2.0",
          "state": {
            "_model_module": "@jupyter-widgets/base",
            "_model_module_version": "1.2.0",
            "_model_name": "LayoutModel",
            "_view_count": null,
            "_view_module": "@jupyter-widgets/base",
            "_view_module_version": "1.2.0",
            "_view_name": "LayoutView",
            "align_content": null,
            "align_items": null,
            "align_self": null,
            "border": null,
            "bottom": null,
            "display": null,
            "flex": null,
            "flex_flow": null,
            "grid_area": null,
            "grid_auto_columns": null,
            "grid_auto_flow": null,
            "grid_auto_rows": null,
            "grid_column": null,
            "grid_gap": null,
            "grid_row": null,
            "grid_template_areas": null,
            "grid_template_columns": null,
            "grid_template_rows": null,
            "height": null,
            "justify_content": null,
            "justify_items": null,
            "left": null,
            "margin": null,
            "max_height": null,
            "max_width": null,
            "min_height": null,
            "min_width": null,
            "object_fit": null,
            "object_position": null,
            "order": null,
            "overflow": null,
            "overflow_x": null,
            "overflow_y": null,
            "padding": null,
            "right": null,
            "top": null,
            "visibility": null,
            "width": null
          }
        },
        "a8f3bda795fa43349dea0a4ff1abe50a": {
          "model_module": "@jupyter-widgets/controls",
          "model_name": "ProgressStyleModel",
          "model_module_version": "1.5.0",
          "state": {
            "_model_module": "@jupyter-widgets/controls",
            "_model_module_version": "1.5.0",
            "_model_name": "ProgressStyleModel",
            "_view_count": null,
            "_view_module": "@jupyter-widgets/base",
            "_view_module_version": "1.2.0",
            "_view_name": "StyleView",
            "bar_color": null,
            "description_width": ""
          }
        },
        "1aba0fc4f22848878c3ab5151938c70b": {
          "model_module": "@jupyter-widgets/base",
          "model_name": "LayoutModel",
          "model_module_version": "1.2.0",
          "state": {
            "_model_module": "@jupyter-widgets/base",
            "_model_module_version": "1.2.0",
            "_model_name": "LayoutModel",
            "_view_count": null,
            "_view_module": "@jupyter-widgets/base",
            "_view_module_version": "1.2.0",
            "_view_name": "LayoutView",
            "align_content": null,
            "align_items": null,
            "align_self": null,
            "border": null,
            "bottom": null,
            "display": null,
            "flex": null,
            "flex_flow": null,
            "grid_area": null,
            "grid_auto_columns": null,
            "grid_auto_flow": null,
            "grid_auto_rows": null,
            "grid_column": null,
            "grid_gap": null,
            "grid_row": null,
            "grid_template_areas": null,
            "grid_template_columns": null,
            "grid_template_rows": null,
            "height": null,
            "justify_content": null,
            "justify_items": null,
            "left": null,
            "margin": null,
            "max_height": null,
            "max_width": null,
            "min_height": null,
            "min_width": null,
            "object_fit": null,
            "object_position": null,
            "order": null,
            "overflow": null,
            "overflow_x": null,
            "overflow_y": null,
            "padding": null,
            "right": null,
            "top": null,
            "visibility": null,
            "width": null
          }
        },
        "d53efc2bd13a4ee6bb2aa699f0532162": {
          "model_module": "@jupyter-widgets/controls",
          "model_name": "DescriptionStyleModel",
          "model_module_version": "1.5.0",
          "state": {
            "_model_module": "@jupyter-widgets/controls",
            "_model_module_version": "1.5.0",
            "_model_name": "DescriptionStyleModel",
            "_view_count": null,
            "_view_module": "@jupyter-widgets/base",
            "_view_module_version": "1.2.0",
            "_view_name": "StyleView",
            "description_width": ""
          }
        },
        "88aa48acdd494837b4d89dad3d79ff41": {
          "model_module": "@jupyter-widgets/controls",
          "model_name": "HBoxModel",
          "model_module_version": "1.5.0",
          "state": {
            "_dom_classes": [],
            "_model_module": "@jupyter-widgets/controls",
            "_model_module_version": "1.5.0",
            "_model_name": "HBoxModel",
            "_view_count": null,
            "_view_module": "@jupyter-widgets/controls",
            "_view_module_version": "1.5.0",
            "_view_name": "HBoxView",
            "box_style": "",
            "children": [
              "IPY_MODEL_278e8c4b16d843f29a6c619bd1ac3334",
              "IPY_MODEL_6147e141094e4a54af6dd7f90a2e9d44",
              "IPY_MODEL_c3a1e85802f8454ba8b25e21a7830a56"
            ],
            "layout": "IPY_MODEL_611c67e1f97547b7a070806d215e1dda"
          }
        },
        "278e8c4b16d843f29a6c619bd1ac3334": {
          "model_module": "@jupyter-widgets/controls",
          "model_name": "HTMLModel",
          "model_module_version": "1.5.0",
          "state": {
            "_dom_classes": [],
            "_model_module": "@jupyter-widgets/controls",
            "_model_module_version": "1.5.0",
            "_model_name": "HTMLModel",
            "_view_count": null,
            "_view_module": "@jupyter-widgets/controls",
            "_view_module_version": "1.5.0",
            "_view_name": "HTMLView",
            "description": "",
            "description_tooltip": null,
            "layout": "IPY_MODEL_3b0becace805410a8b10d7d7276bd5ee",
            "placeholder": "​",
            "style": "IPY_MODEL_63c2b6f8779047d9a303a7bc1b9ed944",
            "value": "100%"
          }
        },
        "6147e141094e4a54af6dd7f90a2e9d44": {
          "model_module": "@jupyter-widgets/controls",
          "model_name": "FloatProgressModel",
          "model_module_version": "1.5.0",
          "state": {
            "_dom_classes": [],
            "_model_module": "@jupyter-widgets/controls",
            "_model_module_version": "1.5.0",
            "_model_name": "FloatProgressModel",
            "_view_count": null,
            "_view_module": "@jupyter-widgets/controls",
            "_view_module_version": "1.5.0",
            "_view_name": "ProgressView",
            "bar_style": "success",
            "description": "",
            "description_tooltip": null,
            "layout": "IPY_MODEL_a14becbad3be4886a6e056f2a2673c56",
            "max": 28881,
            "min": 0,
            "orientation": "horizontal",
            "style": "IPY_MODEL_0ad2c8b6854346edb6f26c18726495a5",
            "value": 28881
          }
        },
        "c3a1e85802f8454ba8b25e21a7830a56": {
          "model_module": "@jupyter-widgets/controls",
          "model_name": "HTMLModel",
          "model_module_version": "1.5.0",
          "state": {
            "_dom_classes": [],
            "_model_module": "@jupyter-widgets/controls",
            "_model_module_version": "1.5.0",
            "_model_name": "HTMLModel",
            "_view_count": null,
            "_view_module": "@jupyter-widgets/controls",
            "_view_module_version": "1.5.0",
            "_view_name": "HTMLView",
            "description": "",
            "description_tooltip": null,
            "layout": "IPY_MODEL_e6ccd114de6b423cb0d19dc4937dd6b8",
            "placeholder": "​",
            "style": "IPY_MODEL_4a97dcb79f414a37a2ddeb4be0f29116",
            "value": " 28881/28881 [00:00&lt;00:00, 976357.46it/s]"
          }
        },
        "611c67e1f97547b7a070806d215e1dda": {
          "model_module": "@jupyter-widgets/base",
          "model_name": "LayoutModel",
          "model_module_version": "1.2.0",
          "state": {
            "_model_module": "@jupyter-widgets/base",
            "_model_module_version": "1.2.0",
            "_model_name": "LayoutModel",
            "_view_count": null,
            "_view_module": "@jupyter-widgets/base",
            "_view_module_version": "1.2.0",
            "_view_name": "LayoutView",
            "align_content": null,
            "align_items": null,
            "align_self": null,
            "border": null,
            "bottom": null,
            "display": null,
            "flex": null,
            "flex_flow": null,
            "grid_area": null,
            "grid_auto_columns": null,
            "grid_auto_flow": null,
            "grid_auto_rows": null,
            "grid_column": null,
            "grid_gap": null,
            "grid_row": null,
            "grid_template_areas": null,
            "grid_template_columns": null,
            "grid_template_rows": null,
            "height": null,
            "justify_content": null,
            "justify_items": null,
            "left": null,
            "margin": null,
            "max_height": null,
            "max_width": null,
            "min_height": null,
            "min_width": null,
            "object_fit": null,
            "object_position": null,
            "order": null,
            "overflow": null,
            "overflow_x": null,
            "overflow_y": null,
            "padding": null,
            "right": null,
            "top": null,
            "visibility": null,
            "width": null
          }
        },
        "3b0becace805410a8b10d7d7276bd5ee": {
          "model_module": "@jupyter-widgets/base",
          "model_name": "LayoutModel",
          "model_module_version": "1.2.0",
          "state": {
            "_model_module": "@jupyter-widgets/base",
            "_model_module_version": "1.2.0",
            "_model_name": "LayoutModel",
            "_view_count": null,
            "_view_module": "@jupyter-widgets/base",
            "_view_module_version": "1.2.0",
            "_view_name": "LayoutView",
            "align_content": null,
            "align_items": null,
            "align_self": null,
            "border": null,
            "bottom": null,
            "display": null,
            "flex": null,
            "flex_flow": null,
            "grid_area": null,
            "grid_auto_columns": null,
            "grid_auto_flow": null,
            "grid_auto_rows": null,
            "grid_column": null,
            "grid_gap": null,
            "grid_row": null,
            "grid_template_areas": null,
            "grid_template_columns": null,
            "grid_template_rows": null,
            "height": null,
            "justify_content": null,
            "justify_items": null,
            "left": null,
            "margin": null,
            "max_height": null,
            "max_width": null,
            "min_height": null,
            "min_width": null,
            "object_fit": null,
            "object_position": null,
            "order": null,
            "overflow": null,
            "overflow_x": null,
            "overflow_y": null,
            "padding": null,
            "right": null,
            "top": null,
            "visibility": null,
            "width": null
          }
        },
        "63c2b6f8779047d9a303a7bc1b9ed944": {
          "model_module": "@jupyter-widgets/controls",
          "model_name": "DescriptionStyleModel",
          "model_module_version": "1.5.0",
          "state": {
            "_model_module": "@jupyter-widgets/controls",
            "_model_module_version": "1.5.0",
            "_model_name": "DescriptionStyleModel",
            "_view_count": null,
            "_view_module": "@jupyter-widgets/base",
            "_view_module_version": "1.2.0",
            "_view_name": "StyleView",
            "description_width": ""
          }
        },
        "a14becbad3be4886a6e056f2a2673c56": {
          "model_module": "@jupyter-widgets/base",
          "model_name": "LayoutModel",
          "model_module_version": "1.2.0",
          "state": {
            "_model_module": "@jupyter-widgets/base",
            "_model_module_version": "1.2.0",
            "_model_name": "LayoutModel",
            "_view_count": null,
            "_view_module": "@jupyter-widgets/base",
            "_view_module_version": "1.2.0",
            "_view_name": "LayoutView",
            "align_content": null,
            "align_items": null,
            "align_self": null,
            "border": null,
            "bottom": null,
            "display": null,
            "flex": null,
            "flex_flow": null,
            "grid_area": null,
            "grid_auto_columns": null,
            "grid_auto_flow": null,
            "grid_auto_rows": null,
            "grid_column": null,
            "grid_gap": null,
            "grid_row": null,
            "grid_template_areas": null,
            "grid_template_columns": null,
            "grid_template_rows": null,
            "height": null,
            "justify_content": null,
            "justify_items": null,
            "left": null,
            "margin": null,
            "max_height": null,
            "max_width": null,
            "min_height": null,
            "min_width": null,
            "object_fit": null,
            "object_position": null,
            "order": null,
            "overflow": null,
            "overflow_x": null,
            "overflow_y": null,
            "padding": null,
            "right": null,
            "top": null,
            "visibility": null,
            "width": null
          }
        },
        "0ad2c8b6854346edb6f26c18726495a5": {
          "model_module": "@jupyter-widgets/controls",
          "model_name": "ProgressStyleModel",
          "model_module_version": "1.5.0",
          "state": {
            "_model_module": "@jupyter-widgets/controls",
            "_model_module_version": "1.5.0",
            "_model_name": "ProgressStyleModel",
            "_view_count": null,
            "_view_module": "@jupyter-widgets/base",
            "_view_module_version": "1.2.0",
            "_view_name": "StyleView",
            "bar_color": null,
            "description_width": ""
          }
        },
        "e6ccd114de6b423cb0d19dc4937dd6b8": {
          "model_module": "@jupyter-widgets/base",
          "model_name": "LayoutModel",
          "model_module_version": "1.2.0",
          "state": {
            "_model_module": "@jupyter-widgets/base",
            "_model_module_version": "1.2.0",
            "_model_name": "LayoutModel",
            "_view_count": null,
            "_view_module": "@jupyter-widgets/base",
            "_view_module_version": "1.2.0",
            "_view_name": "LayoutView",
            "align_content": null,
            "align_items": null,
            "align_self": null,
            "border": null,
            "bottom": null,
            "display": null,
            "flex": null,
            "flex_flow": null,
            "grid_area": null,
            "grid_auto_columns": null,
            "grid_auto_flow": null,
            "grid_auto_rows": null,
            "grid_column": null,
            "grid_gap": null,
            "grid_row": null,
            "grid_template_areas": null,
            "grid_template_columns": null,
            "grid_template_rows": null,
            "height": null,
            "justify_content": null,
            "justify_items": null,
            "left": null,
            "margin": null,
            "max_height": null,
            "max_width": null,
            "min_height": null,
            "min_width": null,
            "object_fit": null,
            "object_position": null,
            "order": null,
            "overflow": null,
            "overflow_x": null,
            "overflow_y": null,
            "padding": null,
            "right": null,
            "top": null,
            "visibility": null,
            "width": null
          }
        },
        "4a97dcb79f414a37a2ddeb4be0f29116": {
          "model_module": "@jupyter-widgets/controls",
          "model_name": "DescriptionStyleModel",
          "model_module_version": "1.5.0",
          "state": {
            "_model_module": "@jupyter-widgets/controls",
            "_model_module_version": "1.5.0",
            "_model_name": "DescriptionStyleModel",
            "_view_count": null,
            "_view_module": "@jupyter-widgets/base",
            "_view_module_version": "1.2.0",
            "_view_name": "StyleView",
            "description_width": ""
          }
        },
        "30b05409563540498a34de405672cc77": {
          "model_module": "@jupyter-widgets/controls",
          "model_name": "HBoxModel",
          "model_module_version": "1.5.0",
          "state": {
            "_dom_classes": [],
            "_model_module": "@jupyter-widgets/controls",
            "_model_module_version": "1.5.0",
            "_model_name": "HBoxModel",
            "_view_count": null,
            "_view_module": "@jupyter-widgets/controls",
            "_view_module_version": "1.5.0",
            "_view_name": "HBoxView",
            "box_style": "",
            "children": [
              "IPY_MODEL_4dcc43c651e24015be8c6c2a2cdad39b",
              "IPY_MODEL_40c48cc0d08c40b8884935cf30102618",
              "IPY_MODEL_87fc6e8a892343f8890c19541de03991"
            ],
            "layout": "IPY_MODEL_5f88b0e0ff6248c9a73ae8ee7861dc5b"
          }
        },
        "4dcc43c651e24015be8c6c2a2cdad39b": {
          "model_module": "@jupyter-widgets/controls",
          "model_name": "HTMLModel",
          "model_module_version": "1.5.0",
          "state": {
            "_dom_classes": [],
            "_model_module": "@jupyter-widgets/controls",
            "_model_module_version": "1.5.0",
            "_model_name": "HTMLModel",
            "_view_count": null,
            "_view_module": "@jupyter-widgets/controls",
            "_view_module_version": "1.5.0",
            "_view_name": "HTMLView",
            "description": "",
            "description_tooltip": null,
            "layout": "IPY_MODEL_d8d82c99eecc4e3abbc8217aea871674",
            "placeholder": "​",
            "style": "IPY_MODEL_b3c6d968391748fdbfdae50bf59fa965",
            "value": "100%"
          }
        },
        "40c48cc0d08c40b8884935cf30102618": {
          "model_module": "@jupyter-widgets/controls",
          "model_name": "FloatProgressModel",
          "model_module_version": "1.5.0",
          "state": {
            "_dom_classes": [],
            "_model_module": "@jupyter-widgets/controls",
            "_model_module_version": "1.5.0",
            "_model_name": "FloatProgressModel",
            "_view_count": null,
            "_view_module": "@jupyter-widgets/controls",
            "_view_module_version": "1.5.0",
            "_view_name": "ProgressView",
            "bar_style": "success",
            "description": "",
            "description_tooltip": null,
            "layout": "IPY_MODEL_4d5c885cf4fb41519113ed0648db55b2",
            "max": 1648877,
            "min": 0,
            "orientation": "horizontal",
            "style": "IPY_MODEL_fe233112aa124fea86b964a8bf83071e",
            "value": 1648877
          }
        },
        "87fc6e8a892343f8890c19541de03991": {
          "model_module": "@jupyter-widgets/controls",
          "model_name": "HTMLModel",
          "model_module_version": "1.5.0",
          "state": {
            "_dom_classes": [],
            "_model_module": "@jupyter-widgets/controls",
            "_model_module_version": "1.5.0",
            "_model_name": "HTMLModel",
            "_view_count": null,
            "_view_module": "@jupyter-widgets/controls",
            "_view_module_version": "1.5.0",
            "_view_name": "HTMLView",
            "description": "",
            "description_tooltip": null,
            "layout": "IPY_MODEL_6027f304bc2e43dd8bb7cc62b09e8430",
            "placeholder": "​",
            "style": "IPY_MODEL_348fa112664c4f6ab190132321d4bd9d",
            "value": " 1648877/1648877 [00:00&lt;00:00, 27035794.44it/s]"
          }
        },
        "5f88b0e0ff6248c9a73ae8ee7861dc5b": {
          "model_module": "@jupyter-widgets/base",
          "model_name": "LayoutModel",
          "model_module_version": "1.2.0",
          "state": {
            "_model_module": "@jupyter-widgets/base",
            "_model_module_version": "1.2.0",
            "_model_name": "LayoutModel",
            "_view_count": null,
            "_view_module": "@jupyter-widgets/base",
            "_view_module_version": "1.2.0",
            "_view_name": "LayoutView",
            "align_content": null,
            "align_items": null,
            "align_self": null,
            "border": null,
            "bottom": null,
            "display": null,
            "flex": null,
            "flex_flow": null,
            "grid_area": null,
            "grid_auto_columns": null,
            "grid_auto_flow": null,
            "grid_auto_rows": null,
            "grid_column": null,
            "grid_gap": null,
            "grid_row": null,
            "grid_template_areas": null,
            "grid_template_columns": null,
            "grid_template_rows": null,
            "height": null,
            "justify_content": null,
            "justify_items": null,
            "left": null,
            "margin": null,
            "max_height": null,
            "max_width": null,
            "min_height": null,
            "min_width": null,
            "object_fit": null,
            "object_position": null,
            "order": null,
            "overflow": null,
            "overflow_x": null,
            "overflow_y": null,
            "padding": null,
            "right": null,
            "top": null,
            "visibility": null,
            "width": null
          }
        },
        "d8d82c99eecc4e3abbc8217aea871674": {
          "model_module": "@jupyter-widgets/base",
          "model_name": "LayoutModel",
          "model_module_version": "1.2.0",
          "state": {
            "_model_module": "@jupyter-widgets/base",
            "_model_module_version": "1.2.0",
            "_model_name": "LayoutModel",
            "_view_count": null,
            "_view_module": "@jupyter-widgets/base",
            "_view_module_version": "1.2.0",
            "_view_name": "LayoutView",
            "align_content": null,
            "align_items": null,
            "align_self": null,
            "border": null,
            "bottom": null,
            "display": null,
            "flex": null,
            "flex_flow": null,
            "grid_area": null,
            "grid_auto_columns": null,
            "grid_auto_flow": null,
            "grid_auto_rows": null,
            "grid_column": null,
            "grid_gap": null,
            "grid_row": null,
            "grid_template_areas": null,
            "grid_template_columns": null,
            "grid_template_rows": null,
            "height": null,
            "justify_content": null,
            "justify_items": null,
            "left": null,
            "margin": null,
            "max_height": null,
            "max_width": null,
            "min_height": null,
            "min_width": null,
            "object_fit": null,
            "object_position": null,
            "order": null,
            "overflow": null,
            "overflow_x": null,
            "overflow_y": null,
            "padding": null,
            "right": null,
            "top": null,
            "visibility": null,
            "width": null
          }
        },
        "b3c6d968391748fdbfdae50bf59fa965": {
          "model_module": "@jupyter-widgets/controls",
          "model_name": "DescriptionStyleModel",
          "model_module_version": "1.5.0",
          "state": {
            "_model_module": "@jupyter-widgets/controls",
            "_model_module_version": "1.5.0",
            "_model_name": "DescriptionStyleModel",
            "_view_count": null,
            "_view_module": "@jupyter-widgets/base",
            "_view_module_version": "1.2.0",
            "_view_name": "StyleView",
            "description_width": ""
          }
        },
        "4d5c885cf4fb41519113ed0648db55b2": {
          "model_module": "@jupyter-widgets/base",
          "model_name": "LayoutModel",
          "model_module_version": "1.2.0",
          "state": {
            "_model_module": "@jupyter-widgets/base",
            "_model_module_version": "1.2.0",
            "_model_name": "LayoutModel",
            "_view_count": null,
            "_view_module": "@jupyter-widgets/base",
            "_view_module_version": "1.2.0",
            "_view_name": "LayoutView",
            "align_content": null,
            "align_items": null,
            "align_self": null,
            "border": null,
            "bottom": null,
            "display": null,
            "flex": null,
            "flex_flow": null,
            "grid_area": null,
            "grid_auto_columns": null,
            "grid_auto_flow": null,
            "grid_auto_rows": null,
            "grid_column": null,
            "grid_gap": null,
            "grid_row": null,
            "grid_template_areas": null,
            "grid_template_columns": null,
            "grid_template_rows": null,
            "height": null,
            "justify_content": null,
            "justify_items": null,
            "left": null,
            "margin": null,
            "max_height": null,
            "max_width": null,
            "min_height": null,
            "min_width": null,
            "object_fit": null,
            "object_position": null,
            "order": null,
            "overflow": null,
            "overflow_x": null,
            "overflow_y": null,
            "padding": null,
            "right": null,
            "top": null,
            "visibility": null,
            "width": null
          }
        },
        "fe233112aa124fea86b964a8bf83071e": {
          "model_module": "@jupyter-widgets/controls",
          "model_name": "ProgressStyleModel",
          "model_module_version": "1.5.0",
          "state": {
            "_model_module": "@jupyter-widgets/controls",
            "_model_module_version": "1.5.0",
            "_model_name": "ProgressStyleModel",
            "_view_count": null,
            "_view_module": "@jupyter-widgets/base",
            "_view_module_version": "1.2.0",
            "_view_name": "StyleView",
            "bar_color": null,
            "description_width": ""
          }
        },
        "6027f304bc2e43dd8bb7cc62b09e8430": {
          "model_module": "@jupyter-widgets/base",
          "model_name": "LayoutModel",
          "model_module_version": "1.2.0",
          "state": {
            "_model_module": "@jupyter-widgets/base",
            "_model_module_version": "1.2.0",
            "_model_name": "LayoutModel",
            "_view_count": null,
            "_view_module": "@jupyter-widgets/base",
            "_view_module_version": "1.2.0",
            "_view_name": "LayoutView",
            "align_content": null,
            "align_items": null,
            "align_self": null,
            "border": null,
            "bottom": null,
            "display": null,
            "flex": null,
            "flex_flow": null,
            "grid_area": null,
            "grid_auto_columns": null,
            "grid_auto_flow": null,
            "grid_auto_rows": null,
            "grid_column": null,
            "grid_gap": null,
            "grid_row": null,
            "grid_template_areas": null,
            "grid_template_columns": null,
            "grid_template_rows": null,
            "height": null,
            "justify_content": null,
            "justify_items": null,
            "left": null,
            "margin": null,
            "max_height": null,
            "max_width": null,
            "min_height": null,
            "min_width": null,
            "object_fit": null,
            "object_position": null,
            "order": null,
            "overflow": null,
            "overflow_x": null,
            "overflow_y": null,
            "padding": null,
            "right": null,
            "top": null,
            "visibility": null,
            "width": null
          }
        },
        "348fa112664c4f6ab190132321d4bd9d": {
          "model_module": "@jupyter-widgets/controls",
          "model_name": "DescriptionStyleModel",
          "model_module_version": "1.5.0",
          "state": {
            "_model_module": "@jupyter-widgets/controls",
            "_model_module_version": "1.5.0",
            "_model_name": "DescriptionStyleModel",
            "_view_count": null,
            "_view_module": "@jupyter-widgets/base",
            "_view_module_version": "1.2.0",
            "_view_name": "StyleView",
            "description_width": ""
          }
        },
        "8cac4f8731f54c4e958b1863713c28a6": {
          "model_module": "@jupyter-widgets/controls",
          "model_name": "HBoxModel",
          "model_module_version": "1.5.0",
          "state": {
            "_dom_classes": [],
            "_model_module": "@jupyter-widgets/controls",
            "_model_module_version": "1.5.0",
            "_model_name": "HBoxModel",
            "_view_count": null,
            "_view_module": "@jupyter-widgets/controls",
            "_view_module_version": "1.5.0",
            "_view_name": "HBoxView",
            "box_style": "",
            "children": [
              "IPY_MODEL_367a4a6a95b842639fd5438be4587053",
              "IPY_MODEL_123be4093d2f475e884104a71e59d918",
              "IPY_MODEL_8929d279ca9d4762bac098830f9663a3"
            ],
            "layout": "IPY_MODEL_ccf536bdcacb4827b3391729b8141bc1"
          }
        },
        "367a4a6a95b842639fd5438be4587053": {
          "model_module": "@jupyter-widgets/controls",
          "model_name": "HTMLModel",
          "model_module_version": "1.5.0",
          "state": {
            "_dom_classes": [],
            "_model_module": "@jupyter-widgets/controls",
            "_model_module_version": "1.5.0",
            "_model_name": "HTMLModel",
            "_view_count": null,
            "_view_module": "@jupyter-widgets/controls",
            "_view_module_version": "1.5.0",
            "_view_name": "HTMLView",
            "description": "",
            "description_tooltip": null,
            "layout": "IPY_MODEL_9edd172aff5d41e1ab23f0f8606e318b",
            "placeholder": "​",
            "style": "IPY_MODEL_073c5152952147ec9c75c989d3dd160c",
            "value": "100%"
          }
        },
        "123be4093d2f475e884104a71e59d918": {
          "model_module": "@jupyter-widgets/controls",
          "model_name": "FloatProgressModel",
          "model_module_version": "1.5.0",
          "state": {
            "_dom_classes": [],
            "_model_module": "@jupyter-widgets/controls",
            "_model_module_version": "1.5.0",
            "_model_name": "FloatProgressModel",
            "_view_count": null,
            "_view_module": "@jupyter-widgets/controls",
            "_view_module_version": "1.5.0",
            "_view_name": "ProgressView",
            "bar_style": "success",
            "description": "",
            "description_tooltip": null,
            "layout": "IPY_MODEL_5809ef08765648fe99360818ba1ee628",
            "max": 4542,
            "min": 0,
            "orientation": "horizontal",
            "style": "IPY_MODEL_88da0ed45bb247c28cb67cd3fd44cf2e",
            "value": 4542
          }
        },
        "8929d279ca9d4762bac098830f9663a3": {
          "model_module": "@jupyter-widgets/controls",
          "model_name": "HTMLModel",
          "model_module_version": "1.5.0",
          "state": {
            "_dom_classes": [],
            "_model_module": "@jupyter-widgets/controls",
            "_model_module_version": "1.5.0",
            "_model_name": "HTMLModel",
            "_view_count": null,
            "_view_module": "@jupyter-widgets/controls",
            "_view_module_version": "1.5.0",
            "_view_name": "HTMLView",
            "description": "",
            "description_tooltip": null,
            "layout": "IPY_MODEL_718c8fc92c9d4e86b4198e8245a074f8",
            "placeholder": "​",
            "style": "IPY_MODEL_214fc064ba1d43f38757ab133d91dc7e",
            "value": " 4542/4542 [00:00&lt;00:00, 100343.58it/s]"
          }
        },
        "ccf536bdcacb4827b3391729b8141bc1": {
          "model_module": "@jupyter-widgets/base",
          "model_name": "LayoutModel",
          "model_module_version": "1.2.0",
          "state": {
            "_model_module": "@jupyter-widgets/base",
            "_model_module_version": "1.2.0",
            "_model_name": "LayoutModel",
            "_view_count": null,
            "_view_module": "@jupyter-widgets/base",
            "_view_module_version": "1.2.0",
            "_view_name": "LayoutView",
            "align_content": null,
            "align_items": null,
            "align_self": null,
            "border": null,
            "bottom": null,
            "display": null,
            "flex": null,
            "flex_flow": null,
            "grid_area": null,
            "grid_auto_columns": null,
            "grid_auto_flow": null,
            "grid_auto_rows": null,
            "grid_column": null,
            "grid_gap": null,
            "grid_row": null,
            "grid_template_areas": null,
            "grid_template_columns": null,
            "grid_template_rows": null,
            "height": null,
            "justify_content": null,
            "justify_items": null,
            "left": null,
            "margin": null,
            "max_height": null,
            "max_width": null,
            "min_height": null,
            "min_width": null,
            "object_fit": null,
            "object_position": null,
            "order": null,
            "overflow": null,
            "overflow_x": null,
            "overflow_y": null,
            "padding": null,
            "right": null,
            "top": null,
            "visibility": null,
            "width": null
          }
        },
        "9edd172aff5d41e1ab23f0f8606e318b": {
          "model_module": "@jupyter-widgets/base",
          "model_name": "LayoutModel",
          "model_module_version": "1.2.0",
          "state": {
            "_model_module": "@jupyter-widgets/base",
            "_model_module_version": "1.2.0",
            "_model_name": "LayoutModel",
            "_view_count": null,
            "_view_module": "@jupyter-widgets/base",
            "_view_module_version": "1.2.0",
            "_view_name": "LayoutView",
            "align_content": null,
            "align_items": null,
            "align_self": null,
            "border": null,
            "bottom": null,
            "display": null,
            "flex": null,
            "flex_flow": null,
            "grid_area": null,
            "grid_auto_columns": null,
            "grid_auto_flow": null,
            "grid_auto_rows": null,
            "grid_column": null,
            "grid_gap": null,
            "grid_row": null,
            "grid_template_areas": null,
            "grid_template_columns": null,
            "grid_template_rows": null,
            "height": null,
            "justify_content": null,
            "justify_items": null,
            "left": null,
            "margin": null,
            "max_height": null,
            "max_width": null,
            "min_height": null,
            "min_width": null,
            "object_fit": null,
            "object_position": null,
            "order": null,
            "overflow": null,
            "overflow_x": null,
            "overflow_y": null,
            "padding": null,
            "right": null,
            "top": null,
            "visibility": null,
            "width": null
          }
        },
        "073c5152952147ec9c75c989d3dd160c": {
          "model_module": "@jupyter-widgets/controls",
          "model_name": "DescriptionStyleModel",
          "model_module_version": "1.5.0",
          "state": {
            "_model_module": "@jupyter-widgets/controls",
            "_model_module_version": "1.5.0",
            "_model_name": "DescriptionStyleModel",
            "_view_count": null,
            "_view_module": "@jupyter-widgets/base",
            "_view_module_version": "1.2.0",
            "_view_name": "StyleView",
            "description_width": ""
          }
        },
        "5809ef08765648fe99360818ba1ee628": {
          "model_module": "@jupyter-widgets/base",
          "model_name": "LayoutModel",
          "model_module_version": "1.2.0",
          "state": {
            "_model_module": "@jupyter-widgets/base",
            "_model_module_version": "1.2.0",
            "_model_name": "LayoutModel",
            "_view_count": null,
            "_view_module": "@jupyter-widgets/base",
            "_view_module_version": "1.2.0",
            "_view_name": "LayoutView",
            "align_content": null,
            "align_items": null,
            "align_self": null,
            "border": null,
            "bottom": null,
            "display": null,
            "flex": null,
            "flex_flow": null,
            "grid_area": null,
            "grid_auto_columns": null,
            "grid_auto_flow": null,
            "grid_auto_rows": null,
            "grid_column": null,
            "grid_gap": null,
            "grid_row": null,
            "grid_template_areas": null,
            "grid_template_columns": null,
            "grid_template_rows": null,
            "height": null,
            "justify_content": null,
            "justify_items": null,
            "left": null,
            "margin": null,
            "max_height": null,
            "max_width": null,
            "min_height": null,
            "min_width": null,
            "object_fit": null,
            "object_position": null,
            "order": null,
            "overflow": null,
            "overflow_x": null,
            "overflow_y": null,
            "padding": null,
            "right": null,
            "top": null,
            "visibility": null,
            "width": null
          }
        },
        "88da0ed45bb247c28cb67cd3fd44cf2e": {
          "model_module": "@jupyter-widgets/controls",
          "model_name": "ProgressStyleModel",
          "model_module_version": "1.5.0",
          "state": {
            "_model_module": "@jupyter-widgets/controls",
            "_model_module_version": "1.5.0",
            "_model_name": "ProgressStyleModel",
            "_view_count": null,
            "_view_module": "@jupyter-widgets/base",
            "_view_module_version": "1.2.0",
            "_view_name": "StyleView",
            "bar_color": null,
            "description_width": ""
          }
        },
        "718c8fc92c9d4e86b4198e8245a074f8": {
          "model_module": "@jupyter-widgets/base",
          "model_name": "LayoutModel",
          "model_module_version": "1.2.0",
          "state": {
            "_model_module": "@jupyter-widgets/base",
            "_model_module_version": "1.2.0",
            "_model_name": "LayoutModel",
            "_view_count": null,
            "_view_module": "@jupyter-widgets/base",
            "_view_module_version": "1.2.0",
            "_view_name": "LayoutView",
            "align_content": null,
            "align_items": null,
            "align_self": null,
            "border": null,
            "bottom": null,
            "display": null,
            "flex": null,
            "flex_flow": null,
            "grid_area": null,
            "grid_auto_columns": null,
            "grid_auto_flow": null,
            "grid_auto_rows": null,
            "grid_column": null,
            "grid_gap": null,
            "grid_row": null,
            "grid_template_areas": null,
            "grid_template_columns": null,
            "grid_template_rows": null,
            "height": null,
            "justify_content": null,
            "justify_items": null,
            "left": null,
            "margin": null,
            "max_height": null,
            "max_width": null,
            "min_height": null,
            "min_width": null,
            "object_fit": null,
            "object_position": null,
            "order": null,
            "overflow": null,
            "overflow_x": null,
            "overflow_y": null,
            "padding": null,
            "right": null,
            "top": null,
            "visibility": null,
            "width": null
          }
        },
        "214fc064ba1d43f38757ab133d91dc7e": {
          "model_module": "@jupyter-widgets/controls",
          "model_name": "DescriptionStyleModel",
          "model_module_version": "1.5.0",
          "state": {
            "_model_module": "@jupyter-widgets/controls",
            "_model_module_version": "1.5.0",
            "_model_name": "DescriptionStyleModel",
            "_view_count": null,
            "_view_module": "@jupyter-widgets/base",
            "_view_module_version": "1.2.0",
            "_view_name": "StyleView",
            "description_width": ""
          }
        }
      }
    }
  },
  "nbformat": 4,
  "nbformat_minor": 0
}