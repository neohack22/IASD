{
  "cells": [
    {
      "cell_type": "markdown",
      "metadata": {
        "id": "view-in-github",
        "colab_type": "text"
      },
      "source": [
        "<a href=\"https://colab.research.google.com/github/neohack22/IASD/blob/IA/IA/projects/presentation/robusteness/ROBUST_Notebook_1.ipynb\" target=\"_parent\"><img src=\"https://colab.research.google.com/assets/colab-badge.svg\" alt=\"Open In Colab\"/></a>"
      ]
    },
    {
      "cell_type": "markdown",
      "metadata": {
        "id": "k8785huAT1I1"
      },
      "source": [
        "## Introduction\n",
        "\n",
        "As we seek to deploy machine learning systems in the real world, it becomes critical that we examine not only whether the systems don't simply work \"most of the time\", but which are truly robust and reliable. Although many notions of robustness and reliability exist, one particular topic has raised a great deal of interest in recent years: robustness to adversarial examples. More precisely, can we develop classifiers that are robust to (test time) perturbations of their inputs, by an adversary intending to fool the classifier? \n",
        "A few years ago, researchers have shown that neural networks are vulnerable to <em> adversarial examples</em>, i.e. imperceptible variations of natural examples, crafted to deliberately mislead the models.\n",
        "\n",
        "<img width=\"500\" src=\"https://languagelog.ldc.upenn.edu/myl/adversarial-example.png\">\n",
        "\n",
        "The purpose of this project is to teach you how these pertubations are crafted and how can we create robust classifier. \n",
        "\n",
        "[1] Nightmare at test time: robust learning by feature deletion <br>\n",
        "[2] Evasion attacks against machine learning at test time <br>\n",
        "[3] Intriguing properties of neural networks"
      ]
    },
    {
      "cell_type": "markdown",
      "metadata": {
        "id": "rcgxdYFaT1I1"
      },
      "source": [
        "## Some introductory notation\n",
        "\n",
        "Let us consider a model $h_\\theta : \\mathcal{X} \\rightarrow \\mathbb{R}^k$ mapping an input $x$, to a vector $h_\\theta(x)$ in $\\mathbb{R}^k$ (where $k$ is the number of classes being predicted). $h_\\theta(x)$ is called a logit vector of the model $h_\\theta$ where each coordinate can be positive or negative. The $\\theta$ vector represents all the parameters defining this model (for example in a linear model it would represent the slope and the intercept). to get a prediction out of $h_\\theta$ for a given $x$, the classical technique is to output the biggest coordinate of \\begin{equation}\n",
        "\\DeclareMathOperator*{\\argmax}{argmax}\n",
        "\\argmax_{j} h_\\theta(x)_j \n",
        "\\end{equation} where $h_\\theta(x)_j$ denotes the $j$th elements of the vector $h_\\theta(x)$.\n",
        "\n",
        "In order the evaluate the quality of prediction of the model on a given example, we use a loss function $\\ell: \\mathbb{R}^k \\times \\mathbb{Z}_+ \\rightarrow \\mathbb{R}_+$ mapping the model predictions and true labels to a non-negative number. The semantics of this loss function are that the first argument is the model output (logits which can be positive or negative), and the second argument is the _index_ of the true class (that is, a number from 1 to $k$ denoting the index of the true label). Thus, the notation\n",
        "\\begin{equation}\n",
        "\\ell(h_\\theta(x), y)\n",
        "\\end{equation}\n",
        "for $x \\in \\mathcal{X}$ the input and $y \\in \\mathbb{Z}$ the true class, denotes the loss that the classifier achieves in its predictions on $x$, assuming the true class is $y$.  By far the most common form of loss used in machine learning (especially in deep learning) is the cross entropy loss (also sometimes called the softmax loss), defined as\n",
        "\\begin{equation}\n",
        "\\ell(h_\\theta(x), y) = \\log \\left ( \\sum_{j=1}^k \\exp(h_\\theta(x)_j) \\right ) - h_\\theta(x)_y\n",
        "\\end{equation}\n",
        "where $h_\\theta(x)_j$ denotes the $j$th elements of the vector $h_\\theta(x)$.\n",
        "\n",
        "Recall that a common approach to training a classifier is to optimize the _parameters_ $\\theta$, so as to minimize the average loss over some training set $\\{x_i \\in \\mathcal{X}, y_i \\in \\mathbb{Z}\\}$, $i=1,\\ldots,m$, which we write as the optimization problem\n",
        "\\begin{equation}\n",
        "\\DeclareMathOperator*{\\minimize}{minimize}\n",
        "\\minimize_\\theta \\frac{1}{m} \\sum_{i=1}^m \\ell(h_\\theta(x_i), y_i)\n",
        "\\end{equation}\n",
        "which we typically solve by (stochastic) gradient descent.  I.e., for some minibatch $\\mathcal{B} \\subseteq \\{1,\\ldots,m\\}$, we compute the gradient of our loss with respect to the parameters $\\theta$, and make a small adjustment to $\\theta$ in this negative direction\n",
        "\\begin{equation}\n",
        "\\theta := \\theta - \\frac{\\alpha}{|\\mathcal{B}|} \\sum_{i \\in \\mathcal{B}} \\nabla_\\theta \\ell(h_\\theta(x_i), y_i)\n",
        "\\end{equation}\n",
        "where $\\alpha$ is some step size, and we repeat this process for different minibatches covering the entire training set, until the parameters convergence."
      ]
    },
    {
      "cell_type": "markdown",
      "metadata": {
        "id": "x23yruXaT1I2"
      },
      "source": [
        "## Creating an adversarial example\n",
        "\n",
        "To create an adversarial example, instead of adjusting the parameters $\\theta$ with the gradient define above: $\\nabla_\\theta \\ell(h_\\theta(x_i), y_i)$, we are going to adjust the image in order to _maximize_ the loss. Therefore, we want to solve the optimization problem\n",
        "\\begin{equation}\n",
        "\\DeclareMathOperator*{\\maximize}{maximize}\n",
        "\\maximize_{\\hat{x}} \\ell(h_\\theta(\\hat{x}), y)\n",
        "\\end{equation}\n",
        "where $\\hat{x}$ denotes our adversarial example that is attempting to maximize the loss.\n",
        "\n",
        "Of course, we cannot just optimize arbitrarily over $\\hat{x}$ (there do exist, after all, some images that are _not_ pandas, and if we change the image entirely, say to a dog, then it's not particularly impressive that we can \"fool\" the classifier into thinking it's not a panda). So we instead need to ensure that $\\hat{x}$ is close to our original input $x$. By convention, we typically do this by optimizing over the _perturbation_ to $x$, which we will denote $\\delta$\n",
        "\\begin{equation}\n",
        "\\maximize_{\\delta \\in \\Delta} \\ell(h_\\theta(x +\\delta), y)\n",
        "\\end{equation}\n",
        "where $\\Delta$ represents an allowable set of perturbations (typically perturbation that make $x + \\tau$ sufficiently close to $x$).  \n",
        "\n",
        "Characterizing the \"correct\" set of allowable perturbations is actually quite difficult: in theory, we would like $\\Delta$ to capture anything that humans visually feel to be the \"same\" as the original input $x$.  This can include anthing ranging from adding slight amounts of noise, to rotating, translating, scaling, or performing some 3D transformation on the underlying model, or even completely changing the image in the \"non-panda\" locations.  Needless to say, it is not possible to give a mathematically rigorous definition of all the perturbations that _should_ be allowed, but the philosophy behind adversarial examples is that we can consider some _subset_ of the possible space of allowed perturbations, such that by any \"reasonable\" definition, the actual semantic content of the image could not change under this perturbation.\n",
        "\n",
        "A common perturbation set to use, though by no means the only reasonable choice, is the $\\ell_\\infty$ ball, defined by the set\n",
        "\\begin{equation}\n",
        "\\Delta = \\{\\delta : \\|\\delta\\|_\\infty \\leq \\epsilon\\}\n",
        "\\end{equation}\n",
        "where the $\\ell_\\infty$ norm a vector $z$ is defined as\n",
        "\\begin{equation}\n",
        "\\|z\\|_\\infty = \\max_i |z_i|\n",
        "\\end{equation}\n",
        "i.e., we allow the perturbation to have magnitude between $[-\\epsilon, \\epsilon]$ in each of its components (it is a slightly more complex, as we also need to ensure that $x + \\delta$ is also bounded between $[0,1]$ so that it is still a valid image).  "
      ]
    },
    {
      "cell_type": "markdown",
      "metadata": {
        "id": "yXFQ3d_AT1I2"
      },
      "source": [
        "## Binary classification\n",
        "\n",
        "Let's begin first by considering a simplified problem where $h_\\theta$ is a linear classifier (see below) and k=2.  In this case called binary classification, rather than use multi-class cross entropy loss, we'll be adopting the more common approach and using the binary cross entropy, or logistic loss. In this setting, we have our hypothesis function\n",
        "\\begin{equation}\n",
        "h_\\theta(x) = w^T x + b\n",
        "\\end{equation}\n",
        "for $\\theta = \\{w \\in \\mathbb{R}^n, b \\in \\mathbb{R}\\}$, class label $y \\in \\{+1,-1\\}$, and loss function\n",
        "\\begin{equation}\n",
        "\\ell(h_\\theta(x), y) = \\log(1+\\exp(-y\\cdot h_\\theta(x))) \\equiv L(y \\cdot h_\\theta(x))\n",
        "\\end{equation}\n",
        "where for convience below we define the function $L(z) = \\log(1+\\exp(-z))$ which we will use below when discussing how to solve the optimization problems involving this loss.  The semantics of this setup are that for a data point $x$, the classifier predicts class $+1$ with probability\n",
        "\\begin{equation}\n",
        "p(y=+1|x) = \\frac{1}{1 + \\exp(-h_\\theta(x))}.\n",
        "\\end{equation}\n"
      ]
    },
    {
      "cell_type": "markdown",
      "metadata": {
        "id": "h6W4asxRT1I3"
      },
      "source": [
        "### Computing an Adversarial pertubation\n",
        "\n",
        "Let us consider the creation of an adversarial example in the context of binary classification:\n",
        "\\begin{equation}\n",
        "\\DeclareMathOperator*{\\maximize}{maximize}\n",
        "\\maximize_{\\|\\delta\\| \\leq \\epsilon} \\ell(w^T (x+\\delta), y) \\equiv \\maximize_{\\|\\delta\\| \\leq \\epsilon} L(y \\cdot (w^T(x+\\delta) + b)).\n",
        "\\end{equation}\n",
        "The key point we need to make here is that in this setting, it is actually possible to solve this maximization problem exactly. \n",
        "\n",
        "Because the function is monotonic decreasing, if we want to maximize this function applied to a scalar, that is equivalent to just minimizing the scalar quantity.  That is\n",
        "\\begin{equation}\n",
        "\\begin{split}\n",
        "\\DeclareMathOperator*{\\minimize}{minimize}\n",
        "\\max_{\\|\\delta\\| \\leq \\epsilon} L \\left(y \\cdot (w^T(x+\\delta) + b) \\right) & =\n",
        "L\\left( \\min_{\\|\\delta\\| \\leq \\epsilon}  y \\cdot (w^T(x+\\delta) + b) \\right) \\\\\n",
        "& = L\\left(y\\cdot(w^Tx + b) + \\min_{\\|\\delta\\| \\leq \\epsilon} y \\cdot w^T\\delta  \\right)\n",
        "\\end{split}\n",
        "\\end{equation}\n",
        "where we get the second line by just distributing out the linear terms.\n",
        "\n",
        "Thanks to this simplification of the initial problem, we only need to consider how to solve the problem\n",
        "\\begin{equation}\n",
        "\\min_{\\|\\delta\\| \\leq \\epsilon} y \\cdot w^T\\delta.\n",
        "\\end{equation}\n",
        "To get the intuition here, let's just consider the case that $y = +1$, and consider an $\\ell_\\infty$ norm constraint $\\|\\delta\\|_\\infty \\leq \\epsilon$.  Since the $\\ell_\\infty$ norm says that each element in $\\delta$ must have magnitude less than or equal $\\epsilon$, we clearly minimize this quantity when we set $\\delta_i = -\\epsilon$ for $w_i \\geq 0$ and $\\delta_i = \\epsilon$ for $w_i < 0$.  For $y = -1$, we would just flip these quantities.  That is, the optimal solution to the above optimization problem for the $\\ell_\\infty$ norm is given by\n",
        "\\begin{equation}\n",
        "\\delta^\\star = - y \\epsilon \\cdot \\mathrm{sign}(w)\n",
        "\\end{equation}"
      ]
    },
    {
      "cell_type": "markdown",
      "metadata": {
        "id": "_SvwRodvT1I3"
      },
      "source": [
        "### Exercice 1\n",
        "\n",
        "Let's see what this looks like for an actual linear classifier.  In doing so, we can also get a sense of how well traditional linear models might work to also prevent adversarial examples.\n",
        "\n",
        "1. Define and train with gradient descent a linear model using the PyTorch library a binarize version of the MNIST dataset\n",
        "2. Evaluate your model on the train and test dataset \n",
        "3. Create adversarial pertubation on the images of the test set and evaluate the performance of your model <em>under attack</em>\n",
        "4. Evaluate the visibility of the pertubation by ploting the natural image next to the adversarial image \n",
        "5. Make a small analysis and conclusion"
      ]
    },
    {
      "cell_type": "code",
      "execution_count": null,
      "metadata": {
        "id": "_FNLmXBHT1Ix"
      },
      "outputs": [],
      "source": [
        "import numpy as np\n",
        "import scipy as sp\n",
        "import matplotlib.pyplot as plt\n",
        "\n",
        "import torch\n",
        "import torch.nn as nn\n",
        "import torch.optim as optim\n",
        "\n",
        "from torchvision import datasets, transforms\n",
        "from torch.utils.data import DataLoader"
      ]
    },
    {
      "cell_type": "markdown",
      "source": [
        "#### Define and train with gradient descent a linear model using the PyTorch library a binarize version of the MNIST dataset"
      ],
      "metadata": {
        "id": "d_s5X-rHhBpg"
      }
    },
    {
      "cell_type": "code",
      "execution_count": null,
      "metadata": {
        "id": "fEPn1Fg7T1I4",
        "colab": {
          "base_uri": "https://localhost:8080/",
          "height": 443,
          "referenced_widgets": [
            "775cfbc3ad5a4ef19bbf3b8f1d4f2642",
            "5b23046e21d5434e870e4807e2cd7363",
            "9f2923b394694cd7a7c8228f647a81da",
            "536879d253e14fa29f18219bfdc327fd",
            "c7d4d1bf16624b878cbf9ca3d3545535",
            "70e1097d97fa4e6ba745fae06638ccb5",
            "3e7807a5b4d14998bc5dafb3c75e7950",
            "96f43cbbb0f641d1a0a7a95af384e496",
            "7484eaeec96243639cb6845758c20e7f",
            "a5eb8d407e8d48f5801ef3911fbe69a8",
            "03e9d2d09b0f4429ad5c36aa5fb3096e",
            "06532941b8da496cb8ff56d4bd2a1a0e",
            "0da67b41febd47de892bb306d5b48795",
            "3e0b9032c9aa4d8ebd77d5f095b61e9c",
            "f3e69f409b294c1290c4991e6b1b797a",
            "cb4bcbff5e934136b86aeacd3427eefd",
            "8cb79a70b7374787b5f8690dbbf5fb33",
            "f09e9f416b1748cebdf3e8f5bc5201ca",
            "640a8407339a43338cfab01884a160ec",
            "36c4e94d0acd4f708de616963e428ad4",
            "1de0bd780f914c8fbcee41598dff8063",
            "f70a8d7f2c3d4344bfda5750a3e5e12e",
            "a54fef441e8c4d04b63c118fadc4ab4f",
            "5756a044ede44f1a8458d0b3aeb49101",
            "f494f21da86c4416ad1465778b92374f",
            "cbc71595c4074336ae7a25bd21cc2ca2",
            "ffa93178f6f84c928e441358385bc91d",
            "83eb40b5b8504e5c88e0c999b9e61d42",
            "989d5dabb31b4f269bd65dc65f6c0607",
            "1ceaae75b232424b95b59376102fd327",
            "15fad3657a244bb68e6a8a7675205d8d",
            "5faed2fd42a14628bd370b0838a844b2",
            "eae0ef100a084c0fbc98eec9de20f4fc",
            "c3c41fd85d6744c98e1890073f4a81ec",
            "44b79ef56bb74770980abc206ffb8eb2",
            "c167cd52c19545ddaafefb6af92461e9",
            "b7d6a6f61c7f4be0819e5682df30760c",
            "cf48361afb064c9892f5bfc9eb1359a6",
            "6b60cf4a20884f7e9ac336671f1ccc81",
            "9445f9efed154729ac9be255989296a7",
            "94e58f634c5540939efdcd62fbf54c58",
            "b01e2c5bb5e84c4fa787dd2935a55956",
            "22b54ba6ce264ac1a7d7df9b2196692b",
            "5f824842bb33427cba59acac7a43c730"
          ]
        },
        "outputId": "f86daa79-8090-4aaf-8beb-91ae81979ace"
      },
      "outputs": [
        {
          "output_type": "stream",
          "name": "stdout",
          "text": [
            "Downloading http://yann.lecun.com/exdb/mnist/train-images-idx3-ubyte.gz\n",
            "Downloading http://yann.lecun.com/exdb/mnist/train-images-idx3-ubyte.gz to ./data/MNIST/raw/train-images-idx3-ubyte.gz\n"
          ]
        },
        {
          "output_type": "display_data",
          "data": {
            "text/plain": [
              "  0%|          | 0/9912422 [00:00<?, ?it/s]"
            ],
            "application/vnd.jupyter.widget-view+json": {
              "version_major": 2,
              "version_minor": 0,
              "model_id": "775cfbc3ad5a4ef19bbf3b8f1d4f2642"
            }
          },
          "metadata": {}
        },
        {
          "output_type": "stream",
          "name": "stdout",
          "text": [
            "Extracting ./data/MNIST/raw/train-images-idx3-ubyte.gz to ./data/MNIST/raw\n",
            "\n",
            "Downloading http://yann.lecun.com/exdb/mnist/train-labels-idx1-ubyte.gz\n",
            "Downloading http://yann.lecun.com/exdb/mnist/train-labels-idx1-ubyte.gz to ./data/MNIST/raw/train-labels-idx1-ubyte.gz\n"
          ]
        },
        {
          "output_type": "display_data",
          "data": {
            "text/plain": [
              "  0%|          | 0/28881 [00:00<?, ?it/s]"
            ],
            "application/vnd.jupyter.widget-view+json": {
              "version_major": 2,
              "version_minor": 0,
              "model_id": "06532941b8da496cb8ff56d4bd2a1a0e"
            }
          },
          "metadata": {}
        },
        {
          "output_type": "stream",
          "name": "stdout",
          "text": [
            "Extracting ./data/MNIST/raw/train-labels-idx1-ubyte.gz to ./data/MNIST/raw\n",
            "\n",
            "Downloading http://yann.lecun.com/exdb/mnist/t10k-images-idx3-ubyte.gz\n",
            "Downloading http://yann.lecun.com/exdb/mnist/t10k-images-idx3-ubyte.gz to ./data/MNIST/raw/t10k-images-idx3-ubyte.gz\n"
          ]
        },
        {
          "output_type": "display_data",
          "data": {
            "text/plain": [
              "  0%|          | 0/1648877 [00:00<?, ?it/s]"
            ],
            "application/vnd.jupyter.widget-view+json": {
              "version_major": 2,
              "version_minor": 0,
              "model_id": "a54fef441e8c4d04b63c118fadc4ab4f"
            }
          },
          "metadata": {}
        },
        {
          "output_type": "stream",
          "name": "stdout",
          "text": [
            "Extracting ./data/MNIST/raw/t10k-images-idx3-ubyte.gz to ./data/MNIST/raw\n",
            "\n",
            "Downloading http://yann.lecun.com/exdb/mnist/t10k-labels-idx1-ubyte.gz\n",
            "Downloading http://yann.lecun.com/exdb/mnist/t10k-labels-idx1-ubyte.gz to ./data/MNIST/raw/t10k-labels-idx1-ubyte.gz\n"
          ]
        },
        {
          "output_type": "display_data",
          "data": {
            "text/plain": [
              "  0%|          | 0/4542 [00:00<?, ?it/s]"
            ],
            "application/vnd.jupyter.widget-view+json": {
              "version_major": 2,
              "version_minor": 0,
              "model_id": "c3c41fd85d6744c98e1890073f4a81ec"
            }
          },
          "metadata": {}
        },
        {
          "output_type": "stream",
          "name": "stdout",
          "text": [
            "Extracting ./data/MNIST/raw/t10k-labels-idx1-ubyte.gz to ./data/MNIST/raw\n",
            "\n"
          ]
        }
      ],
      "source": [
        "# binary MNIST dataset\n",
        "def load_binary_mnist(split, batch_size):\n",
        "  train = True if split == 'train' else False\n",
        "  dataset = datasets.MNIST(\n",
        "      \"./data\", train=split, download=True, transform=transforms.ToTensor())\n",
        "  idx = dataset.targets <= 1\n",
        "  dataset.data = dataset.data[idx]\n",
        "  dataset.targets = dataset.targets[idx]\n",
        "  return DataLoader(dataset, batch_size=batch_size, shuffle=train)\n",
        "\n",
        "batch_size = 100\n",
        "train_loader = load_binary_mnist('train', batch_size)\n",
        "test_loader = load_binary_mnist('test', batch_size)"
      ]
    },
    {
      "cell_type": "code",
      "execution_count": null,
      "metadata": {
        "id": "3B-jjMD7ZGAm"
      },
      "outputs": [],
      "source": [
        "# image : 28 x 28 = 784 pixels\n",
        "input_dim = 784\n",
        "\n",
        "output_dim = 1\n",
        "coef = 0.001"
      ]
    },
    {
      "cell_type": "code",
      "execution_count": null,
      "metadata": {
        "id": "kotSpgOIT1I7"
      },
      "outputs": [],
      "source": [
        "# Define the model\n",
        "class Model(torch.nn.Module): # Base class for all neural network modules\n",
        "  \n",
        "  def __init__(self):\n",
        "    super(Model, self).__init__()\n",
        "# Applies a linear transformation to the incoming data: y = xA^T + b    \n",
        "    self.linear = torch.nn.Linear(\n",
        "        input_dim, output_dim)\n",
        "    \n",
        "  def forward(self, x):\n",
        "    \n",
        "    outputs = self.linear(x)\n",
        "    return outputs\n",
        "\n",
        "\n",
        "model = Model()"
      ]
    },
    {
      "cell_type": "markdown",
      "source": [
        "We define the function which makes it possible to determine the error between the prediction and the reality."
      ],
      "metadata": {
        "id": "KIqMhkrG9GEN"
      }
    },
    {
      "cell_type": "code",
      "execution_count": null,
      "metadata": {
        "id": "cE75t0oaSj-H"
      },
      "outputs": [],
      "source": [
        "# define the loss\n",
        "\n",
        "criterion = nn.BCEWithLogitsLoss()"
      ]
    },
    {
      "cell_type": "markdown",
      "source": [
        "The optimizer, being Gradiant Descent here, allows to reduce the Loss, which is the error function, between the prediction and the reality, by changing the parameters."
      ],
      "metadata": {
        "id": "_w4XfdzD8xU-"
      }
    },
    {
      "cell_type": "code",
      "execution_count": null,
      "metadata": {
        "id": "LeBtYLMuSUzX"
      },
      "outputs": [],
      "source": [
        "# define the optimizer\n",
        "\n",
        "opt = optim.SGD(model.parameters(), lr=0.01, momentum=0.9)"
      ]
    },
    {
      "cell_type": "markdown",
      "source": [
        "#### Evaluate your model on the train and test dataset"
      ],
      "metadata": {
        "id": "NapjeF-5jpiC"
      }
    },
    {
      "cell_type": "markdown",
      "source": [
        "\n",
        "The model keeps on recalibrating several times (epochs) the parameters of the model fitting the training data.<br>\n",
        "It increases the accuracy (advantage) and the processing time (disadvantage).<br>\n",
        "It will calculate the loss(criterion) by small chunks of dataset by calculating the output and the related loss."
      ],
      "metadata": {
        "id": "gSIKvIcpm6Tf"
      }
    },
    {
      "cell_type": "code",
      "execution_count": null,
      "metadata": {
        "colab": {
          "base_uri": "https://localhost:8080/"
        },
        "id": "YngFM3nDSLNk",
        "outputId": "0ac97ea7-1a51-4fa7-8a91-fca84fdf3ff1"
      },
      "outputs": [
        {
          "output_type": "stream",
          "name": "stdout",
          "text": [
            "tensor(0.0084, grad_fn=<BinaryCrossEntropyWithLogitsBackward0>)\n",
            "tensor(0.0066, grad_fn=<BinaryCrossEntropyWithLogitsBackward0>)\n",
            "tensor(0.0072, grad_fn=<BinaryCrossEntropyWithLogitsBackward0>)\n",
            "tensor(0.0025, grad_fn=<BinaryCrossEntropyWithLogitsBackward0>)\n",
            "tensor(0.0040, grad_fn=<BinaryCrossEntropyWithLogitsBackward0>)\n",
            "tensor(0.0077, grad_fn=<BinaryCrossEntropyWithLogitsBackward0>)\n",
            "tensor(0.0038, grad_fn=<BinaryCrossEntropyWithLogitsBackward0>)\n",
            "tensor(0.0024, grad_fn=<BinaryCrossEntropyWithLogitsBackward0>)\n",
            "tensor(0.0015, grad_fn=<BinaryCrossEntropyWithLogitsBackward0>)\n",
            "tensor(0.0064, grad_fn=<BinaryCrossEntropyWithLogitsBackward0>)\n"
          ]
        }
      ],
      "source": [
        "epochs = 10 # Number of times we look at the entire datdaset\n",
        "# train the model\n",
        "\n",
        "for epoch in range(epochs):\n",
        "  for batch_n, (imgs, labels) in enumerate(train_loader):\n",
        "    # reset accumulated gradients in buffers\n",
        "    opt.zero_grad()\n",
        "    # the  vectors sizes are 784\n",
        "    outputs=model(imgs.view(-1,784))[:,0]\n",
        "    loss = criterion(outputs, labels.float())\n",
        "    loss.backward()\n",
        "    opt.step()\n",
        "  print(loss)"
      ]
    },
    {
      "cell_type": "code",
      "execution_count": null,
      "metadata": {
        "colab": {
          "base_uri": "https://localhost:8080/"
        },
        "id": "fvgHd9cuT1I-",
        "outputId": "143240fe-a61f-4e5a-e0c8-26b060ac74f6"
      },
      "outputs": [
        {
          "output_type": "stream",
          "name": "stdout",
          "text": [
            "tensor(0.9987)\n"
          ]
        }
      ],
      "source": [
        "# evalutation on test set\n",
        "accuracy = 0.\n",
        "n_inputs = 0.\n",
        "correct = 0.\n",
        "for n_batch, (imgs, labels) in enumerate(test_loader):\n",
        "  n_inputs+=imgs.shape[0]\n",
        "  \n",
        "  outputs=model(imgs.view(-1,784))[:,0]\n",
        "  # check if the Outputs \"match\" the Labels\n",
        "  outputs = (outputs>0).float()\n",
        "  correct+= (outputs == labels).float().sum()\n",
        "print(correct/n_inputs)"
      ]
    },
    {
      "cell_type": "markdown",
      "source": [
        "#### Create adversarial pertubation on the images of the test set and evaluate the performance of your model <em>under attack</em>"
      ],
      "metadata": {
        "id": "wukq5oEErsUF"
      }
    },
    {
      "cell_type": "code",
      "execution_count": null,
      "metadata": {
        "colab": {
          "base_uri": "https://localhost:8080/",
          "height": 265
        },
        "id": "xs3dUPwaT1JA",
        "outputId": "31de8930-dab9-48d0-9b2a-81986e826939"
      },
      "outputs": [
        {
          "output_type": "display_data",
          "data": {
            "text/plain": [
              "<Figure size 432x288 with 1 Axes>"
            ],
            "image/png": "[encoded data removed]"
          },
          "metadata": {
            "needs_background": "light"
          }
        }
      ],
      "source": [
        "# compute and plot the adversairal pertubation\n",
        "eps = 0.2\n",
        "delta = eps * model.linear.weight.detach().sign()\n",
        "plt.imshow(1-delta.reshape(28, 28), cmap=\"gray\")\n",
        "plt.show()"
      ]
    },
    {
      "cell_type": "code",
      "execution_count": null,
      "metadata": {
        "id": "n4rUG-EoT1JD"
      },
      "outputs": [],
      "source": [
        "# make an evaluation \"under attack\"\n",
        "accuracy = 0.\n",
        "n_inputs = 0.\n",
        "for n_batch, (imgs, labels) in enumerate(test_loader):\n",
        "  \n",
        "  imgs.view(-1,784)+(2*labels.view(-1,1)-1)*delta"
      ]
    },
    {
      "cell_type": "code",
      "execution_count": null,
      "metadata": {
        "colab": {
          "base_uri": "https://localhost:8080/"
        },
        "id": "0faWvVfZNfuz",
        "outputId": "2f6f88c3-16a3-4ce0-d037-68347f7336c3"
      },
      "outputs": [
        {
          "output_type": "stream",
          "name": "stdout",
          "text": [
            "tensor(0.3582)\n"
          ]
        }
      ],
      "source": [
        "accuracy = 0.\n",
        "n_inputs = 0.\n",
        "correct = 0.\n",
        "for n_batch, (imgs, labels) in enumerate(test_loader):\n",
        "  n_inputs+=imgs.shape[0]\n",
        "  \n",
        "  outputs=model(imgs.view(-1,784)-(2*labels.view(-1,1)-1)*delta)[:,0]\n",
        "  # check if the Outputs \"match\" the Labels\n",
        "  outputs = (outputs>0).float()\n",
        "  correct+= (outputs == labels).float().sum()\n",
        "print(correct/n_inputs)"
      ]
    },
    {
      "cell_type": "markdown",
      "source": [
        "#### Evaluate the visibility of the pertubation by ploting the natural image next to the adversarial image"
      ],
      "metadata": {
        "id": "HwjkRz9LvNmu"
      }
    },
    {
      "cell_type": "code",
      "execution_count": null,
      "metadata": {
        "colab": {
          "base_uri": "https://localhost:8080/",
          "height": 267
        },
        "id": "XDmGlpCPT1JO",
        "outputId": "48221228-5af4-4315-e597-2876d908e7de"
      },
      "outputs": [
        {
          "output_type": "stream",
          "name": "stdout",
          "text": [
            "12665\n"
          ]
        },
        {
          "output_type": "display_data",
          "data": {
            "text/plain": [
              "<Figure size 576x1440 with 2 Axes>"
            ],
            "image/png": "[encoded data removed]"
          },
          "metadata": {
            "needs_background": "light"
          }
        }
      ],
      "source": [
        "# Display image and label.\n",
        "print(len(test_loader.dataset))\n",
        "batch = next(test_loader.__iter__())\n",
        "test_images, test_labels = batch\n",
        "\n",
        "figure = plt.figure(figsize=(8, 20))\n",
        "cols, rows = 2, 1\n",
        "for i in range(1,cols * rows + 1,2): # for an unique image\n",
        "# returns an integer number selected element from the specified range, between the number of test_images and 1\n",
        "    sample_idx = torch.randint(\n",
        "        len( # Return random integers starting from (inclusive) test_images\n",
        "            test_images), size=( # Output shape\n",
        "                                # Tuple with an unique value\n",
        "                1,)).item() # Returns the value of this tensor as a standard number\n",
        "\n",
        "    original_image=test_images[sample_idx]\n",
        "# new tensor with the same data as the self tensor but of a different shape    \n",
        "    attacked_image=((original_image.view(\n",
        "#  infer 1st dimension from the the original number so that the numbers match\n",
        "        -1, 28*28))-delta).reshape(28, 28)\n",
        "\n",
        "    #opt.zero_grad()\n",
        "    outputs = model(attacked_image.view(-1, 28*28))\n",
        "    predicted_label=(outputs).round()\n",
        "    original_label = test_labels[sample_idx]\n",
        "\n",
        "    figure.add_subplot(rows, cols, i)\n",
        "    plt.title(\n",
        "# Return a string representation of an array                    \n",
        "        \"True label: \"+np.array2string(\n",
        "# Flatten a matrix to one dimension in python\n",
        "        original_label.flatten().detach().numpy()[  # remove graph from tensor\n",
        "            0]))\n",
        "    plt.axis(\"off\")\n",
        "    plt.imshow(original_image.squeeze(), cmap=\"gray\")\n",
        "\n",
        "    figure.add_subplot(rows, cols, i+1)\n",
        "    plt.title(\"Attacked: \"+np.array2string(predicted_label.flatten().detach().numpy()[0]))\n",
        "    plt.axis(\"off\")\n",
        "    plt.imshow(attacked_image.squeeze(), cmap=\"gray\")\n",
        "plt.show()"
      ]
    },
    {
      "cell_type": "markdown",
      "source": [
        "#### Make a small analysis and conclusion"
      ],
      "metadata": {
        "id": "Bs-kZ3TXaMKC"
      }
    },
    {
      "cell_type": "markdown",
      "metadata": {
        "id": "JG2Qe4aMKUId"
      },
      "source": [
        "The attack makes it a slightly harder to recognize to image, even for a human, whether it focuses on a different shade of grey.<br>\n",
        "Changing the value of epsilon doesn't affect much how a human would recognize the image.<br>\n",
        "The potential confusion would be related to the fact that the initially hand written image is pixelized and the image representing the attack variation ressembles the digit 0, which is a MNIST class.<br>\n",
        "For a machine learning model though, the difference is huge taking the train set accuracy from more than 99% to 36%.<br>\n",
        "In our exemple, it confuses the class 1 with the class 0, but it could have been another mistake.<br>\n",
        "We could make the model fault even more by bounding the attacked model prediction within the same classes range as the original dataset.<br>\n",
        "Indeed we would have to ensure that  x+δ is bounded between  [0,1]  so that it is still a valid image.<br>\n",
        "The image of the attack variation below shows how a human could be have a hard time mistaking it for a \"0\" or \"1\" class but it can be considered imperceptible for a human."
      ]
    },
    {
      "cell_type": "code",
      "execution_count": null,
      "metadata": {
        "colab": {
          "base_uri": "https://localhost:8080/",
          "height": 265
        },
        "id": "ebUf1BxrT1JG",
        "outputId": "a4158673-446e-4af9-9495-66fccd85835f"
      },
      "outputs": [
        {
          "data": {
            "image/png": "[encoded data removed]",
            "text/plain": [
              "<Figure size 432x288 with 1 Axes>"
            ]
          },
          "metadata": {
            "needs_background": "light"
          },
          "output_type": "display_data"
        }
      ],
      "source": [
        "plt.imshow(1-delta.reshape(28, 28), cmap=\"gray\")\n",
        "plt.show()"
      ]
    }
  ],
  "metadata": {
    "accelerator": "GPU",
    "colab": {
      "provenance": [],
      "include_colab_link": true
    },
    "kernelspec": {
      "display_name": "Python 3.8.0 64-bit",
      "language": "python",
      "name": "python3"
    },
    "language_info": {
      "codemirror_mode": {
        "name": "ipython",
        "version": 3
      },
      "file_extension": ".py",
      "mimetype": "text/x-python",
      "name": "python",
      "nbconvert_exporter": "python",
      "pygments_lexer": "ipython3",
      "version": "3.8.0"
    },
    "vscode": {
      "interpreter": {
        "hash": "72bd0020a877381968af5f7fe3f7f36b62703789f8529d48148f6d5d9b6b4558"
      }
    },
    "widgets": {
      "application/vnd.jupyter.widget-state+json": {
        "775cfbc3ad5a4ef19bbf3b8f1d4f2642": {
          "model_module": "@jupyter-widgets/controls",
          "model_name": "HBoxModel",
          "model_module_version": "1.5.0",
          "state": {
            "_dom_classes": [],
            "_model_module": "@jupyter-widgets/controls",
            "_model_module_version": "1.5.0",
            "_model_name": "HBoxModel",
            "_view_count": null,
            "_view_module": "@jupyter-widgets/controls",
            "_view_module_version": "1.5.0",
            "_view_name": "HBoxView",
            "box_style": "",
            "children": [
              "IPY_MODEL_5b23046e21d5434e870e4807e2cd7363",
              "IPY_MODEL_9f2923b394694cd7a7c8228f647a81da",
              "IPY_MODEL_536879d253e14fa29f18219bfdc327fd"
            ],
            "layout": "IPY_MODEL_c7d4d1bf16624b878cbf9ca3d3545535"
          }
        },
        "5b23046e21d5434e870e4807e2cd7363": {
          "model_module": "@jupyter-widgets/controls",
          "model_name": "HTMLModel",
          "model_module_version": "1.5.0",
          "state": {
            "_dom_classes": [],
            "_model_module": "@jupyter-widgets/controls",
            "_model_module_version": "1.5.0",
            "_model_name": "HTMLModel",
            "_view_count": null,
            "_view_module": "@jupyter-widgets/controls",
            "_view_module_version": "1.5.0",
            "_view_name": "HTMLView",
            "description": "",
            "description_tooltip": null,
            "layout": "IPY_MODEL_70e1097d97fa4e6ba745fae06638ccb5",
            "placeholder": "​",
            "style": "IPY_MODEL_3e7807a5b4d14998bc5dafb3c75e7950",
            "value": "100%"
          }
        },
        "9f2923b394694cd7a7c8228f647a81da": {
          "model_module": "@jupyter-widgets/controls",
          "model_name": "FloatProgressModel",
          "model_module_version": "1.5.0",
          "state": {
            "_dom_classes": [],
            "_model_module": "@jupyter-widgets/controls",
            "_model_module_version": "1.5.0",
            "_model_name": "FloatProgressModel",
            "_view_count": null,
            "_view_module": "@jupyter-widgets/controls",
            "_view_module_version": "1.5.0",
            "_view_name": "ProgressView",
            "bar_style": "success",
            "description": "",
            "description_tooltip": null,
            "layout": "IPY_MODEL_96f43cbbb0f641d1a0a7a95af384e496",
            "max": 9912422,
            "min": 0,
            "orientation": "horizontal",
            "style": "IPY_MODEL_7484eaeec96243639cb6845758c20e7f",
            "value": 9912422
          }
        },
        "536879d253e14fa29f18219bfdc327fd": {
          "model_module": "@jupyter-widgets/controls",
          "model_name": "HTMLModel",
          "model_module_version": "1.5.0",
          "state": {
            "_dom_classes": [],
            "_model_module": "@jupyter-widgets/controls",
            "_model_module_version": "1.5.0",
            "_model_name": "HTMLModel",
            "_view_count": null,
            "_view_module": "@jupyter-widgets/controls",
            "_view_module_version": "1.5.0",
            "_view_name": "HTMLView",
            "description": "",
            "description_tooltip": null,
            "layout": "IPY_MODEL_a5eb8d407e8d48f5801ef3911fbe69a8",
            "placeholder": "​",
            "style": "IPY_MODEL_03e9d2d09b0f4429ad5c36aa5fb3096e",
            "value": " 9912422/9912422 [00:00&lt;00:00, 108834376.27it/s]"
          }
        },
        "c7d4d1bf16624b878cbf9ca3d3545535": {
          "model_module": "@jupyter-widgets/base",
          "model_name": "LayoutModel",
          "model_module_version": "1.2.0",
          "state": {
            "_model_module": "@jupyter-widgets/base",
            "_model_module_version": "1.2.0",
            "_model_name": "LayoutModel",
            "_view_count": null,
            "_view_module": "@jupyter-widgets/base",
            "_view_module_version": "1.2.0",
            "_view_name": "LayoutView",
            "align_content": null,
            "align_items": null,
            "align_self": null,
            "border": null,
            "bottom": null,
            "display": null,
            "flex": null,
            "flex_flow": null,
            "grid_area": null,
            "grid_auto_columns": null,
            "grid_auto_flow": null,
            "grid_auto_rows": null,
            "grid_column": null,
            "grid_gap": null,
            "grid_row": null,
            "grid_template_areas": null,
            "grid_template_columns": null,
            "grid_template_rows": null,
            "height": null,
            "justify_content": null,
            "justify_items": null,
            "left": null,
            "margin": null,
            "max_height": null,
            "max_width": null,
            "min_height": null,
            "min_width": null,
            "object_fit": null,
            "object_position": null,
            "order": null,
            "overflow": null,
            "overflow_x": null,
            "overflow_y": null,
            "padding": null,
            "right": null,
            "top": null,
            "visibility": null,
            "width": null
          }
        },
        "70e1097d97fa4e6ba745fae06638ccb5": {
          "model_module": "@jupyter-widgets/base",
          "model_name": "LayoutModel",
          "model_module_version": "1.2.0",
          "state": {
            "_model_module": "@jupyter-widgets/base",
            "_model_module_version": "1.2.0",
            "_model_name": "LayoutModel",
            "_view_count": null,
            "_view_module": "@jupyter-widgets/base",
            "_view_module_version": "1.2.0",
            "_view_name": "LayoutView",
            "align_content": null,
            "align_items": null,
            "align_self": null,
            "border": null,
            "bottom": null,
            "display": null,
            "flex": null,
            "flex_flow": null,
            "grid_area": null,
            "grid_auto_columns": null,
            "grid_auto_flow": null,
            "grid_auto_rows": null,
            "grid_column": null,
            "grid_gap": null,
            "grid_row": null,
            "grid_template_areas": null,
            "grid_template_columns": null,
            "grid_template_rows": null,
            "height": null,
            "justify_content": null,
            "justify_items": null,
            "left": null,
            "margin": null,
            "max_height": null,
            "max_width": null,
            "min_height": null,
            "min_width": null,
            "object_fit": null,
            "object_position": null,
            "order": null,
            "overflow": null,
            "overflow_x": null,
            "overflow_y": null,
            "padding": null,
            "right": null,
            "top": null,
            "visibility": null,
            "width": null
          }
        },
        "3e7807a5b4d14998bc5dafb3c75e7950": {
          "model_module": "@jupyter-widgets/controls",
          "model_name": "DescriptionStyleModel",
          "model_module_version": "1.5.0",
          "state": {
            "_model_module": "@jupyter-widgets/controls",
            "_model_module_version": "1.5.0",
            "_model_name": "DescriptionStyleModel",
            "_view_count": null,
            "_view_module": "@jupyter-widgets/base",
            "_view_module_version": "1.2.0",
            "_view_name": "StyleView",
            "description_width": ""
          }
        },
        "96f43cbbb0f641d1a0a7a95af384e496": {
          "model_module": "@jupyter-widgets/base",
          "model_name": "LayoutModel",
          "model_module_version": "1.2.0",
          "state": {
            "_model_module": "@jupyter-widgets/base",
            "_model_module_version": "1.2.0",
            "_model_name": "LayoutModel",
            "_view_count": null,
            "_view_module": "@jupyter-widgets/base",
            "_view_module_version": "1.2.0",
            "_view_name": "LayoutView",
            "align_content": null,
            "align_items": null,
            "align_self": null,
            "border": null,
            "bottom": null,
            "display": null,
            "flex": null,
            "flex_flow": null,
            "grid_area": null,
            "grid_auto_columns": null,
            "grid_auto_flow": null,
            "grid_auto_rows": null,
            "grid_column": null,
            "grid_gap": null,
            "grid_row": null,
            "grid_template_areas": null,
            "grid_template_columns": null,
            "grid_template_rows": null,
            "height": null,
            "justify_content": null,
            "justify_items": null,
            "left": null,
            "margin": null,
            "max_height": null,
            "max_width": null,
            "min_height": null,
            "min_width": null,
            "object_fit": null,
            "object_position": null,
            "order": null,
            "overflow": null,
            "overflow_x": null,
            "overflow_y": null,
            "padding": null,
            "right": null,
            "top": null,
            "visibility": null,
            "width": null
          }
        },
        "7484eaeec96243639cb6845758c20e7f": {
          "model_module": "@jupyter-widgets/controls",
          "model_name": "ProgressStyleModel",
          "model_module_version": "1.5.0",
          "state": {
            "_model_module": "@jupyter-widgets/controls",
            "_model_module_version": "1.5.0",
            "_model_name": "ProgressStyleModel",
            "_view_count": null,
            "_view_module": "@jupyter-widgets/base",
            "_view_module_version": "1.2.0",
            "_view_name": "StyleView",
            "bar_color": null,
            "description_width": ""
          }
        },
        "a5eb8d407e8d48f5801ef3911fbe69a8": {
          "model_module": "@jupyter-widgets/base",
          "model_name": "LayoutModel",
          "model_module_version": "1.2.0",
          "state": {
            "_model_module": "@jupyter-widgets/base",
            "_model_module_version": "1.2.0",
            "_model_name": "LayoutModel",
            "_view_count": null,
            "_view_module": "@jupyter-widgets/base",
            "_view_module_version": "1.2.0",
            "_view_name": "LayoutView",
            "align_content": null,
            "align_items": null,
            "align_self": null,
            "border": null,
            "bottom": null,
            "display": null,
            "flex": null,
            "flex_flow": null,
            "grid_area": null,
            "grid_auto_columns": null,
            "grid_auto_flow": null,
            "grid_auto_rows": null,
            "grid_column": null,
            "grid_gap": null,
            "grid_row": null,
            "grid_template_areas": null,
            "grid_template_columns": null,
            "grid_template_rows": null,
            "height": null,
            "justify_content": null,
            "justify_items": null,
            "left": null,
            "margin": null,
            "max_height": null,
            "max_width": null,
            "min_height": null,
            "min_width": null,
            "object_fit": null,
            "object_position": null,
            "order": null,
            "overflow": null,
            "overflow_x": null,
            "overflow_y": null,
            "padding": null,
            "right": null,
            "top": null,
            "visibility": null,
            "width": null
          }
        },
        "03e9d2d09b0f4429ad5c36aa5fb3096e": {
          "model_module": "@jupyter-widgets/controls",
          "model_name": "DescriptionStyleModel",
          "model_module_version": "1.5.0",
          "state": {
            "_model_module": "@jupyter-widgets/controls",
            "_model_module_version": "1.5.0",
            "_model_name": "DescriptionStyleModel",
            "_view_count": null,
            "_view_module": "@jupyter-widgets/base",
            "_view_module_version": "1.2.0",
            "_view_name": "StyleView",
            "description_width": ""
          }
        },
        "06532941b8da496cb8ff56d4bd2a1a0e": {
          "model_module": "@jupyter-widgets/controls",
          "model_name": "HBoxModel",
          "model_module_version": "1.5.0",
          "state": {
            "_dom_classes": [],
            "_model_module": "@jupyter-widgets/controls",
            "_model_module_version": "1.5.0",
            "_model_name": "HBoxModel",
            "_view_count": null,
            "_view_module": "@jupyter-widgets/controls",
            "_view_module_version": "1.5.0",
            "_view_name": "HBoxView",
            "box_style": "",
            "children": [
              "IPY_MODEL_0da67b41febd47de892bb306d5b48795",
              "IPY_MODEL_3e0b9032c9aa4d8ebd77d5f095b61e9c",
              "IPY_MODEL_f3e69f409b294c1290c4991e6b1b797a"
            ],
            "layout": "IPY_MODEL_cb4bcbff5e934136b86aeacd3427eefd"
          }
        },
        "0da67b41febd47de892bb306d5b48795": {
          "model_module": "@jupyter-widgets/controls",
          "model_name": "HTMLModel",
          "model_module_version": "1.5.0",
          "state": {
            "_dom_classes": [],
            "_model_module": "@jupyter-widgets/controls",
            "_model_module_version": "1.5.0",
            "_model_name": "HTMLModel",
            "_view_count": null,
            "_view_module": "@jupyter-widgets/controls",
            "_view_module_version": "1.5.0",
            "_view_name": "HTMLView",
            "description": "",
            "description_tooltip": null,
            "layout": "IPY_MODEL_8cb79a70b7374787b5f8690dbbf5fb33",
            "placeholder": "​",
            "style": "IPY_MODEL_f09e9f416b1748cebdf3e8f5bc5201ca",
            "value": "100%"
          }
        },
        "3e0b9032c9aa4d8ebd77d5f095b61e9c": {
          "model_module": "@jupyter-widgets/controls",
          "model_name": "FloatProgressModel",
          "model_module_version": "1.5.0",
          "state": {
            "_dom_classes": [],
            "_model_module": "@jupyter-widgets/controls",
            "_model_module_version": "1.5.0",
            "_model_name": "FloatProgressModel",
            "_view_count": null,
            "_view_module": "@jupyter-widgets/controls",
            "_view_module_version": "1.5.0",
            "_view_name": "ProgressView",
            "bar_style": "success",
            "description": "",
            "description_tooltip": null,
            "layout": "IPY_MODEL_640a8407339a43338cfab01884a160ec",
            "max": 28881,
            "min": 0,
            "orientation": "horizontal",
            "style": "IPY_MODEL_36c4e94d0acd4f708de616963e428ad4",
            "value": 28881
          }
        },
        "f3e69f409b294c1290c4991e6b1b797a": {
          "model_module": "@jupyter-widgets/controls",
          "model_name": "HTMLModel",
          "model_module_version": "1.5.0",
          "state": {
            "_dom_classes": [],
            "_model_module": "@jupyter-widgets/controls",
            "_model_module_version": "1.5.0",
            "_model_name": "HTMLModel",
            "_view_count": null,
            "_view_module": "@jupyter-widgets/controls",
            "_view_module_version": "1.5.0",
            "_view_name": "HTMLView",
            "description": "",
            "description_tooltip": null,
            "layout": "IPY_MODEL_1de0bd780f914c8fbcee41598dff8063",
            "placeholder": "​",
            "style": "IPY_MODEL_f70a8d7f2c3d4344bfda5750a3e5e12e",
            "value": " 28881/28881 [00:00&lt;00:00, 983819.23it/s]"
          }
        },
        "cb4bcbff5e934136b86aeacd3427eefd": {
          "model_module": "@jupyter-widgets/base",
          "model_name": "LayoutModel",
          "model_module_version": "1.2.0",
          "state": {
            "_model_module": "@jupyter-widgets/base",
            "_model_module_version": "1.2.0",
            "_model_name": "LayoutModel",
            "_view_count": null,
            "_view_module": "@jupyter-widgets/base",
            "_view_module_version": "1.2.0",
            "_view_name": "LayoutView",
            "align_content": null,
            "align_items": null,
            "align_self": null,
            "border": null,
            "bottom": null,
            "display": null,
            "flex": null,
            "flex_flow": null,
            "grid_area": null,
            "grid_auto_columns": null,
            "grid_auto_flow": null,
            "grid_auto_rows": null,
            "grid_column": null,
            "grid_gap": null,
            "grid_row": null,
            "grid_template_areas": null,
            "grid_template_columns": null,
            "grid_template_rows": null,
            "height": null,
            "justify_content": null,
            "justify_items": null,
            "left": null,
            "margin": null,
            "max_height": null,
            "max_width": null,
            "min_height": null,
            "min_width": null,
            "object_fit": null,
            "object_position": null,
            "order": null,
            "overflow": null,
            "overflow_x": null,
            "overflow_y": null,
            "padding": null,
            "right": null,
            "top": null,
            "visibility": null,
            "width": null
          }
        },
        "8cb79a70b7374787b5f8690dbbf5fb33": {
          "model_module": "@jupyter-widgets/base",
          "model_name": "LayoutModel",
          "model_module_version": "1.2.0",
          "state": {
            "_model_module": "@jupyter-widgets/base",
            "_model_module_version": "1.2.0",
            "_model_name": "LayoutModel",
            "_view_count": null,
            "_view_module": "@jupyter-widgets/base",
            "_view_module_version": "1.2.0",
            "_view_name": "LayoutView",
            "align_content": null,
            "align_items": null,
            "align_self": null,
            "border": null,
            "bottom": null,
            "display": null,
            "flex": null,
            "flex_flow": null,
            "grid_area": null,
            "grid_auto_columns": null,
            "grid_auto_flow": null,
            "grid_auto_rows": null,
            "grid_column": null,
            "grid_gap": null,
            "grid_row": null,
            "grid_template_areas": null,
            "grid_template_columns": null,
            "grid_template_rows": null,
            "height": null,
            "justify_content": null,
            "justify_items": null,
            "left": null,
            "margin": null,
            "max_height": null,
            "max_width": null,
            "min_height": null,
            "min_width": null,
            "object_fit": null,
            "object_position": null,
            "order": null,
            "overflow": null,
            "overflow_x": null,
            "overflow_y": null,
            "padding": null,
            "right": null,
            "top": null,
            "visibility": null,
            "width": null
          }
        },
        "f09e9f416b1748cebdf3e8f5bc5201ca": {
          "model_module": "@jupyter-widgets/controls",
          "model_name": "DescriptionStyleModel",
          "model_module_version": "1.5.0",
          "state": {
            "_model_module": "@jupyter-widgets/controls",
            "_model_module_version": "1.5.0",
            "_model_name": "DescriptionStyleModel",
            "_view_count": null,
            "_view_module": "@jupyter-widgets/base",
            "_view_module_version": "1.2.0",
            "_view_name": "StyleView",
            "description_width": ""
          }
        },
        "640a8407339a43338cfab01884a160ec": {
          "model_module": "@jupyter-widgets/base",
          "model_name": "LayoutModel",
          "model_module_version": "1.2.0",
          "state": {
            "_model_module": "@jupyter-widgets/base",
            "_model_module_version": "1.2.0",
            "_model_name": "LayoutModel",
            "_view_count": null,
            "_view_module": "@jupyter-widgets/base",
            "_view_module_version": "1.2.0",
            "_view_name": "LayoutView",
            "align_content": null,
            "align_items": null,
            "align_self": null,
            "border": null,
            "bottom": null,
            "display": null,
            "flex": null,
            "flex_flow": null,
            "grid_area": null,
            "grid_auto_columns": null,
            "grid_auto_flow": null,
            "grid_auto_rows": null,
            "grid_column": null,
            "grid_gap": null,
            "grid_row": null,
            "grid_template_areas": null,
            "grid_template_columns": null,
            "grid_template_rows": null,
            "height": null,
            "justify_content": null,
            "justify_items": null,
            "left": null,
            "margin": null,
            "max_height": null,
            "max_width": null,
            "min_height": null,
            "min_width": null,
            "object_fit": null,
            "object_position": null,
            "order": null,
            "overflow": null,
            "overflow_x": null,
            "overflow_y": null,
            "padding": null,
            "right": null,
            "top": null,
            "visibility": null,
            "width": null
          }
        },
        "36c4e94d0acd4f708de616963e428ad4": {
          "model_module": "@jupyter-widgets/controls",
          "model_name": "ProgressStyleModel",
          "model_module_version": "1.5.0",
          "state": {
            "_model_module": "@jupyter-widgets/controls",
            "_model_module_version": "1.5.0",
            "_model_name": "ProgressStyleModel",
            "_view_count": null,
            "_view_module": "@jupyter-widgets/base",
            "_view_module_version": "1.2.0",
            "_view_name": "StyleView",
            "bar_color": null,
            "description_width": ""
          }
        },
        "1de0bd780f914c8fbcee41598dff8063": {
          "model_module": "@jupyter-widgets/base",
          "model_name": "LayoutModel",
          "model_module_version": "1.2.0",
          "state": {
            "_model_module": "@jupyter-widgets/base",
            "_model_module_version": "1.2.0",
            "_model_name": "LayoutModel",
            "_view_count": null,
            "_view_module": "@jupyter-widgets/base",
            "_view_module_version": "1.2.0",
            "_view_name": "LayoutView",
            "align_content": null,
            "align_items": null,
            "align_self": null,
            "border": null,
            "bottom": null,
            "display": null,
            "flex": null,
            "flex_flow": null,
            "grid_area": null,
            "grid_auto_columns": null,
            "grid_auto_flow": null,
            "grid_auto_rows": null,
            "grid_column": null,
            "grid_gap": null,
            "grid_row": null,
            "grid_template_areas": null,
            "grid_template_columns": null,
            "grid_template_rows": null,
            "height": null,
            "justify_content": null,
            "justify_items": null,
            "left": null,
            "margin": null,
            "max_height": null,
            "max_width": null,
            "min_height": null,
            "min_width": null,
            "object_fit": null,
            "object_position": null,
            "order": null,
            "overflow": null,
            "overflow_x": null,
            "overflow_y": null,
            "padding": null,
            "right": null,
            "top": null,
            "visibility": null,
            "width": null
          }
        },
        "f70a8d7f2c3d4344bfda5750a3e5e12e": {
          "model_module": "@jupyter-widgets/controls",
          "model_name": "DescriptionStyleModel",
          "model_module_version": "1.5.0",
          "state": {
            "_model_module": "@jupyter-widgets/controls",
            "_model_module_version": "1.5.0",
            "_model_name": "DescriptionStyleModel",
            "_view_count": null,
            "_view_module": "@jupyter-widgets/base",
            "_view_module_version": "1.2.0",
            "_view_name": "StyleView",
            "description_width": ""
          }
        },
        "a54fef441e8c4d04b63c118fadc4ab4f": {
          "model_module": "@jupyter-widgets/controls",
          "model_name": "HBoxModel",
          "model_module_version": "1.5.0",
          "state": {
            "_dom_classes": [],
            "_model_module": "@jupyter-widgets/controls",
            "_model_module_version": "1.5.0",
            "_model_name": "HBoxModel",
            "_view_count": null,
            "_view_module": "@jupyter-widgets/controls",
            "_view_module_version": "1.5.0",
            "_view_name": "HBoxView",
            "box_style": "",
            "children": [
              "IPY_MODEL_5756a044ede44f1a8458d0b3aeb49101",
              "IPY_MODEL_f494f21da86c4416ad1465778b92374f",
              "IPY_MODEL_cbc71595c4074336ae7a25bd21cc2ca2"
            ],
            "layout": "IPY_MODEL_ffa93178f6f84c928e441358385bc91d"
          }
        },
        "5756a044ede44f1a8458d0b3aeb49101": {
          "model_module": "@jupyter-widgets/controls",
          "model_name": "HTMLModel",
          "model_module_version": "1.5.0",
          "state": {
            "_dom_classes": [],
            "_model_module": "@jupyter-widgets/controls",
            "_model_module_version": "1.5.0",
            "_model_name": "HTMLModel",
            "_view_count": null,
            "_view_module": "@jupyter-widgets/controls",
            "_view_module_version": "1.5.0",
            "_view_name": "HTMLView",
            "description": "",
            "description_tooltip": null,
            "layout": "IPY_MODEL_83eb40b5b8504e5c88e0c999b9e61d42",
            "placeholder": "​",
            "style": "IPY_MODEL_989d5dabb31b4f269bd65dc65f6c0607",
            "value": "100%"
          }
        },
        "f494f21da86c4416ad1465778b92374f": {
          "model_module": "@jupyter-widgets/controls",
          "model_name": "FloatProgressModel",
          "model_module_version": "1.5.0",
          "state": {
            "_dom_classes": [],
            "_model_module": "@jupyter-widgets/controls",
            "_model_module_version": "1.5.0",
            "_model_name": "FloatProgressModel",
            "_view_count": null,
            "_view_module": "@jupyter-widgets/controls",
            "_view_module_version": "1.5.0",
            "_view_name": "ProgressView",
            "bar_style": "success",
            "description": "",
            "description_tooltip": null,
            "layout": "IPY_MODEL_1ceaae75b232424b95b59376102fd327",
            "max": 1648877,
            "min": 0,
            "orientation": "horizontal",
            "style": "IPY_MODEL_15fad3657a244bb68e6a8a7675205d8d",
            "value": 1648877
          }
        },
        "cbc71595c4074336ae7a25bd21cc2ca2": {
          "model_module": "@jupyter-widgets/controls",
          "model_name": "HTMLModel",
          "model_module_version": "1.5.0",
          "state": {
            "_dom_classes": [],
            "_model_module": "@jupyter-widgets/controls",
            "_model_module_version": "1.5.0",
            "_model_name": "HTMLModel",
            "_view_count": null,
            "_view_module": "@jupyter-widgets/controls",
            "_view_module_version": "1.5.0",
            "_view_name": "HTMLView",
            "description": "",
            "description_tooltip": null,
            "layout": "IPY_MODEL_5faed2fd42a14628bd370b0838a844b2",
            "placeholder": "​",
            "style": "IPY_MODEL_eae0ef100a084c0fbc98eec9de20f4fc",
            "value": " 1648877/1648877 [00:00&lt;00:00, 23750034.84it/s]"
          }
        },
        "ffa93178f6f84c928e441358385bc91d": {
          "model_module": "@jupyter-widgets/base",
          "model_name": "LayoutModel",
          "model_module_version": "1.2.0",
          "state": {
            "_model_module": "@jupyter-widgets/base",
            "_model_module_version": "1.2.0",
            "_model_name": "LayoutModel",
            "_view_count": null,
            "_view_module": "@jupyter-widgets/base",
            "_view_module_version": "1.2.0",
            "_view_name": "LayoutView",
            "align_content": null,
            "align_items": null,
            "align_self": null,
            "border": null,
            "bottom": null,
            "display": null,
            "flex": null,
            "flex_flow": null,
            "grid_area": null,
            "grid_auto_columns": null,
            "grid_auto_flow": null,
            "grid_auto_rows": null,
            "grid_column": null,
            "grid_gap": null,
            "grid_row": null,
            "grid_template_areas": null,
            "grid_template_columns": null,
            "grid_template_rows": null,
            "height": null,
            "justify_content": null,
            "justify_items": null,
            "left": null,
            "margin": null,
            "max_height": null,
            "max_width": null,
            "min_height": null,
            "min_width": null,
            "object_fit": null,
            "object_position": null,
            "order": null,
            "overflow": null,
            "overflow_x": null,
            "overflow_y": null,
            "padding": null,
            "right": null,
            "top": null,
            "visibility": null,
            "width": null
          }
        },
        "83eb40b5b8504e5c88e0c999b9e61d42": {
          "model_module": "@jupyter-widgets/base",
          "model_name": "LayoutModel",
          "model_module_version": "1.2.0",
          "state": {
            "_model_module": "@jupyter-widgets/base",
            "_model_module_version": "1.2.0",
            "_model_name": "LayoutModel",
            "_view_count": null,
            "_view_module": "@jupyter-widgets/base",
            "_view_module_version": "1.2.0",
            "_view_name": "LayoutView",
            "align_content": null,
            "align_items": null,
            "align_self": null,
            "border": null,
            "bottom": null,
            "display": null,
            "flex": null,
            "flex_flow": null,
            "grid_area": null,
            "grid_auto_columns": null,
            "grid_auto_flow": null,
            "grid_auto_rows": null,
            "grid_column": null,
            "grid_gap": null,
            "grid_row": null,
            "grid_template_areas": null,
            "grid_template_columns": null,
            "grid_template_rows": null,
            "height": null,
            "justify_content": null,
            "justify_items": null,
            "left": null,
            "margin": null,
            "max_height": null,
            "max_width": null,
            "min_height": null,
            "min_width": null,
            "object_fit": null,
            "object_position": null,
            "order": null,
            "overflow": null,
            "overflow_x": null,
            "overflow_y": null,
            "padding": null,
            "right": null,
            "top": null,
            "visibility": null,
            "width": null
          }
        },
        "989d5dabb31b4f269bd65dc65f6c0607": {
          "model_module": "@jupyter-widgets/controls",
          "model_name": "DescriptionStyleModel",
          "model_module_version": "1.5.0",
          "state": {
            "_model_module": "@jupyter-widgets/controls",
            "_model_module_version": "1.5.0",
            "_model_name": "DescriptionStyleModel",
            "_view_count": null,
            "_view_module": "@jupyter-widgets/base",
            "_view_module_version": "1.2.0",
            "_view_name": "StyleView",
            "description_width": ""
          }
        },
        "1ceaae75b232424b95b59376102fd327": {
          "model_module": "@jupyter-widgets/base",
          "model_name": "LayoutModel",
          "model_module_version": "1.2.0",
          "state": {
            "_model_module": "@jupyter-widgets/base",
            "_model_module_version": "1.2.0",
            "_model_name": "LayoutModel",
            "_view_count": null,
            "_view_module": "@jupyter-widgets/base",
            "_view_module_version": "1.2.0",
            "_view_name": "LayoutView",
            "align_content": null,
            "align_items": null,
            "align_self": null,
            "border": null,
            "bottom": null,
            "display": null,
            "flex": null,
            "flex_flow": null,
            "grid_area": null,
            "grid_auto_columns": null,
            "grid_auto_flow": null,
            "grid_auto_rows": null,
            "grid_column": null,
            "grid_gap": null,
            "grid_row": null,
            "grid_template_areas": null,
            "grid_template_columns": null,
            "grid_template_rows": null,
            "height": null,
            "justify_content": null,
            "justify_items": null,
            "left": null,
            "margin": null,
            "max_height": null,
            "max_width": null,
            "min_height": null,
            "min_width": null,
            "object_fit": null,
            "object_position": null,
            "order": null,
            "overflow": null,
            "overflow_x": null,
            "overflow_y": null,
            "padding": null,
            "right": null,
            "top": null,
            "visibility": null,
            "width": null
          }
        },
        "15fad3657a244bb68e6a8a7675205d8d": {
          "model_module": "@jupyter-widgets/controls",
          "model_name": "ProgressStyleModel",
          "model_module_version": "1.5.0",
          "state": {
            "_model_module": "@jupyter-widgets/controls",
            "_model_module_version": "1.5.0",
            "_model_name": "ProgressStyleModel",
            "_view_count": null,
            "_view_module": "@jupyter-widgets/base",
            "_view_module_version": "1.2.0",
            "_view_name": "StyleView",
            "bar_color": null,
            "description_width": ""
          }
        },
        "5faed2fd42a14628bd370b0838a844b2": {
          "model_module": "@jupyter-widgets/base",
          "model_name": "LayoutModel",
          "model_module_version": "1.2.0",
          "state": {
            "_model_module": "@jupyter-widgets/base",
            "_model_module_version": "1.2.0",
            "_model_name": "LayoutModel",
            "_view_count": null,
            "_view_module": "@jupyter-widgets/base",
            "_view_module_version": "1.2.0",
            "_view_name": "LayoutView",
            "align_content": null,
            "align_items": null,
            "align_self": null,
            "border": null,
            "bottom": null,
            "display": null,
            "flex": null,
            "flex_flow": null,
            "grid_area": null,
            "grid_auto_columns": null,
            "grid_auto_flow": null,
            "grid_auto_rows": null,
            "grid_column": null,
            "grid_gap": null,
            "grid_row": null,
            "grid_template_areas": null,
            "grid_template_columns": null,
            "grid_template_rows": null,
            "height": null,
            "justify_content": null,
            "justify_items": null,
            "left": null,
            "margin": null,
            "max_height": null,
            "max_width": null,
            "min_height": null,
            "min_width": null,
            "object_fit": null,
            "object_position": null,
            "order": null,
            "overflow": null,
            "overflow_x": null,
            "overflow_y": null,
            "padding": null,
            "right": null,
            "top": null,
            "visibility": null,
            "width": null
          }
        },
        "eae0ef100a084c0fbc98eec9de20f4fc": {
          "model_module": "@jupyter-widgets/controls",
          "model_name": "DescriptionStyleModel",
          "model_module_version": "1.5.0",
          "state": {
            "_model_module": "@jupyter-widgets/controls",
            "_model_module_version": "1.5.0",
            "_model_name": "DescriptionStyleModel",
            "_view_count": null,
            "_view_module": "@jupyter-widgets/base",
            "_view_module_version": "1.2.0",
            "_view_name": "StyleView",
            "description_width": ""
          }
        },
        "c3c41fd85d6744c98e1890073f4a81ec": {
          "model_module": "@jupyter-widgets/controls",
          "model_name": "HBoxModel",
          "model_module_version": "1.5.0",
          "state": {
            "_dom_classes": [],
            "_model_module": "@jupyter-widgets/controls",
            "_model_module_version": "1.5.0",
            "_model_name": "HBoxModel",
            "_view_count": null,
            "_view_module": "@jupyter-widgets/controls",
            "_view_module_version": "1.5.0",
            "_view_name": "HBoxView",
            "box_style": "",
            "children": [
              "IPY_MODEL_44b79ef56bb74770980abc206ffb8eb2",
              "IPY_MODEL_c167cd52c19545ddaafefb6af92461e9",
              "IPY_MODEL_b7d6a6f61c7f4be0819e5682df30760c"
            ],
            "layout": "IPY_MODEL_cf48361afb064c9892f5bfc9eb1359a6"
          }
        },
        "44b79ef56bb74770980abc206ffb8eb2": {
          "model_module": "@jupyter-widgets/controls",
          "model_name": "HTMLModel",
          "model_module_version": "1.5.0",
          "state": {
            "_dom_classes": [],
            "_model_module": "@jupyter-widgets/controls",
            "_model_module_version": "1.5.0",
            "_model_name": "HTMLModel",
            "_view_count": null,
            "_view_module": "@jupyter-widgets/controls",
            "_view_module_version": "1.5.0",
            "_view_name": "HTMLView",
            "description": "",
            "description_tooltip": null,
            "layout": "IPY_MODEL_6b60cf4a20884f7e9ac336671f1ccc81",
            "placeholder": "​",
            "style": "IPY_MODEL_9445f9efed154729ac9be255989296a7",
            "value": "100%"
          }
        },
        "c167cd52c19545ddaafefb6af92461e9": {
          "model_module": "@jupyter-widgets/controls",
          "model_name": "FloatProgressModel",
          "model_module_version": "1.5.0",
          "state": {
            "_dom_classes": [],
            "_model_module": "@jupyter-widgets/controls",
            "_model_module_version": "1.5.0",
            "_model_name": "FloatProgressModel",
            "_view_count": null,
            "_view_module": "@jupyter-widgets/controls",
            "_view_module_version": "1.5.0",
            "_view_name": "ProgressView",
            "bar_style": "success",
            "description": "",
            "description_tooltip": null,
            "layout": "IPY_MODEL_94e58f634c5540939efdcd62fbf54c58",
            "max": 4542,
            "min": 0,
            "orientation": "horizontal",
            "style": "IPY_MODEL_b01e2c5bb5e84c4fa787dd2935a55956",
            "value": 4542
          }
        },
        "b7d6a6f61c7f4be0819e5682df30760c": {
          "model_module": "@jupyter-widgets/controls",
          "model_name": "HTMLModel",
          "model_module_version": "1.5.0",
          "state": {
            "_dom_classes": [],
            "_model_module": "@jupyter-widgets/controls",
            "_model_module_version": "1.5.0",
            "_model_name": "HTMLModel",
            "_view_count": null,
            "_view_module": "@jupyter-widgets/controls",
            "_view_module_version": "1.5.0",
            "_view_name": "HTMLView",
            "description": "",
            "description_tooltip": null,
            "layout": "IPY_MODEL_22b54ba6ce264ac1a7d7df9b2196692b",
            "placeholder": "​",
            "style": "IPY_MODEL_5f824842bb33427cba59acac7a43c730",
            "value": " 4542/4542 [00:00&lt;00:00, 148717.23it/s]"
          }
        },
        "cf48361afb064c9892f5bfc9eb1359a6": {
          "model_module": "@jupyter-widgets/base",
          "model_name": "LayoutModel",
          "model_module_version": "1.2.0",
          "state": {
            "_model_module": "@jupyter-widgets/base",
            "_model_module_version": "1.2.0",
            "_model_name": "LayoutModel",
            "_view_count": null,
            "_view_module": "@jupyter-widgets/base",
            "_view_module_version": "1.2.0",
            "_view_name": "LayoutView",
            "align_content": null,
            "align_items": null,
            "align_self": null,
            "border": null,
            "bottom": null,
            "display": null,
            "flex": null,
            "flex_flow": null,
            "grid_area": null,
            "grid_auto_columns": null,
            "grid_auto_flow": null,
            "grid_auto_rows": null,
            "grid_column": null,
            "grid_gap": null,
            "grid_row": null,
            "grid_template_areas": null,
            "grid_template_columns": null,
            "grid_template_rows": null,
            "height": null,
            "justify_content": null,
            "justify_items": null,
            "left": null,
            "margin": null,
            "max_height": null,
            "max_width": null,
            "min_height": null,
            "min_width": null,
            "object_fit": null,
            "object_position": null,
            "order": null,
            "overflow": null,
            "overflow_x": null,
            "overflow_y": null,
            "padding": null,
            "right": null,
            "top": null,
            "visibility": null,
            "width": null
          }
        },
        "6b60cf4a20884f7e9ac336671f1ccc81": {
          "model_module": "@jupyter-widgets/base",
          "model_name": "LayoutModel",
          "model_module_version": "1.2.0",
          "state": {
            "_model_module": "@jupyter-widgets/base",
            "_model_module_version": "1.2.0",
            "_model_name": "LayoutModel",
            "_view_count": null,
            "_view_module": "@jupyter-widgets/base",
            "_view_module_version": "1.2.0",
            "_view_name": "LayoutView",
            "align_content": null,
            "align_items": null,
            "align_self": null,
            "border": null,
            "bottom": null,
            "display": null,
            "flex": null,
            "flex_flow": null,
            "grid_area": null,
            "grid_auto_columns": null,
            "grid_auto_flow": null,
            "grid_auto_rows": null,
            "grid_column": null,
            "grid_gap": null,
            "grid_row": null,
            "grid_template_areas": null,
            "grid_template_columns": null,
            "grid_template_rows": null,
            "height": null,
            "justify_content": null,
            "justify_items": null,
            "left": null,
            "margin": null,
            "max_height": null,
            "max_width": null,
            "min_height": null,
            "min_width": null,
            "object_fit": null,
            "object_position": null,
            "order": null,
            "overflow": null,
            "overflow_x": null,
            "overflow_y": null,
            "padding": null,
            "right": null,
            "top": null,
            "visibility": null,
            "width": null
          }
        },
        "9445f9efed154729ac9be255989296a7": {
          "model_module": "@jupyter-widgets/controls",
          "model_name": "DescriptionStyleModel",
          "model_module_version": "1.5.0",
          "state": {
            "_model_module": "@jupyter-widgets/controls",
            "_model_module_version": "1.5.0",
            "_model_name": "DescriptionStyleModel",
            "_view_count": null,
            "_view_module": "@jupyter-widgets/base",
            "_view_module_version": "1.2.0",
            "_view_name": "StyleView",
            "description_width": ""
          }
        },
        "94e58f634c5540939efdcd62fbf54c58": {
          "model_module": "@jupyter-widgets/base",
          "model_name": "LayoutModel",
          "model_module_version": "1.2.0",
          "state": {
            "_model_module": "@jupyter-widgets/base",
            "_model_module_version": "1.2.0",
            "_model_name": "LayoutModel",
            "_view_count": null,
            "_view_module": "@jupyter-widgets/base",
            "_view_module_version": "1.2.0",
            "_view_name": "LayoutView",
            "align_content": null,
            "align_items": null,
            "align_self": null,
            "border": null,
            "bottom": null,
            "display": null,
            "flex": null,
            "flex_flow": null,
            "grid_area": null,
            "grid_auto_columns": null,
            "grid_auto_flow": null,
            "grid_auto_rows": null,
            "grid_column": null,
            "grid_gap": null,
            "grid_row": null,
            "grid_template_areas": null,
            "grid_template_columns": null,
            "grid_template_rows": null,
            "height": null,
            "justify_content": null,
            "justify_items": null,
            "left": null,
            "margin": null,
            "max_height": null,
            "max_width": null,
            "min_height": null,
            "min_width": null,
            "object_fit": null,
            "object_position": null,
            "order": null,
            "overflow": null,
            "overflow_x": null,
            "overflow_y": null,
            "padding": null,
            "right": null,
            "top": null,
            "visibility": null,
            "width": null
          }
        },
        "b01e2c5bb5e84c4fa787dd2935a55956": {
          "model_module": "@jupyter-widgets/controls",
          "model_name": "ProgressStyleModel",
          "model_module_version": "1.5.0",
          "state": {
            "_model_module": "@jupyter-widgets/controls",
            "_model_module_version": "1.5.0",
            "_model_name": "ProgressStyleModel",
            "_view_count": null,
            "_view_module": "@jupyter-widgets/base",
            "_view_module_version": "1.2.0",
            "_view_name": "StyleView",
            "bar_color": null,
            "description_width": ""
          }
        },
        "22b54ba6ce264ac1a7d7df9b2196692b": {
          "model_module": "@jupyter-widgets/base",
          "model_name": "LayoutModel",
          "model_module_version": "1.2.0",
          "state": {
            "_model_module": "@jupyter-widgets/base",
            "_model_module_version": "1.2.0",
            "_model_name": "LayoutModel",
            "_view_count": null,
            "_view_module": "@jupyter-widgets/base",
            "_view_module_version": "1.2.0",
            "_view_name": "LayoutView",
            "align_content": null,
            "align_items": null,
            "align_self": null,
            "border": null,
            "bottom": null,
            "display": null,
            "flex": null,
            "flex_flow": null,
            "grid_area": null,
            "grid_auto_columns": null,
            "grid_auto_flow": null,
            "grid_auto_rows": null,
            "grid_column": null,
            "grid_gap": null,
            "grid_row": null,
            "grid_template_areas": null,
            "grid_template_columns": null,
            "grid_template_rows": null,
            "height": null,
            "justify_content": null,
            "justify_items": null,
            "left": null,
            "margin": null,
            "max_height": null,
            "max_width": null,
            "min_height": null,
            "min_width": null,
            "object_fit": null,
            "object_position": null,
            "order": null,
            "overflow": null,
            "overflow_x": null,
            "overflow_y": null,
            "padding": null,
            "right": null,
            "top": null,
            "visibility": null,
            "width": null
          }
        },
        "5f824842bb33427cba59acac7a43c730": {
          "model_module": "@jupyter-widgets/controls",
          "model_name": "DescriptionStyleModel",
          "model_module_version": "1.5.0",
          "state": {
            "_model_module": "@jupyter-widgets/controls",
            "_model_module_version": "1.5.0",
            "_model_name": "DescriptionStyleModel",
            "_view_count": null,
            "_view_module": "@jupyter-widgets/base",
            "_view_module_version": "1.2.0",
            "_view_name": "StyleView",
            "description_width": ""
          }
        }
      }
    }
  },
  "nbformat": 4,
  "nbformat_minor": 0
}