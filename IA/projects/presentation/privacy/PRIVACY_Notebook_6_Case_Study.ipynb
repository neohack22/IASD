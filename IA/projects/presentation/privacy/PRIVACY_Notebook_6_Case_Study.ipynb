{
  "cells": [
    {
      "cell_type": "markdown",
      "metadata": {
        "id": "view-in-github",
        "colab_type": "text"
      },
      "source": [
        "<a href=\"https://colab.research.google.com/github/neohack22/IASD/blob/IA/IA/projects/presentation/privacy/PRIVACY_Notebook_6_Case_Study.ipynb\" target=\"_parent\"><img src=\"https://colab.research.google.com/assets/colab-badge.svg\" alt=\"Open In Colab\"/></a>"
      ]
    },
    {
      "cell_type": "markdown",
      "metadata": {
        "id": "hjlreHhIGmTx"
      },
      "source": [
        "# Case Study - Health Care dataset\n",
        "\n",
        "In this notebook, we'll explore the possibilties for data privacy on a new dataset.\n",
        "Your challenge is that you are working with a health care provider, who would like to do the \"machine learning\" on this dataset to figure out if there are preventative measures that can be taken so fewer patients are seen in the hospital for related care or so that their visits are shorter, to do so you might want to predict the **has_diabetes** according to the features at hand. The goal is that more potentially affected patients are given access to primary care physicians and regular medication or visits that can keep them out of the hostpital for long stays."
      ]
    },
    {
      "cell_type": "markdown",
      "metadata": {
        "id": "MGPIcM6fGmTz"
      },
      "source": [
        "## Part One: Determining What's Useful and What's Sensitive\n",
        "\n",
        "- Data completeness\n",
        "- Potential sensitive columns\n",
        "- Potential useful features\n",
        "- What columns should we use? \n",
        "- Which ones should we remove?\n",
        "- Are there columns which we should protect but not remove? \n",
        "\n",
        "For each, we need some justification or thought!"
      ]
    },
    {
      "cell_type": "code",
      "source": [
        "import numpy as np\n",
        "from matplotlib import rcParams"
      ],
      "metadata": {
        "id": "bG7Varl05CPM"
      },
      "execution_count": 1,
      "outputs": []
    },
    {
      "cell_type": "code",
      "source": [
        "from sklearn.preprocessing import StandardScaler\n",
        "from sklearn.model_selection import train_test_split"
      ],
      "metadata": {
        "id": "ujuz8xyWEGfN"
      },
      "execution_count": 2,
      "outputs": []
    },
    {
      "cell_type": "code",
      "source": [
        "from sklearn.decomposition import PCA"
      ],
      "metadata": {
        "id": "1ELfXi1EHaCc"
      },
      "execution_count": 3,
      "outputs": []
    },
    {
      "cell_type": "code",
      "source": [
        "from sklearn.linear_model import LogisticRegression"
      ],
      "metadata": {
        "id": "nFXWxspLDd0-"
      },
      "execution_count": 4,
      "outputs": []
    },
    {
      "cell_type": "code",
      "source": [
        "from sklearn.preprocessing import OneHotEncoder"
      ],
      "metadata": {
        "id": "5T94myK9OwkT"
      },
      "execution_count": 5,
      "outputs": []
    },
    {
      "cell_type": "code",
      "source": [
        "import matplotlib.pyplot as plt"
      ],
      "metadata": {
        "id": "kr-5eVKjZtMI"
      },
      "execution_count": 6,
      "outputs": []
    },
    {
      "cell_type": "code",
      "source": [
        "#@title\n",
        "%matplotlib inline\n",
        "import pandas as pd\n",
        "\n",
        "df = pd.read_csv('/content/health_data.csv')"
      ],
      "metadata": {
        "id": "zpLMFGohyQg0"
      },
      "execution_count": 7,
      "outputs": []
    },
    {
      "cell_type": "markdown",
      "source": [
        "### Data completeness"
      ],
      "metadata": {
        "id": "qGELVcxayqRS"
      }
    },
    {
      "cell_type": "code",
      "source": [
        "print(df.isna().sum().sum() / df.size * 100)"
      ],
      "metadata": {
        "colab": {
          "base_uri": "https://localhost:8080/"
        },
        "id": "NDCBS4vPysvD",
        "outputId": "aa312431-f75e-4106-f33c-523ac88ec854"
      },
      "execution_count": 8,
      "outputs": [
        {
          "output_type": "stream",
          "name": "stdout",
          "text": [
            "0.0\n"
          ]
        }
      ]
    },
    {
      "cell_type": "code",
      "source": [
        "df.isnull().any().any()"
      ],
      "metadata": {
        "colab": {
          "base_uri": "https://localhost:8080/"
        },
        "id": "7TMyrKXG_vBm",
        "outputId": "345ae2c1-d103-4498-b30c-a0ec78635bc0"
      },
      "execution_count": 9,
      "outputs": [
        {
          "output_type": "execute_result",
          "data": {
            "text/plain": [
              "False"
            ]
          },
          "metadata": {},
          "execution_count": 9
        }
      ]
    },
    {
      "cell_type": "markdown",
      "source": [
        "The data is complete as there are no null value nor missing value."
      ],
      "metadata": {
        "id": "iY5ZBKltzfCE"
      }
    },
    {
      "cell_type": "markdown",
      "source": [
        "### Potential sensitive columns"
      ],
      "metadata": {
        "id": "DSyXk3Jzzk5E"
      }
    },
    {
      "cell_type": "markdown",
      "source": [
        "We check for attributes that are not personally identifiable or quasi identifiable but still constitute data about the person that needs to be protected.<br>\n",
        "This could be for any number of reasons, such as salary information, a diagnosis of a disease, or the geolocation.\n"
      ],
      "metadata": {
        "id": "IdjWuMg20UBd"
      }
    },
    {
      "cell_type": "code",
      "source": [
        "for col in df:\n",
        "  print(col)"
      ],
      "metadata": {
        "colab": {
          "base_uri": "https://localhost:8080/"
        },
        "id": "mxwUOkzQ07wO",
        "outputId": "e06a9a0b-4600-467c-fadc-6ec52fa5194b"
      },
      "execution_count": 10,
      "outputs": [
        {
          "output_type": "stream",
          "name": "stdout",
          "text": [
            "admitted_ts\n",
            "age\n",
            "ambulance_call\n",
            "blood_sugar_reading\n",
            "days_since_last_visit\n",
            "has_diabetes\n",
            "hospital\n",
            "hours_hospitalized\n",
            "hydration_level\n",
            "id\n",
            "insulin\n",
            "marital_status\n",
            "no_primary_dr\n",
            "patient_name\n",
            "private_insurance\n",
            "released_sameday\n",
            "ssn\n",
            "symptom_code\n"
          ]
        }
      ]
    },
    {
      "cell_type": "markdown",
      "source": [
        "admitted_ts, ambulance_call, blood_sugar_reading, days_since_last_visit, has_diabetes, hospital, hours_hospitalized, hydration_level, insulin, private_insurance, released_sameday and symptom_code, as they're medical related are potential sentive columns.<br>\n",
        "As we don't know the meaning of no_primary_dr, we consider it as potential sensitive as well.<br>\n",
        "id, patient_name and ssn are even more sensitive as personal identifiable or quasi identifiable.\n"
      ],
      "metadata": {
        "id": "yAp4Wifn1o0F"
      }
    },
    {
      "cell_type": "markdown",
      "source": [
        "### Potential usefull features"
      ],
      "metadata": {
        "id": "MI2QEUgh2zln"
      }
    },
    {
      "cell_type": "markdown",
      "source": [
        "We're going to analyze principal components of a predictive model in order to evaluate potential usefull features.<br>\n",
        "To do so, we're start fitting a baseline model just to fit correlation between the target and the rest of the features."
      ],
      "metadata": {
        "id": "0Q8fEvps39kp"
      }
    },
    {
      "cell_type": "code",
      "source": [
        "df.info()"
      ],
      "metadata": {
        "colab": {
          "base_uri": "https://localhost:8080/"
        },
        "id": "0i8Eu55l_OoF",
        "outputId": "55bde4bc-47fc-4285-f4da-e1208f27db82"
      },
      "execution_count": 11,
      "outputs": [
        {
          "output_type": "stream",
          "name": "stdout",
          "text": [
            "<class 'pandas.core.frame.DataFrame'>\n",
            "RangeIndex: 1000 entries, 0 to 999\n",
            "Data columns (total 18 columns):\n",
            " #   Column                 Non-Null Count  Dtype \n",
            "---  ------                 --------------  ----- \n",
            " 0   admitted_ts            1000 non-null   object\n",
            " 1   age                    1000 non-null   int64 \n",
            " 2   ambulance_call         1000 non-null   int64 \n",
            " 3   blood_sugar_reading    1000 non-null   int64 \n",
            " 4   days_since_last_visit  1000 non-null   int64 \n",
            " 5   has_diabetes           1000 non-null   int64 \n",
            " 6   hospital               1000 non-null   object\n",
            " 7   hours_hospitalized     1000 non-null   int64 \n",
            " 8   hydration_level        1000 non-null   int64 \n",
            " 9   id                     1000 non-null   int64 \n",
            " 10  insulin                1000 non-null   int64 \n",
            " 11  marital_status         1000 non-null   object\n",
            " 12  no_primary_dr          1000 non-null   bool  \n",
            " 13  patient_name           1000 non-null   object\n",
            " 14  private_insurance      1000 non-null   int64 \n",
            " 15  released_sameday       1000 non-null   int64 \n",
            " 16  ssn                    1000 non-null   object\n",
            " 17  symptom_code           1000 non-null   int64 \n",
            "dtypes: bool(1), int64(12), object(5)\n",
            "memory usage: 133.9+ KB\n"
          ]
        }
      ]
    },
    {
      "cell_type": "markdown",
      "source": [
        "Let's check correlations to focus on useful data.<br>\n",
        "To do so, we would numerical columns so let's do the necessary transformations.."
      ],
      "metadata": {
        "id": "HbtwV-s7P1qF"
      }
    },
    {
      "cell_type": "code",
      "source": [
        "# categorical data\n",
        "categorical_cols = ['hospital','marital_status','no_primary_dr']\n",
        "\n",
        "dummy_df = pd.get_dummies(df, columns = categorical_cols)\n",
        "print(dummy_df)"
      ],
      "metadata": {
        "colab": {
          "base_uri": "https://localhost:8080/"
        },
        "id": "NvP_Ixg9PeVW",
        "outputId": "892830fa-120a-47df-80db-261241f8076a"
      },
      "execution_count": 12,
      "outputs": [
        {
          "output_type": "stream",
          "name": "stdout",
          "text": [
            "             admitted_ts  age  ambulance_call  blood_sugar_reading  \\\n",
            "0    2018-05-09 12:06:28   49               1                  108   \n",
            "1    2018-05-12 10:02:55   82               1                   70   \n",
            "2    2018-05-13 12:25:17   71               1                  100   \n",
            "3    2018-05-14 12:20:08   87               0                  113   \n",
            "4    2018-05-17 08:35:23   53               1                   93   \n",
            "..                   ...  ...             ...                  ...   \n",
            "995  2018-09-11 12:14:33   75               0                   83   \n",
            "996  2018-09-13 10:09:36   73               0                   77   \n",
            "997  2018-09-15 11:35:49   29               1                  109   \n",
            "998  2018-09-18 08:41:36   23               0                   75   \n",
            "999  2018-09-23 12:24:29   86               1                  126   \n",
            "\n",
            "     days_since_last_visit  has_diabetes  hours_hospitalized  hydration_level  \\\n",
            "0                       99             1                  15                6   \n",
            "1                      100             1                  22                1   \n",
            "2                       78             1                   1                4   \n",
            "3                       72             1                  22                4   \n",
            "4                       80             1                  17                8   \n",
            "..                     ...           ...                 ...              ...   \n",
            "995                     38             0                   9                9   \n",
            "996                     39             0                  14                1   \n",
            "997                     63             1                   2                2   \n",
            "998                     37             0                  19                4   \n",
            "999                     43             1                   4                0   \n",
            "\n",
            "       id  insulin  ... hospital_central  hospital_district  hospital_general  \\\n",
            "0    1000        1  ...                0                  1                 0   \n",
            "1    1001        1  ...                0                  0                 1   \n",
            "2    1002        1  ...                0                  0                 0   \n",
            "3    1003        1  ...                0                  0                 1   \n",
            "4    1004        0  ...                0                  1                 0   \n",
            "..    ...      ...  ...              ...                ...               ...   \n",
            "995  1995        1  ...                0                  0                 1   \n",
            "996  1996        0  ...                1                  0                 0   \n",
            "997  1997        1  ...                0                  1                 0   \n",
            "998  1998        0  ...                1                  0                 0   \n",
            "999  1999        1  ...                0                  0                 0   \n",
            "\n",
            "    hospital_northern  marital_status_divorced  marital_status_married  \\\n",
            "0                   0                        0                       0   \n",
            "1                   0                        0                       1   \n",
            "2                   1                        0                       0   \n",
            "3                   0                        0                       0   \n",
            "4                   0                        0                       0   \n",
            "..                ...                      ...                     ...   \n",
            "995                 0                        1                       0   \n",
            "996                 0                        0                       0   \n",
            "997                 0                        0                       1   \n",
            "998                 0                        0                       0   \n",
            "999                 1                        0                       0   \n",
            "\n",
            "     marital_status_no_answer  marital_status_single  no_primary_dr_False  \\\n",
            "0                           0                      1                    1   \n",
            "1                           0                      0                    1   \n",
            "2                           1                      0                    0   \n",
            "3                           1                      0                    1   \n",
            "4                           1                      0                    0   \n",
            "..                        ...                    ...                  ...   \n",
            "995                         0                      0                    1   \n",
            "996                         1                      0                    1   \n",
            "997                         0                      0                    1   \n",
            "998                         0                      1                    1   \n",
            "999                         1                      0                    1   \n",
            "\n",
            "     no_primary_dr_True  \n",
            "0                     0  \n",
            "1                     0  \n",
            "2                     1  \n",
            "3                     0  \n",
            "4                     1  \n",
            "..                  ...  \n",
            "995                   0  \n",
            "996                   0  \n",
            "997                   0  \n",
            "998                   0  \n",
            "999                   0  \n",
            "\n",
            "[1000 rows x 25 columns]\n"
          ]
        }
      ]
    },
    {
      "cell_type": "code",
      "source": [
        "dummy_df[\"admitted_ts\"] = pd.to_datetime(dummy_df[\"admitted_ts\"])\n",
        "dummy_df[\"admitted_ts\"] = pd.to_numeric(dummy_df[\"admitted_ts\"])"
      ],
      "metadata": {
        "id": "ws5DxAv7USVO"
      },
      "execution_count": 13,
      "outputs": []
    },
    {
      "cell_type": "code",
      "source": [
        "corr = df.corr()\n",
        "print(\"correlation\", corr)"
      ],
      "metadata": {
        "colab": {
          "base_uri": "https://localhost:8080/"
        },
        "id": "oZsF0TsxP1PV",
        "outputId": "793e5ad6-dd74-45ae-b24f-9a235050009b"
      },
      "execution_count": 14,
      "outputs": [
        {
          "output_type": "stream",
          "name": "stdout",
          "text": [
            "correlation                             age  ambulance_call  blood_sugar_reading  \\\n",
            "age                    1.000000       -0.039872            -0.093682   \n",
            "ambulance_call        -0.039872        1.000000             0.028701   \n",
            "blood_sugar_reading   -0.093682        0.028701             1.000000   \n",
            "days_since_last_visit -0.025325        0.000858             0.018231   \n",
            "has_diabetes          -0.004673        0.013858            -0.003593   \n",
            "hours_hospitalized     0.036598       -0.039157            -0.007363   \n",
            "hydration_level        0.013655        0.016497            -0.003371   \n",
            "id                    -0.031231        0.019323             0.039533   \n",
            "insulin                0.009212       -0.031877            -0.042906   \n",
            "no_primary_dr          0.001633        0.011651             0.073805   \n",
            "private_insurance      0.022074       -0.057674            -0.017256   \n",
            "released_sameday      -0.094541        0.044267             0.007559   \n",
            "symptom_code          -0.076882       -0.013384            -0.016850   \n",
            "\n",
            "                       days_since_last_visit  has_diabetes  \\\n",
            "age                                -0.025325     -0.004673   \n",
            "ambulance_call                      0.000858      0.013858   \n",
            "blood_sugar_reading                 0.018231     -0.003593   \n",
            "days_since_last_visit               1.000000      0.012534   \n",
            "has_diabetes                        0.012534      1.000000   \n",
            "hours_hospitalized                 -0.014628     -0.061627   \n",
            "hydration_level                     0.013325      0.063124   \n",
            "id                                 -0.016106     -0.015041   \n",
            "insulin                             0.044376      0.018726   \n",
            "no_primary_dr                       0.012869      0.069018   \n",
            "private_insurance                   0.021765     -0.070442   \n",
            "released_sameday                    0.000507      0.053818   \n",
            "symptom_code                        0.003319      0.000125   \n",
            "\n",
            "                       hours_hospitalized  hydration_level        id  \\\n",
            "age                              0.036598         0.013655 -0.031231   \n",
            "ambulance_call                  -0.039157         0.016497  0.019323   \n",
            "blood_sugar_reading             -0.007363        -0.003371  0.039533   \n",
            "days_since_last_visit           -0.014628         0.013325 -0.016106   \n",
            "has_diabetes                    -0.061627         0.063124 -0.015041   \n",
            "hours_hospitalized               1.000000        -0.054126  0.034839   \n",
            "hydration_level                 -0.054126         1.000000 -0.016986   \n",
            "id                               0.034839        -0.016986  1.000000   \n",
            "insulin                          0.096682        -0.008669 -0.007192   \n",
            "no_primary_dr                   -0.025929        -0.058305 -0.052594   \n",
            "private_insurance                0.006085        -0.027034  0.024074   \n",
            "released_sameday                -0.819888         0.018628 -0.004397   \n",
            "symptom_code                     0.002419        -0.014266  0.008632   \n",
            "\n",
            "                        insulin  no_primary_dr  private_insurance  \\\n",
            "age                    0.009212       0.001633           0.022074   \n",
            "ambulance_call        -0.031877       0.011651          -0.057674   \n",
            "blood_sugar_reading   -0.042906       0.073805          -0.017256   \n",
            "days_since_last_visit  0.044376       0.012869           0.021765   \n",
            "has_diabetes           0.018726       0.069018          -0.070442   \n",
            "hours_hospitalized     0.096682      -0.025929           0.006085   \n",
            "hydration_level       -0.008669      -0.058305          -0.027034   \n",
            "id                    -0.007192      -0.052594           0.024074   \n",
            "insulin                1.000000       0.035689          -0.034848   \n",
            "no_primary_dr          0.035689       1.000000          -0.453227   \n",
            "private_insurance     -0.034848      -0.453227           1.000000   \n",
            "released_sameday      -0.050896       0.039190           0.045434   \n",
            "symptom_code          -0.041733       0.023448           0.014997   \n",
            "\n",
            "                       released_sameday  symptom_code  \n",
            "age                           -0.094541     -0.076882  \n",
            "ambulance_call                 0.044267     -0.013384  \n",
            "blood_sugar_reading            0.007559     -0.016850  \n",
            "days_since_last_visit          0.000507      0.003319  \n",
            "has_diabetes                   0.053818      0.000125  \n",
            "hours_hospitalized            -0.819888      0.002419  \n",
            "hydration_level                0.018628     -0.014266  \n",
            "id                            -0.004397      0.008632  \n",
            "insulin                       -0.050896     -0.041733  \n",
            "no_primary_dr                  0.039190      0.023448  \n",
            "private_insurance              0.045434      0.014997  \n",
            "released_sameday               1.000000      0.020657  \n",
            "symptom_code                   0.020657      1.000000  \n"
          ]
        }
      ]
    },
    {
      "cell_type": "markdown",
      "source": [
        "We can drop 'admitted_ts' as it has no correlation whatsoever with the target."
      ],
      "metadata": {
        "id": "lpdW88_MQVZ-"
      }
    },
    {
      "cell_type": "code",
      "source": [
        "# drop categorical columns not correlated to target or that can cause leakage\n",
        "pca_ddf = dummy_df.drop(\n",
        "    ['admitted_ts', 'patient_name', 'ssn', 'id'], axis=1)"
      ],
      "metadata": {
        "id": "gA24xcJsMQA2"
      },
      "execution_count": 15,
      "outputs": []
    },
    {
      "cell_type": "code",
      "source": [
        "X = pca_ddf.drop('has_diabetes', axis=1)\n",
        "y = pca_ddf['has_diabetes']\n",
        "X_train, X_test, y_train, y_test = train_test_split(\n",
        "    X, y, test_size=0.25, random_state=42)"
      ],
      "metadata": {
        "id": "-MIIVtyZEbvd"
      },
      "execution_count": 16,
      "outputs": []
    },
    {
      "cell_type": "code",
      "source": [
        "pca = PCA().fit(X_train)"
      ],
      "metadata": {
        "id": "c_ORb33QHSxO"
      },
      "execution_count": 17,
      "outputs": []
    },
    {
      "cell_type": "code",
      "source": [
        "plt.plot(pca.explained_variance_ratio_.cumsum(), lw=3, color='#087E8B')\n",
        "plt.title(\n",
        "    'Cumulative explained variance by number of principal components', size=14)\n",
        "plt.grid()    \n",
        "plt.show()"
      ],
      "metadata": {
        "colab": {
          "base_uri": "https://localhost:8080/",
          "height": 282
        },
        "id": "pH2t1zLWZYmu",
        "outputId": "7e18c8be-752b-40f0-f409-fac7bfc8a7b1"
      },
      "execution_count": 18,
      "outputs": [
        {
          "output_type": "display_data",
          "data": {
            "text/plain": [
              "<Figure size 432x288 with 1 Axes>"
            ],
            "image/png": "[encoded data removed]"
          },
          "metadata": {
            "needs_background": "light"
          }
        }
      ]
    },
    {
      "cell_type": "markdown",
      "source": [
        "We can explain more more than 99% of the variance in the source dataset with the first five principal components.<br>\n",
        "We're going to check loadings (coefficients of the linear combination of the original variables from which the principal components are constructed), coefficients of the linear combination of the original variables from which the principal components are constructed.<br>\n",
        "Indeed if there's a strong correlation between the principal component and an original variable, it means this feature is important."
      ],
      "metadata": {
        "id": "KApS-op7aNfs"
      }
    },
    {
      "cell_type": "code",
      "source": [
        "loadings = pd.DataFrame(\n",
        "    data = pca.components_.T * np.sqrt(pca.explained_variance_),\n",
        "    columns=[f'PC{i}' for i in range(1, len(X_train.columns) + 1)],\n",
        "    index=X_train.columns\n",
        ")\n",
        "loadings.head()"
      ],
      "metadata": {
        "colab": {
          "base_uri": "https://localhost:8080/",
          "height": 357
        },
        "id": "18c6CU3rbTlp",
        "outputId": "ba8816ca-6ef7-4f6b-c508-98d327eef41f"
      },
      "execution_count": 19,
      "outputs": [
        {
          "output_type": "execute_result",
          "data": {
            "text/plain": [
              "                             PC1        PC2        PC3       PC4       PC5  \\\n",
              "age                    -9.066559   1.964975 -18.651862 -0.036933  0.035986   \n",
              "ambulance_call          0.007441  -0.005562   0.019056 -0.013956 -0.019021   \n",
              "blood_sugar_reading    16.968793 -13.595883  -7.282174  0.032685  0.010484   \n",
              "days_since_last_visit  13.481297  18.435795  -3.381108  0.012062  0.011305   \n",
              "hours_hospitalized     -0.164652   0.046918  -0.067290  6.321838 -0.051345   \n",
              "\n",
              "                            PC6       PC7       PC8       PC9      PC10  \\\n",
              "age                   -0.031850  0.000334  0.000133  0.000071  0.000301   \n",
              "ambulance_call         0.013097  0.021348  0.087779 -0.141519 -0.015333   \n",
              "blood_sugar_reading    0.010903 -0.001614 -0.000788 -0.000155  0.000160   \n",
              "days_since_last_visit  0.004352 -0.000361  0.000514 -0.000494  0.000300   \n",
              "hours_hospitalized    -0.001798 -0.000381  0.001541 -0.000462 -0.001282   \n",
              "\n",
              "                           PC11      PC12      PC13      PC14      PC15  \\\n",
              "age                    0.000590  0.000679  0.000069 -0.000158  0.000089   \n",
              "ambulance_call         0.360163  0.139155 -0.217348 -0.141246  0.009954   \n",
              "blood_sugar_reading    0.000401 -0.000645  0.000161 -0.000294  0.000148   \n",
              "days_since_last_visit  0.000089 -0.000636 -0.000335  0.000167  0.000017   \n",
              "hours_hospitalized    -0.000018 -0.000103 -0.001446  0.001406 -0.000170   \n",
              "\n",
              "                           PC16      PC17          PC18          PC19  \\\n",
              "age                   -0.000268 -0.000505  8.806542e-35  1.040696e-34   \n",
              "ambulance_call         0.065325  0.002527  1.436919e-32 -1.085483e-32   \n",
              "blood_sugar_reading   -0.000107 -0.000035  2.692032e-34 -4.119806e-35   \n",
              "days_since_last_visit -0.000401 -0.000034  1.353423e-34  4.120457e-35   \n",
              "hours_hospitalized     0.004096 -0.016342 -8.816816e-34  1.275635e-33   \n",
              "\n",
              "                               PC20  \n",
              "age                    1.994475e-35  \n",
              "ambulance_call         1.888617e-33  \n",
              "blood_sugar_reading    1.858369e-34  \n",
              "days_since_last_visit -1.627916e-34  \n",
              "hours_hospitalized     3.553209e-34  "
            ],
            "text/html": [
              "\n",
              "  <div id=\"df-a6f2d0d3-bc97-4a39-ae79-f8870a96b0cc\">\n",
              "    <div class=\"colab-df-container\">\n",
              "      <div>\n",
              "<style scoped>\n",
              "    .dataframe tbody tr th:only-of-type {\n",
              "        vertical-align: middle;\n",
              "    }\n",
              "\n",
              "    .dataframe tbody tr th {\n",
              "        vertical-align: top;\n",
              "    }\n",
              "\n",
              "    .dataframe thead th {\n",
              "        text-align: right;\n",
              "    }\n",
              "</style>\n",
              "<table border=\"1\" class=\"dataframe\">\n",
              "  <thead>\n",
              "    <tr style=\"text-align: right;\">\n",
              "      <th></th>\n",
              "      <th>PC1</th>\n",
              "      <th>PC2</th>\n",
              "      <th>PC3</th>\n",
              "      <th>PC4</th>\n",
              "      <th>PC5</th>\n",
              "      <th>PC6</th>\n",
              "      <th>PC7</th>\n",
              "      <th>PC8</th>\n",
              "      <th>PC9</th>\n",
              "      <th>PC10</th>\n",
              "      <th>PC11</th>\n",
              "      <th>PC12</th>\n",
              "      <th>PC13</th>\n",
              "      <th>PC14</th>\n",
              "      <th>PC15</th>\n",
              "      <th>PC16</th>\n",
              "      <th>PC17</th>\n",
              "      <th>PC18</th>\n",
              "      <th>PC19</th>\n",
              "      <th>PC20</th>\n",
              "    </tr>\n",
              "  </thead>\n",
              "  <tbody>\n",
              "    <tr>\n",
              "      <th>age</th>\n",
              "      <td>-9.066559</td>\n",
              "      <td>1.964975</td>\n",
              "      <td>-18.651862</td>\n",
              "      <td>-0.036933</td>\n",
              "      <td>0.035986</td>\n",
              "      <td>-0.031850</td>\n",
              "      <td>0.000334</td>\n",
              "      <td>0.000133</td>\n",
              "      <td>0.000071</td>\n",
              "      <td>0.000301</td>\n",
              "      <td>0.000590</td>\n",
              "      <td>0.000679</td>\n",
              "      <td>0.000069</td>\n",
              "      <td>-0.000158</td>\n",
              "      <td>0.000089</td>\n",
              "      <td>-0.000268</td>\n",
              "      <td>-0.000505</td>\n",
              "      <td>8.806542e-35</td>\n",
              "      <td>1.040696e-34</td>\n",
              "      <td>1.994475e-35</td>\n",
              "    </tr>\n",
              "    <tr>\n",
              "      <th>ambulance_call</th>\n",
              "      <td>0.007441</td>\n",
              "      <td>-0.005562</td>\n",
              "      <td>0.019056</td>\n",
              "      <td>-0.013956</td>\n",
              "      <td>-0.019021</td>\n",
              "      <td>0.013097</td>\n",
              "      <td>0.021348</td>\n",
              "      <td>0.087779</td>\n",
              "      <td>-0.141519</td>\n",
              "      <td>-0.015333</td>\n",
              "      <td>0.360163</td>\n",
              "      <td>0.139155</td>\n",
              "      <td>-0.217348</td>\n",
              "      <td>-0.141246</td>\n",
              "      <td>0.009954</td>\n",
              "      <td>0.065325</td>\n",
              "      <td>0.002527</td>\n",
              "      <td>1.436919e-32</td>\n",
              "      <td>-1.085483e-32</td>\n",
              "      <td>1.888617e-33</td>\n",
              "    </tr>\n",
              "    <tr>\n",
              "      <th>blood_sugar_reading</th>\n",
              "      <td>16.968793</td>\n",
              "      <td>-13.595883</td>\n",
              "      <td>-7.282174</td>\n",
              "      <td>0.032685</td>\n",
              "      <td>0.010484</td>\n",
              "      <td>0.010903</td>\n",
              "      <td>-0.001614</td>\n",
              "      <td>-0.000788</td>\n",
              "      <td>-0.000155</td>\n",
              "      <td>0.000160</td>\n",
              "      <td>0.000401</td>\n",
              "      <td>-0.000645</td>\n",
              "      <td>0.000161</td>\n",
              "      <td>-0.000294</td>\n",
              "      <td>0.000148</td>\n",
              "      <td>-0.000107</td>\n",
              "      <td>-0.000035</td>\n",
              "      <td>2.692032e-34</td>\n",
              "      <td>-4.119806e-35</td>\n",
              "      <td>1.858369e-34</td>\n",
              "    </tr>\n",
              "    <tr>\n",
              "      <th>days_since_last_visit</th>\n",
              "      <td>13.481297</td>\n",
              "      <td>18.435795</td>\n",
              "      <td>-3.381108</td>\n",
              "      <td>0.012062</td>\n",
              "      <td>0.011305</td>\n",
              "      <td>0.004352</td>\n",
              "      <td>-0.000361</td>\n",
              "      <td>0.000514</td>\n",
              "      <td>-0.000494</td>\n",
              "      <td>0.000300</td>\n",
              "      <td>0.000089</td>\n",
              "      <td>-0.000636</td>\n",
              "      <td>-0.000335</td>\n",
              "      <td>0.000167</td>\n",
              "      <td>0.000017</td>\n",
              "      <td>-0.000401</td>\n",
              "      <td>-0.000034</td>\n",
              "      <td>1.353423e-34</td>\n",
              "      <td>4.120457e-35</td>\n",
              "      <td>-1.627916e-34</td>\n",
              "    </tr>\n",
              "    <tr>\n",
              "      <th>hours_hospitalized</th>\n",
              "      <td>-0.164652</td>\n",
              "      <td>0.046918</td>\n",
              "      <td>-0.067290</td>\n",
              "      <td>6.321838</td>\n",
              "      <td>-0.051345</td>\n",
              "      <td>-0.001798</td>\n",
              "      <td>-0.000381</td>\n",
              "      <td>0.001541</td>\n",
              "      <td>-0.000462</td>\n",
              "      <td>-0.001282</td>\n",
              "      <td>-0.000018</td>\n",
              "      <td>-0.000103</td>\n",
              "      <td>-0.001446</td>\n",
              "      <td>0.001406</td>\n",
              "      <td>-0.000170</td>\n",
              "      <td>0.004096</td>\n",
              "      <td>-0.016342</td>\n",
              "      <td>-8.816816e-34</td>\n",
              "      <td>1.275635e-33</td>\n",
              "      <td>3.553209e-34</td>\n",
              "    </tr>\n",
              "  </tbody>\n",
              "</table>\n",
              "</div>\n",
              "      <button class=\"colab-df-convert\" onclick=\"convertToInteractive('df-a6f2d0d3-bc97-4a39-ae79-f8870a96b0cc')\"\n",
              "              title=\"Convert this dataframe to an interactive table.\"\n",
              "              style=\"display:none;\">\n",
              "        \n",
              "  <svg xmlns=\"http://www.w3.org/2000/svg\" height=\"24px\"viewBox=\"0 0 24 24\"\n",
              "       width=\"24px\">\n",
              "    <path d=\"M0 0h24v24H0V0z\" fill=\"none\"/>\n",
              "    <path d=\"M18.56 5.44l.94 2.06.94-2.06 2.06-.94-2.06-.94-.94-2.06-.94 2.06-2.06.94zm-11 1L8.5 8.5l.94-2.06 2.06-.94-2.06-.94L8.5 2.5l-.94 2.06-2.06.94zm10 10l.94 2.06.94-2.06 2.06-.94-2.06-.94-.94-2.06-.94 2.06-2.06.94z\"/><path d=\"M17.41 7.96l-1.37-1.37c-.4-.4-.92-.59-1.43-.59-.52 0-1.04.2-1.43.59L10.3 9.45l-7.72 7.72c-.78.78-.78 2.05 0 2.83L4 21.41c.39.39.9.59 1.41.59.51 0 1.02-.2 1.41-.59l7.78-7.78 2.81-2.81c.8-.78.8-2.07 0-2.86zM5.41 20L4 18.59l7.72-7.72 1.47 1.35L5.41 20z\"/>\n",
              "  </svg>\n",
              "      </button>\n",
              "      \n",
              "  <style>\n",
              "    .colab-df-container {\n",
              "      display:flex;\n",
              "      flex-wrap:wrap;\n",
              "      gap: 12px;\n",
              "    }\n",
              "\n",
              "    .colab-df-convert {\n",
              "      background-color: #E8F0FE;\n",
              "      border: none;\n",
              "      border-radius: 50%;\n",
              "      cursor: pointer;\n",
              "      display: none;\n",
              "      fill: #1967D2;\n",
              "      height: 32px;\n",
              "      padding: 0 0 0 0;\n",
              "      width: 32px;\n",
              "    }\n",
              "\n",
              "    .colab-df-convert:hover {\n",
              "      background-color: #E2EBFA;\n",
              "      box-shadow: 0px 1px 2px rgba(60, 64, 67, 0.3), 0px 1px 3px 1px rgba(60, 64, 67, 0.15);\n",
              "      fill: #174EA6;\n",
              "    }\n",
              "\n",
              "    [theme=dark] .colab-df-convert {\n",
              "      background-color: #3B4455;\n",
              "      fill: #D2E3FC;\n",
              "    }\n",
              "\n",
              "    [theme=dark] .colab-df-convert:hover {\n",
              "      background-color: #434B5C;\n",
              "      box-shadow: 0px 1px 3px 1px rgba(0, 0, 0, 0.15);\n",
              "      filter: drop-shadow(0px 1px 2px rgba(0, 0, 0, 0.3));\n",
              "      fill: #FFFFFF;\n",
              "    }\n",
              "  </style>\n",
              "\n",
              "      <script>\n",
              "        const buttonEl =\n",
              "          document.querySelector('#df-a6f2d0d3-bc97-4a39-ae79-f8870a96b0cc button.colab-df-convert');\n",
              "        buttonEl.style.display =\n",
              "          google.colab.kernel.accessAllowed ? 'block' : 'none';\n",
              "\n",
              "        async function convertToInteractive(key) {\n",
              "          const element = document.querySelector('#df-a6f2d0d3-bc97-4a39-ae79-f8870a96b0cc');\n",
              "          const dataTable =\n",
              "            await google.colab.kernel.invokeFunction('convertToInteractive',\n",
              "                                                     [key], {});\n",
              "          if (!dataTable) return;\n",
              "\n",
              "          const docLinkHtml = 'Like what you see? Visit the ' +\n",
              "            '<a target=\"_blank\" href=https://colab.research.google.com/notebooks/data_table.ipynb>data table notebook</a>'\n",
              "            + ' to learn more about interactive tables.';\n",
              "          element.innerHTML = '';\n",
              "          dataTable['output_type'] = 'display_data';\n",
              "          await google.colab.output.renderOutput(dataTable, element);\n",
              "          const docLink = document.createElement('div');\n",
              "          docLink.innerHTML = docLinkHtml;\n",
              "          element.appendChild(docLink);\n",
              "        }\n",
              "      </script>\n",
              "    </div>\n",
              "  </div>\n",
              "  "
            ]
          },
          "metadata": {},
          "execution_count": 19
        }
      ]
    },
    {
      "cell_type": "markdown",
      "source": [
        "The first principal component is crucial as it explains more than 98% of the variance in the dataset.<br>\n",
        "So let's visualize the correlations between all of the input features and the first principal component."
      ],
      "metadata": {
        "id": "ph7jOthnio0w"
      }
    },
    {
      "cell_type": "code",
      "source": [
        "pc1_loadings = loadings.sort_values(by='PC1', ascending=False)[['PC1']]\n",
        "pc1_loadings = pc1_loadings.reset_index()\n",
        "pc1_loadings.columns = ['Attribute', 'CorrelationWithPC1']\n",
        "\n",
        "plt.bar(\n",
        "    x=pc1_loadings[\n",
        "        'Attribute'], height=pc1_loadings[\n",
        "            'CorrelationWithPC1'], color='#087E8B')\n",
        "plt.title('PCA loading scores (first principal component)', size=20)\n",
        "plt.xticks(rotation='vertical')\n",
        "plt.show()"
      ],
      "metadata": {
        "colab": {
          "base_uri": "https://localhost:8080/",
          "height": 406
        },
        "id": "sbrJqJpujC-U",
        "outputId": "d6631487-5b46-4929-815b-56ee256e21cd"
      },
      "execution_count": 20,
      "outputs": [
        {
          "output_type": "display_data",
          "data": {
            "text/plain": [
              "<Figure size 432x288 with 1 Axes>"
            ],
            "image/png": "[encoded data removed]"
          },
          "metadata": {
            "needs_background": "light"
          }
        }
      ]
    },
    {
      "cell_type": "markdown",
      "source": [
        "We can see that potential useful features are:\n",
        "1.   blood_sugar_reading, \n",
        "2.   days_since_last_visit,\n",
        "3.   age,\n",
        "4.   symptom_code,     \n",
        "5.   hydration_level and\n",
        "6.   hours_hospitalized\n",
        "\n"
      ],
      "metadata": {
        "id": "74sXrMw8kgVK"
      }
    },
    {
      "cell_type": "markdown",
      "source": [
        "### What columns should we use?"
      ],
      "metadata": {
        "id": "1Sg-I8ITlbNo"
      }
    },
    {
      "cell_type": "markdown",
      "source": [
        "We should use at least those that are correlated the most, being: blood_sugar_reading, days_since_last_visit, age and symptom_code.<br>\n",
        "Those feature make indeed sense from our understanding of diabetes."
      ],
      "metadata": {
        "id": "iiJuXM32lpCb"
      }
    },
    {
      "cell_type": "markdown",
      "source": [
        "### Which ones should we remove?"
      ],
      "metadata": {
        "id": "6N__rlm5l3wj"
      }
    },
    {
      "cell_type": "markdown",
      "source": [
        "We should remove the unique identifiers that can cause leakage and identify a person: id, ssn, patient_name."
      ],
      "metadata": {
        "id": "B3oWUnCvl75A"
      }
    },
    {
      "cell_type": "markdown",
      "source": [
        "### Are there columns which we should protect but not remove?"
      ],
      "metadata": {
        "id": "XxGKVJJWm-L6"
      }
    },
    {
      "cell_type": "markdown",
      "source": [
        "The potential sensitive medical columns correlated should be protected: ambulance_call, blood_sugar_reading, days_since_last_visit, has_diabetes, hours_hospitalized, hydration_level, insulin, private_insurance, released_sameday and symptom_code."
      ],
      "metadata": {
        "id": "O0AB_JVqn-N4"
      }
    },
    {
      "cell_type": "markdown",
      "source": [
        "## Part Two: Determining the Approach for protecting the Columns"
      ],
      "metadata": {
        "id": "4GCP49ANpWmz"
      }
    },
    {
      "cell_type": "markdown",
      "source": [
        "**What methods will be most effective?**"
      ],
      "metadata": {
        "id": "phdZDVe4plVr"
      }
    },
    {
      "cell_type": "markdown",
      "source": [
        "We will:\n",
        "\n",
        "\n",
        "*   remove personal information\n",
        "*   protect sensitive information\n",
        "*   send only the most correlated data first\n",
        "\n"
      ],
      "metadata": {
        "id": "mI5RQNbrppzZ"
      }
    },
    {
      "cell_type": "markdown",
      "source": [
        "**Have you considered potential data leakage within *non-sensitive* columns?**"
      ],
      "metadata": {
        "id": "TNc0LI00qQNj"
      }
    },
    {
      "cell_type": "markdown",
      "source": [
        "We have considered potential data leakage within non-sensitive columns but the riskier leakage came from id (sensitive), as it's a unique value that can cause overfitting."
      ],
      "metadata": {
        "id": "e65bffnOqoTK"
      }
    },
    {
      "cell_type": "markdown",
      "source": [
        "**Is there other sensitive or secret data we should address?**"
      ],
      "metadata": {
        "id": "rgqprBJ7rPSn"
      }
    },
    {
      "cell_type": "markdown",
      "source": [
        "The dataset is not concerned by any other non medical sensitive or secret information such as salary or geolocation.\n",
        "<br>\n",
        "```hospital``` could have been discussed but as it's medical, it has already been taken into account."
      ],
      "metadata": {
        "id": "79M5cdk7rsnn"
      }
    },
    {
      "cell_type": "code",
      "source": [
        "X_minimal = X[\n",
        "    ['blood_sugar_reading', 'days_since_last_visit', 'age', 'symptom_code', 'hydration_level', 'hours_hospitalized']]"
      ],
      "metadata": {
        "id": "R2KE5DmDukdA"
      },
      "execution_count": 21,
      "outputs": []
    },
    {
      "cell_type": "markdown",
      "source": [
        "## Part Three: Implement Data Protection for the Dataset"
      ],
      "metadata": {
        "id": "Y8Rhq2CKseqx"
      }
    },
    {
      "cell_type": "code",
      "source": [
        "# generate a random sample\n",
        "\n",
        "def simlap(n, b):\n",
        "    \"\"\"\n",
        "    :param     n: The number of samples to draw\n",
        "    :param     b: Scale of the distribution.\n",
        "    :    returns: a vector of size n with noises sample from laplace dristribution.\n",
        "    \"\"\"\n",
        "    liste=[]\n",
        "    for i in range(n):\n",
        "      liste.append(np.random.laplace(loc=0.0, scale=b ))\n",
        "    return liste"
      ],
      "metadata": {
        "id": "I_OehBSYsnSZ"
      },
      "execution_count": 22,
      "outputs": []
    },
    {
      "cell_type": "code",
      "source": [
        "def process_value(value, p, q):\n",
        "    \"\"\"\n",
        "    :param value: The value to apply the differentially private scheme to.\n",
        "    :param     p: The probability of returning a random value instead of the true one\n",
        "    :param     q: The probability of returning 1 when generating a random value\n",
        "    :    returns: A new, differentially private value\n",
        "    \"\"\"\n",
        "    valeur_aleatoire_1 = np.random.rand()\n",
        "    if p >= valeur_aleatoire_1:\n",
        "      valeur_aleatoire_2 = np.random.rand()\n",
        "      if q >= valeur_aleatoire_2:\n",
        "        return 0\n",
        "      return 1  \n",
        "    else:\n",
        "      return value"
      ],
      "metadata": {
        "id": "xN730Us5zp0o"
      },
      "execution_count": 24,
      "outputs": []
    },
    {
      "cell_type": "code",
      "source": [
        "p=q=0.5\n",
        "\n",
        "X_minimal[\n",
        "    'blood_diff_private']=X_minimal[\n",
        "        'blood_sugar_reading'].apply(lambda x :process_value(x, p, q  ))\n",
        "X_minimal[\n",
        "    'visit_diff_private']=X_minimal[\n",
        "        'days_since_last_visit'].apply(lambda x :process_value(x, p, q  ))\n",
        "X_minimal[\n",
        "    'age_diff_private']=X_minimal['age'].apply(lambda x :process_value(x, p, q))\n",
        "X_minimal[\n",
        "    'symptom_diff_private']=X_minimal[\n",
        "        'symptom_code'].apply(lambda x :process_value(x, p, q  ))\n",
        "X_minimal[\n",
        "    'hydration_diff_private']=X_minimal[\n",
        "        'hydration_level'].apply(lambda x :process_value(x, p, q  ))\n",
        "X_minimal[\n",
        "    'hours_diff_private']=X_minimal[\n",
        "        'hours_hospitalized'].apply(lambda x :process_value(x, p, q  ))\n",
        "\n",
        "Liste_valeurs_calculées_DF=[]\n",
        "for i, j in enumerate(df['blood_sugar_reading']):\n",
        "    Liste_valeurs_calculées_DF.append (process_value(j, p, q))\n",
        "X_minimal['blood_diff_private'] = np.array(Liste_valeurs_calculées_DF)\n",
        "\n",
        "Liste_valeurs_calculées_DF=[]\n",
        "for i, j in enumerate(df['days_since_last_visit']):\n",
        "    Liste_valeurs_calculées_DF.append (process_value(j, p, q))\n",
        "X_minimal['visit_diff_private'] = np.array(Liste_valeurs_calculées_DF)\n",
        "\n",
        "Liste_valeurs_calculées_DF=[]\n",
        "for i, j in enumerate(X_minimal['age']):\n",
        "    Liste_valeurs_calculées_DF.append (process_value(j, p, q))\n",
        "X_minimal['age_diff_private'] = np.array(Liste_valeurs_calculées_DF)\n",
        "\n",
        "Liste_valeurs_calculées_DF=[]\n",
        "for i, j in enumerate(X_minimal['symptom_code']):\n",
        "    Liste_valeurs_calculées_DF.append (process_value(j, p, q))\n",
        "X_minimal['symptom_diff_private'] = np.array(Liste_valeurs_calculées_DF)\n",
        "\n",
        "Liste_valeurs_calculées_DF=[]\n",
        "for i, j in enumerate(X_minimal['hydration_level']):\n",
        "    Liste_valeurs_calculées_DF.append (process_value(j, p, q))\n",
        "X_minimal['hydration_diff_private'] = np.array(Liste_valeurs_calculées_DF)\n",
        "\n",
        "Liste_valeurs_calculées_DF=[]\n",
        "for i, j in enumerate(X_minimal['hours_hospitalized']):\n",
        "    Liste_valeurs_calculées_DF.append (process_value(j, p, q))\n",
        "X_minimal['hours_diff_private'] = np.array(Liste_valeurs_calculées_DF)"
      ],
      "metadata": {
        "colab": {
          "base_uri": "https://localhost:8080/"
        },
        "id": "OZVA2rLnysbs",
        "outputId": "b5c694dc-102b-4a80-b56b-b180315973b5",
        "collapsed": true
      },
      "execution_count": 33,
      "outputs": [
        {
          "output_type": "stream",
          "name": "stderr",
          "text": [
            "/usr/local/lib/python3.7/dist-packages/ipykernel_launcher.py:5: SettingWithCopyWarning: \n",
            "A value is trying to be set on a copy of a slice from a DataFrame.\n",
            "Try using .loc[row_indexer,col_indexer] = value instead\n",
            "\n",
            "See the caveats in the documentation: https://pandas.pydata.org/pandas-docs/stable/user_guide/indexing.html#returning-a-view-versus-a-copy\n",
            "  \"\"\"\n",
            "/usr/local/lib/python3.7/dist-packages/ipykernel_launcher.py:8: SettingWithCopyWarning: \n",
            "A value is trying to be set on a copy of a slice from a DataFrame.\n",
            "Try using .loc[row_indexer,col_indexer] = value instead\n",
            "\n",
            "See the caveats in the documentation: https://pandas.pydata.org/pandas-docs/stable/user_guide/indexing.html#returning-a-view-versus-a-copy\n",
            "  \n",
            "/usr/local/lib/python3.7/dist-packages/ipykernel_launcher.py:10: SettingWithCopyWarning: \n",
            "A value is trying to be set on a copy of a slice from a DataFrame.\n",
            "Try using .loc[row_indexer,col_indexer] = value instead\n",
            "\n",
            "See the caveats in the documentation: https://pandas.pydata.org/pandas-docs/stable/user_guide/indexing.html#returning-a-view-versus-a-copy\n",
            "  # Remove the CWD from sys.path while we load stuff.\n",
            "/usr/local/lib/python3.7/dist-packages/ipykernel_launcher.py:13: SettingWithCopyWarning: \n",
            "A value is trying to be set on a copy of a slice from a DataFrame.\n",
            "Try using .loc[row_indexer,col_indexer] = value instead\n",
            "\n",
            "See the caveats in the documentation: https://pandas.pydata.org/pandas-docs/stable/user_guide/indexing.html#returning-a-view-versus-a-copy\n",
            "  del sys.path[0]\n",
            "/usr/local/lib/python3.7/dist-packages/ipykernel_launcher.py:16: SettingWithCopyWarning: \n",
            "A value is trying to be set on a copy of a slice from a DataFrame.\n",
            "Try using .loc[row_indexer,col_indexer] = value instead\n",
            "\n",
            "See the caveats in the documentation: https://pandas.pydata.org/pandas-docs/stable/user_guide/indexing.html#returning-a-view-versus-a-copy\n",
            "  app.launch_new_instance()\n",
            "/usr/local/lib/python3.7/dist-packages/ipykernel_launcher.py:19: SettingWithCopyWarning: \n",
            "A value is trying to be set on a copy of a slice from a DataFrame.\n",
            "Try using .loc[row_indexer,col_indexer] = value instead\n",
            "\n",
            "See the caveats in the documentation: https://pandas.pydata.org/pandas-docs/stable/user_guide/indexing.html#returning-a-view-versus-a-copy\n",
            "/usr/local/lib/python3.7/dist-packages/ipykernel_launcher.py:24: SettingWithCopyWarning: \n",
            "A value is trying to be set on a copy of a slice from a DataFrame.\n",
            "Try using .loc[row_indexer,col_indexer] = value instead\n",
            "\n",
            "See the caveats in the documentation: https://pandas.pydata.org/pandas-docs/stable/user_guide/indexing.html#returning-a-view-versus-a-copy\n",
            "/usr/local/lib/python3.7/dist-packages/ipykernel_launcher.py:29: SettingWithCopyWarning: \n",
            "A value is trying to be set on a copy of a slice from a DataFrame.\n",
            "Try using .loc[row_indexer,col_indexer] = value instead\n",
            "\n",
            "See the caveats in the documentation: https://pandas.pydata.org/pandas-docs/stable/user_guide/indexing.html#returning-a-view-versus-a-copy\n",
            "/usr/local/lib/python3.7/dist-packages/ipykernel_launcher.py:34: SettingWithCopyWarning: \n",
            "A value is trying to be set on a copy of a slice from a DataFrame.\n",
            "Try using .loc[row_indexer,col_indexer] = value instead\n",
            "\n",
            "See the caveats in the documentation: https://pandas.pydata.org/pandas-docs/stable/user_guide/indexing.html#returning-a-view-versus-a-copy\n",
            "/usr/local/lib/python3.7/dist-packages/ipykernel_launcher.py:39: SettingWithCopyWarning: \n",
            "A value is trying to be set on a copy of a slice from a DataFrame.\n",
            "Try using .loc[row_indexer,col_indexer] = value instead\n",
            "\n",
            "See the caveats in the documentation: https://pandas.pydata.org/pandas-docs/stable/user_guide/indexing.html#returning-a-view-versus-a-copy\n",
            "/usr/local/lib/python3.7/dist-packages/ipykernel_launcher.py:44: SettingWithCopyWarning: \n",
            "A value is trying to be set on a copy of a slice from a DataFrame.\n",
            "Try using .loc[row_indexer,col_indexer] = value instead\n",
            "\n",
            "See the caveats in the documentation: https://pandas.pydata.org/pandas-docs/stable/user_guide/indexing.html#returning-a-view-versus-a-copy\n",
            "/usr/local/lib/python3.7/dist-packages/ipykernel_launcher.py:49: SettingWithCopyWarning: \n",
            "A value is trying to be set on a copy of a slice from a DataFrame.\n",
            "Try using .loc[row_indexer,col_indexer] = value instead\n",
            "\n",
            "See the caveats in the documentation: https://pandas.pydata.org/pandas-docs/stable/user_guide/indexing.html#returning-a-view-versus-a-copy\n"
          ]
        }
      ]
    },
    {
      "cell_type": "code",
      "source": [
        "# write estimator\n",
        "\n",
        "def p_1_estimator(p_1dp, p, q):\n",
        "    \"\"\"\n",
        "    :param p_1dp: The empirical probability of x_i=1 of our DP dataset.\n",
        "    :param     p: The p value of our DP scheme.\n",
        "    :param     q: The q value of our DP scheme.\n",
        "    :    returns: An estimate of p_1 of our DP dataset.\n",
        "    \"\"\"\n",
        "    return  (p_1dp - p*(1 - q) ) / (1 - p)\n",
        "\n",
        "print(p_1_estimator(0.1, 0.5, 0.5) )"
      ],
      "metadata": {
        "colab": {
          "base_uri": "https://localhost:8080/"
        },
        "id": "NTa92lHOtg7L",
        "outputId": "801d7b21-3881-4372-9b59-adf5352f2aa9"
      },
      "execution_count": 29,
      "outputs": [
        {
          "output_type": "stream",
          "name": "stdout",
          "text": [
            "-0.3\n"
          ]
        }
      ]
    },
    {
      "cell_type": "code",
      "source": [
        "# generate estimate of p_1\n",
        "\n",
        "p=q=0.5\n",
        "n = len(df)\n",
        "\n",
        "p1_dp0=X_minimal['blood_diff_private'].sum() / n\n",
        "p1_dp1=X_minimal['visit_diff_private'].sum() / n\n",
        "p1_dp2=X_minimal['age_diff_private'].sum() / n\n",
        "p1_dp3=X_minimal['symptom_diff_private'].sum() / n\n",
        "p1_dp4=X_minimal['hydration_diff_private'].sum() / n\n",
        "p1_dp5=X_minimal['hours_diff_private'].sum() / n"
      ],
      "metadata": {
        "id": "G8R9XExwtoL2"
      },
      "execution_count": 34,
      "outputs": []
    },
    {
      "cell_type": "code",
      "source": [
        "# estimate variance\n",
        "\n",
        "def var_1_estimator(p1_dp, n, p, q):\n",
        "    \"\"\"\n",
        "    :param p_1dp: The estimates probability of our DP dataset.\n",
        "    :param     n: The number of samples in our dataset.\n",
        "    :param     p: The p value of our DP scheme.\n",
        "    :param     q: The q value of our DP scheme.\n",
        "    :    returns: An estimate of the variance of our DP dataset.\n",
        "    \"\"\"\n",
        "    return ( p1_dp*(1 - p1_dp)) / ( ((1 - p)**2) * n)\n",
        "    \n",
        "var_1_hat0 = var_1_estimator(p1_dp0, len(df), p, q)    \n",
        "var_1_hat1 = var_1_estimator(p1_dp1, len(df), p, q)\n",
        "var_1_hat2 = var_1_estimator(p1_dp2, len(df), p, q)\n",
        "var_1_hat3 = var_1_estimator(p1_dp3, len(df), p, q)\n",
        "var_1_hat4 = var_1_estimator(p1_dp4, len(df), p, q)\n",
        "var_1_hat5 = var_1_estimator(p1_dp5, len(df), p, q)\n",
        "\n",
        "print(var_1_hat0, var_1_hat1, var_1_hat2, var_1_hat3, var_1_hat4, var_1_hat5)\n",
        "\n"
      ],
      "metadata": {
        "colab": {
          "base_uri": "https://localhost:8080/"
        },
        "id": "FeZkAUIvtwkf",
        "outputId": "632043ea-1d8c-4605-8007-4d9b965c8749"
      },
      "execution_count": 35,
      "outputs": [
        {
          "output_type": "stream",
          "name": "stdout",
          "text": [
            "-10.875821264 -3.2591816039999997 -2.745598464 -0.016255716 -0.016556100000000004 -0.10096960400000002\n"
          ]
        }
      ]
    },
    {
      "cell_type": "code",
      "source": [
        "# repeat the generation process\n",
        "\n",
        "p=q=0.5\n",
        "n = len(X_minimal)\n",
        "\n",
        "p1_dp0=X_minimal['blood_diff_private'].sum() / n\n",
        "p_1_hats0=[]\n",
        "for j in range(500):\n",
        "  X_minimal[\n",
        "      'blood_diff_private']=X_minimal[\n",
        "          'age'].apply(lambda x :process_value(x, p, q  ))\n",
        "  \"\"\"\n",
        "    valeurs_calculées_par_DP = []\n",
        "    for i, x in enumerate(X_minimal['blood_diff_private']):\n",
        "        valeurs_calculées_par_DP.append (process_value(x, p, q))\n",
        "\n",
        "    X_minimal['income_diff_private'] = np.array(valeurs_calculées_par_DP)\n",
        "  \"\"\"\n",
        "  p_1dp0 = X_minimal['blood_diff_private'].sum()/len(df)\n",
        "  p_1_hat0 = p_1_estimator(p_1dp0, p, q)\n",
        "  p_1_hats0.append(p_1_hat0)\n",
        "p_1_hats0 = np.array(p_1_hats0)\n",
        "p_1_hats0[0:20]\n",
        "\n",
        "\n",
        "p1_dp1=X_minimal['visit_diff_private'].sum() / n \n",
        "p_1_hats1=[]\n",
        "for j in range(500):\n",
        "  X_minimal[\n",
        "      'visit_diff_private']=X_minimal[\n",
        "          'days_since_last_visit'].apply(lambda x :process_value(x, p, q  ))\n",
        "  \"\"\"\n",
        "    valeurs_calculées_par_DP = []\n",
        "    for i, x in enumerate(df['income_binaire']):\n",
        "        valeurs_calculées_par_DP.append (process_value(x, p, q))\n",
        "\n",
        "    df['visit_diff_private'] = np.array(valeurs_calculées_par_DP)\n",
        "  \"\"\"\n",
        "  p_1dp1 = X_minimal['visit_diff_private'].sum()/len(df)\n",
        "  p_1_hat1 = p_1_estimator(p_1dp1, p, q)\n",
        "  p_1_hats1.append(p_1_hat1)\n",
        "p_1_hats1 = np.array(p_1_hats1)\n",
        "p_1_hats1[0:20]\n",
        "\n",
        "\n",
        "p1_dp2=X_minimal['age_diff_private'].sum() / n \n",
        "p_1_hats2=[]\n",
        "for j in range(500):\n",
        "  X_minimal[\n",
        "      'age_diff_private']=X_minimal[\n",
        "          'age'].apply(lambda x :process_value(x, p, q  ))\n",
        "  \"\"\"\n",
        "    valeurs_calculées_par_DP = []\n",
        "    for i, x in enumerate(X_minimal['age_diff_private']):\n",
        "        valeurs_calculées_par_DP.append (process_value(x, p, q))\n",
        "\n",
        "    X_minimal['income_diff_private'] = np.array(valeurs_calculées_par_DP)\n",
        "  \"\"\"\n",
        "  p_1dp2 = X_minimal['age_diff_private'].sum()/len(df)\n",
        "  p_1_hat2 = p_1_estimator(p_1dp2, p, q)\n",
        "  p_1_hats2.append(p_1_hat2)\n",
        "p_1_hats2 = np.array(p_1_hats2)\n",
        "p_1_hats2[0:20]\n",
        "p1_dp=X_minimal['symptom_diff_private'].sum() / n\n",
        "\n",
        "\n",
        "p_1_hats3=[]\n",
        "for j in range(500):\n",
        "  X_minimal[\n",
        "      'symptom_diff_private']=X_minimal[\n",
        "          'symptom_code'].apply(lambda x :process_value(x, p, q  ))\n",
        "  \"\"\"\n",
        "    valeurs_calculées_par_DP = []\n",
        "    for i, x in enumerate(df['symptom_diff_private']):\n",
        "        valeurs_calculées_par_DP.append (process_value(x, p, q))\n",
        "\n",
        "    X_minimal['symptom_diff_private'] = np.array(valeurs_calculées_par_DP)\n",
        "  \"\"\"\n",
        "  p_1dp3 = X_minimal['symptom_diff_private'].sum()/len(X_minimal)\n",
        "  p_1_hat3 = p_1_estimator(p_1dp3, p, q)\n",
        "  p_1_hats3.append(p_1_hat3)\n",
        "p_1_hats3 = np.array(p_1_hats3)\n",
        "p_1_hats3[0:20]\n",
        "\n",
        "\n",
        "p1_dp4=X_minimal['hours_diff_private'].sum() / n\n",
        "p_1_hats4=[]\n",
        "for j in range(500):\n",
        "  X_minimal[\n",
        "      'hours_diff_private']=X_minimal[\n",
        "          'hours_hospitalized'].apply(lambda x :process_value(x, p, q  ))\n",
        "  \"\"\"\n",
        "    valeurs_calculées_par_DP = []\n",
        "    for i, x in enumerate(X_minimal['hours_hospitalized']):\n",
        "        valeurs_calculées_par_DP.append (process_value(x, p, q))\n",
        "\n",
        "    X_minimal['hours_diff_private'] = np.array(valeurs_calculées_par_DP)\n",
        "  \"\"\"\n",
        "  p_1dp4 = X_minimal['hours_diff_private'].sum()/len(df)\n",
        "  p_1_hat4 = p_1_estimator(p_1dp4, p, q)\n",
        "  p_1_hats4.append(p_1_hat4)\n",
        "p_1_hats4 = np.array(p_1_hats4)\n",
        "p_1_hats4[0:20]\n",
        "\n",
        "\n",
        "p1_dp5=X_minimal['hydration_diff_private'].sum() / n\n",
        "p_1_hats5=[]\n",
        "for j in range(500):\n",
        "  df[\n",
        "      'hydration_diff_private']=X_minimal[\n",
        "          'hydration_level'].apply(lambda x :process_value(x, p, q  ))\n",
        "  \"\"\"\n",
        "    valeurs_calculées_par_DP = []\n",
        "    for i, x in enumerate(df['hydration_level']):\n",
        "        valeurs_calculées_par_DP.append (process_value(x, p, q))\n",
        "\n",
        "    df['hydration_diff_private'] = np.array(valeurs_calculées_par_DP)\n",
        "  \"\"\"\n",
        "  p_1dp5 = X_minimal['hydration_diff_private'].sum()/len(X_minimal)\n",
        "  p_1_hat5 = p_1_estimator(p_1dp5, p, q)\n",
        "  p_1_hats5.append(p_1_hat5)\n",
        "p_1_hats5 = np.array(p_1_hats5) \n",
        "p_1_hats5[0:20]"
      ],
      "metadata": {
        "colab": {
          "base_uri": "https://localhost:8080/"
        },
        "id": "pf4i_oONt4Nl",
        "outputId": "ce5c47e2-a1cc-4b09-f56a-30beecd166df",
        "collapsed": true
      },
      "execution_count": 37,
      "outputs": [
        {
          "output_type": "stream",
          "name": "stderr",
          "text": [
            "/usr/local/lib/python3.7/dist-packages/ipykernel_launcher.py:11: SettingWithCopyWarning: \n",
            "A value is trying to be set on a copy of a slice from a DataFrame.\n",
            "Try using .loc[row_indexer,col_indexer] = value instead\n",
            "\n",
            "See the caveats in the documentation: https://pandas.pydata.org/pandas-docs/stable/user_guide/indexing.html#returning-a-view-versus-a-copy\n",
            "  # This is added back by InteractiveShellApp.init_path()\n",
            "/usr/local/lib/python3.7/dist-packages/ipykernel_launcher.py:31: SettingWithCopyWarning: \n",
            "A value is trying to be set on a copy of a slice from a DataFrame.\n",
            "Try using .loc[row_indexer,col_indexer] = value instead\n",
            "\n",
            "See the caveats in the documentation: https://pandas.pydata.org/pandas-docs/stable/user_guide/indexing.html#returning-a-view-versus-a-copy\n",
            "/usr/local/lib/python3.7/dist-packages/ipykernel_launcher.py:51: SettingWithCopyWarning: \n",
            "A value is trying to be set on a copy of a slice from a DataFrame.\n",
            "Try using .loc[row_indexer,col_indexer] = value instead\n",
            "\n",
            "See the caveats in the documentation: https://pandas.pydata.org/pandas-docs/stable/user_guide/indexing.html#returning-a-view-versus-a-copy\n",
            "/usr/local/lib/python3.7/dist-packages/ipykernel_launcher.py:71: SettingWithCopyWarning: \n",
            "A value is trying to be set on a copy of a slice from a DataFrame.\n",
            "Try using .loc[row_indexer,col_indexer] = value instead\n",
            "\n",
            "See the caveats in the documentation: https://pandas.pydata.org/pandas-docs/stable/user_guide/indexing.html#returning-a-view-versus-a-copy\n",
            "/usr/local/lib/python3.7/dist-packages/ipykernel_launcher.py:91: SettingWithCopyWarning: \n",
            "A value is trying to be set on a copy of a slice from a DataFrame.\n",
            "Try using .loc[row_indexer,col_indexer] = value instead\n",
            "\n",
            "See the caveats in the documentation: https://pandas.pydata.org/pandas-docs/stable/user_guide/indexing.html#returning-a-view-versus-a-copy\n"
          ]
        },
        {
          "output_type": "execute_result",
          "data": {
            "text/plain": [
              "array([4.69, 4.69, 4.69, 4.69, 4.69, 4.69, 4.69, 4.69, 4.69, 4.69, 4.69,\n",
              "       4.69, 4.69, 4.69, 4.69, 4.69, 4.69, 4.69, 4.69, 4.69])"
            ]
          },
          "metadata": {},
          "execution_count": 37
        }
      ]
    },
    {
      "cell_type": "markdown",
      "source": [
        "**What was difficult to decide and implement?**"
      ],
      "metadata": {
        "id": "JVnGAtV93_x7"
      }
    },
    {
      "cell_type": "markdown",
      "source": [
        "It was first difficult to decide which method to chose, which data to remove, which to protect and at which step to implement it all.<br>\n",
        "We eventually chose Laplace transformation that was convenient for numeric data we were dealing with, a reasonable tradeoff between utility and privacy for our usecase and scalable.<br>\n",
        "We removed all the data that wouldn't statistically have a significant impact on our model.<br>\n",
        "The questions helped track the steps where to transform data."
      ],
      "metadata": {
        "id": "NIPdp4Ar4Ed6"
      }
    },
    {
      "cell_type": "markdown",
      "source": [
        "**How might this relate to real problems in machine learning with sensitive data?**"
      ],
      "metadata": {
        "id": "GfMVDUgU4Y_J"
      }
    },
    {
      "cell_type": "markdown",
      "source": [
        "This might relate to real problems such as an hospital having to decide which data to duplicate from their production environment to their development environment within their datahub so that a data team could work with it for example."
      ],
      "metadata": {
        "id": "yHG1CMB44fHi"
      }
    },
    {
      "cell_type": "markdown",
      "source": [
        "### Bonus: machine learning from anonymized Dataset"
      ],
      "metadata": {
        "id": "C79Fbvhs46q5"
      }
    },
    {
      "cell_type": "markdown",
      "source": [
        "Build a model that predicts the the diabetes statue of a new patient based on the anonymized database from part three. Compare with non anonymized dataset. (try to get more than 0.65 accuracy)"
      ],
      "metadata": {
        "id": "0V7f0EF2smsK"
      }
    },
    {
      "cell_type": "code",
      "source": [
        "train_Xm, test_Xm, train_y, test_y = train_test_split(\n",
        "    X_minimal, y, test_size=0.25, random_state=42\n",
        ")"
      ],
      "metadata": {
        "id": "kqKZfUTj6maF"
      },
      "execution_count": 38,
      "outputs": []
    },
    {
      "cell_type": "code",
      "source": [
        "# Train a baseline logistic regression\n",
        "diabetes_check = LogisticRegression(max_iter=1000)\n",
        "#diabetes_check.fit(X_train, y_train)\n",
        "diabetes_check.fit(train_Xm, train_y)"
      ],
      "metadata": {
        "colab": {
          "base_uri": "https://localhost:8080/"
        },
        "id": "Pkli2tRu-R_s",
        "outputId": "bff156f6-d350-4a7a-edd4-56d048da7f3e"
      },
      "execution_count": 40,
      "outputs": [
        {
          "output_type": "execute_result",
          "data": {
            "text/plain": [
              "LogisticRegression(max_iter=1000)"
            ]
          },
          "metadata": {},
          "execution_count": 40
        }
      ]
    },
    {
      "cell_type": "code",
      "source": [
        "train_y"
      ],
      "metadata": {
        "colab": {
          "base_uri": "https://localhost:8080/"
        },
        "id": "nUcgpIZy8o2s",
        "outputId": "a6d1f8a8-5360-4dfd-ad3a-451e6b7b4ccc"
      },
      "execution_count": 41,
      "outputs": [
        {
          "output_type": "execute_result",
          "data": {
            "text/plain": [
              "82     1\n",
              "991    1\n",
              "789    1\n",
              "894    1\n",
              "398    1\n",
              "      ..\n",
              "106    1\n",
              "270    1\n",
              "860    1\n",
              "435    1\n",
              "102    1\n",
              "Name: has_diabetes, Length: 750, dtype: int64"
            ]
          },
          "metadata": {},
          "execution_count": 41
        }
      ]
    },
    {
      "cell_type": "code",
      "source": [
        "rcParams['figure.figsize'] = 14, 7\n",
        "rcParams['axes.spines.top'] = False\n",
        "rcParams['axes.spines.right'] = False"
      ],
      "metadata": {
        "id": "G24zTwOi5VvF"
      },
      "execution_count": 42,
      "outputs": []
    },
    {
      "cell_type": "code",
      "source": [
        "score = diabetes_check.score(test_Xm, test_y)\n",
        "print(\"Test Accuracy Score\", score)"
      ],
      "metadata": {
        "colab": {
          "base_uri": "https://localhost:8080/"
        },
        "id": "X70fhbRWykmN",
        "outputId": "23c4b1ca-dbf5-44d5-e018-e1e5139d2b79"
      },
      "execution_count": 43,
      "outputs": [
        {
          "output_type": "stream",
          "name": "stdout",
          "text": [
            "Test Accuracy Score 0.76\n"
          ]
        }
      ]
    },
    {
      "cell_type": "code",
      "source": [
        "# Train a baseline logistic regression\n",
        "comparison_check = LogisticRegression(max_iter=1000)\n",
        "comparison_check.fit(X_train, y_train)\n",
        "\n",
        "comparison_score = comparison_check.score(X_test, y_test)\n",
        "print(\"Comparison Accuracy Score\", comparison_score)"
      ],
      "metadata": {
        "colab": {
          "base_uri": "https://localhost:8080/"
        },
        "id": "8k9luobf_rMJ",
        "outputId": "445d123f-b34a-4469-91a9-da6be34afd3e"
      },
      "execution_count": 44,
      "outputs": [
        {
          "output_type": "stream",
          "name": "stdout",
          "text": [
            "Comparison Accuracy Score 0.76\n"
          ]
        }
      ]
    },
    {
      "cell_type": "markdown",
      "source": [
        "We get the same test accuracy score, no matter we use anonymized or non anonymized dataset.<br>\n",
        "As introducing non protected features didn't change our accuracy, we can conclude that our dataset was correctly anonymized.<br>\n",
        "We just have to take into acount that even the non-anonymized dataset is not protected by default for machine learning purposes as we need to remove unique identifiers, that would be personal information, for data leakage prevention."
      ],
      "metadata": {
        "id": "blQg0F0yBDYp"
      }
    },
    {
      "cell_type": "markdown",
      "source": [
        "It confirms our conclusion at the previous notebooks:\n",
        "*   privacy increase can have either reduce or maintain accuracy\n",
        "*   the accuracy of the model depends on the distribution of the features, not on the actual values (reason why we can standardize numerical values for example to have a better representation)."
      ],
      "metadata": {
        "id": "dO6gkhgqgwth"
      }
    }
  ],
  "metadata": {
    "kernelspec": {
      "display_name": "Python 3",
      "language": "python",
      "name": "python3"
    },
    "language_info": {
      "codemirror_mode": {
        "name": "ipython",
        "version": 3
      },
      "file_extension": ".py",
      "mimetype": "text/x-python",
      "name": "python",
      "nbconvert_exporter": "python",
      "pygments_lexer": "ipython3",
      "version": "3.7.4"
    },
    "colab": {
      "provenance": [],
      "include_colab_link": true
    }
  },
  "nbformat": 4,
  "nbformat_minor": 0
}