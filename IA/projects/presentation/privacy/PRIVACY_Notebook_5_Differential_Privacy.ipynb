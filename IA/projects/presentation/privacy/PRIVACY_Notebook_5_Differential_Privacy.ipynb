{
  "cells": [
    {
      "cell_type": "markdown",
      "metadata": {
        "id": "view-in-github",
        "colab_type": "text"
      },
      "source": [
        "<a href=\"https://colab.research.google.com/github/neohack22/IASD/blob/IA/IA/projects/presentation/privacy/PRIVACY_Notebook_5_Differential_Privacy.ipynb\" target=\"_parent\"><img src=\"https://colab.research.google.com/assets/colab-badge.svg\" alt=\"Open In Colab\"/></a>"
      ]
    },
    {
      "cell_type": "markdown",
      "metadata": {
        "id": "hk-PC5j2saFB"
      },
      "source": [
        "# Differential Privacy\n",
        "\n",
        "Among the numerous definitions of private data analysis,\n",
        "differential privacy has become the dominant standard by providing a formal and adaptive conception of safe data-analysis. First introduced by Dwork et al. in [1], and further detailed in [2]. It states that an algorithm is  differentially private if, given two **close** databases, it produces statistically indistinguishable outputs.\n",
        "Formally, a randomized algorithm $\\mathcal{A}$ is $\\epsilon$-differentially private if for any output $Z$ and for any two close databases $X$ and $X'$, $$\\mathbb{P}[\\mathcal{A}(X) \\in Z] \\leq e^{\\epsilon}\\mathbb{P}\\left[\\mathcal{A}(X') \\in Z\\right]. \\text{   } (1)$$\n",
        "Where the probability space is over the coin flips of $\\mathcal{A}$.\n",
        "\n",
        "Here, $\\mathbb{P}[\\mathcal{A}(X) \\in Z]$ is the probability of a\n",
        "randomized function $\\mathcal{A}$ to ouput a value in $Z$ when evaluating\n",
        "it on a given dataset $X$. The right side is identical to the left except\n",
        "that the function is now evaluated on a dataset $X'$ that differs from $X$\n",
        "in at most one element (hence the notion of **closeness**). And finally, $\\epsilon$ is a parameter that describes\n",
        "how much information is leaked by the function.\n",
        "\n",
        "Sounds pretty abstract, so let's work out a simple example: let's assume we want to build a differentially private dataset from the adult data that we've looked at in the first session. The goal here is to protect an adversary from gaining too much information about the sensitive attribute (income > 50k or not) when adding that Alice's data to the dataset. With differential privacy, we look at the state of the dataset before and after Alice was added and quantify the privacy loss as given by equation (1). Let us suppose that $\\mathcal{A}$ outputs the total number of persons with income > 50k in deterministic fashion. Then by simply comparing the output value of $\\mathcal{A}$ before and after the adding Alice to the dataset, we can infer with certainty what kind of income Alice has. This highlights the fact that any deterministic analysis of a dataset represents a security breach, this is why the curator is needed to input some kind of randomness that will help preserving privacy.\n",
        "\n",
        "Let us now investigate a simple randomization trick called **randomized response**. It works as follows:\n",
        "\n",
        "* With probability $1-p$, we add a Alice's true income value to the database.\n",
        "* With probability $p$ we choose a random boolean (0/1) value from a distribution returning $0$ with probability $q$ and $1$ with probability $1-q$ and add that value to the database instead.\n",
        "\n",
        "**We denote 0/1 for generality, but for our application 1 means \"income > 50k\" and 0 means \"income =< 50k\"**\n",
        "\n",
        "Using this scheme, an attacker cannot know with certainty if the real attribute value of Alice or a random one was added to the database. This protects the privacy of Alice but of course it also adds noise to the database, making it more difficult to use for legitimate users as well. In practice, we therefore always need to weigh privacy against utility when employing differential privacy. In this notebook, we will calculate the $\\epsilon$ and other relevant parameters for our scheme above and see how we can use this differentially private data to make predictions about the \n",
        "income distribution of the people in our dataset.\n",
        "\n",
        "* [1] [Differential privacy](https://www.microsoft.com/en-us/research/publication/differential-privacy/)\n",
        "* [2] [The Algorithmic Foundations of Differential Privacy](https://www.cis.upenn.edu/~aaroth/Papers/privacybook.pdf)\n",
        "\n",
        "\n",
        "## Calculating $\\epsilon$\n",
        "\n",
        "In our differentially private scheme, the probability of adding the true attribute value to the database is $1-p$. The probability of adding a random value is therefore $p$ and the probability of that value being $0$ is $q$. So how can we relate this to eq. (1)? Well, we can set $X$ and $X'$ as the versions of our database **before** and **after** adding Alice's data to it. Let's say that before adding Alice there are $k$ $1$'s in the database. We can then use a query $\\mathcal{A}$ that returns the number of $1$'s in the database and choose our result set as $Z = \\{n\\}$. Before adding Alice to the database, $\\mathcal{A}(X)=k$ with certainty, hence $\\mathbb{P}(\\mathcal{A}(X) = k)=1$. After adding Alice's data, the probability that the query result is still $k$ can be calculated as follows, depending on the Alice's attribute value:\n",
        "\n",
        "* If Alice's attribute value is $0$, the probability that $\\mathcal{A}$ is unchanged after adding the data to the database is given as $1-p+p\\cdot q$.\n",
        "* If a Alice's attribute value is $1$, the probability that $\\mathcal{A}$ is unchanged after adding the data to the database is given as $p\\cdot q$.\n",
        "\n",
        "We therefore have the two equations\n",
        "\n",
        "$$\n",
        "\\begin{eqnarray}\n",
        "\\mathbb{P}[\\mathcal{A}(X) \\in Z | x_i=1] & = & 1 \\le \\exp{\\epsilon}\\cdot \\mathbb{P}[\\mathcal{\n",
        "A}(X') \\in Z | x_i=1] = \\exp{\\epsilon}\\cdot p \\cdot q \\\\\n",
        "\\mathbb{P}[\\mathcal{A}(X) \\in Z | x_i=0] & = & 1 \\le \\exp{\\epsilon}\\cdot \\mathbb{P}[\\mathcal{A}(X') \\in Z | x_i=0] = \\exp{\\epsilon}\\cdot (1-p+p \\cdot q) \\\\\n",
        "\\end{eqnarray}\n",
        "$$\n",
        "\n",
        "This leads to\n",
        "\n",
        "$$\n",
        "\\begin{eqnarray}\n",
        " \\epsilon & \\ge & -\\ln{\\left(p \\cdot q\\right)} \\\\\n",
        " \\epsilon & \\ge & -\\ln{\\left(1-p+p\\cdot q\\right)} \\\\\n",
        "\\end{eqnarray}\n",
        "$$\n",
        "\n",
        "Since we're interested in an upper bound for $\\epsilon$ and since $-\\ln{\\left(1-p+p\\cdot q\\right)} \\le -\\ln{p\\cdot q}$, we get\n",
        "\n",
        "$$\n",
        "\\begin{equation}\n",
        "\\epsilon = -\\ln{\\left(p\\cdot q\\right)}\n",
        "\\end{equation}\n",
        "$$\n",
        "\n",
        "\n",
        "## Exercise \n",
        "\n",
        "* To your point of view, what value of $\\epsilon$ represent a good enough uncertainty for the adversary? \n",
        "* How does the level of privacy evolve when $\\epsilon$ gets bigger/smaller? \n",
        "* Same question for the accuracy of $\\mathcal{A}$."
      ]
    },
    {
      "cell_type": "markdown",
      "metadata": {
        "id": "vdw5XGB3saFF"
      },
      "source": [
        "*   Having a 50% chance that the data is true is a good trade-off between privacy and utility.<br>\n",
        "To reach that, we could have 1-p, the probability of having true value, contributing to the half (1/4).<br>\n",
        "That would make p = 3/4. To make the random boolean contribute the other half, we would need a third (1-q = 1/3) of the probability of having a random value (3/4 of the dataset) to be the true value, which gives q = 2/3.<br>\n",
        "So a good enough uncertainty for the adversary would be inferior to ϵ=−ln(p⋅q) = - ln(1/2) = 0.69 .\n",
        "*   ϵ being a parameter that describes how much information is leaked by the function, when ϵ gets smaller, the privacy gets bigger.\n",
        "*   We learnt in the notebook 4 \"that limit the amount of information that a legitimate user can learn from the data as well, so typically we need to balance the degree of privacy against the utility of the resulting data. Eventhough the data does not necessarily seem directly usable. However, it is still possible to identify trends, or perform general calculations or correlations on the whole table.\"<br>\n",
        "So when ϵ gets smaller hence the privacy bigger, we can intuit that the accuracy of A can stay identical or get smaller."
      ]
    },
    {
      "cell_type": "markdown",
      "metadata": {
        "id": "WGc0tQuBsaFF"
      },
      "source": [
        "## Exercise\n",
        "\n",
        "**Write a function that returns the value of epsilon for a given $p$ and $q$.**"
      ]
    },
    {
      "cell_type": "code",
      "execution_count": 1,
      "metadata": {
        "colab": {
          "base_uri": "https://localhost:8080/"
        },
        "id": "y_V7YKYRsaFG",
        "outputId": "a76736b6-8504-44bf-acaa-884bed56ca71"
      },
      "outputs": [
        {
          "output_type": "stream",
          "name": "stdout",
          "text": [
            "0.6931471805599453\n"
          ]
        }
      ],
      "source": [
        "import numpy as np\n",
        "\n",
        "def epsilon(p, q):\n",
        "    \"\"\"\n",
        "    :param p: The probability of returning a random value instead of the true one\n",
        "    :param q: The probability of returning 1 when generating a random value\n",
        "    :returns: The epsilon for the given values of p, q\n",
        "    \"\"\"\n",
        "    return -np.log(p*q)\n",
        "\n",
        "print(epsilon(3/4,2/3))"
      ]
    },
    {
      "cell_type": "markdown",
      "metadata": {
        "id": "SipJjIyIsaFG"
      },
      "source": [
        "## Exercise\n",
        "\n",
        "**Plot $\\epsilon$ for various values of $p$ and $q$. Analyze.**"
      ]
    },
    {
      "cell_type": "code",
      "execution_count": 2,
      "metadata": {
        "colab": {
          "base_uri": "https://localhost:8080/",
          "height": 331
        },
        "id": "TQ7CgEyfsaFH",
        "outputId": "fde625dc-d24c-452e-9254-5f1830bd39b2"
      },
      "outputs": [
        {
          "output_type": "stream",
          "name": "stderr",
          "text": [
            "/usr/local/lib/python3.7/dist-packages/ipykernel_launcher.py:9: RuntimeWarning: divide by zero encountered in log\n",
            "  if __name__ == '__main__':\n"
          ]
        },
        {
          "output_type": "execute_result",
          "data": {
            "text/plain": [
              "[<matplotlib.lines.Line2D at 0x7f9df0f2e310>]"
            ]
          },
          "metadata": {},
          "execution_count": 2
        },
        {
          "output_type": "display_data",
          "data": {
            "text/plain": [
              "<Figure size 432x288 with 1 Axes>"
            ],
            "image/png": "[encoded data removed]"
          },
          "metadata": {
            "needs_background": "light"
          }
        }
      ],
      "source": [
        "import matplotlib.pyplot as plt\n",
        "p=np.linspace(0,1,10)\n",
        "q=np.linspace(0,1,10)\n",
        "X=p*q\n",
        "Y=epsilon(p,q)\n",
        "plt.figure()\n",
        "plt.xlabel('pq')\n",
        "plt.ylabel('$\\epsilon$')\n",
        "\n",
        "plt.plot(X,Y, label='courbe epsilon ')\n"
      ]
    },
    {
      "cell_type": "markdown",
      "metadata": {
        "id": "SuXihD0_saFH"
      },
      "source": [
        "# A Different Scheme\n",
        "\n",
        "Let's assume we propose the following anonymization scheme for our dataset:\n",
        "\n",
        "* With probability $1-p$, we add a person's true attribute value to the database\n",
        "* With probability $p$, we do not add anything to the database\n",
        "\n",
        "## Exercise\n",
        "\n",
        "Can you calculate the $\\epsilon$ of this scheme? Which scheme do you prefer, and why? Does this scheme always provide \"plausible deniability\"?\n"
      ]
    },
    {
      "cell_type": "markdown",
      "source": [
        "If the probability q of adding false information is null (as with the probability p, we don't add any randomness), then the product p*q is null.\n",
        "As the logarithm of 0 doesn't exist, we can't calculate ϵ in this cheme.\n",
        "\n",
        "We prefer the previous scheme, as this one offers no trade-off between privacy and utility.\n",
        "\n",
        "This scheme never provides \"plausible deniability\" as the value added is always true son nothing changes within the dataset."
      ],
      "metadata": {
        "id": "aXN7BEcEvoSF"
      }
    },
    {
      "cell_type": "code",
      "source": [
        "#@title\n",
        "p=np.linspace(0,1,10)\n",
        "Y=-np.log(p)\n",
        "plt.figure()\n",
        "plt.xlabel('p')\n",
        "plt.ylabel('$\\epsilon$')\n",
        "\n",
        "p=np.linspace(0,1,10)\n",
        "q=np.linspace(0,1,10)\n",
        "X=p*q\n",
        "Y=epsilon(p,q)\n",
        "\n",
        "plt.xlabel('pq')\n",
        "plt.ylabel('$\\epsilon$')\n",
        "\n",
        "plt.plot(X,Y, c='blue', label='courbe epsilon avec p et q ')\n",
        "plt.plot(p,Y, c='red',label='courbe epsilon avec p seulement')\n",
        "plt.legend()"
      ],
      "metadata": {
        "colab": {
          "base_uri": "https://localhost:8080/",
          "height": 386
        },
        "id": "ATprifRv6ym5",
        "outputId": "51c53c56-c3ea-4be1-9349-8410d45e19dc",
        "cellView": "form",
        "collapsed": true
      },
      "execution_count": null,
      "outputs": [
        {
          "output_type": "stream",
          "name": "stderr",
          "text": [
            "/usr/local/lib/python3.7/dist-packages/ipykernel_launcher.py:2: RuntimeWarning: divide by zero encountered in log\n",
            "  \n",
            "/usr/local/lib/python3.7/dist-packages/ipykernel_launcher.py:9: RuntimeWarning: divide by zero encountered in log\n",
            "  if __name__ == '__main__':\n"
          ]
        },
        {
          "output_type": "execute_result",
          "data": {
            "text/plain": [
              "<matplotlib.legend.Legend at 0x7ff3d57ed250>"
            ]
          },
          "metadata": {},
          "execution_count": 8
        },
        {
          "output_type": "display_data",
          "data": {
            "text/plain": [
              "<Figure size 432x288 with 1 Axes>"
            ],
            "image/png": "[encoded data removed]"
          },
          "metadata": {
            "needs_background": "light"
          }
        }
      ]
    },
    {
      "cell_type": "markdown",
      "metadata": {
        "id": "jAwYtowosaFH"
      },
      "source": [
        "## What does this tell us?\n",
        "\n",
        "Calculating the $\\epsilon$ is great, but what does it actually tell us about the privacy loss or risk for our use case? Let's assume an adversary want to learn about the real value of a person's attribute. If she knows the model used for generating the data, she could then use Bayesian reasoning to calculate the probability of a person's attribute being $1$ given the observed difference in the database, which we denote $\\Delta = \\mathcal{A}(X') - \\mathcal{A}(X)$. Using Bayes theorem we can calculate this as (for $\\Delta = 1$ here)\n",
        "\n",
        "$$\n",
        "\\begin{equation}\n",
        "    P(x_i=1 | \\Delta = 1) = P(\\Delta = 1| x_i = 1)\\cdot \\frac{P(x_i=1)}{P(\\Delta=1)}\n",
        "\\end{equation}\n",
        "$$\n",
        "\n",
        "For our scheme, we know that \n",
        "\n",
        "$$\n",
        "\\begin{equation}\n",
        "    P(\\Delta = 1 | x_i = \\mathrm{1}) = 1-pq\n",
        "\\end{equation}\n",
        "$$\n",
        "\n",
        "and\n",
        "\n",
        "$$\n",
        "\\begin{equation}\n",
        "    P(\\Delta = 1) = (1-p)\\cdot P(x_i = \\mathrm{1}) + p\\cdot(1-q)\n",
        "\\end{equation}\n",
        "$$\n",
        "\n",
        "so we obtain\n",
        "\n",
        "$$\n",
        "\\begin{equation}\n",
        "    P(x_i=1 | \\Delta = 1) = \\frac{(1-pq)\\cdot P(x_i = \\mathrm{1})}{(1-p)\\cdot P(x_i = \\mathrm{1})+p\\cdot(1-q)}\n",
        "\\end{equation}\n",
        "$$\n",
        "\n",
        "Let's see how this relates to $\\epsilon$!"
      ]
    },
    {
      "cell_type": "markdown",
      "metadata": {
        "id": "X9as93p7saFH"
      },
      "source": [
        "## Exercise\n",
        "\n",
        "**Write a function that calculates the conditional probability as given in eq. (4).**"
      ]
    },
    {
      "cell_type": "code",
      "execution_count": 3,
      "metadata": {
        "colab": {
          "base_uri": "https://localhost:8080/"
        },
        "id": "gGoKLVPpsaFI",
        "outputId": "f4858686-8810-4b3f-bd30-7a12eae48fc9"
      },
      "outputs": [
        {
          "output_type": "stream",
          "name": "stdout",
          "text": [
            "0.75\n"
          ]
        }
      ],
      "source": [
        "def p_cond(p, q, p_1):\n",
        "    \"\"\"\n",
        "    :param   p: The probability of returning a random value instead of the true one\n",
        "    :param   q: The probability of returning 1 when generating a random value\n",
        "    :param p_1: The probability of a person to have an attribute value x_i=1\n",
        "    \"\"\"\n",
        "    return ((1-p*q)*p_1)/((1-p)*p_1+p*(1-q))\n",
        "print(p_cond(0.5,0.5,0.5))"
      ]
    },
    {
      "cell_type": "markdown",
      "metadata": {
        "id": "NV3XeADosaFI"
      },
      "source": [
        "## Exercise\n",
        "\n",
        "**Choose a given q (e.g. 0.1) as well as a value for P(x_i=yes) and plot the conditional probability from eq. (4) as a function of p.**"
      ]
    },
    {
      "cell_type": "code",
      "execution_count": 4,
      "metadata": {
        "colab": {
          "base_uri": "https://localhost:8080/",
          "height": 296
        },
        "id": "8W65uDcwsaFI",
        "outputId": "ed55ad26-56cd-447c-e906-d429a620319e"
      },
      "outputs": [
        {
          "output_type": "execute_result",
          "data": {
            "text/plain": [
              "[<matplotlib.lines.Line2D at 0x7f9df0e40e10>]"
            ]
          },
          "metadata": {},
          "execution_count": 4
        },
        {
          "output_type": "display_data",
          "data": {
            "text/plain": [
              "<Figure size 432x288 with 1 Axes>"
            ],
            "image/png": "[encoded data removed]"
          },
          "metadata": {
            "needs_background": "light"
          }
        }
      ],
      "source": [
        "import matplotlib.pyplot as plt\n",
        "qx=0.1\n",
        "p_1=0.5\n",
        "p=np.linspace(0,1,10)\n",
        "Y=p_cond(p,qx,p_1)\n",
        "plt.figure()\n",
        "plt.xlabel('p')\n",
        "plt.ylabel('p_cond')\n",
        "\n",
        "plt.plot(p,Y, label='courbe proabablité conditionnelle')\n",
        "\n",
        "# plus p est grand plus la proba conditionnelle est faible"
      ]
    },
    {
      "cell_type": "markdown",
      "metadata": {
        "id": "GvvKPOySsaFI"
      },
      "source": [
        "# Implementing It\n",
        "\n",
        "Now that we have a feeling for our scheme we can implement it! For that, we load the \"adult census\" data from the k-anonymity case study again."
      ]
    },
    {
      "cell_type": "code",
      "execution_count": 6,
      "metadata": {
        "id": "yVEGDrojsaFI",
        "colab": {
          "base_uri": "https://localhost:8080/",
          "height": 191
        },
        "outputId": "51953eb0-b39e-4594-92dc-e9722a9a1d28"
      },
      "outputs": [
        {
          "output_type": "execute_result",
          "data": {
            "text/plain": [
              "   age          workclass  fnlwgt   education education-num  \\\n",
              "0  39,         State-gov,  77516,  Bachelors,           13,   \n",
              "1  50,  Self-emp-not-inc,  83311,  Bachelors,           13,   \n",
              "\n",
              "        marital-status        occupation    relationship    race    sex  \\\n",
              "0       Never-married,     Adm-clerical,  Not-in-family,  White,  Male,   \n",
              "1  Married-civ-spouse,  Exec-managerial,        Husband,  White,  Male,   \n",
              "\n",
              "  capital-gain capital-loss hours-per-week  native-country income  \n",
              "0        2174,           0,            40,  United-States,  <=50k  \n",
              "1           0,           0,            13,  United-States,  <=50k  "
            ],
            "text/html": [
              "\n",
              "  <div id=\"df-42b456b9-d3ab-4cb7-b559-c8858128c8cf\">\n",
              "    <div class=\"colab-df-container\">\n",
              "      <div>\n",
              "<style scoped>\n",
              "    .dataframe tbody tr th:only-of-type {\n",
              "        vertical-align: middle;\n",
              "    }\n",
              "\n",
              "    .dataframe tbody tr th {\n",
              "        vertical-align: top;\n",
              "    }\n",
              "\n",
              "    .dataframe thead th {\n",
              "        text-align: right;\n",
              "    }\n",
              "</style>\n",
              "<table border=\"1\" class=\"dataframe\">\n",
              "  <thead>\n",
              "    <tr style=\"text-align: right;\">\n",
              "      <th></th>\n",
              "      <th>age</th>\n",
              "      <th>workclass</th>\n",
              "      <th>fnlwgt</th>\n",
              "      <th>education</th>\n",
              "      <th>education-num</th>\n",
              "      <th>marital-status</th>\n",
              "      <th>occupation</th>\n",
              "      <th>relationship</th>\n",
              "      <th>race</th>\n",
              "      <th>sex</th>\n",
              "      <th>capital-gain</th>\n",
              "      <th>capital-loss</th>\n",
              "      <th>hours-per-week</th>\n",
              "      <th>native-country</th>\n",
              "      <th>income</th>\n",
              "    </tr>\n",
              "  </thead>\n",
              "  <tbody>\n",
              "    <tr>\n",
              "      <th>0</th>\n",
              "      <td>39,</td>\n",
              "      <td>State-gov,</td>\n",
              "      <td>77516,</td>\n",
              "      <td>Bachelors,</td>\n",
              "      <td>13,</td>\n",
              "      <td>Never-married,</td>\n",
              "      <td>Adm-clerical,</td>\n",
              "      <td>Not-in-family,</td>\n",
              "      <td>White,</td>\n",
              "      <td>Male,</td>\n",
              "      <td>2174,</td>\n",
              "      <td>0,</td>\n",
              "      <td>40,</td>\n",
              "      <td>United-States,</td>\n",
              "      <td>&lt;=50k</td>\n",
              "    </tr>\n",
              "    <tr>\n",
              "      <th>1</th>\n",
              "      <td>50,</td>\n",
              "      <td>Self-emp-not-inc,</td>\n",
              "      <td>83311,</td>\n",
              "      <td>Bachelors,</td>\n",
              "      <td>13,</td>\n",
              "      <td>Married-civ-spouse,</td>\n",
              "      <td>Exec-managerial,</td>\n",
              "      <td>Husband,</td>\n",
              "      <td>White,</td>\n",
              "      <td>Male,</td>\n",
              "      <td>0,</td>\n",
              "      <td>0,</td>\n",
              "      <td>13,</td>\n",
              "      <td>United-States,</td>\n",
              "      <td>&lt;=50k</td>\n",
              "    </tr>\n",
              "  </tbody>\n",
              "</table>\n",
              "</div>\n",
              "      <button class=\"colab-df-convert\" onclick=\"convertToInteractive('df-42b456b9-d3ab-4cb7-b559-c8858128c8cf')\"\n",
              "              title=\"Convert this dataframe to an interactive table.\"\n",
              "              style=\"display:none;\">\n",
              "        \n",
              "  <svg xmlns=\"http://www.w3.org/2000/svg\" height=\"24px\"viewBox=\"0 0 24 24\"\n",
              "       width=\"24px\">\n",
              "    <path d=\"M0 0h24v24H0V0z\" fill=\"none\"/>\n",
              "    <path d=\"M18.56 5.44l.94 2.06.94-2.06 2.06-.94-2.06-.94-.94-2.06-.94 2.06-2.06.94zm-11 1L8.5 8.5l.94-2.06 2.06-.94-2.06-.94L8.5 2.5l-.94 2.06-2.06.94zm10 10l.94 2.06.94-2.06 2.06-.94-2.06-.94-.94-2.06-.94 2.06-2.06.94z\"/><path d=\"M17.41 7.96l-1.37-1.37c-.4-.4-.92-.59-1.43-.59-.52 0-1.04.2-1.43.59L10.3 9.45l-7.72 7.72c-.78.78-.78 2.05 0 2.83L4 21.41c.39.39.9.59 1.41.59.51 0 1.02-.2 1.41-.59l7.78-7.78 2.81-2.81c.8-.78.8-2.07 0-2.86zM5.41 20L4 18.59l7.72-7.72 1.47 1.35L5.41 20z\"/>\n",
              "  </svg>\n",
              "      </button>\n",
              "      \n",
              "  <style>\n",
              "    .colab-df-container {\n",
              "      display:flex;\n",
              "      flex-wrap:wrap;\n",
              "      gap: 12px;\n",
              "    }\n",
              "\n",
              "    .colab-df-convert {\n",
              "      background-color: #E8F0FE;\n",
              "      border: none;\n",
              "      border-radius: 50%;\n",
              "      cursor: pointer;\n",
              "      display: none;\n",
              "      fill: #1967D2;\n",
              "      height: 32px;\n",
              "      padding: 0 0 0 0;\n",
              "      width: 32px;\n",
              "    }\n",
              "\n",
              "    .colab-df-convert:hover {\n",
              "      background-color: #E2EBFA;\n",
              "      box-shadow: 0px 1px 2px rgba(60, 64, 67, 0.3), 0px 1px 3px 1px rgba(60, 64, 67, 0.15);\n",
              "      fill: #174EA6;\n",
              "    }\n",
              "\n",
              "    [theme=dark] .colab-df-convert {\n",
              "      background-color: #3B4455;\n",
              "      fill: #D2E3FC;\n",
              "    }\n",
              "\n",
              "    [theme=dark] .colab-df-convert:hover {\n",
              "      background-color: #434B5C;\n",
              "      box-shadow: 0px 1px 3px 1px rgba(0, 0, 0, 0.15);\n",
              "      filter: drop-shadow(0px 1px 2px rgba(0, 0, 0, 0.3));\n",
              "      fill: #FFFFFF;\n",
              "    }\n",
              "  </style>\n",
              "\n",
              "      <script>\n",
              "        const buttonEl =\n",
              "          document.querySelector('#df-42b456b9-d3ab-4cb7-b559-c8858128c8cf button.colab-df-convert');\n",
              "        buttonEl.style.display =\n",
              "          google.colab.kernel.accessAllowed ? 'block' : 'none';\n",
              "\n",
              "        async function convertToInteractive(key) {\n",
              "          const element = document.querySelector('#df-42b456b9-d3ab-4cb7-b559-c8858128c8cf');\n",
              "          const dataTable =\n",
              "            await google.colab.kernel.invokeFunction('convertToInteractive',\n",
              "                                                     [key], {});\n",
              "          if (!dataTable) return;\n",
              "\n",
              "          const docLinkHtml = 'Like what you see? Visit the ' +\n",
              "            '<a target=\"_blank\" href=https://colab.research.google.com/notebooks/data_table.ipynb>data table notebook</a>'\n",
              "            + ' to learn more about interactive tables.';\n",
              "          element.innerHTML = '';\n",
              "          dataTable['output_type'] = 'display_data';\n",
              "          await google.colab.output.renderOutput(dataTable, element);\n",
              "          const docLink = document.createElement('div');\n",
              "          docLink.innerHTML = docLinkHtml;\n",
              "          element.appendChild(docLink);\n",
              "        }\n",
              "      </script>\n",
              "    </div>\n",
              "  </div>\n",
              "  "
            ]
          },
          "metadata": {},
          "execution_count": 6
        }
      ],
      "source": [
        "import pandas as pd\n",
        "\n",
        "names = (\n",
        "    'age',\n",
        "    'workclass', #Private, Self-emp-not-inc, Self-emp-inc, Federal-gov, Local-gov, State-gov, Without-pay, Never-worked.\n",
        "    'fnlwgt', # \"weight\" of that person in the dataset (i.e. how many people does that person represent) -> https://www.kansascityfed.org/research/datamuseum/cps/coreinfo/keyconcepts/weights\n",
        "    'education',\n",
        "    'education-num',\n",
        "    'marital-status',\n",
        "    'occupation',\n",
        "    'relationship',\n",
        "    'race',\n",
        "    'sex',\n",
        "    'capital-gain',\n",
        "    'capital-loss',\n",
        "    'hours-per-week',\n",
        "    'native-country',\n",
        "    'income',\n",
        ")\n",
        "categorical = set((\n",
        "    'workclass',\n",
        "    'education',\n",
        "    'marital-status',\n",
        "    'occupation',\n",
        "    'relationship',\n",
        "    'sex',\n",
        "    'native-country',\n",
        "    'race',\n",
        "    'income',\n",
        "))\n",
        "df = pd.read_csv(\n",
        "    \"/content/adult.all.txt\", sep=\" \", header=None, names=names, index_col=False, engine='python')\n",
        "\n",
        "# We load the data using Pandas\n",
        "\n",
        "\n",
        "df.head(2)"
      ]
    },
    {
      "cell_type": "markdown",
      "metadata": {
        "id": "SpkNSj2BsaFJ"
      },
      "source": [
        "## Exercise\n",
        "\n",
        "**Implement a function that processes a new value according to the differentially private scheme discussed above.**"
      ]
    },
    {
      "cell_type": "code",
      "execution_count": 7,
      "metadata": {
        "id": "9cOkP_XYsaFJ"
      },
      "outputs": [],
      "source": [
        "def process_value(value, p, q):\n",
        "    \"\"\"\n",
        "    :param value: The value to apply the differentially private scheme to.\n",
        "    :param     p: The probability of returning a random value instead of the true one\n",
        "    :param     q: The probability of returning 1 when generating a random value\n",
        "    :    returns: A new, differentially private value\n",
        "    \"\"\"\n",
        "# Random value with probability p to simulate p\n",
        "    valeur_aleatoire_1 = np.random.rand()\n",
        "    if p >= valeur_aleatoire_1:  # we are in the RANDOM VALUE case\n",
        "      valeur_aleatoire_2 = np.random.rand() # to simulate q\n",
        "      if q >= valeur_aleatoire_2:\n",
        "        return 0\n",
        "      return 1  \n",
        "    else:\n",
        "      return value"
      ]
    },
    {
      "cell_type": "markdown",
      "metadata": {
        "id": "n4-lT0otsaFJ"
      },
      "source": [
        "## Exercise\n",
        "\n",
        "**Now apply this method to the \"income\" column of the adult dataset to obtain a differentially private dataset e.g with p=q=0.5.**"
      ]
    },
    {
      "cell_type": "code",
      "execution_count": 8,
      "metadata": {
        "colab": {
          "base_uri": "https://localhost:8080/",
          "height": 424
        },
        "id": "0F8nf_pusaFJ",
        "outputId": "ce4e7094-25df-4ed3-b8af-1aeb87858f18"
      },
      "outputs": [
        {
          "output_type": "execute_result",
          "data": {
            "text/plain": [
              "   age          workclass   fnlwgt   education education-num  \\\n",
              "0  39,         State-gov,   77516,  Bachelors,           13,   \n",
              "1  50,  Self-emp-not-inc,   83311,  Bachelors,           13,   \n",
              "2  38,           Private,  215646,    HS-grad,            9,   \n",
              "3  53,           Private,  234721,       11th,            7,   \n",
              "4  28,           Private,  338409,  Bachelors,           13,   \n",
              "\n",
              "        marital-status          occupation    relationship    race      sex  \\\n",
              "0       Never-married,       Adm-clerical,  Not-in-family,  White,    Male,   \n",
              "1  Married-civ-spouse,    Exec-managerial,        Husband,  White,    Male,   \n",
              "2            Divorced,  Handlers-cleaners,  Not-in-family,  White,    Male,   \n",
              "3  Married-civ-spouse,  Handlers-cleaners,        Husband,  Black,    Male,   \n",
              "4  Married-civ-spouse,     Prof-specialty,           Wife,  Black,  Female,   \n",
              "\n",
              "  capital-gain capital-loss hours-per-week  native-country income  \\\n",
              "0        2174,           0,            40,  United-States,  <=50k   \n",
              "1           0,           0,            13,  United-States,  <=50k   \n",
              "2           0,           0,            40,  United-States,  <=50k   \n",
              "3           0,           0,            40,  United-States,  <=50k   \n",
              "4           0,           0,            40,           Cuba,  <=50k   \n",
              "\n",
              "   income_binaire  income_diff_private  \n",
              "0               0                    0  \n",
              "1               0                    0  \n",
              "2               0                    1  \n",
              "3               0                    0  \n",
              "4               0                    0  "
            ],
            "text/html": [
              "\n",
              "  <div id=\"df-b29c20c7-64a2-4ca2-9e81-e90a1ece7bba\">\n",
              "    <div class=\"colab-df-container\">\n",
              "      <div>\n",
              "<style scoped>\n",
              "    .dataframe tbody tr th:only-of-type {\n",
              "        vertical-align: middle;\n",
              "    }\n",
              "\n",
              "    .dataframe tbody tr th {\n",
              "        vertical-align: top;\n",
              "    }\n",
              "\n",
              "    .dataframe thead th {\n",
              "        text-align: right;\n",
              "    }\n",
              "</style>\n",
              "<table border=\"1\" class=\"dataframe\">\n",
              "  <thead>\n",
              "    <tr style=\"text-align: right;\">\n",
              "      <th></th>\n",
              "      <th>age</th>\n",
              "      <th>workclass</th>\n",
              "      <th>fnlwgt</th>\n",
              "      <th>education</th>\n",
              "      <th>education-num</th>\n",
              "      <th>marital-status</th>\n",
              "      <th>occupation</th>\n",
              "      <th>relationship</th>\n",
              "      <th>race</th>\n",
              "      <th>sex</th>\n",
              "      <th>capital-gain</th>\n",
              "      <th>capital-loss</th>\n",
              "      <th>hours-per-week</th>\n",
              "      <th>native-country</th>\n",
              "      <th>income</th>\n",
              "      <th>income_binaire</th>\n",
              "      <th>income_diff_private</th>\n",
              "    </tr>\n",
              "  </thead>\n",
              "  <tbody>\n",
              "    <tr>\n",
              "      <th>0</th>\n",
              "      <td>39,</td>\n",
              "      <td>State-gov,</td>\n",
              "      <td>77516,</td>\n",
              "      <td>Bachelors,</td>\n",
              "      <td>13,</td>\n",
              "      <td>Never-married,</td>\n",
              "      <td>Adm-clerical,</td>\n",
              "      <td>Not-in-family,</td>\n",
              "      <td>White,</td>\n",
              "      <td>Male,</td>\n",
              "      <td>2174,</td>\n",
              "      <td>0,</td>\n",
              "      <td>40,</td>\n",
              "      <td>United-States,</td>\n",
              "      <td>&lt;=50k</td>\n",
              "      <td>0</td>\n",
              "      <td>0</td>\n",
              "    </tr>\n",
              "    <tr>\n",
              "      <th>1</th>\n",
              "      <td>50,</td>\n",
              "      <td>Self-emp-not-inc,</td>\n",
              "      <td>83311,</td>\n",
              "      <td>Bachelors,</td>\n",
              "      <td>13,</td>\n",
              "      <td>Married-civ-spouse,</td>\n",
              "      <td>Exec-managerial,</td>\n",
              "      <td>Husband,</td>\n",
              "      <td>White,</td>\n",
              "      <td>Male,</td>\n",
              "      <td>0,</td>\n",
              "      <td>0,</td>\n",
              "      <td>13,</td>\n",
              "      <td>United-States,</td>\n",
              "      <td>&lt;=50k</td>\n",
              "      <td>0</td>\n",
              "      <td>0</td>\n",
              "    </tr>\n",
              "    <tr>\n",
              "      <th>2</th>\n",
              "      <td>38,</td>\n",
              "      <td>Private,</td>\n",
              "      <td>215646,</td>\n",
              "      <td>HS-grad,</td>\n",
              "      <td>9,</td>\n",
              "      <td>Divorced,</td>\n",
              "      <td>Handlers-cleaners,</td>\n",
              "      <td>Not-in-family,</td>\n",
              "      <td>White,</td>\n",
              "      <td>Male,</td>\n",
              "      <td>0,</td>\n",
              "      <td>0,</td>\n",
              "      <td>40,</td>\n",
              "      <td>United-States,</td>\n",
              "      <td>&lt;=50k</td>\n",
              "      <td>0</td>\n",
              "      <td>1</td>\n",
              "    </tr>\n",
              "    <tr>\n",
              "      <th>3</th>\n",
              "      <td>53,</td>\n",
              "      <td>Private,</td>\n",
              "      <td>234721,</td>\n",
              "      <td>11th,</td>\n",
              "      <td>7,</td>\n",
              "      <td>Married-civ-spouse,</td>\n",
              "      <td>Handlers-cleaners,</td>\n",
              "      <td>Husband,</td>\n",
              "      <td>Black,</td>\n",
              "      <td>Male,</td>\n",
              "      <td>0,</td>\n",
              "      <td>0,</td>\n",
              "      <td>40,</td>\n",
              "      <td>United-States,</td>\n",
              "      <td>&lt;=50k</td>\n",
              "      <td>0</td>\n",
              "      <td>0</td>\n",
              "    </tr>\n",
              "    <tr>\n",
              "      <th>4</th>\n",
              "      <td>28,</td>\n",
              "      <td>Private,</td>\n",
              "      <td>338409,</td>\n",
              "      <td>Bachelors,</td>\n",
              "      <td>13,</td>\n",
              "      <td>Married-civ-spouse,</td>\n",
              "      <td>Prof-specialty,</td>\n",
              "      <td>Wife,</td>\n",
              "      <td>Black,</td>\n",
              "      <td>Female,</td>\n",
              "      <td>0,</td>\n",
              "      <td>0,</td>\n",
              "      <td>40,</td>\n",
              "      <td>Cuba,</td>\n",
              "      <td>&lt;=50k</td>\n",
              "      <td>0</td>\n",
              "      <td>0</td>\n",
              "    </tr>\n",
              "  </tbody>\n",
              "</table>\n",
              "</div>\n",
              "      <button class=\"colab-df-convert\" onclick=\"convertToInteractive('df-b29c20c7-64a2-4ca2-9e81-e90a1ece7bba')\"\n",
              "              title=\"Convert this dataframe to an interactive table.\"\n",
              "              style=\"display:none;\">\n",
              "        \n",
              "  <svg xmlns=\"http://www.w3.org/2000/svg\" height=\"24px\"viewBox=\"0 0 24 24\"\n",
              "       width=\"24px\">\n",
              "    <path d=\"M0 0h24v24H0V0z\" fill=\"none\"/>\n",
              "    <path d=\"M18.56 5.44l.94 2.06.94-2.06 2.06-.94-2.06-.94-.94-2.06-.94 2.06-2.06.94zm-11 1L8.5 8.5l.94-2.06 2.06-.94-2.06-.94L8.5 2.5l-.94 2.06-2.06.94zm10 10l.94 2.06.94-2.06 2.06-.94-2.06-.94-.94-2.06-.94 2.06-2.06.94z\"/><path d=\"M17.41 7.96l-1.37-1.37c-.4-.4-.92-.59-1.43-.59-.52 0-1.04.2-1.43.59L10.3 9.45l-7.72 7.72c-.78.78-.78 2.05 0 2.83L4 21.41c.39.39.9.59 1.41.59.51 0 1.02-.2 1.41-.59l7.78-7.78 2.81-2.81c.8-.78.8-2.07 0-2.86zM5.41 20L4 18.59l7.72-7.72 1.47 1.35L5.41 20z\"/>\n",
              "  </svg>\n",
              "      </button>\n",
              "      \n",
              "  <style>\n",
              "    .colab-df-container {\n",
              "      display:flex;\n",
              "      flex-wrap:wrap;\n",
              "      gap: 12px;\n",
              "    }\n",
              "\n",
              "    .colab-df-convert {\n",
              "      background-color: #E8F0FE;\n",
              "      border: none;\n",
              "      border-radius: 50%;\n",
              "      cursor: pointer;\n",
              "      display: none;\n",
              "      fill: #1967D2;\n",
              "      height: 32px;\n",
              "      padding: 0 0 0 0;\n",
              "      width: 32px;\n",
              "    }\n",
              "\n",
              "    .colab-df-convert:hover {\n",
              "      background-color: #E2EBFA;\n",
              "      box-shadow: 0px 1px 2px rgba(60, 64, 67, 0.3), 0px 1px 3px 1px rgba(60, 64, 67, 0.15);\n",
              "      fill: #174EA6;\n",
              "    }\n",
              "\n",
              "    [theme=dark] .colab-df-convert {\n",
              "      background-color: #3B4455;\n",
              "      fill: #D2E3FC;\n",
              "    }\n",
              "\n",
              "    [theme=dark] .colab-df-convert:hover {\n",
              "      background-color: #434B5C;\n",
              "      box-shadow: 0px 1px 3px 1px rgba(0, 0, 0, 0.15);\n",
              "      filter: drop-shadow(0px 1px 2px rgba(0, 0, 0, 0.3));\n",
              "      fill: #FFFFFF;\n",
              "    }\n",
              "  </style>\n",
              "\n",
              "      <script>\n",
              "        const buttonEl =\n",
              "          document.querySelector('#df-b29c20c7-64a2-4ca2-9e81-e90a1ece7bba button.colab-df-convert');\n",
              "        buttonEl.style.display =\n",
              "          google.colab.kernel.accessAllowed ? 'block' : 'none';\n",
              "\n",
              "        async function convertToInteractive(key) {\n",
              "          const element = document.querySelector('#df-b29c20c7-64a2-4ca2-9e81-e90a1ece7bba');\n",
              "          const dataTable =\n",
              "            await google.colab.kernel.invokeFunction('convertToInteractive',\n",
              "                                                     [key], {});\n",
              "          if (!dataTable) return;\n",
              "\n",
              "          const docLinkHtml = 'Like what you see? Visit the ' +\n",
              "            '<a target=\"_blank\" href=https://colab.research.google.com/notebooks/data_table.ipynb>data table notebook</a>'\n",
              "            + ' to learn more about interactive tables.';\n",
              "          element.innerHTML = '';\n",
              "          dataTable['output_type'] = 'display_data';\n",
              "          await google.colab.output.renderOutput(dataTable, element);\n",
              "          const docLink = document.createElement('div');\n",
              "          docLink.innerHTML = docLinkHtml;\n",
              "          element.appendChild(docLink);\n",
              "        }\n",
              "      </script>\n",
              "    </div>\n",
              "  </div>\n",
              "  "
            ]
          },
          "metadata": {},
          "execution_count": 8
        }
      ],
      "source": [
        "import pandas as pd\n",
        "import numpy as np\n",
        "\n",
        "df['income'].unique()\n",
        "p=q=0.5\n",
        "df['income_binaire']=np.where(df['income'] == '<=50k',0,1) \n",
        "df['income_diff_private']=df[\n",
        "    'income_binaire'].apply(lambda x :process_value(x, p, q  ))\n",
        "\n",
        "Liste_valeurs_calculées_DF=[]\n",
        "for i, j in enumerate(df['income_binaire']):\n",
        "    Liste_valeurs_calculées_DF.append (process_value(j, p, q))\n",
        "df['income_diff_private'] = np.array(Liste_valeurs_calculées_DF)\n",
        "\n",
        "\n",
        "df.describe() \n",
        "\n",
        "df.head(5)"
      ]
    },
    {
      "cell_type": "markdown",
      "metadata": {
        "id": "xYlBuH_xsaFJ"
      },
      "source": [
        "# Working With Differentially Private Data\n",
        "\n",
        "After collecting the differentially private data, we want of course to make use of it! For example, we might want to estimate the probability of a person having an income > 50K based on the data we've collected, which we assume is Bernoulli distributed with a probability $p_{1}$ for every individual in the database. Now, when adding up the data from $n$ persons, the resulting value is binomially distributed. The mean of this distribution is given as $\\mathbb{E}_{1} = n\\cdot p_{1}$ and the variance as $\\mathbb{V}_1 = n\\cdot p_1 \\cdot (1-p_1)$. A consistent and unbiased estimator of $\\mathbb{E}_1$ is $\\hat{\\mathbb{E}}_{1} = \\sum_i x_i$, which then gives an estimate for $p_{1}$ of $\\hat{p}_{1} = \\hat{\\mathbb{E}}_1/n$.\n",
        "\n",
        "Now, if we apply the differential privacy mechanism to our dataset, the probability of obtaining a $1$ will change to $p_{1,dp} = (1-p)\\cdot p_{1}+p\\cdot(1-q)$. Therefore, an unbiased and consistent estimator of $p_1$ based on $p_{1,dp}$ is given as\n",
        "$$\n",
        "\\begin{equation}\n",
        "\\hat{p}_1 = \\frac{\\hat{p}_{1,dp}-p\\cdot(1-q)}{1-p}\n",
        "\\end{equation}\n",
        "$$\n",
        "\n",
        "As before, $\\hat{p}_{1,dp}=\\sum_i x_{i,dp}/n$. Note that this naive estimator can return a negative probability, which can be avoided by using a more suitable method like a maximum likelihood estimator."
      ]
    },
    {
      "cell_type": "markdown",
      "metadata": {
        "id": "nmcslW-osaFJ"
      },
      "source": [
        "## Exercise\n",
        "\n",
        "**Write an estimator for $\\hat{p}_1$ based on a differentially private dataset with parameters $p$ and $k$..**"
      ]
    },
    {
      "cell_type": "code",
      "execution_count": 9,
      "metadata": {
        "colab": {
          "base_uri": "https://localhost:8080/"
        },
        "id": "wAPlpmGOsaFK",
        "outputId": "b8aeee81-688e-4bcf-ee29-2d197c15941c"
      },
      "outputs": [
        {
          "output_type": "stream",
          "name": "stdout",
          "text": [
            "-0.3\n"
          ]
        }
      ],
      "source": [
        "def p_1_estimator(p_1dp, p, q):\n",
        "    \"\"\"\n",
        "    :param p_1dp: The empirical probability of x_i=1 of our DP dataset.\n",
        "    :param     p: The p value of our DP scheme.\n",
        "    :param     q: The q value of our DP scheme.\n",
        "    :    returns: An estimate of p_1 of our DP dataset.\n",
        "    \"\"\"\n",
        "    return  (p_1dp - p*(1 - q) ) / (1 - p)\n",
        "    # p1_dp is based on data = sum of 1s / number of observations\n",
        "\n",
        "print(p_1_estimator(0.1, 0.5, 0.5) )\n",
        "# as indicated above values can be negative"
      ]
    },
    {
      "cell_type": "markdown",
      "metadata": {
        "id": "ZuqlFcAQsaFK"
      },
      "source": [
        "## Exercise\n",
        "\n",
        "**Apply the estimator to the differentially private dataset created above to generate an estimate of $p_1$.**"
      ]
    },
    {
      "cell_type": "code",
      "execution_count": 10,
      "metadata": {
        "colab": {
          "base_uri": "https://localhost:8080/"
        },
        "id": "rZUZoqcysaFK",
        "outputId": "37a8e414-e6a1-491f-d0f4-8631f1871cdb"
      },
      "outputs": [
        {
          "output_type": "stream",
          "name": "stdout",
          "text": [
            "la taille de l'échantillon est:  48842\n",
            "la fréquence réelle de 1 dans les données est:  0.239  \n",
            "la fréquence réelle de 1 dans après dif privacy:  0.367  \n",
            "la probabilité estimée de 1 après dif privacy est  0.235  : \n"
          ]
        }
      ],
      "source": [
        "p=q=0.5\n",
        "n = len(df)\n",
        "# original frequency of 1\n",
        "p_1= df['income_binaire'].sum() / n\n",
        "# frequency of 1 after diff privacy\n",
        "p1_dp=df['income_diff_private'].sum() / n\n",
        "# p1 estimated after differential privacy should be close to p1_dp\n",
        "p_1_estimated=p_1_estimator(p1_dp,p,q)\n",
        "\n",
        "print(\"la taille de l'échantillon est: \", n)\n",
        "print(\"la fréquence réelle de 1 dans les données est:  {:.3f}  \".format(p_1))\n",
        "print(\n",
        "    \"la fréquence réelle de 1 dans après dif privacy:  {:.3f}  \".format(p1_dp))\n",
        "print(\n",
        "    \"la probabilité estimée de 1 après dif privacy est  {:.3f}  : \".format(\n",
        "        p_1_estimated))"
      ]
    },
    {
      "cell_type": "markdown",
      "metadata": {
        "id": "KBmrwKEvsaFK"
      },
      "source": [
        "## Exercise\n",
        "\n",
        "**Write a function that estimates the variance of $\\hat{p}_{1}$ and calculate its value for the case above.**\n",
        "\n",
        "Hint: The variance of $\\hat{p}_1$ can be estimated as $$\\hat{\\mathrm{Var}}_1 = \\frac{\\hat{\\mathrm{Var}}_{1,dp}}{(1-p)^2} = \\frac{\\hat{p}_{1,dp}\\cdot(1-\\hat{p}_{1,dp})}{(1-p)^2\\cdot n}$$"
      ]
    },
    {
      "cell_type": "code",
      "execution_count": 11,
      "metadata": {
        "colab": {
          "base_uri": "https://localhost:8080/"
        },
        "id": "8x-WCNQcsaFK",
        "outputId": "28bc8536-21df-436e-a903-0cac0a3cb90e"
      },
      "outputs": [
        {
          "output_type": "execute_result",
          "data": {
            "text/plain": [
              "1.903352184847242e-05"
            ]
          },
          "metadata": {},
          "execution_count": 11
        }
      ],
      "source": [
        "def var_1_estimator(p_1dp, n, p, q):\n",
        "    \"\"\"\n",
        "    :param p_1dp: The estimates probability of our DP dataset.\n",
        "    :param     n: The number of samples in our dataset.\n",
        "    :param     p: The p value of our DP scheme.\n",
        "    :param     q: The q value of our DP scheme.\n",
        "    :    returns: An estimate of the variance of our DP dataset.\n",
        "    \"\"\"\n",
        "    return ( p1_dp*(1 - p1_dp)) / ( ((1 - p)**2) * n)\n",
        "    \n",
        "var_1_hat = var_1_estimator(p1_dp, len(df), p, q)\n",
        "var_1_hat"
      ]
    },
    {
      "cell_type": "markdown",
      "metadata": {
        "id": "E5C9yQsTsaFK"
      },
      "source": [
        "## Exercise\n",
        "\n",
        "**Repeat the data generation process $N$ (e.g. 500) times. For each resulting dataset, estimate $\\hat{p}_1$ and store the value in a list, so that we can plot it later.**"
      ]
    },
    {
      "cell_type": "code",
      "execution_count": 12,
      "metadata": {
        "id": "enA76iaWsaFK",
        "colab": {
          "base_uri": "https://localhost:8080/"
        },
        "outputId": "558b8f38-a39a-49b6-9cac-b516218632c7"
      },
      "outputs": [
        {
          "output_type": "execute_result",
          "data": {
            "text/plain": [
              "array([0.24419557, 0.23363089, 0.23449081, 0.24051022, 0.2421072 ,\n",
              "       0.24071496, 0.24341755, 0.24010073, 0.2372753 , 0.24382703,\n",
              "       0.24497359, 0.23686581, 0.23625159, 0.24476885, 0.23731624,\n",
              "       0.24214815, 0.24665247, 0.24427747, 0.23518693, 0.24173867])"
            ]
          },
          "metadata": {},
          "execution_count": 12
        }
      ],
      "source": [
        "p=q=0.5\n",
        "n = len(df)\n",
        "p1_dp=df['income_diff_private'].sum() / n \n",
        "# start\n",
        "p_1_hats=[]\n",
        "for j in range(500):\n",
        "  df[\n",
        "      'income_diff_private']=df[\n",
        "          'income_binaire'].apply(lambda x :process_value(x, p, q  ))\n",
        "  \"\"\"\n",
        "    valeurs_calculées_par_DP = []\n",
        "    for i, x in enumerate(df['income_binaire']):\n",
        "        valeurs_calculées_par_DP.append (process_value(x, p, q))\n",
        "\n",
        "    df['income_diff_private'] = np.array(valeurs_calculées_par_DP)\n",
        "  \"\"\"\n",
        "  p_1dp = df['income_diff_private'].sum()/len(df)\n",
        "  p_1_hat = p_1_estimator(p_1dp, p, q)\n",
        "  p_1_hats.append(p_1_hat)\n",
        "# we convert the list to ndarray numpy\n",
        "p_1_hats = np.array(p_1_hats)\n",
        "\n",
        "p_1_hats[0:20]"
      ]
    },
    {
      "cell_type": "markdown",
      "source": [
        "We then compare these estimates to the expected distribution (via central limit theorem: a normal distribution with expectation p_1 and variance var_1_hat)"
      ],
      "metadata": {
        "id": "zsm-JnVb-a7A"
      }
    },
    {
      "cell_type": "code",
      "execution_count": 13,
      "metadata": {
        "id": "BKyuyWCmsaFL",
        "colab": {
          "base_uri": "https://localhost:8080/",
          "height": 265
        },
        "outputId": "a82ffe6a-23d8-4b93-dd80-3ff8e9d80560"
      },
      "outputs": [
        {
          "output_type": "display_data",
          "data": {
            "text/plain": [
              "<Figure size 432x288 with 1 Axes>"
            ],
            "image/png": "[encoded data removed]"
          },
          "metadata": {
            "needs_background": "light"
          }
        }
      ],
      "source": [
        "import matplotlib.pylab as plt\n",
        "\n",
        "plt.hist(p_1_hats, density=True)\n",
        "\n",
        "gauss = lambda x, mu, var: 1/np.sqrt(2*np.pi*var)*np.exp(-(x-mu)**2/(2*var))\n",
        "\n",
        "p_1_hat = p_1_hats.mean()\n",
        "\n",
        "x = np.linspace(0.1, 0.3, 1000)\n",
        "\n",
        "plt.plot(x, gauss(x, p_1_hat, var_1_hat));"
      ]
    },
    {
      "cell_type": "markdown",
      "metadata": {
        "id": "8nuT-zKcsaFL"
      },
      "source": [
        "# Another scheme: Laplace mechanism. \n",
        "\n",
        "We can now estimate the probability of a categorial private feature from accuring in $X$. But what about numerical features? For example, let us suppose that the database $X$ contains the real people incomes. We still would like to be able to estimate the mean income of the population in a private way. First let us introduce what a Laplace distribution is. A Laplace distribution with scale $b$ that is the distribution with probability density \n",
        "\n",
        "$$Lap(x|b)=\\frac{1}{2b}exp\\left(-\\frac{|x|}{b}\\right).$$\n",
        "\n",
        "\n",
        "To manage this kind of problem, we intoduce another simple randomization scheme called **Laplace mechanism**: \n",
        "\n",
        "* Sample $s$ a random noise from a laplace distribution with scale $\\frac{\\epsilon}{\\Delta}$, where $\\Delta$ is the maximum difference of income two people could have. For example we consider that the minimum income is $0$ and the maximum is 200 000 dollars, hence $\\Delta=200 000$.\n",
        "* Add $s$ to Alice's true income to get a private income for Alice. \n",
        "\n",
        "For this scheme, calculating $\\epsilon$ is trivial, since it is directly in the distribution scale."
      ]
    },
    {
      "cell_type": "markdown",
      "metadata": {
        "id": "txoxnlm9saFL"
      },
      "source": [
        "## Exercise (Bonus)\n",
        "\n",
        "**Show that the Laplace mechanism makes data publishing $\\epsilon$-differentially private**"
      ]
    },
    {
      "cell_type": "markdown",
      "source": [
        "Laplace mechanism is ϵ -differentially private with p = q = 1 and ϵ = 0.<br>\n",
        "Indeed the probability p of adding a \"random value\" is certain as the span is always added.<br>\n",
        " What's more either and the probability of that value being  false  is  certain, if the span is not null (the addition being a bijection), or we're in the second scheme previously described (in case all numeric values are identical)."
      ],
      "metadata": {
        "id": "LysXJnv3DPJC"
      }
    },
    {
      "cell_type": "markdown",
      "metadata": {
        "id": "GtAP-nNUsaFL"
      },
      "source": [
        "## Implementing it\n",
        "\n",
        "To implement this scheme, we load a modified version of the \"adult census\" data from the k-anonymity where incomes are numerical. "
      ]
    },
    {
      "cell_type": "code",
      "execution_count": 14,
      "metadata": {
        "id": "Icf_AfLosaFL"
      },
      "outputs": [],
      "source": [
        "import pandas as pd\n",
        "\n",
        "names = (\n",
        "    'age',\n",
        "    'workclass', #Private, Self-emp-not-inc, Self-emp-inc, Federal-gov, Local-gov, State-gov, Without-pay, Never-worked.\n",
        "    'fnlwgt', # \"weight\" of that person in the dataset (i.e. how many people does that person represent) -> https://www.kansascityfed.org/research/datamuseum/cps/coreinfo/keyconcepts/weights\n",
        "    'education',\n",
        "    'education-num',\n",
        "    'marital-status',\n",
        "    'occupation',\n",
        "    'relationship',\n",
        "    'race',\n",
        "    'sex',\n",
        "    'capital-gain',\n",
        "    'capital-loss',\n",
        "    'hours-per-week',\n",
        "    'native-country',\n",
        "    'income-numerical',\n",
        ")\n",
        "categorical = set((\n",
        "    'workclass',\n",
        "    'education',\n",
        "    'marital-status',\n",
        "    'occupation',\n",
        "    'relationship',\n",
        "    'sex',\n",
        "    'native-country',\n",
        "    'race',\n",
        "))\n",
        "df = pd.read_csv(\"adult.all.numerical.txt\", sep=\" \", header=None, names=names, index_col=False, engine='python');# We load the data using Pandas"
      ]
    },
    {
      "cell_type": "code",
      "execution_count": 15,
      "metadata": {
        "id": "R8-YmwOAsaFL",
        "colab": {
          "base_uri": "https://localhost:8080/",
          "height": 354
        },
        "outputId": "7c225b3d-a638-47a0-d8b4-8a4358dd961b"
      },
      "outputs": [
        {
          "output_type": "execute_result",
          "data": {
            "text/plain": [
              "   age          workclass  fnlwgt   education  education-num  \\\n",
              "0   50   Self-emp-not-inc   83311   Bachelors             13   \n",
              "1   38            Private  215646     HS-grad              9   \n",
              "2   53            Private  234721        11th              7   \n",
              "3   28            Private  338409   Bachelors             13   \n",
              "4   37            Private  284582     Masters             14   \n",
              "\n",
              "        marital-status          occupation    relationship    race      sex  \\\n",
              "0   Married-civ-spouse     Exec-managerial         Husband   White     Male   \n",
              "1             Divorced   Handlers-cleaners   Not-in-family   White     Male   \n",
              "2   Married-civ-spouse   Handlers-cleaners         Husband   Black     Male   \n",
              "3   Married-civ-spouse      Prof-specialty            Wife   Black   Female   \n",
              "4   Married-civ-spouse     Exec-managerial            Wife   White   Female   \n",
              "\n",
              "   capital-gain  capital-loss  hours-per-week  native-country  \\\n",
              "0             0             0              13   United-States   \n",
              "1             0             0              40   United-States   \n",
              "2             0             0              40   United-States   \n",
              "3             0             0              40            Cuba   \n",
              "4             0             0              40   United-States   \n",
              "\n",
              "   income-numerical  \n",
              "0             21467  \n",
              "1             33405  \n",
              "2             20462  \n",
              "3             22867  \n",
              "4             25853  "
            ],
            "text/html": [
              "\n",
              "  <div id=\"df-ef5ab95b-b030-4fa3-826e-9ce6a3146990\">\n",
              "    <div class=\"colab-df-container\">\n",
              "      <div>\n",
              "<style scoped>\n",
              "    .dataframe tbody tr th:only-of-type {\n",
              "        vertical-align: middle;\n",
              "    }\n",
              "\n",
              "    .dataframe tbody tr th {\n",
              "        vertical-align: top;\n",
              "    }\n",
              "\n",
              "    .dataframe thead th {\n",
              "        text-align: right;\n",
              "    }\n",
              "</style>\n",
              "<table border=\"1\" class=\"dataframe\">\n",
              "  <thead>\n",
              "    <tr style=\"text-align: right;\">\n",
              "      <th></th>\n",
              "      <th>age</th>\n",
              "      <th>workclass</th>\n",
              "      <th>fnlwgt</th>\n",
              "      <th>education</th>\n",
              "      <th>education-num</th>\n",
              "      <th>marital-status</th>\n",
              "      <th>occupation</th>\n",
              "      <th>relationship</th>\n",
              "      <th>race</th>\n",
              "      <th>sex</th>\n",
              "      <th>capital-gain</th>\n",
              "      <th>capital-loss</th>\n",
              "      <th>hours-per-week</th>\n",
              "      <th>native-country</th>\n",
              "      <th>income-numerical</th>\n",
              "    </tr>\n",
              "  </thead>\n",
              "  <tbody>\n",
              "    <tr>\n",
              "      <th>0</th>\n",
              "      <td>50</td>\n",
              "      <td>Self-emp-not-inc</td>\n",
              "      <td>83311</td>\n",
              "      <td>Bachelors</td>\n",
              "      <td>13</td>\n",
              "      <td>Married-civ-spouse</td>\n",
              "      <td>Exec-managerial</td>\n",
              "      <td>Husband</td>\n",
              "      <td>White</td>\n",
              "      <td>Male</td>\n",
              "      <td>0</td>\n",
              "      <td>0</td>\n",
              "      <td>13</td>\n",
              "      <td>United-States</td>\n",
              "      <td>21467</td>\n",
              "    </tr>\n",
              "    <tr>\n",
              "      <th>1</th>\n",
              "      <td>38</td>\n",
              "      <td>Private</td>\n",
              "      <td>215646</td>\n",
              "      <td>HS-grad</td>\n",
              "      <td>9</td>\n",
              "      <td>Divorced</td>\n",
              "      <td>Handlers-cleaners</td>\n",
              "      <td>Not-in-family</td>\n",
              "      <td>White</td>\n",
              "      <td>Male</td>\n",
              "      <td>0</td>\n",
              "      <td>0</td>\n",
              "      <td>40</td>\n",
              "      <td>United-States</td>\n",
              "      <td>33405</td>\n",
              "    </tr>\n",
              "    <tr>\n",
              "      <th>2</th>\n",
              "      <td>53</td>\n",
              "      <td>Private</td>\n",
              "      <td>234721</td>\n",
              "      <td>11th</td>\n",
              "      <td>7</td>\n",
              "      <td>Married-civ-spouse</td>\n",
              "      <td>Handlers-cleaners</td>\n",
              "      <td>Husband</td>\n",
              "      <td>Black</td>\n",
              "      <td>Male</td>\n",
              "      <td>0</td>\n",
              "      <td>0</td>\n",
              "      <td>40</td>\n",
              "      <td>United-States</td>\n",
              "      <td>20462</td>\n",
              "    </tr>\n",
              "    <tr>\n",
              "      <th>3</th>\n",
              "      <td>28</td>\n",
              "      <td>Private</td>\n",
              "      <td>338409</td>\n",
              "      <td>Bachelors</td>\n",
              "      <td>13</td>\n",
              "      <td>Married-civ-spouse</td>\n",
              "      <td>Prof-specialty</td>\n",
              "      <td>Wife</td>\n",
              "      <td>Black</td>\n",
              "      <td>Female</td>\n",
              "      <td>0</td>\n",
              "      <td>0</td>\n",
              "      <td>40</td>\n",
              "      <td>Cuba</td>\n",
              "      <td>22867</td>\n",
              "    </tr>\n",
              "    <tr>\n",
              "      <th>4</th>\n",
              "      <td>37</td>\n",
              "      <td>Private</td>\n",
              "      <td>284582</td>\n",
              "      <td>Masters</td>\n",
              "      <td>14</td>\n",
              "      <td>Married-civ-spouse</td>\n",
              "      <td>Exec-managerial</td>\n",
              "      <td>Wife</td>\n",
              "      <td>White</td>\n",
              "      <td>Female</td>\n",
              "      <td>0</td>\n",
              "      <td>0</td>\n",
              "      <td>40</td>\n",
              "      <td>United-States</td>\n",
              "      <td>25853</td>\n",
              "    </tr>\n",
              "  </tbody>\n",
              "</table>\n",
              "</div>\n",
              "      <button class=\"colab-df-convert\" onclick=\"convertToInteractive('df-ef5ab95b-b030-4fa3-826e-9ce6a3146990')\"\n",
              "              title=\"Convert this dataframe to an interactive table.\"\n",
              "              style=\"display:none;\">\n",
              "        \n",
              "  <svg xmlns=\"http://www.w3.org/2000/svg\" height=\"24px\"viewBox=\"0 0 24 24\"\n",
              "       width=\"24px\">\n",
              "    <path d=\"M0 0h24v24H0V0z\" fill=\"none\"/>\n",
              "    <path d=\"M18.56 5.44l.94 2.06.94-2.06 2.06-.94-2.06-.94-.94-2.06-.94 2.06-2.06.94zm-11 1L8.5 8.5l.94-2.06 2.06-.94-2.06-.94L8.5 2.5l-.94 2.06-2.06.94zm10 10l.94 2.06.94-2.06 2.06-.94-2.06-.94-.94-2.06-.94 2.06-2.06.94z\"/><path d=\"M17.41 7.96l-1.37-1.37c-.4-.4-.92-.59-1.43-.59-.52 0-1.04.2-1.43.59L10.3 9.45l-7.72 7.72c-.78.78-.78 2.05 0 2.83L4 21.41c.39.39.9.59 1.41.59.51 0 1.02-.2 1.41-.59l7.78-7.78 2.81-2.81c.8-.78.8-2.07 0-2.86zM5.41 20L4 18.59l7.72-7.72 1.47 1.35L5.41 20z\"/>\n",
              "  </svg>\n",
              "      </button>\n",
              "      \n",
              "  <style>\n",
              "    .colab-df-container {\n",
              "      display:flex;\n",
              "      flex-wrap:wrap;\n",
              "      gap: 12px;\n",
              "    }\n",
              "\n",
              "    .colab-df-convert {\n",
              "      background-color: #E8F0FE;\n",
              "      border: none;\n",
              "      border-radius: 50%;\n",
              "      cursor: pointer;\n",
              "      display: none;\n",
              "      fill: #1967D2;\n",
              "      height: 32px;\n",
              "      padding: 0 0 0 0;\n",
              "      width: 32px;\n",
              "    }\n",
              "\n",
              "    .colab-df-convert:hover {\n",
              "      background-color: #E2EBFA;\n",
              "      box-shadow: 0px 1px 2px rgba(60, 64, 67, 0.3), 0px 1px 3px 1px rgba(60, 64, 67, 0.15);\n",
              "      fill: #174EA6;\n",
              "    }\n",
              "\n",
              "    [theme=dark] .colab-df-convert {\n",
              "      background-color: #3B4455;\n",
              "      fill: #D2E3FC;\n",
              "    }\n",
              "\n",
              "    [theme=dark] .colab-df-convert:hover {\n",
              "      background-color: #434B5C;\n",
              "      box-shadow: 0px 1px 3px 1px rgba(0, 0, 0, 0.15);\n",
              "      filter: drop-shadow(0px 1px 2px rgba(0, 0, 0, 0.3));\n",
              "      fill: #FFFFFF;\n",
              "    }\n",
              "  </style>\n",
              "\n",
              "      <script>\n",
              "        const buttonEl =\n",
              "          document.querySelector('#df-ef5ab95b-b030-4fa3-826e-9ce6a3146990 button.colab-df-convert');\n",
              "        buttonEl.style.display =\n",
              "          google.colab.kernel.accessAllowed ? 'block' : 'none';\n",
              "\n",
              "        async function convertToInteractive(key) {\n",
              "          const element = document.querySelector('#df-ef5ab95b-b030-4fa3-826e-9ce6a3146990');\n",
              "          const dataTable =\n",
              "            await google.colab.kernel.invokeFunction('convertToInteractive',\n",
              "                                                     [key], {});\n",
              "          if (!dataTable) return;\n",
              "\n",
              "          const docLinkHtml = 'Like what you see? Visit the ' +\n",
              "            '<a target=\"_blank\" href=https://colab.research.google.com/notebooks/data_table.ipynb>data table notebook</a>'\n",
              "            + ' to learn more about interactive tables.';\n",
              "          element.innerHTML = '';\n",
              "          dataTable['output_type'] = 'display_data';\n",
              "          await google.colab.output.renderOutput(dataTable, element);\n",
              "          const docLink = document.createElement('div');\n",
              "          docLink.innerHTML = docLinkHtml;\n",
              "          element.appendChild(docLink);\n",
              "        }\n",
              "      </script>\n",
              "    </div>\n",
              "  </div>\n",
              "  "
            ]
          },
          "metadata": {},
          "execution_count": 15
        }
      ],
      "source": [
        "df.head()"
      ]
    },
    {
      "cell_type": "markdown",
      "metadata": {
        "id": "m9YEb4kasaFM"
      },
      "source": [
        "## Exercise \n",
        "\n",
        "**Write a function that generates a random sample from a Laplace distribution with scale $b$.**\n",
        "\n",
        "**Hint: You can use numpy.random or learn more about how to generate noises [here](https://en.wikipedia.org/wiki/Inverse_transform_sampling).**"
      ]
    },
    {
      "cell_type": "code",
      "execution_count": 16,
      "metadata": {
        "id": "pUPyzclMsaFM"
      },
      "outputs": [],
      "source": [
        "def simlap(n, b):\n",
        "    \"\"\"\n",
        "    :param     n: The number of samples to draw\n",
        "    :param     b: Scale of the distribution.\n",
        "    :    returns: a vector of size n with noises sample from laplace dristribution.\n",
        "    \"\"\"\n",
        "    liste=[]\n",
        "    for i in range(n):\n",
        "# the noise does not depend on the numerical value in input, (compared to the diagram seen previously)      \n",
        "      liste.append(np.random.laplace(loc=0.0, scale=b ))\n",
        "    return liste"
      ]
    },
    {
      "cell_type": "markdown",
      "source": [
        "b takes into account epsilon and Delta (the span of the feature).\n",
        "We return a list of \"noises\" that must then be added to the original dataset"
      ],
      "metadata": {
        "id": "8f3l8lPiFyX5"
      }
    },
    {
      "cell_type": "markdown",
      "source": [
        "We now plot the histogram of the sampled noise against the density of a laplace distribution to check if they match."
      ],
      "metadata": {
        "id": "jKaq1FzMHByZ"
      }
    },
    {
      "cell_type": "code",
      "execution_count": 17,
      "metadata": {
        "colab": {
          "base_uri": "https://localhost:8080/",
          "height": 265
        },
        "id": "bBQjdJBosaFM",
        "outputId": "623e5507-4b91-471c-fce8-d2614deba71a"
      },
      "outputs": [
        {
          "output_type": "display_data",
          "data": {
            "text/plain": [
              "<Figure size 432x288 with 1 Axes>"
            ],
            "image/png": "[encoded data removed]"
          },
          "metadata": {
            "needs_background": "light"
          }
        }
      ],
      "source": [
        "epsilon = df['income-numerical'].mean()\n",
        "income_max = df['income-numerical'].max()\n",
        "income_min = df['income-numerical'].min()\n",
        "delta = income_max - income_min\n",
        "#b=8*epsilon/delta  \n",
        "b=1*epsilon/delta  \n",
        "\n",
        "#b=1\n",
        "# b contains epsilon and delta\n",
        "n=1000\n",
        "\n",
        "l = simlap(n,b)\n",
        "plt.hist(l,  density=True, bins=[float(i)/2 for i in range(-20,21)])\n",
        "\n",
        "laplace = lambda x, b: 1/(2*b)*np.exp(-np.abs(x)/b)\n",
        "\n",
        "x = np.linspace(-10, 10, 1000)\n",
        "\n",
        "plt.plot(x, laplace(x, b));"
      ]
    },
    {
      "cell_type": "markdown",
      "metadata": {
        "id": "fpMuWRsMsaFM"
      },
      "source": [
        "## Exercise\n",
        "\n",
        "**Now apply Laplace mechanism to the \"income-numerical\" column of the adult dataset to obtain a differentially private dataset with $\\epsilon =1$.**"
      ]
    },
    {
      "cell_type": "code",
      "execution_count": 18,
      "metadata": {
        "id": "vVw0LM32saFM",
        "colab": {
          "base_uri": "https://localhost:8080/"
        },
        "outputId": "35add512-91b7-4894-d7ba-65ca47eef668"
      },
      "outputs": [
        {
          "output_type": "stream",
          "name": "stdout",
          "text": [
            "1\n"
          ]
        }
      ],
      "source": [
        "import numpy as np\n",
        "\n",
        "epsilon=1\n",
        "Delta=df['income-numerical'].max() - df['income-numerical'].min()\n",
        "b=epsilon\n",
        "#b= epsilon # c'est le scale\n",
        "print(b)\n",
        "df[\n",
        "    'Laplace_bruit'] = df[\n",
        "        'income-numerical'].apply(\n",
        "            lambda x : np.random.laplace(loc=0, scale=b) )\n",
        "\"\"\"\n",
        "Liste_bruits=[]\n",
        "for i, j in enumerate(df['income-numerical']):\n",
        "  Liste_bruits.append(np.random.laplace(loc=0, scale=b))\n",
        "Liste_bruits= np.array(Liste_bruits)\n",
        "\"\"\"\n",
        "df['income_dp'] = df['income-numerical'] + df['Laplace_bruit']"
      ]
    },
    {
      "cell_type": "markdown",
      "metadata": {
        "id": "HbECNGoRsaFM"
      },
      "source": [
        "## Exercise\n",
        "\n",
        "**Compare a few of the lines from the private and non private columns. Would you say the data would still be useful for a statistical analysis? Compute the mean of each columns and discuss.**"
      ]
    },
    {
      "cell_type": "code",
      "execution_count": 19,
      "metadata": {
        "id": "qcRlGkpRsaFN",
        "colab": {
          "base_uri": "https://localhost:8080/",
          "height": 372
        },
        "outputId": "d342e86a-6b8f-4536-e4fa-e33bc6f2a020"
      },
      "outputs": [
        {
          "output_type": "execute_result",
          "data": {
            "text/plain": [
              "   age          workclass  fnlwgt   education  education-num  \\\n",
              "0   50   Self-emp-not-inc   83311   Bachelors             13   \n",
              "1   38            Private  215646     HS-grad              9   \n",
              "2   53            Private  234721        11th              7   \n",
              "3   28            Private  338409   Bachelors             13   \n",
              "4   37            Private  284582     Masters             14   \n",
              "\n",
              "        marital-status          occupation    relationship    race      sex  \\\n",
              "0   Married-civ-spouse     Exec-managerial         Husband   White     Male   \n",
              "1             Divorced   Handlers-cleaners   Not-in-family   White     Male   \n",
              "2   Married-civ-spouse   Handlers-cleaners         Husband   Black     Male   \n",
              "3   Married-civ-spouse      Prof-specialty            Wife   Black   Female   \n",
              "4   Married-civ-spouse     Exec-managerial            Wife   White   Female   \n",
              "\n",
              "   capital-gain  capital-loss  hours-per-week  native-country  \\\n",
              "0             0             0              13   United-States   \n",
              "1             0             0              40   United-States   \n",
              "2             0             0              40   United-States   \n",
              "3             0             0              40            Cuba   \n",
              "4             0             0              40   United-States   \n",
              "\n",
              "   income-numerical  Laplace_bruit     income_dp  \n",
              "0             21467       3.457458  21470.457458  \n",
              "1             33405       0.147755  33405.147755  \n",
              "2             20462       1.108379  20463.108379  \n",
              "3             22867      -1.321340  22865.678660  \n",
              "4             25853       4.856084  25857.856084  "
            ],
            "text/html": [
              "\n",
              "  <div id=\"df-f267b9ca-96b3-4278-a8d0-467bd4522ede\">\n",
              "    <div class=\"colab-df-container\">\n",
              "      <div>\n",
              "<style scoped>\n",
              "    .dataframe tbody tr th:only-of-type {\n",
              "        vertical-align: middle;\n",
              "    }\n",
              "\n",
              "    .dataframe tbody tr th {\n",
              "        vertical-align: top;\n",
              "    }\n",
              "\n",
              "    .dataframe thead th {\n",
              "        text-align: right;\n",
              "    }\n",
              "</style>\n",
              "<table border=\"1\" class=\"dataframe\">\n",
              "  <thead>\n",
              "    <tr style=\"text-align: right;\">\n",
              "      <th></th>\n",
              "      <th>age</th>\n",
              "      <th>workclass</th>\n",
              "      <th>fnlwgt</th>\n",
              "      <th>education</th>\n",
              "      <th>education-num</th>\n",
              "      <th>marital-status</th>\n",
              "      <th>occupation</th>\n",
              "      <th>relationship</th>\n",
              "      <th>race</th>\n",
              "      <th>sex</th>\n",
              "      <th>capital-gain</th>\n",
              "      <th>capital-loss</th>\n",
              "      <th>hours-per-week</th>\n",
              "      <th>native-country</th>\n",
              "      <th>income-numerical</th>\n",
              "      <th>Laplace_bruit</th>\n",
              "      <th>income_dp</th>\n",
              "    </tr>\n",
              "  </thead>\n",
              "  <tbody>\n",
              "    <tr>\n",
              "      <th>0</th>\n",
              "      <td>50</td>\n",
              "      <td>Self-emp-not-inc</td>\n",
              "      <td>83311</td>\n",
              "      <td>Bachelors</td>\n",
              "      <td>13</td>\n",
              "      <td>Married-civ-spouse</td>\n",
              "      <td>Exec-managerial</td>\n",
              "      <td>Husband</td>\n",
              "      <td>White</td>\n",
              "      <td>Male</td>\n",
              "      <td>0</td>\n",
              "      <td>0</td>\n",
              "      <td>13</td>\n",
              "      <td>United-States</td>\n",
              "      <td>21467</td>\n",
              "      <td>3.457458</td>\n",
              "      <td>21470.457458</td>\n",
              "    </tr>\n",
              "    <tr>\n",
              "      <th>1</th>\n",
              "      <td>38</td>\n",
              "      <td>Private</td>\n",
              "      <td>215646</td>\n",
              "      <td>HS-grad</td>\n",
              "      <td>9</td>\n",
              "      <td>Divorced</td>\n",
              "      <td>Handlers-cleaners</td>\n",
              "      <td>Not-in-family</td>\n",
              "      <td>White</td>\n",
              "      <td>Male</td>\n",
              "      <td>0</td>\n",
              "      <td>0</td>\n",
              "      <td>40</td>\n",
              "      <td>United-States</td>\n",
              "      <td>33405</td>\n",
              "      <td>0.147755</td>\n",
              "      <td>33405.147755</td>\n",
              "    </tr>\n",
              "    <tr>\n",
              "      <th>2</th>\n",
              "      <td>53</td>\n",
              "      <td>Private</td>\n",
              "      <td>234721</td>\n",
              "      <td>11th</td>\n",
              "      <td>7</td>\n",
              "      <td>Married-civ-spouse</td>\n",
              "      <td>Handlers-cleaners</td>\n",
              "      <td>Husband</td>\n",
              "      <td>Black</td>\n",
              "      <td>Male</td>\n",
              "      <td>0</td>\n",
              "      <td>0</td>\n",
              "      <td>40</td>\n",
              "      <td>United-States</td>\n",
              "      <td>20462</td>\n",
              "      <td>1.108379</td>\n",
              "      <td>20463.108379</td>\n",
              "    </tr>\n",
              "    <tr>\n",
              "      <th>3</th>\n",
              "      <td>28</td>\n",
              "      <td>Private</td>\n",
              "      <td>338409</td>\n",
              "      <td>Bachelors</td>\n",
              "      <td>13</td>\n",
              "      <td>Married-civ-spouse</td>\n",
              "      <td>Prof-specialty</td>\n",
              "      <td>Wife</td>\n",
              "      <td>Black</td>\n",
              "      <td>Female</td>\n",
              "      <td>0</td>\n",
              "      <td>0</td>\n",
              "      <td>40</td>\n",
              "      <td>Cuba</td>\n",
              "      <td>22867</td>\n",
              "      <td>-1.321340</td>\n",
              "      <td>22865.678660</td>\n",
              "    </tr>\n",
              "    <tr>\n",
              "      <th>4</th>\n",
              "      <td>37</td>\n",
              "      <td>Private</td>\n",
              "      <td>284582</td>\n",
              "      <td>Masters</td>\n",
              "      <td>14</td>\n",
              "      <td>Married-civ-spouse</td>\n",
              "      <td>Exec-managerial</td>\n",
              "      <td>Wife</td>\n",
              "      <td>White</td>\n",
              "      <td>Female</td>\n",
              "      <td>0</td>\n",
              "      <td>0</td>\n",
              "      <td>40</td>\n",
              "      <td>United-States</td>\n",
              "      <td>25853</td>\n",
              "      <td>4.856084</td>\n",
              "      <td>25857.856084</td>\n",
              "    </tr>\n",
              "  </tbody>\n",
              "</table>\n",
              "</div>\n",
              "      <button class=\"colab-df-convert\" onclick=\"convertToInteractive('df-f267b9ca-96b3-4278-a8d0-467bd4522ede')\"\n",
              "              title=\"Convert this dataframe to an interactive table.\"\n",
              "              style=\"display:none;\">\n",
              "        \n",
              "  <svg xmlns=\"http://www.w3.org/2000/svg\" height=\"24px\"viewBox=\"0 0 24 24\"\n",
              "       width=\"24px\">\n",
              "    <path d=\"M0 0h24v24H0V0z\" fill=\"none\"/>\n",
              "    <path d=\"M18.56 5.44l.94 2.06.94-2.06 2.06-.94-2.06-.94-.94-2.06-.94 2.06-2.06.94zm-11 1L8.5 8.5l.94-2.06 2.06-.94-2.06-.94L8.5 2.5l-.94 2.06-2.06.94zm10 10l.94 2.06.94-2.06 2.06-.94-2.06-.94-.94-2.06-.94 2.06-2.06.94z\"/><path d=\"M17.41 7.96l-1.37-1.37c-.4-.4-.92-.59-1.43-.59-.52 0-1.04.2-1.43.59L10.3 9.45l-7.72 7.72c-.78.78-.78 2.05 0 2.83L4 21.41c.39.39.9.59 1.41.59.51 0 1.02-.2 1.41-.59l7.78-7.78 2.81-2.81c.8-.78.8-2.07 0-2.86zM5.41 20L4 18.59l7.72-7.72 1.47 1.35L5.41 20z\"/>\n",
              "  </svg>\n",
              "      </button>\n",
              "      \n",
              "  <style>\n",
              "    .colab-df-container {\n",
              "      display:flex;\n",
              "      flex-wrap:wrap;\n",
              "      gap: 12px;\n",
              "    }\n",
              "\n",
              "    .colab-df-convert {\n",
              "      background-color: #E8F0FE;\n",
              "      border: none;\n",
              "      border-radius: 50%;\n",
              "      cursor: pointer;\n",
              "      display: none;\n",
              "      fill: #1967D2;\n",
              "      height: 32px;\n",
              "      padding: 0 0 0 0;\n",
              "      width: 32px;\n",
              "    }\n",
              "\n",
              "    .colab-df-convert:hover {\n",
              "      background-color: #E2EBFA;\n",
              "      box-shadow: 0px 1px 2px rgba(60, 64, 67, 0.3), 0px 1px 3px 1px rgba(60, 64, 67, 0.15);\n",
              "      fill: #174EA6;\n",
              "    }\n",
              "\n",
              "    [theme=dark] .colab-df-convert {\n",
              "      background-color: #3B4455;\n",
              "      fill: #D2E3FC;\n",
              "    }\n",
              "\n",
              "    [theme=dark] .colab-df-convert:hover {\n",
              "      background-color: #434B5C;\n",
              "      box-shadow: 0px 1px 3px 1px rgba(0, 0, 0, 0.15);\n",
              "      filter: drop-shadow(0px 1px 2px rgba(0, 0, 0, 0.3));\n",
              "      fill: #FFFFFF;\n",
              "    }\n",
              "  </style>\n",
              "\n",
              "      <script>\n",
              "        const buttonEl =\n",
              "          document.querySelector('#df-f267b9ca-96b3-4278-a8d0-467bd4522ede button.colab-df-convert');\n",
              "        buttonEl.style.display =\n",
              "          google.colab.kernel.accessAllowed ? 'block' : 'none';\n",
              "\n",
              "        async function convertToInteractive(key) {\n",
              "          const element = document.querySelector('#df-f267b9ca-96b3-4278-a8d0-467bd4522ede');\n",
              "          const dataTable =\n",
              "            await google.colab.kernel.invokeFunction('convertToInteractive',\n",
              "                                                     [key], {});\n",
              "          if (!dataTable) return;\n",
              "\n",
              "          const docLinkHtml = 'Like what you see? Visit the ' +\n",
              "            '<a target=\"_blank\" href=https://colab.research.google.com/notebooks/data_table.ipynb>data table notebook</a>'\n",
              "            + ' to learn more about interactive tables.';\n",
              "          element.innerHTML = '';\n",
              "          dataTable['output_type'] = 'display_data';\n",
              "          await google.colab.output.renderOutput(dataTable, element);\n",
              "          const docLink = document.createElement('div');\n",
              "          docLink.innerHTML = docLinkHtml;\n",
              "          element.appendChild(docLink);\n",
              "        }\n",
              "      </script>\n",
              "    </div>\n",
              "  </div>\n",
              "  "
            ]
          },
          "metadata": {},
          "execution_count": 19
        }
      ],
      "source": [
        "df.describe()\n",
        "\n",
        "df.head(5)"
      ]
    },
    {
      "cell_type": "code",
      "source": [
        "print(\"income-numerical mean = \", df[\"income-numerical\"].mean())\n",
        "print(\"income_dp mean = \", df[\"income_dp\"].mean())"
      ],
      "metadata": {
        "colab": {
          "base_uri": "https://localhost:8080/"
        },
        "id": "hDsRJwoMPXO_",
        "outputId": "424c180d-f51a-4dc4-a5ba-e5dd55467a96"
      },
      "execution_count": 23,
      "outputs": [
        {
          "output_type": "stream",
          "name": "stdout",
          "text": [
            "income-numerical mean =  36968.47587068242\n",
            "income_dp mean =  36968.48072970581\n"
          ]
        }
      ]
    },
    {
      "cell_type": "markdown",
      "source": [
        "We manage to calculate a noise for each numeric value.\n",
        "This noise seems weak and depends on delta (and epsilon), but not on the value itself. That would make the noise and the value Independent and identically distributed random variables.<br>\n",
        "We can see that the means of private and non private columns are identical, even if their rows aren't so the noise doesn't impact the mean.<br>\n",
        "We visualize that the distribution of the noise is normal. And The central limit theorem states that if you have a population with mean μ and standard deviation σ and take sufficiently large random samples from the population with replacement , then the distribution of the sample means will be approximately normally distributed. The i.i.d. assumption is also used in central limit theorem, which states that the probability distribution of the sum (or average) of i.i.d. variables with finite variance approaches a normal distribution.<br>\n",
        "Even if the sample comes from a more complex non-Gaussian distribution, we would say the data would still be useful for a statistical analysis because it can be simplified from the central limit theorem to Gaussian distribution. For a large number of observable samples, \"the sum of many random variables will have an approximately normal distribution\".<br>\n",
        "Indeed the accuracy of the model depends on the distribution of the features, not on the actual values (reason why we can standardize numerical values for example to have a better representation)."
      ],
      "metadata": {
        "id": "Ofpj6b02HyOh"
      }
    },
    {
      "cell_type": "markdown",
      "metadata": {
        "id": "yEIe9Vj6saFN"
      },
      "source": [
        "# Bonus: Noisy Histogram\n",
        "\n",
        "Read about the following [blog posts](https://desfontain.es/privacy/differential-privacy-awesomeness.html) (At least post 1 to 4). Can you compute a private histogram of the incomes of the dataset? "
      ]
    },
    {
      "cell_type": "code",
      "execution_count": 20,
      "metadata": {
        "id": "8OaOp6eVsaFN",
        "colab": {
          "base_uri": "https://localhost:8080/",
          "height": 285
        },
        "outputId": "11d90616-4aca-48d9-97f4-a763cac87ff1"
      },
      "outputs": [
        {
          "output_type": "execute_result",
          "data": {
            "text/plain": [
              "<matplotlib.legend.Legend at 0x7f9de9571dd0>"
            ]
          },
          "metadata": {},
          "execution_count": 20
        },
        {
          "output_type": "display_data",
          "data": {
            "text/plain": [
              "<Figure size 432x288 with 1 Axes>"
            ],
            "image/png": "[encoded data removed]"
          },
          "metadata": {
            "needs_background": "light"
          }
        }
      ],
      "source": [
        "# we will display the first 100 values (out of 488841) and the noisy value\n",
        "X=[i for i in range(0,100)]\n",
        "Y=df['income-numerical']\n",
        "Z=df['income_dp']\n",
        "W=df['Laplace_bruit']\n",
        "Y=Y[0:100]\n",
        "Z=Z[0:100]\n",
        "W=W[0:100]\n",
        "\n",
        "\n",
        "plt.figure()\n",
        "plt.plot(X,Y, c='red', label='income')\n",
        "plt.legend()"
      ]
    },
    {
      "cell_type": "code",
      "source": [
        "plt.plot(X,Z,c='blue', label='noisy income')\n",
        "plt.legend()"
      ],
      "metadata": {
        "colab": {
          "base_uri": "https://localhost:8080/",
          "height": 285
        },
        "id": "pqkjPw2C8jMJ",
        "outputId": "75cee60f-4629-4224-a8f5-679974bd16dd"
      },
      "execution_count": 21,
      "outputs": [
        {
          "output_type": "execute_result",
          "data": {
            "text/plain": [
              "<matplotlib.legend.Legend at 0x7f9de957c410>"
            ]
          },
          "metadata": {},
          "execution_count": 21
        },
        {
          "output_type": "display_data",
          "data": {
            "text/plain": [
              "<Figure size 432x288 with 1 Axes>"
            ],
            "image/png": "[encoded data removed]"
          },
          "metadata": {
            "needs_background": "light"
          }
        }
      ]
    },
    {
      "cell_type": "code",
      "source": [
        "plt.plot(X,W,c='black', label='isolated noise')\n",
        "plt.legend()"
      ],
      "metadata": {
        "colab": {
          "base_uri": "https://localhost:8080/",
          "height": 282
        },
        "id": "pkxWCA868c_L",
        "outputId": "372b04c8-1d7c-4dfd-ddb3-d1a361a3f6d4"
      },
      "execution_count": 22,
      "outputs": [
        {
          "output_type": "execute_result",
          "data": {
            "text/plain": [
              "<matplotlib.legend.Legend at 0x7f9de9556a50>"
            ]
          },
          "metadata": {},
          "execution_count": 22
        },
        {
          "output_type": "display_data",
          "data": {
            "text/plain": [
              "<Figure size 432x288 with 1 Axes>"
            ],
            "image/png": "[encoded data removed]"
          },
          "metadata": {
            "needs_background": "light"
          }
        }
      ]
    },
    {
      "cell_type": "markdown",
      "source": [
        "The first two curves represent the income and noisy income.<br>\n",
        "The third curve represents noise. Values are indeed between -5 and +5 regardless of the true income."
      ],
      "metadata": {
        "id": "yHbLPpxzest1"
      }
    }
  ],
  "metadata": {
    "kernelspec": {
      "display_name": "Python 3",
      "language": "python",
      "name": "python3"
    },
    "language_info": {
      "codemirror_mode": {
        "name": "ipython",
        "version": 3
      },
      "file_extension": ".py",
      "mimetype": "text/x-python",
      "name": "python",
      "nbconvert_exporter": "python",
      "pygments_lexer": "ipython3",
      "version": "3.7.4"
    },
    "colab": {
      "provenance": [],
      "collapsed_sections": [
        "hk-PC5j2saFB",
        "WGc0tQuBsaFF",
        "SipJjIyIsaFG",
        "SuXihD0_saFH",
        "jAwYtowosaFH",
        "X9as93p7saFH",
        "NV3XeADosaFI",
        "GvvKPOySsaFI",
        "SpkNSj2BsaFJ",
        "n4-lT0otsaFJ",
        "xYlBuH_xsaFJ",
        "nmcslW-osaFJ",
        "ZuqlFcAQsaFK",
        "KBmrwKEvsaFK",
        "E5C9yQsTsaFK",
        "txoxnlm9saFL"
      ],
      "include_colab_link": true
    }
  },
  "nbformat": 4,
  "nbformat_minor": 0
}