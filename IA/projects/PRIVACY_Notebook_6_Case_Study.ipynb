{
  "cells": [
    {
      "cell_type": "markdown",
      "metadata": {
        "id": "view-in-github",
        "colab_type": "text"
      },
      "source": [
        "<a href=\"https://colab.research.google.com/github/neohack22/IASD/blob/IA/IA/projects/PRIVACY_Notebook_6_Case_Study.ipynb\" target=\"_parent\"><img src=\"https://colab.research.google.com/assets/colab-badge.svg\" alt=\"Open In Colab\"/></a>"
      ]
    },
    {
      "cell_type": "markdown",
      "metadata": {
        "id": "hjlreHhIGmTx"
      },
      "source": [
        "# Case Study - Health Care dataset\n",
        "\n",
        "In this notebook, we'll explore the possibilties for data privacy on a new dataset.\n",
        "Your challenge is that you are working with a health care provider, who would like to do the \"machine learning\" on this dataset to figure out if there are preventative measures that can be taken so fewer patients are seen in the hospital for related care or so that their visits are shorter, to do so you might want to predict the **has_diabetes** according to the features at hand. The goal is that more potentially affected patients are given access to primary care physicians and regular medication or visits that can keep them out of the hostpital for long stays."
      ]
    },
    {
      "cell_type": "markdown",
      "metadata": {
        "id": "MGPIcM6fGmTz"
      },
      "source": [
        "## Part One: Determining What's Useful and What's Sensitive\n",
        "\n",
        "- Data completeness\n",
        "- Potential sensitive columns\n",
        "- Potential useful features\n",
        "- What columns should we use? \n",
        "- Which ones should we remove?\n",
        "- Are there columns which we should protect but not remove? \n",
        "\n",
        "For each, we need some justification or thought!"
      ]
    },
    {
      "cell_type": "code",
      "execution_count": 1,
      "metadata": {
        "id": "yMGLgYx-GmT0",
        "colab": {
          "base_uri": "https://localhost:8080/",
          "height": 1000
        },
        "collapsed": true,
        "cellView": "form",
        "outputId": "84847513-d0b6-4e75-cd20-3645cea543ff"
      },
      "outputs": [
        {
          "output_type": "error",
          "ename": "FileNotFoundError",
          "evalue": "ignored",
          "traceback": [
            "\u001b[0;31m---------------------------------------------------------------------------\u001b[0m",
            "\u001b[0;31mFileNotFoundError\u001b[0m                         Traceback (most recent call last)",
            "\u001b[0;32m<ipython-input-1-e2e2131d0fd9>\u001b[0m in \u001b[0;36m<module>\u001b[0;34m\u001b[0m\n\u001b[1;32m      2\u001b[0m \u001b[0;32mimport\u001b[0m \u001b[0mpandas\u001b[0m \u001b[0;32mas\u001b[0m \u001b[0mpd\u001b[0m\u001b[0;34m\u001b[0m\u001b[0;34m\u001b[0m\u001b[0m\n\u001b[1;32m      3\u001b[0m \u001b[0;34m\u001b[0m\u001b[0m\n\u001b[0;32m----> 4\u001b[0;31m \u001b[0mdf\u001b[0m \u001b[0;34m=\u001b[0m \u001b[0mpd\u001b[0m\u001b[0;34m.\u001b[0m\u001b[0mread_csv\u001b[0m\u001b[0;34m(\u001b[0m\u001b[0;34m'health_data.csv'\u001b[0m\u001b[0;34m)\u001b[0m\u001b[0;34m\u001b[0m\u001b[0;34m\u001b[0m\u001b[0m\n\u001b[0m",
            "\u001b[0;32m/usr/local/lib/python3.7/dist-packages/pandas/util/_decorators.py\u001b[0m in \u001b[0;36mwrapper\u001b[0;34m(*args, **kwargs)\u001b[0m\n\u001b[1;32m    309\u001b[0m                     \u001b[0mstacklevel\u001b[0m\u001b[0;34m=\u001b[0m\u001b[0mstacklevel\u001b[0m\u001b[0;34m,\u001b[0m\u001b[0;34m\u001b[0m\u001b[0;34m\u001b[0m\u001b[0m\n\u001b[1;32m    310\u001b[0m                 )\n\u001b[0;32m--> 311\u001b[0;31m             \u001b[0;32mreturn\u001b[0m \u001b[0mfunc\u001b[0m\u001b[0;34m(\u001b[0m\u001b[0;34m*\u001b[0m\u001b[0margs\u001b[0m\u001b[0;34m,\u001b[0m \u001b[0;34m**\u001b[0m\u001b[0mkwargs\u001b[0m\u001b[0;34m)\u001b[0m\u001b[0;34m\u001b[0m\u001b[0;34m\u001b[0m\u001b[0m\n\u001b[0m\u001b[1;32m    312\u001b[0m \u001b[0;34m\u001b[0m\u001b[0m\n\u001b[1;32m    313\u001b[0m         \u001b[0;32mreturn\u001b[0m \u001b[0mwrapper\u001b[0m\u001b[0;34m\u001b[0m\u001b[0;34m\u001b[0m\u001b[0m\n",
            "\u001b[0;32m/usr/local/lib/python3.7/dist-packages/pandas/io/parsers/readers.py\u001b[0m in \u001b[0;36mread_csv\u001b[0;34m(filepath_or_buffer, sep, delimiter, header, names, index_col, usecols, squeeze, prefix, mangle_dupe_cols, dtype, engine, converters, true_values, false_values, skipinitialspace, skiprows, skipfooter, nrows, na_values, keep_default_na, na_filter, verbose, skip_blank_lines, parse_dates, infer_datetime_format, keep_date_col, date_parser, dayfirst, cache_dates, iterator, chunksize, compression, thousands, decimal, lineterminator, quotechar, quoting, doublequote, escapechar, comment, encoding, encoding_errors, dialect, error_bad_lines, warn_bad_lines, on_bad_lines, delim_whitespace, low_memory, memory_map, float_precision, storage_options)\u001b[0m\n\u001b[1;32m    584\u001b[0m     \u001b[0mkwds\u001b[0m\u001b[0;34m.\u001b[0m\u001b[0mupdate\u001b[0m\u001b[0;34m(\u001b[0m\u001b[0mkwds_defaults\u001b[0m\u001b[0;34m)\u001b[0m\u001b[0;34m\u001b[0m\u001b[0;34m\u001b[0m\u001b[0m\n\u001b[1;32m    585\u001b[0m \u001b[0;34m\u001b[0m\u001b[0m\n\u001b[0;32m--> 586\u001b[0;31m     \u001b[0;32mreturn\u001b[0m \u001b[0m_read\u001b[0m\u001b[0;34m(\u001b[0m\u001b[0mfilepath_or_buffer\u001b[0m\u001b[0;34m,\u001b[0m \u001b[0mkwds\u001b[0m\u001b[0;34m)\u001b[0m\u001b[0;34m\u001b[0m\u001b[0;34m\u001b[0m\u001b[0m\n\u001b[0m\u001b[1;32m    587\u001b[0m \u001b[0;34m\u001b[0m\u001b[0m\n\u001b[1;32m    588\u001b[0m \u001b[0;34m\u001b[0m\u001b[0m\n",
            "\u001b[0;32m/usr/local/lib/python3.7/dist-packages/pandas/io/parsers/readers.py\u001b[0m in \u001b[0;36m_read\u001b[0;34m(filepath_or_buffer, kwds)\u001b[0m\n\u001b[1;32m    480\u001b[0m \u001b[0;34m\u001b[0m\u001b[0m\n\u001b[1;32m    481\u001b[0m     \u001b[0;31m# Create the parser.\u001b[0m\u001b[0;34m\u001b[0m\u001b[0;34m\u001b[0m\u001b[0;34m\u001b[0m\u001b[0m\n\u001b[0;32m--> 482\u001b[0;31m     \u001b[0mparser\u001b[0m \u001b[0;34m=\u001b[0m \u001b[0mTextFileReader\u001b[0m\u001b[0;34m(\u001b[0m\u001b[0mfilepath_or_buffer\u001b[0m\u001b[0;34m,\u001b[0m \u001b[0;34m**\u001b[0m\u001b[0mkwds\u001b[0m\u001b[0;34m)\u001b[0m\u001b[0;34m\u001b[0m\u001b[0;34m\u001b[0m\u001b[0m\n\u001b[0m\u001b[1;32m    483\u001b[0m \u001b[0;34m\u001b[0m\u001b[0m\n\u001b[1;32m    484\u001b[0m     \u001b[0;32mif\u001b[0m \u001b[0mchunksize\u001b[0m \u001b[0;32mor\u001b[0m \u001b[0miterator\u001b[0m\u001b[0;34m:\u001b[0m\u001b[0;34m\u001b[0m\u001b[0;34m\u001b[0m\u001b[0m\n",
            "\u001b[0;32m/usr/local/lib/python3.7/dist-packages/pandas/io/parsers/readers.py\u001b[0m in \u001b[0;36m__init__\u001b[0;34m(self, f, engine, **kwds)\u001b[0m\n\u001b[1;32m    809\u001b[0m             \u001b[0mself\u001b[0m\u001b[0;34m.\u001b[0m\u001b[0moptions\u001b[0m\u001b[0;34m[\u001b[0m\u001b[0;34m\"has_index_names\"\u001b[0m\u001b[0;34m]\u001b[0m \u001b[0;34m=\u001b[0m \u001b[0mkwds\u001b[0m\u001b[0;34m[\u001b[0m\u001b[0;34m\"has_index_names\"\u001b[0m\u001b[0;34m]\u001b[0m\u001b[0;34m\u001b[0m\u001b[0;34m\u001b[0m\u001b[0m\n\u001b[1;32m    810\u001b[0m \u001b[0;34m\u001b[0m\u001b[0m\n\u001b[0;32m--> 811\u001b[0;31m         \u001b[0mself\u001b[0m\u001b[0;34m.\u001b[0m\u001b[0m_engine\u001b[0m \u001b[0;34m=\u001b[0m \u001b[0mself\u001b[0m\u001b[0;34m.\u001b[0m\u001b[0m_make_engine\u001b[0m\u001b[0;34m(\u001b[0m\u001b[0mself\u001b[0m\u001b[0;34m.\u001b[0m\u001b[0mengine\u001b[0m\u001b[0;34m)\u001b[0m\u001b[0;34m\u001b[0m\u001b[0;34m\u001b[0m\u001b[0m\n\u001b[0m\u001b[1;32m    812\u001b[0m \u001b[0;34m\u001b[0m\u001b[0m\n\u001b[1;32m    813\u001b[0m     \u001b[0;32mdef\u001b[0m \u001b[0mclose\u001b[0m\u001b[0;34m(\u001b[0m\u001b[0mself\u001b[0m\u001b[0;34m)\u001b[0m\u001b[0;34m:\u001b[0m\u001b[0;34m\u001b[0m\u001b[0;34m\u001b[0m\u001b[0m\n",
            "\u001b[0;32m/usr/local/lib/python3.7/dist-packages/pandas/io/parsers/readers.py\u001b[0m in \u001b[0;36m_make_engine\u001b[0;34m(self, engine)\u001b[0m\n\u001b[1;32m   1038\u001b[0m             )\n\u001b[1;32m   1039\u001b[0m         \u001b[0;31m# error: Too many arguments for \"ParserBase\"\u001b[0m\u001b[0;34m\u001b[0m\u001b[0;34m\u001b[0m\u001b[0;34m\u001b[0m\u001b[0m\n\u001b[0;32m-> 1040\u001b[0;31m         \u001b[0;32mreturn\u001b[0m \u001b[0mmapping\u001b[0m\u001b[0;34m[\u001b[0m\u001b[0mengine\u001b[0m\u001b[0;34m]\u001b[0m\u001b[0;34m(\u001b[0m\u001b[0mself\u001b[0m\u001b[0;34m.\u001b[0m\u001b[0mf\u001b[0m\u001b[0;34m,\u001b[0m \u001b[0;34m**\u001b[0m\u001b[0mself\u001b[0m\u001b[0;34m.\u001b[0m\u001b[0moptions\u001b[0m\u001b[0;34m)\u001b[0m  \u001b[0;31m# type: ignore[call-arg]\u001b[0m\u001b[0;34m\u001b[0m\u001b[0;34m\u001b[0m\u001b[0m\n\u001b[0m\u001b[1;32m   1041\u001b[0m \u001b[0;34m\u001b[0m\u001b[0m\n\u001b[1;32m   1042\u001b[0m     \u001b[0;32mdef\u001b[0m \u001b[0m_failover_to_python\u001b[0m\u001b[0;34m(\u001b[0m\u001b[0mself\u001b[0m\u001b[0;34m)\u001b[0m\u001b[0;34m:\u001b[0m\u001b[0;34m\u001b[0m\u001b[0;34m\u001b[0m\u001b[0m\n",
            "\u001b[0;32m/usr/local/lib/python3.7/dist-packages/pandas/io/parsers/c_parser_wrapper.py\u001b[0m in \u001b[0;36m__init__\u001b[0;34m(self, src, **kwds)\u001b[0m\n\u001b[1;32m     49\u001b[0m \u001b[0;34m\u001b[0m\u001b[0m\n\u001b[1;32m     50\u001b[0m         \u001b[0;31m# open handles\u001b[0m\u001b[0;34m\u001b[0m\u001b[0;34m\u001b[0m\u001b[0;34m\u001b[0m\u001b[0m\n\u001b[0;32m---> 51\u001b[0;31m         \u001b[0mself\u001b[0m\u001b[0;34m.\u001b[0m\u001b[0m_open_handles\u001b[0m\u001b[0;34m(\u001b[0m\u001b[0msrc\u001b[0m\u001b[0;34m,\u001b[0m \u001b[0mkwds\u001b[0m\u001b[0;34m)\u001b[0m\u001b[0;34m\u001b[0m\u001b[0;34m\u001b[0m\u001b[0m\n\u001b[0m\u001b[1;32m     52\u001b[0m         \u001b[0;32massert\u001b[0m \u001b[0mself\u001b[0m\u001b[0;34m.\u001b[0m\u001b[0mhandles\u001b[0m \u001b[0;32mis\u001b[0m \u001b[0;32mnot\u001b[0m \u001b[0;32mNone\u001b[0m\u001b[0;34m\u001b[0m\u001b[0;34m\u001b[0m\u001b[0m\n\u001b[1;32m     53\u001b[0m \u001b[0;34m\u001b[0m\u001b[0m\n",
            "\u001b[0;32m/usr/local/lib/python3.7/dist-packages/pandas/io/parsers/base_parser.py\u001b[0m in \u001b[0;36m_open_handles\u001b[0;34m(self, src, kwds)\u001b[0m\n\u001b[1;32m    227\u001b[0m             \u001b[0mmemory_map\u001b[0m\u001b[0;34m=\u001b[0m\u001b[0mkwds\u001b[0m\u001b[0;34m.\u001b[0m\u001b[0mget\u001b[0m\u001b[0;34m(\u001b[0m\u001b[0;34m\"memory_map\"\u001b[0m\u001b[0;34m,\u001b[0m \u001b[0;32mFalse\u001b[0m\u001b[0;34m)\u001b[0m\u001b[0;34m,\u001b[0m\u001b[0;34m\u001b[0m\u001b[0;34m\u001b[0m\u001b[0m\n\u001b[1;32m    228\u001b[0m             \u001b[0mstorage_options\u001b[0m\u001b[0;34m=\u001b[0m\u001b[0mkwds\u001b[0m\u001b[0;34m.\u001b[0m\u001b[0mget\u001b[0m\u001b[0;34m(\u001b[0m\u001b[0;34m\"storage_options\"\u001b[0m\u001b[0;34m,\u001b[0m \u001b[0;32mNone\u001b[0m\u001b[0;34m)\u001b[0m\u001b[0;34m,\u001b[0m\u001b[0;34m\u001b[0m\u001b[0;34m\u001b[0m\u001b[0m\n\u001b[0;32m--> 229\u001b[0;31m             \u001b[0merrors\u001b[0m\u001b[0;34m=\u001b[0m\u001b[0mkwds\u001b[0m\u001b[0;34m.\u001b[0m\u001b[0mget\u001b[0m\u001b[0;34m(\u001b[0m\u001b[0;34m\"encoding_errors\"\u001b[0m\u001b[0;34m,\u001b[0m \u001b[0;34m\"strict\"\u001b[0m\u001b[0;34m)\u001b[0m\u001b[0;34m,\u001b[0m\u001b[0;34m\u001b[0m\u001b[0;34m\u001b[0m\u001b[0m\n\u001b[0m\u001b[1;32m    230\u001b[0m         )\n\u001b[1;32m    231\u001b[0m \u001b[0;34m\u001b[0m\u001b[0m\n",
            "\u001b[0;32m/usr/local/lib/python3.7/dist-packages/pandas/io/common.py\u001b[0m in \u001b[0;36mget_handle\u001b[0;34m(path_or_buf, mode, encoding, compression, memory_map, is_text, errors, storage_options)\u001b[0m\n\u001b[1;32m    705\u001b[0m                 \u001b[0mencoding\u001b[0m\u001b[0;34m=\u001b[0m\u001b[0mioargs\u001b[0m\u001b[0;34m.\u001b[0m\u001b[0mencoding\u001b[0m\u001b[0;34m,\u001b[0m\u001b[0;34m\u001b[0m\u001b[0;34m\u001b[0m\u001b[0m\n\u001b[1;32m    706\u001b[0m                 \u001b[0merrors\u001b[0m\u001b[0;34m=\u001b[0m\u001b[0merrors\u001b[0m\u001b[0;34m,\u001b[0m\u001b[0;34m\u001b[0m\u001b[0;34m\u001b[0m\u001b[0m\n\u001b[0;32m--> 707\u001b[0;31m                 \u001b[0mnewline\u001b[0m\u001b[0;34m=\u001b[0m\u001b[0;34m\"\"\u001b[0m\u001b[0;34m,\u001b[0m\u001b[0;34m\u001b[0m\u001b[0;34m\u001b[0m\u001b[0m\n\u001b[0m\u001b[1;32m    708\u001b[0m             )\n\u001b[1;32m    709\u001b[0m         \u001b[0;32melse\u001b[0m\u001b[0;34m:\u001b[0m\u001b[0;34m\u001b[0m\u001b[0;34m\u001b[0m\u001b[0m\n",
            "\u001b[0;31mFileNotFoundError\u001b[0m: [Errno 2] No such file or directory: 'health_data.csv'"
          ]
        }
      ],
      "source": [
        "#@title\n",
        "%matplotlib inline\n",
        "import pandas as pd\n",
        "\n",
        "df = pd.read_csv('health_data.csv')"
      ]
    },
    {
      "cell_type": "code",
      "source": [
        "import numpy as np\n",
        "from matplotlib import rcParams"
      ],
      "metadata": {
        "id": "bG7Varl05CPM"
      },
      "execution_count": 11,
      "outputs": []
    },
    {
      "cell_type": "code",
      "source": [
        "from sklearn.preprocessing import StandardScaler\n",
        "from sklearn.model_selection import train_test_split"
      ],
      "metadata": {
        "id": "ujuz8xyWEGfN"
      },
      "execution_count": 31,
      "outputs": []
    },
    {
      "cell_type": "code",
      "source": [
        "from sklearn.decomposition import PCA"
      ],
      "metadata": {
        "id": "1ELfXi1EHaCc"
      },
      "execution_count": 36,
      "outputs": []
    },
    {
      "cell_type": "code",
      "source": [
        "#import sklearn\n",
        "from sklearn.linear_model import LogisticRegression"
      ],
      "metadata": {
        "id": "nFXWxspLDd0-"
      },
      "execution_count": 30,
      "outputs": []
    },
    {
      "cell_type": "code",
      "source": [
        "from sklearn.preprocessing import OneHotEncoder"
      ],
      "metadata": {
        "id": "5T94myK9OwkT"
      },
      "execution_count": 52,
      "outputs": []
    },
    {
      "cell_type": "code",
      "source": [
        "import matplotlib.pyplot as plt"
      ],
      "metadata": {
        "id": "kr-5eVKjZtMI"
      },
      "execution_count": 71,
      "outputs": []
    },
    {
      "cell_type": "code",
      "source": [
        "#@title\n",
        "%matplotlib inline\n",
        "import pandas as pd\n",
        "\n",
        "df = pd.read_csv('/content/health_data.csv')"
      ],
      "metadata": {
        "id": "zpLMFGohyQg0"
      },
      "execution_count": 2,
      "outputs": []
    },
    {
      "cell_type": "markdown",
      "source": [
        "### Data completeness"
      ],
      "metadata": {
        "id": "qGELVcxayqRS"
      }
    },
    {
      "cell_type": "code",
      "source": [
        "print(df.isna().sum().sum() / df.size * 100)"
      ],
      "metadata": {
        "colab": {
          "base_uri": "https://localhost:8080/"
        },
        "id": "NDCBS4vPysvD",
        "outputId": "35bc241d-b428-4ca8-bca5-10a779f003c0"
      },
      "execution_count": 3,
      "outputs": [
        {
          "output_type": "stream",
          "name": "stdout",
          "text": [
            "0.0\n"
          ]
        }
      ]
    },
    {
      "cell_type": "code",
      "source": [
        "df.isnull().any().any()"
      ],
      "metadata": {
        "colab": {
          "base_uri": "https://localhost:8080/"
        },
        "id": "7TMyrKXG_vBm",
        "outputId": "66ea8626-fc3a-4b14-d172-1a68922b3c47"
      },
      "execution_count": 20,
      "outputs": [
        {
          "output_type": "execute_result",
          "data": {
            "text/plain": [
              "False"
            ]
          },
          "metadata": {},
          "execution_count": 20
        }
      ]
    },
    {
      "cell_type": "markdown",
      "source": [
        "The data is complete as there are no null value nor missing value."
      ],
      "metadata": {
        "id": "iY5ZBKltzfCE"
      }
    },
    {
      "cell_type": "markdown",
      "source": [
        "### Potential sensitive columns"
      ],
      "metadata": {
        "id": "DSyXk3Jzzk5E"
      }
    },
    {
      "cell_type": "markdown",
      "source": [
        "We check for attributes that are not personally identifiable or quasi identifiable but still constitute data about the person that needs to be protected.<br>\n",
        "This could be for any number of reasons, such as salary information, a diagnosis of a disease, or the geolocation.\n"
      ],
      "metadata": {
        "id": "IdjWuMg20UBd"
      }
    },
    {
      "cell_type": "code",
      "source": [
        "for col in df:\n",
        "  print(col)"
      ],
      "metadata": {
        "colab": {
          "base_uri": "https://localhost:8080/"
        },
        "id": "mxwUOkzQ07wO",
        "outputId": "9148f0e9-7326-434a-cb1a-699e4ffa6a9d"
      },
      "execution_count": 9,
      "outputs": [
        {
          "output_type": "stream",
          "name": "stdout",
          "text": [
            "admitted_ts\n",
            "age\n",
            "ambulance_call\n",
            "blood_sugar_reading\n",
            "days_since_last_visit\n",
            "has_diabetes\n",
            "hospital\n",
            "hours_hospitalized\n",
            "hydration_level\n",
            "id\n",
            "insulin\n",
            "marital_status\n",
            "no_primary_dr\n",
            "patient_name\n",
            "private_insurance\n",
            "released_sameday\n",
            "ssn\n",
            "symptom_code\n"
          ]
        }
      ]
    },
    {
      "cell_type": "markdown",
      "source": [
        "admitted_ts, ambulance_call, blood_sugar_reading, days_since_last_visit, has_diabetes, hospital, hours_hospitalized, hydration_level, insulin, private_insurance, released_sameday and symptom_code, as they're medical related are potential sentive columns.<br>\n",
        "As we don't know the meaning of no_primary_dr, we consider it as potential sensitive as well.<br>\n",
        "id, patient_name and ssn are even more sensitive as personal identifiable or quasi identifiable.\n"
      ],
      "metadata": {
        "id": "yAp4Wifn1o0F"
      }
    },
    {
      "cell_type": "markdown",
      "source": [
        "### Potential usefull features"
      ],
      "metadata": {
        "id": "MI2QEUgh2zln"
      }
    },
    {
      "cell_type": "markdown",
      "source": [
        "We're going to analyze principal components of a predictive model in order to evaluate potential usefull features.<br>\n",
        "To do so, we're start fitting a baseline model just to fit correlation between the target and the rest of the features."
      ],
      "metadata": {
        "id": "0Q8fEvps39kp"
      }
    },
    {
      "cell_type": "code",
      "source": [
        "#@title\n",
        "df.head() # df.head() #pd.head()"
      ],
      "metadata": {
        "colab": {
          "base_uri": "https://localhost:8080/",
          "height": 444
        },
        "collapsed": true,
        "id": "dJEx-OBe9w-l",
        "outputId": "b45c80a5-0e65-448a-848e-a83f1a2fc801"
      },
      "execution_count": 38,
      "outputs": [
        {
          "output_type": "execute_result",
          "data": {
            "text/plain": [
              "           admitted_ts  age  ambulance_call  blood_sugar_reading  \\\n",
              "0  2018-05-09 12:06:28   49               1                  108   \n",
              "1  2018-05-12 10:02:55   82               1                   70   \n",
              "2  2018-05-13 12:25:17   71               1                  100   \n",
              "3  2018-05-14 12:20:08   87               0                  113   \n",
              "4  2018-05-17 08:35:23   53               1                   93   \n",
              "\n",
              "   days_since_last_visit  has_diabetes  hospital  hours_hospitalized  \\\n",
              "0                     99             1  district                  15   \n",
              "1                    100             1   general                  22   \n",
              "2                     78             1  northern                   1   \n",
              "3                     72             1   general                  22   \n",
              "4                     80             1  district                  17   \n",
              "\n",
              "   hydration_level    id  insulin marital_status  no_primary_dr  \\\n",
              "0                6  1000        1         single          False   \n",
              "1                1  1001        1        married          False   \n",
              "2                4  1002        1      no_answer           True   \n",
              "3                4  1003        1      no_answer          False   \n",
              "4                8  1004        0      no_answer           True   \n",
              "\n",
              "      patient_name  private_insurance  released_sameday          ssn  \\\n",
              "0   Rachel Shelton                  0                 0  743-97-4081   \n",
              "1   Barbara Medina                  0                 0  698-10-2230   \n",
              "2  Kaitlyn Daniels                  0                 1  540-83-4297   \n",
              "3    William Reyes                  1                 0  282-96-8755   \n",
              "4       Eric Booth                  0                 0  130-25-8918   \n",
              "\n",
              "   symptom_code  \n",
              "0             4  \n",
              "1             3  \n",
              "2             2  \n",
              "3             0  \n",
              "4             8  "
            ],
            "text/html": [
              "\n",
              "  <div id=\"df-3a2c47c4-da60-4506-8346-02da84c2cd69\">\n",
              "    <div class=\"colab-df-container\">\n",
              "      <div>\n",
              "<style scoped>\n",
              "    .dataframe tbody tr th:only-of-type {\n",
              "        vertical-align: middle;\n",
              "    }\n",
              "\n",
              "    .dataframe tbody tr th {\n",
              "        vertical-align: top;\n",
              "    }\n",
              "\n",
              "    .dataframe thead th {\n",
              "        text-align: right;\n",
              "    }\n",
              "</style>\n",
              "<table border=\"1\" class=\"dataframe\">\n",
              "  <thead>\n",
              "    <tr style=\"text-align: right;\">\n",
              "      <th></th>\n",
              "      <th>admitted_ts</th>\n",
              "      <th>age</th>\n",
              "      <th>ambulance_call</th>\n",
              "      <th>blood_sugar_reading</th>\n",
              "      <th>days_since_last_visit</th>\n",
              "      <th>has_diabetes</th>\n",
              "      <th>hospital</th>\n",
              "      <th>hours_hospitalized</th>\n",
              "      <th>hydration_level</th>\n",
              "      <th>id</th>\n",
              "      <th>insulin</th>\n",
              "      <th>marital_status</th>\n",
              "      <th>no_primary_dr</th>\n",
              "      <th>patient_name</th>\n",
              "      <th>private_insurance</th>\n",
              "      <th>released_sameday</th>\n",
              "      <th>ssn</th>\n",
              "      <th>symptom_code</th>\n",
              "    </tr>\n",
              "  </thead>\n",
              "  <tbody>\n",
              "    <tr>\n",
              "      <th>0</th>\n",
              "      <td>2018-05-09 12:06:28</td>\n",
              "      <td>49</td>\n",
              "      <td>1</td>\n",
              "      <td>108</td>\n",
              "      <td>99</td>\n",
              "      <td>1</td>\n",
              "      <td>district</td>\n",
              "      <td>15</td>\n",
              "      <td>6</td>\n",
              "      <td>1000</td>\n",
              "      <td>1</td>\n",
              "      <td>single</td>\n",
              "      <td>False</td>\n",
              "      <td>Rachel Shelton</td>\n",
              "      <td>0</td>\n",
              "      <td>0</td>\n",
              "      <td>743-97-4081</td>\n",
              "      <td>4</td>\n",
              "    </tr>\n",
              "    <tr>\n",
              "      <th>1</th>\n",
              "      <td>2018-05-12 10:02:55</td>\n",
              "      <td>82</td>\n",
              "      <td>1</td>\n",
              "      <td>70</td>\n",
              "      <td>100</td>\n",
              "      <td>1</td>\n",
              "      <td>general</td>\n",
              "      <td>22</td>\n",
              "      <td>1</td>\n",
              "      <td>1001</td>\n",
              "      <td>1</td>\n",
              "      <td>married</td>\n",
              "      <td>False</td>\n",
              "      <td>Barbara Medina</td>\n",
              "      <td>0</td>\n",
              "      <td>0</td>\n",
              "      <td>698-10-2230</td>\n",
              "      <td>3</td>\n",
              "    </tr>\n",
              "    <tr>\n",
              "      <th>2</th>\n",
              "      <td>2018-05-13 12:25:17</td>\n",
              "      <td>71</td>\n",
              "      <td>1</td>\n",
              "      <td>100</td>\n",
              "      <td>78</td>\n",
              "      <td>1</td>\n",
              "      <td>northern</td>\n",
              "      <td>1</td>\n",
              "      <td>4</td>\n",
              "      <td>1002</td>\n",
              "      <td>1</td>\n",
              "      <td>no_answer</td>\n",
              "      <td>True</td>\n",
              "      <td>Kaitlyn Daniels</td>\n",
              "      <td>0</td>\n",
              "      <td>1</td>\n",
              "      <td>540-83-4297</td>\n",
              "      <td>2</td>\n",
              "    </tr>\n",
              "    <tr>\n",
              "      <th>3</th>\n",
              "      <td>2018-05-14 12:20:08</td>\n",
              "      <td>87</td>\n",
              "      <td>0</td>\n",
              "      <td>113</td>\n",
              "      <td>72</td>\n",
              "      <td>1</td>\n",
              "      <td>general</td>\n",
              "      <td>22</td>\n",
              "      <td>4</td>\n",
              "      <td>1003</td>\n",
              "      <td>1</td>\n",
              "      <td>no_answer</td>\n",
              "      <td>False</td>\n",
              "      <td>William Reyes</td>\n",
              "      <td>1</td>\n",
              "      <td>0</td>\n",
              "      <td>282-96-8755</td>\n",
              "      <td>0</td>\n",
              "    </tr>\n",
              "    <tr>\n",
              "      <th>4</th>\n",
              "      <td>2018-05-17 08:35:23</td>\n",
              "      <td>53</td>\n",
              "      <td>1</td>\n",
              "      <td>93</td>\n",
              "      <td>80</td>\n",
              "      <td>1</td>\n",
              "      <td>district</td>\n",
              "      <td>17</td>\n",
              "      <td>8</td>\n",
              "      <td>1004</td>\n",
              "      <td>0</td>\n",
              "      <td>no_answer</td>\n",
              "      <td>True</td>\n",
              "      <td>Eric Booth</td>\n",
              "      <td>0</td>\n",
              "      <td>0</td>\n",
              "      <td>130-25-8918</td>\n",
              "      <td>8</td>\n",
              "    </tr>\n",
              "  </tbody>\n",
              "</table>\n",
              "</div>\n",
              "      <button class=\"colab-df-convert\" onclick=\"convertToInteractive('df-3a2c47c4-da60-4506-8346-02da84c2cd69')\"\n",
              "              title=\"Convert this dataframe to an interactive table.\"\n",
              "              style=\"display:none;\">\n",
              "        \n",
              "  <svg xmlns=\"http://www.w3.org/2000/svg\" height=\"24px\"viewBox=\"0 0 24 24\"\n",
              "       width=\"24px\">\n",
              "    <path d=\"M0 0h24v24H0V0z\" fill=\"none\"/>\n",
              "    <path d=\"M18.56 5.44l.94 2.06.94-2.06 2.06-.94-2.06-.94-.94-2.06-.94 2.06-2.06.94zm-11 1L8.5 8.5l.94-2.06 2.06-.94-2.06-.94L8.5 2.5l-.94 2.06-2.06.94zm10 10l.94 2.06.94-2.06 2.06-.94-2.06-.94-.94-2.06-.94 2.06-2.06.94z\"/><path d=\"M17.41 7.96l-1.37-1.37c-.4-.4-.92-.59-1.43-.59-.52 0-1.04.2-1.43.59L10.3 9.45l-7.72 7.72c-.78.78-.78 2.05 0 2.83L4 21.41c.39.39.9.59 1.41.59.51 0 1.02-.2 1.41-.59l7.78-7.78 2.81-2.81c.8-.78.8-2.07 0-2.86zM5.41 20L4 18.59l7.72-7.72 1.47 1.35L5.41 20z\"/>\n",
              "  </svg>\n",
              "      </button>\n",
              "      \n",
              "  <style>\n",
              "    .colab-df-container {\n",
              "      display:flex;\n",
              "      flex-wrap:wrap;\n",
              "      gap: 12px;\n",
              "    }\n",
              "\n",
              "    .colab-df-convert {\n",
              "      background-color: #E8F0FE;\n",
              "      border: none;\n",
              "      border-radius: 50%;\n",
              "      cursor: pointer;\n",
              "      display: none;\n",
              "      fill: #1967D2;\n",
              "      height: 32px;\n",
              "      padding: 0 0 0 0;\n",
              "      width: 32px;\n",
              "    }\n",
              "\n",
              "    .colab-df-convert:hover {\n",
              "      background-color: #E2EBFA;\n",
              "      box-shadow: 0px 1px 2px rgba(60, 64, 67, 0.3), 0px 1px 3px 1px rgba(60, 64, 67, 0.15);\n",
              "      fill: #174EA6;\n",
              "    }\n",
              "\n",
              "    [theme=dark] .colab-df-convert {\n",
              "      background-color: #3B4455;\n",
              "      fill: #D2E3FC;\n",
              "    }\n",
              "\n",
              "    [theme=dark] .colab-df-convert:hover {\n",
              "      background-color: #434B5C;\n",
              "      box-shadow: 0px 1px 3px 1px rgba(0, 0, 0, 0.15);\n",
              "      filter: drop-shadow(0px 1px 2px rgba(0, 0, 0, 0.3));\n",
              "      fill: #FFFFFF;\n",
              "    }\n",
              "  </style>\n",
              "\n",
              "      <script>\n",
              "        const buttonEl =\n",
              "          document.querySelector('#df-3a2c47c4-da60-4506-8346-02da84c2cd69 button.colab-df-convert');\n",
              "        buttonEl.style.display =\n",
              "          google.colab.kernel.accessAllowed ? 'block' : 'none';\n",
              "\n",
              "        async function convertToInteractive(key) {\n",
              "          const element = document.querySelector('#df-3a2c47c4-da60-4506-8346-02da84c2cd69');\n",
              "          const dataTable =\n",
              "            await google.colab.kernel.invokeFunction('convertToInteractive',\n",
              "                                                     [key], {});\n",
              "          if (!dataTable) return;\n",
              "\n",
              "          const docLinkHtml = 'Like what you see? Visit the ' +\n",
              "            '<a target=\"_blank\" href=https://colab.research.google.com/notebooks/data_table.ipynb>data table notebook</a>'\n",
              "            + ' to learn more about interactive tables.';\n",
              "          element.innerHTML = '';\n",
              "          dataTable['output_type'] = 'display_data';\n",
              "          await google.colab.output.renderOutput(dataTable, element);\n",
              "          const docLink = document.createElement('div');\n",
              "          docLink.innerHTML = docLinkHtml;\n",
              "          element.appendChild(docLink);\n",
              "        }\n",
              "      </script>\n",
              "    </div>\n",
              "  </div>\n",
              "  "
            ]
          },
          "metadata": {},
          "execution_count": 38
        }
      ]
    },
    {
      "cell_type": "code",
      "source": [
        "df.info()"
      ],
      "metadata": {
        "colab": {
          "base_uri": "https://localhost:8080/"
        },
        "id": "0i8Eu55l_OoF",
        "outputId": "09b78392-6e8a-4524-a501-bce51d62421d"
      },
      "execution_count": 19,
      "outputs": [
        {
          "output_type": "stream",
          "name": "stdout",
          "text": [
            "<class 'pandas.core.frame.DataFrame'>\n",
            "RangeIndex: 1000 entries, 0 to 999\n",
            "Data columns (total 18 columns):\n",
            " #   Column                 Non-Null Count  Dtype \n",
            "---  ------                 --------------  ----- \n",
            " 0   admitted_ts            1000 non-null   object\n",
            " 1   age                    1000 non-null   int64 \n",
            " 2   ambulance_call         1000 non-null   int64 \n",
            " 3   blood_sugar_reading    1000 non-null   int64 \n",
            " 4   days_since_last_visit  1000 non-null   int64 \n",
            " 5   has_diabetes           1000 non-null   int64 \n",
            " 6   hospital               1000 non-null   object\n",
            " 7   hours_hospitalized     1000 non-null   int64 \n",
            " 8   hydration_level        1000 non-null   int64 \n",
            " 9   id                     1000 non-null   int64 \n",
            " 10  insulin                1000 non-null   int64 \n",
            " 11  marital_status         1000 non-null   object\n",
            " 12  no_primary_dr          1000 non-null   bool  \n",
            " 13  patient_name           1000 non-null   object\n",
            " 14  private_insurance      1000 non-null   int64 \n",
            " 15  released_sameday       1000 non-null   int64 \n",
            " 16  ssn                    1000 non-null   object\n",
            " 17  symptom_code           1000 non-null   int64 \n",
            "dtypes: bool(1), int64(12), object(5)\n",
            "memory usage: 133.9+ KB\n"
          ]
        }
      ]
    },
    {
      "cell_type": "code",
      "source": [
        "#@title\n",
        "#X_train['admitted_ts'] = X_train['admitted_ts'].astype('datetime64[ns]')#)\n",
        "#X_train['admitted_ts'] = pd.to_numeric(X_train['admitted_ts']) # data['date'] = pd.to_numeric(pd.to_datetime(data['date']))"
      ],
      "metadata": {
        "cellView": "form",
        "id": "QYKT5pKZH42P"
      },
      "execution_count": 46,
      "outputs": []
    },
    {
      "cell_type": "markdown",
      "source": [
        "Let's check correlations to focus on useful data.<br>\n",
        "To do so, we need numerical columns."
      ],
      "metadata": {
        "id": "HbtwV-s7P1qF"
      }
    },
    {
      "cell_type": "code",
      "source": [
        "# categorical data\n",
        "categorical_cols = ['hospital','marital_status','no_primary_dr'] #']\n",
        "\n",
        "dummy_df = pd.get_dummies(df, columns = categorical_cols)\n",
        "print(dummy_df)"
      ],
      "metadata": {
        "colab": {
          "base_uri": "https://localhost:8080/"
        },
        "id": "NvP_Ixg9PeVW",
        "outputId": "4accdbc2-1895-4ef5-a7dc-afed3127a235"
      },
      "execution_count": 56,
      "outputs": [
        {
          "output_type": "stream",
          "name": "stdout",
          "text": [
            "             admitted_ts  age  ambulance_call  blood_sugar_reading  \\\n",
            "0    2018-05-09 12:06:28   49               1                  108   \n",
            "1    2018-05-12 10:02:55   82               1                   70   \n",
            "2    2018-05-13 12:25:17   71               1                  100   \n",
            "3    2018-05-14 12:20:08   87               0                  113   \n",
            "4    2018-05-17 08:35:23   53               1                   93   \n",
            "..                   ...  ...             ...                  ...   \n",
            "995  2018-09-11 12:14:33   75               0                   83   \n",
            "996  2018-09-13 10:09:36   73               0                   77   \n",
            "997  2018-09-15 11:35:49   29               1                  109   \n",
            "998  2018-09-18 08:41:36   23               0                   75   \n",
            "999  2018-09-23 12:24:29   86               1                  126   \n",
            "\n",
            "     days_since_last_visit  has_diabetes  hours_hospitalized  hydration_level  \\\n",
            "0                       99             1                  15                6   \n",
            "1                      100             1                  22                1   \n",
            "2                       78             1                   1                4   \n",
            "3                       72             1                  22                4   \n",
            "4                       80             1                  17                8   \n",
            "..                     ...           ...                 ...              ...   \n",
            "995                     38             0                   9                9   \n",
            "996                     39             0                  14                1   \n",
            "997                     63             1                   2                2   \n",
            "998                     37             0                  19                4   \n",
            "999                     43             1                   4                0   \n",
            "\n",
            "       id  insulin  ... hospital_central  hospital_district  hospital_general  \\\n",
            "0    1000        1  ...                0                  1                 0   \n",
            "1    1001        1  ...                0                  0                 1   \n",
            "2    1002        1  ...                0                  0                 0   \n",
            "3    1003        1  ...                0                  0                 1   \n",
            "4    1004        0  ...                0                  1                 0   \n",
            "..    ...      ...  ...              ...                ...               ...   \n",
            "995  1995        1  ...                0                  0                 1   \n",
            "996  1996        0  ...                1                  0                 0   \n",
            "997  1997        1  ...                0                  1                 0   \n",
            "998  1998        0  ...                1                  0                 0   \n",
            "999  1999        1  ...                0                  0                 0   \n",
            "\n",
            "    hospital_northern  marital_status_divorced  marital_status_married  \\\n",
            "0                   0                        0                       0   \n",
            "1                   0                        0                       1   \n",
            "2                   1                        0                       0   \n",
            "3                   0                        0                       0   \n",
            "4                   0                        0                       0   \n",
            "..                ...                      ...                     ...   \n",
            "995                 0                        1                       0   \n",
            "996                 0                        0                       0   \n",
            "997                 0                        0                       1   \n",
            "998                 0                        0                       0   \n",
            "999                 1                        0                       0   \n",
            "\n",
            "     marital_status_no_answer  marital_status_single  no_primary_dr_False  \\\n",
            "0                           0                      1                    1   \n",
            "1                           0                      0                    1   \n",
            "2                           1                      0                    0   \n",
            "3                           1                      0                    1   \n",
            "4                           1                      0                    0   \n",
            "..                        ...                    ...                  ...   \n",
            "995                         0                      0                    1   \n",
            "996                         1                      0                    1   \n",
            "997                         0                      0                    1   \n",
            "998                         0                      1                    1   \n",
            "999                         1                      0                    1   \n",
            "\n",
            "     no_primary_dr_True  \n",
            "0                     0  \n",
            "1                     0  \n",
            "2                     1  \n",
            "3                     0  \n",
            "4                     1  \n",
            "..                  ...  \n",
            "995                   0  \n",
            "996                   0  \n",
            "997                   0  \n",
            "998                   0  \n",
            "999                   0  \n",
            "\n",
            "[1000 rows x 25 columns]\n"
          ]
        }
      ]
    },
    {
      "cell_type": "code",
      "source": [],
      "metadata": {
        "id": "MuEL2A1rVfQt"
      },
      "execution_count": null,
      "outputs": []
    },
    {
      "cell_type": "code",
      "source": [
        "dummy_df[\"admitted_ts\"] = pd.to_datetime(dummy_df[\"admitted_ts\"]) #numeric_ddf[\"admitted_ts\"] = pd.to_datetime(dummy_df[\"admitted_ts\"]) #df['Date'] = pd.to_datetime(df['Date'])\n",
        "dummy_df[\"admitted_ts\"] = pd.to_numeric(dummy_df[\"admitted_ts\"]) #(dummy_df[\"admitted_ts\"]) #.astype(float)"
      ],
      "metadata": {
        "id": "ws5DxAv7USVO"
      },
      "execution_count": 61,
      "outputs": []
    },
    {
      "cell_type": "markdown",
      "source": [],
      "metadata": {
        "id": "nWKD2ghQRcBM"
      }
    },
    {
      "cell_type": "code",
      "source": [
        "corr = df.corr()\n",
        "print(\"correlation\", corr)"
      ],
      "metadata": {
        "colab": {
          "base_uri": "https://localhost:8080/"
        },
        "id": "oZsF0TsxP1PV",
        "outputId": "6ae2dece-007d-4ac4-8b64-6c23060c4df4"
      },
      "execution_count": 62,
      "outputs": [
        {
          "output_type": "stream",
          "name": "stdout",
          "text": [
            "correlation                             age  ambulance_call  blood_sugar_reading  \\\n",
            "age                    1.000000       -0.039872            -0.093682   \n",
            "ambulance_call        -0.039872        1.000000             0.028701   \n",
            "blood_sugar_reading   -0.093682        0.028701             1.000000   \n",
            "days_since_last_visit -0.025325        0.000858             0.018231   \n",
            "has_diabetes          -0.004673        0.013858            -0.003593   \n",
            "hours_hospitalized     0.036598       -0.039157            -0.007363   \n",
            "hydration_level        0.013655        0.016497            -0.003371   \n",
            "id                    -0.031231        0.019323             0.039533   \n",
            "insulin                0.009212       -0.031877            -0.042906   \n",
            "no_primary_dr          0.001633        0.011651             0.073805   \n",
            "private_insurance      0.022074       -0.057674            -0.017256   \n",
            "released_sameday      -0.094541        0.044267             0.007559   \n",
            "symptom_code          -0.076882       -0.013384            -0.016850   \n",
            "\n",
            "                       days_since_last_visit  has_diabetes  \\\n",
            "age                                -0.025325     -0.004673   \n",
            "ambulance_call                      0.000858      0.013858   \n",
            "blood_sugar_reading                 0.018231     -0.003593   \n",
            "days_since_last_visit               1.000000      0.012534   \n",
            "has_diabetes                        0.012534      1.000000   \n",
            "hours_hospitalized                 -0.014628     -0.061627   \n",
            "hydration_level                     0.013325      0.063124   \n",
            "id                                 -0.016106     -0.015041   \n",
            "insulin                             0.044376      0.018726   \n",
            "no_primary_dr                       0.012869      0.069018   \n",
            "private_insurance                   0.021765     -0.070442   \n",
            "released_sameday                    0.000507      0.053818   \n",
            "symptom_code                        0.003319      0.000125   \n",
            "\n",
            "                       hours_hospitalized  hydration_level        id  \\\n",
            "age                              0.036598         0.013655 -0.031231   \n",
            "ambulance_call                  -0.039157         0.016497  0.019323   \n",
            "blood_sugar_reading             -0.007363        -0.003371  0.039533   \n",
            "days_since_last_visit           -0.014628         0.013325 -0.016106   \n",
            "has_diabetes                    -0.061627         0.063124 -0.015041   \n",
            "hours_hospitalized               1.000000        -0.054126  0.034839   \n",
            "hydration_level                 -0.054126         1.000000 -0.016986   \n",
            "id                               0.034839        -0.016986  1.000000   \n",
            "insulin                          0.096682        -0.008669 -0.007192   \n",
            "no_primary_dr                   -0.025929        -0.058305 -0.052594   \n",
            "private_insurance                0.006085        -0.027034  0.024074   \n",
            "released_sameday                -0.819888         0.018628 -0.004397   \n",
            "symptom_code                     0.002419        -0.014266  0.008632   \n",
            "\n",
            "                        insulin  no_primary_dr  private_insurance  \\\n",
            "age                    0.009212       0.001633           0.022074   \n",
            "ambulance_call        -0.031877       0.011651          -0.057674   \n",
            "blood_sugar_reading   -0.042906       0.073805          -0.017256   \n",
            "days_since_last_visit  0.044376       0.012869           0.021765   \n",
            "has_diabetes           0.018726       0.069018          -0.070442   \n",
            "hours_hospitalized     0.096682      -0.025929           0.006085   \n",
            "hydration_level       -0.008669      -0.058305          -0.027034   \n",
            "id                    -0.007192      -0.052594           0.024074   \n",
            "insulin                1.000000       0.035689          -0.034848   \n",
            "no_primary_dr          0.035689       1.000000          -0.453227   \n",
            "private_insurance     -0.034848      -0.453227           1.000000   \n",
            "released_sameday      -0.050896       0.039190           0.045434   \n",
            "symptom_code          -0.041733       0.023448           0.014997   \n",
            "\n",
            "                       released_sameday  symptom_code  \n",
            "age                           -0.094541     -0.076882  \n",
            "ambulance_call                 0.044267     -0.013384  \n",
            "blood_sugar_reading            0.007559     -0.016850  \n",
            "days_since_last_visit          0.000507      0.003319  \n",
            "has_diabetes                   0.053818      0.000125  \n",
            "hours_hospitalized            -0.819888      0.002419  \n",
            "hydration_level                0.018628     -0.014266  \n",
            "id                            -0.004397      0.008632  \n",
            "insulin                       -0.050896     -0.041733  \n",
            "no_primary_dr                  0.039190      0.023448  \n",
            "private_insurance              0.045434      0.014997  \n",
            "released_sameday               1.000000      0.020657  \n",
            "symptom_code                   0.020657      1.000000  \n"
          ]
        }
      ]
    },
    {
      "cell_type": "markdown",
      "source": [
        "We can drop 'admitted_ts' as it has no correlation whatsoever with the target."
      ],
      "metadata": {
        "id": "lpdW88_MQVZ-"
      }
    },
    {
      "cell_type": "code",
      "source": [
        "# drop categorical columns not correlated to target or that can cause leakage\n",
        "pca_ddf = dummy_df.drop(\n",
        "    ['admitted_ts', 'patient_name', 'ssn', 'id'], axis=1) #)\n",
        "#scalable_y_train = X_test.drop(columns='admitted_ts')"
      ],
      "metadata": {
        "id": "gA24xcJsMQA2"
      },
      "execution_count": 96,
      "outputs": []
    },
    {
      "cell_type": "code",
      "source": [
        "X = pca_ddf.drop('has_diabetes', axis=1) #] #siabetes', axis=1) #df.drop('has_diabetes', axis=1)\n",
        "y = pca_ddf['has_diabetes'] #df['has_diabetes']\n",
        "X_train, X_test, y_train, y_test = train_test_split( #x_train, X_test, y_train, y_test = train_test_split(\n",
        "    X, y, test_size=0.25, random_state=42)"
      ],
      "metadata": {
        "id": "-MIIVtyZEbvd"
      },
      "execution_count": 129,
      "outputs": []
    },
    {
      "cell_type": "code",
      "source": [
        "#ss = StandardScaler()\n",
        "#X_train_scaled = ss.fit_transform(X_train)\n",
        "#X_test_scaled = ss.transform(X_test)"
      ],
      "metadata": {
        "id": "uBS5XctseRmn"
      },
      "execution_count": 98,
      "outputs": []
    },
    {
      "cell_type": "code",
      "source": [
        "pca = PCA().fit(X_train) #X_train_scaled) #) #pca_ddf) #pca = PCA().fit(X_train)"
      ],
      "metadata": {
        "id": "c_ORb33QHSxO"
      },
      "execution_count": 99,
      "outputs": []
    },
    {
      "cell_type": "code",
      "source": [
        "#@title\n",
        "#pca_ddf"
      ],
      "metadata": {
        "colab": {
          "base_uri": "https://localhost:8080/",
          "height": 592
        },
        "collapsed": true,
        "cellView": "form",
        "id": "174RqDDmXP4N",
        "outputId": "30e588ce-ead7-476f-ac0b-36ae4effb0ca"
      },
      "execution_count": 65,
      "outputs": [
        {
          "output_type": "execute_result",
          "data": {
            "text/plain": [
              "     age  ambulance_call  blood_sugar_reading  days_since_last_visit  \\\n",
              "0     49               1                  108                     99   \n",
              "1     82               1                   70                    100   \n",
              "2     71               1                  100                     78   \n",
              "3     87               0                  113                     72   \n",
              "4     53               1                   93                     80   \n",
              "..   ...             ...                  ...                    ...   \n",
              "995   75               0                   83                     38   \n",
              "996   73               0                   77                     39   \n",
              "997   29               1                  109                     63   \n",
              "998   23               0                   75                     37   \n",
              "999   86               1                  126                     43   \n",
              "\n",
              "     has_diabetes  hours_hospitalized  hydration_level    id  insulin  \\\n",
              "0               1                  15                6  1000        1   \n",
              "1               1                  22                1  1001        1   \n",
              "2               1                   1                4  1002        1   \n",
              "3               1                  22                4  1003        1   \n",
              "4               1                  17                8  1004        0   \n",
              "..            ...                 ...              ...   ...      ...   \n",
              "995             0                   9                9  1995        1   \n",
              "996             0                  14                1  1996        0   \n",
              "997             1                   2                2  1997        1   \n",
              "998             0                  19                4  1998        0   \n",
              "999             1                   4                0  1999        1   \n",
              "\n",
              "        patient_name  ...  hospital_central  hospital_district  \\\n",
              "0     Rachel Shelton  ...                 0                  1   \n",
              "1     Barbara Medina  ...                 0                  0   \n",
              "2    Kaitlyn Daniels  ...                 0                  0   \n",
              "3      William Reyes  ...                 0                  0   \n",
              "4         Eric Booth  ...                 0                  1   \n",
              "..               ...  ...               ...                ...   \n",
              "995       Tyler Hill  ...                 0                  0   \n",
              "996   Daniel Johnson  ...                 1                  0   \n",
              "997   Andrew Kaufman  ...                 0                  1   \n",
              "998  Darren Hamilton  ...                 1                  0   \n",
              "999    Lorraine Lara  ...                 0                  0   \n",
              "\n",
              "    hospital_general  hospital_northern  marital_status_divorced  \\\n",
              "0                  0                  0                        0   \n",
              "1                  1                  0                        0   \n",
              "2                  0                  1                        0   \n",
              "3                  1                  0                        0   \n",
              "4                  0                  0                        0   \n",
              "..               ...                ...                      ...   \n",
              "995                1                  0                        1   \n",
              "996                0                  0                        0   \n",
              "997                0                  0                        0   \n",
              "998                0                  0                        0   \n",
              "999                0                  1                        0   \n",
              "\n",
              "     marital_status_married  marital_status_no_answer  marital_status_single  \\\n",
              "0                         0                         0                      1   \n",
              "1                         1                         0                      0   \n",
              "2                         0                         1                      0   \n",
              "3                         0                         1                      0   \n",
              "4                         0                         1                      0   \n",
              "..                      ...                       ...                    ...   \n",
              "995                       0                         0                      0   \n",
              "996                       0                         1                      0   \n",
              "997                       1                         0                      0   \n",
              "998                       0                         0                      1   \n",
              "999                       0                         1                      0   \n",
              "\n",
              "     no_primary_dr_False  no_primary_dr_True  \n",
              "0                      1                   0  \n",
              "1                      1                   0  \n",
              "2                      0                   1  \n",
              "3                      1                   0  \n",
              "4                      0                   1  \n",
              "..                   ...                 ...  \n",
              "995                    1                   0  \n",
              "996                    1                   0  \n",
              "997                    1                   0  \n",
              "998                    1                   0  \n",
              "999                    1                   0  \n",
              "\n",
              "[1000 rows x 24 columns]"
            ],
            "text/html": [
              "\n",
              "  <div id=\"df-f5d43324-8371-48dc-b723-4106973ff3c3\">\n",
              "    <div class=\"colab-df-container\">\n",
              "      <div>\n",
              "<style scoped>\n",
              "    .dataframe tbody tr th:only-of-type {\n",
              "        vertical-align: middle;\n",
              "    }\n",
              "\n",
              "    .dataframe tbody tr th {\n",
              "        vertical-align: top;\n",
              "    }\n",
              "\n",
              "    .dataframe thead th {\n",
              "        text-align: right;\n",
              "    }\n",
              "</style>\n",
              "<table border=\"1\" class=\"dataframe\">\n",
              "  <thead>\n",
              "    <tr style=\"text-align: right;\">\n",
              "      <th></th>\n",
              "      <th>age</th>\n",
              "      <th>ambulance_call</th>\n",
              "      <th>blood_sugar_reading</th>\n",
              "      <th>days_since_last_visit</th>\n",
              "      <th>has_diabetes</th>\n",
              "      <th>hours_hospitalized</th>\n",
              "      <th>hydration_level</th>\n",
              "      <th>id</th>\n",
              "      <th>insulin</th>\n",
              "      <th>patient_name</th>\n",
              "      <th>...</th>\n",
              "      <th>hospital_central</th>\n",
              "      <th>hospital_district</th>\n",
              "      <th>hospital_general</th>\n",
              "      <th>hospital_northern</th>\n",
              "      <th>marital_status_divorced</th>\n",
              "      <th>marital_status_married</th>\n",
              "      <th>marital_status_no_answer</th>\n",
              "      <th>marital_status_single</th>\n",
              "      <th>no_primary_dr_False</th>\n",
              "      <th>no_primary_dr_True</th>\n",
              "    </tr>\n",
              "  </thead>\n",
              "  <tbody>\n",
              "    <tr>\n",
              "      <th>0</th>\n",
              "      <td>49</td>\n",
              "      <td>1</td>\n",
              "      <td>108</td>\n",
              "      <td>99</td>\n",
              "      <td>1</td>\n",
              "      <td>15</td>\n",
              "      <td>6</td>\n",
              "      <td>1000</td>\n",
              "      <td>1</td>\n",
              "      <td>Rachel Shelton</td>\n",
              "      <td>...</td>\n",
              "      <td>0</td>\n",
              "      <td>1</td>\n",
              "      <td>0</td>\n",
              "      <td>0</td>\n",
              "      <td>0</td>\n",
              "      <td>0</td>\n",
              "      <td>0</td>\n",
              "      <td>1</td>\n",
              "      <td>1</td>\n",
              "      <td>0</td>\n",
              "    </tr>\n",
              "    <tr>\n",
              "      <th>1</th>\n",
              "      <td>82</td>\n",
              "      <td>1</td>\n",
              "      <td>70</td>\n",
              "      <td>100</td>\n",
              "      <td>1</td>\n",
              "      <td>22</td>\n",
              "      <td>1</td>\n",
              "      <td>1001</td>\n",
              "      <td>1</td>\n",
              "      <td>Barbara Medina</td>\n",
              "      <td>...</td>\n",
              "      <td>0</td>\n",
              "      <td>0</td>\n",
              "      <td>1</td>\n",
              "      <td>0</td>\n",
              "      <td>0</td>\n",
              "      <td>1</td>\n",
              "      <td>0</td>\n",
              "      <td>0</td>\n",
              "      <td>1</td>\n",
              "      <td>0</td>\n",
              "    </tr>\n",
              "    <tr>\n",
              "      <th>2</th>\n",
              "      <td>71</td>\n",
              "      <td>1</td>\n",
              "      <td>100</td>\n",
              "      <td>78</td>\n",
              "      <td>1</td>\n",
              "      <td>1</td>\n",
              "      <td>4</td>\n",
              "      <td>1002</td>\n",
              "      <td>1</td>\n",
              "      <td>Kaitlyn Daniels</td>\n",
              "      <td>...</td>\n",
              "      <td>0</td>\n",
              "      <td>0</td>\n",
              "      <td>0</td>\n",
              "      <td>1</td>\n",
              "      <td>0</td>\n",
              "      <td>0</td>\n",
              "      <td>1</td>\n",
              "      <td>0</td>\n",
              "      <td>0</td>\n",
              "      <td>1</td>\n",
              "    </tr>\n",
              "    <tr>\n",
              "      <th>3</th>\n",
              "      <td>87</td>\n",
              "      <td>0</td>\n",
              "      <td>113</td>\n",
              "      <td>72</td>\n",
              "      <td>1</td>\n",
              "      <td>22</td>\n",
              "      <td>4</td>\n",
              "      <td>1003</td>\n",
              "      <td>1</td>\n",
              "      <td>William Reyes</td>\n",
              "      <td>...</td>\n",
              "      <td>0</td>\n",
              "      <td>0</td>\n",
              "      <td>1</td>\n",
              "      <td>0</td>\n",
              "      <td>0</td>\n",
              "      <td>0</td>\n",
              "      <td>1</td>\n",
              "      <td>0</td>\n",
              "      <td>1</td>\n",
              "      <td>0</td>\n",
              "    </tr>\n",
              "    <tr>\n",
              "      <th>4</th>\n",
              "      <td>53</td>\n",
              "      <td>1</td>\n",
              "      <td>93</td>\n",
              "      <td>80</td>\n",
              "      <td>1</td>\n",
              "      <td>17</td>\n",
              "      <td>8</td>\n",
              "      <td>1004</td>\n",
              "      <td>0</td>\n",
              "      <td>Eric Booth</td>\n",
              "      <td>...</td>\n",
              "      <td>0</td>\n",
              "      <td>1</td>\n",
              "      <td>0</td>\n",
              "      <td>0</td>\n",
              "      <td>0</td>\n",
              "      <td>0</td>\n",
              "      <td>1</td>\n",
              "      <td>0</td>\n",
              "      <td>0</td>\n",
              "      <td>1</td>\n",
              "    </tr>\n",
              "    <tr>\n",
              "      <th>...</th>\n",
              "      <td>...</td>\n",
              "      <td>...</td>\n",
              "      <td>...</td>\n",
              "      <td>...</td>\n",
              "      <td>...</td>\n",
              "      <td>...</td>\n",
              "      <td>...</td>\n",
              "      <td>...</td>\n",
              "      <td>...</td>\n",
              "      <td>...</td>\n",
              "      <td>...</td>\n",
              "      <td>...</td>\n",
              "      <td>...</td>\n",
              "      <td>...</td>\n",
              "      <td>...</td>\n",
              "      <td>...</td>\n",
              "      <td>...</td>\n",
              "      <td>...</td>\n",
              "      <td>...</td>\n",
              "      <td>...</td>\n",
              "      <td>...</td>\n",
              "    </tr>\n",
              "    <tr>\n",
              "      <th>995</th>\n",
              "      <td>75</td>\n",
              "      <td>0</td>\n",
              "      <td>83</td>\n",
              "      <td>38</td>\n",
              "      <td>0</td>\n",
              "      <td>9</td>\n",
              "      <td>9</td>\n",
              "      <td>1995</td>\n",
              "      <td>1</td>\n",
              "      <td>Tyler Hill</td>\n",
              "      <td>...</td>\n",
              "      <td>0</td>\n",
              "      <td>0</td>\n",
              "      <td>1</td>\n",
              "      <td>0</td>\n",
              "      <td>1</td>\n",
              "      <td>0</td>\n",
              "      <td>0</td>\n",
              "      <td>0</td>\n",
              "      <td>1</td>\n",
              "      <td>0</td>\n",
              "    </tr>\n",
              "    <tr>\n",
              "      <th>996</th>\n",
              "      <td>73</td>\n",
              "      <td>0</td>\n",
              "      <td>77</td>\n",
              "      <td>39</td>\n",
              "      <td>0</td>\n",
              "      <td>14</td>\n",
              "      <td>1</td>\n",
              "      <td>1996</td>\n",
              "      <td>0</td>\n",
              "      <td>Daniel Johnson</td>\n",
              "      <td>...</td>\n",
              "      <td>1</td>\n",
              "      <td>0</td>\n",
              "      <td>0</td>\n",
              "      <td>0</td>\n",
              "      <td>0</td>\n",
              "      <td>0</td>\n",
              "      <td>1</td>\n",
              "      <td>0</td>\n",
              "      <td>1</td>\n",
              "      <td>0</td>\n",
              "    </tr>\n",
              "    <tr>\n",
              "      <th>997</th>\n",
              "      <td>29</td>\n",
              "      <td>1</td>\n",
              "      <td>109</td>\n",
              "      <td>63</td>\n",
              "      <td>1</td>\n",
              "      <td>2</td>\n",
              "      <td>2</td>\n",
              "      <td>1997</td>\n",
              "      <td>1</td>\n",
              "      <td>Andrew Kaufman</td>\n",
              "      <td>...</td>\n",
              "      <td>0</td>\n",
              "      <td>1</td>\n",
              "      <td>0</td>\n",
              "      <td>0</td>\n",
              "      <td>0</td>\n",
              "      <td>1</td>\n",
              "      <td>0</td>\n",
              "      <td>0</td>\n",
              "      <td>1</td>\n",
              "      <td>0</td>\n",
              "    </tr>\n",
              "    <tr>\n",
              "      <th>998</th>\n",
              "      <td>23</td>\n",
              "      <td>0</td>\n",
              "      <td>75</td>\n",
              "      <td>37</td>\n",
              "      <td>0</td>\n",
              "      <td>19</td>\n",
              "      <td>4</td>\n",
              "      <td>1998</td>\n",
              "      <td>0</td>\n",
              "      <td>Darren Hamilton</td>\n",
              "      <td>...</td>\n",
              "      <td>1</td>\n",
              "      <td>0</td>\n",
              "      <td>0</td>\n",
              "      <td>0</td>\n",
              "      <td>0</td>\n",
              "      <td>0</td>\n",
              "      <td>0</td>\n",
              "      <td>1</td>\n",
              "      <td>1</td>\n",
              "      <td>0</td>\n",
              "    </tr>\n",
              "    <tr>\n",
              "      <th>999</th>\n",
              "      <td>86</td>\n",
              "      <td>1</td>\n",
              "      <td>126</td>\n",
              "      <td>43</td>\n",
              "      <td>1</td>\n",
              "      <td>4</td>\n",
              "      <td>0</td>\n",
              "      <td>1999</td>\n",
              "      <td>1</td>\n",
              "      <td>Lorraine Lara</td>\n",
              "      <td>...</td>\n",
              "      <td>0</td>\n",
              "      <td>0</td>\n",
              "      <td>0</td>\n",
              "      <td>1</td>\n",
              "      <td>0</td>\n",
              "      <td>0</td>\n",
              "      <td>1</td>\n",
              "      <td>0</td>\n",
              "      <td>1</td>\n",
              "      <td>0</td>\n",
              "    </tr>\n",
              "  </tbody>\n",
              "</table>\n",
              "<p>1000 rows × 24 columns</p>\n",
              "</div>\n",
              "      <button class=\"colab-df-convert\" onclick=\"convertToInteractive('df-f5d43324-8371-48dc-b723-4106973ff3c3')\"\n",
              "              title=\"Convert this dataframe to an interactive table.\"\n",
              "              style=\"display:none;\">\n",
              "        \n",
              "  <svg xmlns=\"http://www.w3.org/2000/svg\" height=\"24px\"viewBox=\"0 0 24 24\"\n",
              "       width=\"24px\">\n",
              "    <path d=\"M0 0h24v24H0V0z\" fill=\"none\"/>\n",
              "    <path d=\"M18.56 5.44l.94 2.06.94-2.06 2.06-.94-2.06-.94-.94-2.06-.94 2.06-2.06.94zm-11 1L8.5 8.5l.94-2.06 2.06-.94-2.06-.94L8.5 2.5l-.94 2.06-2.06.94zm10 10l.94 2.06.94-2.06 2.06-.94-2.06-.94-.94-2.06-.94 2.06-2.06.94z\"/><path d=\"M17.41 7.96l-1.37-1.37c-.4-.4-.92-.59-1.43-.59-.52 0-1.04.2-1.43.59L10.3 9.45l-7.72 7.72c-.78.78-.78 2.05 0 2.83L4 21.41c.39.39.9.59 1.41.59.51 0 1.02-.2 1.41-.59l7.78-7.78 2.81-2.81c.8-.78.8-2.07 0-2.86zM5.41 20L4 18.59l7.72-7.72 1.47 1.35L5.41 20z\"/>\n",
              "  </svg>\n",
              "      </button>\n",
              "      \n",
              "  <style>\n",
              "    .colab-df-container {\n",
              "      display:flex;\n",
              "      flex-wrap:wrap;\n",
              "      gap: 12px;\n",
              "    }\n",
              "\n",
              "    .colab-df-convert {\n",
              "      background-color: #E8F0FE;\n",
              "      border: none;\n",
              "      border-radius: 50%;\n",
              "      cursor: pointer;\n",
              "      display: none;\n",
              "      fill: #1967D2;\n",
              "      height: 32px;\n",
              "      padding: 0 0 0 0;\n",
              "      width: 32px;\n",
              "    }\n",
              "\n",
              "    .colab-df-convert:hover {\n",
              "      background-color: #E2EBFA;\n",
              "      box-shadow: 0px 1px 2px rgba(60, 64, 67, 0.3), 0px 1px 3px 1px rgba(60, 64, 67, 0.15);\n",
              "      fill: #174EA6;\n",
              "    }\n",
              "\n",
              "    [theme=dark] .colab-df-convert {\n",
              "      background-color: #3B4455;\n",
              "      fill: #D2E3FC;\n",
              "    }\n",
              "\n",
              "    [theme=dark] .colab-df-convert:hover {\n",
              "      background-color: #434B5C;\n",
              "      box-shadow: 0px 1px 3px 1px rgba(0, 0, 0, 0.15);\n",
              "      filter: drop-shadow(0px 1px 2px rgba(0, 0, 0, 0.3));\n",
              "      fill: #FFFFFF;\n",
              "    }\n",
              "  </style>\n",
              "\n",
              "      <script>\n",
              "        const buttonEl =\n",
              "          document.querySelector('#df-f5d43324-8371-48dc-b723-4106973ff3c3 button.colab-df-convert');\n",
              "        buttonEl.style.display =\n",
              "          google.colab.kernel.accessAllowed ? 'block' : 'none';\n",
              "\n",
              "        async function convertToInteractive(key) {\n",
              "          const element = document.querySelector('#df-f5d43324-8371-48dc-b723-4106973ff3c3');\n",
              "          const dataTable =\n",
              "            await google.colab.kernel.invokeFunction('convertToInteractive',\n",
              "                                                     [key], {});\n",
              "          if (!dataTable) return;\n",
              "\n",
              "          const docLinkHtml = 'Like what you see? Visit the ' +\n",
              "            '<a target=\"_blank\" href=https://colab.research.google.com/notebooks/data_table.ipynb>data table notebook</a>'\n",
              "            + ' to learn more about interactive tables.';\n",
              "          element.innerHTML = '';\n",
              "          dataTable['output_type'] = 'display_data';\n",
              "          await google.colab.output.renderOutput(dataTable, element);\n",
              "          const docLink = document.createElement('div');\n",
              "          docLink.innerHTML = docLinkHtml;\n",
              "          element.appendChild(docLink);\n",
              "        }\n",
              "      </script>\n",
              "    </div>\n",
              "  </div>\n",
              "  "
            ]
          },
          "metadata": {},
          "execution_count": 65
        }
      ]
    },
    {
      "cell_type": "code",
      "source": [
        "plt.plot(pca.explained_variance_ratio_.cumsum(), lw=3, color='#087E8B')\n",
        "plt.title(\n",
        "    'Cumulative explained variance by number of principal components', size=14) #20)\n",
        "plt.grid()    \n",
        "plt.show()"
      ],
      "metadata": {
        "colab": {
          "base_uri": "https://localhost:8080/",
          "height": 282
        },
        "id": "pH2t1zLWZYmu",
        "outputId": "0e3109f7-c5eb-49de-d2f0-08a392c95077"
      },
      "execution_count": 100,
      "outputs": [
        {
          "output_type": "display_data",
          "data": {
            "text/plain": [
              "<Figure size 432x288 with 1 Axes>"
            ],
            "image/png": "[encoded data removed]"
          },
          "metadata": {
            "needs_background": "light"
          }
        }
      ]
    },
    {
      "cell_type": "code",
      "source": [
        "#@title\n",
        "#pd.DataFrame(X_train_scaled).info()"
      ],
      "metadata": {
        "colab": {
          "base_uri": "https://localhost:8080/"
        },
        "cellView": "form",
        "collapsed": true,
        "id": "d1Dp2AoRfNle",
        "outputId": "77a65180-df1b-4e84-f269-5a1ddf5eb0fe"
      },
      "execution_count": 90,
      "outputs": [
        {
          "output_type": "stream",
          "name": "stdout",
          "text": [
            "<class 'pandas.core.frame.DataFrame'>\n",
            "RangeIndex: 750 entries, 0 to 749\n",
            "Data columns (total 21 columns):\n",
            " #   Column  Non-Null Count  Dtype  \n",
            "---  ------  --------------  -----  \n",
            " 0   0       750 non-null    float64\n",
            " 1   1       750 non-null    float64\n",
            " 2   2       750 non-null    float64\n",
            " 3   3       750 non-null    float64\n",
            " 4   4       750 non-null    float64\n",
            " 5   5       750 non-null    float64\n",
            " 6   6       750 non-null    float64\n",
            " 7   7       750 non-null    float64\n",
            " 8   8       750 non-null    float64\n",
            " 9   9       750 non-null    float64\n",
            " 10  10      750 non-null    float64\n",
            " 11  11      750 non-null    float64\n",
            " 12  12      750 non-null    float64\n",
            " 13  13      750 non-null    float64\n",
            " 14  14      750 non-null    float64\n",
            " 15  15      750 non-null    float64\n",
            " 16  16      750 non-null    float64\n",
            " 17  17      750 non-null    float64\n",
            " 18  18      750 non-null    float64\n",
            " 19  19      750 non-null    float64\n",
            " 20  20      750 non-null    float64\n",
            "dtypes: float64(21)\n",
            "memory usage: 123.2 KB\n"
          ]
        }
      ]
    },
    {
      "cell_type": "code",
      "source": [
        "#@title\n",
        "pd.DataFrame(X_train_scaled).head()"
      ],
      "metadata": {
        "colab": {
          "base_uri": "https://localhost:8080/",
          "height": 299
        },
        "cellView": "form",
        "collapsed": true,
        "id": "vHFEmpjtg1vI",
        "outputId": "4c9d137e-3adf-4911-eb44-62f07001e94b"
      },
      "execution_count": 91,
      "outputs": [
        {
          "output_type": "execute_result",
          "data": {
            "text/plain": [
              "         0         1         2         3         4         5         6   \\\n",
              "0  1.378308 -1.018844  0.709856 -0.653993 -0.464307 -0.213365 -1.451820   \n",
              "1  0.801878  0.981504 -1.210246 -0.090555  1.434269  1.518491  1.710118   \n",
              "2 -0.062767  0.981504 -0.904775  1.599761  1.117839  1.172120  1.007465   \n",
              "3  1.666523 -1.018844  0.666217 -1.347456  1.434269  1.518491  1.372705   \n",
              "4  0.033305 -1.018844  1.189881 -0.610652 -1.413595  0.479378 -0.352620   \n",
              "\n",
              "         7         8         9   ...        11        12        13        14  \\\n",
              "0  1.032529 -0.945484 -0.741341  ... -0.559897 -0.603023 -0.561951  1.710761   \n",
              "1  1.032529 -0.945484 -0.741341  ...  1.786041 -0.603023 -0.561951 -0.584535   \n",
              "2 -0.968496  1.057660 -0.741341  ... -0.559897 -0.603023 -0.561951  1.710761   \n",
              "3  1.032529  1.057660 -0.741341  ... -0.559897 -0.603023  1.779513 -0.584535   \n",
              "4 -0.968496 -0.945484  1.348907  ... -0.559897 -0.603023 -0.561951  1.710761   \n",
              "\n",
              "         15        16        17        18        19        20  \n",
              "0 -0.578377 -0.615367  1.912691 -0.592749 -1.171929  1.171929  \n",
              "1 -0.578377  1.625047 -0.522824 -0.592749  0.853294 -0.853294  \n",
              "2 -0.578377 -0.615367 -0.522824  1.687055 -1.171929  1.171929  \n",
              "3  1.728977 -0.615367 -0.522824 -0.592749  0.853294 -0.853294  \n",
              "4 -0.578377  1.625047 -0.522824 -0.592749 -1.171929  1.171929  \n",
              "\n",
              "[5 rows x 21 columns]"
            ],
            "text/html": [
              "\n",
              "  <div id=\"df-aa5ba7b8-a9ef-42bb-9681-facd940f866a\">\n",
              "    <div class=\"colab-df-container\">\n",
              "      <div>\n",
              "<style scoped>\n",
              "    .dataframe tbody tr th:only-of-type {\n",
              "        vertical-align: middle;\n",
              "    }\n",
              "\n",
              "    .dataframe tbody tr th {\n",
              "        vertical-align: top;\n",
              "    }\n",
              "\n",
              "    .dataframe thead th {\n",
              "        text-align: right;\n",
              "    }\n",
              "</style>\n",
              "<table border=\"1\" class=\"dataframe\">\n",
              "  <thead>\n",
              "    <tr style=\"text-align: right;\">\n",
              "      <th></th>\n",
              "      <th>0</th>\n",
              "      <th>1</th>\n",
              "      <th>2</th>\n",
              "      <th>3</th>\n",
              "      <th>4</th>\n",
              "      <th>5</th>\n",
              "      <th>6</th>\n",
              "      <th>7</th>\n",
              "      <th>8</th>\n",
              "      <th>9</th>\n",
              "      <th>...</th>\n",
              "      <th>11</th>\n",
              "      <th>12</th>\n",
              "      <th>13</th>\n",
              "      <th>14</th>\n",
              "      <th>15</th>\n",
              "      <th>16</th>\n",
              "      <th>17</th>\n",
              "      <th>18</th>\n",
              "      <th>19</th>\n",
              "      <th>20</th>\n",
              "    </tr>\n",
              "  </thead>\n",
              "  <tbody>\n",
              "    <tr>\n",
              "      <th>0</th>\n",
              "      <td>1.378308</td>\n",
              "      <td>-1.018844</td>\n",
              "      <td>0.709856</td>\n",
              "      <td>-0.653993</td>\n",
              "      <td>-0.464307</td>\n",
              "      <td>-0.213365</td>\n",
              "      <td>-1.451820</td>\n",
              "      <td>1.032529</td>\n",
              "      <td>-0.945484</td>\n",
              "      <td>-0.741341</td>\n",
              "      <td>...</td>\n",
              "      <td>-0.559897</td>\n",
              "      <td>-0.603023</td>\n",
              "      <td>-0.561951</td>\n",
              "      <td>1.710761</td>\n",
              "      <td>-0.578377</td>\n",
              "      <td>-0.615367</td>\n",
              "      <td>1.912691</td>\n",
              "      <td>-0.592749</td>\n",
              "      <td>-1.171929</td>\n",
              "      <td>1.171929</td>\n",
              "    </tr>\n",
              "    <tr>\n",
              "      <th>1</th>\n",
              "      <td>0.801878</td>\n",
              "      <td>0.981504</td>\n",
              "      <td>-1.210246</td>\n",
              "      <td>-0.090555</td>\n",
              "      <td>1.434269</td>\n",
              "      <td>1.518491</td>\n",
              "      <td>1.710118</td>\n",
              "      <td>1.032529</td>\n",
              "      <td>-0.945484</td>\n",
              "      <td>-0.741341</td>\n",
              "      <td>...</td>\n",
              "      <td>1.786041</td>\n",
              "      <td>-0.603023</td>\n",
              "      <td>-0.561951</td>\n",
              "      <td>-0.584535</td>\n",
              "      <td>-0.578377</td>\n",
              "      <td>1.625047</td>\n",
              "      <td>-0.522824</td>\n",
              "      <td>-0.592749</td>\n",
              "      <td>0.853294</td>\n",
              "      <td>-0.853294</td>\n",
              "    </tr>\n",
              "    <tr>\n",
              "      <th>2</th>\n",
              "      <td>-0.062767</td>\n",
              "      <td>0.981504</td>\n",
              "      <td>-0.904775</td>\n",
              "      <td>1.599761</td>\n",
              "      <td>1.117839</td>\n",
              "      <td>1.172120</td>\n",
              "      <td>1.007465</td>\n",
              "      <td>-0.968496</td>\n",
              "      <td>1.057660</td>\n",
              "      <td>-0.741341</td>\n",
              "      <td>...</td>\n",
              "      <td>-0.559897</td>\n",
              "      <td>-0.603023</td>\n",
              "      <td>-0.561951</td>\n",
              "      <td>1.710761</td>\n",
              "      <td>-0.578377</td>\n",
              "      <td>-0.615367</td>\n",
              "      <td>-0.522824</td>\n",
              "      <td>1.687055</td>\n",
              "      <td>-1.171929</td>\n",
              "      <td>1.171929</td>\n",
              "    </tr>\n",
              "    <tr>\n",
              "      <th>3</th>\n",
              "      <td>1.666523</td>\n",
              "      <td>-1.018844</td>\n",
              "      <td>0.666217</td>\n",
              "      <td>-1.347456</td>\n",
              "      <td>1.434269</td>\n",
              "      <td>1.518491</td>\n",
              "      <td>1.372705</td>\n",
              "      <td>1.032529</td>\n",
              "      <td>1.057660</td>\n",
              "      <td>-0.741341</td>\n",
              "      <td>...</td>\n",
              "      <td>-0.559897</td>\n",
              "      <td>-0.603023</td>\n",
              "      <td>1.779513</td>\n",
              "      <td>-0.584535</td>\n",
              "      <td>1.728977</td>\n",
              "      <td>-0.615367</td>\n",
              "      <td>-0.522824</td>\n",
              "      <td>-0.592749</td>\n",
              "      <td>0.853294</td>\n",
              "      <td>-0.853294</td>\n",
              "    </tr>\n",
              "    <tr>\n",
              "      <th>4</th>\n",
              "      <td>0.033305</td>\n",
              "      <td>-1.018844</td>\n",
              "      <td>1.189881</td>\n",
              "      <td>-0.610652</td>\n",
              "      <td>-1.413595</td>\n",
              "      <td>0.479378</td>\n",
              "      <td>-0.352620</td>\n",
              "      <td>-0.968496</td>\n",
              "      <td>-0.945484</td>\n",
              "      <td>1.348907</td>\n",
              "      <td>...</td>\n",
              "      <td>-0.559897</td>\n",
              "      <td>-0.603023</td>\n",
              "      <td>-0.561951</td>\n",
              "      <td>1.710761</td>\n",
              "      <td>-0.578377</td>\n",
              "      <td>1.625047</td>\n",
              "      <td>-0.522824</td>\n",
              "      <td>-0.592749</td>\n",
              "      <td>-1.171929</td>\n",
              "      <td>1.171929</td>\n",
              "    </tr>\n",
              "  </tbody>\n",
              "</table>\n",
              "<p>5 rows × 21 columns</p>\n",
              "</div>\n",
              "      <button class=\"colab-df-convert\" onclick=\"convertToInteractive('df-aa5ba7b8-a9ef-42bb-9681-facd940f866a')\"\n",
              "              title=\"Convert this dataframe to an interactive table.\"\n",
              "              style=\"display:none;\">\n",
              "        \n",
              "  <svg xmlns=\"http://www.w3.org/2000/svg\" height=\"24px\"viewBox=\"0 0 24 24\"\n",
              "       width=\"24px\">\n",
              "    <path d=\"M0 0h24v24H0V0z\" fill=\"none\"/>\n",
              "    <path d=\"M18.56 5.44l.94 2.06.94-2.06 2.06-.94-2.06-.94-.94-2.06-.94 2.06-2.06.94zm-11 1L8.5 8.5l.94-2.06 2.06-.94-2.06-.94L8.5 2.5l-.94 2.06-2.06.94zm10 10l.94 2.06.94-2.06 2.06-.94-2.06-.94-.94-2.06-.94 2.06-2.06.94z\"/><path d=\"M17.41 7.96l-1.37-1.37c-.4-.4-.92-.59-1.43-.59-.52 0-1.04.2-1.43.59L10.3 9.45l-7.72 7.72c-.78.78-.78 2.05 0 2.83L4 21.41c.39.39.9.59 1.41.59.51 0 1.02-.2 1.41-.59l7.78-7.78 2.81-2.81c.8-.78.8-2.07 0-2.86zM5.41 20L4 18.59l7.72-7.72 1.47 1.35L5.41 20z\"/>\n",
              "  </svg>\n",
              "      </button>\n",
              "      \n",
              "  <style>\n",
              "    .colab-df-container {\n",
              "      display:flex;\n",
              "      flex-wrap:wrap;\n",
              "      gap: 12px;\n",
              "    }\n",
              "\n",
              "    .colab-df-convert {\n",
              "      background-color: #E8F0FE;\n",
              "      border: none;\n",
              "      border-radius: 50%;\n",
              "      cursor: pointer;\n",
              "      display: none;\n",
              "      fill: #1967D2;\n",
              "      height: 32px;\n",
              "      padding: 0 0 0 0;\n",
              "      width: 32px;\n",
              "    }\n",
              "\n",
              "    .colab-df-convert:hover {\n",
              "      background-color: #E2EBFA;\n",
              "      box-shadow: 0px 1px 2px rgba(60, 64, 67, 0.3), 0px 1px 3px 1px rgba(60, 64, 67, 0.15);\n",
              "      fill: #174EA6;\n",
              "    }\n",
              "\n",
              "    [theme=dark] .colab-df-convert {\n",
              "      background-color: #3B4455;\n",
              "      fill: #D2E3FC;\n",
              "    }\n",
              "\n",
              "    [theme=dark] .colab-df-convert:hover {\n",
              "      background-color: #434B5C;\n",
              "      box-shadow: 0px 1px 3px 1px rgba(0, 0, 0, 0.15);\n",
              "      filter: drop-shadow(0px 1px 2px rgba(0, 0, 0, 0.3));\n",
              "      fill: #FFFFFF;\n",
              "    }\n",
              "  </style>\n",
              "\n",
              "      <script>\n",
              "        const buttonEl =\n",
              "          document.querySelector('#df-aa5ba7b8-a9ef-42bb-9681-facd940f866a button.colab-df-convert');\n",
              "        buttonEl.style.display =\n",
              "          google.colab.kernel.accessAllowed ? 'block' : 'none';\n",
              "\n",
              "        async function convertToInteractive(key) {\n",
              "          const element = document.querySelector('#df-aa5ba7b8-a9ef-42bb-9681-facd940f866a');\n",
              "          const dataTable =\n",
              "            await google.colab.kernel.invokeFunction('convertToInteractive',\n",
              "                                                     [key], {});\n",
              "          if (!dataTable) return;\n",
              "\n",
              "          const docLinkHtml = 'Like what you see? Visit the ' +\n",
              "            '<a target=\"_blank\" href=https://colab.research.google.com/notebooks/data_table.ipynb>data table notebook</a>'\n",
              "            + ' to learn more about interactive tables.';\n",
              "          element.innerHTML = '';\n",
              "          dataTable['output_type'] = 'display_data';\n",
              "          await google.colab.output.renderOutput(dataTable, element);\n",
              "          const docLink = document.createElement('div');\n",
              "          docLink.innerHTML = docLinkHtml;\n",
              "          element.appendChild(docLink);\n",
              "        }\n",
              "      </script>\n",
              "    </div>\n",
              "  </div>\n",
              "  "
            ]
          },
          "metadata": {},
          "execution_count": 91
        }
      ]
    },
    {
      "cell_type": "markdown",
      "source": [
        "We can explain more more than 99% of the variance in the source dataset with the first five principal components.<br>\n",
        "We're going to check loadings, coefficients of the linear combination of the original variables from which the principal components are constructed.<br>\n",
        "Indeed if there's a strong correlation between the principal component and an original variable, it means this feature is important."
      ],
      "metadata": {
        "id": "KApS-op7aNfs"
      }
    },
    {
      "cell_type": "code",
      "source": [
        "loadings = pd.DataFrame(\n",
        "    data = pca.components_.T * np.sqrt(pca.explained_variance_),\n",
        "    columns=[f'PC{i}' for i in range(1, len(X_train.columns) + 1)], #pca_ddf.columns) + 1)],\n",
        "    index=X_train.columns #pca_ddf.columns\n",
        ")\n",
        "loadings.head()"
      ],
      "metadata": {
        "colab": {
          "base_uri": "https://localhost:8080/",
          "height": 357
        },
        "id": "18c6CU3rbTlp",
        "outputId": "a4aa4916-d88b-4822-947f-183306a8fe5a"
      },
      "execution_count": 101,
      "outputs": [
        {
          "output_type": "execute_result",
          "data": {
            "text/plain": [
              "                             PC1        PC2        PC3       PC4       PC5  \\\n",
              "age                    -9.066559   1.964975 -18.651862 -0.036933  0.035986   \n",
              "ambulance_call          0.007441  -0.005562   0.019056 -0.013956 -0.019021   \n",
              "blood_sugar_reading    16.968793 -13.595883  -7.282174  0.032685  0.010484   \n",
              "days_since_last_visit  13.481297  18.435795  -3.381108  0.012062  0.011305   \n",
              "hours_hospitalized     -0.164652   0.046918  -0.067290  6.321838 -0.051345   \n",
              "\n",
              "                            PC6       PC7       PC8       PC9      PC10  \\\n",
              "age                   -0.031850  0.000334  0.000133  0.000071  0.000301   \n",
              "ambulance_call         0.013097  0.021348  0.087779 -0.141519 -0.015333   \n",
              "blood_sugar_reading    0.010903 -0.001614 -0.000788 -0.000155  0.000160   \n",
              "days_since_last_visit  0.004352 -0.000361  0.000514 -0.000494  0.000300   \n",
              "hours_hospitalized    -0.001798 -0.000381  0.001541 -0.000462 -0.001282   \n",
              "\n",
              "                           PC11      PC12      PC13      PC14      PC15  \\\n",
              "age                    0.000590  0.000679  0.000069 -0.000158  0.000089   \n",
              "ambulance_call         0.360163  0.139155 -0.217348 -0.141246  0.009954   \n",
              "blood_sugar_reading    0.000401 -0.000645  0.000161 -0.000294  0.000148   \n",
              "days_since_last_visit  0.000089 -0.000636 -0.000335  0.000167  0.000017   \n",
              "hours_hospitalized    -0.000018 -0.000103 -0.001446  0.001406 -0.000170   \n",
              "\n",
              "                           PC16      PC17          PC18          PC19  \\\n",
              "age                   -0.000268 -0.000505  8.806542e-35  1.040696e-34   \n",
              "ambulance_call         0.065325  0.002527  1.436919e-32 -1.085483e-32   \n",
              "blood_sugar_reading   -0.000107 -0.000035  2.692032e-34 -4.119806e-35   \n",
              "days_since_last_visit -0.000401 -0.000034  1.353423e-34  4.120457e-35   \n",
              "hours_hospitalized     0.004096 -0.016342 -8.816816e-34  1.275635e-33   \n",
              "\n",
              "                               PC20  \n",
              "age                    1.994475e-35  \n",
              "ambulance_call         1.888617e-33  \n",
              "blood_sugar_reading    1.858369e-34  \n",
              "days_since_last_visit -1.627916e-34  \n",
              "hours_hospitalized     3.553209e-34  "
            ],
            "text/html": [
              "\n",
              "  <div id=\"df-a89d6a9f-f465-44d9-ab26-40617037be38\">\n",
              "    <div class=\"colab-df-container\">\n",
              "      <div>\n",
              "<style scoped>\n",
              "    .dataframe tbody tr th:only-of-type {\n",
              "        vertical-align: middle;\n",
              "    }\n",
              "\n",
              "    .dataframe tbody tr th {\n",
              "        vertical-align: top;\n",
              "    }\n",
              "\n",
              "    .dataframe thead th {\n",
              "        text-align: right;\n",
              "    }\n",
              "</style>\n",
              "<table border=\"1\" class=\"dataframe\">\n",
              "  <thead>\n",
              "    <tr style=\"text-align: right;\">\n",
              "      <th></th>\n",
              "      <th>PC1</th>\n",
              "      <th>PC2</th>\n",
              "      <th>PC3</th>\n",
              "      <th>PC4</th>\n",
              "      <th>PC5</th>\n",
              "      <th>PC6</th>\n",
              "      <th>PC7</th>\n",
              "      <th>PC8</th>\n",
              "      <th>PC9</th>\n",
              "      <th>PC10</th>\n",
              "      <th>PC11</th>\n",
              "      <th>PC12</th>\n",
              "      <th>PC13</th>\n",
              "      <th>PC14</th>\n",
              "      <th>PC15</th>\n",
              "      <th>PC16</th>\n",
              "      <th>PC17</th>\n",
              "      <th>PC18</th>\n",
              "      <th>PC19</th>\n",
              "      <th>PC20</th>\n",
              "    </tr>\n",
              "  </thead>\n",
              "  <tbody>\n",
              "    <tr>\n",
              "      <th>age</th>\n",
              "      <td>-9.066559</td>\n",
              "      <td>1.964975</td>\n",
              "      <td>-18.651862</td>\n",
              "      <td>-0.036933</td>\n",
              "      <td>0.035986</td>\n",
              "      <td>-0.031850</td>\n",
              "      <td>0.000334</td>\n",
              "      <td>0.000133</td>\n",
              "      <td>0.000071</td>\n",
              "      <td>0.000301</td>\n",
              "      <td>0.000590</td>\n",
              "      <td>0.000679</td>\n",
              "      <td>0.000069</td>\n",
              "      <td>-0.000158</td>\n",
              "      <td>0.000089</td>\n",
              "      <td>-0.000268</td>\n",
              "      <td>-0.000505</td>\n",
              "      <td>8.806542e-35</td>\n",
              "      <td>1.040696e-34</td>\n",
              "      <td>1.994475e-35</td>\n",
              "    </tr>\n",
              "    <tr>\n",
              "      <th>ambulance_call</th>\n",
              "      <td>0.007441</td>\n",
              "      <td>-0.005562</td>\n",
              "      <td>0.019056</td>\n",
              "      <td>-0.013956</td>\n",
              "      <td>-0.019021</td>\n",
              "      <td>0.013097</td>\n",
              "      <td>0.021348</td>\n",
              "      <td>0.087779</td>\n",
              "      <td>-0.141519</td>\n",
              "      <td>-0.015333</td>\n",
              "      <td>0.360163</td>\n",
              "      <td>0.139155</td>\n",
              "      <td>-0.217348</td>\n",
              "      <td>-0.141246</td>\n",
              "      <td>0.009954</td>\n",
              "      <td>0.065325</td>\n",
              "      <td>0.002527</td>\n",
              "      <td>1.436919e-32</td>\n",
              "      <td>-1.085483e-32</td>\n",
              "      <td>1.888617e-33</td>\n",
              "    </tr>\n",
              "    <tr>\n",
              "      <th>blood_sugar_reading</th>\n",
              "      <td>16.968793</td>\n",
              "      <td>-13.595883</td>\n",
              "      <td>-7.282174</td>\n",
              "      <td>0.032685</td>\n",
              "      <td>0.010484</td>\n",
              "      <td>0.010903</td>\n",
              "      <td>-0.001614</td>\n",
              "      <td>-0.000788</td>\n",
              "      <td>-0.000155</td>\n",
              "      <td>0.000160</td>\n",
              "      <td>0.000401</td>\n",
              "      <td>-0.000645</td>\n",
              "      <td>0.000161</td>\n",
              "      <td>-0.000294</td>\n",
              "      <td>0.000148</td>\n",
              "      <td>-0.000107</td>\n",
              "      <td>-0.000035</td>\n",
              "      <td>2.692032e-34</td>\n",
              "      <td>-4.119806e-35</td>\n",
              "      <td>1.858369e-34</td>\n",
              "    </tr>\n",
              "    <tr>\n",
              "      <th>days_since_last_visit</th>\n",
              "      <td>13.481297</td>\n",
              "      <td>18.435795</td>\n",
              "      <td>-3.381108</td>\n",
              "      <td>0.012062</td>\n",
              "      <td>0.011305</td>\n",
              "      <td>0.004352</td>\n",
              "      <td>-0.000361</td>\n",
              "      <td>0.000514</td>\n",
              "      <td>-0.000494</td>\n",
              "      <td>0.000300</td>\n",
              "      <td>0.000089</td>\n",
              "      <td>-0.000636</td>\n",
              "      <td>-0.000335</td>\n",
              "      <td>0.000167</td>\n",
              "      <td>0.000017</td>\n",
              "      <td>-0.000401</td>\n",
              "      <td>-0.000034</td>\n",
              "      <td>1.353423e-34</td>\n",
              "      <td>4.120457e-35</td>\n",
              "      <td>-1.627916e-34</td>\n",
              "    </tr>\n",
              "    <tr>\n",
              "      <th>hours_hospitalized</th>\n",
              "      <td>-0.164652</td>\n",
              "      <td>0.046918</td>\n",
              "      <td>-0.067290</td>\n",
              "      <td>6.321838</td>\n",
              "      <td>-0.051345</td>\n",
              "      <td>-0.001798</td>\n",
              "      <td>-0.000381</td>\n",
              "      <td>0.001541</td>\n",
              "      <td>-0.000462</td>\n",
              "      <td>-0.001282</td>\n",
              "      <td>-0.000018</td>\n",
              "      <td>-0.000103</td>\n",
              "      <td>-0.001446</td>\n",
              "      <td>0.001406</td>\n",
              "      <td>-0.000170</td>\n",
              "      <td>0.004096</td>\n",
              "      <td>-0.016342</td>\n",
              "      <td>-8.816816e-34</td>\n",
              "      <td>1.275635e-33</td>\n",
              "      <td>3.553209e-34</td>\n",
              "    </tr>\n",
              "  </tbody>\n",
              "</table>\n",
              "</div>\n",
              "      <button class=\"colab-df-convert\" onclick=\"convertToInteractive('df-a89d6a9f-f465-44d9-ab26-40617037be38')\"\n",
              "              title=\"Convert this dataframe to an interactive table.\"\n",
              "              style=\"display:none;\">\n",
              "        \n",
              "  <svg xmlns=\"http://www.w3.org/2000/svg\" height=\"24px\"viewBox=\"0 0 24 24\"\n",
              "       width=\"24px\">\n",
              "    <path d=\"M0 0h24v24H0V0z\" fill=\"none\"/>\n",
              "    <path d=\"M18.56 5.44l.94 2.06.94-2.06 2.06-.94-2.06-.94-.94-2.06-.94 2.06-2.06.94zm-11 1L8.5 8.5l.94-2.06 2.06-.94-2.06-.94L8.5 2.5l-.94 2.06-2.06.94zm10 10l.94 2.06.94-2.06 2.06-.94-2.06-.94-.94-2.06-.94 2.06-2.06.94z\"/><path d=\"M17.41 7.96l-1.37-1.37c-.4-.4-.92-.59-1.43-.59-.52 0-1.04.2-1.43.59L10.3 9.45l-7.72 7.72c-.78.78-.78 2.05 0 2.83L4 21.41c.39.39.9.59 1.41.59.51 0 1.02-.2 1.41-.59l7.78-7.78 2.81-2.81c.8-.78.8-2.07 0-2.86zM5.41 20L4 18.59l7.72-7.72 1.47 1.35L5.41 20z\"/>\n",
              "  </svg>\n",
              "      </button>\n",
              "      \n",
              "  <style>\n",
              "    .colab-df-container {\n",
              "      display:flex;\n",
              "      flex-wrap:wrap;\n",
              "      gap: 12px;\n",
              "    }\n",
              "\n",
              "    .colab-df-convert {\n",
              "      background-color: #E8F0FE;\n",
              "      border: none;\n",
              "      border-radius: 50%;\n",
              "      cursor: pointer;\n",
              "      display: none;\n",
              "      fill: #1967D2;\n",
              "      height: 32px;\n",
              "      padding: 0 0 0 0;\n",
              "      width: 32px;\n",
              "    }\n",
              "\n",
              "    .colab-df-convert:hover {\n",
              "      background-color: #E2EBFA;\n",
              "      box-shadow: 0px 1px 2px rgba(60, 64, 67, 0.3), 0px 1px 3px 1px rgba(60, 64, 67, 0.15);\n",
              "      fill: #174EA6;\n",
              "    }\n",
              "\n",
              "    [theme=dark] .colab-df-convert {\n",
              "      background-color: #3B4455;\n",
              "      fill: #D2E3FC;\n",
              "    }\n",
              "\n",
              "    [theme=dark] .colab-df-convert:hover {\n",
              "      background-color: #434B5C;\n",
              "      box-shadow: 0px 1px 3px 1px rgba(0, 0, 0, 0.15);\n",
              "      filter: drop-shadow(0px 1px 2px rgba(0, 0, 0, 0.3));\n",
              "      fill: #FFFFFF;\n",
              "    }\n",
              "  </style>\n",
              "\n",
              "      <script>\n",
              "        const buttonEl =\n",
              "          document.querySelector('#df-a89d6a9f-f465-44d9-ab26-40617037be38 button.colab-df-convert');\n",
              "        buttonEl.style.display =\n",
              "          google.colab.kernel.accessAllowed ? 'block' : 'none';\n",
              "\n",
              "        async function convertToInteractive(key) {\n",
              "          const element = document.querySelector('#df-a89d6a9f-f465-44d9-ab26-40617037be38');\n",
              "          const dataTable =\n",
              "            await google.colab.kernel.invokeFunction('convertToInteractive',\n",
              "                                                     [key], {});\n",
              "          if (!dataTable) return;\n",
              "\n",
              "          const docLinkHtml = 'Like what you see? Visit the ' +\n",
              "            '<a target=\"_blank\" href=https://colab.research.google.com/notebooks/data_table.ipynb>data table notebook</a>'\n",
              "            + ' to learn more about interactive tables.';\n",
              "          element.innerHTML = '';\n",
              "          dataTable['output_type'] = 'display_data';\n",
              "          await google.colab.output.renderOutput(dataTable, element);\n",
              "          const docLink = document.createElement('div');\n",
              "          docLink.innerHTML = docLinkHtml;\n",
              "          element.appendChild(docLink);\n",
              "        }\n",
              "      </script>\n",
              "    </div>\n",
              "  </div>\n",
              "  "
            ]
          },
          "metadata": {},
          "execution_count": 101
        }
      ]
    },
    {
      "cell_type": "markdown",
      "source": [
        "The first principal component is crucial as it explains more than 98% of the variance in the dataset.<br>\n",
        "So let's visualize the correlations between all of the input features and the first principal component."
      ],
      "metadata": {
        "id": "ph7jOthnio0w"
      }
    },
    {
      "cell_type": "code",
      "source": [
        "pc1_loadings = loadings.sort_values(by='PC1', ascending=False)[['PC1']]\n",
        "pc1_loadings = pc1_loadings.reset_index()\n",
        "pc1_loadings.columns = ['Attribute', 'CorrelationWithPC1']\n",
        "\n",
        "plt.bar(\n",
        "    x=pc1_loadings[\n",
        "        'Attribute'], height=pc1_loadings[\n",
        "            'CorrelationWithPC1'], color='#087E8B')\n",
        "plt.title('PCA loading scores (first principal component)', size=20)\n",
        "plt.xticks(rotation='vertical')\n",
        "plt.show()"
      ],
      "metadata": {
        "colab": {
          "base_uri": "https://localhost:8080/",
          "height": 406
        },
        "id": "sbrJqJpujC-U",
        "outputId": "e47f55d2-fd51-4ee8-f42a-f8b7939ef978"
      },
      "execution_count": 102,
      "outputs": [
        {
          "output_type": "display_data",
          "data": {
            "text/plain": [
              "<Figure size 432x288 with 1 Axes>"
            ],
            "image/png": "[encoded data removed]"
          },
          "metadata": {
            "needs_background": "light"
          }
        }
      ]
    },
    {
      "cell_type": "markdown",
      "source": [
        "We can see that potential useful features are:\n",
        "blood_sugar_reading, \n",
        "\n",
        "1.   days_since_last_visit,\n",
        "2.   age,\n",
        "3.   symptom_code,     \n",
        "4.   hydration_level and\n",
        "5.   hours_hospitalized\n",
        "\n"
      ],
      "metadata": {
        "id": "74sXrMw8kgVK"
      }
    },
    {
      "cell_type": "markdown",
      "source": [
        "### What columns should we use?"
      ],
      "metadata": {
        "id": "1Sg-I8ITlbNo"
      }
    },
    {
      "cell_type": "markdown",
      "source": [
        "We should use at least those that are correlated the most, being: days_since_last_visit, age and symptom_code."
      ],
      "metadata": {
        "id": "iiJuXM32lpCb"
      }
    },
    {
      "cell_type": "markdown",
      "source": [
        "### Which ones should we remove?"
      ],
      "metadata": {
        "id": "6N__rlm5l3wj"
      }
    },
    {
      "cell_type": "markdown",
      "source": [
        "We should remove the unique identifiers that can cause leakage and identify a person: id, ssn, patient_name."
      ],
      "metadata": {
        "id": "B3oWUnCvl75A"
      }
    },
    {
      "cell_type": "markdown",
      "source": [
        "### Are there columns which we should protect but not remove?"
      ],
      "metadata": {
        "id": "XxGKVJJWm-L6"
      }
    },
    {
      "cell_type": "markdown",
      "source": [
        "The potential sensitive medical columns correlated should be protected: ambulance_call, blood_sugar_reading, days_since_last_visit, has_diabetes, hours_hospitalized, hydration_level, insulin, private_insurance, released_sameday and symptom_code."
      ],
      "metadata": {
        "id": "O0AB_JVqn-N4"
      }
    },
    {
      "cell_type": "markdown",
      "source": [
        "## Part Two: Determining the Approach for protecting the Columns"
      ],
      "metadata": {
        "id": "4GCP49ANpWmz"
      }
    },
    {
      "cell_type": "markdown",
      "source": [
        "What methods will be most effective?"
      ],
      "metadata": {
        "id": "phdZDVe4plVr"
      }
    },
    {
      "cell_type": "markdown",
      "source": [
        "We will:\n",
        "\n",
        "\n",
        "*   remove personal information\n",
        "*   protect sensitive information\n",
        "*   send only the most correlated data first\n",
        "\n"
      ],
      "metadata": {
        "id": "mI5RQNbrppzZ"
      }
    },
    {
      "cell_type": "markdown",
      "source": [
        "Have you considered potential data leakage within *non-sensitive* columns?"
      ],
      "metadata": {
        "id": "TNc0LI00qQNj"
      }
    },
    {
      "cell_type": "markdown",
      "source": [
        "We have considered potential data leakage within non-sensitive columns but the riskier leakage came from id (sensitive), according to a previous PCA."
      ],
      "metadata": {
        "id": "e65bffnOqoTK"
      }
    },
    {
      "cell_type": "markdown",
      "source": [
        "Is there other sensitive or secret data we should address?"
      ],
      "metadata": {
        "id": "rgqprBJ7rPSn"
      }
    },
    {
      "cell_type": "markdown",
      "source": [
        "The dataset is not concerned by any other non medical sensitive or secret information such as salary or geolocation.\n",
        "<br>\n",
        "```hospital``` could have been discussed but as it's medical, it has already been taken into account."
      ],
      "metadata": {
        "id": "79M5cdk7rsnn"
      }
    },
    {
      "cell_type": "code",
      "source": [
        "X_minimal = X[\n",
        "    ['days_since_last_visit', 'age', 'symptom_code', 'hydration_level', 'hours_hospitalized']]\n",
        "\n",
        "#train_Xm, test_Xm, train_y, test_y = train_test_split(\n",
        " #   X_minimal, y, test_size=0.25, random_state=42\n",
        "#)"
      ],
      "metadata": {
        "id": "R2KE5DmDukdA"
      },
      "execution_count": 103,
      "outputs": []
    },
    {
      "cell_type": "markdown",
      "source": [
        "## Part Three: Implement Data Protection for the Dataset"
      ],
      "metadata": {
        "id": "Y8Rhq2CKseqx"
      }
    },
    {
      "cell_type": "code",
      "source": [
        "# generate a random sample\n",
        "\n",
        "def simlap(n, b):\n",
        "    \"\"\"\n",
        "    :param     n: The number of samples to draw\n",
        "    :param     b: Scale of the distribution.\n",
        "    :    returns: a vector of size n with noises sample from laplace dristribution.\n",
        "    \"\"\"\n",
        "    liste=[]\n",
        "    for i in range(n):\n",
        "      liste.append(np.random.laplace(loc=0.0, scale=b ))   # le bruit ne dépend pas de la valeur numérique en entrée, (par rapport au schéma vu précédement)\n",
        "    return liste"
      ],
      "metadata": {
        "id": "I_OehBSYsnSZ"
      },
      "execution_count": 104,
      "outputs": []
    },
    {
      "cell_type": "code",
      "source": [
        "def process_value(value, p, q):\n",
        "    \"\"\"\n",
        "    :param value: The value to apply the differentially private scheme to.\n",
        "    :param     p: The probability of returning a random value instead of the true one\n",
        "    :param     q: The probability of returning 1 when generating a random value\n",
        "    :    returns: A new, differentially private value\n",
        "    \"\"\"\n",
        "    valeur_aleatoire_1 = np.random.rand() # Valeur aléatoire avec une probabilité p pour simuler p\n",
        "    if p >= valeur_aleatoire_1:  # on est dans le cas RANDOM VALUE\n",
        "      valeur_aleatoire_2 = np.random.rand() # pour simuler q\n",
        "      if q >= valeur_aleatoire_2:\n",
        "        return 0\n",
        "      return 1  \n",
        "    else:\n",
        "      return value"
      ],
      "metadata": {
        "id": "xN730Us5zp0o"
      },
      "execution_count": 105,
      "outputs": []
    },
    {
      "cell_type": "code",
      "source": [
        "# df['income'].unique()\n",
        "p=q=0.5\n",
        "#df['income_binaire']=np.where(df['income'] == '<=50k',0,1)\n",
        "\n",
        "X_minimal['visit_diff_private']=X_minimal['days_since_last_visit'].apply(lambda x :process_value(x, p, q  ))\n",
        "X_minimal['age_diff_private']=X_minimal['age'].apply(lambda x :process_value(x, p, q  ))\n",
        "X_minimal['symptom_diff_private']=X_minimal['symptom_code'].apply(lambda x :process_value(x, p, q  ))\n",
        "X_minimal['hydration_diff_private']=X_minimal['hydration_level'].apply(lambda x :process_value(x, p, q  ))\n",
        "X_minimal['hours_diff_private']=X_minimal['hours_hospitalized'].apply(lambda x :process_value(x, p, q  ))\n",
        "\n",
        "Liste_valeurs_calculées_DF=[]\n",
        "for i, j in enumerate(df['days_since_last_visit']):\n",
        "    Liste_valeurs_calculées_DF.append (process_value(j, p, q))\n",
        "X_minimal['visit_diff_private'] = np.array(Liste_valeurs_calculées_DF)\n",
        "\n",
        "Liste_valeurs_calculées_DF=[]\n",
        "for i, j in enumerate(X_minimal['age']):\n",
        "    Liste_valeurs_calculées_DF.append (process_value(j, p, q))\n",
        "X_minimal['age_diff_private'] = np.array(Liste_valeurs_calculées_DF)\n",
        "\n",
        "Liste_valeurs_calculées_DF=[]\n",
        "for i, j in enumerate(X_minimal['symptom_code']):\n",
        "    Liste_valeurs_calculées_DF.append (process_value(j, p, q))\n",
        "X_minimal['symptom_diff_private'] = np.array(Liste_valeurs_calculées_DF)\n",
        "\n",
        "Liste_valeurs_calculées_DF=[]\n",
        "for i, j in enumerate(X_minimal['hydration_level']):\n",
        "    Liste_valeurs_calculées_DF.append (process_value(j, p, q))\n",
        "X_minimal['hydration_diff_private'] = np.array(Liste_valeurs_calculées_DF)\n",
        "\n",
        "Liste_valeurs_calculées_DF=[]\n",
        "for i, j in enumerate(X_minimal['hours_hospitalized']):\n",
        "    Liste_valeurs_calculées_DF.append (process_value(j, p, q))\n",
        "X_minimal['hours_diff_private'] = np.array(Liste_valeurs_calculées_DF)"
      ],
      "metadata": {
        "colab": {
          "base_uri": "https://localhost:8080/"
        },
        "id": "OZVA2rLnysbs",
        "outputId": "362c00f7-fd64-410c-9b62-52b7b181eded"
      },
      "execution_count": 114,
      "outputs": [
        {
          "output_type": "stream",
          "name": "stderr",
          "text": [
            "/usr/local/lib/python3.7/dist-packages/ipykernel_launcher.py:5: SettingWithCopyWarning: \n",
            "A value is trying to be set on a copy of a slice from a DataFrame.\n",
            "Try using .loc[row_indexer,col_indexer] = value instead\n",
            "\n",
            "See the caveats in the documentation: https://pandas.pydata.org/pandas-docs/stable/user_guide/indexing.html#returning-a-view-versus-a-copy\n",
            "  \"\"\"\n",
            "/usr/local/lib/python3.7/dist-packages/ipykernel_launcher.py:6: SettingWithCopyWarning: \n",
            "A value is trying to be set on a copy of a slice from a DataFrame.\n",
            "Try using .loc[row_indexer,col_indexer] = value instead\n",
            "\n",
            "See the caveats in the documentation: https://pandas.pydata.org/pandas-docs/stable/user_guide/indexing.html#returning-a-view-versus-a-copy\n",
            "  \n",
            "/usr/local/lib/python3.7/dist-packages/ipykernel_launcher.py:7: SettingWithCopyWarning: \n",
            "A value is trying to be set on a copy of a slice from a DataFrame.\n",
            "Try using .loc[row_indexer,col_indexer] = value instead\n",
            "\n",
            "See the caveats in the documentation: https://pandas.pydata.org/pandas-docs/stable/user_guide/indexing.html#returning-a-view-versus-a-copy\n",
            "  import sys\n",
            "/usr/local/lib/python3.7/dist-packages/ipykernel_launcher.py:8: SettingWithCopyWarning: \n",
            "A value is trying to be set on a copy of a slice from a DataFrame.\n",
            "Try using .loc[row_indexer,col_indexer] = value instead\n",
            "\n",
            "See the caveats in the documentation: https://pandas.pydata.org/pandas-docs/stable/user_guide/indexing.html#returning-a-view-versus-a-copy\n",
            "  \n",
            "/usr/local/lib/python3.7/dist-packages/ipykernel_launcher.py:9: SettingWithCopyWarning: \n",
            "A value is trying to be set on a copy of a slice from a DataFrame.\n",
            "Try using .loc[row_indexer,col_indexer] = value instead\n",
            "\n",
            "See the caveats in the documentation: https://pandas.pydata.org/pandas-docs/stable/user_guide/indexing.html#returning-a-view-versus-a-copy\n",
            "  if __name__ == '__main__':\n",
            "/usr/local/lib/python3.7/dist-packages/ipykernel_launcher.py:14: SettingWithCopyWarning: \n",
            "A value is trying to be set on a copy of a slice from a DataFrame.\n",
            "Try using .loc[row_indexer,col_indexer] = value instead\n",
            "\n",
            "See the caveats in the documentation: https://pandas.pydata.org/pandas-docs/stable/user_guide/indexing.html#returning-a-view-versus-a-copy\n",
            "  \n",
            "/usr/local/lib/python3.7/dist-packages/ipykernel_launcher.py:19: SettingWithCopyWarning: \n",
            "A value is trying to be set on a copy of a slice from a DataFrame.\n",
            "Try using .loc[row_indexer,col_indexer] = value instead\n",
            "\n",
            "See the caveats in the documentation: https://pandas.pydata.org/pandas-docs/stable/user_guide/indexing.html#returning-a-view-versus-a-copy\n",
            "/usr/local/lib/python3.7/dist-packages/ipykernel_launcher.py:24: SettingWithCopyWarning: \n",
            "A value is trying to be set on a copy of a slice from a DataFrame.\n",
            "Try using .loc[row_indexer,col_indexer] = value instead\n",
            "\n",
            "See the caveats in the documentation: https://pandas.pydata.org/pandas-docs/stable/user_guide/indexing.html#returning-a-view-versus-a-copy\n",
            "/usr/local/lib/python3.7/dist-packages/ipykernel_launcher.py:29: SettingWithCopyWarning: \n",
            "A value is trying to be set on a copy of a slice from a DataFrame.\n",
            "Try using .loc[row_indexer,col_indexer] = value instead\n",
            "\n",
            "See the caveats in the documentation: https://pandas.pydata.org/pandas-docs/stable/user_guide/indexing.html#returning-a-view-versus-a-copy\n",
            "/usr/local/lib/python3.7/dist-packages/ipykernel_launcher.py:34: SettingWithCopyWarning: \n",
            "A value is trying to be set on a copy of a slice from a DataFrame.\n",
            "Try using .loc[row_indexer,col_indexer] = value instead\n",
            "\n",
            "See the caveats in the documentation: https://pandas.pydata.org/pandas-docs/stable/user_guide/indexing.html#returning-a-view-versus-a-copy\n"
          ]
        }
      ]
    },
    {
      "cell_type": "code",
      "source": [
        "# write estimator\n",
        "\n",
        "def p_1_estimator(p_1dp, p, q):\n",
        "    \"\"\"\n",
        "    :param p_1dp: The empirical probability of x_i=1 of our DP dataset.\n",
        "    :param     p: The p value of our DP scheme.\n",
        "    :param     q: The q value of our DP scheme.\n",
        "    :    returns: An estimate of p_1 of our DP dataset.\n",
        "    \"\"\"\n",
        "    return  (p_1dp - p*(1 - q) ) / (1 - p)\n",
        "    # p1_dp se base sur les données =somme des 1 / nombre d'observations\n",
        "\n",
        "print(p_1_estimator(0.1, 0.5, 0.5) )\n",
        "# comme indiqué plus haut des valeurs peuvent être négatives"
      ],
      "metadata": {
        "colab": {
          "base_uri": "https://localhost:8080/"
        },
        "id": "NTa92lHOtg7L",
        "outputId": "ee9c777d-2306-44e3-c02f-8f8aece56f5a"
      },
      "execution_count": 107,
      "outputs": [
        {
          "output_type": "stream",
          "name": "stdout",
          "text": [
            "-0.3\n"
          ]
        }
      ]
    },
    {
      "cell_type": "code",
      "source": [
        "# generate estimate of p_1\n",
        "\n",
        "p=q=0.5\n",
        "n = len(df)\n",
        "#p_1= df['income_binaire'].sum() / n   # fréquence réelle de 1 pour les données\n",
        "p1_dp1=X_minimal['visit_diff_private'].sum() / n   # fréquence de 1 après  diff privacy\n",
        "#p_1_estimated=p_1_estimator(p1_dp,p,q)  # p1 estimée  après  devrait être proche de p1_dp\n",
        "\n",
        "p1_dp2=X_minimal['age_diff_private'].sum() / n\n",
        "p1_dp3=X_minimal['symptom_diff_private'].sum() / n\n",
        "p1_dp4=X_minimal['hydration_diff_private'].sum() / n\n",
        "p1_dp5=X_minimal['hours_diff_private'].sum() / n\n",
        "\n",
        "#print(\"la taille de l'échantillon est: \", n)\n",
        "#print(\"la fréquence réelle de 1 dans les données est:  {:.3f}  \".format(p_1))\n",
        "#print(\"la fréquence réelle de 1 dans après dif privacy:  {:.3f}  \".format(p1_dp))\n",
        "#print(\"la probabilité estimée de 1 après dif privacy est  {:.3f}  : \".format(p_1_estimated))"
      ],
      "metadata": {
        "id": "G8R9XExwtoL2"
      },
      "execution_count": 115,
      "outputs": []
    },
    {
      "cell_type": "code",
      "source": [
        "# estimate variance\n",
        "\n",
        "def var_1_estimator(p_1dp, n, p, q):\n",
        "    \"\"\"\n",
        "    :param p_1dp: The estimates probability of our DP dataset.\n",
        "    :param     n: The number of samples in our dataset.\n",
        "    :param     p: The p value of our DP scheme.\n",
        "    :param     q: The q value of our DP scheme.\n",
        "    :    returns: An estimate of the variance of our DP dataset.\n",
        "    \"\"\"\n",
        "    return ( p1_dp*(1 - p1_dp)) / ( ((1 - p)**2) * n)\n",
        "    \n",
        "var_1_hat1 = var_1_estimator(p1_dp1, len(df), p, q)\n",
        "var_1_hat2 = var_1_estimator(p1_dp2, len(df), p, q)\n",
        "var_1_hat3 = var_1_estimator(p1_dp3, len(df), p, q)\n",
        "var_1_hat4 = var_1_estimator(p1_dp4, len(df), p, q)\n",
        "var_1_hat5 = var_1_estimator(p1_dp5, len(df), p, q)\n",
        "\n",
        "print(var_1_hat1, var_1_hat2, var_1_hat3, var_1_hat4, var_1_hat5)\n",
        "\n"
      ],
      "metadata": {
        "colab": {
          "base_uri": "https://localhost:8080/"
        },
        "id": "FeZkAUIvtwkf",
        "outputId": "d2d598e2-76f8-4ac5-e1c3-54f8594689c3"
      },
      "execution_count": 111,
      "outputs": [
        {
          "output_type": "stream",
          "name": "stdout",
          "text": [
            "-0.10866278399999998 -0.10866278399999998 -0.10866278399999998 -0.10866278399999998 -0.10866278399999998\n"
          ]
        }
      ]
    },
    {
      "cell_type": "code",
      "source": [],
      "metadata": {
        "id": "dYWYzT_hzjAC"
      },
      "execution_count": null,
      "outputs": []
    },
    {
      "cell_type": "code",
      "source": [
        "# repeat the generation process\n",
        "\n",
        "p=q=0.5\n",
        "n = len(X_minimal)\n",
        "p1_dp1=df['visit_diff_private'].sum() / n \n",
        "# start\n",
        "p_1_hats1=[]\n",
        "for j in range(500):\n",
        "  X_minimal['visit_diff_private']=X_minimal['days_since_last_visit'].apply(lambda x :process_value(x, p, q  ))\n",
        "  \"\"\"\n",
        "    valeurs_calculées_par_DP = []\n",
        "    for i, x in enumerate(df['income_binaire']):\n",
        "        valeurs_calculées_par_DP.append (process_value(x, p, q))\n",
        "\n",
        "    df['visit_diff_private'] = np.array(valeurs_calculées_par_DP)\n",
        "  \"\"\"\n",
        "  p_1dp1 = X_minimal['visit_diff_private'].sum()/len(df)\n",
        "  p_1_hat1 = p_1_estimator(p_1dp1, p, q)\n",
        "  p_1_hats1.append(p_1_hat1)\n",
        "\n",
        "p_1_hats1 = np.array(p_1_hats1)  # on convertit la liste en ndarray numpy\n",
        "\n",
        "p_1_hats1[0:20]\n",
        "\n",
        "\n",
        "# repeat the generation process\n",
        "\n",
        "#p=q=0.5\n",
        "#n = len(X_minimal)\n",
        "p1_dp2=X_minimal['age_diff_private'].sum() / n \n",
        "# start\n",
        "p_1_hats2=[]\n",
        "for j in range(500):\n",
        "  X_minimal['age_diff_private']=X_minimal['age'].apply(lambda x :process_value(x, p, q  ))\n",
        "  \"\"\"\n",
        "    valeurs_calculées_par_DP = []\n",
        "    for i, x in enumerate(X_minimal['age_diff_private']):\n",
        "        valeurs_calculées_par_DP.append (process_value(x, p, q))\n",
        "\n",
        "    X_minimal['income_diff_private'] = np.array(valeurs_calculées_par_DP)\n",
        "  \"\"\"\n",
        "  p_1dp2 = X_minimal['age_diff_private'].sum()/len(df)\n",
        "  p_1_hat2 = p_1_estimator(p_1dp2, p, q)\n",
        "  p_1_hats2.append(p_1_hat2)\n",
        "\n",
        "p_1_hats2 = np.array(p_1_hats2)  # on convertit la liste en ndarray numpy\n",
        "\n",
        "p_1_hats2[0:20]\n",
        "\n",
        "\n",
        "# repeat the generation process\n",
        "\n",
        "#p=q=0.5\n",
        "#n = len(X_minimal)\n",
        "p1_dp=X_minimal['symptom_diff_private'].sum() / n \n",
        "# start\n",
        "p_1_hats3=[]\n",
        "for j in range(500):\n",
        "  X_minimal['symptom_diff_private']=X_minimal['symptom_code'].apply(lambda x :process_value(x, p, q  ))\n",
        "  \"\"\"\n",
        "    valeurs_calculées_par_DP = []\n",
        "    for i, x in enumerate(df['symptom_diff_private']):\n",
        "        valeurs_calculées_par_DP.append (process_value(x, p, q))\n",
        "\n",
        "    X_minimal['symptom_diff_private'] = np.array(valeurs_calculées_par_DP)\n",
        "  \"\"\"\n",
        "  p_1dp3 = X_minimal['symptom_diff_private'].sum()/len(X_minimal)\n",
        "  p_1_hat3 = p_1_estimator(p_1dp3, p, q)\n",
        "  p_1_hats3.append(p_1_hat3)\n",
        "\n",
        "p_1_hats3 = np.array(p_1_hats3)  # on convertit la liste en ndarray numpy\n",
        "\n",
        "p_1_hats3[0:20]\n",
        "\n",
        "\n",
        "# repeat the generation process\n",
        "\n",
        "#p=q=0.5\n",
        "#n = len(X_minimal)\n",
        "p1_dp4=X_minimal['hours_diff_private'].sum() / n \n",
        "# start\n",
        "p_1_hats4=[]\n",
        "for j in range(500):\n",
        "  X_minimal['hours_diff_private']=X_minimal['hours_hospitalized'].apply(lambda x :process_value(x, p, q  ))\n",
        "  \"\"\"\n",
        "    valeurs_calculées_par_DP = []\n",
        "    for i, x in enumerate(X_minimal['hours_hospitalized']):\n",
        "        valeurs_calculées_par_DP.append (process_value(x, p, q))\n",
        "\n",
        "    X_minimal['hours_diff_private'] = np.array(valeurs_calculées_par_DP)\n",
        "  \"\"\"\n",
        "  p_1dp4 = X_minimal['hours_diff_private'].sum()/len(df)\n",
        "  p_1_hat4 = p_1_estimator(p_1dp4, p, q)\n",
        "  p_1_hats4.append(p_1_hat4)\n",
        "\n",
        "p_1_hats4 = np.array(p_1_hats4)  # on convertit la liste en ndarray numpy\n",
        "\n",
        "p_1_hats4[0:20]\n",
        "\n",
        "\n",
        "# repeat the generation process\n",
        "\n",
        "#p=q=0.5\n",
        "#n = len(df)\n",
        "p1_dp5=X_minimal['hydration_diff_private'].sum() / n \n",
        "# start\n",
        "p_1_hats5=[]\n",
        "for j in range(500):\n",
        "  df['hydration_diff_private']=X_minimal['hydration_level'].apply(lambda x :process_value(x, p, q  ))\n",
        "  \"\"\"\n",
        "    valeurs_calculées_par_DP = []\n",
        "    for i, x in enumerate(df['hydration_level']):\n",
        "        valeurs_calculées_par_DP.append (process_value(x, p, q))\n",
        "\n",
        "    df['hydration_diff_private'] = np.array(valeurs_calculées_par_DP)\n",
        "  \"\"\"\n",
        "  p_1dp5 = X_minimal['hydration_diff_private'].sum()/len(X_minimal)\n",
        "  p_1_hat5 = p_1_estimator(p_1dp5, p, q)\n",
        "  p_1_hats5.append(p_1_hat5)\n",
        "\n",
        "p_1_hats5 = np.array(p_1_hats5)  # on convertit la liste en ndarray numpy\n",
        "\n",
        "p_1_hats5[0:20]"
      ],
      "metadata": {
        "colab": {
          "base_uri": "https://localhost:8080/"
        },
        "id": "pf4i_oONt4Nl",
        "outputId": "5d52b845-b826-4245-faa0-35100a546cbe"
      },
      "execution_count": 116,
      "outputs": [
        {
          "output_type": "stream",
          "name": "stderr",
          "text": [
            "/usr/local/lib/python3.7/dist-packages/ipykernel_launcher.py:9: SettingWithCopyWarning: \n",
            "A value is trying to be set on a copy of a slice from a DataFrame.\n",
            "Try using .loc[row_indexer,col_indexer] = value instead\n",
            "\n",
            "See the caveats in the documentation: https://pandas.pydata.org/pandas-docs/stable/user_guide/indexing.html#returning-a-view-versus-a-copy\n",
            "  if __name__ == '__main__':\n",
            "/usr/local/lib/python3.7/dist-packages/ipykernel_launcher.py:34: SettingWithCopyWarning: \n",
            "A value is trying to be set on a copy of a slice from a DataFrame.\n",
            "Try using .loc[row_indexer,col_indexer] = value instead\n",
            "\n",
            "See the caveats in the documentation: https://pandas.pydata.org/pandas-docs/stable/user_guide/indexing.html#returning-a-view-versus-a-copy\n",
            "/usr/local/lib/python3.7/dist-packages/ipykernel_launcher.py:59: SettingWithCopyWarning: \n",
            "A value is trying to be set on a copy of a slice from a DataFrame.\n",
            "Try using .loc[row_indexer,col_indexer] = value instead\n",
            "\n",
            "See the caveats in the documentation: https://pandas.pydata.org/pandas-docs/stable/user_guide/indexing.html#returning-a-view-versus-a-copy\n",
            "/usr/local/lib/python3.7/dist-packages/ipykernel_launcher.py:84: SettingWithCopyWarning: \n",
            "A value is trying to be set on a copy of a slice from a DataFrame.\n",
            "Try using .loc[row_indexer,col_indexer] = value instead\n",
            "\n",
            "See the caveats in the documentation: https://pandas.pydata.org/pandas-docs/stable/user_guide/indexing.html#returning-a-view-versus-a-copy\n"
          ]
        },
        {
          "output_type": "execute_result",
          "data": {
            "text/plain": [
              "array([4.882, 4.882, 4.882, 4.882, 4.882, 4.882, 4.882, 4.882, 4.882,\n",
              "       4.882, 4.882, 4.882, 4.882, 4.882, 4.882, 4.882, 4.882, 4.882,\n",
              "       4.882, 4.882])"
            ]
          },
          "metadata": {},
          "execution_count": 116
        }
      ]
    },
    {
      "cell_type": "markdown",
      "source": [
        "What was difficult to decide and implement?"
      ],
      "metadata": {
        "id": "JVnGAtV93_x7"
      }
    },
    {
      "cell_type": "markdown",
      "source": [
        "It was first difficult to decide which method to chose, which data to remove, which to protect and at which step to implement it all."
      ],
      "metadata": {
        "id": "NIPdp4Ar4Ed6"
      }
    },
    {
      "cell_type": "markdown",
      "source": [
        "How might this relate to real problems in machine learning with sensitive data?"
      ],
      "metadata": {
        "id": "GfMVDUgU4Y_J"
      }
    },
    {
      "cell_type": "markdown",
      "source": [
        "This might relate to an hospital having to decide which data to duplicate from their production environment to their development environment within their datahub so that a data team could work with it for example."
      ],
      "metadata": {
        "id": "yHG1CMB44fHi"
      }
    },
    {
      "cell_type": "markdown",
      "source": [
        "### Bonus: machine learning from anonymized Dataset"
      ],
      "metadata": {
        "id": "C79Fbvhs46q5"
      }
    },
    {
      "cell_type": "markdown",
      "source": [],
      "metadata": {
        "id": "0V7f0EF2smsK"
      }
    },
    {
      "cell_type": "code",
      "source": [
        "#@title\n",
        "#ss = StandardScaler() #StandardScaler()\n",
        "#X_train_scaled = ss.fit_transform(scalable_X_train) #X_train) #c for c in X_train if c not in [\"admitted_ts\"]) # [c for c in columns if c not in [\"test\", 'date']]\n",
        "#X_test_scaled = ss.transform(scalable_y_train) #X_test)"
      ],
      "metadata": {
        "colab": {
          "base_uri": "https://localhost:8080/",
          "height": 395
        },
        "collapsed": true,
        "cellView": "form",
        "id": "cFnqJ6haFVZv",
        "outputId": "286a5eab-89fb-41b1-b282-297f7d018fac"
      },
      "execution_count": 50,
      "outputs": [
        {
          "output_type": "error",
          "ename": "ValueError",
          "evalue": "ignored",
          "traceback": [
            "\u001b[0;31m---------------------------------------------------------------------------\u001b[0m",
            "\u001b[0;31mValueError\u001b[0m                                Traceback (most recent call last)",
            "\u001b[0;32m<ipython-input-50-b44c715a850c>\u001b[0m in \u001b[0;36m<module>\u001b[0;34m\u001b[0m\n\u001b[1;32m      1\u001b[0m \u001b[0;31m#@title\u001b[0m\u001b[0;34m\u001b[0m\u001b[0;34m\u001b[0m\u001b[0;34m\u001b[0m\u001b[0m\n\u001b[1;32m      2\u001b[0m \u001b[0mss\u001b[0m \u001b[0;34m=\u001b[0m \u001b[0mStandardScaler\u001b[0m\u001b[0;34m(\u001b[0m\u001b[0;34m)\u001b[0m \u001b[0;31m#StandardScaler()\u001b[0m\u001b[0;34m\u001b[0m\u001b[0;34m\u001b[0m\u001b[0m\n\u001b[0;32m----> 3\u001b[0;31m \u001b[0mX_train_scaled\u001b[0m \u001b[0;34m=\u001b[0m \u001b[0mss\u001b[0m\u001b[0;34m.\u001b[0m\u001b[0mfit_transform\u001b[0m\u001b[0;34m(\u001b[0m\u001b[0mscalable_X_train\u001b[0m\u001b[0;34m)\u001b[0m \u001b[0;31m#X_train) #c for c in X_train if c not in [\"admitted_ts\"]) # [c for c in columns if c not in [\"test\", 'date']]\u001b[0m\u001b[0;34m\u001b[0m\u001b[0;34m\u001b[0m\u001b[0m\n\u001b[0m\u001b[1;32m      4\u001b[0m \u001b[0mX_test_scaled\u001b[0m \u001b[0;34m=\u001b[0m \u001b[0mss\u001b[0m\u001b[0;34m.\u001b[0m\u001b[0mtransform\u001b[0m\u001b[0;34m(\u001b[0m\u001b[0mscalable_y_train\u001b[0m\u001b[0;34m)\u001b[0m \u001b[0;31m#X_test)\u001b[0m\u001b[0;34m\u001b[0m\u001b[0;34m\u001b[0m\u001b[0m\n",
            "\u001b[0;32m/usr/local/lib/python3.7/dist-packages/sklearn/base.py\u001b[0m in \u001b[0;36mfit_transform\u001b[0;34m(self, X, y, **fit_params)\u001b[0m\n\u001b[1;32m    850\u001b[0m         \u001b[0;32mif\u001b[0m \u001b[0my\u001b[0m \u001b[0;32mis\u001b[0m \u001b[0;32mNone\u001b[0m\u001b[0;34m:\u001b[0m\u001b[0;34m\u001b[0m\u001b[0;34m\u001b[0m\u001b[0m\n\u001b[1;32m    851\u001b[0m             \u001b[0;31m# fit method of arity 1 (unsupervised transformation)\u001b[0m\u001b[0;34m\u001b[0m\u001b[0;34m\u001b[0m\u001b[0;34m\u001b[0m\u001b[0m\n\u001b[0;32m--> 852\u001b[0;31m             \u001b[0;32mreturn\u001b[0m \u001b[0mself\u001b[0m\u001b[0;34m.\u001b[0m\u001b[0mfit\u001b[0m\u001b[0;34m(\u001b[0m\u001b[0mX\u001b[0m\u001b[0;34m,\u001b[0m \u001b[0;34m**\u001b[0m\u001b[0mfit_params\u001b[0m\u001b[0;34m)\u001b[0m\u001b[0;34m.\u001b[0m\u001b[0mtransform\u001b[0m\u001b[0;34m(\u001b[0m\u001b[0mX\u001b[0m\u001b[0;34m)\u001b[0m\u001b[0;34m\u001b[0m\u001b[0;34m\u001b[0m\u001b[0m\n\u001b[0m\u001b[1;32m    853\u001b[0m         \u001b[0;32melse\u001b[0m\u001b[0;34m:\u001b[0m\u001b[0;34m\u001b[0m\u001b[0;34m\u001b[0m\u001b[0m\n\u001b[1;32m    854\u001b[0m             \u001b[0;31m# fit method of arity 2 (supervised transformation)\u001b[0m\u001b[0;34m\u001b[0m\u001b[0;34m\u001b[0m\u001b[0;34m\u001b[0m\u001b[0m\n",
            "\u001b[0;32m/usr/local/lib/python3.7/dist-packages/sklearn/preprocessing/_data.py\u001b[0m in \u001b[0;36mfit\u001b[0;34m(self, X, y, sample_weight)\u001b[0m\n\u001b[1;32m    804\u001b[0m         \u001b[0;31m# Reset internal state before fitting\u001b[0m\u001b[0;34m\u001b[0m\u001b[0;34m\u001b[0m\u001b[0;34m\u001b[0m\u001b[0m\n\u001b[1;32m    805\u001b[0m         \u001b[0mself\u001b[0m\u001b[0;34m.\u001b[0m\u001b[0m_reset\u001b[0m\u001b[0;34m(\u001b[0m\u001b[0;34m)\u001b[0m\u001b[0;34m\u001b[0m\u001b[0;34m\u001b[0m\u001b[0m\n\u001b[0;32m--> 806\u001b[0;31m         \u001b[0;32mreturn\u001b[0m \u001b[0mself\u001b[0m\u001b[0;34m.\u001b[0m\u001b[0mpartial_fit\u001b[0m\u001b[0;34m(\u001b[0m\u001b[0mX\u001b[0m\u001b[0;34m,\u001b[0m \u001b[0my\u001b[0m\u001b[0;34m,\u001b[0m \u001b[0msample_weight\u001b[0m\u001b[0;34m)\u001b[0m\u001b[0;34m\u001b[0m\u001b[0;34m\u001b[0m\u001b[0m\n\u001b[0m\u001b[1;32m    807\u001b[0m \u001b[0;34m\u001b[0m\u001b[0m\n\u001b[1;32m    808\u001b[0m     \u001b[0;32mdef\u001b[0m \u001b[0mpartial_fit\u001b[0m\u001b[0;34m(\u001b[0m\u001b[0mself\u001b[0m\u001b[0;34m,\u001b[0m \u001b[0mX\u001b[0m\u001b[0;34m,\u001b[0m \u001b[0my\u001b[0m\u001b[0;34m=\u001b[0m\u001b[0;32mNone\u001b[0m\u001b[0;34m,\u001b[0m \u001b[0msample_weight\u001b[0m\u001b[0;34m=\u001b[0m\u001b[0;32mNone\u001b[0m\u001b[0;34m)\u001b[0m\u001b[0;34m:\u001b[0m\u001b[0;34m\u001b[0m\u001b[0;34m\u001b[0m\u001b[0m\n",
            "\u001b[0;32m/usr/local/lib/python3.7/dist-packages/sklearn/preprocessing/_data.py\u001b[0m in \u001b[0;36mpartial_fit\u001b[0;34m(self, X, y, sample_weight)\u001b[0m\n\u001b[1;32m    845\u001b[0m             \u001b[0mdtype\u001b[0m\u001b[0;34m=\u001b[0m\u001b[0mFLOAT_DTYPES\u001b[0m\u001b[0;34m,\u001b[0m\u001b[0;34m\u001b[0m\u001b[0;34m\u001b[0m\u001b[0m\n\u001b[1;32m    846\u001b[0m             \u001b[0mforce_all_finite\u001b[0m\u001b[0;34m=\u001b[0m\u001b[0;34m\"allow-nan\"\u001b[0m\u001b[0;34m,\u001b[0m\u001b[0;34m\u001b[0m\u001b[0;34m\u001b[0m\u001b[0m\n\u001b[0;32m--> 847\u001b[0;31m             \u001b[0mreset\u001b[0m\u001b[0;34m=\u001b[0m\u001b[0mfirst_call\u001b[0m\u001b[0;34m,\u001b[0m\u001b[0;34m\u001b[0m\u001b[0;34m\u001b[0m\u001b[0m\n\u001b[0m\u001b[1;32m    848\u001b[0m         )\n\u001b[1;32m    849\u001b[0m         \u001b[0mn_features\u001b[0m \u001b[0;34m=\u001b[0m \u001b[0mX\u001b[0m\u001b[0;34m.\u001b[0m\u001b[0mshape\u001b[0m\u001b[0;34m[\u001b[0m\u001b[0;36m1\u001b[0m\u001b[0;34m]\u001b[0m\u001b[0;34m\u001b[0m\u001b[0;34m\u001b[0m\u001b[0m\n",
            "\u001b[0;32m/usr/local/lib/python3.7/dist-packages/sklearn/base.py\u001b[0m in \u001b[0;36m_validate_data\u001b[0;34m(self, X, y, reset, validate_separately, **check_params)\u001b[0m\n\u001b[1;32m    564\u001b[0m             \u001b[0;32mraise\u001b[0m \u001b[0mValueError\u001b[0m\u001b[0;34m(\u001b[0m\u001b[0;34m\"Validation should be done on X, y or both.\"\u001b[0m\u001b[0;34m)\u001b[0m\u001b[0;34m\u001b[0m\u001b[0;34m\u001b[0m\u001b[0m\n\u001b[1;32m    565\u001b[0m         \u001b[0;32melif\u001b[0m \u001b[0;32mnot\u001b[0m \u001b[0mno_val_X\u001b[0m \u001b[0;32mand\u001b[0m \u001b[0mno_val_y\u001b[0m\u001b[0;34m:\u001b[0m\u001b[0;34m\u001b[0m\u001b[0;34m\u001b[0m\u001b[0m\n\u001b[0;32m--> 566\u001b[0;31m             \u001b[0mX\u001b[0m \u001b[0;34m=\u001b[0m \u001b[0mcheck_array\u001b[0m\u001b[0;34m(\u001b[0m\u001b[0mX\u001b[0m\u001b[0;34m,\u001b[0m \u001b[0;34m**\u001b[0m\u001b[0mcheck_params\u001b[0m\u001b[0;34m)\u001b[0m\u001b[0;34m\u001b[0m\u001b[0;34m\u001b[0m\u001b[0m\n\u001b[0m\u001b[1;32m    567\u001b[0m             \u001b[0mout\u001b[0m \u001b[0;34m=\u001b[0m \u001b[0mX\u001b[0m\u001b[0;34m\u001b[0m\u001b[0;34m\u001b[0m\u001b[0m\n\u001b[1;32m    568\u001b[0m         \u001b[0;32melif\u001b[0m \u001b[0mno_val_X\u001b[0m \u001b[0;32mand\u001b[0m \u001b[0;32mnot\u001b[0m \u001b[0mno_val_y\u001b[0m\u001b[0;34m:\u001b[0m\u001b[0;34m\u001b[0m\u001b[0;34m\u001b[0m\u001b[0m\n",
            "\u001b[0;32m/usr/local/lib/python3.7/dist-packages/sklearn/utils/validation.py\u001b[0m in \u001b[0;36mcheck_array\u001b[0;34m(array, accept_sparse, accept_large_sparse, dtype, order, copy, force_all_finite, ensure_2d, allow_nd, ensure_min_samples, ensure_min_features, estimator)\u001b[0m\n\u001b[1;32m    744\u001b[0m                     \u001b[0marray\u001b[0m \u001b[0;34m=\u001b[0m \u001b[0marray\u001b[0m\u001b[0;34m.\u001b[0m\u001b[0mastype\u001b[0m\u001b[0;34m(\u001b[0m\u001b[0mdtype\u001b[0m\u001b[0;34m,\u001b[0m \u001b[0mcasting\u001b[0m\u001b[0;34m=\u001b[0m\u001b[0;34m\"unsafe\"\u001b[0m\u001b[0;34m,\u001b[0m \u001b[0mcopy\u001b[0m\u001b[0;34m=\u001b[0m\u001b[0;32mFalse\u001b[0m\u001b[0;34m)\u001b[0m\u001b[0;34m\u001b[0m\u001b[0;34m\u001b[0m\u001b[0m\n\u001b[1;32m    745\u001b[0m                 \u001b[0;32melse\u001b[0m\u001b[0;34m:\u001b[0m\u001b[0;34m\u001b[0m\u001b[0;34m\u001b[0m\u001b[0m\n\u001b[0;32m--> 746\u001b[0;31m                     \u001b[0marray\u001b[0m \u001b[0;34m=\u001b[0m \u001b[0mnp\u001b[0m\u001b[0;34m.\u001b[0m\u001b[0masarray\u001b[0m\u001b[0;34m(\u001b[0m\u001b[0marray\u001b[0m\u001b[0;34m,\u001b[0m \u001b[0morder\u001b[0m\u001b[0;34m=\u001b[0m\u001b[0morder\u001b[0m\u001b[0;34m,\u001b[0m \u001b[0mdtype\u001b[0m\u001b[0;34m=\u001b[0m\u001b[0mdtype\u001b[0m\u001b[0;34m)\u001b[0m\u001b[0;34m\u001b[0m\u001b[0;34m\u001b[0m\u001b[0m\n\u001b[0m\u001b[1;32m    747\u001b[0m             \u001b[0;32mexcept\u001b[0m \u001b[0mComplexWarning\u001b[0m \u001b[0;32mas\u001b[0m \u001b[0mcomplex_warning\u001b[0m\u001b[0;34m:\u001b[0m\u001b[0;34m\u001b[0m\u001b[0;34m\u001b[0m\u001b[0m\n\u001b[1;32m    748\u001b[0m                 raise ValueError(\n",
            "\u001b[0;32m/usr/local/lib/python3.7/dist-packages/pandas/core/generic.py\u001b[0m in \u001b[0;36m__array__\u001b[0;34m(self, dtype)\u001b[0m\n\u001b[1;32m   1991\u001b[0m \u001b[0;34m\u001b[0m\u001b[0m\n\u001b[1;32m   1992\u001b[0m     \u001b[0;32mdef\u001b[0m \u001b[0m__array__\u001b[0m\u001b[0;34m(\u001b[0m\u001b[0mself\u001b[0m\u001b[0;34m,\u001b[0m \u001b[0mdtype\u001b[0m\u001b[0;34m:\u001b[0m \u001b[0mNpDtype\u001b[0m \u001b[0;34m|\u001b[0m \u001b[0;32mNone\u001b[0m \u001b[0;34m=\u001b[0m \u001b[0;32mNone\u001b[0m\u001b[0;34m)\u001b[0m \u001b[0;34m->\u001b[0m \u001b[0mnp\u001b[0m\u001b[0;34m.\u001b[0m\u001b[0mndarray\u001b[0m\u001b[0;34m:\u001b[0m\u001b[0;34m\u001b[0m\u001b[0;34m\u001b[0m\u001b[0m\n\u001b[0;32m-> 1993\u001b[0;31m         \u001b[0;32mreturn\u001b[0m \u001b[0mnp\u001b[0m\u001b[0;34m.\u001b[0m\u001b[0masarray\u001b[0m\u001b[0;34m(\u001b[0m\u001b[0mself\u001b[0m\u001b[0;34m.\u001b[0m\u001b[0m_values\u001b[0m\u001b[0;34m,\u001b[0m \u001b[0mdtype\u001b[0m\u001b[0;34m=\u001b[0m\u001b[0mdtype\u001b[0m\u001b[0;34m)\u001b[0m\u001b[0;34m\u001b[0m\u001b[0;34m\u001b[0m\u001b[0m\n\u001b[0m\u001b[1;32m   1994\u001b[0m \u001b[0;34m\u001b[0m\u001b[0m\n\u001b[1;32m   1995\u001b[0m     def __array_wrap__(\n",
            "\u001b[0;31mValueError\u001b[0m: could not convert string to float: 'northern'"
          ]
        }
      ]
    },
    {
      "cell_type": "code",
      "source": [
        "#@title\n",
        "# Train_df = df[:848]\n",
        "# Test_df = df[849:979]\n",
        "# Val_df = df[949:]"
      ],
      "metadata": {
        "cellView": "form",
        "id": "HNRxjpznAkql"
      },
      "execution_count": 22,
      "outputs": []
    },
    {
      "cell_type": "code",
      "source": [
        "#@title\n",
        "# train_target = np.asarray(Train_df['has_diabetes'])\n",
        "# test_target = np.asarray(Test_df['has_diabetes']) #asarray(Test_df['has_diabetes']))\n",
        "\n",
        "# train_data = Train_df.drop(\n",
        "#     ['has_diabetes','admitted_ts','hospital','marital_status','patient_name','ssn'], axis=1)\n",
        "\n",
        "#test_data = Test_df.drop(\n",
        "#    ['has_diabetes','admitted_ts','hospital','marital_status','patient_name','ssn'], axis=1)"
      ],
      "metadata": {
        "cellView": "form",
        "id": "fwESeld3A09O"
      },
      "execution_count": 25,
      "outputs": []
    },
    {
      "cell_type": "code",
      "source": [
        "#@title\n",
        "#print(train_data) #, train_target)"
      ],
      "metadata": {
        "colab": {
          "base_uri": "https://localhost:8080/"
        },
        "collapsed": true,
        "cellView": "form",
        "id": "ghPeFrXhDDU-",
        "outputId": "c4492096-00e1-4d2c-99fe-42def7102bff"
      },
      "execution_count": 27,
      "outputs": [
        {
          "output_type": "stream",
          "name": "stdout",
          "text": [
            "     age  ambulance_call  blood_sugar_reading  days_since_last_visit  \\\n",
            "0     49               1                  108                     99   \n",
            "1     82               1                   70                    100   \n",
            "2     71               1                  100                     78   \n",
            "3     87               0                  113                     72   \n",
            "4     53               1                   93                     80   \n",
            "..   ...             ...                  ...                    ...   \n",
            "843   83               0                   92                     64   \n",
            "844   19               1                   82                     85   \n",
            "845   32               0                  105                     74   \n",
            "846   36               0                  104                     38   \n",
            "847   38               0                  110                     53   \n",
            "\n",
            "     hours_hospitalized  hydration_level    id  insulin  no_primary_dr  \\\n",
            "0                    15                6  1000        1          False   \n",
            "1                    22                1  1001        1          False   \n",
            "2                     1                4  1002        1           True   \n",
            "3                    22                4  1003        1          False   \n",
            "4                    17                8  1004        0           True   \n",
            "..                  ...              ...   ...      ...            ...   \n",
            "843                   5                6  1843        0           True   \n",
            "844                   4                6  1844        0          False   \n",
            "845                  12                7  1845        0          False   \n",
            "846                  20                2  1846        1           True   \n",
            "847                  15                1  1847        0          False   \n",
            "\n",
            "     private_insurance  released_sameday  symptom_code  \n",
            "0                    0                 0             4  \n",
            "1                    0                 0             3  \n",
            "2                    0                 1             2  \n",
            "3                    1                 0             0  \n",
            "4                    0                 0             8  \n",
            "..                 ...               ...           ...  \n",
            "843                  0                 1             4  \n",
            "844                  0                 1             6  \n",
            "845                  1                 0             0  \n",
            "846                  0                 0             6  \n",
            "847                  1                 0             0  \n",
            "\n",
            "[848 rows x 12 columns]\n"
          ]
        }
      ]
    },
    {
      "cell_type": "code",
      "source": [
        "#@title\n",
        "#print(train_target)"
      ],
      "metadata": {
        "colab": {
          "base_uri": "https://localhost:8080/"
        },
        "collapsed": true,
        "cellView": "form",
        "id": "kWKHK5-wDPbl",
        "outputId": "f357ce65-4932-4daf-9d52-cc544c89d7b8"
      },
      "execution_count": 28,
      "outputs": [
        {
          "output_type": "stream",
          "name": "stdout",
          "text": [
            "[1 1 1 1 1 1 1 1 0 1 1 1 0 1 1 1 0 1 0 1 0 1 1 1 1 0 1 1 0 1 0 1 1 1 1 1 1\n",
            " 1 1 0 1 0 1 1 1 1 0 1 1 1 1 1 1 1 1 0 0 0 1 1 1 1 1 1 1 1 1 1 1 1 1 1 1 1\n",
            " 1 1 0 1 1 1 1 1 1 1 1 0 0 1 1 1 0 1 0 1 0 1 1 1 1 1 1 0 1 0 1 1 1 1 1 0 0\n",
            " 1 1 1 1 0 1 1 1 1 1 1 1 0 0 0 1 0 1 1 1 0 1 1 1 1 1 0 1 1 1 1 1 1 1 1 0 1\n",
            " 1 1 1 1 1 1 1 0 1 1 1 1 0 0 1 1 1 1 0 1 0 1 1 1 1 0 1 1 1 1 1 0 0 1 1 1 1\n",
            " 1 1 0 1 1 1 1 1 1 0 0 0 1 1 0 1 1 1 1 0 0 0 1 1 1 0 0 1 1 1 0 0 1 1 0 1 1\n",
            " 1 1 1 1 1 1 1 0 1 0 1 1 1 1 1 0 1 0 1 0 1 1 1 1 1 1 0 1 0 1 1 1 0 1 1 1 1\n",
            " 1 1 1 1 1 1 1 1 1 1 0 1 1 1 1 1 1 0 1 1 0 1 1 1 1 1 1 1 1 1 1 0 0 0 1 1 1\n",
            " 1 1 1 0 1 1 0 1 1 1 0 0 1 1 1 1 1 1 1 1 1 1 0 0 1 0 1 1 1 0 1 1 1 1 0 1 0\n",
            " 1 1 0 0 1 1 1 0 1 1 1 1 1 1 1 1 0 1 1 0 1 1 0 1 0 1 0 1 1 0 1 1 1 0 1 1 1\n",
            " 1 0 1 1 1 1 0 1 1 1 1 1 1 1 1 0 1 0 1 1 1 1 1 1 0 0 1 1 1 0 0 1 1 0 1 1 0\n",
            " 1 1 1 1 1 1 0 1 0 1 1 1 1 0 1 1 0 0 1 1 1 1 1 0 1 1 1 0 1 1 1 1 0 1 1 1 1\n",
            " 0 1 1 0 1 1 0 1 1 1 1 1 0 1 1 0 0 1 1 1 1 1 1 1 1 1 1 1 1 0 0 1 1 1 0 1 1\n",
            " 1 1 1 0 0 1 1 1 1 0 1 1 1 1 1 1 1 1 1 1 1 1 0 0 1 1 1 1 0 1 1 1 1 0 0 1 1\n",
            " 1 1 0 1 1 0 0 1 1 1 1 1 0 1 1 1 0 1 1 1 0 0 0 0 1 1 0 0 0 1 1 1 1 1 1 1 1\n",
            " 1 1 1 0 1 1 1 1 1 0 1 1 0 0 1 0 0 1 1 1 1 0 1 1 1 1 1 1 1 0 0 1 1 1 1 1 1\n",
            " 1 1 1 1 0 0 1 0 1 1 1 1 1 0 0 1 1 1 1 1 1 1 1 1 1 0 1 0 0 1 1 0 1 1 1 1 1\n",
            " 1 1 1 0 0 1 1 1 1 1 1 1 1 0 1 0 1 0 0 1 0 1 1 1 1 0 0 1 1 1 1 1 1 0 1 1 1\n",
            " 1 1 0 0 1 1 0 1 1 1 0 1 0 1 1 0 1 1 1 0 1 1 1 0 1 0 1 1 1 1 1 0 1 0 0 0 1\n",
            " 1 1 1 1 1 1 1 1 1 0 1 0 1 1 1 1 1 1 1 0 1 1 0 0 1 1 1 0 1 1 1 1 1 1 1 0 1\n",
            " 1 1 1 1 1 1 1 1 1 1 1 0 0 1 0 0 1 0 1 1 1 1 0 0 0 1 1 1 1 0 0 0 1 1 0 0 1\n",
            " 1 0 1 1 1 1 0 0 1 1 1 0 1 0 1 1 1 1 1 1 1 0 1 1 0 1 1 1 0 1 1 0 1 0 0 1 1\n",
            " 1 1 1 1 1 1 0 1 1 1 0 1 1 1 1 1 0 1 1 1 1 1 0 1 1 1 0 1 0 1 1 1 1 1]\n"
          ]
        }
      ]
    },
    {
      "cell_type": "code",
      "source": [
        "train_Xm, test_Xm, train_y, test_y = train_test_split(\n",
        "    X_minimal, y, test_size=0.25, random_state=42\n",
        ")"
      ],
      "metadata": {
        "id": "kqKZfUTj6maF"
      },
      "execution_count": 117,
      "outputs": []
    },
    {
      "cell_type": "code",
      "source": [
        "# Train a baseline logistic regression\n",
        "diabetes_check = LogisticRegression()\n",
        "#diabetes_check.fit(X_train, y_train)\n",
        "diabetes_check.fit(train_Xm, train_y)"
      ],
      "metadata": {
        "colab": {
          "base_uri": "https://localhost:8080/"
        },
        "id": "2GLiB4SnDVHV",
        "outputId": "f4dba332-c1ce-4064-c3da-6a418382f996"
      },
      "execution_count": 118,
      "outputs": [
        {
          "output_type": "stream",
          "name": "stderr",
          "text": [
            "/usr/local/lib/python3.7/dist-packages/sklearn/linear_model/_logistic.py:818: ConvergenceWarning: lbfgs failed to converge (status=1):\n",
            "STOP: TOTAL NO. of ITERATIONS REACHED LIMIT.\n",
            "\n",
            "Increase the number of iterations (max_iter) or scale the data as shown in:\n",
            "    https://scikit-learn.org/stable/modules/preprocessing.html\n",
            "Please also refer to the documentation for alternative solver options:\n",
            "    https://scikit-learn.org/stable/modules/linear_model.html#logistic-regression\n",
            "  extra_warning_msg=_LOGISTIC_SOLVER_CONVERGENCE_MSG,\n"
          ]
        },
        {
          "output_type": "execute_result",
          "data": {
            "text/plain": [
              "LogisticRegression()"
            ]
          },
          "metadata": {},
          "execution_count": 118
        }
      ]
    },
    {
      "cell_type": "code",
      "source": [
        "# Train a baseline logistic regression\n",
        "diabetes_check = LogisticRegression(max_iter=1000)\n",
        "#diabetes_check.fit(X_train, y_train)\n",
        "diabetes_check.fit(train_Xm, train_y)"
      ],
      "metadata": {
        "colab": {
          "base_uri": "https://localhost:8080/"
        },
        "id": "Pkli2tRu-R_s",
        "outputId": "2e7d0781-d8a5-40f4-9913-724e50530bb4"
      },
      "execution_count": 124,
      "outputs": [
        {
          "output_type": "execute_result",
          "data": {
            "text/plain": [
              "LogisticRegression(max_iter=1000)"
            ]
          },
          "metadata": {},
          "execution_count": 124
        }
      ]
    },
    {
      "cell_type": "code",
      "source": [
        "train_y"
      ],
      "metadata": {
        "colab": {
          "base_uri": "https://localhost:8080/"
        },
        "id": "nUcgpIZy8o2s",
        "outputId": "dd3cb68b-a521-4ec7-97c7-5eb41677ac09"
      },
      "execution_count": 123,
      "outputs": [
        {
          "output_type": "execute_result",
          "data": {
            "text/plain": [
              "82     1\n",
              "991    1\n",
              "789    1\n",
              "894    1\n",
              "398    1\n",
              "      ..\n",
              "106    1\n",
              "270    1\n",
              "860    1\n",
              "435    1\n",
              "102    1\n",
              "Name: has_diabetes, Length: 750, dtype: int64"
            ]
          },
          "metadata": {},
          "execution_count": 123
        }
      ]
    },
    {
      "cell_type": "code",
      "source": [
        "#@title\n",
        "#featured_df = pd.concat([\n",
        " #   pd.DataFrame(df['has_diabetes'], columns=['has_diabetes']),\n",
        "  #  pd.DataFrame(df, columns=df.loc[:, df.columns != \"has_diabetes\"]),\n",
        "    #verify_integrity=True\n",
        "]) #, verify_integrity=True)\n",
        "#print(featured_df.head())\n",
        "# pd.concat([df5, df6], verify_integrity=True)"
      ],
      "metadata": {
        "colab": {
          "base_uri": "https://localhost:8080/"
        },
        "cellView": "form",
        "collapsed": true,
        "id": "rK79Fm-B49x9",
        "outputId": "231a764c-f085-49da-d48b-b291b35eabde"
      },
      "execution_count": 18,
      "outputs": [
        {
          "output_type": "stream",
          "name": "stdout",
          "text": [
            "   has_diabetes  \\\n",
            "0           1.0   \n",
            "1           1.0   \n",
            "2           1.0   \n",
            "3           1.0   \n",
            "4           1.0   \n",
            "\n",
            "   (2018-05-09 12:06:28, 49, 1, 108, 99, district, 15, 6, 1000, 1, single, False, Rachel Shelton, 0, 0, 743-97-4081, 4)  \\\n",
            "0                                                NaN                                                                      \n",
            "1                                                NaN                                                                      \n",
            "2                                                NaN                                                                      \n",
            "3                                                NaN                                                                      \n",
            "4                                                NaN                                                                      \n",
            "\n",
            "   (2018-05-12 10:02:55, 82, 1, 70, 100, general, 22, 1, 1001, 1, married, False, Barbara Medina, 0, 0, 698-10-2230, 3)  \\\n",
            "0                                                NaN                                                                      \n",
            "1                                                NaN                                                                      \n",
            "2                                                NaN                                                                      \n",
            "3                                                NaN                                                                      \n",
            "4                                                NaN                                                                      \n",
            "\n",
            "   (2018-05-13 12:25:17, 71, 1, 100, 78, northern, 1, 4, 1002, 1, no_answer, True, Kaitlyn Daniels, 0, 1, 540-83-4297, 2)  \\\n",
            "0                                                NaN                                                                        \n",
            "1                                                NaN                                                                        \n",
            "2                                                NaN                                                                        \n",
            "3                                                NaN                                                                        \n",
            "4                                                NaN                                                                        \n",
            "\n",
            "   (2018-05-14 12:20:08, 87, 0, 113, 72, general, 22, 4, 1003, 1, no_answer, False, William Reyes, 1, 0, 282-96-8755, 0)  \\\n",
            "0                                                NaN                                                                       \n",
            "1                                                NaN                                                                       \n",
            "2                                                NaN                                                                       \n",
            "3                                                NaN                                                                       \n",
            "4                                                NaN                                                                       \n",
            "\n",
            "   (2018-05-17 08:35:23, 53, 1, 93, 80, district, 17, 8, 1004, 0, no_answer, True, Eric Booth, 0, 0, 130-25-8918, 8)  \\\n",
            "0                                                NaN                                                                   \n",
            "1                                                NaN                                                                   \n",
            "2                                                NaN                                                                   \n",
            "3                                                NaN                                                                   \n",
            "4                                                NaN                                                                   \n",
            "\n",
            "   (2018-05-18 12:13:50, 41, 0, 83, 21, central, 13, 8, 1005, 1, divorced, False, Lisa Hansen, 1, 0, 722-32-7472, 6)  \\\n",
            "0                                                NaN                                                                   \n",
            "1                                                NaN                                                                   \n",
            "2                                                NaN                                                                   \n",
            "3                                                NaN                                                                   \n",
            "4                                                NaN                                                                   \n",
            "\n",
            "   (2018-05-21 08:06:34, 29, 1, 116, 76, district, 7, 8, 1006, 0, single, False, Kevin Medina, 1, 1, 875-20-5428, 4)  \\\n",
            "0                                                NaN                                                                   \n",
            "1                                                NaN                                                                   \n",
            "2                                                NaN                                                                   \n",
            "3                                                NaN                                                                   \n",
            "4                                                NaN                                                                   \n",
            "\n",
            "   (2018-05-23 09:45:05, 84, 0, 118, 44, northern, 16, 5, 1007, 0, single, True, Julie Daniel, 0, 0, 338-55-1056, 1)  \\\n",
            "0                                                NaN                                                                   \n",
            "1                                                NaN                                                                   \n",
            "2                                                NaN                                                                   \n",
            "3                                                NaN                                                                   \n",
            "4                                                NaN                                                                   \n",
            "\n",
            "   (2018-05-26 10:33:57, 81, 0, 109, 58, district, 17, 4, 1008, 1, no_answer, False, Gregory Cooke, 1, 0, 532-35-9220, 0)  \\\n",
            "0                                                NaN                                                                        \n",
            "1                                                NaN                                                                        \n",
            "2                                                NaN                                                                        \n",
            "3                                                NaN                                                                        \n",
            "4                                                NaN                                                                        \n",
            "\n",
            "   ...  \\\n",
            "0  ...   \n",
            "1  ...   \n",
            "2  ...   \n",
            "3  ...   \n",
            "4  ...   \n",
            "\n",
            "   (2018-08-28 08:03:26, 19, 0, 81, 99, district, 10, 3, 1990, 1, single, False, Holly Coleman, 1, 0, 630-35-5552, 2)  \\\n",
            "0                                                NaN                                                                    \n",
            "1                                                NaN                                                                    \n",
            "2                                                NaN                                                                    \n",
            "3                                                NaN                                                                    \n",
            "4                                                NaN                                                                    \n",
            "\n",
            "   (2018-09-02 10:44:43, 69, 1, 82, 58, central, 20, 9, 1991, 1, married, False, Charles Thomas, 0, 0, 163-15-3991, 9)  \\\n",
            "0                                                NaN                                                                     \n",
            "1                                                NaN                                                                     \n",
            "2                                                NaN                                                                     \n",
            "3                                                NaN                                                                     \n",
            "4                                                NaN                                                                     \n",
            "\n",
            "   (2018-09-04 12:33:44, 86, 1, 76, 76, northern, 3, 4, 1992, 1, married, True, Joseph Turner, 0, 1, 149-28-5021, 0)  \\\n",
            "0                                                NaN                                                                   \n",
            "1                                                NaN                                                                   \n",
            "2                                                NaN                                                                   \n",
            "3                                                NaN                                                                   \n",
            "4                                                NaN                                                                   \n",
            "\n",
            "   (2018-09-09 09:16:13, 21, 1, 141, 89, northern, 16, 2, 1993, 1, divorced, True, Michael Fernandez, 0, 0, 457-35-8068, 0)  \\\n",
            "0                                                NaN                                                                          \n",
            "1                                                NaN                                                                          \n",
            "2                                                NaN                                                                          \n",
            "3                                                NaN                                                                          \n",
            "4                                                NaN                                                                          \n",
            "\n",
            "   (2018-09-10 08:33:47, 78, 0, 85, 52, district, 5, 6, 1994, 1, married, False, Kelsey Davidson, 1, 1, 012-29-8230, 5)  \\\n",
            "0                                                NaN                                                                      \n",
            "1                                                NaN                                                                      \n",
            "2                                                NaN                                                                      \n",
            "3                                                NaN                                                                      \n",
            "4                                                NaN                                                                      \n",
            "\n",
            "   (2018-09-11 12:14:33, 75, 0, 83, 38, general, 9, 9, 1995, 1, divorced, False, Tyler Hill, 0, 0, 781-30-5403, 2)  \\\n",
            "0                                                NaN                                                                 \n",
            "1                                                NaN                                                                 \n",
            "2                                                NaN                                                                 \n",
            "3                                                NaN                                                                 \n",
            "4                                                NaN                                                                 \n",
            "\n",
            "   (2018-09-13 10:09:36, 73, 0, 77, 39, central, 14, 1, 1996, 0, no_answer, False, Daniel Johnson, 1, 0, 880-45-5828, 8)  \\\n",
            "0                                                NaN                                                                       \n",
            "1                                                NaN                                                                       \n",
            "2                                                NaN                                                                       \n",
            "3                                                NaN                                                                       \n",
            "4                                                NaN                                                                       \n",
            "\n",
            "   (2018-09-15 11:35:49, 29, 1, 109, 63, district, 2, 2, 1997, 1, married, False, Andrew Kaufman, 1, 1, 653-43-8587, 7)  \\\n",
            "0                                                NaN                                                                      \n",
            "1                                                NaN                                                                      \n",
            "2                                                NaN                                                                      \n",
            "3                                                NaN                                                                      \n",
            "4                                                NaN                                                                      \n",
            "\n",
            "   (2018-09-18 08:41:36, 23, 0, 75, 37, central, 19, 4, 1998, 0, single, False, Darren Hamilton, 0, 0, 555-17-5096, 2)  \\\n",
            "0                                                NaN                                                                     \n",
            "1                                                NaN                                                                     \n",
            "2                                                NaN                                                                     \n",
            "3                                                NaN                                                                     \n",
            "4                                                NaN                                                                     \n",
            "\n",
            "   (2018-09-23 12:24:29, 86, 1, 126, 43, northern, 4, 0, 1999, 1, no_answer, False, Lorraine Lara, 1, 1, 249-56-1525, 8)  \n",
            "0                                                NaN                                                                      \n",
            "1                                                NaN                                                                      \n",
            "2                                                NaN                                                                      \n",
            "3                                                NaN                                                                      \n",
            "4                                                NaN                                                                      \n",
            "\n",
            "[5 rows x 1001 columns]\n"
          ]
        }
      ]
    },
    {
      "cell_type": "code",
      "source": [
        "rcParams['figure.figsize'] = 14, 7\n",
        "rcParams['axes.spines.top'] = False\n",
        "rcParams['axes.spines.right'] = False"
      ],
      "metadata": {
        "id": "G24zTwOi5VvF"
      },
      "execution_count": 120,
      "outputs": []
    },
    {
      "cell_type": "code",
      "execution_count": null,
      "metadata": {
        "colab": {
          "base_uri": "https://localhost:8080/"
        },
        "id": "jkvG_b0SGmT1",
        "outputId": "0345251a-fae1-4041-d825-80c02dac1e88",
        "cellView": "form",
        "collapsed": true
      },
      "outputs": [
        {
          "output_type": "stream",
          "name": "stdout",
          "text": [
            "<class 'pandas.core.frame.DataFrame'>\n",
            "RangeIndex: 1000 entries, 0 to 999\n",
            "Data columns (total 18 columns):\n",
            " #   Column                 Non-Null Count  Dtype \n",
            "---  ------                 --------------  ----- \n",
            " 0   admitted_ts            1000 non-null   object\n",
            " 1   age                    1000 non-null   int64 \n",
            " 2   ambulance_call         1000 non-null   int64 \n",
            " 3   blood_sugar_reading    1000 non-null   int64 \n",
            " 4   days_since_last_visit  1000 non-null   int64 \n",
            " 5   has_diabetes           1000 non-null   int64 \n",
            " 6   hospital               1000 non-null   object\n",
            " 7   hours_hospitalized     1000 non-null   int64 \n",
            " 8   hydration_level        1000 non-null   int64 \n",
            " 9   id                     1000 non-null   int64 \n",
            " 10  insulin                1000 non-null   int64 \n",
            " 11  marital_status         1000 non-null   object\n",
            " 12  no_primary_dr          1000 non-null   bool  \n",
            " 13  patient_name           1000 non-null   object\n",
            " 14  private_insurance      1000 non-null   int64 \n",
            " 15  released_sameday       1000 non-null   int64 \n",
            " 16  ssn                    1000 non-null   object\n",
            " 17  symptom_code           1000 non-null   int64 \n",
            "dtypes: bool(1), int64(12), object(5)\n",
            "memory usage: 133.9+ KB\n",
            "corrlation                             age  ambulance_call  blood_sugar_reading  \\\n",
            "age                    1.000000       -0.039872            -0.093682   \n",
            "ambulance_call        -0.039872        1.000000             0.028701   \n",
            "blood_sugar_reading   -0.093682        0.028701             1.000000   \n",
            "days_since_last_visit -0.025325        0.000858             0.018231   \n",
            "has_diabetes          -0.004673        0.013858            -0.003593   \n",
            "hours_hospitalized     0.036598       -0.039157            -0.007363   \n",
            "hydration_level        0.013655        0.016497            -0.003371   \n",
            "id                    -0.031231        0.019323             0.039533   \n",
            "insulin                0.009212       -0.031877            -0.042906   \n",
            "no_primary_dr          0.001633        0.011651             0.073805   \n",
            "private_insurance      0.022074       -0.057674            -0.017256   \n",
            "released_sameday      -0.094541        0.044267             0.007559   \n",
            "symptom_code          -0.076882       -0.013384            -0.016850   \n",
            "\n",
            "                       days_since_last_visit  has_diabetes  \\\n",
            "age                                -0.025325     -0.004673   \n",
            "ambulance_call                      0.000858      0.013858   \n",
            "blood_sugar_reading                 0.018231     -0.003593   \n",
            "days_since_last_visit               1.000000      0.012534   \n",
            "has_diabetes                        0.012534      1.000000   \n",
            "hours_hospitalized                 -0.014628     -0.061627   \n",
            "hydration_level                     0.013325      0.063124   \n",
            "id                                 -0.016106     -0.015041   \n",
            "insulin                             0.044376      0.018726   \n",
            "no_primary_dr                       0.012869      0.069018   \n",
            "private_insurance                   0.021765     -0.070442   \n",
            "released_sameday                    0.000507      0.053818   \n",
            "symptom_code                        0.003319      0.000125   \n",
            "\n",
            "                       hours_hospitalized  hydration_level        id  \\\n",
            "age                              0.036598         0.013655 -0.031231   \n",
            "ambulance_call                  -0.039157         0.016497  0.019323   \n",
            "blood_sugar_reading             -0.007363        -0.003371  0.039533   \n",
            "days_since_last_visit           -0.014628         0.013325 -0.016106   \n",
            "has_diabetes                    -0.061627         0.063124 -0.015041   \n",
            "hours_hospitalized               1.000000        -0.054126  0.034839   \n",
            "hydration_level                 -0.054126         1.000000 -0.016986   \n",
            "id                               0.034839        -0.016986  1.000000   \n",
            "insulin                          0.096682        -0.008669 -0.007192   \n",
            "no_primary_dr                   -0.025929        -0.058305 -0.052594   \n",
            "private_insurance                0.006085        -0.027034  0.024074   \n",
            "released_sameday                -0.819888         0.018628 -0.004397   \n",
            "symptom_code                     0.002419        -0.014266  0.008632   \n",
            "\n",
            "                        insulin  no_primary_dr  private_insurance  \\\n",
            "age                    0.009212       0.001633           0.022074   \n",
            "ambulance_call        -0.031877       0.011651          -0.057674   \n",
            "blood_sugar_reading   -0.042906       0.073805          -0.017256   \n",
            "days_since_last_visit  0.044376       0.012869           0.021765   \n",
            "has_diabetes           0.018726       0.069018          -0.070442   \n",
            "hours_hospitalized     0.096682      -0.025929           0.006085   \n",
            "hydration_level       -0.008669      -0.058305          -0.027034   \n",
            "id                    -0.007192      -0.052594           0.024074   \n",
            "insulin                1.000000       0.035689          -0.034848   \n",
            "no_primary_dr          0.035689       1.000000          -0.453227   \n",
            "private_insurance     -0.034848      -0.453227           1.000000   \n",
            "released_sameday      -0.050896       0.039190           0.045434   \n",
            "symptom_code          -0.041733       0.023448           0.014997   \n",
            "\n",
            "                       released_sameday  symptom_code  \n",
            "age                           -0.094541     -0.076882  \n",
            "ambulance_call                 0.044267     -0.013384  \n",
            "blood_sugar_reading            0.007559     -0.016850  \n",
            "days_since_last_visit          0.000507      0.003319  \n",
            "has_diabetes                   0.053818      0.000125  \n",
            "hours_hospitalized            -0.819888      0.002419  \n",
            "hydration_level                0.018628     -0.014266  \n",
            "id                            -0.004397      0.008632  \n",
            "insulin                       -0.050896     -0.041733  \n",
            "no_primary_dr                  0.039190      0.023448  \n",
            "private_insurance              0.045434      0.014997  \n",
            "released_sameday               1.000000      0.020657  \n",
            "symptom_code                   0.020657      1.000000  \n"
          ]
        }
      ],
      "source": [
        "#@title\n",
        "#df.head()\n",
        "\n",
        "#look into our data\n",
        "#df.info()\n",
        "\n",
        "# check correlationtins\n",
        "#corr = df.corr()\n",
        "#print(\"corrlation\", corr)"
      ]
    },
    {
      "cell_type": "code",
      "source": [
        "#accuracy = diabetes_check(test_Xm, test_y) #diabetesCheck.score(test_Xm, test_y)\n",
        "#accuracy = diabetes_check.predict(test_Xm, test_y)\n",
        "score = diabetes_check.score(test_Xm, test_y) #LogisticRegression.score(X_test, y_test)\n",
        "print(\"Test Accuracy Score\", score)\n",
        "#print(\"accuracy = \", accuracy * 100, \"%\")"
      ],
      "metadata": {
        "colab": {
          "base_uri": "https://localhost:8080/"
        },
        "id": "X70fhbRWykmN",
        "outputId": "089078a2-08f8-4367-c589-25b6615c4aef"
      },
      "execution_count": 128,
      "outputs": [
        {
          "output_type": "stream",
          "name": "stdout",
          "text": [
            "Test Accuracy Score 0.76\n"
          ]
        }
      ]
    },
    {
      "cell_type": "code",
      "source": [
        "# Train a baseline logistic regression\n",
        "comparison_check = LogisticRegression(max_iter=1000)\n",
        "#diabetes_check.fit(X_train, y_train)\n",
        "comparison_check.fit(X_train, y_train)\n",
        "\n",
        "comparison_score = comparison_check.score(X_test, y_test) #LogisticRegression.score(X_test, y_test)\n",
        "print(\"Comparison Accuracy Score\", comparison_score)"
      ],
      "metadata": {
        "colab": {
          "base_uri": "https://localhost:8080/"
        },
        "id": "8k9luobf_rMJ",
        "outputId": "259139fc-8f28-4a26-d5c3-5b9589aa4760"
      },
      "execution_count": 130,
      "outputs": [
        {
          "output_type": "stream",
          "name": "stdout",
          "text": [
            "Comparison Accuracy Score 0.76\n"
          ]
        }
      ]
    },
    {
      "cell_type": "markdown",
      "source": [
        "We get the same test accuracy score, no matter we use anonymized or non anonymized dataset.<br>\n",
        "As introducing non protected features didn't change our accuracy, we can conclude that our dataset was correctly anonymized.<br>\n",
        "We just have to take into acount that even the non-anonymized dataset is not protected by default for machine learning purposes as we need to remove unique identifiers, that would be personal information, for data leakage prevention."
      ],
      "metadata": {
        "id": "blQg0F0yBDYp"
      }
    }
  ],
  "metadata": {
    "kernelspec": {
      "display_name": "Python 3",
      "language": "python",
      "name": "python3"
    },
    "language_info": {
      "codemirror_mode": {
        "name": "ipython",
        "version": 3
      },
      "file_extension": ".py",
      "mimetype": "text/x-python",
      "name": "python",
      "nbconvert_exporter": "python",
      "pygments_lexer": "ipython3",
      "version": "3.7.4"
    },
    "colab": {
      "provenance": [],
      "include_colab_link": true
    }
  },
  "nbformat": 4,
  "nbformat_minor": 0
}