{
  "nbformat": 4,
  "nbformat_minor": 0,
  "metadata": {
    "jupytext": {
      "encoding": "# -*- coding: utf-8 -*-",
      "formats": "py:light,ipynb"
    },
    "kernelspec": {
      "display_name": "Python 3",
      "language": "python",
      "name": "python3"
    },
    "language_info": {
      "codemirror_mode": {
        "name": "ipython",
        "version": 3
      },
      "file_extension": ".py",
      "mimetype": "text/x-python",
      "name": "python",
      "nbconvert_exporter": "python",
      "pygments_lexer": "ipython3",
      "version": "3.8.4"
    },
    "colab": {
      "provenance": [],
      "include_colab_link": true
    }
  },
  "cells": [
    {
      "cell_type": "markdown",
      "metadata": {
        "id": "view-in-github",
        "colab_type": "text"
      },
      "source": [
        "<a href=\"https://colab.research.google.com/github/neohack22/IASD/blob/graphs/graphs/22_04_IASD_Model_Feature_Engineering.ipynb\" target=\"_parent\"><img src=\"https://colab.research.google.com/assets/colab-badge.svg\" alt=\"Open In Colab\"/></a>"
      ]
    },
    {
      "cell_type": "markdown",
      "metadata": {
        "id": "ZoaqhgJQC_fC"
      },
      "source": [
        "# Setup\n",
        "\n",
        "Install the necessary libraries in your Colab notebook environment and connect to your hosted Neo4J Sandbox."
      ]
    },
    {
      "cell_type": "code",
      "source": [
        "!pip uninstall pyspark"
      ],
      "metadata": {
        "colab": {
          "base_uri": "https://localhost:8080/"
        },
        "id": "hqFZoJfBdAKa",
        "outputId": "c8eeb750-1033-4d33-ec3a-bfa78a137bb2"
      },
      "execution_count": null,
      "outputs": [
        {
          "output_type": "stream",
          "name": "stdout",
          "text": [
            "Found existing installation: pyspark 3.3.0\n",
            "Uninstalling pyspark-3.3.0:\n",
            "  Would remove:\n",
            "    /usr/local/bin/beeline\n",
            "    /usr/local/bin/beeline.cmd\n",
            "    /usr/local/bin/docker-image-tool.sh\n",
            "    /usr/local/bin/find-spark-home\n",
            "    /usr/local/bin/find-spark-home.cmd\n",
            "    /usr/local/bin/find_spark_home.py\n",
            "    /usr/local/bin/load-spark-env.cmd\n",
            "    /usr/local/bin/load-spark-env.sh\n",
            "    /usr/local/bin/pyspark\n",
            "    /usr/local/bin/pyspark.cmd\n",
            "    /usr/local/bin/pyspark2.cmd\n",
            "    /usr/local/bin/run-example\n",
            "    /usr/local/bin/run-example.cmd\n",
            "    /usr/local/bin/spark-class\n",
            "    /usr/local/bin/spark-class.cmd\n",
            "    /usr/local/bin/spark-class2.cmd\n",
            "    /usr/local/bin/spark-shell\n",
            "    /usr/local/bin/spark-shell.cmd\n",
            "    /usr/local/bin/spark-shell2.cmd\n",
            "    /usr/local/bin/spark-sql\n",
            "    /usr/local/bin/spark-sql.cmd\n",
            "    /usr/local/bin/spark-sql2.cmd\n",
            "    /usr/local/bin/spark-submit\n",
            "    /usr/local/bin/spark-submit.cmd\n",
            "    /usr/local/bin/spark-submit2.cmd\n",
            "    /usr/local/bin/sparkR\n",
            "    /usr/local/bin/sparkR.cmd\n",
            "    /usr/local/bin/sparkR2.cmd\n",
            "    /usr/local/lib/python3.7/dist-packages/pyspark-3.3.0.dist-info/*\n",
            "    /usr/local/lib/python3.7/dist-packages/pyspark/*\n",
            "Proceed (y/n)? y\n",
            "  Successfully uninstalled pyspark-3.3.0\n"
          ]
        }
      ]
    },
    {
      "cell_type": "code",
      "metadata": {
        "id": "JmHymBmsVYqx"
      },
      "source": [
        "!pip install neo4j pyspark"
      ],
      "execution_count": null,
      "outputs": []
    },
    {
      "cell_type": "code",
      "metadata": {
        "id": "fhmJ1QEdC-4e"
      },
      "source": [
        "ip = \"54.174.38.179\"\n",
        "bolt_port = \"7687\"\n",
        "username = \"neo4j\"\n",
        "password = \"spots-carrier-wires\""
      ],
      "execution_count": null,
      "outputs": []
    },
    {
      "cell_type": "code",
      "metadata": {
        "id": "RI-e7X2UuOgR",
        "colab": {
          "base_uri": "https://localhost:8080/"
        },
        "outputId": "7eba4819-c3b1-45d7-e675-32ade38ebdb9"
      },
      "source": [
        "from neo4j import GraphDatabase\n",
        "\n",
        "driver = GraphDatabase.driver(\"bolt://\" + ip + \":\" + bolt_port, auth=(username, password))\n",
        "\n",
        "print(driver.address) # your-sandbox-ip:your-sandbox-bolt-port\n",
        "\n",
        "\n"
      ],
      "execution_count": null,
      "outputs": [
        {
          "output_type": "stream",
          "name": "stdout",
          "text": [
            "54.174.38.179:7687\n"
          ]
        }
      ]
    },
    {
      "cell_type": "code",
      "metadata": {
        "id": "pn3TAwvf07Wq"
      },
      "source": [
        "from pyspark.sql import SparkSession\n",
        "import pyspark.sql.functions as F\n",
        "\n",
        "spark = SparkSession.builder.master(\"local[*]\").getOrCreate()"
      ],
      "execution_count": null,
      "outputs": []
    },
    {
      "cell_type": "code",
      "metadata": {
        "colab": {
          "base_uri": "https://localhost:8080/"
        },
        "id": "efG3CA7jrfIO",
        "outputId": "6b9d60ea-eec3-4ef5-b18b-0b06e4ade3cb"
      },
      "source": [
        "from google.colab import drive\n",
        "drive.mount('/content/gdrive')"
      ],
      "execution_count": null,
      "outputs": [
        {
          "output_type": "stream",
          "name": "stdout",
          "text": [
            "Mounted at /content/gdrive\n"
          ]
        }
      ]
    },
    {
      "cell_type": "code",
      "metadata": {
        "id": "tImzcaWsrisK"
      },
      "source": [
        "save_folder = '/content/gdrive/My Drive/IASD04/IASD_link_prediction/link-prediction/notebooks/data/'"
      ],
      "execution_count": null,
      "outputs": []
    },
    {
      "cell_type": "markdown",
      "metadata": {
        "id": "XX_KGQOcVDyX"
      },
      "source": [
        "# Objective\n",
        "\n",
        "We are going to train a binary classifier to predict wether a link should exist between two *Author* nodes.\n",
        "\n",
        "Each pair of *Author*s will be described with a feature vector and labeled with either 1 (if these two authors have collaborated) or 0 (if they have not)."
      ]
    },
    {
      "cell_type": "markdown",
      "metadata": {
        "id": "26Fmz1FypJHX"
      },
      "source": [
        "# Feature Engineering\n",
        "\n",
        "Let's generate features for our link prediction classifier. These features will describe a pair of *Author*s by using:\n",
        "- graph topology measures\n",
        "- community detection measures\n",
        "\n",
        "\n",
        "We will identify the nodes by their ID, compute graph measures for these nodes in Neo4J and return a DataFrame with these new features describing each pair of nodes in the train and test set."
      ]
    },
    {
      "cell_type": "markdown",
      "metadata": {
        "id": "iz-4iaqtpJHa"
      },
      "source": [
        "Load the CSV files saved in the train/test notebook."
      ]
    },
    {
      "cell_type": "code",
      "metadata": {
        "id": "OHfF6Fz8pJHa"
      },
      "source": [
        "df_train_under = spark.read.csv(save_folder + 'df_train_under.csv/*.csv', header=True, inferSchema=True).cache()\n",
        "df_test_under = spark.read.csv(save_folder + 'df_test_under.csv/*.csv', header=True, inferSchema=True).cache()"
      ],
      "execution_count": null,
      "outputs": []
    },
    {
      "cell_type": "code",
      "source": [
        "df_train_under.show(10)"
      ],
      "metadata": {
        "colab": {
          "base_uri": "https://localhost:8080/"
        },
        "id": "UDTr7sA5hUN6",
        "outputId": "efc24af5-4bbf-43ff-ed42-c15d5a79b96e"
      },
      "execution_count": null,
      "outputs": [
        {
          "output_type": "stream",
          "name": "stdout",
          "text": [
            "+-----+-----+------+\n",
            "|label|node1| node2|\n",
            "+-----+-----+------+\n",
            "|    1|11797|102784|\n",
            "|    1|11847|122413|\n",
            "|    1|13024| 13048|\n",
            "|    1|13265| 13616|\n",
            "|    1|13323|244987|\n",
            "|    1|13340| 13343|\n",
            "|    1|13356| 13357|\n",
            "|    1|13403|173386|\n",
            "|    1|13526| 13527|\n",
            "|    1|13600|234808|\n",
            "+-----+-----+------+\n",
            "only showing top 10 rows\n",
            "\n"
          ]
        }
      ]
    },
    {
      "cell_type": "code",
      "source": [
        "df_test_under.show(5)"
      ],
      "metadata": {
        "colab": {
          "base_uri": "https://localhost:8080/"
        },
        "id": "eWgC-OizhcPp",
        "outputId": "8221ea86-8278-46ab-a6d2-a24dcd09f483"
      },
      "execution_count": null,
      "outputs": [
        {
          "output_type": "stream",
          "name": "stdout",
          "text": [
            "+-----+-----+------+\n",
            "|label|node1| node2|\n",
            "+-----+-----+------+\n",
            "|    0|11381|217768|\n",
            "|    0|11550|341313|\n",
            "|    0|11653|268422|\n",
            "|    0|11653|327525|\n",
            "|    0|11763|100317|\n",
            "+-----+-----+------+\n",
            "only showing top 5 rows\n",
            "\n"
          ]
        }
      ]
    },
    {
      "cell_type": "code",
      "source": [],
      "metadata": {
        "id": "9TCBcnwshcEH"
      },
      "execution_count": null,
      "outputs": []
    },
    {
      "cell_type": "code",
      "source": [
        "df_train_under.select(\"node1\").union(df_train_under.select(\"node2\")).distinct().count()"
      ],
      "metadata": {
        "colab": {
          "base_uri": "https://localhost:8080/"
        },
        "id": "OsWWO12iM8kS",
        "outputId": "8d0e306e-d9bd-446b-8dc6-7ab297894725"
      },
      "execution_count": null,
      "outputs": [
        {
          "output_type": "execute_result",
          "data": {
            "text/plain": [
              "45018"
            ]
          },
          "metadata": {},
          "execution_count": 160
        }
      ]
    },
    {
      "cell_type": "code",
      "source": [
        "df_test_under.select(\"node1\").union(df_test_under.select(\"node2\")).distinct().count()"
      ],
      "metadata": {
        "colab": {
          "base_uri": "https://localhost:8080/"
        },
        "id": "3Iy0KAQbhQOM",
        "outputId": "0a1f6cd4-2765-405b-8197-a89f8761ee87"
      },
      "execution_count": null,
      "outputs": [
        {
          "output_type": "execute_result",
          "data": {
            "text/plain": [
              "19947"
            ]
          },
          "metadata": {},
          "execution_count": 231
        }
      ]
    },
    {
      "cell_type": "markdown",
      "metadata": {
        "id": "s4q1TPS03gQs"
      },
      "source": [
        "Firstly, for Neo4J to be able to manipulate our train and test pairs, we need to feed them as lists of dictionaries. This will enable us to consider each element in this list as a parameter for a Neo4J query. This element's attributes will be accessible to the query."
      ]
    },
    {
      "cell_type": "markdown",
      "metadata": {
        "id": "fH6mU1qpkXM0"
      },
      "source": [
        "\n",
        "- Run the following cell to ransform each data frame into a list of dictionaries.\n",
        "\n",
        "```\n",
        "[\n",
        "  {\n",
        "  \"node1\": 15589,\n",
        "  \"node2\": 2567,\n",
        "  \"label\": 1\n",
        "  } ,\n",
        "  ... ,\n",
        "  {\n",
        "  \"node1\": 5466,\n",
        "  \"node2\": 78122,\n",
        "  \"label\": 0\n",
        "  }\n",
        "]\n",
        "\n",
        "```"
      ]
    },
    {
      "cell_type": "code",
      "metadata": {
        "id": "gV3ZTmuG4UNd"
      },
      "source": [
        "df_train_under_pairs = [{\"node1\": node1, \"node2\": node2, 'label':label}  for node1, node2, label in df_train_under.select(\"node1\", \"node2\", \"label\").collect()]\n",
        "df_test_under_pairs = [{\"node1\": node1, \"node2\": node2, 'label':label}  for node1, node2, label in df_test_under.select(\"node1\", \"node2\", \"label\").collect()]"
      ],
      "execution_count": null,
      "outputs": []
    },
    {
      "cell_type": "code",
      "source": [
        "df_train_under.count()"
      ],
      "metadata": {
        "colab": {
          "base_uri": "https://localhost:8080/"
        },
        "id": "WVj_D6jAPt4n",
        "outputId": "8cbfd9ad-7dd9-460f-d000-8214dc80417a"
      },
      "execution_count": null,
      "outputs": [
        {
          "output_type": "execute_result",
          "data": {
            "text/plain": [
              "162153"
            ]
          },
          "metadata": {},
          "execution_count": 101
        }
      ]
    },
    {
      "cell_type": "code",
      "source": [
        "def queryex(q,d):\n",
        "  with d.session() as session:\n",
        "      result = session.run(q)\n",
        "      for row in result:\n",
        "        print(row)"
      ],
      "metadata": {
        "id": "Yu6_pGTDhW1y"
      },
      "execution_count": null,
      "outputs": []
    },
    {
      "cell_type": "code",
      "source": [
        "#### test \n",
        "\n",
        "\n",
        "query =\"\"\"\n",
        "match (l) return l.communityId limit 30;\n",
        "\"\"\"\n",
        "\n",
        "queryex(query,driver)\n",
        "\n"
      ],
      "metadata": {
        "colab": {
          "base_uri": "https://localhost:8080/"
        },
        "id": "osHIMN5JayOi",
        "outputId": "bee64fe5-f999-410c-a552-19de591743d0"
      },
      "execution_count": null,
      "outputs": [
        {
          "output_type": "stream",
          "name": "stdout",
          "text": [
            "<Record l.communityId=None>\n",
            "<Record l.communityId=None>\n",
            "<Record l.communityId=None>\n",
            "<Record l.communityId=None>\n",
            "<Record l.communityId=None>\n",
            "<Record l.communityId=None>\n",
            "<Record l.communityId=None>\n",
            "<Record l.communityId=None>\n",
            "<Record l.communityId=None>\n",
            "<Record l.communityId=None>\n",
            "<Record l.communityId=None>\n",
            "<Record l.communityId=None>\n",
            "<Record l.communityId=None>\n",
            "<Record l.communityId=None>\n",
            "<Record l.communityId=None>\n",
            "<Record l.communityId=None>\n",
            "<Record l.communityId=None>\n",
            "<Record l.communityId=None>\n",
            "<Record l.communityId=None>\n",
            "<Record l.communityId=None>\n",
            "<Record l.communityId=None>\n",
            "<Record l.communityId=None>\n",
            "<Record l.communityId=None>\n",
            "<Record l.communityId=None>\n",
            "<Record l.communityId=None>\n",
            "<Record l.communityId=None>\n",
            "<Record l.communityId=None>\n",
            "<Record l.communityId=None>\n",
            "<Record l.communityId=None>\n",
            "<Record l.communityId=None>\n"
          ]
        }
      ]
    },
    {
      "cell_type": "markdown",
      "metadata": {
        "id": "wDwewWxGpJHb"
      },
      "source": [
        "## Generating graphy features\n",
        "\n",
        "We will start by creating 3 features extracted from the **graph topology** to describe each pair of nodes: \n",
        "- [common neighbors](https://neo4j.com/docs/graph-data-science/current/alpha-algorithms/common-neighbors/)\n",
        "- [preferential attachment](https://neo4j.com/docs/graph-data-science/current/alpha-algorithms/preferential-attachment/)\n",
        "- [total neighbors](https://neo4j.com/docs/graph-data-science/current/alpha-algorithms/total-neighbors/)\n",
        "\n",
        "We want a final Data Frame with the following structure:\n",
        "\n",
        "| **node1** | **node2** | **label** | **cn** | **pa** | **tn** |"
      ]
    },
    {
      "cell_type": "markdown",
      "metadata": {
        "id": "epw1BpAtkGHs"
      },
      "source": [
        "By using the *UNWIND* clause, we can manipulate each element in a list as an individual row in Cypher.\n",
        "\n",
        "For example:\n",
        "```\n",
        "# A list of students dictionaries\n",
        "my_list = [{ \"id\": '0001', \"age\": 28}, {\"id\": 0002, \"age\": 35}]\n",
        "\n",
        "# A parameterized query to retrieve each students' name from its attributes\n",
        "query = \n",
        "\"\"\" \n",
        "  UNWIND $list_of_students as student // We use a dollar sign to denote variables\n",
        "    MATCH (s:Student) \n",
        "    WHERE ID(s) = student.id AND s.age = student.age\n",
        "    RETURN s.name\n",
        "\"\"\"\n",
        "\n",
        "with driver.session() as session:\n",
        "    result = session.run(query=query, parameters={\"list_of_students\": my_list})\n",
        "```"
      ]
    },
    {
      "cell_type": "markdown",
      "metadata": {
        "id": "IAwNbtpw4of_"
      },
      "source": [
        "- Complete the following function to compute the 3 graph measures for pairs of nodes.\n",
        "\n",
        "\n",
        "\n"
      ]
    },
    {
      "cell_type": "code",
      "metadata": {
        "id": "NvCaxBKd-xu2"
      },
      "source": [
        "# Test the individual queries in your Neo4J Browser first.\n",
        "# Then complete the cell to define this function for future execution in Colab.\n",
        "\n",
        "def add_graphy_features(pairs, rel_type):\n",
        "    # Common neighbors\n",
        "    query = \"\"\"\n",
        "      UNWIND $pairs AS pair\n",
        "        MATCH (p1) WHERE ID(p1) = pair.node1\n",
        "        MATCH (p2) WHERE ID(p2) = ...\n",
        "        RETURN \n",
        "          pair.node1 AS node1,\n",
        "          ... AS node2,\n",
        "          ... AS label,\n",
        "          gds.alpha.linkprediction.commonNeighbors(... , ... , {relationshipQuery: $relType}) AS cn\n",
        "    \"\"\"\n",
        "    params = {\n",
        "        \"pairs\": pairs, \n",
        "        \"relType\": rel_type\n",
        "        }\n",
        "    with driver.session() as session:\n",
        "        result = session.run(query, params)\n",
        "        features_cn = spark.createDataFrame([dict(record) for record in result]) \n",
        "\n",
        "    # Preferential attachment\n",
        "    query = \"\"\"\n",
        "      UNWIND $pairs AS pair\n",
        "        MATCH (p1) WHERE ID(p1) = pair.node1\n",
        "        MATCH (p2) WHERE ID(p2) = ...\n",
        "        RETURN \n",
        "          pair.node1 AS node1,\n",
        "          ... AS node2,\n",
        "          ... AS label,\n",
        "          gds.alpha.linkprediction.preferentialAttachment(... , ... , {relationshipQuery: $relType}) AS pa\n",
        "    \"\"\"\n",
        "    params = {\n",
        "        \"pairs\": pairs, \n",
        "        \"relType\": rel_type\n",
        "        }\n",
        "    with driver.session() as session:\n",
        "        result = session.run(query, params)\n",
        "        features_pa = spark.createDataFrame([dict(record) for record in result])\n",
        "\n",
        "    # Total neighbors\n",
        "    query = \"\"\"\n",
        "      UNWIND $pairs AS pair\n",
        "        MATCH (p1) WHERE ID(p1) = pair.node1\n",
        "        MATCH (p2) WHERE ID(p2) = ...\n",
        "        RETURN \n",
        "          pair.node1 AS node1,\n",
        "          ... AS node2,\n",
        "          ... AS label,\n",
        "          gds.alpha.linkprediction.totalNeighbors(... , ... , {relationshipQuery: $relType}) AS tn\n",
        "    \"\"\"\n",
        "    params = {\n",
        "        \"pairs\": pairs, \n",
        "        \"relType\": rel_type\n",
        "        }\n",
        "    with driver.session() as session:\n",
        "        result = session.run(query, params)\n",
        "        features_tn = spark.createDataFrame([dict(record) for record in result])  \n",
        "\n",
        "    # Join the three feature dfs\n",
        "    final_df = ... .join(\n",
        "        ... , on=[\"node1\", \"node2\", \"label\"], how='inner'\n",
        "        ).join(\n",
        "        ... , on=[\"node1\", \"node2\", \"label\"], how='inner'\n",
        "        )\n",
        "\n",
        "    return final_df"
      ],
      "execution_count": null,
      "outputs": []
    },
    {
      "cell_type": "code",
      "metadata": {
        "id": "dq097FZPpJHb"
      },
      "source": [
        "#title Solution\n",
        "\n",
        "def add_graphy_features(pairs, rel_type):\n",
        "    query = \"\"\"\n",
        "      UNWIND $pairs AS pair\n",
        "        MATCH (p1) WHERE ID(p1) = pair.node1\n",
        "        MATCH (p2) WHERE ID(p2) = pair.node2\n",
        "        RETURN \n",
        "          pair.node1 AS node1,\n",
        "          pair.node2 AS node2,\n",
        "          pair.label AS label,\n",
        "          gds.alpha.linkprediction.commonNeighbors(p1, p2, {relationshipQuery: $relType}) AS cn\n",
        "    \"\"\"\n",
        "    params = {\n",
        "        \"pairs\": pairs, \n",
        "        \"relType\": rel_type\n",
        "        }\n",
        "    with driver.session() as session:\n",
        "        result = session.run(query, params)\n",
        "        features_cn = spark.createDataFrame([dict(record) for record in result]) \n",
        "\n",
        "    query = \"\"\"\n",
        "      UNWIND $pairs AS pair\n",
        "        MATCH (p1) WHERE ID(p1) = pair.node1\n",
        "        MATCH (p2) WHERE ID(p2) = pair.node2\n",
        "        RETURN \n",
        "          pair.node1 AS node1,\n",
        "          pair.node2 AS node2,\n",
        "          pair.label AS label,\n",
        "          gds.alpha.linkprediction.preferentialAttachment(p1, p2, {relationshipQuery: $relType}) AS pa\n",
        "    \"\"\"\n",
        "    params = {\n",
        "        \"pairs\": pairs, \n",
        "        \"relType\": rel_type\n",
        "        }\n",
        "    with driver.session() as session:\n",
        "        result = session.run(query, params)\n",
        "        features_pa = spark.createDataFrame([dict(record) for record in result])\n",
        "\n",
        "    query = \"\"\"\n",
        "      UNWIND $pairs AS pair\n",
        "        MATCH (p1) WHERE ID(p1) = pair.node1\n",
        "        MATCH (p2) WHERE ID(p2) = pair.node2\n",
        "        RETURN \n",
        "          pair.node1 AS node1,\n",
        "          pair.node2 AS node2,\n",
        "          pair.label AS label,\n",
        "          gds.alpha.linkprediction.totalNeighbors(p1, p2, {relationshipQuery: $relType}) AS tn\n",
        "    \"\"\"\n",
        "    params = {\n",
        "        \"pairs\": pairs, \n",
        "        \"relType\": rel_type\n",
        "        }\n",
        "    with driver.session() as session:\n",
        "        result = session.run(query, params)\n",
        "        features_tn = spark.createDataFrame([dict(record) for record in result])  \n",
        "\n",
        "    final_df = features_cn.join(\n",
        "        features_pa, on=[\"node1\", \"node2\", \"label\"], how='inner'\n",
        "        ).join(\n",
        "        features_tn, on=[\"node1\", \"node2\", \"label\"], how='inner'\n",
        "        )\n",
        "\n",
        "    return final_df"
      ],
      "execution_count": null,
      "outputs": []
    },
    {
      "cell_type": "markdown",
      "metadata": {
        "id": "ygZi81CRpJHb"
      },
      "source": [
        "Let's apply the function to our training DataFrame and do a quick sanity check of the number of resulting rows (that should be the same).\n",
        "\n"
      ]
    },
    {
      "cell_type": "code",
      "metadata": {
        "id": "zgE3340dAlmk",
        "colab": {
          "base_uri": "https://localhost:8080/"
        },
        "outputId": "d1ba486b-bfe0-442a-d9a7-23e6eb635f58"
      },
      "source": [
        "print('Counts before applying graph features engineering: ')\n",
        "print(df_train_under.count())\n",
        "print(df_test_under.count())\n",
        "\n",
        "df_train_under_graph_f = add_graphy_features(df_train_under_pairs, \"CO_AUTHOR_EARLY\")\n",
        "df_test_under_graph_f = add_graphy_features(df_test_under_pairs, \"CO_AUTHOR_LATE\")\n",
        "\n",
        "print('Counts after applying graph features engineering: ')\n",
        "print(df_train_under_graph_f.count())\n",
        "print(df_test_under_graph_f.count())"
      ],
      "execution_count": null,
      "outputs": [
        {
          "output_type": "stream",
          "name": "stdout",
          "text": [
            "Counts before applying graph features engineering: \n",
            "162153\n",
            "129716\n",
            "Counts after applying graph features engineering: \n",
            "162153\n",
            "129716\n"
          ]
        }
      ]
    },
    {
      "cell_type": "markdown",
      "metadata": {
        "id": "4OC8AqJoSuOs"
      },
      "source": [
        "Let's see how it looks:"
      ]
    },
    {
      "cell_type": "code",
      "metadata": {
        "id": "lbnB6fsPSbvt",
        "colab": {
          "base_uri": "https://localhost:8080/"
        },
        "outputId": "05c3da65-0bc1-4706-c7d3-9715dbe00daf"
      },
      "source": [
        "df_train_under_graph_f.filter(F.col('label') == 0).show(5)\n",
        "df_test_under_graph_f.filter(F.col('label') == 1).show(5)"
      ],
      "execution_count": null,
      "outputs": [
        {
          "output_type": "stream",
          "name": "stdout",
          "text": [
            "+------+------+-----+---+----+----+\n",
            "| node1| node2|label| cn|  pa|  tn|\n",
            "+------+------+-----+---+----+----+\n",
            "|102696|234576|    0|0.0|24.0|14.0|\n",
            "| 13208|300830|    0|0.0|33.0|14.0|\n",
            "|114271|202618|    0|2.0|98.0|19.0|\n",
            "|101611|234390|    0|0.0| 6.0| 5.0|\n",
            "| 13487|172807|    0|0.0|30.0|11.0|\n",
            "+------+------+-----+---+----+----+\n",
            "only showing top 5 rows\n",
            "\n",
            "+------+------+-----+----+-----+----+\n",
            "| node1| node2|label|  cn|   pa|  tn|\n",
            "+------+------+-----+----+-----+----+\n",
            "|123600|224242|    1| 1.0|  6.0| 4.0|\n",
            "|113972|113973|    1| 2.0| 54.0|19.0|\n",
            "| 90497| 90498|    1| 2.0|  9.0| 4.0|\n",
            "|322963|343616|    1|21.0|484.0|23.0|\n",
            "|213213|213214|    1| 5.0| 36.0| 7.0|\n",
            "+------+------+-----+----+-----+----+\n",
            "only showing top 5 rows\n",
            "\n"
          ]
        }
      ]
    },
    {
      "cell_type": "markdown",
      "metadata": {
        "id": "Pu5X15uIpJHc"
      },
      "source": [
        "## Generating community features\n",
        "\n",
        "Community detection algorithms evaluate how a group is clustered or partitioned. Nodes are considered more similar to nodes that fall in their community than to nodes in other communities.\n",
        "\n",
        "We will extract one feature based on a community detection algorithm:\n",
        "\n",
        "- [Louvain community](https://neo4j.com/docs/graph-data-science/current/algorithms/louvain/)\n",
        "\n",
        "The Louvain algorithm returns intermediate communities found in the graph. We will add a property to each node containing the first community that the algorithm found for this specific node. Thus, it will constitue a categorical feature : the first community to which each node belongs. As we are considering pairs of nodes, we will derive a *'same_community_louvain'* binary feature (True or False) to further describe each pair of nodes. \n",
        "\n",
        "Note that we need to restrict the execution of the Louvain community detection algorithm to the train and test subgraphs separately."
      ]
    },
    {
      "cell_type": "markdown",
      "metadata": {
        "id": "Rn7T8-_O48Rs"
      },
      "source": [
        "- Set a property on each node in the *CO_AUTHOR_EARLY* subgraph, containing the first community ID that the Louvain algorithm found for this node."
      ]
    },
    {
      "cell_type": "code",
      "source": [
        "query =\"\"\"CALL gds.graph.project.cypher(\n",
        "  'early',\n",
        "  'MATCH (n:Author)-[:CO_AUTHOR_EARLY]-() RETURN id(n) AS id,  labels(n) AS labels',\n",
        "  'MATCH (n:Author)-[r:CO_AUTHOR_EARLY]->(m:Author) RETURN id(n) AS source, id(m) AS target, type(r) AS type')\n",
        "YIELD\n",
        "  graphName AS graph, nodeQuery, nodeCount AS nodes, relationshipQuery, relationshipCount AS rels\n",
        "  \"\"\"\n",
        "\n",
        "\n",
        "queryex(query,driver)"
      ],
      "metadata": {
        "id": "7nUxpch7G92e"
      },
      "execution_count": null,
      "outputs": []
    },
    {
      "cell_type": "code",
      "source": [
        "query = \"\"\"\n",
        "CALL gds.louvain.stream('early')\n",
        "YIELD nodeId, communityId, intermediateCommunityIds\n",
        "RETURN  nodeId AS identity, communityId\n",
        "\"\"\"\n",
        "\n",
        "\n",
        "with driver.session() as session:\n",
        "        result = session.run(query)\n",
        "        features_lv_early = spark.createDataFrame([dict(record) for record in result])"
      ],
      "metadata": {
        "id": "nznpP3POEgU7"
      },
      "execution_count": null,
      "outputs": []
    },
    {
      "cell_type": "code",
      "source": [
        "features_lv_early.show(10)"
      ],
      "metadata": {
        "colab": {
          "base_uri": "https://localhost:8080/"
        },
        "id": "CRksg_IBqSRX",
        "outputId": "152e554f-df5d-40d3-c3c2-5c3f955e30c1"
      },
      "execution_count": null,
      "outputs": [
        {
          "output_type": "stream",
          "name": "stdout",
          "text": [
            "+-----------+--------+\n",
            "|communityId|identity|\n",
            "+-----------+--------+\n",
            "|      12258|   11419|\n",
            "|      12258|   11420|\n",
            "|      12258|   11421|\n",
            "|      42092|   11424|\n",
            "|          7|   11434|\n",
            "|          7|   11435|\n",
            "|          7|   11436|\n",
            "|          7|   11437|\n",
            "|          9|   11456|\n",
            "|          9|   11457|\n",
            "+-----------+--------+\n",
            "only showing top 10 rows\n",
            "\n"
          ]
        }
      ]
    },
    {
      "cell_type": "code",
      "source": [
        "features_lv_early.count()"
      ],
      "metadata": {
        "colab": {
          "base_uri": "https://localhost:8080/"
        },
        "id": "vzAa7D5IMSfL",
        "outputId": "234ede6f-ca8c-4de1-f08f-d3a389a2f073"
      },
      "execution_count": null,
      "outputs": [
        {
          "output_type": "execute_result",
          "data": {
            "text/plain": [
              "45018"
            ]
          },
          "metadata": {},
          "execution_count": 240
        }
      ]
    },
    {
      "cell_type": "code",
      "source": [
        "df_train_under_graph_f.show(10)"
      ],
      "metadata": {
        "colab": {
          "base_uri": "https://localhost:8080/"
        },
        "id": "VB19rfk7SIdq",
        "outputId": "b5016694-36c4-4dd0-e409-a6f3008fc8d5"
      },
      "execution_count": null,
      "outputs": [
        {
          "output_type": "stream",
          "name": "stdout",
          "text": [
            "+------+------+-----+----+-----+----+\n",
            "| node1| node2|label|  cn|   pa|  tn|\n",
            "+------+------+-----+----+-----+----+\n",
            "|123735|138301|    1| 3.0| 20.0| 6.0|\n",
            "|101210|173721|    1| 3.0| 20.0| 6.0|\n",
            "| 98840|172025|    1| 2.0| 18.0| 7.0|\n",
            "|138574|305377|    1| 1.0| 20.0| 8.0|\n",
            "| 14914| 14917|    1| 4.0| 35.0| 8.0|\n",
            "|114221|115543|    1| 9.0|832.0|49.0|\n",
            "|130378|130382|    1|13.0|196.0|15.0|\n",
            "| 90258| 90259|    1| 1.0|  6.0| 4.0|\n",
            "|122146|190243|    1| 3.0| 35.0| 9.0|\n",
            "|101499|101507|    1| 6.0| 49.0| 8.0|\n",
            "+------+------+-----+----+-----+----+\n",
            "only showing top 10 rows\n",
            "\n"
          ]
        }
      ]
    },
    {
      "cell_type": "code",
      "source": [
        "df_train_under_join1 = df_train_under_graph_f.join(features_lv_early,  df_train_under_graph_f.node1 == features_lv_early.identity).withColumnRenamed(\"communityId\", \"CI1\")\n"
      ],
      "metadata": {
        "id": "_olQeTz1TeLb"
      },
      "execution_count": null,
      "outputs": []
    },
    {
      "cell_type": "code",
      "source": [
        "df_train_under_join1.show(5)"
      ],
      "metadata": {
        "colab": {
          "base_uri": "https://localhost:8080/"
        },
        "id": "W1kwuuz_VWmQ",
        "outputId": "d986cca8-9c79-4151-9f8f-534bbb567688"
      },
      "execution_count": null,
      "outputs": [
        {
          "output_type": "stream",
          "name": "stdout",
          "text": [
            "+------+------+-----+---+----+---+-----+--------+\n",
            "| node1| node2|label| cn|  pa| tn|  CI1|identity|\n",
            "+------+------+-----+---+----+---+-----+--------+\n",
            "|123735|138301|    1|3.0|20.0|6.0|10311|  123735|\n",
            "|101210|173721|    1|3.0|20.0|6.0|37965|  101210|\n",
            "| 98840|172025|    1|2.0|18.0|7.0|20977|   98840|\n",
            "|138574|305377|    1|1.0|20.0|8.0|20899|  138574|\n",
            "| 14914| 14917|    1|4.0|35.0|8.0|17522|   14914|\n",
            "+------+------+-----+---+----+---+-----+--------+\n",
            "only showing top 5 rows\n",
            "\n"
          ]
        }
      ]
    },
    {
      "cell_type": "code",
      "source": [
        "df_train_under_join2 = df_train_under_graph_f.join(features_lv,  df_train_under_graph_f.node2 == features_lv.identity).select(\"node1\", \"node2\", \"communityId\").withColumnRenamed(\"communityId\", \"CI2\")\n"
      ],
      "metadata": {
        "id": "3n_iGOwSXLAy"
      },
      "execution_count": null,
      "outputs": []
    },
    {
      "cell_type": "code",
      "source": [
        "df_train_under_join2.show(5)"
      ],
      "metadata": {
        "colab": {
          "base_uri": "https://localhost:8080/"
        },
        "id": "2a32kpR4XPqC",
        "outputId": "c9d39891-b53e-41de-ca80-a50167128b57"
      },
      "execution_count": null,
      "outputs": [
        {
          "output_type": "stream",
          "name": "stdout",
          "text": [
            "+------+------+-----+\n",
            "| node1| node2|  CI2|\n",
            "+------+------+-----+\n",
            "| 98840|172025|12322|\n",
            "|138574|305377|30184|\n",
            "|114221|115543|27151|\n",
            "|122146|190243|30947|\n",
            "| 14806|101037|10480|\n",
            "+------+------+-----+\n",
            "only showing top 5 rows\n",
            "\n"
          ]
        }
      ]
    },
    {
      "cell_type": "code",
      "source": [
        "total_early= df_train_under_join1.join(df_train_under_join2, on=[\"node1\", \"node2\"], how='inner' )"
      ],
      "metadata": {
        "id": "kkY2y5fgYxzk"
      },
      "execution_count": null,
      "outputs": []
    },
    {
      "cell_type": "markdown",
      "source": [],
      "metadata": {
        "id": "iON2m6ikmu7X"
      }
    },
    {
      "cell_type": "code",
      "source": [
        "total_early.where(\"CI1<CI2\").show(5)"
      ],
      "metadata": {
        "colab": {
          "base_uri": "https://localhost:8080/"
        },
        "id": "W9H8rKrbZTod",
        "outputId": "bff0e190-fc45-45d5-8753-8dfccc2d7fcc"
      },
      "execution_count": null,
      "outputs": [
        {
          "output_type": "stream",
          "name": "stdout",
          "text": [
            "+------+------+-----+---+-----+----+-----+--------+-----+\n",
            "| node1| node2|label| cn|   pa|  tn|  CI1|identity|  CI2|\n",
            "+------+------+-----+---+-----+----+-----+--------+-----+\n",
            "| 14042|264342|    1|1.0|  4.0| 3.0|34865|   14042|38869|\n",
            "|224437|224438|    1|1.0|  4.0| 3.0|29674|  224437|37005|\n",
            "|145480|153405|    1|2.0|112.0|20.0|12258|  145480|17923|\n",
            "|101409|285445|    1|6.0|162.0|21.0|16121|  101409|28404|\n",
            "|152877|224652|    1|1.0| 14.0| 8.0|20899|  152877|32745|\n",
            "+------+------+-----+---+-----+----+-----+--------+-----+\n",
            "only showing top 5 rows\n",
            "\n"
          ]
        }
      ]
    },
    {
      "cell_type": "code",
      "source": [
        "from pyspark.sql.functions import when"
      ],
      "metadata": {
        "id": "sjaHi6iKeOHQ"
      },
      "execution_count": null,
      "outputs": []
    },
    {
      "cell_type": "code",
      "source": [
        "final_early = total_early.withColumn(\"sl\", when(total_early.CI1==total_early.CI2, 1).otherwise(0)).drop(\"CI1\", \"CI2\", \"identity\")"
      ],
      "metadata": {
        "id": "72uNF7tGenQr"
      },
      "execution_count": null,
      "outputs": []
    },
    {
      "cell_type": "code",
      "source": [
        "final_early.show(5)"
      ],
      "metadata": {
        "colab": {
          "base_uri": "https://localhost:8080/"
        },
        "id": "JtTPVwmWfOvK",
        "outputId": "75e41261-b8c5-4ed5-ad51-466d1387040f"
      },
      "execution_count": null,
      "outputs": [
        {
          "output_type": "stream",
          "name": "stdout",
          "text": [
            "+------+------+-----+---+----+----+---+\n",
            "| node1| node2|label| cn|  pa|  tn| sl|\n",
            "+------+------+-----+---+----+----+---+\n",
            "|191715|191716|    1|2.0|12.0| 5.0|  0|\n",
            "| 14042|264342|    1|1.0| 4.0| 3.0|  0|\n",
            "|108213|300750|    1|1.0| 4.0| 3.0|  0|\n",
            "|108385|179319|    1|6.0|70.0|11.0|  0|\n",
            "|224437|224438|    1|1.0| 4.0| 3.0|  0|\n",
            "+------+------+-----+---+----+----+---+\n",
            "only showing top 5 rows\n",
            "\n"
          ]
        }
      ]
    },
    {
      "cell_type": "markdown",
      "source": [
        "Let's now do the same for the test collection"
      ],
      "metadata": {
        "id": "sCUkA5u1j4Ag"
      }
    },
    {
      "cell_type": "code",
      "source": [
        "query =\"\"\"CALL gds.graph.project.cypher(\n",
        "  'late',\n",
        "  'MATCH (n:Author)-[:CO_AUTHOR_LATE]-() RETURN id(n) AS id,  labels(n) AS labels',\n",
        "  'MATCH (n:Author)-[r:CO_AUTHOR_LATE]->(m:Author) RETURN id(n) AS source, id(m) AS target, type(r) AS type')\n",
        "YIELD\n",
        "  graphName AS graph, nodeQuery, nodeCount AS nodes, relationshipQuery, relationshipCount AS rels\n",
        "  \"\"\"\n",
        "\n",
        "\n",
        "queryex(query,driver)"
      ],
      "metadata": {
        "id": "rhIqP7ONj-3f"
      },
      "execution_count": null,
      "outputs": []
    },
    {
      "cell_type": "code",
      "source": [
        "query = \"\"\"\n",
        "CALL gds.louvain.stream('late')\n",
        "YIELD nodeId, communityId, intermediateCommunityIds\n",
        "RETURN  nodeId AS identity, communityId \n",
        "\"\"\"\n",
        "\n",
        "\n",
        "with driver.session() as session:\n",
        "        result = session.run(query)\n",
        "        features_lv = spark.createDataFrame([dict(record) for record in result])"
      ],
      "metadata": {
        "id": "vqRh1VQ8kazj"
      },
      "execution_count": null,
      "outputs": []
    },
    {
      "cell_type": "code",
      "source": [
        "features_lv.count()"
      ],
      "metadata": {
        "colab": {
          "base_uri": "https://localhost:8080/"
        },
        "id": "R1t1Ns0OpE41",
        "outputId": "bbc17eab-dddf-4f76-8df3-c68803cd87ce"
      },
      "execution_count": null,
      "outputs": [
        {
          "output_type": "execute_result",
          "data": {
            "text/plain": [
              "39238"
            ]
          },
          "metadata": {},
          "execution_count": 255
        }
      ]
    },
    {
      "cell_type": "code",
      "source": [
        "features_lv.select(\"identity\").distinct().count()"
      ],
      "metadata": {
        "colab": {
          "base_uri": "https://localhost:8080/"
        },
        "id": "oBGyFP7psEMg",
        "outputId": "648ce57e-5bdb-49a5-8172-4c7a16db7da8"
      },
      "execution_count": null,
      "outputs": [
        {
          "output_type": "execute_result",
          "data": {
            "text/plain": [
              "39238"
            ]
          },
          "metadata": {},
          "execution_count": 256
        }
      ]
    },
    {
      "cell_type": "code",
      "source": [
        "features_lv.show(10)"
      ],
      "metadata": {
        "colab": {
          "base_uri": "https://localhost:8080/"
        },
        "id": "sdVLhW7Vk_pB",
        "outputId": "d8e6d4a5-5b39-44de-928b-67d8cc655b0b"
      },
      "execution_count": null,
      "outputs": [
        {
          "output_type": "stream",
          "name": "stdout",
          "text": [
            "+-----------+--------+\n",
            "|communityId|identity|\n",
            "+-----------+--------+\n",
            "|      39237|    8627|\n",
            "|          2|   11365|\n",
            "|          2|   11366|\n",
            "|          5|   11367|\n",
            "|          5|   11368|\n",
            "|          5|   11369|\n",
            "|      39222|   11370|\n",
            "|      38670|   11371|\n",
            "|      25148|   11372|\n",
            "|      19949|   11373|\n",
            "+-----------+--------+\n",
            "only showing top 10 rows\n",
            "\n"
          ]
        }
      ]
    },
    {
      "cell_type": "code",
      "source": [
        "df_test_under_join1 = df_test_under_graph_f.join(features_lv,  df_test_under_graph_f.node1 == features_lv.identity).withColumnRenamed(\"communityId\", \"CI1\")\n",
        "\n",
        "\n"
      ],
      "metadata": {
        "id": "84qkJxg-lItV"
      },
      "execution_count": null,
      "outputs": []
    },
    {
      "cell_type": "code",
      "source": [
        "df_test_under_join1.show(10)"
      ],
      "metadata": {
        "colab": {
          "base_uri": "https://localhost:8080/"
        },
        "id": "AFP0Im-nmJoD",
        "outputId": "7929175e-b253-4d4a-a0ae-bbf5e7e58f6e"
      },
      "execution_count": null,
      "outputs": [
        {
          "output_type": "stream",
          "name": "stdout",
          "text": [
            "+------+------+-----+---+-----+----+-----+--------+\n",
            "| node1| node2|label| cn|   pa|  tn|  CI1|identity|\n",
            "+------+------+-----+---+-----+----+-----+--------+\n",
            "| 13372|288913|    0|0.0| 25.0|10.0|27865|   13372|\n",
            "| 14491|207393|    0|1.0|828.0|80.0|30976|   14491|\n",
            "|102566|139550|    0|1.0| 16.0| 9.0|32041|  102566|\n",
            "| 13278|138252|    0|1.0| 24.0|10.0|28917|   13278|\n",
            "| 13625|273490|    0|1.0|152.0|41.0|30976|   13625|\n",
            "| 14599|293386|    0|0.0|156.0|25.0|13621|   14599|\n",
            "|107579|289527|    0|0.0| 12.0| 7.0|28961|  107579|\n",
            "| 13552|323940|    0|1.0|126.0|22.0|28917|   13552|\n",
            "| 15179|276876|    0|1.0| 72.0|21.0|22183|   15179|\n",
            "|115266|337955|    0|0.0| 27.0|12.0|35601|  115266|\n",
            "+------+------+-----+---+-----+----+-----+--------+\n",
            "only showing top 10 rows\n",
            "\n"
          ]
        }
      ]
    },
    {
      "cell_type": "code",
      "source": [
        "df_test_under_join2 = df_test_under_graph_f.join(features_lv,  df_test_under_graph_f.node2 == features_lv.identity).select(\"node1\", \"node2\", \"communityId\").withColumnRenamed(\"communityId\", \"CI2\")\n",
        "df_test_under_join2.show(10)"
      ],
      "metadata": {
        "colab": {
          "base_uri": "https://localhost:8080/"
        },
        "id": "tkP6MF0xmQ5v",
        "outputId": "f84aab0e-e6ec-4c9f-a0e0-3fa090460ffc"
      },
      "execution_count": null,
      "outputs": [
        {
          "output_type": "stream",
          "name": "stdout",
          "text": [
            "+------+------+-----+\n",
            "| node1| node2|  CI2|\n",
            "+------+------+-----+\n",
            "| 13372|288913|30976|\n",
            "| 14491|207393|28961|\n",
            "|102566|139550|27631|\n",
            "| 13278|138252|28917|\n",
            "| 13625|273490|37440|\n",
            "| 14599|293386|13621|\n",
            "|107579|289527|28961|\n",
            "| 13552|323940|28917|\n",
            "| 15179|276876|27865|\n",
            "|115266|337955|35601|\n",
            "+------+------+-----+\n",
            "only showing top 10 rows\n",
            "\n"
          ]
        }
      ]
    },
    {
      "cell_type": "code",
      "source": [
        "total_late = df_test_under_join1.join(df_test_under_join2, on=[\"node1\", \"node2\"], how='inner' )"
      ],
      "metadata": {
        "id": "8_wOlf3Bmc4U"
      },
      "execution_count": null,
      "outputs": []
    },
    {
      "cell_type": "code",
      "source": [
        "total_late.show(5)"
      ],
      "metadata": {
        "colab": {
          "base_uri": "https://localhost:8080/"
        },
        "id": "hLOY-SQjm7w8",
        "outputId": "0a58463a-fa02-4595-f668-9afd7332862d"
      },
      "execution_count": null,
      "outputs": [
        {
          "output_type": "stream",
          "name": "stdout",
          "text": [
            "+------+------+-----+---+-----+----+-----+--------+-----+\n",
            "| node1| node2|label| cn|   pa|  tn|  CI1|identity|  CI2|\n",
            "+------+------+-----+---+-----+----+-----+--------+-----+\n",
            "| 13625|273490|    0|1.0|152.0|41.0|30976|   13625|37440|\n",
            "|114962|185863|    0|0.0| 12.0| 8.0|28917|  114962|28917|\n",
            "| 14511|240201|    0|1.0| 42.0|12.0|27865|   14511|27865|\n",
            "|113192|173584|    0|1.0| 45.0|13.0|36384|  113192|36384|\n",
            "| 11461| 11544|    0|1.0|  3.0| 3.0|  171|   11461|  171|\n",
            "+------+------+-----+---+-----+----+-----+--------+-----+\n",
            "only showing top 5 rows\n",
            "\n"
          ]
        }
      ]
    },
    {
      "cell_type": "code",
      "source": [
        "df_test_under_graph_f.count()"
      ],
      "metadata": {
        "colab": {
          "base_uri": "https://localhost:8080/"
        },
        "id": "n5lmmGf8r3YA",
        "outputId": "a1b87224-d373-4755-a173-6c59f24370c3"
      },
      "execution_count": null,
      "outputs": [
        {
          "output_type": "execute_result",
          "data": {
            "text/plain": [
              "129716"
            ]
          },
          "metadata": {},
          "execution_count": 263
        }
      ]
    },
    {
      "cell_type": "code",
      "source": [
        "total_late.count()"
      ],
      "metadata": {
        "colab": {
          "base_uri": "https://localhost:8080/"
        },
        "id": "XViDEHvRo4ZO",
        "outputId": "7ad24f39-bacb-417e-927c-7a69960a69b4"
      },
      "execution_count": null,
      "outputs": [
        {
          "output_type": "execute_result",
          "data": {
            "text/plain": [
              "129716"
            ]
          },
          "metadata": {},
          "execution_count": 264
        }
      ]
    },
    {
      "cell_type": "code",
      "source": [
        "total_late.where(\"CI1<CI2\").show(5)"
      ],
      "metadata": {
        "colab": {
          "base_uri": "https://localhost:8080/"
        },
        "id": "kY4BXkb6nIoO",
        "outputId": "71df13bc-8196-4117-b0ee-ebeff7e8f61b"
      },
      "execution_count": null,
      "outputs": [
        {
          "output_type": "stream",
          "name": "stdout",
          "text": [
            "+-----+------+-----+---+-----+----+-----+--------+-----+---+-----+----+-----+--------+\n",
            "|node1| node2|label| cn|   pa|  tn|  CI1|identity|label| cn|   pa|  tn|  CI2|identity|\n",
            "+-----+------+-----+---+-----+----+-----+--------+-----+---+-----+----+-----+--------+\n",
            "|13625|273490|    0|1.0|152.0|41.0|30976|   13625|    0|1.0|152.0|41.0|37440|  273490|\n",
            "|13478|300759|    0|0.0| 36.0|15.0|27865|   13478|    0|0.0| 36.0|15.0|28545|  300759|\n",
            "|15199|301055|    0|0.0|  9.0| 6.0|30976|   15199|    0|0.0|  9.0| 6.0|35601|  301055|\n",
            "|13362|173239|    0|1.0|714.0|54.0|32041|   13362|    0|1.0|714.0|54.0|32878|  173239|\n",
            "|13572|296083|    0|0.0| 27.0|12.0|28961|   13572|    0|0.0| 27.0|12.0|30976|  296083|\n",
            "+-----+------+-----+---+-----+----+-----+--------+-----+---+-----+----+-----+--------+\n",
            "only showing top 5 rows\n",
            "\n"
          ]
        }
      ]
    },
    {
      "cell_type": "code",
      "source": [
        "final_late = total_late.withColumn(\"sl\", when(total_late.CI1==total_late.CI2, 1).otherwise(0)).drop(\"CI1\", \"CI2\", \"identity\")"
      ],
      "metadata": {
        "id": "tkQow7n3ofKy"
      },
      "execution_count": null,
      "outputs": []
    },
    {
      "cell_type": "code",
      "source": [
        "final_late.show(5)"
      ],
      "metadata": {
        "colab": {
          "base_uri": "https://localhost:8080/"
        },
        "id": "gfsY8fqayCwy",
        "outputId": "bd063a3e-b87a-4967-b36c-9ed5d2f9a51b"
      },
      "execution_count": null,
      "outputs": [
        {
          "output_type": "stream",
          "name": "stdout",
          "text": [
            "+------+------+-----+---+-----+----+---+\n",
            "| node1| node2|label| cn|   pa|  tn| sl|\n",
            "+------+------+-----+---+-----+----+---+\n",
            "| 13625|273490|    0|1.0|152.0|41.0|  0|\n",
            "|114962|185863|    0|0.0| 12.0| 8.0|  1|\n",
            "| 14511|240201|    0|1.0| 42.0|12.0|  1|\n",
            "|113192|173584|    0|1.0| 45.0|13.0|  1|\n",
            "| 11461| 11544|    0|1.0|  3.0| 3.0|  1|\n",
            "+------+------+-----+---+-----+----+---+\n",
            "only showing top 5 rows\n",
            "\n"
          ]
        }
      ]
    },
    {
      "cell_type": "code",
      "source": [
        "final_late.count()"
      ],
      "metadata": {
        "colab": {
          "base_uri": "https://localhost:8080/"
        },
        "id": "KbFn0dLGovZY",
        "outputId": "b0e8a370-b5b1-4785-9e05-b7e0423f0d6b"
      },
      "execution_count": null,
      "outputs": [
        {
          "output_type": "execute_result",
          "data": {
            "text/plain": [
              "129716"
            ]
          },
          "metadata": {},
          "execution_count": 267
        }
      ]
    },
    {
      "cell_type": "markdown",
      "metadata": {
        "id": "mlfAQ55d5UjJ"
      },
      "source": [
        "- Similarly, set a property on each node in the *CO_AUTHOR_LATE* subgraph, containing the first community ID that the Louvain algorithm found for this node."
      ]
    },
    {
      "cell_type": "markdown",
      "metadata": {
        "id": "liWanN3o6LK3"
      },
      "source": [
        "- Now, each node in our graph contains 2 new properties. What are the names of these properties? \n",
        "\n",
        "\n",
        "**Hint:** Feel free to use the Neo4J Browser if it doesn't look intuitive from the code blocks above."
      ]
    },
    {
      "cell_type": "markdown",
      "metadata": {
        "id": "UbG0VSN36YJf"
      },
      "source": [
        "Let's now build a derived feature to express for each pair wether the nodes belong to the same Louvain community or not.\n",
        "\n",
        "- Complete the function below to create this derived feature for each pair of nodes"
      ]
    },
    {
      "cell_type": "markdown",
      "metadata": {
        "id": "n31STYVnB2Qu"
      },
      "source": [
        "Let's apply the function to our training DataFrame and do a quick sanity check of the number of resulting rows (that should be the same)."
      ]
    },
    {
      "cell_type": "code",
      "metadata": {
        "id": "rdF3yinbpJHd"
      },
      "source": [
        "print('Counts before applying community feature engineering: ')\n",
        "print(df_train_under.count())\n",
        "print(df_test_under.count())\n",
        "\n",
        "df_train_under_community_f = add_community_feature(df_train_under_pairs, \"louvainTrain\")\n",
        "df_test_under_community_f = add_community_feature(df_test_under_pairs, \"louvainTest\")\n",
        "\n",
        "print('Counts after applying community feature engineering: ')\n",
        "print(df_train_under_community_f.count())\n",
        "print(df_test_under_community_f.count())"
      ],
      "execution_count": null,
      "outputs": []
    },
    {
      "cell_type": "markdown",
      "metadata": {
        "id": "rTd8AO8wYIH6"
      },
      "source": [
        "Let's see how it looks:"
      ]
    },
    {
      "cell_type": "code",
      "metadata": {
        "id": "sjFh7FdqYHcg"
      },
      "source": [
        "df_train_under_community_f.filter(F.col('label') == 0).show(5)\n",
        "df_test_under_community_f.filter(F.col('label') == 1).show(5)"
      ],
      "execution_count": null,
      "outputs": []
    },
    {
      "cell_type": "markdown",
      "metadata": {
        "id": "Wg6shFo0YTHU"
      },
      "source": [
        "# Save train and test DataFrames"
      ]
    },
    {
      "cell_type": "markdown",
      "metadata": {
        "id": "kUrJkmFTAZaH"
      },
      "source": [
        "- Join the graph topology features df with the community feature df."
      ]
    },
    {
      "cell_type": "code",
      "metadata": {
        "id": "DIz27oaoAfin"
      },
      "source": [
        "print('Counts before joining df: ')\n",
        "print(df_train_under_graph_f.count())\n",
        "print(df_train_under_community_f.count())\n",
        "\n",
        "print(df_test_under_graph_f.count())\n",
        "print(df_test_under_community_f.count())\n",
        "\n",
        "df_train_under = df_train_under_graph_f.join(df_train_under_community_f, on=['node1', 'node2', 'label'], how='inner')\n",
        "df_test_under = df_test_under_graph_f.join(df_test_under_community_f, on=['node1', 'node2', 'label'], how='inner')\n",
        "\n",
        "print('Counts after joining df: ')\n",
        "print(df_train_under.count())\n",
        "print(df_test_under.count())"
      ],
      "execution_count": null,
      "outputs": []
    },
    {
      "cell_type": "markdown",
      "metadata": {
        "id": "LCJ2oY5k_rHy"
      },
      "source": [
        "Save our final train and test DataFrames to CSV files for use in the next notebook.\n"
      ]
    },
    {
      "cell_type": "code",
      "metadata": {
        "id": "aO8I7WZKpJHd"
      },
      "source": [
        "#final_early.write.csv(save_folder +  \"df_train_under_all.csv\", mode='overwrite', header=True)\n",
        "final_late.write.csv(save_folder + \"df_test_under_all.csv\", mode='overwrite', header=True)"
      ],
      "execution_count": null,
      "outputs": []
    },
    {
      "cell_type": "markdown",
      "metadata": {
        "id": "HgwF_gOeAPQZ"
      },
      "source": [
        "Please check that both datasets have been written to your Drive at the desired location because we are going to need them later for model training and testing."
      ]
    }
  ]
}