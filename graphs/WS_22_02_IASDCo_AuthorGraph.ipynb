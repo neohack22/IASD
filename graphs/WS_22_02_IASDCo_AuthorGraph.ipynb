{
  "nbformat": 4,
  "nbformat_minor": 0,
  "metadata": {
    "jupytext": {
      "formats": "py:light,ipynb",
      "text_representation": {
        "extension": ".py",
        "format_name": "light",
        "format_version": "1.5",
        "jupytext_version": "1.5.2"
      }
    },
    "kernelspec": {
      "display_name": "Python 3",
      "language": "python",
      "name": "python3"
    },
    "language_info": {
      "codemirror_mode": {
        "name": "ipython",
        "version": 3
      },
      "file_extension": ".py",
      "mimetype": "text/x-python",
      "name": "python",
      "nbconvert_exporter": "python",
      "pygments_lexer": "ipython3",
      "version": "3.8.4"
    },
    "colab": {
      "provenance": [],
      "collapsed_sections": [
        "ZoaqhgJQC_fC"
      ],
      "include_colab_link": true
    }
  },
  "cells": [
    {
      "cell_type": "markdown",
      "metadata": {
        "id": "view-in-github",
        "colab_type": "text"
      },
      "source": [
        "<a href=\"https://colab.research.google.com/github/neohack22/IASD/blob/graphs/graphs/WS_22_02_IASDCo_AuthorGraph.ipynb\" target=\"_parent\"><img src=\"https://colab.research.google.com/assets/colab-badge.svg\" alt=\"Open In Colab\"/></a>"
      ]
    },
    {
      "cell_type": "markdown",
      "metadata": {
        "id": "ZoaqhgJQC_fC"
      },
      "source": [
        "# Setup\n",
        "\n",
        "Install the necessary library in your Colab notebook environment and connect to your hosted Neo4J Sandbox."
      ]
    },
    {
      "cell_type": "code",
      "metadata": {
        "colab": {
          "base_uri": "https://localhost:8080/"
        },
        "id": "JmHymBmsVYqx",
        "outputId": "c6f2c027-6a43-4f3a-9d31-b2b15852cd6a"
      },
      "source": [
        "!pip install neo4j"
      ],
      "execution_count": null,
      "outputs": [
        {
          "output_type": "stream",
          "name": "stdout",
          "text": [
            "Looking in indexes: https://pypi.org/simple, https://us-python.pkg.dev/colab-wheels/public/simple/\n",
            "Collecting neo4j\n",
            "  Downloading neo4j-5.0.0.tar.gz (172 kB)\n",
            "\u001b[K     |████████████████████████████████| 172 kB 2.1 MB/s \n",
            "\u001b[?25hRequirement already satisfied: pytz in /usr/local/lib/python3.7/dist-packages (from neo4j) (2022.2.1)\n",
            "Building wheels for collected packages: neo4j\n",
            "  Building wheel for neo4j (setup.py) ... \u001b[?25l\u001b[?25hdone\n",
            "  Created wheel for neo4j: filename=neo4j-5.0.0-py3-none-any.whl size=247343 sha256=9fe9b2f9e66a99aa864a6a3c3e36ae45e3bb143e2d372aac8f535934a867b6f6\n",
            "  Stored in directory: /root/.cache/pip/wheels/68/a8/b6/0f1d16f8ba65752b567b654b8cf4d3901b9fe94150c47f827d\n",
            "Successfully built neo4j\n",
            "Installing collected packages: neo4j\n",
            "Successfully installed neo4j-5.0.0\n"
          ]
        }
      ]
    },
    {
      "cell_type": "code",
      "metadata": {
        "id": "fhmJ1QEdC-4e"
      },
      "source": [
        "ip = \"54.174.38.179\"\n",
        "bolt_port = \"7687\"\n",
        "username = \"neo4j\"\n",
        "password = \"spots-carrier-wires\""
      ],
      "execution_count": null,
      "outputs": []
    },
    {
      "cell_type": "code",
      "metadata": {
        "id": "RI-e7X2UuOgR",
        "colab": {
          "base_uri": "https://localhost:8080/"
        },
        "outputId": "ea29ecee-078b-47f2-f871-312539326f01"
      },
      "source": [
        "from neo4j import GraphDatabase\n",
        "\n",
        "driver = GraphDatabase.driver(\"bolt://\" + ip + \":\" + bolt_port, auth=(username, password))\n",
        "\n",
        "print(driver.address) # your-sandbox-ip:your-sandbox-bolt-port"
      ],
      "execution_count": null,
      "outputs": [
        {
          "output_type": "stream",
          "name": "stdout",
          "text": [
            "54.174.38.179:7687\n"
          ]
        }
      ]
    },
    {
      "cell_type": "markdown",
      "metadata": {
        "id": "N30fwjQwh2RH"
      },
      "source": [
        "# Build the co-author graph\n",
        "\n",
        "We are going to build an inferred graph of co-authors based on *Author*s that have collaborated on the same papers. \n",
        "\n",
        "We are also going to store a property on the *CO_AUTHOR* relationship to indicate the year of their first collaboration and another one to indicate the number of their collaborations.\n",
        "\n",
        "Complete the query below to create the CO_AUTHOR relationships, each one with *year* and *collaborations* properties. Feel free to experiment in the Neo4J Browser first.\n",
        "\n",
        "Note: we will be using the [apoc.periodic.iterate](https://neo4j.com/labs/apoc/4.1/overview/apoc.periodic/apoc.periodic.iterate/) procedure to commit in batches to the DB.\n"
      ]
    },
    {
      "cell_type": "code",
      "metadata": {
        "id": "GGhn02U_Lpt7"
      },
      "source": [
        "query = \"\"\"\n",
        "CALL apoc.periodic.iterate(\n",
        "\n",
        "  \" \n",
        "  /*\n",
        "   Step 1: Co-author pattern matching\n",
        "  */\n",
        "\n",
        "  MATCH ... // Use \"a1\" and \"a2\" naming to handle the matched Authors nodes\n",
        "  WITH a1, a2, paper \n",
        "  ORDER BY ... // Ensure we consider the oldest collab between authors to get the year of their first collaboration \n",
        "  RETURN a1, a2, ... AS year, ... AS nb_collaborations \n",
        "  \",\n",
        "\n",
        "  \"\n",
        "  /* \n",
        "  Step 2: Create CO_AUTHOR relationships and set properties\n",
        "  */\n",
        "  \n",
        "  MERGE ... // Use a \"coauthor\" naming to handle the CO_AUTHOR relationship\n",
        "  SET coauthor.collaborations = ...\n",
        "  \",\n",
        "\n",
        "  {batchSize: 100})\n",
        "\"\"\""
      ],
      "execution_count": null,
      "outputs": []
    },
    {
      "cell_type": "code",
      "metadata": {
        "id": "pKVzQdV3IdGf"
      },
      "source": [
        "#@title Hint\n",
        "\n",
        "query = \"\"\"\n",
        "CALL apoc.periodic.iterate(\n",
        "\n",
        "  \"\n",
        "  MATCH (a1: ... )<-[...]-(paper)-[...]->(a2: ...)\n",
        "  WITH a1, a2, paper \n",
        "  ORDER BY a1, paper.year  \n",
        "  RETURN a1, a2, collect(paper)[0].year AS year, ... AS nb_collaborations\n",
        "  \",\n",
        "\n",
        "  \"\n",
        "  MERGE (a1)-[...]-(a2)\n",
        "  SET coauthor.collaborations = ... \n",
        "  \",\n",
        "\n",
        "  {batchSize: 100})\n",
        "\"\"\""
      ],
      "execution_count": null,
      "outputs": []
    },
    {
      "cell_type": "code",
      "metadata": {
        "colab": {
          "base_uri": "https://localhost:8080/"
        },
        "id": "wePaRMloh2RI",
        "outputId": "4ee44362-2f3d-4a16-f843-5b7e9b7e1e2c"
      },
      "source": [
        "with driver.session() as session:\n",
        "  result = session.run(query)\n",
        "  for row in result:\n",
        "    print(row)"
      ],
      "execution_count": null,
      "outputs": [
        {
          "output_type": "stream",
          "name": "stdout",
          "text": [
            "<Record batches=3105 total=310448 timeTaken=25 committedOperations=310448 failedOperations=0 failedBatches=0 retries=0 errorMessages={} batch={'total': 3105, 'committed': 3105, 'failed': 0, 'errors': {}} operations={'total': 310448, 'committed': 310448, 'failed': 0, 'errors': {}} wasTerminated=False failedParams={} updateStatistics={'nodesDeleted': 0, 'labelsAdded': 0, 'relationshipsCreated': 11633, 'nodesCreated': 0, 'propertiesSet': 322081, 'relationshipsDeleted': 0, 'labelsRemoved': 0}>\n"
          ]
        }
      ]
    },
    {
      "cell_type": "markdown",
      "metadata": {
        "id": "bem-0sybQjV2"
      },
      "source": [
        "# Queries"
      ]
    },
    {
      "cell_type": "markdown",
      "metadata": {
        "id": "r0ldzcmNlKdi"
      },
      "source": [
        "- Check the previous query results by using this new \"CO_AUTHOR\" relationship. \n",
        "\n",
        "Previous query: Find the Author with whom \"Salvatore Greco\" has co-authored the most with.\n",
        "\n",
        "Hint: use the *collaboration* property."
      ]
    },
    {
      "cell_type": "markdown",
      "metadata": {
        "id": "9ll6HWCq2opI"
      },
      "source": [
        "- Recommend a new author to collaborate with Salvatore Greco based on the collaborations of his co-authors. \n",
        "\n",
        "Hint: find and rank Salvatore's co-authors' own co-authors, with whom Salvatore has not collaborated yet."
      ]
    },
    {
      "cell_type": "code",
      "metadata": {
        "id": "abPaBcGU24UY"
      },
      "source": [
        "#@title Solution\n",
        "\n",
        "MATCH (a:Author {name:'Salvatore Greco'})-[r1:CO_AUTHOR]->(ca:Author)-[r2:CO_AUTHOR]->(caofca:Author)\n",
        "WITH a, caofca, r1.collaborations as nb_ca_collabs, r2.collaborations as nb_caofca_collabs\n",
        "WHERE a <> caofca AND NOT (a)-[:CO_AUTHOR]-(caofca)\n",
        "RETURN caofca.name, nb_ca_collabs, nb_caofca_collabs \n",
        "ORDER BY nb_ca_collabs DESC, nb_caofca_collabs DESC \n",
        "LIMIT 1"
      ],
      "execution_count": null,
      "outputs": []
    },
    {
      "cell_type": "markdown",
      "metadata": {
        "id": "AkVlfroBh2RI"
      },
      "source": [
        "Now that we have created our co-author graph, we want to come up with an approach that will allow us to predict future links (relationships) that will be created between people."
      ]
    }
  ]
}