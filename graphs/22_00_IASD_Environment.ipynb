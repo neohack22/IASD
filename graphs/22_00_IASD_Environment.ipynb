{
  "nbformat": 4,
  "nbformat_minor": 0,
  "metadata": {
    "kernelspec": {
      "display_name": "Python 3",
      "language": "python",
      "name": "python3"
    },
    "language_info": {
      "codemirror_mode": {
        "name": "ipython",
        "version": 3
      },
      "file_extension": ".py",
      "mimetype": "text/x-python",
      "name": "python",
      "nbconvert_exporter": "python",
      "pygments_lexer": "ipython3",
      "version": "3.8.4"
    },
    "colab": {
      "provenance": [],
      "include_colab_link": true
    }
  },
  "cells": [
    {
      "cell_type": "markdown",
      "metadata": {
        "id": "view-in-github",
        "colab_type": "text"
      },
      "source": [
        "<a href=\"https://colab.research.google.com/github/neohack22/IASD/blob/graphs/graphs/22_00_IASD_Environment.ipynb\" target=\"_parent\"><img src=\"https://colab.research.google.com/assets/colab-badge.svg\" alt=\"Open In Colab\"/></a>"
      ]
    },
    {
      "cell_type": "markdown",
      "metadata": {
        "id": "KVJbNo7wd4k3"
      },
      "source": [
        "# Setting up your environment\n",
        "\n",
        "In this notebook we're going to setup and check the environment for the course. We will be using Colab and Neo4J Sandbox.\n",
        "\n",
        "\n",
        "\n"
      ]
    },
    {
      "cell_type": "markdown",
      "metadata": {
        "id": "1wWn5cyGBYYc"
      },
      "source": [
        "## Neo4J Sandbox\n",
        "Instead of installing and configuring Neo4J on your own computer, we will be using a hosted version of the DBMS, provided as a free sandbox. Sandboxes expires after 3 days, extendable to 7 days for free.\n",
        "\n",
        "Sign up for a free Neo4J Sandbox at https://sandbox.neo4j.com/login. Once logged in, click on *New Project* and choose the *Graph Data Science* sandbox. Click *Launch project* to finish. This will initialize a Neo4J database with the Graph Data Science library already installed.\n",
        "\n",
        "To connect to your distant sandbox from your computer, click the **black** arrow next to *Open* and show your *Connection details*.\n",
        "\n",
        "Replace your connection info in the cell below and run it:"
      ]
    },
    {
      "cell_type": "code",
      "metadata": {
        "id": "G_IjvLuXApqz"
      },
      "source": [
        "ip = \"100.24.53.24\"\n",
        "bolt_port = \"7687\"\n",
        "username = \"neo4j\"\n",
        "password = \"regrets-apportionment-horizons\""
      ],
      "execution_count": null,
      "outputs": []
    },
    {
      "cell_type": "markdown",
      "metadata": {
        "id": "jQaArgXzAe9V"
      },
      "source": [
        "## Library\n",
        "\n",
        "Let's install the official Neo4J Python library to work with your hosted sandbox. Run the cell below."
      ]
    },
    {
      "cell_type": "code",
      "metadata": {
        "id": "lJFsFn_Gd4k4"
      },
      "source": [
        "!pip install neo4j"
      ],
      "execution_count": null,
      "outputs": []
    },
    {
      "cell_type": "markdown",
      "metadata": {
        "id": "1kxb1pQLBuOt"
      },
      "source": [
        "## Check\n",
        "\n",
        "Let's connect to your sandbox using the credentials you provided earlier. Run the cell below."
      ]
    },
    {
      "cell_type": "code",
      "metadata": {
        "id": "QEPBP8RWd4k7",
        "colab": {
          "base_uri": "https://localhost:8080/"
        },
        "outputId": "630462d9-034b-4c9e-e18d-7d43ec0d32a4"
      },
      "source": [
        "from neo4j import GraphDatabase\n",
        "\n",
        "driver = GraphDatabase.driver(\"bolt://\" + ip + \":\" + bolt_port, auth=(username, password))\n",
        "\n",
        "print(driver.address) # your-sandbox-ip:your-sandbox-bolt-port"
      ],
      "execution_count": null,
      "outputs": [
        {
          "output_type": "stream",
          "text": [
            "54.86.93.232:7687\n"
          ],
          "name": "stdout"
        }
      ]
    },
    {
      "cell_type": "markdown",
      "metadata": {
        "id": "EE-_5Znhd4k7"
      },
      "source": [
        "If that works fine, and no errors are thrown, you're all set. If not, please contact me for troubleshooting."
      ]
    }
  ]
}