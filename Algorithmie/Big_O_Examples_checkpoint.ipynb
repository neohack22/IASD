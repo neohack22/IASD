{
  "nbformat": 4,
  "nbformat_minor": 0,
  "metadata": {
    "kernelspec": {
      "display_name": "Python 2",
      "language": "python",
      "name": "python2"
    },
    "language_info": {
      "codemirror_mode": {
        "name": "ipython",
        "version": 2
      },
      "file_extension": ".py",
      "mimetype": "text/x-python",
      "name": "python",
      "nbconvert_exporter": "python",
      "pygments_lexer": "ipython2",
      "version": "2.7.10"
    },
    "colab": {
      "name": "Copie IASD de Big O Examples -checkpoint.ipynb",
      "provenance": [],
      "include_colab_link": true
    }
  },
  "cells": [
    {
      "cell_type": "markdown",
      "metadata": {
        "id": "view-in-github",
        "colab_type": "text"
      },
      "source": [
        "<a href=\"https://colab.research.google.com/github/neohack22/IASD/blob/Algorithmique/Algorithmie/Big_O_Examples_checkpoint.ipynb\" target=\"_parent\"><img src=\"https://colab.research.google.com/assets/colab-badge.svg\" alt=\"Open In Colab\"/></a>"
      ]
    },
    {
      "cell_type": "markdown",
      "metadata": {
        "id": "huD44pEZv1vu"
      },
      "source": [
        "# Big O Examples\n",
        "\n",
        "In the first part of the Big-O example section we will go through various iterations of the various Big-O functions. Make sure to complete the reading assignment!\n",
        "\n",
        "Let's begin with some simple examples and explore what their Big-O is.\n",
        "\n",
        "## O(1) Constant"
      ]
    },
    {
      "cell_type": "code",
      "metadata": {
        "id": "lwozHxHMv1v8",
        "outputId": "be51c142-9bb5-4ffb-91d1-fff0e8eee789"
      },
      "source": [
        "def func_constant(values):\n",
        "    '''\n",
        "    Prints first item in a list of values.\n",
        "    '''\n",
        "    print values[0]\n",
        "    \n",
        "func_constant([1,2,3])"
      ],
      "execution_count": null,
      "outputs": [
        {
          "output_type": "stream",
          "text": [
            "1\n"
          ],
          "name": "stdout"
        }
      ]
    },
    {
      "cell_type": "code",
      "metadata": {
        "id": "5YXSqbZrv6RV",
        "colab": {
          "base_uri": "https://localhost:8080/"
        },
        "outputId": "0c50fac6-727e-4dc0-a8bc-fb8facbfd5a8"
      },
      "source": [
        "def func_constant(values):\n",
        "  '''\n",
        "  Prints first item in a list of values.\n",
        "  '''\n",
        "  print values[0]\n",
        "\n",
        "func_constant([1,2,3])"
      ],
      "execution_count": null,
      "outputs": [
        {
          "output_type": "stream",
          "text": [
            "1\n"
          ],
          "name": "stdout"
        }
      ]
    },
    {
      "cell_type": "markdown",
      "metadata": {
        "id": "mU3y-VzDv1v_"
      },
      "source": [
        "Note how this function is constant because regardless of the list size, the function will only ever take a constant step size, in this case 1, printing the first value from a list. so we can see here that an input list of 100 values will print just 1 item, a list of 10,000 values will print just 1 item, and a list of **n** values will print just 1 item!"
      ]
    },
    {
      "cell_type": "markdown",
      "metadata": {
        "id": "JcYlgCULv1wB"
      },
      "source": [
        "## O(n) Linear"
      ]
    },
    {
      "cell_type": "code",
      "metadata": {
        "id": "-d4QhXU3v1wB",
        "outputId": "b0e96ad8-3beb-46bf-86dc-e8ab55776a4b"
      },
      "source": [
        "def func_lin(lst):\n",
        "    '''\n",
        "    Takes in list and prints out all values\n",
        "    '''\n",
        "    for val in lst:\n",
        "        print val\n",
        "        \n",
        "func_lin([1,2,3])"
      ],
      "execution_count": null,
      "outputs": [
        {
          "output_type": "stream",
          "text": [
            "1\n",
            "2\n",
            "3\n"
          ],
          "name": "stdout"
        }
      ]
    },
    {
      "cell_type": "code",
      "metadata": {
        "id": "B6GcW-ErwRQR",
        "colab": {
          "base_uri": "https://localhost:8080/"
        },
        "outputId": "c6a4b3bb-6f43-4235-865c-2b2991632d43"
      },
      "source": [
        "def func_lin(lst):\n",
        "  '''\n",
        "  Takes in list and prints out all values\n",
        "  '''\n",
        "  for val in lst:\n",
        "    print val\n",
        "\n",
        "func_lin([1,2,3])"
      ],
      "execution_count": null,
      "outputs": [
        {
          "output_type": "stream",
          "text": [
            "1\n",
            "2\n",
            "3\n"
          ],
          "name": "stdout"
        }
      ]
    },
    {
      "cell_type": "markdown",
      "metadata": {
        "id": "JgIQasuwv1wC"
      },
      "source": [
        "This function runs in O(n) (linear time). This means that the number of operations taking place scales linearly with n, so we can see here that an input list of 100 values will print 100 times, a list of 10,000 values will print 10,000 times, and a list of **n** values will print **n** times."
      ]
    },
    {
      "cell_type": "markdown",
      "metadata": {
        "id": "SWd7YDV8v1wD"
      },
      "source": [
        "## O(n^2) Quadratic"
      ]
    },
    {
      "cell_type": "code",
      "metadata": {
        "id": "QO0yDTpTv1wE",
        "outputId": "5b78b1c2-2f80-4ec3-c690-8422984ea91a"
      },
      "source": [
        "def func_quad(lst):\n",
        "    '''\n",
        "    Prints pairs for every item in list.\n",
        "    '''\n",
        "    for item_1 in lst:\n",
        "        for item_2 in lst:\n",
        "            print item_1,item_2\n",
        "            \n",
        "lst = [0, 1, 2, 3]\n",
        "\n",
        "func_quad(lst)"
      ],
      "execution_count": null,
      "outputs": [
        {
          "output_type": "stream",
          "text": [
            "0 0\n",
            "0 1\n",
            "0 2\n",
            "0 3\n",
            "1 0\n",
            "1 1\n",
            "1 2\n",
            "1 3\n",
            "2 0\n",
            "2 1\n",
            "2 2\n",
            "2 3\n",
            "3 0\n",
            "3 1\n",
            "3 2\n",
            "3 3\n"
          ],
          "name": "stdout"
        }
      ]
    },
    {
      "cell_type": "code",
      "metadata": {
        "id": "CVVc6J61wlpp",
        "colab": {
          "base_uri": "https://localhost:8080/"
        },
        "outputId": "0bd7b19f-9bdb-4a64-d07c-74036b5638ba"
      },
      "source": [
        "def func_quad(lst):\n",
        "  '''\n",
        "  Prints pairs for every item in list.\n",
        "  '''\n",
        "  for item_1 in lst:\n",
        "    for  item_2 in lst:\n",
        "      print item_1,item_2\n",
        "    \n",
        "lst = [0, 1, 2, 3]\n",
        "\n",
        "func_quad(lst)"
      ],
      "execution_count": null,
      "outputs": [
        {
          "output_type": "stream",
          "text": [
            "0 0\n",
            "0 1\n",
            "0 2\n",
            "0 3\n",
            "1 0\n",
            "1 1\n",
            "1 2\n",
            "1 3\n",
            "2 0\n",
            "2 1\n",
            "2 2\n",
            "2 3\n",
            "3 0\n",
            "3 1\n",
            "3 2\n",
            "3 3\n"
          ],
          "name": "stdout"
        }
      ]
    },
    {
      "cell_type": "markdown",
      "metadata": {
        "id": "PfXKbvf1v1wF"
      },
      "source": [
        "Note how we now have two loops, one nested inside another. This means that for a list of n items, we will have to perform n operations for *every item in the list!* This means in total, we will perform n times n assignments, or n^2. So a list of 10 items will have 10^2, or 100 operations. You can see how dangerous this can get for very large inputs! This is why Big-O is so important to be aware of!"
      ]
    },
    {
      "cell_type": "markdown",
      "metadata": {
        "id": "72fWfk0wv1wF"
      },
      "source": [
        "______\n",
        "## Calculating Scale of Big-O\n",
        "\n",
        "In this section we will discuss how insignificant terms drop out of Big-O notation.\n",
        "\n",
        "When it comes to Big O notation we only care about the most significant terms, remember as the input grows larger only the fastest growing terms will matter. If you've taken a calculus class before, this will reminf you of taking limits towards infinity. Let's see an example of how to drop constants:"
      ]
    },
    {
      "cell_type": "code",
      "metadata": {
        "collapsed": true,
        "id": "fys4AO9Xv1wG"
      },
      "source": [
        "def print_once(lst):\n",
        "    '''\n",
        "    Prints all items once\n",
        "    '''\n",
        "    for val in lst:\n",
        "        print val"
      ],
      "execution_count": null,
      "outputs": []
    },
    {
      "cell_type": "code",
      "metadata": {
        "id": "XB0AmnlBxbp3"
      },
      "source": [
        "def print_once(lst):\n",
        "  '''\n",
        "  Prints all items once\n",
        "  '''\n",
        "  for val in lst:\n",
        "    print val"
      ],
      "execution_count": null,
      "outputs": []
    },
    {
      "cell_type": "code",
      "metadata": {
        "id": "A3G-WmmIv1wH",
        "outputId": "fcd6fb78-d165-4b63-e3ce-49a9a9d10b0d"
      },
      "source": [
        "print_once(lst)"
      ],
      "execution_count": null,
      "outputs": [
        {
          "output_type": "stream",
          "text": [
            "0\n",
            "1\n",
            "2\n",
            "3\n"
          ],
          "name": "stdout"
        }
      ]
    },
    {
      "cell_type": "code",
      "metadata": {
        "id": "jpdlMCukxngK",
        "colab": {
          "base_uri": "https://localhost:8080/"
        },
        "outputId": "c891bc63-3fcd-4003-8f93-b34abdfed1f3"
      },
      "source": [
        "print_once(lst)"
      ],
      "execution_count": null,
      "outputs": [
        {
          "output_type": "stream",
          "text": [
            "0\n",
            "1\n",
            "2\n",
            "3\n"
          ],
          "name": "stdout"
        }
      ]
    },
    {
      "cell_type": "markdown",
      "metadata": {
        "id": "Hk7I0iROv1wH"
      },
      "source": [
        "The print_once() function is O(n) since it will scale linearly with the input. What about the next example?"
      ]
    },
    {
      "cell_type": "code",
      "metadata": {
        "collapsed": true,
        "id": "Stf56HPov1wI"
      },
      "source": [
        "def print_3(lst):\n",
        "    '''\n",
        "    Prints all items three times\n",
        "    '''\n",
        "    for val in lst:\n",
        "        print val\n",
        "        \n",
        "    for val in lst:\n",
        "        print val\n",
        "        \n",
        "    for val in lst:\n",
        "        print val"
      ],
      "execution_count": null,
      "outputs": []
    },
    {
      "cell_type": "code",
      "metadata": {
        "id": "okxCGZozxsPO"
      },
      "source": [
        "def print_3(lst):\n",
        "  '''\n",
        "  Prints all items three times\n",
        "  '''\n",
        "  for val in lst:\n",
        "    print val\n",
        "\n",
        "  for val in lst:\n",
        "    print val\n",
        "\n",
        "  for val in lst:\n",
        "    print val"
      ],
      "execution_count": null,
      "outputs": []
    },
    {
      "cell_type": "code",
      "metadata": {
        "id": "iEmZKT2Vv1wI",
        "outputId": "27677856-f69a-483f-a43f-3f60f8510dce"
      },
      "source": [
        "print_3(lst)"
      ],
      "execution_count": null,
      "outputs": [
        {
          "output_type": "stream",
          "text": [
            "0\n",
            "1\n",
            "2\n",
            "3\n",
            "0\n",
            "1\n",
            "2\n",
            "3\n",
            "0\n",
            "1\n",
            "2\n",
            "3\n"
          ],
          "name": "stdout"
        }
      ]
    },
    {
      "cell_type": "code",
      "metadata": {
        "id": "wCHxvdoax9gH",
        "colab": {
          "base_uri": "https://localhost:8080/"
        },
        "outputId": "551472cd-e983-4327-f4f6-66bcaedefc21"
      },
      "source": [
        "print_3(lst)"
      ],
      "execution_count": null,
      "outputs": [
        {
          "output_type": "stream",
          "text": [
            "0\n",
            "1\n",
            "2\n",
            "3\n",
            "0\n",
            "1\n",
            "2\n",
            "3\n",
            "0\n",
            "1\n",
            "2\n",
            "3\n"
          ],
          "name": "stdout"
        }
      ]
    },
    {
      "cell_type": "markdown",
      "metadata": {
        "id": "XwefPnULv1wJ"
      },
      "source": [
        "We can see that the first function will print O(n) items and the second will print O(3n) items. However for n going to inifinity the constant can be dropped, since it will not have a large effect, so both functions are O(n).\n",
        "\n",
        "Let's see a more complex example of this:"
      ]
    },
    {
      "cell_type": "code",
      "metadata": {
        "collapsed": true,
        "id": "VgXRkISUv1wK"
      },
      "source": [
        "def comp(lst):\n",
        "    '''\n",
        "    This function prints the first item O(1)\n",
        "    Then is prints the first 1/2 of the list O(n/2)\n",
        "    Then prints a string 10 times O(10)\n",
        "    '''\n",
        "    print lst[0]\n",
        "    \n",
        "    midpoint = len(lst)/2\n",
        "    \n",
        "    for val in lst[:midpoint]:\n",
        "        print val\n",
        "        \n",
        "    for x in range(10):\n",
        "        print 'number'"
      ],
      "execution_count": null,
      "outputs": []
    },
    {
      "cell_type": "code",
      "metadata": {
        "id": "9b4XHjFbyD91"
      },
      "source": [
        "def comp(lst):\n",
        "  '''\n",
        "  This function prints the first item 0(1)\n",
        "  Then it prints the first 1/2 of the list 0(n/2)\n",
        "  Then prints a string 10 times O(10)\n",
        "  '''\n",
        "  print lst[0]\n",
        "\n",
        "  midpoint = len(lst)/2\n",
        "\n",
        "  for val in lst[:midpoint]:\n",
        "    print val\n",
        "\n",
        "  for x in range(10):\n",
        "    print 'number'"
      ],
      "execution_count": null,
      "outputs": []
    },
    {
      "cell_type": "code",
      "metadata": {
        "id": "q18lCGCmv1wK",
        "outputId": "738876de-9537-4432-e91f-021d67739733"
      },
      "source": [
        "lst = [1,2,3,4,5,6,7,8,9,10]\n",
        "\n",
        "comp(lst)"
      ],
      "execution_count": null,
      "outputs": [
        {
          "output_type": "stream",
          "text": [
            "1\n",
            "1\n",
            "2\n",
            "3\n",
            "4\n",
            "5\n",
            "number\n",
            "number\n",
            "number\n",
            "number\n",
            "number\n",
            "number\n",
            "number\n",
            "number\n",
            "number\n",
            "number\n"
          ],
          "name": "stdout"
        }
      ]
    },
    {
      "cell_type": "code",
      "metadata": {
        "id": "8Lb84f6ByssZ",
        "colab": {
          "base_uri": "https://localhost:8080/"
        },
        "outputId": "e83928a6-ff0e-4587-8f79-0594b741dd07"
      },
      "source": [
        "lst = [1,2,3,4,5,6,7,8,9,10]\n",
        "\n",
        "comp(lst)"
      ],
      "execution_count": null,
      "outputs": [
        {
          "output_type": "stream",
          "text": [
            "1\n",
            "1\n",
            "2\n",
            "3\n",
            "4\n",
            "5\n",
            "number\n",
            "number\n",
            "number\n",
            "number\n",
            "number\n",
            "number\n",
            "number\n",
            "number\n",
            "number\n",
            "number\n"
          ],
          "name": "stdout"
        }
      ]
    },
    {
      "cell_type": "markdown",
      "metadata": {
        "id": "E9G-Be9av1wL"
      },
      "source": [
        "So let's break down the operations here. We can combine each operation to get the total Big-O of the function:\n",
        "\n",
        "$$O(1 + n/2 + 10)$$\n",
        "\n",
        "We can see that as n grows larger the 1 and 10 terms become insignificant and the 1/2 term multiplied against n will also not have much of an effect as n goes towards infinity. This means the function is simply O(n)!"
      ]
    },
    {
      "cell_type": "markdown",
      "metadata": {
        "id": "vY9LqKl4v1wM"
      },
      "source": [
        "## Worst Case vs Best Case\n",
        "\n",
        "Many times we are only concerned with the worst possible case of an algorithm, but in an interview setting its important to keep in mind that worst case and best case scenarios may be completely different Big-O times. For example, consider the following function:"
      ]
    },
    {
      "cell_type": "code",
      "metadata": {
        "collapsed": true,
        "id": "IcGR4ui3v1wM"
      },
      "source": [
        "def matcher(lst,match):\n",
        "    '''\n",
        "    Given a list lst, return a boolean indicating if match item is in the list\n",
        "    '''\n",
        "    for item in lst:\n",
        "        if item == match:\n",
        "            return True\n",
        "    return False"
      ],
      "execution_count": null,
      "outputs": []
    },
    {
      "cell_type": "code",
      "metadata": {
        "id": "22aqyUyyzA6E"
      },
      "source": [
        "def matcher(lst,match):\n",
        "  '''\n",
        "  Given a list lst, return a boolean indicating if match item is in the list\n",
        "  '''\n",
        "  for item in lst:\n",
        "    if item == match:\n",
        "      return True\n",
        "  return False"
      ],
      "execution_count": null,
      "outputs": []
    },
    {
      "cell_type": "code",
      "metadata": {
        "id": "XmQzacgVv1wN",
        "outputId": "d9c923ee-6e7b-42b2-a3b8-ec7ce2e69934"
      },
      "source": [
        "lst"
      ],
      "execution_count": null,
      "outputs": [
        {
          "output_type": "execute_result",
          "data": {
            "text/plain": [
              "[1, 2, 3, 4, 5, 6, 7, 8, 9, 10]"
            ]
          },
          "metadata": {
            "tags": []
          },
          "execution_count": 21
        }
      ]
    },
    {
      "cell_type": "code",
      "metadata": {
        "id": "UGPNIdsQzV_X",
        "colab": {
          "base_uri": "https://localhost:8080/"
        },
        "outputId": "f37002e1-ee4c-4b86-ad60-d2005264473d"
      },
      "source": [
        "lst"
      ],
      "execution_count": null,
      "outputs": [
        {
          "output_type": "execute_result",
          "data": {
            "text/plain": [
              "[1, 2, 3, 4, 5, 6, 7, 8, 9, 10]"
            ]
          },
          "metadata": {
            "tags": []
          },
          "execution_count": 11
        }
      ]
    },
    {
      "cell_type": "code",
      "metadata": {
        "id": "Xsy5-tGuv1wO",
        "outputId": "ba98b15c-3012-408f-9e5b-a0a4a07a7580"
      },
      "source": [
        "matcher(lst,1)"
      ],
      "execution_count": null,
      "outputs": [
        {
          "output_type": "execute_result",
          "data": {
            "text/plain": [
              "True"
            ]
          },
          "metadata": {
            "tags": []
          },
          "execution_count": 22
        }
      ]
    },
    {
      "cell_type": "code",
      "metadata": {
        "id": "NWaLwU0BzXVd",
        "colab": {
          "base_uri": "https://localhost:8080/"
        },
        "outputId": "23bbeab7-63b5-4605-846a-a5fc93fcea95"
      },
      "source": [
        "matcher(lst,1)"
      ],
      "execution_count": null,
      "outputs": [
        {
          "output_type": "execute_result",
          "data": {
            "text/plain": [
              "True"
            ]
          },
          "metadata": {
            "tags": []
          },
          "execution_count": 12
        }
      ]
    },
    {
      "cell_type": "code",
      "metadata": {
        "id": "phfkzM9Pv1wO",
        "outputId": "4365be41-1458-439c-a569-b5a19324fabf"
      },
      "source": [
        "matcher(lst,11)"
      ],
      "execution_count": null,
      "outputs": [
        {
          "output_type": "execute_result",
          "data": {
            "text/plain": [
              "False"
            ]
          },
          "metadata": {
            "tags": []
          },
          "execution_count": 24
        }
      ]
    },
    {
      "cell_type": "code",
      "metadata": {
        "id": "nuc_FlUEzZ-8",
        "colab": {
          "base_uri": "https://localhost:8080/"
        },
        "outputId": "4fd71010-f858-46ac-9191-9c008c48612e"
      },
      "source": [
        "matcher(lst,11)"
      ],
      "execution_count": null,
      "outputs": [
        {
          "output_type": "execute_result",
          "data": {
            "text/plain": [
              "False"
            ]
          },
          "metadata": {
            "tags": []
          },
          "execution_count": 13
        }
      ]
    },
    {
      "cell_type": "markdown",
      "metadata": {
        "id": "DKkb_JdMv1wP"
      },
      "source": [
        "Note that in the first scenario, the best case was actually O(1), since the match was found at the first element. In the case where there is no match, every element must be checked, this results in a worst case time of O(n). Later on we will also discuss average case time.\n",
        "\n",
        "Finally let's introduce the concept of space complexity.\n",
        "\n",
        "## Space Complexity\n",
        "\n",
        "Many times we are also concerned with how much memory/space an algorithm uses. The notation of space complexity is the same, but instead of checking the time of operations, we check the size of the allocation of memory.\n",
        "\n",
        "Let's see a few examples:"
      ]
    },
    {
      "cell_type": "code",
      "metadata": {
        "collapsed": true,
        "id": "V7yBt4Kjv1wQ"
      },
      "source": [
        "def printer(n=10):\n",
        "    '''\n",
        "    Prints \"hello world!\" n times\n",
        "    '''\n",
        "    for x in range(10):\n",
        "        print 'Hello World!'"
      ],
      "execution_count": null,
      "outputs": []
    },
    {
      "cell_type": "code",
      "metadata": {
        "id": "hEA78pkVzmYP"
      },
      "source": [
        "def printer(n=10):\n",
        "  '''\n",
        "  Prints \"hello world!\" n times\n",
        "  '''\n",
        "  for x in range(10):\n",
        "    print 'Hello World!'"
      ],
      "execution_count": null,
      "outputs": []
    },
    {
      "cell_type": "code",
      "metadata": {
        "id": "RRWDbLRtv1wQ",
        "outputId": "72e90a66-9606-4b4a-dda1-cf91258edbe1"
      },
      "source": [
        "printer()"
      ],
      "execution_count": null,
      "outputs": [
        {
          "output_type": "stream",
          "text": [
            "Hello World!\n",
            "Hello World!\n",
            "Hello World!\n",
            "Hello World!\n",
            "Hello World!\n",
            "Hello World!\n",
            "Hello World!\n",
            "Hello World!\n",
            "Hello World!\n",
            "Hello World!\n"
          ],
          "name": "stdout"
        }
      ]
    },
    {
      "cell_type": "code",
      "metadata": {
        "id": "NqNYSFn1z0vw",
        "colab": {
          "base_uri": "https://localhost:8080/"
        },
        "outputId": "67a06a6a-55ae-4eda-e55c-f5970f43d089"
      },
      "source": [
        "printer()"
      ],
      "execution_count": null,
      "outputs": [
        {
          "output_type": "stream",
          "text": [
            "Hello World!\n",
            "Hello World!\n",
            "Hello World!\n",
            "Hello World!\n",
            "Hello World!\n",
            "Hello World!\n",
            "Hello World!\n",
            "Hello World!\n",
            "Hello World!\n",
            "Hello World!\n"
          ],
          "name": "stdout"
        }
      ]
    },
    {
      "cell_type": "markdown",
      "metadata": {
        "id": "qF72zbVSv1wR"
      },
      "source": [
        "Note how we only assign the 'hello world!' variable once, not every time we print. So the algorithm has O(1) **space** complexity and an O(n) **time** complexity. \n",
        "\n",
        "Let's see an example of O(n) **space** complexity:"
      ]
    },
    {
      "cell_type": "code",
      "metadata": {
        "collapsed": true,
        "id": "7z80Xc2Fv1wR"
      },
      "source": [
        "def create_list(n):\n",
        "    new_list = []\n",
        "    \n",
        "    for num in range(n):\n",
        "        new_list.append('new')\n",
        "    \n",
        "    return new_list"
      ],
      "execution_count": null,
      "outputs": []
    },
    {
      "cell_type": "code",
      "metadata": {
        "id": "iXXdLh10z899"
      },
      "source": [
        "def create_list(n):\n",
        "  new_list = []\n",
        "\n",
        "  for num in range(n):\n",
        "    new_list.append('new')\n",
        "\n",
        "  return new_list"
      ],
      "execution_count": null,
      "outputs": []
    },
    {
      "cell_type": "code",
      "metadata": {
        "id": "f1PiG09xv1wS",
        "outputId": "31841689-df69-474b-bd85-1750bc598adf"
      },
      "source": [
        "print create_list(5)"
      ],
      "execution_count": null,
      "outputs": [
        {
          "output_type": "stream",
          "text": [
            "['new', 'new', 'new', 'new', 'new']\n"
          ],
          "name": "stdout"
        }
      ]
    },
    {
      "cell_type": "code",
      "metadata": {
        "id": "-rWg47_h0NHJ",
        "colab": {
          "base_uri": "https://localhost:8080/"
        },
        "outputId": "cfd3cec7-9061-4ef4-a23e-a61d53de9f42"
      },
      "source": [
        "print create_list(5)"
      ],
      "execution_count": null,
      "outputs": [
        {
          "output_type": "stream",
          "text": [
            "['new', 'new', 'new', 'new', 'new']\n"
          ],
          "name": "stdout"
        }
      ]
    },
    {
      "cell_type": "markdown",
      "metadata": {
        "id": "rmiJQPJTv1wS"
      },
      "source": [
        "Note how the size of the new_list object scales with the input **n**, this shows that it is an O(n) algorithm with regards to **space** complexity.\n",
        "_____\n",
        "\n",
        "Thats it for this lecture, before continuing on, make sure to complete the homework assignment below:"
      ]
    },
    {
      "cell_type": "markdown",
      "metadata": {
        "id": "Q1THoZzcv1wT"
      },
      "source": [
        "# Homework Assignment\n",
        "\n",
        "Your homework assignment after this lecture is to read the fantastic explanations of Big-O at these two sources:\n",
        "\n",
        "* [Big-O Notation Explained](http://stackoverflow.com/questions/487258/plain-english-explanation-of-big-o/487278#487278)\n",
        "\n",
        "* [Big-O Examples Explained](http://stackoverflow.com/questions/2307283/what-does-olog-n-mean-exactly)"
      ]
    },
    {
      "cell_type": "markdown",
      "metadata": {
        "id": "tnzKgap57Ugy"
      },
      "source": [
        "O(1) Constant"
      ]
    },
    {
      "cell_type": "code",
      "metadata": {
        "id": "1XLUgxtj7QZD"
      },
      "source": [
        "def func_constant(values):\n",
        "  print values[0]  "
      ],
      "execution_count": null,
      "outputs": []
    },
    {
      "cell_type": "code",
      "metadata": {
        "id": "3WrFliwf7bHm",
        "colab": {
          "base_uri": "https://localhost:8080/"
        },
        "outputId": "d6f83f69-4558-418a-bb6f-f9ea2818f4a1"
      },
      "source": [
        "lst = [1,2,3]\n",
        "func_constant(lst)"
      ],
      "execution_count": null,
      "outputs": [
        {
          "output_type": "stream",
          "text": [
            "1\n"
          ],
          "name": "stdout"
        }
      ]
    },
    {
      "cell_type": "markdown",
      "metadata": {
        "id": "JjodBeTQ7jLw"
      },
      "source": [
        "O(n) Linear"
      ]
    },
    {
      "cell_type": "code",
      "metadata": {
        "id": "EB7ybj9y7rJ-"
      },
      "source": [
        "def func_lin(lst):\n",
        "\n",
        "  for val in lst:\n",
        "    print val"
      ],
      "execution_count": null,
      "outputs": []
    },
    {
      "cell_type": "code",
      "metadata": {
        "id": "ZsyBQxQZ7wyN",
        "colab": {
          "base_uri": "https://localhost:8080/"
        },
        "outputId": "95d8f201-7332-4fcb-8550-6c418a94b90b"
      },
      "source": [
        "func_lin(lst)"
      ],
      "execution_count": null,
      "outputs": [
        {
          "output_type": "stream",
          "text": [
            "1\n",
            "2\n",
            "3\n"
          ],
          "name": "stdout"
        }
      ]
    },
    {
      "cell_type": "markdown",
      "metadata": {
        "id": "C3l7iIjN7m0-"
      },
      "source": [
        "O(n^2) Quadratic"
      ]
    },
    {
      "cell_type": "code",
      "metadata": {
        "id": "L7-mqL4W7fth"
      },
      "source": [
        "def func_quad(lst):\n",
        "\n",
        "  for item_1 in lst:\n",
        "    for item_2 in lst:\n",
        "      print item_1,item_2"
      ],
      "execution_count": null,
      "outputs": []
    },
    {
      "cell_type": "code",
      "metadata": {
        "id": "XiQplpYl8Cy2",
        "colab": {
          "base_uri": "https://localhost:8080/"
        },
        "outputId": "5807e8a0-5d6e-499e-a469-451becdeab45"
      },
      "source": [
        "lst = [1,2,3]\n",
        "\n",
        "func_quad(lst)"
      ],
      "execution_count": null,
      "outputs": [
        {
          "output_type": "stream",
          "text": [
            "1 1\n",
            "1 2\n",
            "1 3\n",
            "2 1\n",
            "2 2\n",
            "2 3\n",
            "3 1\n",
            "3 2\n",
            "3 3\n"
          ],
          "name": "stdout"
        }
      ]
    },
    {
      "cell_type": "code",
      "metadata": {
        "id": "AeMIo1Xl8HKW"
      },
      "source": [
        "def print_once(lst): # O(n)\n",
        "\n",
        "  for val in lst:\n",
        "    print val"
      ],
      "execution_count": null,
      "outputs": []
    },
    {
      "cell_type": "code",
      "metadata": {
        "id": "R8OQefUE8a91",
        "colab": {
          "base_uri": "https://localhost:8080/"
        },
        "outputId": "abaff2db-a980-4c17-929b-1a5e74cd67b7"
      },
      "source": [
        "print_once(lst)"
      ],
      "execution_count": null,
      "outputs": [
        {
          "output_type": "stream",
          "text": [
            "1\n",
            "2\n",
            "3\n"
          ],
          "name": "stdout"
        }
      ]
    },
    {
      "cell_type": "code",
      "metadata": {
        "id": "gUsJ7dIQ8dbY"
      },
      "source": [
        "def print_2(lst): #O(n) O(2n)\n",
        "\n",
        "  for val in lst:\n",
        "    print val\n",
        "\n",
        "  for val in lst:\n",
        "    print val"
      ],
      "execution_count": null,
      "outputs": []
    },
    {
      "cell_type": "code",
      "metadata": {
        "id": "U1VDp6Z-8mW-",
        "colab": {
          "base_uri": "https://localhost:8080/"
        },
        "outputId": "1ca5f7ea-f318-4032-e3ed-7973adbcb1a2"
      },
      "source": [
        "print_2(lst)"
      ],
      "execution_count": null,
      "outputs": [
        {
          "output_type": "stream",
          "text": [
            "1\n",
            "2\n",
            "3\n",
            "1\n",
            "2\n",
            "3\n"
          ],
          "name": "stdout"
        }
      ]
    },
    {
      "cell_type": "code",
      "metadata": {
        "id": "Rq0GX34e8oe8"
      },
      "source": [
        "def comp(lst):\n",
        "\n",
        "  print lst[0] # O(1)\n",
        "\n",
        "  #### 0(n/2) ... 0( 1/2 * n )\n",
        "  midpoint = len(lst)/2\n",
        "\n",
        "  for val in lst[:midpoint]:\n",
        "    print val\n",
        "  ####\n",
        "\n",
        "  for x in range(10): # 0(10)\n",
        "    print 'hello world'"
      ],
      "execution_count": null,
      "outputs": []
    },
    {
      "cell_type": "code",
      "metadata": {
        "id": "bffTLQZQ9Rbd",
        "colab": {
          "base_uri": "https://localhost:8080/"
        },
        "outputId": "2d1e4c0c-96ed-4504-b66c-53efbece68da"
      },
      "source": [
        "lst = [1,2,3,4,5,6,7,8,9,10]\n",
        "\n",
        "comp(lst)"
      ],
      "execution_count": null,
      "outputs": [
        {
          "output_type": "stream",
          "text": [
            "1\n",
            "1\n",
            "2\n",
            "3\n",
            "4\n",
            "5\n",
            "hello world\n",
            "hello world\n",
            "hello world\n",
            "hello world\n",
            "hello world\n",
            "hello world\n",
            "hello world\n",
            "hello world\n",
            "hello world\n",
            "hello world\n"
          ],
          "name": "stdout"
        }
      ]
    },
    {
      "cell_type": "markdown",
      "metadata": {
        "id": "cNWEEuOs95nm"
      },
      "source": [
        "# O(1 + n/2 + 10)\n",
        "\n",
        "# O(n)"
      ]
    },
    {
      "cell_type": "code",
      "metadata": {
        "id": "mEgmJ6C59cRO"
      },
      "source": [
        "def matcher(lst,match):\n",
        "\n",
        "  for item in lst:\n",
        "    if item == match:\n",
        "      return True\n",
        "\n",
        "  return False"
      ],
      "execution_count": null,
      "outputs": []
    },
    {
      "cell_type": "code",
      "metadata": {
        "id": "PcdQ0Ezk-Z8k",
        "colab": {
          "base_uri": "https://localhost:8080/"
        },
        "outputId": "a378fe64-a925-4ac1-8a9f-ec0b84141ec9"
      },
      "source": [
        "lst"
      ],
      "execution_count": null,
      "outputs": [
        {
          "output_type": "execute_result",
          "data": {
            "text/plain": [
              "[1, 2, 3, 4, 5, 6, 7, 8, 9, 10]"
            ]
          },
          "metadata": {
            "tags": []
          },
          "execution_count": 31
        }
      ]
    },
    {
      "cell_type": "code",
      "metadata": {
        "id": "9cIwaSna-bML",
        "colab": {
          "base_uri": "https://localhost:8080/"
        },
        "outputId": "b0cf555d-11e4-4a7c-9eac-69f820b6cd55"
      },
      "source": [
        "matcher(lst,1) #O(1)"
      ],
      "execution_count": null,
      "outputs": [
        {
          "output_type": "execute_result",
          "data": {
            "text/plain": [
              "True"
            ]
          },
          "metadata": {
            "tags": []
          },
          "execution_count": 32
        }
      ]
    },
    {
      "cell_type": "code",
      "metadata": {
        "id": "t896J0Mu-dQ_",
        "colab": {
          "base_uri": "https://localhost:8080/"
        },
        "outputId": "9ad79236-c8cb-4435-a109-87cdd7776e68"
      },
      "source": [
        "matcher(lst,11) #O(n)"
      ],
      "execution_count": null,
      "outputs": [
        {
          "output_type": "execute_result",
          "data": {
            "text/plain": [
              "False"
            ]
          },
          "metadata": {
            "tags": []
          },
          "execution_count": 33
        }
      ]
    },
    {
      "cell_type": "code",
      "metadata": {
        "id": "Veux3M8b-fdX"
      },
      "source": [
        "def create_list(n):\n",
        "\n",
        "  new_list = []\n",
        "\n",
        "  for num in range(n):\n",
        "    new_list.append('new')\n",
        "\n",
        "  return new_list"
      ],
      "execution_count": null,
      "outputs": []
    },
    {
      "cell_type": "code",
      "metadata": {
        "id": "JyiKb3js-_92",
        "colab": {
          "base_uri": "https://localhost:8080/"
        },
        "outputId": "5db0e6b9-1846-4283-8752-4ad3a3183b05"
      },
      "source": [
        "create_list(5)"
      ],
      "execution_count": null,
      "outputs": [
        {
          "output_type": "execute_result",
          "data": {
            "text/plain": [
              "['new', 'new', 'new', 'new', 'new']"
            ]
          },
          "metadata": {
            "tags": []
          },
          "execution_count": 35
        }
      ]
    },
    {
      "cell_type": "code",
      "metadata": {
        "id": "CRtSCFSS_B7Y"
      },
      "source": [
        "def printer(n):\n",
        "\n",
        "  for x in range(10): # Time Complexity O(n)\n",
        "    print 'Hello World!' # Space Complexity O(1)"
      ],
      "execution_count": null,
      "outputs": []
    },
    {
      "cell_type": "code",
      "metadata": {
        "id": "bvuPpkq9_MNP",
        "colab": {
          "base_uri": "https://localhost:8080/"
        },
        "outputId": "f6756198-f30d-4715-f399-904144d1d677"
      },
      "source": [
        "printer(10)"
      ],
      "execution_count": null,
      "outputs": [
        {
          "output_type": "stream",
          "text": [
            "Hello World!\n",
            "Hello World!\n",
            "Hello World!\n",
            "Hello World!\n",
            "Hello World!\n",
            "Hello World!\n",
            "Hello World!\n",
            "Hello World!\n",
            "Hello World!\n",
            "Hello World!\n"
          ],
          "name": "stdout"
        }
      ]
    },
    {
      "cell_type": "code",
      "metadata": {
        "id": "9_cpiYUy_VLD"
      },
      "source": [],
      "execution_count": null,
      "outputs": []
    }
  ]
}