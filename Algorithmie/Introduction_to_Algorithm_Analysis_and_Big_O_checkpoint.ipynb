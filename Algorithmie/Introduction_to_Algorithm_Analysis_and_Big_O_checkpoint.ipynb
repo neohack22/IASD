{
  "nbformat": 4,
  "nbformat_minor": 0,
  "metadata": {
    "kernelspec": {
      "display_name": "Python 2",
      "language": "python",
      "name": "python2"
    },
    "language_info": {
      "codemirror_mode": {
        "name": "ipython",
        "version": 2
      },
      "file_extension": ".py",
      "mimetype": "text/x-python",
      "name": "python",
      "nbconvert_exporter": "python",
      "pygments_lexer": "ipython2",
      "version": "2.7.10"
    },
    "colab": {
      "name": "Copie IASD de Introduction to Algorithm Analysis and Big O -checkpoint.ipynb",
      "provenance": [],
      "include_colab_link": true
    }
  },
  "cells": [
    {
      "cell_type": "markdown",
      "metadata": {
        "id": "view-in-github",
        "colab_type": "text"
      },
      "source": [
        "<a href=\"https://colab.research.google.com/github/neohack22/IASD/blob/Algorithmique/Algorithmie/Introduction_to_Algorithm_Analysis_and_Big_O_checkpoint.ipynb\" target=\"_parent\"><img src=\"https://colab.research.google.com/assets/colab-badge.svg\" alt=\"Open In Colab\"/></a>"
      ]
    },
    {
      "cell_type": "markdown",
      "metadata": {
        "collapsed": true,
        "id": "Re7bh0SsRW5B"
      },
      "source": [
        "# Introduction to Algorithm Analysis and Big O\n",
        "\n",
        "In this lecture we will discuss how to analyze Algorithms and why it is important to do so!\n",
        "\n",
        "## Why analyze algorithms?\n",
        "\n",
        "Before we begin, let's clarify what an algorthim is. In this course, an **algorithm** is simply a procedure or formula for solving a problem. Some problems are famous enough that the algorithms have names, as well as some procdures being common enough that the algorithm associated with it also has a name. So now we have a good question we need to answer:\n",
        "\n",
        "** *How do analyze algorithms and how can we compare algorithms against each other?* **\n",
        "\n",
        "Imagine if you and a friend both came up with functions to sum the numbers from 0 to N. How would you compare the functions and algorithms within the functions? Let's say you both cam up with these two seperate functions:"
      ]
    },
    {
      "cell_type": "code",
      "metadata": {
        "collapsed": true,
        "id": "NyT4-lzdRW5L"
      },
      "source": [
        "# First function (Note the use of xrange since this is in Python 2)\n",
        "def sum1(n):\n",
        "    '''\n",
        "    Take an input of n and return the sum of the numbers from 0 to n\n",
        "    '''\n",
        "    final_sum = 0\n",
        "    for x in xrange(n+1): \n",
        "        final_sum += x\n",
        "    \n",
        "    return final_sum"
      ],
      "execution_count": null,
      "outputs": []
    },
    {
      "cell_type": "code",
      "metadata": {
        "id": "bWQ2MALPRupR"
      },
      "source": [
        "# First function (Note the use of xrange since this is in Python 2)\n",
        "def sum1(n):\n",
        "  '''\n",
        "  Take an input of n and return the sum of the numbers from 0 to n\n",
        "  '''\n",
        "  final_sum = 0\n",
        "  for x in xrange(n+1):\n",
        "    final_sum += x\n",
        "\n",
        "  return final_sum"
      ],
      "execution_count": null,
      "outputs": []
    },
    {
      "cell_type": "code",
      "metadata": {
        "id": "fYcFR9cTRW5N",
        "outputId": "e7e15602-10b5-4cfb-c20f-535fd5b3ac63"
      },
      "source": [
        "sum1(10)"
      ],
      "execution_count": null,
      "outputs": [
        {
          "output_type": "execute_result",
          "data": {
            "text/plain": [
              "55"
            ]
          },
          "metadata": {
            "tags": []
          },
          "execution_count": 5
        }
      ]
    },
    {
      "cell_type": "code",
      "metadata": {
        "id": "qYuFzVlnSS1o",
        "colab": {
          "base_uri": "https://localhost:8080/"
        },
        "outputId": "63123c47-4b48-4279-f190-164570f0242c"
      },
      "source": [
        "sum1(10)"
      ],
      "execution_count": null,
      "outputs": [
        {
          "output_type": "execute_result",
          "data": {
            "text/plain": [
              "55"
            ]
          },
          "metadata": {
            "tags": []
          },
          "execution_count": 2
        }
      ]
    },
    {
      "cell_type": "code",
      "metadata": {
        "collapsed": true,
        "id": "EFXWTLmWRW5O"
      },
      "source": [
        "def sum2(n):\n",
        "    \"\"\"\n",
        "    Take an input of n and return the sum of the numbers from 0 to n\n",
        "    \"\"\"\n",
        "    return (n*(n+1))/2"
      ],
      "execution_count": null,
      "outputs": []
    },
    {
      "cell_type": "code",
      "metadata": {
        "id": "u6tGDASJSfMJ"
      },
      "source": [
        "def sum2(n):\n",
        "  \"\"\"\n",
        "  Take an input of n and return the sum of the numbers from 0 to n\n",
        "  \"\"\"\n",
        "  return (n*(n+1))/2"
      ],
      "execution_count": null,
      "outputs": []
    },
    {
      "cell_type": "code",
      "metadata": {
        "id": "IPNg2P4lRW5P",
        "outputId": "3db416f7-7728-4d63-db56-8c16eb3f59f4"
      },
      "source": [
        "sum2(10)"
      ],
      "execution_count": null,
      "outputs": [
        {
          "output_type": "execute_result",
          "data": {
            "text/plain": [
              "55"
            ]
          },
          "metadata": {
            "tags": []
          },
          "execution_count": 9
        }
      ]
    },
    {
      "cell_type": "code",
      "metadata": {
        "id": "7zXtJ1QUS1KM",
        "colab": {
          "base_uri": "https://localhost:8080/"
        },
        "outputId": "6c258a83-8742-4a95-b5f9-5d4a9be0207f"
      },
      "source": [
        "sum2(10)"
      ],
      "execution_count": null,
      "outputs": [
        {
          "output_type": "execute_result",
          "data": {
            "text/plain": [
              "55"
            ]
          },
          "metadata": {
            "tags": []
          },
          "execution_count": 4
        }
      ]
    },
    {
      "cell_type": "markdown",
      "metadata": {
        "id": "RIsfMNO6RW5P"
      },
      "source": [
        "You'll notice both functions have the same result, but completely different algorithms. You'll note that the first function iteratively adds the numbers, while the second function makes use of:\n",
        "$$ \\sum_{i=0}^{n} {i} = \\frac{n(n+1)}{2} $$\n",
        "\n",
        "So how can we objectively compare the algorithms? We could compare the amount of space they take in memory or we could also compare how much time it takes each function to run. We can use the built in **%timeit** magic function in jupyter to compare the time of the functions. The [**%timeit**](https://ipython.org/ipython-doc/3/interactive/magics.html#magic-timeit) magic in Jupyter Notebooks will repeat the loop iteration a certain number of times and take the best result. Check out the link for the documentation. \n",
        "\n",
        "Let's go ahead and compare the time it took to run the functions:"
      ]
    },
    {
      "cell_type": "code",
      "metadata": {
        "id": "ig0y0hbvRW5Q",
        "outputId": "916f9199-729a-4c72-a87c-bf37ab81fa6b"
      },
      "source": [
        "%timeit sum1(100)"
      ],
      "execution_count": null,
      "outputs": [
        {
          "output_type": "stream",
          "text": [
            "The slowest run took 5.15 times longer than the fastest. This could mean that an intermediate result is being cached \n",
            "100000 loops, best of 3: 4.86 µs per loop\n"
          ],
          "name": "stdout"
        }
      ]
    },
    {
      "cell_type": "code",
      "metadata": {
        "id": "syiAzOeFTAQn",
        "colab": {
          "base_uri": "https://localhost:8080/"
        },
        "outputId": "14cd0f9f-09a8-46a0-d92a-c67943455e01"
      },
      "source": [
        "%timeit sum1(100)"
      ],
      "execution_count": null,
      "outputs": [
        {
          "output_type": "stream",
          "text": [
            "The slowest run took 5.68 times longer than the fastest. This could mean that an intermediate result is being cached.\n",
            "100000 loops, best of 3: 3.3 µs per loop\n"
          ],
          "name": "stdout"
        }
      ]
    },
    {
      "cell_type": "code",
      "metadata": {
        "id": "WUHxiv3xRW5R",
        "outputId": "e90f0df6-5049-4c0b-d82e-8928c01fab36"
      },
      "source": [
        "%timeit sum2(100)"
      ],
      "execution_count": null,
      "outputs": [
        {
          "output_type": "stream",
          "text": [
            "The slowest run took 16.54 times longer than the fastest. This could mean that an intermediate result is being cached \n",
            "10000000 loops, best of 3: 173 ns per loop\n"
          ],
          "name": "stdout"
        }
      ]
    },
    {
      "cell_type": "code",
      "metadata": {
        "id": "6hzvhhRTTmLA",
        "colab": {
          "base_uri": "https://localhost:8080/"
        },
        "outputId": "ab62825c-aa55-42a0-81e2-d8edf30d01ed"
      },
      "source": [
        "%timeit sum2(100)"
      ],
      "execution_count": null,
      "outputs": [
        {
          "output_type": "stream",
          "text": [
            "The slowest run took 29.73 times longer than the fastest. This could mean that an intermediate result is being cached.\n",
            "10000000 loops, best of 3: 128 ns per loop\n"
          ],
          "name": "stdout"
        }
      ]
    },
    {
      "cell_type": "markdown",
      "metadata": {
        "id": "ZcP-QQLzRW5R"
      },
      "source": [
        "We can see that the second function is much more efficient! Running at a much faster rate than the first. However, we can not use \"time to run\" as an objective measurement, because that will depend on the speed of the computer itself and hardware capabilities. So we will need to use another method, **Big-O**!"
      ]
    },
    {
      "cell_type": "markdown",
      "metadata": {
        "collapsed": true,
        "id": "fykB1s09RW5S"
      },
      "source": [
        "In the next lecture we will discuss Big-O notation and why its so important!"
      ]
    }
  ]
}