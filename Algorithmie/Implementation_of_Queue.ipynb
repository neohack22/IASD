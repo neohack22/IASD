{
  "nbformat": 4,
  "nbformat_minor": 0,
  "metadata": {
    "kernelspec": {
      "display_name": "Python 2",
      "language": "python",
      "name": "python2"
    },
    "language_info": {
      "codemirror_mode": {
        "name": "ipython",
        "version": 2
      },
      "file_extension": ".py",
      "mimetype": "text/x-python",
      "name": "python",
      "nbconvert_exporter": "python",
      "pygments_lexer": "ipython2",
      "version": "2.7.10"
    },
    "colab": {
      "name": "Copie IASD de Implementation of Queue.ipynb",
      "provenance": [],
      "include_colab_link": true
    }
  },
  "cells": [
    {
      "cell_type": "markdown",
      "metadata": {
        "id": "view-in-github",
        "colab_type": "text"
      },
      "source": [
        "<a href=\"https://colab.research.google.com/github/neohack22/IASD/blob/Algorithmique/Algorithmie/Implementation_of_Queue.ipynb\" target=\"_parent\"><img src=\"https://colab.research.google.com/assets/colab-badge.svg\" alt=\"Open In Colab\"/></a>"
      ]
    },
    {
      "cell_type": "markdown",
      "metadata": {
        "id": "2Qspyxutq_ER"
      },
      "source": [
        "# Implementation of Queue\n",
        "\n",
        "In this lecture we will build on our previous understanding of Queues by implementing our own class of Queue!"
      ]
    },
    {
      "cell_type": "markdown",
      "metadata": {
        "collapsed": true,
        "id": "PbaR-ZmOq_EZ"
      },
      "source": [
        "____\n",
        "## Queue Methods and Attributes\n",
        "\n",
        "\n",
        "Before we begin implementing our own queue, let's review the attribute and methods it will have:\n",
        "\n",
        "* Queue() creates a new queue that is empty. It needs no parameters and returns an empty queue.\n",
        "* enqueue(item) adds a new item to the rear of the queue. It needs the item and returns nothing.\n",
        "* dequeue() removes the front item from the queue. It needs no parameters and returns the item. The queue is modified.\n",
        "* isEmpty() tests to see whether the queue is empty. It needs no parameters and returns a boolean value.\n",
        "* size() returns the number of items in the queue. It needs no parameters and returns an integer."
      ]
    },
    {
      "cell_type": "markdown",
      "metadata": {
        "id": "lzES4zi4q_Ea"
      },
      "source": [
        "____\n",
        "## Queue Implementation"
      ]
    },
    {
      "cell_type": "code",
      "metadata": {
        "collapsed": true,
        "id": "s0UI4xGbq_Eb"
      },
      "source": [
        "class Queue:\n",
        "    def __init__(self):\n",
        "        self.items = []\n",
        "\n",
        "    def isEmpty(self):\n",
        "        return self.items == []\n",
        "\n",
        "    def enqueue(self, item):\n",
        "        self.items.insert(0,item)\n",
        "\n",
        "    def dequeue(self):\n",
        "        return self.items.pop()\n",
        "\n",
        "    def size(self):\n",
        "        return len(self.items)"
      ],
      "execution_count": null,
      "outputs": []
    },
    {
      "cell_type": "code",
      "metadata": {
        "id": "O5AbAqmKrFw9"
      },
      "source": [
        "class Queue:\n",
        "  def __init__(self):\n",
        "    self.items = []\n",
        "\n",
        "  def isEmpty(self):\n",
        "    return self.items == []\n",
        "\n",
        "  def enqueue(self, item):\n",
        "    self.items.insert(0,item)\n",
        "\n",
        "  def dequeue(self):\n",
        "    return self.items.pop()\n",
        "\n",
        "  def size(self):\n",
        "    return len(self.items)\n"
      ],
      "execution_count": null,
      "outputs": []
    },
    {
      "cell_type": "code",
      "metadata": {
        "collapsed": true,
        "id": "dnuLcu6Mq_Eb"
      },
      "source": [
        "q = Queue()"
      ],
      "execution_count": null,
      "outputs": []
    },
    {
      "cell_type": "code",
      "metadata": {
        "id": "XnAj7W29r1Nj"
      },
      "source": [
        "q = Queue()"
      ],
      "execution_count": null,
      "outputs": []
    },
    {
      "cell_type": "code",
      "metadata": {
        "id": "Vq92QRWlq_Ec",
        "outputId": "5af41da8-96ef-45be-a1eb-d419aeddb928"
      },
      "source": [
        "q.size()"
      ],
      "execution_count": null,
      "outputs": [
        {
          "output_type": "execute_result",
          "data": {
            "text/plain": [
              "0"
            ]
          },
          "metadata": {
            "tags": []
          },
          "execution_count": 3
        }
      ]
    },
    {
      "cell_type": "code",
      "metadata": {
        "id": "d5k89Pj9r4gl",
        "colab": {
          "base_uri": "https://localhost:8080/"
        },
        "outputId": "7822bb94-2c43-40ad-80b5-b3068e147907"
      },
      "source": [
        "q.size()"
      ],
      "execution_count": null,
      "outputs": [
        {
          "output_type": "execute_result",
          "data": {
            "text/plain": [
              "0"
            ]
          },
          "metadata": {
            "tags": []
          },
          "execution_count": 3
        }
      ]
    },
    {
      "cell_type": "code",
      "metadata": {
        "id": "JBa42ZW5q_Ed",
        "outputId": "a64a8781-2055-4cf5-cead-c9b093cb157f"
      },
      "source": [
        "q.isEmpty()"
      ],
      "execution_count": null,
      "outputs": [
        {
          "output_type": "execute_result",
          "data": {
            "text/plain": [
              "True"
            ]
          },
          "metadata": {
            "tags": []
          },
          "execution_count": 4
        }
      ]
    },
    {
      "cell_type": "code",
      "metadata": {
        "id": "tqEYBTbVr78G",
        "colab": {
          "base_uri": "https://localhost:8080/"
        },
        "outputId": "1d193510-a79f-40cb-97fd-ad7d5ed5e6a9"
      },
      "source": [
        "q.isEmpty()"
      ],
      "execution_count": null,
      "outputs": [
        {
          "output_type": "execute_result",
          "data": {
            "text/plain": [
              "True"
            ]
          },
          "metadata": {
            "tags": []
          },
          "execution_count": 4
        }
      ]
    },
    {
      "cell_type": "code",
      "metadata": {
        "collapsed": true,
        "id": "QRn8ZXsWq_Ee"
      },
      "source": [
        "q.enqueue(1)"
      ],
      "execution_count": null,
      "outputs": []
    },
    {
      "cell_type": "code",
      "metadata": {
        "id": "dY-mXP72r_E1"
      },
      "source": [
        "q.enqueue(1)"
      ],
      "execution_count": null,
      "outputs": []
    },
    {
      "cell_type": "code",
      "metadata": {
        "id": "4eUghWLuq_Ee",
        "outputId": "d5d04632-0d63-44c6-8c46-ee031c296368"
      },
      "source": [
        "q.dequeue()"
      ],
      "execution_count": null,
      "outputs": [
        {
          "output_type": "execute_result",
          "data": {
            "text/plain": [
              "1"
            ]
          },
          "metadata": {
            "tags": []
          },
          "execution_count": 6
        }
      ]
    },
    {
      "cell_type": "code",
      "metadata": {
        "id": "mTE3YsH9sCr2",
        "colab": {
          "base_uri": "https://localhost:8080/"
        },
        "outputId": "9cb669ba-48d9-4744-bb35-789f515c8cad"
      },
      "source": [
        "q.dequeue()"
      ],
      "execution_count": null,
      "outputs": [
        {
          "output_type": "execute_result",
          "data": {
            "text/plain": [
              "1"
            ]
          },
          "metadata": {
            "tags": []
          },
          "execution_count": 6
        }
      ]
    },
    {
      "cell_type": "markdown",
      "metadata": {
        "id": "2yMfY3euq_Ef"
      },
      "source": [
        "## Good Job!"
      ]
    },
    {
      "cell_type": "code",
      "metadata": {
        "id": "r62m62VCsGOf"
      },
      "source": [
        "class Queue(object):\n",
        "\n",
        "  def __init__(self):\n",
        "    self.items = []\n",
        "\n",
        "  def isEmpty(self):\n",
        "    return self.items == []\n",
        "\n",
        "  def enqueue(self, item):\n",
        "    self.items.insert(0,item)\n",
        "\n",
        "  def dequeue(self):\n",
        "    return self.items.pop()\n",
        "\n",
        "  def size(self):\n",
        "    return len(self.items)"
      ],
      "execution_count": null,
      "outputs": []
    },
    {
      "cell_type": "code",
      "metadata": {
        "id": "36SvpbtXspwP"
      },
      "source": [
        "q = Queue()"
      ],
      "execution_count": null,
      "outputs": []
    },
    {
      "cell_type": "code",
      "metadata": {
        "id": "7xqKfhmgsr2Z",
        "colab": {
          "base_uri": "https://localhost:8080/"
        },
        "outputId": "6cac6de7-b00e-4e4e-b522-e22ee056d97b"
      },
      "source": [
        "q.size()"
      ],
      "execution_count": null,
      "outputs": [
        {
          "output_type": "execute_result",
          "data": {
            "text/plain": [
              "0"
            ]
          },
          "metadata": {
            "tags": []
          },
          "execution_count": 9
        }
      ]
    },
    {
      "cell_type": "code",
      "metadata": {
        "id": "U5M61bTvstLg",
        "colab": {
          "base_uri": "https://localhost:8080/"
        },
        "outputId": "9b1b7c51-d8c6-4383-b6a8-e15e49efa420"
      },
      "source": [
        "q.isEmpty()"
      ],
      "execution_count": null,
      "outputs": [
        {
          "output_type": "execute_result",
          "data": {
            "text/plain": [
              "True"
            ]
          },
          "metadata": {
            "tags": []
          },
          "execution_count": 10
        }
      ]
    },
    {
      "cell_type": "code",
      "metadata": {
        "id": "2bTt9TMfsvEK"
      },
      "source": [
        "q.enqueue(1)"
      ],
      "execution_count": null,
      "outputs": []
    },
    {
      "cell_type": "code",
      "metadata": {
        "id": "cGFvb1Q8sxrh"
      },
      "source": [
        "q.enqueue(2)"
      ],
      "execution_count": null,
      "outputs": []
    },
    {
      "cell_type": "code",
      "metadata": {
        "id": "UX6u1WBeszUe",
        "colab": {
          "base_uri": "https://localhost:8080/"
        },
        "outputId": "f83b20f4-8a3b-4d52-8218-35e9509c1605"
      },
      "source": [
        "q.dequeue()"
      ],
      "execution_count": null,
      "outputs": [
        {
          "output_type": "execute_result",
          "data": {
            "text/plain": [
              "1"
            ]
          },
          "metadata": {
            "tags": []
          },
          "execution_count": 13
        }
      ]
    },
    {
      "cell_type": "code",
      "metadata": {
        "id": "TA5IMoVNs4at"
      },
      "source": [],
      "execution_count": null,
      "outputs": []
    }
  ]
}