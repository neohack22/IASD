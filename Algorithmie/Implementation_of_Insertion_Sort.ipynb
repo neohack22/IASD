{
  "nbformat": 4,
  "nbformat_minor": 0,
  "metadata": {
    "kernelspec": {
      "display_name": "Python 3",
      "language": "python",
      "name": "python3"
    },
    "language_info": {
      "codemirror_mode": {
        "name": "ipython",
        "version": 3
      },
      "file_extension": ".py",
      "mimetype": "text/x-python",
      "name": "python",
      "nbconvert_exporter": "python",
      "pygments_lexer": "ipython3",
      "version": "3.6.2"
    },
    "colab": {
      "name": "Copie IASD de Implementation of Insertion Sort.ipynb",
      "provenance": [],
      "include_colab_link": true
    }
  },
  "cells": [
    {
      "cell_type": "markdown",
      "metadata": {
        "id": "view-in-github",
        "colab_type": "text"
      },
      "source": [
        "<a href=\"https://colab.research.google.com/github/neohack22/IASD/blob/Algorithmique/Algorithmie/Implementation_of_Insertion_Sort.ipynb\" target=\"_parent\"><img src=\"https://colab.research.google.com/assets/colab-badge.svg\" alt=\"Open In Colab\"/></a>"
      ]
    },
    {
      "cell_type": "markdown",
      "metadata": {
        "id": "An0L9Xg_CLvv"
      },
      "source": [
        "# Implementation of Insertion Sort\n",
        "\n",
        "Insertion Sort builds the final sorted array (or list) one item at a time. It is much less efficient on large lists than more advanced algorithms such as quicksort, heapsort, or merge sort. "
      ]
    },
    {
      "cell_type": "markdown",
      "metadata": {
        "id": "RyNdEr7FCLv1"
      },
      "source": [
        "# Resources for Review\n",
        "\n",
        "Check out the resources below for a review of Insertion sort!\n",
        "\n",
        "* [Wikipedia](https://en.wikipedia.org/wiki/Insertion_sort)\n",
        "* [Visual Algo](http://visualgo.net/sorting.html)\n",
        "* [Animation](http://cs.armstrong.edu/liang/animation/web/InsertionSort.html)\n",
        "* [Sorting Algorithms Animcation with Pseudocode](http://www.sorting-algorithms.com/insertion-sort)"
      ]
    },
    {
      "cell_type": "code",
      "metadata": {
        "collapsed": true,
        "id": "vZx17EhoCLv1"
      },
      "source": [
        "def insertion_sort(arr):\n",
        "    \n",
        "    # For every index in array\n",
        "    for i in range(1,len(arr)):\n",
        "        \n",
        "        # Set current values and position\n",
        "        currentvalue = arr[i]\n",
        "        position = i\n",
        "        \n",
        "        # Sorted Sublist\n",
        "        while position>0 and arr[position-1]>currentvalue:\n",
        "            \n",
        "            arr[position]=arr[position-1]\n",
        "            position = position-1\n",
        "\n",
        "        arr[position]=currentvalue"
      ],
      "execution_count": null,
      "outputs": []
    },
    {
      "cell_type": "code",
      "metadata": {
        "id": "MN2hhOkxULHa"
      },
      "source": [
        "def insertion_sort(arr):\n",
        "\n",
        "  # For every index in aray\n",
        "  for i in range(1,len(arr)):\n",
        "\n",
        "    # Set current values and position\n",
        "    currentvalue = arr[i]\n",
        "    position = i\n",
        "\n",
        "    # Sorted Sublist\n",
        "    while position>0 and arr[position-1]>currentvalue:\n",
        "\n",
        "      arr[position]=arr[position-1]\n",
        "      position = position-1\n",
        "\n",
        "    arr[position]=currentvalue"
      ],
      "execution_count": null,
      "outputs": []
    },
    {
      "cell_type": "code",
      "metadata": {
        "id": "gs59xDCPCLv2",
        "outputId": "f8705ad6-6ec2-471e-c68e-8c8922210272"
      },
      "source": [
        "arr =[3,5,4,6,8,1,2,12,41,25]\n",
        "insertion_sort(arr)\n",
        "arr"
      ],
      "execution_count": null,
      "outputs": [
        {
          "output_type": "execute_result",
          "data": {
            "text/plain": [
              "[1, 2, 3, 4, 5, 6, 8, 12, 25, 41]"
            ]
          },
          "metadata": {
            "tags": []
          },
          "execution_count": 3
        }
      ]
    },
    {
      "cell_type": "code",
      "metadata": {
        "id": "Es2XhAReVDIy",
        "colab": {
          "base_uri": "https://localhost:8080/"
        },
        "outputId": "4144057d-c33c-4f53-c0c1-ae83160a372c"
      },
      "source": [
        "arr =[3,5,6,8,1,2,12,41,25]\n",
        "insertion_sort(arr)\n",
        "arr"
      ],
      "execution_count": null,
      "outputs": [
        {
          "output_type": "execute_result",
          "data": {
            "text/plain": [
              "[1, 2, 3, 5, 6, 8, 12, 25, 41]"
            ]
          },
          "metadata": {
            "tags": []
          },
          "execution_count": 2
        }
      ]
    },
    {
      "cell_type": "markdown",
      "metadata": {
        "id": "jlL2JymWCLv3"
      },
      "source": [
        "# Good Job!"
      ]
    },
    {
      "cell_type": "code",
      "metadata": {
        "id": "kqeFDk26V3K3"
      },
      "source": [
        "def insertion_sort(arr):\n",
        "\n",
        "  for i in range(1,len(arr)): # ?\n",
        "\n",
        "    currentvalue = arr[i]\n",
        "    position = i\n",
        "\n",
        "    while position > 0 and arr[position-1]>currentvalue:\n",
        "\n",
        "      arr[position] = arr[position-1]\n",
        "      position = position-1\n",
        "\n",
        "    arr[position] = currentvalue"
      ],
      "execution_count": null,
      "outputs": []
    },
    {
      "cell_type": "code",
      "metadata": {
        "id": "Lzr72SZTWZzh",
        "colab": {
          "base_uri": "https://localhost:8080/"
        },
        "outputId": "8fea2d78-c7b2-4312-cc8b-00d3a3e0abd6"
      },
      "source": [
        "arr = [4,6,2,7,4,1,9,11,23,13,2]\n",
        "insertion_sort(arr)\n",
        "arr"
      ],
      "execution_count": null,
      "outputs": [
        {
          "output_type": "execute_result",
          "data": {
            "text/plain": [
              "[1, 2, 2, 4, 4, 6, 7, 9, 11, 13, 23]"
            ]
          },
          "metadata": {
            "tags": []
          },
          "execution_count": 4
        }
      ]
    },
    {
      "cell_type": "code",
      "metadata": {
        "id": "LLvJRw9VWnGA",
        "colab": {
          "base_uri": "https://localhost:8080/"
        },
        "outputId": "a47af699-2cd0-4e9e-9002-2a61a36a5ada"
      },
      "source": [
        "arr"
      ],
      "execution_count": null,
      "outputs": [
        {
          "output_type": "execute_result",
          "data": {
            "text/plain": [
              "[1, 2, 2, 4, 4, 6, 7, 9, 11, 13, 23]"
            ]
          },
          "metadata": {
            "tags": []
          },
          "execution_count": 7
        }
      ]
    },
    {
      "cell_type": "code",
      "metadata": {
        "id": "x2gwHTjwW-vH",
        "colab": {
          "base_uri": "https://localhost:8080/"
        },
        "outputId": "214aa6ba-378a-4781-8887-d5780a5bb9f2"
      },
      "source": [
        "arr_demo = [1,2,3]\n",
        "myrange = range(1,len(arr_demo))\n",
        "print(myrange)"
      ],
      "execution_count": null,
      "outputs": [
        {
          "output_type": "stream",
          "text": [
            "range(1, 3)\n"
          ],
          "name": "stdout"
        }
      ]
    },
    {
      "cell_type": "code",
      "metadata": {
        "id": "vaFQSjW4XIJ_"
      },
      "source": [],
      "execution_count": null,
      "outputs": []
    }
  ]
}