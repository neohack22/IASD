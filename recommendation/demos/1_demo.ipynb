{
  "nbformat": 4,
  "nbformat_minor": 0,
  "metadata": {
    "kernelspec": {
      "display_name": "Python 3",
      "language": "python",
      "name": "python3"
    },
    "language_info": {
      "codemirror_mode": {
        "name": "ipython",
        "version": 3
      },
      "file_extension": ".py",
      "mimetype": "text/x-python",
      "name": "python",
      "nbconvert_exporter": "python",
      "pygments_lexer": "ipython3",
      "version": "3.7.4"
    },
    "colab": {
      "provenance": [],
      "include_colab_link": true
    }
  },
  "cells": [
    {
      "cell_type": "markdown",
      "metadata": {
        "id": "view-in-github",
        "colab_type": "text"
      },
      "source": [
        "<a href=\"https://colab.research.google.com/github/neohack22/IASD/blob/recommandation/recommendation/demos/1_demo.ipynb\" target=\"_parent\"><img src=\"https://colab.research.google.com/assets/colab-badge.svg\" alt=\"Open In Colab\"/></a>"
      ]
    },
    {
      "cell_type": "markdown",
      "metadata": {
        "id": "yZE4FUsZTDbA"
      },
      "source": [
        "# Recommender Systems Project"
      ]
    },
    {
      "cell_type": "markdown",
      "metadata": {
        "id": "p0Pn6ov0TDbB"
      },
      "source": [
        "## 0. Quick Start\n",
        "To run this notebook you just need to have [pipenv](https://github.com/pypa/pipenv) installed.\n",
        "Then run these 3 commands:\n",
        "- First install the dependencies with: `pipenv install`\n",
        "- Launch the virtual env: `pipenv shell`\n",
        "- Finally start jupyter and open the notebook: `jupyter-lab`"
      ]
    },
    {
      "cell_type": "code",
      "metadata": {
        "id": "4MODeQU0Tf6f",
        "colab": {
          "base_uri": "https://localhost:8080/"
        },
        "outputId": "dfce1626-298f-440d-be56-3e57f4554074",
        "cellView": "form",
        "collapsed": true
      },
      "source": [
        "#@title\n",
        "%%bash\n",
        "pip install surprise"
      ],
      "execution_count": null,
      "outputs": [
        {
          "output_type": "stream",
          "text": [
            "Collecting surprise\n",
            "  Downloading https://files.pythonhosted.org/packages/61/de/e5cba8682201fcf9c3719a6fdda95693468ed061945493dea2dd37c5618b/surprise-0.1-py2.py3-none-any.whl\n",
            "Collecting scikit-surprise\n",
            "  Downloading https://files.pythonhosted.org/packages/97/37/5d334adaf5ddd65da99fc65f6507e0e4599d092ba048f4302fe8775619e8/scikit-surprise-1.1.1.tar.gz (11.8MB)\n",
            "Requirement already satisfied: joblib>=0.11 in /usr/local/lib/python3.7/dist-packages (from scikit-surprise->surprise) (1.0.1)\n",
            "Requirement already satisfied: numpy>=1.11.2 in /usr/local/lib/python3.7/dist-packages (from scikit-surprise->surprise) (1.19.5)\n",
            "Requirement already satisfied: scipy>=1.0.0 in /usr/local/lib/python3.7/dist-packages (from scikit-surprise->surprise) (1.4.1)\n",
            "Requirement already satisfied: six>=1.10.0 in /usr/local/lib/python3.7/dist-packages (from scikit-surprise->surprise) (1.15.0)\n",
            "Building wheels for collected packages: scikit-surprise\n",
            "  Building wheel for scikit-surprise (setup.py): started\n",
            "  Building wheel for scikit-surprise (setup.py): finished with status 'done'\n",
            "  Created wheel for scikit-surprise: filename=scikit_surprise-1.1.1-cp37-cp37m-linux_x86_64.whl size=1617646 sha256=3ad4d785ae4ef38801e71c3ebde5b9ae956542673331da78aec15b975883c972\n",
            "  Stored in directory: /root/.cache/pip/wheels/78/9c/3d/41b419c9d2aff5b6e2b4c0fc8d25c538202834058f9ed110d0\n",
            "Successfully built scikit-surprise\n",
            "Installing collected packages: scikit-surprise, surprise\n",
            "Successfully installed scikit-surprise-1.1.1 surprise-0.1\n"
          ],
          "name": "stdout"
        }
      ]
    },
    {
      "cell_type": "code",
      "source": [
        "%%bash\n",
        "pip install surprise"
      ],
      "metadata": {
        "id": "MTy7PoMMiGct",
        "outputId": "450d10ef-df84-4a42-fab1-3fdf9a50e569",
        "colab": {
          "base_uri": "https://localhost:8080/"
        }
      },
      "execution_count": 2,
      "outputs": [
        {
          "output_type": "stream",
          "name": "stdout",
          "text": [
            "Looking in indexes: https://pypi.org/simple, https://us-python.pkg.dev/colab-wheels/public/simple/\n",
            "Requirement already satisfied: surprise in /usr/local/lib/python3.7/dist-packages (0.1)\n",
            "Requirement already satisfied: scikit-surprise in /usr/local/lib/python3.7/dist-packages (from surprise) (1.1.1)\n",
            "Requirement already satisfied: six>=1.10.0 in /usr/local/lib/python3.7/dist-packages (from scikit-surprise->surprise) (1.15.0)\n",
            "Requirement already satisfied: scipy>=1.0.0 in /usr/local/lib/python3.7/dist-packages (from scikit-surprise->surprise) (1.7.3)\n",
            "Requirement already satisfied: joblib>=0.11 in /usr/local/lib/python3.7/dist-packages (from scikit-surprise->surprise) (1.2.0)\n",
            "Requirement already satisfied: numpy>=1.11.2 in /usr/local/lib/python3.7/dist-packages (from scikit-surprise->surprise) (1.21.6)\n"
          ]
        }
      ]
    },
    {
      "cell_type": "code",
      "metadata": {
        "id": "NooTDdZOTDbC",
        "cellView": "form"
      },
      "source": [
        "#@title\n",
        "from tqdm import tqdm\n",
        "import numpy as np\n",
        "import pandas as pd\n",
        "\n",
        "from sklearn.feature_extraction.text import TfidfVectorizer\n",
        "from sklearn.metrics.pairwise import linear_kernel \n",
        "\n",
        "from surprise import NormalPredictor, SVD, KNNBasic, NMF\n",
        "from surprise import Dataset, Reader\n",
        "from surprise import accuracy\n",
        "from surprise.model_selection import cross_validate, KFold"
      ],
      "execution_count": null,
      "outputs": []
    },
    {
      "cell_type": "code",
      "source": [
        "from tqdm import tqdm\n",
        "import numpy as np\n",
        "import pandas as pd\n",
        "\n",
        "from sklearn.feature_extraction.text import TfidfTransformer\n",
        "from sklearn.metrics.pairwise import linear_kernel\n",
        "\n",
        "from surprise import NormalPredictor, SVD, KNNBasic, NMF\n",
        "from surprise import Dataset, Reader\n",
        "from surprise import accuracy\n",
        "from surprise.model_selection import cross_validate, KFold"
      ],
      "metadata": {
        "id": "11CF_AqkiL2-"
      },
      "execution_count": 3,
      "outputs": []
    },
    {
      "cell_type": "markdown",
      "metadata": {
        "id": "gjDT2A50TDbG"
      },
      "source": [
        "## 1. Introduction\n",
        "Recommender systems goal is to push *relevant* items to a given user. Understanding and modelling the user's preferences is required to reach this goal. In this project you will learn how to model the user's preferences with the [Surprise library](http://surpriselib.com/) to build different recommender systems. The first one will be a pure *collaborative filtering* approach, and the second one will rely on item attributes in a *content-based* way."
      ]
    },
    {
      "cell_type": "markdown",
      "metadata": {
        "id": "36Z7GcLfTDbG"
      },
      "source": [
        "## 2. Loading Data\n",
        "We use here the [MovieLens dataset](https://grouplens.org/datasets/movielens/). It contains 25 millions of users ratings. the data are in the `./data/raw` folder. We could load directly the .csv file with [a built-in Surprise function](https://github.com/NicolasHug/Surprise/blob/ef3ed6e98304dbf8d033c8eee741294b05b5ba07/surprise/dataset.py#L105), but it's more convenient to load it through a Pandas dataframe for later flexibility purpose."
      ]
    },
    {
      "cell_type": "code",
      "metadata": {
        "id": "zmPTqb_FTDbH",
        "cellView": "form"
      },
      "source": [
        "#@title\n",
        "RATINGS_DATA_FILE = './data/raw/ratings.csv'\n",
        "MOVIES_DATA_FILE = './data/raw/movies.csv'"
      ],
      "execution_count": null,
      "outputs": []
    },
    {
      "cell_type": "code",
      "source": [
        "#@title\n",
        "from google.colab import drive\n",
        "drive.mount('/content/drive')"
      ],
      "metadata": {
        "cellView": "form",
        "id": "GMGZ5oH8BOCQ"
      },
      "execution_count": null,
      "outputs": []
    },
    {
      "cell_type": "code",
      "source": [
        "from google.colab import drive\n",
        "drive.mount('/content/MyDrive') #drive')"
      ],
      "metadata": {
        "id": "37bOL8DDBP6l",
        "outputId": "3e5edce5-e644-41fd-8f8a-29eb385ad5ff",
        "colab": {
          "base_uri": "https://localhost:8080/"
        }
      },
      "execution_count": 4,
      "outputs": [
        {
          "output_type": "stream",
          "name": "stdout",
          "text": [
            "Drive already mounted at /content/MyDrive; to attempt to forcibly remount, call drive.mount(\"/content/MyDrive\", force_remount=True).\n"
          ]
        }
      ]
    },
    {
      "cell_type": "code",
      "source": [
        "#RATINGS_DATA_FILE = './content/drive/MyDrive/Iasd/RS/Cours/TPs/data/ratings.csv'\n",
        "#RATINGS_DATA_FILE = \"./content/MyDrive/Iasd/RS/Cours/TPs/data/ratings.csv\" #/Iasd/RS/Cours/TPs/data/movies.csv\" #MyDrive/Iasd/RS/Cours/TPs/data/movies.csv\" #'./MyDrive/Iasd/RS/Cours/TPs/data/movies.csv'\n",
        "#MOVIES_DATA_FILE = \"./content/MyDrive/Iasd/RS/Cours/TPs/data/movies.csv\" #./Iasd/RS/Cours/TPs/data/movies.csv\" #MyDrive/Iasd/RS/Cours/TPs/data/movies.csv\" #'./MyDrive/Iasd/RS/Cours/TPs/data/movies.csv' #content/drive/MyDrive/Iasd/RS/Cours/TPs/data/movies.csv'\n",
        "RATINGS_DATA_FILE = \"/content/MyDrive/MyDrive/Iasd/RS/Cours/TPs/data/ratings.csv\"\n",
        "MOVIES_DATA_FILE = \"/content/MyDrive/MyDrive/Iasd/RS/Cours/TPs/data/movies.csv\""
      ],
      "metadata": {
        "id": "-0nb3KRKEE3R"
      },
      "execution_count": 5,
      "outputs": []
    },
    {
      "cell_type": "code",
      "metadata": {
        "id": "hnB855KRTDbJ",
        "cellView": "form"
      },
      "source": [
        "#@title\n",
        "# load the raw csv into a data_frame\n",
        "df_ratings = pd.read_csv(RATINGS_DATA_FILE)\n",
        "\n",
        "# drop the timestamp column since we dont need it now\n",
        "df_ratings = df_ratings.drop(columns=\"timestamp\")\n",
        "\n",
        "# movies dataframe\n",
        "df_movies = pd.read_csv(MOVIES_DATA_FILE)"
      ],
      "execution_count": null,
      "outputs": []
    },
    {
      "cell_type": "code",
      "source": [
        "# load the raw csv into a data_frame\n",
        "df_ratings = pd.read_csv(RATINGS_DATA_FILE)\n",
        "\n",
        "# drop the timestamp column since we don't need it now\n",
        "df_ratings = df_ratings.drop(columns='timestamp')\n",
        "\n",
        "# movies dataframe\n",
        "df_movies = pd.read_csv(MOVIES_DATA_FILE)"
      ],
      "metadata": {
        "id": "UwJHw22dEnGV"
      },
      "execution_count": 6,
      "outputs": []
    },
    {
      "cell_type": "code",
      "metadata": {
        "id": "jVJsMrEuTDbM",
        "outputId": "918bab06-8b34-4378-ed40-b85a516a92de",
        "collapsed": true,
        "cellView": "form"
      },
      "source": [
        "#@title\n",
        "# check we have 25M users' ratings\n",
        "df_ratings.userId.count()"
      ],
      "execution_count": null,
      "outputs": [
        {
          "output_type": "execute_result",
          "data": {
            "text/plain": [
              "25000095"
            ]
          },
          "metadata": {
            "tags": []
          },
          "execution_count": 4
        }
      ]
    },
    {
      "cell_type": "code",
      "source": [
        "# check we have 25M users' ratings\n",
        "df_ratings.userId.count()"
      ],
      "metadata": {
        "id": "VMtlzEJHMUjI",
        "outputId": "33e0545b-b9cc-43e0-a9e2-a0327ecaa898",
        "colab": {
          "base_uri": "https://localhost:8080/"
        }
      },
      "execution_count": 7,
      "outputs": [
        {
          "output_type": "execute_result",
          "data": {
            "text/plain": [
              "25000095"
            ]
          },
          "metadata": {},
          "execution_count": 7
        }
      ]
    },
    {
      "cell_type": "code",
      "metadata": {
        "id": "fwjp-MU-TDbQ",
        "cellView": "form"
      },
      "source": [
        "#@title\n",
        "def get_subset(df, number):\n",
        "    \"\"\"\n",
        "        just get a subset of a large dataset for debug purpose\n",
        "    \"\"\"\n",
        "    rids = np.arange(df.shape[0])\n",
        "    np.random.shuffle(rids)\n",
        "    df_subset = df.iloc[rids[:number], :].copy()\n",
        "    return df_subset\n",
        "df_ratings_100k = get_subset(df_ratings, 100000)\n",
        "df_movies_100 = get_subset(df_movies, 100)"
      ],
      "execution_count": null,
      "outputs": []
    },
    {
      "cell_type": "code",
      "source": [
        "def get_subset(df, number): #ef, number):\n",
        "  \"\"\"\n",
        "    just get a subset of a large dataset for debug purpose\n",
        "  \"\"\"\n",
        "  rids = np.arange(df.shape[0])\n",
        "  np.random.shuffle(rids)\n",
        "  df_subset = df.iloc[rids[:number], :].copy() #;number], :].copy()\n",
        "  return df_subset\n",
        "df_ratings_100k = get_subset(df_ratings, 100000)\n",
        "df_movies_100 = get_subset(df_movies, 100)  "
      ],
      "metadata": {
        "id": "2NQiY_siMhZp"
      },
      "execution_count": 8,
      "outputs": []
    },
    {
      "cell_type": "code",
      "metadata": {
        "id": "EAWC1dx9TDbS",
        "cellView": "form"
      },
      "source": [
        "#@title\n",
        "# Surprise reader\n",
        "reader = Reader(rating_scale=(0, 5))\n",
        "\n",
        "# Finally load all ratings\n",
        "ratings = Dataset.load_from_df(df_ratings_100k, reader)"
      ],
      "execution_count": null,
      "outputs": []
    },
    {
      "cell_type": "code",
      "source": [
        "# Surprise reader\n",
        "reader = Reader(rating_scale=(0, 5))\n",
        "\n",
        "# Finally load all ratings\n",
        "ratings = Dataset.load_from_df(df_ratings_100k, reader)"
      ],
      "metadata": {
        "id": "fJ6QHsZlNYZ8"
      },
      "execution_count": 9,
      "outputs": []
    },
    {
      "cell_type": "markdown",
      "metadata": {
        "id": "FraqKt7hTDbU"
      },
      "source": [
        "## 3. Collaborative Filtering\n",
        "We can test first any of the [Surprise algorithms](https://surprise.readthedocs.io/en/stable/prediction_algorithms_package.html)."
      ]
    },
    {
      "cell_type": "code",
      "metadata": {
        "id": "2QQASBfcTDbV",
        "cellView": "form"
      },
      "source": [
        "#@title\n",
        "# define a cross-validation iterator\n",
        "kf = KFold(n_splits=3)\n",
        "\n",
        "algos = [SVD(), NMF(), KNNBasic()]    "
      ],
      "execution_count": null,
      "outputs": []
    },
    {
      "cell_type": "code",
      "source": [
        "# define a cross-validation iterator\n",
        "kf = KFold(n_splits=3)\n",
        "\n",
        "algos = [SVD(), NMF(), KNNBasic()]"
      ],
      "metadata": {
        "id": "VcOVdt-vPEQW"
      },
      "execution_count": 10,
      "outputs": []
    },
    {
      "cell_type": "code",
      "metadata": {
        "id": "vkUTsvHgTDbX",
        "outputId": "1b26bff2-a89a-423e-f5a8-6170e2c557eb",
        "collapsed": true,
        "cellView": "form"
      },
      "source": [
        "#@title\n",
        "def get_rmse(algo, testset):\n",
        "        predictions = algo.test(testset)\n",
        "        accuracy.rmse(predictions, verbose=True)\n",
        "        \n",
        "for trainset, testset in tqdm(kf.split(ratings)): \n",
        "    \"\"\"\n",
        "        get an evaluation with cross-validation for different algorithms\n",
        "    \"\"\"  \n",
        "    for algo in algos:\n",
        "        algo.fit(trainset)\n",
        "        get_rmse(algo, testset)"
      ],
      "execution_count": null,
      "outputs": [
        {
          "output_type": "stream",
          "text": [
            "0it [00:00, ?it/s]"
          ],
          "name": "stderr"
        },
        {
          "output_type": "stream",
          "text": [
            "RMSE: 1.0408\n",
            "RMSE: 1.0949\n",
            "Computing the msd similarity matrix...\n"
          ],
          "name": "stdout"
        },
        {
          "output_type": "stream",
          "text": [
            "1it [00:01,  1.57s/it]"
          ],
          "name": "stderr"
        },
        {
          "output_type": "stream",
          "text": [
            "Done computing similarity matrix.\n",
            "RMSE: 1.0608\n",
            "RMSE: 1.0489\n",
            "RMSE: 1.1087\n",
            "Computing the msd similarity matrix...\n"
          ],
          "name": "stdout"
        },
        {
          "output_type": "stream",
          "text": [
            "2it [00:03,  1.56s/it]"
          ],
          "name": "stderr"
        },
        {
          "output_type": "stream",
          "text": [
            "Done computing similarity matrix.\n",
            "RMSE: 1.0745\n",
            "RMSE: 1.0303\n",
            "RMSE: 1.0855\n",
            "Computing the msd similarity matrix...\n"
          ],
          "name": "stdout"
        },
        {
          "output_type": "stream",
          "text": [
            "3it [00:04,  1.54s/it]"
          ],
          "name": "stderr"
        },
        {
          "output_type": "stream",
          "text": [
            "Done computing similarity matrix.\n",
            "RMSE: 1.0559\n"
          ],
          "name": "stdout"
        },
        {
          "output_type": "stream",
          "text": [
            "\n"
          ],
          "name": "stderr"
        }
      ]
    },
    {
      "cell_type": "code",
      "source": [
        "def get_rmse(algo, testset):\n",
        "  predictions = algo.test(testset)\n",
        "  accuracy.rmse(predictions, verbose=True)\n",
        "\n",
        "for trainset, testset in tqdm(kf.split(ratings)):\n",
        "  \"\"\"\n",
        "    get an evaluation with cross-validation for different algorithms\n",
        "  \"\"\"\n",
        "  for algo in algos:\n",
        "    algo.fit(trainset)\n",
        "    get_rmse(algo, testset)"
      ],
      "metadata": {
        "id": "ZHNrqLZsPf6o",
        "outputId": "4d94e119-4da9-4c97-cd62-162fa55d0b6f",
        "colab": {
          "base_uri": "https://localhost:8080/"
        }
      },
      "execution_count": null,
      "outputs": [
        {
          "output_type": "stream",
          "name": "stderr",
          "text": [
            "\r0it [00:00, ?it/s]"
          ]
        },
        {
          "output_type": "stream",
          "name": "stdout",
          "text": [
            "RMSE: 0.9830\n",
            "RMSE: 1.1601\n",
            "Computing the msd similarity matrix...\n"
          ]
        }
      ]
    },
    {
      "cell_type": "markdown",
      "metadata": {
        "id": "-Dom6XI9TDbZ"
      },
      "source": [
        "## 4. Content-based Filtering\n",
        "Here we will rely directly on items attributes. First we have to describe a user profile with an attributes vector. Then we will use these vectors to generate recommendations."
      ]
    },
    {
      "cell_type": "code",
      "metadata": {
        "id": "qinBp3urTDba",
        "outputId": "9ca29271-3a19-4884-ec98-45c9ef7e1a15",
        "collapsed": true
      },
      "source": [
        "#@title\n",
        "# computing similarities requires too much ressources on the whole dataset, so we take the subset with 100 items\n",
        "df_movies_100 = df_movies_100.reset_index(drop=True)\n",
        "df_movies_100.head(5)"
      ],
      "execution_count": null,
      "outputs": [
        {
          "output_type": "execute_result",
          "data": {
            "text/html": [
              "<div>\n",
              "<style scoped>\n",
              "    .dataframe tbody tr th:only-of-type {\n",
              "        vertical-align: middle;\n",
              "    }\n",
              "\n",
              "    .dataframe tbody tr th {\n",
              "        vertical-align: top;\n",
              "    }\n",
              "\n",
              "    .dataframe thead th {\n",
              "        text-align: right;\n",
              "    }\n",
              "</style>\n",
              "<table border=\"1\" class=\"dataframe\">\n",
              "  <thead>\n",
              "    <tr style=\"text-align: right;\">\n",
              "      <th></th>\n",
              "      <th>movieId</th>\n",
              "      <th>title</th>\n",
              "      <th>genres</th>\n",
              "    </tr>\n",
              "  </thead>\n",
              "  <tbody>\n",
              "    <tr>\n",
              "      <th>0</th>\n",
              "      <td>162126</td>\n",
              "      <td>Autobiography of a Princess (1975)</td>\n",
              "      <td>(no genres listed)</td>\n",
              "    </tr>\n",
              "    <tr>\n",
              "      <th>1</th>\n",
              "      <td>194666</td>\n",
              "      <td>Roads in February (2018)</td>\n",
              "      <td>Drama</td>\n",
              "    </tr>\n",
              "    <tr>\n",
              "      <th>2</th>\n",
              "      <td>157679</td>\n",
              "      <td>Alley Cats Strike (2000)</td>\n",
              "      <td>Children|Comedy|Drama</td>\n",
              "    </tr>\n",
              "    <tr>\n",
              "      <th>3</th>\n",
              "      <td>169196</td>\n",
              "      <td>Once Upon a Time Veronica (2012)</td>\n",
              "      <td>Drama</td>\n",
              "    </tr>\n",
              "    <tr>\n",
              "      <th>4</th>\n",
              "      <td>191777</td>\n",
              "      <td>Revenge: A Love Story (2010)</td>\n",
              "      <td>Thriller</td>\n",
              "    </tr>\n",
              "  </tbody>\n",
              "</table>\n",
              "</div>"
            ],
            "text/plain": [
              "   movieId                               title                 genres\n",
              "0   162126  Autobiography of a Princess (1975)     (no genres listed)\n",
              "1   194666            Roads in February (2018)                  Drama\n",
              "2   157679            Alley Cats Strike (2000)  Children|Comedy|Drama\n",
              "3   169196    Once Upon a Time Veronica (2012)                  Drama\n",
              "4   191777        Revenge: A Love Story (2010)               Thriller"
            ]
          },
          "metadata": {
            "tags": []
          },
          "execution_count": 141
        }
      ]
    },
    {
      "cell_type": "code",
      "source": [
        "# computing similarities too much ressources on the whole dataset, so we take the subset with 100 items\n",
        "df_movies_100 = df_movies_100.reset_index(drop=True)\n",
        "df_movies_100.head(5)"
      ],
      "metadata": {
        "id": "JOwjsEd_WURf",
        "outputId": "3428a512-6a39-4002-bec0-60ce18738156",
        "colab": {
          "base_uri": "https://localhost:8080/",
          "height": 206
        }
      },
      "execution_count": 11,
      "outputs": [
        {
          "output_type": "execute_result",
          "data": {
            "text/plain": [
              "   movieId                                              title  \\\n",
              "0   147867                                   That Lady (1955)   \n",
              "1    78145                                     Reunion (1989)   \n",
              "2   170885                               Burning Sands (2017)   \n",
              "3     5194  Who's Singin' Over There? (a.k.a. Who Sings Ov...   \n",
              "4   101640                                         Don (2006)   \n",
              "\n",
              "                 genres  \n",
              "0    (no genres listed)  \n",
              "1                 Drama  \n",
              "2                 Drama  \n",
              "3                Comedy  \n",
              "4  Action|Crime|Musical  "
            ],
            "text/html": [
              "\n",
              "  <div id=\"df-f59e1a23-b42a-405a-a305-f0372581d8d0\">\n",
              "    <div class=\"colab-df-container\">\n",
              "      <div>\n",
              "<style scoped>\n",
              "    .dataframe tbody tr th:only-of-type {\n",
              "        vertical-align: middle;\n",
              "    }\n",
              "\n",
              "    .dataframe tbody tr th {\n",
              "        vertical-align: top;\n",
              "    }\n",
              "\n",
              "    .dataframe thead th {\n",
              "        text-align: right;\n",
              "    }\n",
              "</style>\n",
              "<table border=\"1\" class=\"dataframe\">\n",
              "  <thead>\n",
              "    <tr style=\"text-align: right;\">\n",
              "      <th></th>\n",
              "      <th>movieId</th>\n",
              "      <th>title</th>\n",
              "      <th>genres</th>\n",
              "    </tr>\n",
              "  </thead>\n",
              "  <tbody>\n",
              "    <tr>\n",
              "      <th>0</th>\n",
              "      <td>147867</td>\n",
              "      <td>That Lady (1955)</td>\n",
              "      <td>(no genres listed)</td>\n",
              "    </tr>\n",
              "    <tr>\n",
              "      <th>1</th>\n",
              "      <td>78145</td>\n",
              "      <td>Reunion (1989)</td>\n",
              "      <td>Drama</td>\n",
              "    </tr>\n",
              "    <tr>\n",
              "      <th>2</th>\n",
              "      <td>170885</td>\n",
              "      <td>Burning Sands (2017)</td>\n",
              "      <td>Drama</td>\n",
              "    </tr>\n",
              "    <tr>\n",
              "      <th>3</th>\n",
              "      <td>5194</td>\n",
              "      <td>Who's Singin' Over There? (a.k.a. Who Sings Ov...</td>\n",
              "      <td>Comedy</td>\n",
              "    </tr>\n",
              "    <tr>\n",
              "      <th>4</th>\n",
              "      <td>101640</td>\n",
              "      <td>Don (2006)</td>\n",
              "      <td>Action|Crime|Musical</td>\n",
              "    </tr>\n",
              "  </tbody>\n",
              "</table>\n",
              "</div>\n",
              "      <button class=\"colab-df-convert\" onclick=\"convertToInteractive('df-f59e1a23-b42a-405a-a305-f0372581d8d0')\"\n",
              "              title=\"Convert this dataframe to an interactive table.\"\n",
              "              style=\"display:none;\">\n",
              "        \n",
              "  <svg xmlns=\"http://www.w3.org/2000/svg\" height=\"24px\"viewBox=\"0 0 24 24\"\n",
              "       width=\"24px\">\n",
              "    <path d=\"M0 0h24v24H0V0z\" fill=\"none\"/>\n",
              "    <path d=\"M18.56 5.44l.94 2.06.94-2.06 2.06-.94-2.06-.94-.94-2.06-.94 2.06-2.06.94zm-11 1L8.5 8.5l.94-2.06 2.06-.94-2.06-.94L8.5 2.5l-.94 2.06-2.06.94zm10 10l.94 2.06.94-2.06 2.06-.94-2.06-.94-.94-2.06-.94 2.06-2.06.94z\"/><path d=\"M17.41 7.96l-1.37-1.37c-.4-.4-.92-.59-1.43-.59-.52 0-1.04.2-1.43.59L10.3 9.45l-7.72 7.72c-.78.78-.78 2.05 0 2.83L4 21.41c.39.39.9.59 1.41.59.51 0 1.02-.2 1.41-.59l7.78-7.78 2.81-2.81c.8-.78.8-2.07 0-2.86zM5.41 20L4 18.59l7.72-7.72 1.47 1.35L5.41 20z\"/>\n",
              "  </svg>\n",
              "      </button>\n",
              "      \n",
              "  <style>\n",
              "    .colab-df-container {\n",
              "      display:flex;\n",
              "      flex-wrap:wrap;\n",
              "      gap: 12px;\n",
              "    }\n",
              "\n",
              "    .colab-df-convert {\n",
              "      background-color: #E8F0FE;\n",
              "      border: none;\n",
              "      border-radius: 50%;\n",
              "      cursor: pointer;\n",
              "      display: none;\n",
              "      fill: #1967D2;\n",
              "      height: 32px;\n",
              "      padding: 0 0 0 0;\n",
              "      width: 32px;\n",
              "    }\n",
              "\n",
              "    .colab-df-convert:hover {\n",
              "      background-color: #E2EBFA;\n",
              "      box-shadow: 0px 1px 2px rgba(60, 64, 67, 0.3), 0px 1px 3px 1px rgba(60, 64, 67, 0.15);\n",
              "      fill: #174EA6;\n",
              "    }\n",
              "\n",
              "    [theme=dark] .colab-df-convert {\n",
              "      background-color: #3B4455;\n",
              "      fill: #D2E3FC;\n",
              "    }\n",
              "\n",
              "    [theme=dark] .colab-df-convert:hover {\n",
              "      background-color: #434B5C;\n",
              "      box-shadow: 0px 1px 3px 1px rgba(0, 0, 0, 0.15);\n",
              "      filter: drop-shadow(0px 1px 2px rgba(0, 0, 0, 0.3));\n",
              "      fill: #FFFFFF;\n",
              "    }\n",
              "  </style>\n",
              "\n",
              "      <script>\n",
              "        const buttonEl =\n",
              "          document.querySelector('#df-f59e1a23-b42a-405a-a305-f0372581d8d0 button.colab-df-convert');\n",
              "        buttonEl.style.display =\n",
              "          google.colab.kernel.accessAllowed ? 'block' : 'none';\n",
              "\n",
              "        async function convertToInteractive(key) {\n",
              "          const element = document.querySelector('#df-f59e1a23-b42a-405a-a305-f0372581d8d0');\n",
              "          const dataTable =\n",
              "            await google.colab.kernel.invokeFunction('convertToInteractive',\n",
              "                                                     [key], {});\n",
              "          if (!dataTable) return;\n",
              "\n",
              "          const docLinkHtml = 'Like what you see? Visit the ' +\n",
              "            '<a target=\"_blank\" href=https://colab.research.google.com/notebooks/data_table.ipynb>data table notebook</a>'\n",
              "            + ' to learn more about interactive tables.';\n",
              "          element.innerHTML = '';\n",
              "          dataTable['output_type'] = 'display_data';\n",
              "          await google.colab.output.renderOutput(dataTable, element);\n",
              "          const docLink = document.createElement('div');\n",
              "          docLink.innerHTML = docLinkHtml;\n",
              "          element.appendChild(docLink);\n",
              "        }\n",
              "      </script>\n",
              "    </div>\n",
              "  </div>\n",
              "  "
            ]
          },
          "metadata": {},
          "execution_count": 11
        }
      ]
    },
    {
      "cell_type": "code",
      "metadata": {
        "id": "erSkCS9dTDbc"
      },
      "source": [
        "# we compute a TFIDF on the titles of the movies\n",
        "tf = TfidfVectorizer(analyzer='word', ngram_range=(1, 3), min_df=0, stop_words='english')\n",
        "tfidf_matrix = tf.fit_transform(df_movies_100['title'])"
      ],
      "execution_count": null,
      "outputs": []
    },
    {
      "cell_type": "code",
      "source": [
        "from sklearn.feature_extraction.text import TfidfVectorizer"
      ],
      "metadata": {
        "id": "sy3X6p8GZjox"
      },
      "execution_count": 13,
      "outputs": []
    },
    {
      "cell_type": "code",
      "source": [
        "# we compute a TFIDF on the titles of the movies\n",
        "tf = TfidfVectorizer(\n",
        "    analyzer='word', ngram_range=(1, 3), min_df=0, stop_words='english'\n",
        ")\n",
        "tfidf_matrix = tf.fit_transform(df_movies_100['title'])"
      ],
      "metadata": {
        "id": "znGdKPEwXHci"
      },
      "execution_count": 14,
      "outputs": []
    },
    {
      "cell_type": "code",
      "metadata": {
        "id": "89bo1QRJTDbe",
        "cellView": "form"
      },
      "source": [
        "#@title\n",
        "# we get cosine similarities: this takes a lot of time on the real dataset\n",
        "cosine_similarities = linear_kernel(tfidf_matrix, tfidf_matrix)"
      ],
      "execution_count": null,
      "outputs": []
    },
    {
      "cell_type": "code",
      "source": [
        "# we get cosine similarities: this takes a lot of time on the real dataset\n",
        "cosine_similarities = linear_kernel(tfidf_matrix, tfidf_matrix)"
      ],
      "metadata": {
        "id": "GYpljiyAZwoR"
      },
      "execution_count": 15,
      "outputs": []
    },
    {
      "cell_type": "code",
      "metadata": {
        "id": "JBfSq_MXTDbh",
        "cellView": "form"
      },
      "source": [
        "#@title\n",
        "# we generate in 'results' the most similar movies for each movie: we put a pair (score, movie_id)\n",
        "results = {}\n",
        "for idx, row in df_movies_100.iterrows():\n",
        "    similar_indices = cosine_similarities[idx].argsort()[:-100:-1] \n",
        "    similar_items = [(cosine_similarities[idx][i], df_movies_100['movieId'].loc[[i]].tolist()[0]) for i in similar_indices] \n",
        "    results[idx] = similar_items[1:]"
      ],
      "execution_count": null,
      "outputs": []
    },
    {
      "cell_type": "code",
      "source": [
        "# we generate in 'results' the most similar movies for each movie: we put a pair (score, movie_id)\n",
        "results = {}\n",
        "for idx, row in df_movies_100.iterrows():\n",
        "  similar_indices = cosine_similarities[idx].argsort()[:-100:-1]\n",
        "  similar_items = [ #indices = [\n",
        "      (\n",
        "          cosine_similarities[idx][i], df_movies_100[\n",
        "              'movieId'\n",
        "          ].loc[[i]].tolist()[0] # for i in similar_indices\n",
        "      ) for i in similar_indices\n",
        "  ]\n",
        "  results[idx] = similar_items[1:]"
      ],
      "metadata": {
        "id": "QN3Z29TRaKfE"
      },
      "execution_count": 18,
      "outputs": []
    },
    {
      "cell_type": "code",
      "metadata": {
        "id": "dL-uCJIXTDbj",
        "outputId": "27b63444-08b2-4631-cbbd-e691144c5ac1",
        "cellView": "form",
        "collapsed": true
      },
      "source": [
        "#@title\n",
        "len(results)"
      ],
      "execution_count": null,
      "outputs": [
        {
          "output_type": "execute_result",
          "data": {
            "text/plain": [
              "100"
            ]
          },
          "metadata": {
            "tags": []
          },
          "execution_count": 130
        }
      ]
    },
    {
      "cell_type": "code",
      "source": [
        "len(results)"
      ],
      "metadata": {
        "id": "conqBt8zbZu7",
        "outputId": "174278bd-b8e0-4ded-e414-0ada103b93e7",
        "colab": {
          "base_uri": "https://localhost:8080/"
        }
      },
      "execution_count": 19,
      "outputs": [
        {
          "output_type": "execute_result",
          "data": {
            "text/plain": [
              "100"
            ]
          },
          "metadata": {},
          "execution_count": 19
        }
      ]
    },
    {
      "cell_type": "code",
      "metadata": {
        "id": "dx1NXKXDTDbl",
        "cellView": "form"
      },
      "source": [
        "#@title\n",
        "# transform a 'movieId' into its corresponding movie title\n",
        "def item(id):  \n",
        "    return df_movies_100.loc[df_movies_100['movieId'] == id]['title'].tolist()[0].split(' - ')[0] "
      ],
      "execution_count": null,
      "outputs": []
    },
    {
      "cell_type": "code",
      "source": [
        "# transform a 'movieId' into its corresponding movie title\n",
        "def item(id):\n",
        "  return df_movies_100.loc[\n",
        "      df_movies_100['movieId'] == id\n",
        "  ]['title'].tolist()[0].split(' - ')[0]"
      ],
      "metadata": {
        "id": "k19FcNMabd-y"
      },
      "execution_count": 20,
      "outputs": []
    },
    {
      "cell_type": "code",
      "metadata": {
        "id": "S9-fOls1TDbn",
        "cellView": "form"
      },
      "source": [
        "#@title\n",
        "# transform a 'movieId' into the index id\n",
        "def get_idx(id):\n",
        "    return df_movies_100[df_movies_100['movieId'] == id].index.tolist()[0]"
      ],
      "execution_count": null,
      "outputs": []
    },
    {
      "cell_type": "code",
      "source": [
        "# transform a 'movieId' into the index id\n",
        "def get_idx(id):\n",
        "  return df_movies_100[df_movies_100['movieId'] == id].index.tolist()[0] #]"
      ],
      "metadata": {
        "id": "97FbNYsAhI0Q"
      },
      "execution_count": 25,
      "outputs": []
    },
    {
      "cell_type": "code",
      "source": [
        "# tranform a 'movieId' into its corresponding movie title\n",
        "def item(id):\n",
        "  return df_movies_100.loc[\n",
        "      df_movies_100['movieId'] == id\n",
        "  ]['title'].tolist()[0].split(' - ')[0]"
      ],
      "metadata": {
        "id": "sA7fof5-ddff"
      },
      "execution_count": 21,
      "outputs": []
    },
    {
      "cell_type": "code",
      "metadata": {
        "id": "8_WRVRXUTDbp"
      },
      "source": [
        "#@title\n",
        "# Finally we put everything together here:\n",
        "def recommend(item_id, num):\n",
        "    print(\"Recommending \" + str(num) + \" products similar to \" + item(item_id) + \"...\")   \n",
        "    print(\"-------\")    \n",
        "    recs = results[get_idx(item_id)][:num]   \n",
        "    for rec in recs: \n",
        "        print(\"\\tRecommended: \" + item(rec[1]) + \" (score:\" +      str(rec[0]) + \")\")"
      ],
      "execution_count": null,
      "outputs": []
    },
    {
      "cell_type": "code",
      "source": [
        "# Finally we put everything together here:\n",
        "def recommend(item_id, num):\n",
        "  print(\n",
        "      \"Recommending \" + str(\n",
        "          num) + \" products similar to \" + item(item_id) + \"...\")\n",
        "  print(\"---------\")\n",
        "  recs = results[get_idx(item_id)][:num]\n",
        "  for rec in recs:\n",
        "    print(\n",
        "        \"\\tRecommend: \" + item(rec[1]) + \" (score:\" +   str(rec[0]) + \")\")"
      ],
      "metadata": {
        "id": "G1VoDE-3d86w"
      },
      "execution_count": 22,
      "outputs": []
    },
    {
      "cell_type": "markdown",
      "metadata": {
        "id": "ruDiCPsDTDbr"
      },
      "source": [
        "Suppose a user wants the 10 most 'similar' (from a CBF point of view) movies from the movie 'Alley Cats Strike':"
      ]
    },
    {
      "cell_type": "code",
      "metadata": {
        "id": "9oH_oVvmTDbr",
        "outputId": "bf915e8b-ae84-49bc-f80c-e09b64aa953d"
      },
      "source": [
        "recommend(item_id=157679, num=10)"
      ],
      "execution_count": null,
      "outputs": [
        {
          "output_type": "stream",
          "text": [
            "Recommending 10 products similar to Alley Cats Strike (2000)...\n",
            "-------\n",
            "\tRecommended: Ringu 0: Bâsudei (2000) (score:0.10424703060511913)\n",
            "\tRecommended: 6th Day, The (2000) (score:0.10424703060511913)\n",
            "\tRecommended: Room 205 of Fear (2011) (score:0.0)\n",
            "\tRecommended: Legend (2015) (score:0.0)\n",
            "\tRecommended: Hardcore (2001) (score:0.0)\n",
            "\tRecommended: The Huntress: Rune of the Dead (2019) (score:0.0)\n",
            "\tRecommended: House of Dracula (1945) (score:0.0)\n",
            "\tRecommended: Schramm (1993) (score:0.0)\n",
            "\tRecommended: The Coed and the Zombie Stoner (2014) (score:0.0)\n",
            "\tRecommended: Honor Among Lovers (1931) (score:0.0)\n"
          ],
          "name": "stdout"
        }
      ]
    },
    {
      "cell_type": "code",
      "source": [
        "recommend(item_id=1, num=10) #5, num=10) #7, num=10) #6, num=10) #7, num=10) #9, num=10)"
      ],
      "metadata": {
        "id": "d-bGyDq2e8xE",
        "outputId": "50a87e5c-5baf-4929-83af-8cd6fa19bdb2",
        "colab": {
          "base_uri": "https://localhost:8080/",
          "height": 276
        }
      },
      "execution_count": 31,
      "outputs": [
        {
          "output_type": "error",
          "ename": "IndexError",
          "evalue": "ignored",
          "traceback": [
            "\u001b[0;31m---------------------------------------------------------------------------\u001b[0m",
            "\u001b[0;31mIndexError\u001b[0m                                Traceback (most recent call last)",
            "\u001b[0;32m<ipython-input-31-4533366e2e70>\u001b[0m in \u001b[0;36m<module>\u001b[0;34m\u001b[0m\n\u001b[0;32m----> 1\u001b[0;31m \u001b[0mrecommend\u001b[0m\u001b[0;34m(\u001b[0m\u001b[0mitem_id\u001b[0m\u001b[0;34m=\u001b[0m\u001b[0;36m1\u001b[0m\u001b[0;34m,\u001b[0m \u001b[0mnum\u001b[0m\u001b[0;34m=\u001b[0m\u001b[0;36m10\u001b[0m\u001b[0;34m)\u001b[0m \u001b[0;31m#5, num=10) #7, num=10) #6, num=10) #7, num=10) #9, num=10)\u001b[0m\u001b[0;34m\u001b[0m\u001b[0;34m\u001b[0m\u001b[0m\n\u001b[0m",
            "\u001b[0;32m<ipython-input-22-873f358b6dc2>\u001b[0m in \u001b[0;36mrecommend\u001b[0;34m(item_id, num)\u001b[0m\n\u001b[1;32m      3\u001b[0m   print(\n\u001b[1;32m      4\u001b[0m       \"Recommending \" + str(\n\u001b[0;32m----> 5\u001b[0;31m           num) + \" products similar to \" + item(item_id) + \"...\")\n\u001b[0m\u001b[1;32m      6\u001b[0m   \u001b[0mprint\u001b[0m\u001b[0;34m(\u001b[0m\u001b[0;34m\"---------\"\u001b[0m\u001b[0;34m)\u001b[0m\u001b[0;34m\u001b[0m\u001b[0;34m\u001b[0m\u001b[0m\n\u001b[1;32m      7\u001b[0m   \u001b[0mrecs\u001b[0m \u001b[0;34m=\u001b[0m \u001b[0mresults\u001b[0m\u001b[0;34m[\u001b[0m\u001b[0mget_idx\u001b[0m\u001b[0;34m(\u001b[0m\u001b[0mitem_id\u001b[0m\u001b[0;34m)\u001b[0m\u001b[0;34m]\u001b[0m\u001b[0;34m[\u001b[0m\u001b[0;34m:\u001b[0m\u001b[0mnum\u001b[0m\u001b[0;34m]\u001b[0m\u001b[0;34m\u001b[0m\u001b[0;34m\u001b[0m\u001b[0m\n",
            "\u001b[0;32m<ipython-input-21-2345a1e8948d>\u001b[0m in \u001b[0;36mitem\u001b[0;34m(id)\u001b[0m\n\u001b[1;32m      3\u001b[0m   return df_movies_100.loc[\n\u001b[1;32m      4\u001b[0m       \u001b[0mdf_movies_100\u001b[0m\u001b[0;34m[\u001b[0m\u001b[0;34m'movieId'\u001b[0m\u001b[0;34m]\u001b[0m \u001b[0;34m==\u001b[0m \u001b[0mid\u001b[0m\u001b[0;34m\u001b[0m\u001b[0;34m\u001b[0m\u001b[0m\n\u001b[0;32m----> 5\u001b[0;31m   ]['title'].tolist()[0].split(' - ')[0]\n\u001b[0m",
            "\u001b[0;31mIndexError\u001b[0m: list index out of range"
          ]
        }
      ]
    },
    {
      "cell_type": "code",
      "source": [
        "item_id"
      ],
      "metadata": {
        "id": "lXmokd6XfBf9",
        "outputId": "2e0b7fcf-a73e-4d11-c55f-84272f2b0078",
        "colab": {
          "base_uri": "https://localhost:8080/",
          "height": 165
        }
      },
      "execution_count": 32,
      "outputs": [
        {
          "output_type": "error",
          "ename": "NameError",
          "evalue": "ignored",
          "traceback": [
            "\u001b[0;31m---------------------------------------------------------------------------\u001b[0m",
            "\u001b[0;31mNameError\u001b[0m                                 Traceback (most recent call last)",
            "\u001b[0;32m<ipython-input-32-3df1d8fafc73>\u001b[0m in \u001b[0;36m<module>\u001b[0;34m\u001b[0m\n\u001b[0;32m----> 1\u001b[0;31m \u001b[0mitem_id\u001b[0m\u001b[0;34m\u001b[0m\u001b[0;34m\u001b[0m\u001b[0m\n\u001b[0m",
            "\u001b[0;31mNameError\u001b[0m: name 'item_id' is not defined"
          ]
        }
      ]
    },
    {
      "cell_type": "code",
      "source": [
        "df_movies_100"
      ],
      "metadata": {
        "id": "kwkcYMR-i3Jk",
        "outputId": "0b06b890-7ce5-4e4f-c9bf-5407feaa38bd",
        "colab": {
          "base_uri": "https://localhost:8080/",
          "height": 424
        }
      },
      "execution_count": 33,
      "outputs": [
        {
          "output_type": "execute_result",
          "data": {
            "text/plain": [
              "    movieId                                              title  \\\n",
              "0    147867                                   That Lady (1955)   \n",
              "1     78145                                     Reunion (1989)   \n",
              "2    170885                               Burning Sands (2017)   \n",
              "3      5194  Who's Singin' Over There? (a.k.a. Who Sings Ov...   \n",
              "4    101640                                         Don (2006)   \n",
              "..      ...                                                ...   \n",
              "95   183397         Along with the Gods: The Two Worlds (2017)   \n",
              "96   170563                                     Caprice (2015)   \n",
              "97   150659                          Journey to Le Mans (2014)   \n",
              "98   135518                                   Self/less (2015)   \n",
              "99   102901                                 In the Park (1915)   \n",
              "\n",
              "                            genres  \n",
              "0               (no genres listed)  \n",
              "1                            Drama  \n",
              "2                            Drama  \n",
              "3                           Comedy  \n",
              "4             Action|Crime|Musical  \n",
              "..                             ...  \n",
              "95                   Drama|Fantasy  \n",
              "96                  Comedy|Romance  \n",
              "97                     Documentary  \n",
              "98  Action|Mystery|Sci-Fi|Thriller  \n",
              "99                          Comedy  \n",
              "\n",
              "[100 rows x 3 columns]"
            ],
            "text/html": [
              "\n",
              "  <div id=\"df-ab33f348-439d-48c8-93b8-92f3569fa05a\">\n",
              "    <div class=\"colab-df-container\">\n",
              "      <div>\n",
              "<style scoped>\n",
              "    .dataframe tbody tr th:only-of-type {\n",
              "        vertical-align: middle;\n",
              "    }\n",
              "\n",
              "    .dataframe tbody tr th {\n",
              "        vertical-align: top;\n",
              "    }\n",
              "\n",
              "    .dataframe thead th {\n",
              "        text-align: right;\n",
              "    }\n",
              "</style>\n",
              "<table border=\"1\" class=\"dataframe\">\n",
              "  <thead>\n",
              "    <tr style=\"text-align: right;\">\n",
              "      <th></th>\n",
              "      <th>movieId</th>\n",
              "      <th>title</th>\n",
              "      <th>genres</th>\n",
              "    </tr>\n",
              "  </thead>\n",
              "  <tbody>\n",
              "    <tr>\n",
              "      <th>0</th>\n",
              "      <td>147867</td>\n",
              "      <td>That Lady (1955)</td>\n",
              "      <td>(no genres listed)</td>\n",
              "    </tr>\n",
              "    <tr>\n",
              "      <th>1</th>\n",
              "      <td>78145</td>\n",
              "      <td>Reunion (1989)</td>\n",
              "      <td>Drama</td>\n",
              "    </tr>\n",
              "    <tr>\n",
              "      <th>2</th>\n",
              "      <td>170885</td>\n",
              "      <td>Burning Sands (2017)</td>\n",
              "      <td>Drama</td>\n",
              "    </tr>\n",
              "    <tr>\n",
              "      <th>3</th>\n",
              "      <td>5194</td>\n",
              "      <td>Who's Singin' Over There? (a.k.a. Who Sings Ov...</td>\n",
              "      <td>Comedy</td>\n",
              "    </tr>\n",
              "    <tr>\n",
              "      <th>4</th>\n",
              "      <td>101640</td>\n",
              "      <td>Don (2006)</td>\n",
              "      <td>Action|Crime|Musical</td>\n",
              "    </tr>\n",
              "    <tr>\n",
              "      <th>...</th>\n",
              "      <td>...</td>\n",
              "      <td>...</td>\n",
              "      <td>...</td>\n",
              "    </tr>\n",
              "    <tr>\n",
              "      <th>95</th>\n",
              "      <td>183397</td>\n",
              "      <td>Along with the Gods: The Two Worlds (2017)</td>\n",
              "      <td>Drama|Fantasy</td>\n",
              "    </tr>\n",
              "    <tr>\n",
              "      <th>96</th>\n",
              "      <td>170563</td>\n",
              "      <td>Caprice (2015)</td>\n",
              "      <td>Comedy|Romance</td>\n",
              "    </tr>\n",
              "    <tr>\n",
              "      <th>97</th>\n",
              "      <td>150659</td>\n",
              "      <td>Journey to Le Mans (2014)</td>\n",
              "      <td>Documentary</td>\n",
              "    </tr>\n",
              "    <tr>\n",
              "      <th>98</th>\n",
              "      <td>135518</td>\n",
              "      <td>Self/less (2015)</td>\n",
              "      <td>Action|Mystery|Sci-Fi|Thriller</td>\n",
              "    </tr>\n",
              "    <tr>\n",
              "      <th>99</th>\n",
              "      <td>102901</td>\n",
              "      <td>In the Park (1915)</td>\n",
              "      <td>Comedy</td>\n",
              "    </tr>\n",
              "  </tbody>\n",
              "</table>\n",
              "<p>100 rows × 3 columns</p>\n",
              "</div>\n",
              "      <button class=\"colab-df-convert\" onclick=\"convertToInteractive('df-ab33f348-439d-48c8-93b8-92f3569fa05a')\"\n",
              "              title=\"Convert this dataframe to an interactive table.\"\n",
              "              style=\"display:none;\">\n",
              "        \n",
              "  <svg xmlns=\"http://www.w3.org/2000/svg\" height=\"24px\"viewBox=\"0 0 24 24\"\n",
              "       width=\"24px\">\n",
              "    <path d=\"M0 0h24v24H0V0z\" fill=\"none\"/>\n",
              "    <path d=\"M18.56 5.44l.94 2.06.94-2.06 2.06-.94-2.06-.94-.94-2.06-.94 2.06-2.06.94zm-11 1L8.5 8.5l.94-2.06 2.06-.94-2.06-.94L8.5 2.5l-.94 2.06-2.06.94zm10 10l.94 2.06.94-2.06 2.06-.94-2.06-.94-.94-2.06-.94 2.06-2.06.94z\"/><path d=\"M17.41 7.96l-1.37-1.37c-.4-.4-.92-.59-1.43-.59-.52 0-1.04.2-1.43.59L10.3 9.45l-7.72 7.72c-.78.78-.78 2.05 0 2.83L4 21.41c.39.39.9.59 1.41.59.51 0 1.02-.2 1.41-.59l7.78-7.78 2.81-2.81c.8-.78.8-2.07 0-2.86zM5.41 20L4 18.59l7.72-7.72 1.47 1.35L5.41 20z\"/>\n",
              "  </svg>\n",
              "      </button>\n",
              "      \n",
              "  <style>\n",
              "    .colab-df-container {\n",
              "      display:flex;\n",
              "      flex-wrap:wrap;\n",
              "      gap: 12px;\n",
              "    }\n",
              "\n",
              "    .colab-df-convert {\n",
              "      background-color: #E8F0FE;\n",
              "      border: none;\n",
              "      border-radius: 50%;\n",
              "      cursor: pointer;\n",
              "      display: none;\n",
              "      fill: #1967D2;\n",
              "      height: 32px;\n",
              "      padding: 0 0 0 0;\n",
              "      width: 32px;\n",
              "    }\n",
              "\n",
              "    .colab-df-convert:hover {\n",
              "      background-color: #E2EBFA;\n",
              "      box-shadow: 0px 1px 2px rgba(60, 64, 67, 0.3), 0px 1px 3px 1px rgba(60, 64, 67, 0.15);\n",
              "      fill: #174EA6;\n",
              "    }\n",
              "\n",
              "    [theme=dark] .colab-df-convert {\n",
              "      background-color: #3B4455;\n",
              "      fill: #D2E3FC;\n",
              "    }\n",
              "\n",
              "    [theme=dark] .colab-df-convert:hover {\n",
              "      background-color: #434B5C;\n",
              "      box-shadow: 0px 1px 3px 1px rgba(0, 0, 0, 0.15);\n",
              "      filter: drop-shadow(0px 1px 2px rgba(0, 0, 0, 0.3));\n",
              "      fill: #FFFFFF;\n",
              "    }\n",
              "  </style>\n",
              "\n",
              "      <script>\n",
              "        const buttonEl =\n",
              "          document.querySelector('#df-ab33f348-439d-48c8-93b8-92f3569fa05a button.colab-df-convert');\n",
              "        buttonEl.style.display =\n",
              "          google.colab.kernel.accessAllowed ? 'block' : 'none';\n",
              "\n",
              "        async function convertToInteractive(key) {\n",
              "          const element = document.querySelector('#df-ab33f348-439d-48c8-93b8-92f3569fa05a');\n",
              "          const dataTable =\n",
              "            await google.colab.kernel.invokeFunction('convertToInteractive',\n",
              "                                                     [key], {});\n",
              "          if (!dataTable) return;\n",
              "\n",
              "          const docLinkHtml = 'Like what you see? Visit the ' +\n",
              "            '<a target=\"_blank\" href=https://colab.research.google.com/notebooks/data_table.ipynb>data table notebook</a>'\n",
              "            + ' to learn more about interactive tables.';\n",
              "          element.innerHTML = '';\n",
              "          dataTable['output_type'] = 'display_data';\n",
              "          await google.colab.output.renderOutput(dataTable, element);\n",
              "          const docLink = document.createElement('div');\n",
              "          docLink.innerHTML = docLinkHtml;\n",
              "          element.appendChild(docLink);\n",
              "        }\n",
              "      </script>\n",
              "    </div>\n",
              "  </div>\n",
              "  "
            ]
          },
          "metadata": {},
          "execution_count": 33
        }
      ]
    },
    {
      "cell_type": "code",
      "source": [
        "recommend(item_id=147867, num=10)"
      ],
      "metadata": {
        "id": "f6jsAcUejIcl",
        "outputId": "e754dff2-bc0d-47cd-ddbd-184b45858b10",
        "colab": {
          "base_uri": "https://localhost:8080/"
        }
      },
      "execution_count": 34,
      "outputs": [
        {
          "output_type": "stream",
          "name": "stdout",
          "text": [
            "Recommending 10 products similar to That Lady (1955)...\n",
            "---------\n",
            "\tRecommend: Lawless Street, A (Marshal of Medicine Bend) (1955) (score:0.12964811268512696)\n",
            "\tRecommend: Coming Home (2003) (score:0.0)\n",
            "\tRecommend: Let It Snow (1999) (score:0.0)\n",
            "\tRecommend: Salvation, The (2014) (score:0.0)\n",
            "\tRecommend: The Piper (2015) (score:0.0)\n",
            "\tRecommend: Guardia, Guardia Scelta, Brigadiere e Maresciallo (1956) (score:0.0)\n",
            "\tRecommend: Her Man Gilbey (1944) (score:0.0)\n",
            "\tRecommend: King of Dollars (1905) (score:0.0)\n",
            "\tRecommend: The Corpse Grinders (1971) (score:0.0)\n",
            "\tRecommend: Nargess (1992) (score:0.0)\n"
          ]
        }
      ]
    },
    {
      "cell_type": "code",
      "source": [],
      "metadata": {
        "id": "aMfrDUEdjTCW"
      },
      "execution_count": null,
      "outputs": []
    }
  ]
}