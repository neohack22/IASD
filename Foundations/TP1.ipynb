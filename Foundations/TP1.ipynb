{
  "cells": [
    {
      "cell_type": "markdown",
      "metadata": {
        "id": "view-in-github",
        "colab_type": "text"
      },
      "source": [
        "<a href=\"https://colab.research.google.com/github/neohack22/IASD/blob/graphs/Foundations/TP1.ipynb\" target=\"_parent\"><img src=\"https://colab.research.google.com/assets/colab-badge.svg\" alt=\"Open In Colab\"/></a>"
      ]
    },
    {
      "cell_type": "markdown",
      "metadata": {
        "id": "MpX5ZUmyBQKJ"
      },
      "source": [
        "#Executive Master « IAD »\n",
        "##Lab session: Introduction to supervised learning\n",
        "\n",
        "## 1. Utilisation de ScikitLearn avec Python 3\n",
        "\n",
        "*Cette première séance pratique a un double but :* \n",
        "1. *vous familiariser avec les librairies de calcul scientifique, de gestion de données et de Machine Learning sous Python*\n",
        "2. *vous faire manipuler quelques techniques d'évaluation* \n",
        "\n",
        "\n",
        "\n",
        "---\n",
        "\n",
        "\n",
        "##Quelques références utiles :\n",
        "\n",
        "1. [Documentation NumPy](https://docs.scipy.org/doc/numpy/user/index.html)\n",
        "2. [Documentation SciPy](https://docs.scipy.org/doc/scipy/reference/)\n",
        "3. [Documentation MatPlotLib](http://matplotlib.org/)\n",
        "4. [Site scikit-learn](http://scikit-learn.org/stable/index.html)\n",
        "5. [Site langage python](https://www.python.org/)\n",
        "\n",
        "\n",
        "Nous importons d’abord les librairies utiles :"
      ]
    },
    {
      "cell_type": "code",
      "execution_count": null,
      "metadata": {
        "id": "v3pfJo4BCJBP"
      },
      "outputs": [],
      "source": [
        "import numpy as np\n",
        "import matplotlib\n",
        "import matplotlib.pyplot as plt"
      ]
    },
    {
      "cell_type": "code",
      "execution_count": null,
      "metadata": {
        "id": "s585WVLIpCBP"
      },
      "outputs": [],
      "source": [
        "import numpy as np\n",
        "import matplotlib\n",
        "import matplotlib.pyplot as plt"
      ]
    },
    {
      "cell_type": "markdown",
      "metadata": {
        "id": "_76PtzdLCPrD"
      },
      "source": [
        "## 2. Expériences de reconnaissance de chiffres manuscrits\n",
        "\n",
        "###2.1 Chargement de la base de données MNIST\n",
        "Pour nos premières expériences, nous allons utiliser la base de données MNIST qui comporte les descriptions de chiffres manuscrits en format 28 x 28, soit 784 pixels, et les étiquettes associées. La base contient en tout 70 000 exemples, c’est-à-dire 7000 exemples de chaque chiffre.\n",
        "\n",
        "Nous chargeons d’abord la base, puis nous examinons l’un des exemples qu’elle contient."
      ]
    },
    {
      "cell_type": "code",
      "execution_count": null,
      "metadata": {
        "id": "ynhhU0teCg3l"
      },
      "outputs": [],
      "source": [
        "from sklearn.datasets import fetch_openml\n",
        "mnist = fetch_openml('mnist_784', cache=False)"
      ]
    },
    {
      "cell_type": "code",
      "execution_count": null,
      "metadata": {
        "id": "gCAyfIFJpLn0"
      },
      "outputs": [],
      "source": [
        "from sklearn.datasets import fetch_openml\n",
        "\n",
        "# ValueError: No active dataset mnist_748 found.\n",
        "# mnist = fetch_openml('mnist_748', cache=False)\n",
        "\n",
        "mnist = fetch_openml('mnist_784', cache=False)"
      ]
    },
    {
      "cell_type": "code",
      "execution_count": null,
      "metadata": {
        "colab": {
          "base_uri": "https://localhost:8080/"
        },
        "id": "ZnjFxZLGC8aS",
        "outputId": "a7eafedd-b664-4a8b-e7e5-a771acc57e43"
      },
      "outputs": [
        {
          "data": {
            "text/plain": [
              "{'DESCR': \"**Author**: Yann LeCun, Corinna Cortes, Christopher J.C. Burges  \\n**Source**: [MNIST Website](http://yann.lecun.com/exdb/mnist/) - Date unknown  \\n**Please cite**:  \\n\\nThe MNIST database of handwritten digits with 784 features, raw data available at: http://yann.lecun.com/exdb/mnist/. It can be split in a training set of the first 60,000 examples, and a test set of 10,000 examples  \\n\\nIt is a subset of a larger set available from NIST. The digits have been size-normalized and centered in a fixed-size image. It is a good database for people who want to try learning techniques and pattern recognition methods on real-world data while spending minimal efforts on preprocessing and formatting. The original black and white (bilevel) images from NIST were size normalized to fit in a 20x20 pixel box while preserving their aspect ratio. The resulting images contain grey levels as a result of the anti-aliasing technique used by the normalization algorithm. the images were centered in a 28x28 image by computing the center of mass of the pixels, and translating the image so as to position this point at the center of the 28x28 field.  \\n\\nWith some classification methods (particularly template-based methods, such as SVM and K-nearest neighbors), the error rate improves when the digits are centered by bounding box rather than center of mass. If you do this kind of pre-processing, you should report it in your publications. The MNIST database was constructed from NIST's NIST originally designated SD-3 as their training set and SD-1 as their test set. However, SD-3 is much cleaner and easier to recognize than SD-1. The reason for this can be found on the fact that SD-3 was collected among Census Bureau employees, while SD-1 was collected among high-school students. Drawing sensible conclusions from learning experiments requires that the result be independent of the choice of training set and test among the complete set of samples. Therefore it was necessary to build a new database by mixing NIST's datasets.  \\n\\nThe MNIST training set is composed of 30,000 patterns from SD-3 and 30,000 patterns from SD-1. Our test set was composed of 5,000 patterns from SD-3 and 5,000 patterns from SD-1. The 60,000 pattern training set contained examples from approximately 250 writers. We made sure that the sets of writers of the training set and test set were disjoint. SD-1 contains 58,527 digit images written by 500 different writers. In contrast to SD-3, where blocks of data from each writer appeared in sequence, the data in SD-1 is scrambled. Writer identities for SD-1 is available and we used this information to unscramble the writers. We then split SD-1 in two: characters written by the first 250 writers went into our new training set. The remaining 250 writers were placed in our test set. Thus we had two sets with nearly 30,000 examples each. The new training set was completed with enough examples from SD-3, starting at pattern # 0, to make a full set of 60,000 training patterns. Similarly, the new test set was completed with SD-3 examples starting at pattern # 35,000 to make a full set with 60,000 test patterns. Only a subset of 10,000 test images (5,000 from SD-1 and 5,000 from SD-3) is available on this site. The full 60,000 sample training set is available.\\n\\nDownloaded from openml.org.\",\n",
              " 'categories': {},\n",
              " 'data': array([[0., 0., 0., ..., 0., 0., 0.],\n",
              "        [0., 0., 0., ..., 0., 0., 0.],\n",
              "        [0., 0., 0., ..., 0., 0., 0.],\n",
              "        ...,\n",
              "        [0., 0., 0., ..., 0., 0., 0.],\n",
              "        [0., 0., 0., ..., 0., 0., 0.],\n",
              "        [0., 0., 0., ..., 0., 0., 0.]]),\n",
              " 'details': {'creator': ['Yann LeCun',\n",
              "   'Corinna Cortes',\n",
              "   'Christopher J.C. Burges'],\n",
              "  'default_target_attribute': 'class',\n",
              "  'file_id': '52667',\n",
              "  'format': 'ARFF',\n",
              "  'id': '554',\n",
              "  'language': 'English',\n",
              "  'licence': 'Public',\n",
              "  'md5_checksum': '0298d579eb1b86163de7723944c7e495',\n",
              "  'minio_url': 'http://openml1.win.tue.nl/dataset554/dataset_554.pq',\n",
              "  'name': 'mnist_784',\n",
              "  'processing_date': '2020-11-20 20:12:09',\n",
              "  'status': 'active',\n",
              "  'tag': ['AzurePilot',\n",
              "   'OpenML-CC18',\n",
              "   'OpenML100',\n",
              "   'study_1',\n",
              "   'study_123',\n",
              "   'study_41',\n",
              "   'study_99',\n",
              "   'vision'],\n",
              "  'upload_date': '2014-09-29T03:28:38',\n",
              "  'url': 'https://www.openml.org/data/v1/download/52667/mnist_784.arff',\n",
              "  'version': '1',\n",
              "  'visibility': 'public'},\n",
              " 'feature_names': ['pixel1',\n",
              "  'pixel2',\n",
              "  'pixel3',\n",
              "  'pixel4',\n",
              "  'pixel5',\n",
              "  'pixel6',\n",
              "  'pixel7',\n",
              "  'pixel8',\n",
              "  'pixel9',\n",
              "  'pixel10',\n",
              "  'pixel11',\n",
              "  'pixel12',\n",
              "  'pixel13',\n",
              "  'pixel14',\n",
              "  'pixel15',\n",
              "  'pixel16',\n",
              "  'pixel17',\n",
              "  'pixel18',\n",
              "  'pixel19',\n",
              "  'pixel20',\n",
              "  'pixel21',\n",
              "  'pixel22',\n",
              "  'pixel23',\n",
              "  'pixel24',\n",
              "  'pixel25',\n",
              "  'pixel26',\n",
              "  'pixel27',\n",
              "  'pixel28',\n",
              "  'pixel29',\n",
              "  'pixel30',\n",
              "  'pixel31',\n",
              "  'pixel32',\n",
              "  'pixel33',\n",
              "  'pixel34',\n",
              "  'pixel35',\n",
              "  'pixel36',\n",
              "  'pixel37',\n",
              "  'pixel38',\n",
              "  'pixel39',\n",
              "  'pixel40',\n",
              "  'pixel41',\n",
              "  'pixel42',\n",
              "  'pixel43',\n",
              "  'pixel44',\n",
              "  'pixel45',\n",
              "  'pixel46',\n",
              "  'pixel47',\n",
              "  'pixel48',\n",
              "  'pixel49',\n",
              "  'pixel50',\n",
              "  'pixel51',\n",
              "  'pixel52',\n",
              "  'pixel53',\n",
              "  'pixel54',\n",
              "  'pixel55',\n",
              "  'pixel56',\n",
              "  'pixel57',\n",
              "  'pixel58',\n",
              "  'pixel59',\n",
              "  'pixel60',\n",
              "  'pixel61',\n",
              "  'pixel62',\n",
              "  'pixel63',\n",
              "  'pixel64',\n",
              "  'pixel65',\n",
              "  'pixel66',\n",
              "  'pixel67',\n",
              "  'pixel68',\n",
              "  'pixel69',\n",
              "  'pixel70',\n",
              "  'pixel71',\n",
              "  'pixel72',\n",
              "  'pixel73',\n",
              "  'pixel74',\n",
              "  'pixel75',\n",
              "  'pixel76',\n",
              "  'pixel77',\n",
              "  'pixel78',\n",
              "  'pixel79',\n",
              "  'pixel80',\n",
              "  'pixel81',\n",
              "  'pixel82',\n",
              "  'pixel83',\n",
              "  'pixel84',\n",
              "  'pixel85',\n",
              "  'pixel86',\n",
              "  'pixel87',\n",
              "  'pixel88',\n",
              "  'pixel89',\n",
              "  'pixel90',\n",
              "  'pixel91',\n",
              "  'pixel92',\n",
              "  'pixel93',\n",
              "  'pixel94',\n",
              "  'pixel95',\n",
              "  'pixel96',\n",
              "  'pixel97',\n",
              "  'pixel98',\n",
              "  'pixel99',\n",
              "  'pixel100',\n",
              "  'pixel101',\n",
              "  'pixel102',\n",
              "  'pixel103',\n",
              "  'pixel104',\n",
              "  'pixel105',\n",
              "  'pixel106',\n",
              "  'pixel107',\n",
              "  'pixel108',\n",
              "  'pixel109',\n",
              "  'pixel110',\n",
              "  'pixel111',\n",
              "  'pixel112',\n",
              "  'pixel113',\n",
              "  'pixel114',\n",
              "  'pixel115',\n",
              "  'pixel116',\n",
              "  'pixel117',\n",
              "  'pixel118',\n",
              "  'pixel119',\n",
              "  'pixel120',\n",
              "  'pixel121',\n",
              "  'pixel122',\n",
              "  'pixel123',\n",
              "  'pixel124',\n",
              "  'pixel125',\n",
              "  'pixel126',\n",
              "  'pixel127',\n",
              "  'pixel128',\n",
              "  'pixel129',\n",
              "  'pixel130',\n",
              "  'pixel131',\n",
              "  'pixel132',\n",
              "  'pixel133',\n",
              "  'pixel134',\n",
              "  'pixel135',\n",
              "  'pixel136',\n",
              "  'pixel137',\n",
              "  'pixel138',\n",
              "  'pixel139',\n",
              "  'pixel140',\n",
              "  'pixel141',\n",
              "  'pixel142',\n",
              "  'pixel143',\n",
              "  'pixel144',\n",
              "  'pixel145',\n",
              "  'pixel146',\n",
              "  'pixel147',\n",
              "  'pixel148',\n",
              "  'pixel149',\n",
              "  'pixel150',\n",
              "  'pixel151',\n",
              "  'pixel152',\n",
              "  'pixel153',\n",
              "  'pixel154',\n",
              "  'pixel155',\n",
              "  'pixel156',\n",
              "  'pixel157',\n",
              "  'pixel158',\n",
              "  'pixel159',\n",
              "  'pixel160',\n",
              "  'pixel161',\n",
              "  'pixel162',\n",
              "  'pixel163',\n",
              "  'pixel164',\n",
              "  'pixel165',\n",
              "  'pixel166',\n",
              "  'pixel167',\n",
              "  'pixel168',\n",
              "  'pixel169',\n",
              "  'pixel170',\n",
              "  'pixel171',\n",
              "  'pixel172',\n",
              "  'pixel173',\n",
              "  'pixel174',\n",
              "  'pixel175',\n",
              "  'pixel176',\n",
              "  'pixel177',\n",
              "  'pixel178',\n",
              "  'pixel179',\n",
              "  'pixel180',\n",
              "  'pixel181',\n",
              "  'pixel182',\n",
              "  'pixel183',\n",
              "  'pixel184',\n",
              "  'pixel185',\n",
              "  'pixel186',\n",
              "  'pixel187',\n",
              "  'pixel188',\n",
              "  'pixel189',\n",
              "  'pixel190',\n",
              "  'pixel191',\n",
              "  'pixel192',\n",
              "  'pixel193',\n",
              "  'pixel194',\n",
              "  'pixel195',\n",
              "  'pixel196',\n",
              "  'pixel197',\n",
              "  'pixel198',\n",
              "  'pixel199',\n",
              "  'pixel200',\n",
              "  'pixel201',\n",
              "  'pixel202',\n",
              "  'pixel203',\n",
              "  'pixel204',\n",
              "  'pixel205',\n",
              "  'pixel206',\n",
              "  'pixel207',\n",
              "  'pixel208',\n",
              "  'pixel209',\n",
              "  'pixel210',\n",
              "  'pixel211',\n",
              "  'pixel212',\n",
              "  'pixel213',\n",
              "  'pixel214',\n",
              "  'pixel215',\n",
              "  'pixel216',\n",
              "  'pixel217',\n",
              "  'pixel218',\n",
              "  'pixel219',\n",
              "  'pixel220',\n",
              "  'pixel221',\n",
              "  'pixel222',\n",
              "  'pixel223',\n",
              "  'pixel224',\n",
              "  'pixel225',\n",
              "  'pixel226',\n",
              "  'pixel227',\n",
              "  'pixel228',\n",
              "  'pixel229',\n",
              "  'pixel230',\n",
              "  'pixel231',\n",
              "  'pixel232',\n",
              "  'pixel233',\n",
              "  'pixel234',\n",
              "  'pixel235',\n",
              "  'pixel236',\n",
              "  'pixel237',\n",
              "  'pixel238',\n",
              "  'pixel239',\n",
              "  'pixel240',\n",
              "  'pixel241',\n",
              "  'pixel242',\n",
              "  'pixel243',\n",
              "  'pixel244',\n",
              "  'pixel245',\n",
              "  'pixel246',\n",
              "  'pixel247',\n",
              "  'pixel248',\n",
              "  'pixel249',\n",
              "  'pixel250',\n",
              "  'pixel251',\n",
              "  'pixel252',\n",
              "  'pixel253',\n",
              "  'pixel254',\n",
              "  'pixel255',\n",
              "  'pixel256',\n",
              "  'pixel257',\n",
              "  'pixel258',\n",
              "  'pixel259',\n",
              "  'pixel260',\n",
              "  'pixel261',\n",
              "  'pixel262',\n",
              "  'pixel263',\n",
              "  'pixel264',\n",
              "  'pixel265',\n",
              "  'pixel266',\n",
              "  'pixel267',\n",
              "  'pixel268',\n",
              "  'pixel269',\n",
              "  'pixel270',\n",
              "  'pixel271',\n",
              "  'pixel272',\n",
              "  'pixel273',\n",
              "  'pixel274',\n",
              "  'pixel275',\n",
              "  'pixel276',\n",
              "  'pixel277',\n",
              "  'pixel278',\n",
              "  'pixel279',\n",
              "  'pixel280',\n",
              "  'pixel281',\n",
              "  'pixel282',\n",
              "  'pixel283',\n",
              "  'pixel284',\n",
              "  'pixel285',\n",
              "  'pixel286',\n",
              "  'pixel287',\n",
              "  'pixel288',\n",
              "  'pixel289',\n",
              "  'pixel290',\n",
              "  'pixel291',\n",
              "  'pixel292',\n",
              "  'pixel293',\n",
              "  'pixel294',\n",
              "  'pixel295',\n",
              "  'pixel296',\n",
              "  'pixel297',\n",
              "  'pixel298',\n",
              "  'pixel299',\n",
              "  'pixel300',\n",
              "  'pixel301',\n",
              "  'pixel302',\n",
              "  'pixel303',\n",
              "  'pixel304',\n",
              "  'pixel305',\n",
              "  'pixel306',\n",
              "  'pixel307',\n",
              "  'pixel308',\n",
              "  'pixel309',\n",
              "  'pixel310',\n",
              "  'pixel311',\n",
              "  'pixel312',\n",
              "  'pixel313',\n",
              "  'pixel314',\n",
              "  'pixel315',\n",
              "  'pixel316',\n",
              "  'pixel317',\n",
              "  'pixel318',\n",
              "  'pixel319',\n",
              "  'pixel320',\n",
              "  'pixel321',\n",
              "  'pixel322',\n",
              "  'pixel323',\n",
              "  'pixel324',\n",
              "  'pixel325',\n",
              "  'pixel326',\n",
              "  'pixel327',\n",
              "  'pixel328',\n",
              "  'pixel329',\n",
              "  'pixel330',\n",
              "  'pixel331',\n",
              "  'pixel332',\n",
              "  'pixel333',\n",
              "  'pixel334',\n",
              "  'pixel335',\n",
              "  'pixel336',\n",
              "  'pixel337',\n",
              "  'pixel338',\n",
              "  'pixel339',\n",
              "  'pixel340',\n",
              "  'pixel341',\n",
              "  'pixel342',\n",
              "  'pixel343',\n",
              "  'pixel344',\n",
              "  'pixel345',\n",
              "  'pixel346',\n",
              "  'pixel347',\n",
              "  'pixel348',\n",
              "  'pixel349',\n",
              "  'pixel350',\n",
              "  'pixel351',\n",
              "  'pixel352',\n",
              "  'pixel353',\n",
              "  'pixel354',\n",
              "  'pixel355',\n",
              "  'pixel356',\n",
              "  'pixel357',\n",
              "  'pixel358',\n",
              "  'pixel359',\n",
              "  'pixel360',\n",
              "  'pixel361',\n",
              "  'pixel362',\n",
              "  'pixel363',\n",
              "  'pixel364',\n",
              "  'pixel365',\n",
              "  'pixel366',\n",
              "  'pixel367',\n",
              "  'pixel368',\n",
              "  'pixel369',\n",
              "  'pixel370',\n",
              "  'pixel371',\n",
              "  'pixel372',\n",
              "  'pixel373',\n",
              "  'pixel374',\n",
              "  'pixel375',\n",
              "  'pixel376',\n",
              "  'pixel377',\n",
              "  'pixel378',\n",
              "  'pixel379',\n",
              "  'pixel380',\n",
              "  'pixel381',\n",
              "  'pixel382',\n",
              "  'pixel383',\n",
              "  'pixel384',\n",
              "  'pixel385',\n",
              "  'pixel386',\n",
              "  'pixel387',\n",
              "  'pixel388',\n",
              "  'pixel389',\n",
              "  'pixel390',\n",
              "  'pixel391',\n",
              "  'pixel392',\n",
              "  'pixel393',\n",
              "  'pixel394',\n",
              "  'pixel395',\n",
              "  'pixel396',\n",
              "  'pixel397',\n",
              "  'pixel398',\n",
              "  'pixel399',\n",
              "  'pixel400',\n",
              "  'pixel401',\n",
              "  'pixel402',\n",
              "  'pixel403',\n",
              "  'pixel404',\n",
              "  'pixel405',\n",
              "  'pixel406',\n",
              "  'pixel407',\n",
              "  'pixel408',\n",
              "  'pixel409',\n",
              "  'pixel410',\n",
              "  'pixel411',\n",
              "  'pixel412',\n",
              "  'pixel413',\n",
              "  'pixel414',\n",
              "  'pixel415',\n",
              "  'pixel416',\n",
              "  'pixel417',\n",
              "  'pixel418',\n",
              "  'pixel419',\n",
              "  'pixel420',\n",
              "  'pixel421',\n",
              "  'pixel422',\n",
              "  'pixel423',\n",
              "  'pixel424',\n",
              "  'pixel425',\n",
              "  'pixel426',\n",
              "  'pixel427',\n",
              "  'pixel428',\n",
              "  'pixel429',\n",
              "  'pixel430',\n",
              "  'pixel431',\n",
              "  'pixel432',\n",
              "  'pixel433',\n",
              "  'pixel434',\n",
              "  'pixel435',\n",
              "  'pixel436',\n",
              "  'pixel437',\n",
              "  'pixel438',\n",
              "  'pixel439',\n",
              "  'pixel440',\n",
              "  'pixel441',\n",
              "  'pixel442',\n",
              "  'pixel443',\n",
              "  'pixel444',\n",
              "  'pixel445',\n",
              "  'pixel446',\n",
              "  'pixel447',\n",
              "  'pixel448',\n",
              "  'pixel449',\n",
              "  'pixel450',\n",
              "  'pixel451',\n",
              "  'pixel452',\n",
              "  'pixel453',\n",
              "  'pixel454',\n",
              "  'pixel455',\n",
              "  'pixel456',\n",
              "  'pixel457',\n",
              "  'pixel458',\n",
              "  'pixel459',\n",
              "  'pixel460',\n",
              "  'pixel461',\n",
              "  'pixel462',\n",
              "  'pixel463',\n",
              "  'pixel464',\n",
              "  'pixel465',\n",
              "  'pixel466',\n",
              "  'pixel467',\n",
              "  'pixel468',\n",
              "  'pixel469',\n",
              "  'pixel470',\n",
              "  'pixel471',\n",
              "  'pixel472',\n",
              "  'pixel473',\n",
              "  'pixel474',\n",
              "  'pixel475',\n",
              "  'pixel476',\n",
              "  'pixel477',\n",
              "  'pixel478',\n",
              "  'pixel479',\n",
              "  'pixel480',\n",
              "  'pixel481',\n",
              "  'pixel482',\n",
              "  'pixel483',\n",
              "  'pixel484',\n",
              "  'pixel485',\n",
              "  'pixel486',\n",
              "  'pixel487',\n",
              "  'pixel488',\n",
              "  'pixel489',\n",
              "  'pixel490',\n",
              "  'pixel491',\n",
              "  'pixel492',\n",
              "  'pixel493',\n",
              "  'pixel494',\n",
              "  'pixel495',\n",
              "  'pixel496',\n",
              "  'pixel497',\n",
              "  'pixel498',\n",
              "  'pixel499',\n",
              "  'pixel500',\n",
              "  'pixel501',\n",
              "  'pixel502',\n",
              "  'pixel503',\n",
              "  'pixel504',\n",
              "  'pixel505',\n",
              "  'pixel506',\n",
              "  'pixel507',\n",
              "  'pixel508',\n",
              "  'pixel509',\n",
              "  'pixel510',\n",
              "  'pixel511',\n",
              "  'pixel512',\n",
              "  'pixel513',\n",
              "  'pixel514',\n",
              "  'pixel515',\n",
              "  'pixel516',\n",
              "  'pixel517',\n",
              "  'pixel518',\n",
              "  'pixel519',\n",
              "  'pixel520',\n",
              "  'pixel521',\n",
              "  'pixel522',\n",
              "  'pixel523',\n",
              "  'pixel524',\n",
              "  'pixel525',\n",
              "  'pixel526',\n",
              "  'pixel527',\n",
              "  'pixel528',\n",
              "  'pixel529',\n",
              "  'pixel530',\n",
              "  'pixel531',\n",
              "  'pixel532',\n",
              "  'pixel533',\n",
              "  'pixel534',\n",
              "  'pixel535',\n",
              "  'pixel536',\n",
              "  'pixel537',\n",
              "  'pixel538',\n",
              "  'pixel539',\n",
              "  'pixel540',\n",
              "  'pixel541',\n",
              "  'pixel542',\n",
              "  'pixel543',\n",
              "  'pixel544',\n",
              "  'pixel545',\n",
              "  'pixel546',\n",
              "  'pixel547',\n",
              "  'pixel548',\n",
              "  'pixel549',\n",
              "  'pixel550',\n",
              "  'pixel551',\n",
              "  'pixel552',\n",
              "  'pixel553',\n",
              "  'pixel554',\n",
              "  'pixel555',\n",
              "  'pixel556',\n",
              "  'pixel557',\n",
              "  'pixel558',\n",
              "  'pixel559',\n",
              "  'pixel560',\n",
              "  'pixel561',\n",
              "  'pixel562',\n",
              "  'pixel563',\n",
              "  'pixel564',\n",
              "  'pixel565',\n",
              "  'pixel566',\n",
              "  'pixel567',\n",
              "  'pixel568',\n",
              "  'pixel569',\n",
              "  'pixel570',\n",
              "  'pixel571',\n",
              "  'pixel572',\n",
              "  'pixel573',\n",
              "  'pixel574',\n",
              "  'pixel575',\n",
              "  'pixel576',\n",
              "  'pixel577',\n",
              "  'pixel578',\n",
              "  'pixel579',\n",
              "  'pixel580',\n",
              "  'pixel581',\n",
              "  'pixel582',\n",
              "  'pixel583',\n",
              "  'pixel584',\n",
              "  'pixel585',\n",
              "  'pixel586',\n",
              "  'pixel587',\n",
              "  'pixel588',\n",
              "  'pixel589',\n",
              "  'pixel590',\n",
              "  'pixel591',\n",
              "  'pixel592',\n",
              "  'pixel593',\n",
              "  'pixel594',\n",
              "  'pixel595',\n",
              "  'pixel596',\n",
              "  'pixel597',\n",
              "  'pixel598',\n",
              "  'pixel599',\n",
              "  'pixel600',\n",
              "  'pixel601',\n",
              "  'pixel602',\n",
              "  'pixel603',\n",
              "  'pixel604',\n",
              "  'pixel605',\n",
              "  'pixel606',\n",
              "  'pixel607',\n",
              "  'pixel608',\n",
              "  'pixel609',\n",
              "  'pixel610',\n",
              "  'pixel611',\n",
              "  'pixel612',\n",
              "  'pixel613',\n",
              "  'pixel614',\n",
              "  'pixel615',\n",
              "  'pixel616',\n",
              "  'pixel617',\n",
              "  'pixel618',\n",
              "  'pixel619',\n",
              "  'pixel620',\n",
              "  'pixel621',\n",
              "  'pixel622',\n",
              "  'pixel623',\n",
              "  'pixel624',\n",
              "  'pixel625',\n",
              "  'pixel626',\n",
              "  'pixel627',\n",
              "  'pixel628',\n",
              "  'pixel629',\n",
              "  'pixel630',\n",
              "  'pixel631',\n",
              "  'pixel632',\n",
              "  'pixel633',\n",
              "  'pixel634',\n",
              "  'pixel635',\n",
              "  'pixel636',\n",
              "  'pixel637',\n",
              "  'pixel638',\n",
              "  'pixel639',\n",
              "  'pixel640',\n",
              "  'pixel641',\n",
              "  'pixel642',\n",
              "  'pixel643',\n",
              "  'pixel644',\n",
              "  'pixel645',\n",
              "  'pixel646',\n",
              "  'pixel647',\n",
              "  'pixel648',\n",
              "  'pixel649',\n",
              "  'pixel650',\n",
              "  'pixel651',\n",
              "  'pixel652',\n",
              "  'pixel653',\n",
              "  'pixel654',\n",
              "  'pixel655',\n",
              "  'pixel656',\n",
              "  'pixel657',\n",
              "  'pixel658',\n",
              "  'pixel659',\n",
              "  'pixel660',\n",
              "  'pixel661',\n",
              "  'pixel662',\n",
              "  'pixel663',\n",
              "  'pixel664',\n",
              "  'pixel665',\n",
              "  'pixel666',\n",
              "  'pixel667',\n",
              "  'pixel668',\n",
              "  'pixel669',\n",
              "  'pixel670',\n",
              "  'pixel671',\n",
              "  'pixel672',\n",
              "  'pixel673',\n",
              "  'pixel674',\n",
              "  'pixel675',\n",
              "  'pixel676',\n",
              "  'pixel677',\n",
              "  'pixel678',\n",
              "  'pixel679',\n",
              "  'pixel680',\n",
              "  'pixel681',\n",
              "  'pixel682',\n",
              "  'pixel683',\n",
              "  'pixel684',\n",
              "  'pixel685',\n",
              "  'pixel686',\n",
              "  'pixel687',\n",
              "  'pixel688',\n",
              "  'pixel689',\n",
              "  'pixel690',\n",
              "  'pixel691',\n",
              "  'pixel692',\n",
              "  'pixel693',\n",
              "  'pixel694',\n",
              "  'pixel695',\n",
              "  'pixel696',\n",
              "  'pixel697',\n",
              "  'pixel698',\n",
              "  'pixel699',\n",
              "  'pixel700',\n",
              "  'pixel701',\n",
              "  'pixel702',\n",
              "  'pixel703',\n",
              "  'pixel704',\n",
              "  'pixel705',\n",
              "  'pixel706',\n",
              "  'pixel707',\n",
              "  'pixel708',\n",
              "  'pixel709',\n",
              "  'pixel710',\n",
              "  'pixel711',\n",
              "  'pixel712',\n",
              "  'pixel713',\n",
              "  'pixel714',\n",
              "  'pixel715',\n",
              "  'pixel716',\n",
              "  'pixel717',\n",
              "  'pixel718',\n",
              "  'pixel719',\n",
              "  'pixel720',\n",
              "  'pixel721',\n",
              "  'pixel722',\n",
              "  'pixel723',\n",
              "  'pixel724',\n",
              "  'pixel725',\n",
              "  'pixel726',\n",
              "  'pixel727',\n",
              "  'pixel728',\n",
              "  'pixel729',\n",
              "  'pixel730',\n",
              "  'pixel731',\n",
              "  'pixel732',\n",
              "  'pixel733',\n",
              "  'pixel734',\n",
              "  'pixel735',\n",
              "  'pixel736',\n",
              "  'pixel737',\n",
              "  'pixel738',\n",
              "  'pixel739',\n",
              "  'pixel740',\n",
              "  'pixel741',\n",
              "  'pixel742',\n",
              "  'pixel743',\n",
              "  'pixel744',\n",
              "  'pixel745',\n",
              "  'pixel746',\n",
              "  'pixel747',\n",
              "  'pixel748',\n",
              "  'pixel749',\n",
              "  'pixel750',\n",
              "  'pixel751',\n",
              "  'pixel752',\n",
              "  'pixel753',\n",
              "  'pixel754',\n",
              "  'pixel755',\n",
              "  'pixel756',\n",
              "  'pixel757',\n",
              "  'pixel758',\n",
              "  'pixel759',\n",
              "  'pixel760',\n",
              "  'pixel761',\n",
              "  'pixel762',\n",
              "  'pixel763',\n",
              "  'pixel764',\n",
              "  'pixel765',\n",
              "  'pixel766',\n",
              "  'pixel767',\n",
              "  'pixel768',\n",
              "  'pixel769',\n",
              "  'pixel770',\n",
              "  'pixel771',\n",
              "  'pixel772',\n",
              "  'pixel773',\n",
              "  'pixel774',\n",
              "  'pixel775',\n",
              "  'pixel776',\n",
              "  'pixel777',\n",
              "  'pixel778',\n",
              "  'pixel779',\n",
              "  'pixel780',\n",
              "  'pixel781',\n",
              "  'pixel782',\n",
              "  'pixel783',\n",
              "  'pixel784'],\n",
              " 'frame': None,\n",
              " 'target': array(['5', '0', '4', ..., '4', '5', '6'], dtype=object),\n",
              " 'target_names': ['class'],\n",
              " 'url': 'https://www.openml.org/d/554'}"
            ]
          },
          "execution_count": 29,
          "metadata": {
            "tags": []
          },
          "output_type": "execute_result"
        }
      ],
      "source": [
        "mnist"
      ]
    },
    {
      "cell_type": "code",
      "execution_count": null,
      "metadata": {
        "colab": {
          "base_uri": "https://localhost:8080/"
        },
        "id": "2zbzR5k6prhc",
        "outputId": "34bd610d-1347-43a0-846a-46f5dc7218d9"
      },
      "outputs": [
        {
          "data": {
            "text/plain": [
              "{'DESCR': \"**Author**: Yann LeCun, Corinna Cortes, Christopher J.C. Burges  \\n**Source**: [MNIST Website](http://yann.lecun.com/exdb/mnist/) - Date unknown  \\n**Please cite**:  \\n\\nThe MNIST database of handwritten digits with 784 features, raw data available at: http://yann.lecun.com/exdb/mnist/. It can be split in a training set of the first 60,000 examples, and a test set of 10,000 examples  \\n\\nIt is a subset of a larger set available from NIST. The digits have been size-normalized and centered in a fixed-size image. It is a good database for people who want to try learning techniques and pattern recognition methods on real-world data while spending minimal efforts on preprocessing and formatting. The original black and white (bilevel) images from NIST were size normalized to fit in a 20x20 pixel box while preserving their aspect ratio. The resulting images contain grey levels as a result of the anti-aliasing technique used by the normalization algorithm. the images were centered in a 28x28 image by computing the center of mass of the pixels, and translating the image so as to position this point at the center of the 28x28 field.  \\n\\nWith some classification methods (particularly template-based methods, such as SVM and K-nearest neighbors), the error rate improves when the digits are centered by bounding box rather than center of mass. If you do this kind of pre-processing, you should report it in your publications. The MNIST database was constructed from NIST's NIST originally designated SD-3 as their training set and SD-1 as their test set. However, SD-3 is much cleaner and easier to recognize than SD-1. The reason for this can be found on the fact that SD-3 was collected among Census Bureau employees, while SD-1 was collected among high-school students. Drawing sensible conclusions from learning experiments requires that the result be independent of the choice of training set and test among the complete set of samples. Therefore it was necessary to build a new database by mixing NIST's datasets.  \\n\\nThe MNIST training set is composed of 30,000 patterns from SD-3 and 30,000 patterns from SD-1. Our test set was composed of 5,000 patterns from SD-3 and 5,000 patterns from SD-1. The 60,000 pattern training set contained examples from approximately 250 writers. We made sure that the sets of writers of the training set and test set were disjoint. SD-1 contains 58,527 digit images written by 500 different writers. In contrast to SD-3, where blocks of data from each writer appeared in sequence, the data in SD-1 is scrambled. Writer identities for SD-1 is available and we used this information to unscramble the writers. We then split SD-1 in two: characters written by the first 250 writers went into our new training set. The remaining 250 writers were placed in our test set. Thus we had two sets with nearly 30,000 examples each. The new training set was completed with enough examples from SD-3, starting at pattern # 0, to make a full set of 60,000 training patterns. Similarly, the new test set was completed with SD-3 examples starting at pattern # 35,000 to make a full set with 60,000 test patterns. Only a subset of 10,000 test images (5,000 from SD-1 and 5,000 from SD-3) is available on this site. The full 60,000 sample training set is available.\\n\\nDownloaded from openml.org.\",\n",
              " 'categories': {},\n",
              " 'data': array([[0., 0., 0., ..., 0., 0., 0.],\n",
              "        [0., 0., 0., ..., 0., 0., 0.],\n",
              "        [0., 0., 0., ..., 0., 0., 0.],\n",
              "        ...,\n",
              "        [0., 0., 0., ..., 0., 0., 0.],\n",
              "        [0., 0., 0., ..., 0., 0., 0.],\n",
              "        [0., 0., 0., ..., 0., 0., 0.]]),\n",
              " 'details': {'creator': ['Yann LeCun',\n",
              "   'Corinna Cortes',\n",
              "   'Christopher J.C. Burges'],\n",
              "  'default_target_attribute': 'class',\n",
              "  'description_version': '1',\n",
              "  'file_id': '52667',\n",
              "  'format': 'ARFF',\n",
              "  'id': '554',\n",
              "  'language': 'English',\n",
              "  'licence': 'Public',\n",
              "  'md5_checksum': '0298d579eb1b86163de7723944c7e495',\n",
              "  'name': 'mnist_784',\n",
              "  'processing_date': '2020-11-20 20:12:09',\n",
              "  'status': 'active',\n",
              "  'tag': ['AzurePilot',\n",
              "   'OpenML-CC18',\n",
              "   'OpenML100',\n",
              "   'study_1',\n",
              "   'study_123',\n",
              "   'study_41',\n",
              "   'study_99',\n",
              "   'vision'],\n",
              "  'upload_date': '2014-09-29T03:28:38',\n",
              "  'url': 'https://www.openml.org/data/v1/download/52667/mnist_784.arff',\n",
              "  'version': '1',\n",
              "  'visibility': 'public'},\n",
              " 'feature_names': ['pixel1',\n",
              "  'pixel2',\n",
              "  'pixel3',\n",
              "  'pixel4',\n",
              "  'pixel5',\n",
              "  'pixel6',\n",
              "  'pixel7',\n",
              "  'pixel8',\n",
              "  'pixel9',\n",
              "  'pixel10',\n",
              "  'pixel11',\n",
              "  'pixel12',\n",
              "  'pixel13',\n",
              "  'pixel14',\n",
              "  'pixel15',\n",
              "  'pixel16',\n",
              "  'pixel17',\n",
              "  'pixel18',\n",
              "  'pixel19',\n",
              "  'pixel20',\n",
              "  'pixel21',\n",
              "  'pixel22',\n",
              "  'pixel23',\n",
              "  'pixel24',\n",
              "  'pixel25',\n",
              "  'pixel26',\n",
              "  'pixel27',\n",
              "  'pixel28',\n",
              "  'pixel29',\n",
              "  'pixel30',\n",
              "  'pixel31',\n",
              "  'pixel32',\n",
              "  'pixel33',\n",
              "  'pixel34',\n",
              "  'pixel35',\n",
              "  'pixel36',\n",
              "  'pixel37',\n",
              "  'pixel38',\n",
              "  'pixel39',\n",
              "  'pixel40',\n",
              "  'pixel41',\n",
              "  'pixel42',\n",
              "  'pixel43',\n",
              "  'pixel44',\n",
              "  'pixel45',\n",
              "  'pixel46',\n",
              "  'pixel47',\n",
              "  'pixel48',\n",
              "  'pixel49',\n",
              "  'pixel50',\n",
              "  'pixel51',\n",
              "  'pixel52',\n",
              "  'pixel53',\n",
              "  'pixel54',\n",
              "  'pixel55',\n",
              "  'pixel56',\n",
              "  'pixel57',\n",
              "  'pixel58',\n",
              "  'pixel59',\n",
              "  'pixel60',\n",
              "  'pixel61',\n",
              "  'pixel62',\n",
              "  'pixel63',\n",
              "  'pixel64',\n",
              "  'pixel65',\n",
              "  'pixel66',\n",
              "  'pixel67',\n",
              "  'pixel68',\n",
              "  'pixel69',\n",
              "  'pixel70',\n",
              "  'pixel71',\n",
              "  'pixel72',\n",
              "  'pixel73',\n",
              "  'pixel74',\n",
              "  'pixel75',\n",
              "  'pixel76',\n",
              "  'pixel77',\n",
              "  'pixel78',\n",
              "  'pixel79',\n",
              "  'pixel80',\n",
              "  'pixel81',\n",
              "  'pixel82',\n",
              "  'pixel83',\n",
              "  'pixel84',\n",
              "  'pixel85',\n",
              "  'pixel86',\n",
              "  'pixel87',\n",
              "  'pixel88',\n",
              "  'pixel89',\n",
              "  'pixel90',\n",
              "  'pixel91',\n",
              "  'pixel92',\n",
              "  'pixel93',\n",
              "  'pixel94',\n",
              "  'pixel95',\n",
              "  'pixel96',\n",
              "  'pixel97',\n",
              "  'pixel98',\n",
              "  'pixel99',\n",
              "  'pixel100',\n",
              "  'pixel101',\n",
              "  'pixel102',\n",
              "  'pixel103',\n",
              "  'pixel104',\n",
              "  'pixel105',\n",
              "  'pixel106',\n",
              "  'pixel107',\n",
              "  'pixel108',\n",
              "  'pixel109',\n",
              "  'pixel110',\n",
              "  'pixel111',\n",
              "  'pixel112',\n",
              "  'pixel113',\n",
              "  'pixel114',\n",
              "  'pixel115',\n",
              "  'pixel116',\n",
              "  'pixel117',\n",
              "  'pixel118',\n",
              "  'pixel119',\n",
              "  'pixel120',\n",
              "  'pixel121',\n",
              "  'pixel122',\n",
              "  'pixel123',\n",
              "  'pixel124',\n",
              "  'pixel125',\n",
              "  'pixel126',\n",
              "  'pixel127',\n",
              "  'pixel128',\n",
              "  'pixel129',\n",
              "  'pixel130',\n",
              "  'pixel131',\n",
              "  'pixel132',\n",
              "  'pixel133',\n",
              "  'pixel134',\n",
              "  'pixel135',\n",
              "  'pixel136',\n",
              "  'pixel137',\n",
              "  'pixel138',\n",
              "  'pixel139',\n",
              "  'pixel140',\n",
              "  'pixel141',\n",
              "  'pixel142',\n",
              "  'pixel143',\n",
              "  'pixel144',\n",
              "  'pixel145',\n",
              "  'pixel146',\n",
              "  'pixel147',\n",
              "  'pixel148',\n",
              "  'pixel149',\n",
              "  'pixel150',\n",
              "  'pixel151',\n",
              "  'pixel152',\n",
              "  'pixel153',\n",
              "  'pixel154',\n",
              "  'pixel155',\n",
              "  'pixel156',\n",
              "  'pixel157',\n",
              "  'pixel158',\n",
              "  'pixel159',\n",
              "  'pixel160',\n",
              "  'pixel161',\n",
              "  'pixel162',\n",
              "  'pixel163',\n",
              "  'pixel164',\n",
              "  'pixel165',\n",
              "  'pixel166',\n",
              "  'pixel167',\n",
              "  'pixel168',\n",
              "  'pixel169',\n",
              "  'pixel170',\n",
              "  'pixel171',\n",
              "  'pixel172',\n",
              "  'pixel173',\n",
              "  'pixel174',\n",
              "  'pixel175',\n",
              "  'pixel176',\n",
              "  'pixel177',\n",
              "  'pixel178',\n",
              "  'pixel179',\n",
              "  'pixel180',\n",
              "  'pixel181',\n",
              "  'pixel182',\n",
              "  'pixel183',\n",
              "  'pixel184',\n",
              "  'pixel185',\n",
              "  'pixel186',\n",
              "  'pixel187',\n",
              "  'pixel188',\n",
              "  'pixel189',\n",
              "  'pixel190',\n",
              "  'pixel191',\n",
              "  'pixel192',\n",
              "  'pixel193',\n",
              "  'pixel194',\n",
              "  'pixel195',\n",
              "  'pixel196',\n",
              "  'pixel197',\n",
              "  'pixel198',\n",
              "  'pixel199',\n",
              "  'pixel200',\n",
              "  'pixel201',\n",
              "  'pixel202',\n",
              "  'pixel203',\n",
              "  'pixel204',\n",
              "  'pixel205',\n",
              "  'pixel206',\n",
              "  'pixel207',\n",
              "  'pixel208',\n",
              "  'pixel209',\n",
              "  'pixel210',\n",
              "  'pixel211',\n",
              "  'pixel212',\n",
              "  'pixel213',\n",
              "  'pixel214',\n",
              "  'pixel215',\n",
              "  'pixel216',\n",
              "  'pixel217',\n",
              "  'pixel218',\n",
              "  'pixel219',\n",
              "  'pixel220',\n",
              "  'pixel221',\n",
              "  'pixel222',\n",
              "  'pixel223',\n",
              "  'pixel224',\n",
              "  'pixel225',\n",
              "  'pixel226',\n",
              "  'pixel227',\n",
              "  'pixel228',\n",
              "  'pixel229',\n",
              "  'pixel230',\n",
              "  'pixel231',\n",
              "  'pixel232',\n",
              "  'pixel233',\n",
              "  'pixel234',\n",
              "  'pixel235',\n",
              "  'pixel236',\n",
              "  'pixel237',\n",
              "  'pixel238',\n",
              "  'pixel239',\n",
              "  'pixel240',\n",
              "  'pixel241',\n",
              "  'pixel242',\n",
              "  'pixel243',\n",
              "  'pixel244',\n",
              "  'pixel245',\n",
              "  'pixel246',\n",
              "  'pixel247',\n",
              "  'pixel248',\n",
              "  'pixel249',\n",
              "  'pixel250',\n",
              "  'pixel251',\n",
              "  'pixel252',\n",
              "  'pixel253',\n",
              "  'pixel254',\n",
              "  'pixel255',\n",
              "  'pixel256',\n",
              "  'pixel257',\n",
              "  'pixel258',\n",
              "  'pixel259',\n",
              "  'pixel260',\n",
              "  'pixel261',\n",
              "  'pixel262',\n",
              "  'pixel263',\n",
              "  'pixel264',\n",
              "  'pixel265',\n",
              "  'pixel266',\n",
              "  'pixel267',\n",
              "  'pixel268',\n",
              "  'pixel269',\n",
              "  'pixel270',\n",
              "  'pixel271',\n",
              "  'pixel272',\n",
              "  'pixel273',\n",
              "  'pixel274',\n",
              "  'pixel275',\n",
              "  'pixel276',\n",
              "  'pixel277',\n",
              "  'pixel278',\n",
              "  'pixel279',\n",
              "  'pixel280',\n",
              "  'pixel281',\n",
              "  'pixel282',\n",
              "  'pixel283',\n",
              "  'pixel284',\n",
              "  'pixel285',\n",
              "  'pixel286',\n",
              "  'pixel287',\n",
              "  'pixel288',\n",
              "  'pixel289',\n",
              "  'pixel290',\n",
              "  'pixel291',\n",
              "  'pixel292',\n",
              "  'pixel293',\n",
              "  'pixel294',\n",
              "  'pixel295',\n",
              "  'pixel296',\n",
              "  'pixel297',\n",
              "  'pixel298',\n",
              "  'pixel299',\n",
              "  'pixel300',\n",
              "  'pixel301',\n",
              "  'pixel302',\n",
              "  'pixel303',\n",
              "  'pixel304',\n",
              "  'pixel305',\n",
              "  'pixel306',\n",
              "  'pixel307',\n",
              "  'pixel308',\n",
              "  'pixel309',\n",
              "  'pixel310',\n",
              "  'pixel311',\n",
              "  'pixel312',\n",
              "  'pixel313',\n",
              "  'pixel314',\n",
              "  'pixel315',\n",
              "  'pixel316',\n",
              "  'pixel317',\n",
              "  'pixel318',\n",
              "  'pixel319',\n",
              "  'pixel320',\n",
              "  'pixel321',\n",
              "  'pixel322',\n",
              "  'pixel323',\n",
              "  'pixel324',\n",
              "  'pixel325',\n",
              "  'pixel326',\n",
              "  'pixel327',\n",
              "  'pixel328',\n",
              "  'pixel329',\n",
              "  'pixel330',\n",
              "  'pixel331',\n",
              "  'pixel332',\n",
              "  'pixel333',\n",
              "  'pixel334',\n",
              "  'pixel335',\n",
              "  'pixel336',\n",
              "  'pixel337',\n",
              "  'pixel338',\n",
              "  'pixel339',\n",
              "  'pixel340',\n",
              "  'pixel341',\n",
              "  'pixel342',\n",
              "  'pixel343',\n",
              "  'pixel344',\n",
              "  'pixel345',\n",
              "  'pixel346',\n",
              "  'pixel347',\n",
              "  'pixel348',\n",
              "  'pixel349',\n",
              "  'pixel350',\n",
              "  'pixel351',\n",
              "  'pixel352',\n",
              "  'pixel353',\n",
              "  'pixel354',\n",
              "  'pixel355',\n",
              "  'pixel356',\n",
              "  'pixel357',\n",
              "  'pixel358',\n",
              "  'pixel359',\n",
              "  'pixel360',\n",
              "  'pixel361',\n",
              "  'pixel362',\n",
              "  'pixel363',\n",
              "  'pixel364',\n",
              "  'pixel365',\n",
              "  'pixel366',\n",
              "  'pixel367',\n",
              "  'pixel368',\n",
              "  'pixel369',\n",
              "  'pixel370',\n",
              "  'pixel371',\n",
              "  'pixel372',\n",
              "  'pixel373',\n",
              "  'pixel374',\n",
              "  'pixel375',\n",
              "  'pixel376',\n",
              "  'pixel377',\n",
              "  'pixel378',\n",
              "  'pixel379',\n",
              "  'pixel380',\n",
              "  'pixel381',\n",
              "  'pixel382',\n",
              "  'pixel383',\n",
              "  'pixel384',\n",
              "  'pixel385',\n",
              "  'pixel386',\n",
              "  'pixel387',\n",
              "  'pixel388',\n",
              "  'pixel389',\n",
              "  'pixel390',\n",
              "  'pixel391',\n",
              "  'pixel392',\n",
              "  'pixel393',\n",
              "  'pixel394',\n",
              "  'pixel395',\n",
              "  'pixel396',\n",
              "  'pixel397',\n",
              "  'pixel398',\n",
              "  'pixel399',\n",
              "  'pixel400',\n",
              "  'pixel401',\n",
              "  'pixel402',\n",
              "  'pixel403',\n",
              "  'pixel404',\n",
              "  'pixel405',\n",
              "  'pixel406',\n",
              "  'pixel407',\n",
              "  'pixel408',\n",
              "  'pixel409',\n",
              "  'pixel410',\n",
              "  'pixel411',\n",
              "  'pixel412',\n",
              "  'pixel413',\n",
              "  'pixel414',\n",
              "  'pixel415',\n",
              "  'pixel416',\n",
              "  'pixel417',\n",
              "  'pixel418',\n",
              "  'pixel419',\n",
              "  'pixel420',\n",
              "  'pixel421',\n",
              "  'pixel422',\n",
              "  'pixel423',\n",
              "  'pixel424',\n",
              "  'pixel425',\n",
              "  'pixel426',\n",
              "  'pixel427',\n",
              "  'pixel428',\n",
              "  'pixel429',\n",
              "  'pixel430',\n",
              "  'pixel431',\n",
              "  'pixel432',\n",
              "  'pixel433',\n",
              "  'pixel434',\n",
              "  'pixel435',\n",
              "  'pixel436',\n",
              "  'pixel437',\n",
              "  'pixel438',\n",
              "  'pixel439',\n",
              "  'pixel440',\n",
              "  'pixel441',\n",
              "  'pixel442',\n",
              "  'pixel443',\n",
              "  'pixel444',\n",
              "  'pixel445',\n",
              "  'pixel446',\n",
              "  'pixel447',\n",
              "  'pixel448',\n",
              "  'pixel449',\n",
              "  'pixel450',\n",
              "  'pixel451',\n",
              "  'pixel452',\n",
              "  'pixel453',\n",
              "  'pixel454',\n",
              "  'pixel455',\n",
              "  'pixel456',\n",
              "  'pixel457',\n",
              "  'pixel458',\n",
              "  'pixel459',\n",
              "  'pixel460',\n",
              "  'pixel461',\n",
              "  'pixel462',\n",
              "  'pixel463',\n",
              "  'pixel464',\n",
              "  'pixel465',\n",
              "  'pixel466',\n",
              "  'pixel467',\n",
              "  'pixel468',\n",
              "  'pixel469',\n",
              "  'pixel470',\n",
              "  'pixel471',\n",
              "  'pixel472',\n",
              "  'pixel473',\n",
              "  'pixel474',\n",
              "  'pixel475',\n",
              "  'pixel476',\n",
              "  'pixel477',\n",
              "  'pixel478',\n",
              "  'pixel479',\n",
              "  'pixel480',\n",
              "  'pixel481',\n",
              "  'pixel482',\n",
              "  'pixel483',\n",
              "  'pixel484',\n",
              "  'pixel485',\n",
              "  'pixel486',\n",
              "  'pixel487',\n",
              "  'pixel488',\n",
              "  'pixel489',\n",
              "  'pixel490',\n",
              "  'pixel491',\n",
              "  'pixel492',\n",
              "  'pixel493',\n",
              "  'pixel494',\n",
              "  'pixel495',\n",
              "  'pixel496',\n",
              "  'pixel497',\n",
              "  'pixel498',\n",
              "  'pixel499',\n",
              "  'pixel500',\n",
              "  'pixel501',\n",
              "  'pixel502',\n",
              "  'pixel503',\n",
              "  'pixel504',\n",
              "  'pixel505',\n",
              "  'pixel506',\n",
              "  'pixel507',\n",
              "  'pixel508',\n",
              "  'pixel509',\n",
              "  'pixel510',\n",
              "  'pixel511',\n",
              "  'pixel512',\n",
              "  'pixel513',\n",
              "  'pixel514',\n",
              "  'pixel515',\n",
              "  'pixel516',\n",
              "  'pixel517',\n",
              "  'pixel518',\n",
              "  'pixel519',\n",
              "  'pixel520',\n",
              "  'pixel521',\n",
              "  'pixel522',\n",
              "  'pixel523',\n",
              "  'pixel524',\n",
              "  'pixel525',\n",
              "  'pixel526',\n",
              "  'pixel527',\n",
              "  'pixel528',\n",
              "  'pixel529',\n",
              "  'pixel530',\n",
              "  'pixel531',\n",
              "  'pixel532',\n",
              "  'pixel533',\n",
              "  'pixel534',\n",
              "  'pixel535',\n",
              "  'pixel536',\n",
              "  'pixel537',\n",
              "  'pixel538',\n",
              "  'pixel539',\n",
              "  'pixel540',\n",
              "  'pixel541',\n",
              "  'pixel542',\n",
              "  'pixel543',\n",
              "  'pixel544',\n",
              "  'pixel545',\n",
              "  'pixel546',\n",
              "  'pixel547',\n",
              "  'pixel548',\n",
              "  'pixel549',\n",
              "  'pixel550',\n",
              "  'pixel551',\n",
              "  'pixel552',\n",
              "  'pixel553',\n",
              "  'pixel554',\n",
              "  'pixel555',\n",
              "  'pixel556',\n",
              "  'pixel557',\n",
              "  'pixel558',\n",
              "  'pixel559',\n",
              "  'pixel560',\n",
              "  'pixel561',\n",
              "  'pixel562',\n",
              "  'pixel563',\n",
              "  'pixel564',\n",
              "  'pixel565',\n",
              "  'pixel566',\n",
              "  'pixel567',\n",
              "  'pixel568',\n",
              "  'pixel569',\n",
              "  'pixel570',\n",
              "  'pixel571',\n",
              "  'pixel572',\n",
              "  'pixel573',\n",
              "  'pixel574',\n",
              "  'pixel575',\n",
              "  'pixel576',\n",
              "  'pixel577',\n",
              "  'pixel578',\n",
              "  'pixel579',\n",
              "  'pixel580',\n",
              "  'pixel581',\n",
              "  'pixel582',\n",
              "  'pixel583',\n",
              "  'pixel584',\n",
              "  'pixel585',\n",
              "  'pixel586',\n",
              "  'pixel587',\n",
              "  'pixel588',\n",
              "  'pixel589',\n",
              "  'pixel590',\n",
              "  'pixel591',\n",
              "  'pixel592',\n",
              "  'pixel593',\n",
              "  'pixel594',\n",
              "  'pixel595',\n",
              "  'pixel596',\n",
              "  'pixel597',\n",
              "  'pixel598',\n",
              "  'pixel599',\n",
              "  'pixel600',\n",
              "  'pixel601',\n",
              "  'pixel602',\n",
              "  'pixel603',\n",
              "  'pixel604',\n",
              "  'pixel605',\n",
              "  'pixel606',\n",
              "  'pixel607',\n",
              "  'pixel608',\n",
              "  'pixel609',\n",
              "  'pixel610',\n",
              "  'pixel611',\n",
              "  'pixel612',\n",
              "  'pixel613',\n",
              "  'pixel614',\n",
              "  'pixel615',\n",
              "  'pixel616',\n",
              "  'pixel617',\n",
              "  'pixel618',\n",
              "  'pixel619',\n",
              "  'pixel620',\n",
              "  'pixel621',\n",
              "  'pixel622',\n",
              "  'pixel623',\n",
              "  'pixel624',\n",
              "  'pixel625',\n",
              "  'pixel626',\n",
              "  'pixel627',\n",
              "  'pixel628',\n",
              "  'pixel629',\n",
              "  'pixel630',\n",
              "  'pixel631',\n",
              "  'pixel632',\n",
              "  'pixel633',\n",
              "  'pixel634',\n",
              "  'pixel635',\n",
              "  'pixel636',\n",
              "  'pixel637',\n",
              "  'pixel638',\n",
              "  'pixel639',\n",
              "  'pixel640',\n",
              "  'pixel641',\n",
              "  'pixel642',\n",
              "  'pixel643',\n",
              "  'pixel644',\n",
              "  'pixel645',\n",
              "  'pixel646',\n",
              "  'pixel647',\n",
              "  'pixel648',\n",
              "  'pixel649',\n",
              "  'pixel650',\n",
              "  'pixel651',\n",
              "  'pixel652',\n",
              "  'pixel653',\n",
              "  'pixel654',\n",
              "  'pixel655',\n",
              "  'pixel656',\n",
              "  'pixel657',\n",
              "  'pixel658',\n",
              "  'pixel659',\n",
              "  'pixel660',\n",
              "  'pixel661',\n",
              "  'pixel662',\n",
              "  'pixel663',\n",
              "  'pixel664',\n",
              "  'pixel665',\n",
              "  'pixel666',\n",
              "  'pixel667',\n",
              "  'pixel668',\n",
              "  'pixel669',\n",
              "  'pixel670',\n",
              "  'pixel671',\n",
              "  'pixel672',\n",
              "  'pixel673',\n",
              "  'pixel674',\n",
              "  'pixel675',\n",
              "  'pixel676',\n",
              "  'pixel677',\n",
              "  'pixel678',\n",
              "  'pixel679',\n",
              "  'pixel680',\n",
              "  'pixel681',\n",
              "  'pixel682',\n",
              "  'pixel683',\n",
              "  'pixel684',\n",
              "  'pixel685',\n",
              "  'pixel686',\n",
              "  'pixel687',\n",
              "  'pixel688',\n",
              "  'pixel689',\n",
              "  'pixel690',\n",
              "  'pixel691',\n",
              "  'pixel692',\n",
              "  'pixel693',\n",
              "  'pixel694',\n",
              "  'pixel695',\n",
              "  'pixel696',\n",
              "  'pixel697',\n",
              "  'pixel698',\n",
              "  'pixel699',\n",
              "  'pixel700',\n",
              "  'pixel701',\n",
              "  'pixel702',\n",
              "  'pixel703',\n",
              "  'pixel704',\n",
              "  'pixel705',\n",
              "  'pixel706',\n",
              "  'pixel707',\n",
              "  'pixel708',\n",
              "  'pixel709',\n",
              "  'pixel710',\n",
              "  'pixel711',\n",
              "  'pixel712',\n",
              "  'pixel713',\n",
              "  'pixel714',\n",
              "  'pixel715',\n",
              "  'pixel716',\n",
              "  'pixel717',\n",
              "  'pixel718',\n",
              "  'pixel719',\n",
              "  'pixel720',\n",
              "  'pixel721',\n",
              "  'pixel722',\n",
              "  'pixel723',\n",
              "  'pixel724',\n",
              "  'pixel725',\n",
              "  'pixel726',\n",
              "  'pixel727',\n",
              "  'pixel728',\n",
              "  'pixel729',\n",
              "  'pixel730',\n",
              "  'pixel731',\n",
              "  'pixel732',\n",
              "  'pixel733',\n",
              "  'pixel734',\n",
              "  'pixel735',\n",
              "  'pixel736',\n",
              "  'pixel737',\n",
              "  'pixel738',\n",
              "  'pixel739',\n",
              "  'pixel740',\n",
              "  'pixel741',\n",
              "  'pixel742',\n",
              "  'pixel743',\n",
              "  'pixel744',\n",
              "  'pixel745',\n",
              "  'pixel746',\n",
              "  'pixel747',\n",
              "  'pixel748',\n",
              "  'pixel749',\n",
              "  'pixel750',\n",
              "  'pixel751',\n",
              "  'pixel752',\n",
              "  'pixel753',\n",
              "  'pixel754',\n",
              "  'pixel755',\n",
              "  'pixel756',\n",
              "  'pixel757',\n",
              "  'pixel758',\n",
              "  'pixel759',\n",
              "  'pixel760',\n",
              "  'pixel761',\n",
              "  'pixel762',\n",
              "  'pixel763',\n",
              "  'pixel764',\n",
              "  'pixel765',\n",
              "  'pixel766',\n",
              "  'pixel767',\n",
              "  'pixel768',\n",
              "  'pixel769',\n",
              "  'pixel770',\n",
              "  'pixel771',\n",
              "  'pixel772',\n",
              "  'pixel773',\n",
              "  'pixel774',\n",
              "  'pixel775',\n",
              "  'pixel776',\n",
              "  'pixel777',\n",
              "  'pixel778',\n",
              "  'pixel779',\n",
              "  'pixel780',\n",
              "  'pixel781',\n",
              "  'pixel782',\n",
              "  'pixel783',\n",
              "  'pixel784'],\n",
              " 'frame': None,\n",
              " 'target': array(['5', '0', '4', ..., '4', '5', '6'], dtype=object),\n",
              " 'target_names': ['class'],\n",
              " 'url': 'https://www.openml.org/d/554'}"
            ]
          },
          "execution_count": 3,
          "metadata": {},
          "output_type": "execute_result"
        }
      ],
      "source": [
        "mnist"
      ]
    },
    {
      "cell_type": "code",
      "execution_count": null,
      "metadata": {
        "id": "NqrikuaULwU-"
      },
      "outputs": [],
      "source": [
        "X, y = mnist[\"data\"], mnist [\"target\"]"
      ]
    },
    {
      "cell_type": "code",
      "execution_count": null,
      "metadata": {
        "id": "sZNdfFejptTv"
      },
      "outputs": [],
      "source": [
        "X, y = mnist[\"data\"], mnist [\"target\"]"
      ]
    },
    {
      "cell_type": "code",
      "execution_count": null,
      "metadata": {
        "colab": {
          "base_uri": "https://localhost:8080/"
        },
        "id": "CdwrKe6DL48w",
        "outputId": "f7e1f799-9b43-4a8f-d8b9-18aa3a2d1594"
      },
      "outputs": [
        {
          "data": {
            "text/plain": [
              "(70000, 784)"
            ]
          },
          "execution_count": 31,
          "metadata": {
            "tags": []
          },
          "output_type": "execute_result"
        }
      ],
      "source": [
        "X.shape"
      ]
    },
    {
      "cell_type": "code",
      "execution_count": null,
      "metadata": {
        "colab": {
          "base_uri": "https://localhost:8080/"
        },
        "id": "f1P3BWeaTovz",
        "outputId": "dd412e2d-fb0a-4d09-b206-4c0415847975"
      },
      "outputs": [
        {
          "data": {
            "text/plain": [
              "(70000, 784)"
            ]
          },
          "execution_count": 5,
          "metadata": {},
          "output_type": "execute_result"
        }
      ],
      "source": [
        "X.shape"
      ]
    },
    {
      "cell_type": "code",
      "execution_count": null,
      "metadata": {
        "colab": {
          "base_uri": "https://localhost:8080/"
        },
        "id": "ZuY_bU4VL8RP",
        "outputId": "92d843e4-0521-43ad-df51-a10cf83bf478"
      },
      "outputs": [
        {
          "data": {
            "text/plain": [
              "(70000,)"
            ]
          },
          "execution_count": 32,
          "metadata": {
            "tags": []
          },
          "output_type": "execute_result"
        }
      ],
      "source": [
        "y.shape"
      ]
    },
    {
      "cell_type": "code",
      "execution_count": null,
      "metadata": {
        "colab": {
          "base_uri": "https://localhost:8080/"
        },
        "id": "cORN6pdsp4k5",
        "outputId": "03bde317-121e-4a5f-8eca-a32e3d80c1d9"
      },
      "outputs": [
        {
          "data": {
            "text/plain": [
              "(70000,)"
            ]
          },
          "execution_count": 6,
          "metadata": {},
          "output_type": "execute_result"
        }
      ],
      "source": [
        "y.shape"
      ]
    },
    {
      "cell_type": "code",
      "execution_count": null,
      "metadata": {
        "colab": {
          "base_uri": "https://localhost:8080/",
          "height": 283
        },
        "id": "Q8fopvC5MBKh",
        "outputId": "fd76055f-106e-41ed-b34d-21742d8022c4"
      },
      "outputs": [
        {
          "data": {
            "text/plain": [
              "<matplotlib.image.AxesImage at 0x7f3ee675bc90>"
            ]
          },
          "execution_count": 33,
          "metadata": {
            "tags": []
          },
          "output_type": "execute_result"
        },
        {
          "data": {
            "image/png": "[encoded data removed]",
            "text/plain": [
              "<Figure size 432x288 with 1 Axes>"
            ]
          },
          "metadata": {
            "tags": []
          },
          "output_type": "display_data"
        }
      ],
      "source": [
        "%matplotlib inline\n",
        "import matplotlib\n",
        "import matplotlib.pyplot as plt\n",
        "some_digit = X[36000]\n",
        "some_digit_image = some_digit.reshape(28,28)\n",
        "plt.imshow(some_digit_image,cmap=matplotlib.cm.binary,interpolation=\"nearest\")"
      ]
    },
    {
      "cell_type": "code",
      "execution_count": null,
      "metadata": {
        "colab": {
          "base_uri": "https://localhost:8080/",
          "height": 282
        },
        "id": "BG8v7pI1qIyT",
        "outputId": "37089e90-c32c-45b1-fd45-b2ebdfb6db9f"
      },
      "outputs": [
        {
          "data": {
            "text/plain": [
              "<matplotlib.image.AxesImage at 0x7fb9ba1b8510>"
            ]
          },
          "execution_count": 7,
          "metadata": {},
          "output_type": "execute_result"
        },
        {
          "data": {
            "image/png": "[encoded data removed]",
            "text/plain": [
              "<Figure size 432x288 with 1 Axes>"
            ]
          },
          "metadata": {},
          "output_type": "display_data"
        }
      ],
      "source": [
        "%matplotlib inline\n",
        "import matplotlib\n",
        "import matplotlib.pyplot as plt\n",
        "some_digit = X[36000]\n",
        "some_digit_image = some_digit.reshape(28,28)\n",
        "plt.imshow(some_digit_image,cmap=matplotlib.cm.binary,interpolation=\"nearest\")"
      ]
    },
    {
      "cell_type": "markdown",
      "metadata": {
        "id": "_xP2CEHFMoYN"
      },
      "source": [
        "### 2.2 Premier apprentissage\n",
        "Nous sélectionnons 60 000 exemples pour l’apprentissage et 10 000 pour le test (la base MNIST est organisée de cette manière).\n",
        "\n",
        "Pour les tests à venir, il est important de garantir que les exemples sont aléatoirement répartis dans la base d’apprentissage afin que tout tirage d’un sous-ensemble comporte à peu près la même proportion de chaque chiffre."
      ]
    },
    {
      "cell_type": "code",
      "execution_count": null,
      "metadata": {
        "id": "gOayQ7pnM1TX"
      },
      "outputs": [],
      "source": [
        "X_train , X_test , y_train , y_test = X[:60000] , X[60000:] , y [:60000] , y [60000:]"
      ]
    },
    {
      "cell_type": "code",
      "execution_count": null,
      "metadata": {
        "id": "mfOUj86StPqT"
      },
      "outputs": [],
      "source": [
        "X_train, X_test, y_train, y_test = X[:60000], X[60000:], y [:60000], y [60000:]"
      ]
    },
    {
      "cell_type": "code",
      "execution_count": null,
      "metadata": {
        "id": "X4qNsVAVNDwv"
      },
      "outputs": [],
      "source": [
        "shuffle_index = np.random.permutation(60000)"
      ]
    },
    {
      "cell_type": "code",
      "execution_count": null,
      "metadata": {
        "id": "wJ5n_j1hte6D"
      },
      "outputs": [],
      "source": [
        "shuffle_index = np.random.permutation(60000)"
      ]
    },
    {
      "cell_type": "code",
      "execution_count": null,
      "metadata": {
        "id": "x3MvpQbvNQs0"
      },
      "outputs": [],
      "source": [
        "X_train , y_train = X_train[shuffle_index], y_train[shuffle_index]"
      ]
    },
    {
      "cell_type": "code",
      "execution_count": null,
      "metadata": {
        "id": "VF1WYdlLtnju"
      },
      "outputs": [],
      "source": [
        "X_train , y_train = X_train[shuffle_index], y_train[shuffle_index]"
      ]
    },
    {
      "cell_type": "markdown",
      "metadata": {
        "id": "fz9EsUgRfQMs"
      },
      "source": [
        "\n",
        "\n",
        "Nous allons d’abord apprendre des classifieurs binaires, à deux classes. Ici, nous choisissons\n",
        "d’entraîner un classifieur à apprendre à reconnaître les 5 contre tous les autres chiffres.\n",
        "\n"
      ]
    },
    {
      "cell_type": "code",
      "execution_count": null,
      "metadata": {
        "id": "GaO2AYJoeI-o"
      },
      "outputs": [],
      "source": [
        "y_train = np.array(list(map(int,y_train)))\n",
        "y_test=np.array(list(map(int,y_test)))"
      ]
    },
    {
      "cell_type": "code",
      "execution_count": null,
      "metadata": {
        "id": "USAzlrestzdc"
      },
      "outputs": [],
      "source": [
        "y_train = np.array(list(map(int,y_train)))\n",
        "y_test=np.array(list(map(int,y_test)))"
      ]
    },
    {
      "cell_type": "code",
      "execution_count": null,
      "metadata": {
        "id": "pbiaQ-9hdeQJ"
      },
      "outputs": [],
      "source": [
        "y_train_5 = ( y_train == 5)\n",
        "y_test_5=(y_test==5)"
      ]
    },
    {
      "cell_type": "code",
      "execution_count": null,
      "metadata": {
        "id": "WPwHRlPOuHf_"
      },
      "outputs": [],
      "source": [
        "y_train_5 = ( y_train == 5)\n",
        "y_test_5=(y_test==5)"
      ]
    },
    {
      "cell_type": "code",
      "execution_count": null,
      "metadata": {
        "colab": {
          "base_uri": "https://localhost:8080/"
        },
        "id": "UpEwmmh0d4L6",
        "outputId": "296b6954-3177-413a-f68a-23a860e42d18"
      },
      "outputs": [
        {
          "data": {
            "text/plain": [
              "5421"
            ]
          },
          "execution_count": 39,
          "metadata": {
            "tags": []
          },
          "output_type": "execute_result"
        }
      ],
      "source": [
        "sum(y_train_5)"
      ]
    },
    {
      "cell_type": "code",
      "execution_count": null,
      "metadata": {
        "colab": {
          "base_uri": "https://localhost:8080/"
        },
        "id": "Ja94vHZ7uvyT",
        "outputId": "f49766a5-d288-4aaa-93ac-e90b93ae5aa5"
      },
      "outputs": [
        {
          "data": {
            "text/plain": [
              "5421"
            ]
          },
          "execution_count": 13,
          "metadata": {},
          "output_type": "execute_result"
        }
      ],
      "source": [
        "sum(y_train_5)"
      ]
    },
    {
      "cell_type": "markdown",
      "metadata": {
        "id": "wcCOTjQnN3DF"
      },
      "source": [
        "Nous avons chargé un classifieur linéaire binaire avec descente de gradient stochastique.\n",
        "\n",
        "Ici, par défaut, l’apprentissage s’arrête après 1000 itérations maximum ou bien quand la progression de l’erreur d’apprentissage d’une itération à la suivante vaut moins que $10^{-3}$.\n",
        "Voir l’url :\n",
        "https://scikit-learn.org/stable/modules/generated/sklearn.linear_model.SGDClassifier.html\n",
        "pour les détails du paramétrage de cette fonction.\n",
        "\n",
        "Nous entrainons ensuite le classifieur sur les données d’apprentissage, et nous le testons sur\n",
        "l’exemple de 9 déjà vu (some_digit)."
      ]
    },
    {
      "cell_type": "code",
      "execution_count": null,
      "metadata": {
        "colab": {
          "base_uri": "https://localhost:8080/"
        },
        "id": "t_COUkhjT4cv",
        "outputId": "1fac8c98-76e8-4803-d9ec-0a22066a2f3b"
      },
      "outputs": [
        {
          "data": {
            "text/plain": [
              "SGDClassifier(alpha=0.0001, average=False, class_weight=None,\n",
              "              early_stopping=False, epsilon=0.1, eta0=0.0, fit_intercept=True,\n",
              "              l1_ratio=0.15, learning_rate='optimal', loss='hinge',\n",
              "              max_iter=1000, n_iter_no_change=5, n_jobs=None, penalty='l2',\n",
              "              power_t=0.5, random_state=42, shuffle=True, tol=0.001,\n",
              "              validation_fraction=0.1, verbose=0, warm_start=False)"
            ]
          },
          "execution_count": 40,
          "metadata": {
            "tags": []
          },
          "output_type": "execute_result"
        }
      ],
      "source": [
        "from sklearn.linear_model import SGDClassifier\n",
        " \n",
        "sgd_clf = SGDClassifier(random_state=42)\n",
        "sgd_clf.fit(X_train, y_train_5)"
      ]
    },
    {
      "cell_type": "code",
      "execution_count": null,
      "metadata": {
        "colab": {
          "base_uri": "https://localhost:8080/"
        },
        "id": "F7TG0xGRu35k",
        "outputId": "f919460a-d383-4638-a65d-4625dbf341c3"
      },
      "outputs": [
        {
          "data": {
            "text/plain": [
              "SGDClassifier(alpha=0.0001, average=False, class_weight=None,\n",
              "              early_stopping=False, epsilon=0.1, eta0=0.0, fit_intercept=True,\n",
              "              l1_ratio=0.15, learning_rate='optimal', loss='hinge',\n",
              "              max_iter=1000, n_iter_no_change=5, n_jobs=None, penalty='l2',\n",
              "              power_t=0.5, random_state=42, shuffle=True, tol=0.001,\n",
              "              validation_fraction=0.1, verbose=0, warm_start=False)"
            ]
          },
          "execution_count": 14,
          "metadata": {},
          "output_type": "execute_result"
        }
      ],
      "source": [
        "from sklearn.linear_model import SGDClassifier\n",
        "\n",
        "sgd_clf = SGDClassifier(random_state=42)\n",
        "sgd_clf.fit(X_train, y_train_5)"
      ]
    },
    {
      "cell_type": "markdown",
      "metadata": {
        "id": "lMfiE22AzXMy"
      },
      "source": [
        "### Évaluation des performances"
      ]
    },
    {
      "cell_type": "markdown",
      "metadata": {
        "id": "J-thvFv-y_aW"
      },
      "source": [
        "La méthode laplus simple est de calculer l'accuracy du modèle"
      ]
    },
    {
      "cell_type": "code",
      "execution_count": null,
      "metadata": {
        "colab": {
          "base_uri": "https://localhost:8080/"
        },
        "id": "WK9VJJhgQx65",
        "outputId": "3bec062c-9de1-4d82-9e38-4c8112aa11af"
      },
      "outputs": [
        {
          "data": {
            "text/plain": [
              "array([False])"
            ]
          },
          "execution_count": 41,
          "metadata": {
            "tags": []
          },
          "output_type": "execute_result"
        }
      ],
      "source": [
        "sgd_clf.predict([some_digit] )\n"
      ]
    },
    {
      "cell_type": "code",
      "execution_count": null,
      "metadata": {
        "colab": {
          "base_uri": "https://localhost:8080/"
        },
        "id": "aXSL6lEgnVo-",
        "outputId": "28cff167-2644-4dc1-85a4-44d271c9d3cc"
      },
      "outputs": [
        {
          "data": {
            "text/plain": [
              "array([False])"
            ]
          },
          "execution_count": 15,
          "metadata": {},
          "output_type": "execute_result"
        }
      ],
      "source": [
        "sgd_clf.predict([some_digit])"
      ]
    },
    {
      "cell_type": "markdown",
      "metadata": {
        "id": "nQLAe1V3zmBC"
      },
      "source": [
        "Une méthode courante d’évaluation d’un apprentissage supervisé de concept est la validation\n",
        "croisée. Ici, nous utilisons une validation croisée à trois plis. Une valeur courante est 10 plis.\n",
        "La fonction *cross_val_score* calcule les erreurs associées à chaque pli. Vous pouvez ensuite en\n",
        "calculer la moyenne."
      ]
    },
    {
      "cell_type": "code",
      "execution_count": null,
      "metadata": {
        "colab": {
          "base_uri": "https://localhost:8080/"
        },
        "id": "mLR52TvfghjD",
        "outputId": "b6fcd675-b4da-4e7a-e085-f0587cadbccd"
      },
      "outputs": [
        {
          "data": {
            "text/plain": [
              "array([0.9691, 0.9518, 0.955 ])"
            ]
          },
          "execution_count": 42,
          "metadata": {
            "tags": []
          },
          "output_type": "execute_result"
        }
      ],
      "source": [
        "from sklearn.model_selection import cross_val_score\n",
        "\n",
        "cross_val_score(sgd_clf, X_train, y_train_5, cv=3, scoring=\"accuracy\")"
      ]
    },
    {
      "cell_type": "code",
      "execution_count": null,
      "metadata": {
        "colab": {
          "base_uri": "https://localhost:8080/"
        },
        "id": "VO8Bhi8NvjZ2",
        "outputId": "7680c2f8-b2ca-4e2c-bf4c-ca6ff5f001eb"
      },
      "outputs": [
        {
          "data": {
            "text/plain": [
              "array([0.9635 , 0.96535, 0.9633 ])"
            ]
          },
          "execution_count": 16,
          "metadata": {},
          "output_type": "execute_result"
        }
      ],
      "source": [
        "from sklearn.model_selection import cross_val_score\n",
        "\n",
        "cross_val_score(sgd_clf, X_train, y_train_5, cv=3, scoring=\"accuracy\")"
      ]
    },
    {
      "cell_type": "markdown",
      "metadata": {
        "id": "q6nj4GkXgrjY"
      },
      "source": [
        "Ces taux de bonne prédiction paraissent tout à fait impressionnants pour un apprentissage par\n",
        "une méthode linéaire.\n",
        "\n",
        "_Mais que ferait un classifieur qui se contenterait de toujours prédire not 5 ?_"
      ]
    },
    {
      "cell_type": "code",
      "execution_count": null,
      "metadata": {
        "id": "neHflvBfgxfm"
      },
      "outputs": [],
      "source": [
        "from sklearn.base import BaseEstimator\n",
        "\n",
        "class Never5Classifier(BaseEstimator):\n",
        "  def fit(self,X, y=None):\n",
        "    pass\n",
        "  \n",
        "  def predict(self, X):\n",
        "    return np.zeros((len(X),1), dtype=bool)"
      ]
    },
    {
      "cell_type": "code",
      "execution_count": null,
      "metadata": {
        "id": "srI013tmv6Z-"
      },
      "outputs": [],
      "source": [
        "from sklearn.base import BaseEstimator\n",
        "\n",
        "class Never5Classifier(BaseEstimator):\n",
        "  def fit(self,X, y=None):\n",
        "    pass\n",
        "\n",
        "  def predict(self, X):\n",
        "    return np.zeros((len(X),1), dtype=bool)"
      ]
    },
    {
      "cell_type": "code",
      "execution_count": null,
      "metadata": {
        "colab": {
          "base_uri": "https://localhost:8080/"
        },
        "id": "f5tvvkFRhrYU",
        "outputId": "e34572c0-4628-4a62-ade0-308e4ba85b3e"
      },
      "outputs": [
        {
          "data": {
            "text/plain": [
              "array([0.9111 , 0.91095, 0.9069 ])"
            ]
          },
          "execution_count": 44,
          "metadata": {
            "tags": []
          },
          "output_type": "execute_result"
        }
      ],
      "source": [
        "never_5_clf = Never5Classifier()\n",
        "y_train_pred=cross_val_score(never_5_clf, X_train, y_train_5 , cv=3, scoring=\"accuracy\")\n",
        "y_train_pred"
      ]
    },
    {
      "cell_type": "code",
      "execution_count": null,
      "metadata": {
        "colab": {
          "base_uri": "https://localhost:8080/"
        },
        "id": "MjKSF7-IxEg4",
        "outputId": "cf659ac9-0cf4-4cea-ca44-e7f1ea9ad672"
      },
      "outputs": [
        {
          "data": {
            "text/plain": [
              "array([0.09765, 0.10025, 0.09825])"
            ]
          },
          "execution_count": 18,
          "metadata": {},
          "output_type": "execute_result"
        }
      ],
      "source": [
        "never_5_clf = Never5Classifier()\n",
        "y_train_pred=cross_val_score(never_5_clf, X_train, y_train , cv=3, scoring=\"accuracy\")\n",
        "y_train_pred"
      ]
    },
    {
      "cell_type": "markdown",
      "metadata": {
        "id": "qurQepCViCQd"
      },
      "source": [
        "*Pas* très étonnant. Mais cela relativise la performance apparemment excellente du classifieur\n",
        "linéaire !"
      ]
    },
    {
      "cell_type": "markdown",
      "metadata": {
        "id": "BwAFd7VqeVQ5"
      },
      "source": [
        "###Matrice de confusion"
      ]
    },
    {
      "cell_type": "code",
      "execution_count": null,
      "metadata": {
        "id": "xNcBAKP50o0n"
      },
      "outputs": [],
      "source": [
        "from sklearn.model_selection import cross_val_predict\n",
        "y_train_pred = cross_val_predict(sgd_clf,X_train , y_train_5 , cv=3)"
      ]
    },
    {
      "cell_type": "code",
      "execution_count": null,
      "metadata": {
        "id": "127ascvqxt3n"
      },
      "outputs": [],
      "source": [
        "from sklearn.model_selection import cross_val_predict\n",
        "y_train_pred = cross_val_predict(sgd_clf,X_train , y_train_5 , cv=3)"
      ]
    },
    {
      "cell_type": "code",
      "execution_count": null,
      "metadata": {
        "colab": {
          "base_uri": "https://localhost:8080/"
        },
        "id": "34Clckloebw8",
        "outputId": "a9f5d0c3-a571-4d63-ad98-0cd788f3fd35"
      },
      "outputs": [
        {
          "data": {
            "text/plain": [
              "array([[53891,   688],\n",
              "       [ 1469,  3952]])"
            ]
          },
          "execution_count": 25,
          "metadata": {
            "tags": []
          },
          "output_type": "execute_result"
        }
      ],
      "source": [
        "from sklearn.metrics import confusion_matrix\n",
        "cm=confusion_matrix(y_train_5, y_train_pred)\n",
        "cm"
      ]
    },
    {
      "cell_type": "code",
      "execution_count": null,
      "metadata": {
        "colab": {
          "base_uri": "https://localhost:8080/"
        },
        "id": "zi0M9tXJyDoK",
        "outputId": "eba82ba8-e1a6-48ba-c255-cab978f334c3"
      },
      "outputs": [
        {
          "data": {
            "text/plain": [
              "array([[53963,   616],\n",
              "       [ 1541,  3880]])"
            ]
          },
          "execution_count": 20,
          "metadata": {},
          "output_type": "execute_result"
        }
      ],
      "source": [
        "from sklearn.metrics import confusion_matrix\n",
        "cm=confusion_matrix(y_train_5, y_train_pred)\n",
        "cm"
      ]
    },
    {
      "cell_type": "markdown",
      "metadata": {
        "id": "RgVd2L4me9Sb"
      },
      "source": [
        "Puis celle que l’on obtiendrait avec un classifieur parfait (qui prédit la classe donnée par la base\n",
        "d’exemples)."
      ]
    },
    {
      "cell_type": "code",
      "execution_count": null,
      "metadata": {
        "colab": {
          "base_uri": "https://localhost:8080/"
        },
        "id": "ST5puhShe-WX",
        "outputId": "97e9f347-a248-42c0-944e-49b263a6a143"
      },
      "outputs": [
        {
          "data": {
            "text/plain": [
              "array([[54579,     0],\n",
              "       [    0,  5421]])"
            ]
          },
          "execution_count": 50,
          "metadata": {
            "tags": []
          },
          "output_type": "execute_result"
        }
      ],
      "source": [
        "y_train_perfect_predictions = y_train_5\n",
        "confusion_matrix(y_train_5, y_train_perfect_predictions)"
      ]
    },
    {
      "cell_type": "code",
      "execution_count": null,
      "metadata": {
        "colab": {
          "base_uri": "https://localhost:8080/"
        },
        "id": "IcQw99AF0zLQ",
        "outputId": "d381eade-1faf-439d-b1b9-83a8c035c1d1"
      },
      "outputs": [
        {
          "data": {
            "text/plain": [
              "array([[54579,     0],\n",
              "       [    0,  5421]])"
            ]
          },
          "execution_count": 21,
          "metadata": {},
          "output_type": "execute_result"
        }
      ],
      "source": [
        "y_train_perfect_predictions = y_train_5\n",
        "confusion_matrix(y_train_5, y_train_perfect_predictions)"
      ]
    },
    {
      "cell_type": "markdown",
      "metadata": {
        "id": "VBEdGS7hfL7K"
      },
      "source": [
        "###Précision et rappel"
      ]
    },
    {
      "cell_type": "code",
      "execution_count": null,
      "metadata": {
        "id": "2_A5mnTDfPYQ"
      },
      "outputs": [],
      "source": [
        "from sklearn.metrics import precision_score, recall_score"
      ]
    },
    {
      "cell_type": "code",
      "execution_count": null,
      "metadata": {
        "id": "0rLlJExs1JKw"
      },
      "outputs": [],
      "source": [
        "from sklearn.metrics import precision_score, recall_score"
      ]
    },
    {
      "cell_type": "code",
      "execution_count": null,
      "metadata": {
        "colab": {
          "base_uri": "https://localhost:8080/"
        },
        "id": "gn54qP_WfYKr",
        "outputId": "390aff37-ca78-4521-bd67-c7f80945fdec"
      },
      "outputs": [
        {
          "data": {
            "text/plain": [
              "0.7445498419038109"
            ]
          },
          "execution_count": 54,
          "metadata": {
            "tags": []
          },
          "output_type": "execute_result"
        }
      ],
      "source": [
        "precision_score(y_train_5, y_train_pred)"
      ]
    },
    {
      "cell_type": "code",
      "execution_count": null,
      "metadata": {
        "colab": {
          "base_uri": "https://localhost:8080/"
        },
        "id": "pvYnE1Wu1P0W",
        "outputId": "db6fd72e-2180-4b12-ca9e-82a7d855dd1d"
      },
      "outputs": [
        {
          "data": {
            "text/plain": [
              "0.8629893238434164"
            ]
          },
          "execution_count": 23,
          "metadata": {},
          "output_type": "execute_result"
        }
      ],
      "source": [
        "precision_score(y_train_5, y_train_pred)"
      ]
    },
    {
      "cell_type": "code",
      "execution_count": null,
      "metadata": {
        "colab": {
          "base_uri": "https://localhost:8080/"
        },
        "id": "fworVtzzfhe-",
        "outputId": "3be907f8-54a2-4d3c-aa48-b6582e8ab0c2"
      },
      "outputs": [
        {
          "data": {
            "text/plain": [
              "0.8253089835823649"
            ]
          },
          "execution_count": 55,
          "metadata": {
            "tags": []
          },
          "output_type": "execute_result"
        }
      ],
      "source": [
        "recall_score(y_train_5, y_train_pred)"
      ]
    },
    {
      "cell_type": "code",
      "execution_count": null,
      "metadata": {
        "colab": {
          "base_uri": "https://localhost:8080/"
        },
        "id": "w_EBqDxe1Xcg",
        "outputId": "0b340986-e4b4-41ff-fbf5-219275ffc5e5"
      },
      "outputs": [
        {
          "data": {
            "text/plain": [
              "0.7157351042243129"
            ]
          },
          "execution_count": 24,
          "metadata": {},
          "output_type": "execute_result"
        }
      ],
      "source": [
        "recall_score(y_train_5, y_train_pred)"
      ]
    },
    {
      "cell_type": "code",
      "execution_count": null,
      "metadata": {
        "id": "N3hE77iqfq8O"
      },
      "outputs": [],
      "source": [
        "from sklearn.metrics import f1_score"
      ]
    },
    {
      "cell_type": "code",
      "execution_count": null,
      "metadata": {
        "id": "EaAMLUJp1fnh"
      },
      "outputs": [],
      "source": [
        "from sklearn.metrics import f1_score"
      ]
    },
    {
      "cell_type": "code",
      "execution_count": null,
      "metadata": {
        "colab": {
          "base_uri": "https://localhost:8080/"
        },
        "id": "BPWUikhvfw1C",
        "outputId": "1240d07b-579f-4b9a-be98-d0f6812c14ce"
      },
      "outputs": [
        {
          "data": {
            "text/plain": [
              "0.7828521434820647"
            ]
          },
          "execution_count": 57,
          "metadata": {
            "tags": []
          },
          "output_type": "execute_result"
        }
      ],
      "source": [
        "f1_score(y_train_5,y_train_pred)"
      ]
    },
    {
      "cell_type": "code",
      "execution_count": null,
      "metadata": {
        "colab": {
          "base_uri": "https://localhost:8080/"
        },
        "id": "fIoRD_jj1jxe",
        "outputId": "7eedd1fa-929d-4429-f034-1b8360e743ba"
      },
      "outputs": [
        {
          "data": {
            "text/plain": [
              "0.7824947060603006"
            ]
          },
          "execution_count": 26,
          "metadata": {},
          "output_type": "execute_result"
        }
      ],
      "source": [
        "f1_score(y_train_5,y_train_pred)"
      ]
    },
    {
      "cell_type": "markdown",
      "metadata": {
        "id": "2pM91KX6f78u"
      },
      "source": [
        "### Le compromis précision vs. rappel"
      ]
    },
    {
      "cell_type": "code",
      "execution_count": null,
      "metadata": {
        "id": "iYF0K-dsgD1p"
      },
      "outputs": [],
      "source": [
        "y_scores = sgd_clf.decision_function([some_digit])"
      ]
    },
    {
      "cell_type": "code",
      "execution_count": null,
      "metadata": {
        "id": "4yWXck3V1tVX"
      },
      "outputs": [],
      "source": [
        "y_scores = sgd_clf.decision_function([some_digit])"
      ]
    },
    {
      "cell_type": "code",
      "execution_count": null,
      "metadata": {
        "colab": {
          "base_uri": "https://localhost:8080/"
        },
        "id": "4-VuFUC4gMCj",
        "outputId": "c37d6296-2962-46ce-f662-e79367c0edbf"
      },
      "outputs": [
        {
          "data": {
            "text/plain": [
              "array([-5649.33949197])"
            ]
          },
          "execution_count": 59,
          "metadata": {
            "tags": []
          },
          "output_type": "execute_result"
        }
      ],
      "source": [
        "y_scores"
      ]
    },
    {
      "cell_type": "code",
      "execution_count": null,
      "metadata": {
        "colab": {
          "base_uri": "https://localhost:8080/"
        },
        "id": "hmIYvru71139",
        "outputId": "1d50e404-49a1-4330-f748-ae68951107c2"
      },
      "outputs": [
        {
          "data": {
            "text/plain": [
              "array([-5652.38188902])"
            ]
          },
          "execution_count": 28,
          "metadata": {},
          "output_type": "execute_result"
        }
      ],
      "source": [
        "y_scores"
      ]
    },
    {
      "cell_type": "code",
      "execution_count": null,
      "metadata": {
        "id": "EUQWZimWgNgL"
      },
      "outputs": [],
      "source": [
        "threshold = 0"
      ]
    },
    {
      "cell_type": "code",
      "execution_count": null,
      "metadata": {
        "id": "dWfLgJjM3607"
      },
      "outputs": [],
      "source": [
        "threshold = 0"
      ]
    },
    {
      "cell_type": "code",
      "execution_count": null,
      "metadata": {
        "id": "9jX95bd6gPMw"
      },
      "outputs": [],
      "source": [
        "y_some_digit_pred =(y_scores> threshold)"
      ]
    },
    {
      "cell_type": "code",
      "execution_count": null,
      "metadata": {
        "id": "ZjxpT7Cl3_5C"
      },
      "outputs": [],
      "source": [
        "y_some_digit_pred =(y_scores> threshold)"
      ]
    },
    {
      "cell_type": "code",
      "execution_count": null,
      "metadata": {
        "colab": {
          "base_uri": "https://localhost:8080/"
        },
        "id": "veJ4Ee4ZgVT1",
        "outputId": "f97d03aa-2589-4af3-e2cf-55aa102484b4"
      },
      "outputs": [
        {
          "data": {
            "text/plain": [
              "array([False])"
            ]
          },
          "execution_count": 62,
          "metadata": {
            "tags": []
          },
          "output_type": "execute_result"
        }
      ],
      "source": [
        "y_some_digit_pred"
      ]
    },
    {
      "cell_type": "code",
      "execution_count": null,
      "metadata": {
        "colab": {
          "base_uri": "https://localhost:8080/"
        },
        "id": "AK9zLWpn4HVQ",
        "outputId": "ef25bbd4-403a-4293-b9e1-23cccc5915a2"
      },
      "outputs": [
        {
          "data": {
            "text/plain": [
              "array([False])"
            ]
          },
          "execution_count": 31,
          "metadata": {},
          "output_type": "execute_result"
        }
      ],
      "source": [
        "y_some_digit_pred"
      ]
    },
    {
      "cell_type": "code",
      "execution_count": null,
      "metadata": {
        "id": "KR7Sx6S5gV7d"
      },
      "outputs": [],
      "source": [
        " threshold = 210000"
      ]
    },
    {
      "cell_type": "code",
      "execution_count": null,
      "metadata": {
        "id": "WFBkg7ia4Kvf"
      },
      "outputs": [],
      "source": [
        "threshold = 210000"
      ]
    },
    {
      "cell_type": "code",
      "execution_count": null,
      "metadata": {
        "colab": {
          "base_uri": "https://localhost:8080/"
        },
        "id": "hi3lJEa6gej1",
        "outputId": "9bc8041f-e6dd-49eb-96fd-8ac90af15a9c"
      },
      "outputs": [
        {
          "data": {
            "text/plain": [
              "array([False])"
            ]
          },
          "execution_count": 64,
          "metadata": {
            "tags": []
          },
          "output_type": "execute_result"
        }
      ],
      "source": [
        "y_some_digit_pred = (y_scores > threshold)\n",
        "y_some_digit_pred"
      ]
    },
    {
      "cell_type": "code",
      "execution_count": null,
      "metadata": {
        "colab": {
          "base_uri": "https://localhost:8080/"
        },
        "id": "RgIvlzGh4NzZ",
        "outputId": "bc379fe7-f37c-4914-f2f8-0e2aa6ed7b8a"
      },
      "outputs": [
        {
          "data": {
            "text/plain": [
              "array([False])"
            ]
          },
          "execution_count": 33,
          "metadata": {},
          "output_type": "execute_result"
        }
      ],
      "source": [
        "y_some_digit_pred = (y_scores > threshold)\n",
        "y_some_digit_pred"
      ]
    },
    {
      "cell_type": "code",
      "execution_count": null,
      "metadata": {
        "id": "KR9fuZg8gt19"
      },
      "outputs": [],
      "source": [
        "\n",
        "y_scores=cross_val_predict(sgd_clf, X_train, y_train_5, cv=3, method=\"decision_function\")"
      ]
    },
    {
      "cell_type": "code",
      "execution_count": null,
      "metadata": {
        "id": "Fs2Kk34l4Vk-"
      },
      "outputs": [],
      "source": [
        "y_scores=cross_val_predict(sgd_clf, X_train, y_train_5, cv=3, method=\"decision_function\")"
      ]
    },
    {
      "cell_type": "code",
      "execution_count": null,
      "metadata": {
        "id": "ZpddsccmhDm5"
      },
      "outputs": [],
      "source": [
        "from sklearn.metrics import precision_recall_curve"
      ]
    },
    {
      "cell_type": "code",
      "execution_count": null,
      "metadata": {
        "id": "firD3hzF4qtn"
      },
      "outputs": [],
      "source": [
        "from sklearn.metrics import precision_recall_curve"
      ]
    },
    {
      "cell_type": "code",
      "execution_count": null,
      "metadata": {
        "colab": {
          "base_uri": "https://localhost:8080/"
        },
        "id": "2e7YOAFWhNJw",
        "outputId": "e2952c01-57e0-43e3-e54d-61d027f53bdb"
      },
      "outputs": [
        {
          "data": {
            "text/plain": [
              "(60000,)"
            ]
          },
          "execution_count": 67,
          "metadata": {
            "tags": []
          },
          "output_type": "execute_result"
        }
      ],
      "source": [
        "y_scores.shape"
      ]
    },
    {
      "cell_type": "code",
      "execution_count": null,
      "metadata": {
        "colab": {
          "base_uri": "https://localhost:8080/"
        },
        "id": "UqiXMutV4wSR",
        "outputId": "68f07930-5295-4960-d101-d56d77e6cc91"
      },
      "outputs": [
        {
          "data": {
            "text/plain": [
              "(60000,)"
            ]
          },
          "execution_count": 36,
          "metadata": {},
          "output_type": "execute_result"
        }
      ],
      "source": [
        "y_scores.shape"
      ]
    },
    {
      "cell_type": "code",
      "execution_count": null,
      "metadata": {
        "colab": {
          "base_uri": "https://localhost:8080/",
          "height": 171
        },
        "id": "r0zHGM9whUIY",
        "outputId": "062809bd-94ea-4d0c-fd05-86a9636f2801"
      },
      "outputs": [
        {
          "ename": "NameError",
          "evalue": "ignored",
          "output_type": "error",
          "traceback": [
            "\u001b[0;31m---------------------------------------------------------------------------\u001b[0m",
            "\u001b[0;31mNameError\u001b[0m                                 Traceback (most recent call last)",
            "\u001b[0;32m<ipython-input-68-9456f64bbad0>\u001b[0m in \u001b[0;36m<module>\u001b[0;34m()\u001b[0m\n\u001b[0;32m----> 1\u001b[0;31m \u001b[0mprecisions\u001b[0m\u001b[0;34m,\u001b[0m \u001b[0mrecalls\u001b[0m\u001b[0;34m,\u001b[0m \u001b[0mthresholds\u001b[0m \u001b[0;34m=\u001b[0m \u001b[0mprecision_recall_curve\u001b[0m\u001b[0;34m(\u001b[0m\u001b[0my_train_5\u001b[0m \u001b[0;34m,\u001b[0m \u001b[0mny_scores\u001b[0m\u001b[0;34m)\u001b[0m\u001b[0;34m\u001b[0m\u001b[0;34m\u001b[0m\u001b[0m\n\u001b[0m",
            "\u001b[0;31mNameError\u001b[0m: name 'ny_scores' is not defined"
          ]
        }
      ],
      "source": [
        "precisions, recalls, thresholds = precision_recall_curve(y_train_5 , ny_scores)"
      ]
    },
    {
      "cell_type": "code",
      "execution_count": null,
      "metadata": {
        "id": "m2UA8zS9472C"
      },
      "outputs": [],
      "source": [
        "precisions, recalls, thresholds = precision_recall_curve(y_train_5, y_scores)"
      ]
    },
    {
      "cell_type": "code",
      "execution_count": null,
      "metadata": {
        "id": "nYZPmBqghUZK"
      },
      "outputs": [],
      "source": [
        "def plot_precision_recall_vs_thresholds(precisions, recalls,thresholds):\n",
        "  plt.plot(thresholds, precisions[:-1],\"b--\", label=\"Precision\",linewidth=2)\n",
        "  plt.plot(thresholds, recalls[:-1],\"g--\", label=\"Recall\",linewidth=2)\n",
        "  plt.xlabel(\"Threshold\",fontsize =16)\n",
        "  plt.legend(loc=\"upper left\",fontsize=16)\n",
        "  plt.ylim([0,1])"
      ]
    },
    {
      "cell_type": "code",
      "execution_count": null,
      "metadata": {
        "id": "y6fmMtHM5FHs"
      },
      "outputs": [],
      "source": [
        "def plot_precision_recall_vs_thresholds(precisions, recalls,thresholds):\n",
        "  plt.plot(thresholds, precisions[:-1],\"b--\", label=\"Prediction\",linewidth=2)\n",
        "  plt.plot(thresholds, recalls[:-1],\"g--\", label=\"Recall\",linewidth=2)\n",
        "  plt.xlabel(\"Threshold\",fontsize =16)\n",
        "  plt.legend(loc=\"upper left\",fontsize=16)\n",
        "  plt.ylim([0,1])"
      ]
    },
    {
      "cell_type": "code",
      "execution_count": null,
      "metadata": {
        "id": "JmnOqTZjjEcn"
      },
      "outputs": [],
      "source": [
        "plt.figure(figsize=(8,4))"
      ]
    },
    {
      "cell_type": "code",
      "execution_count": null,
      "metadata": {
        "colab": {
          "base_uri": "https://localhost:8080/",
          "height": 50
        },
        "id": "hY60gp_S526B",
        "outputId": "7c803aad-a987-4a1b-df21-8916c3d9fdfe"
      },
      "outputs": [
        {
          "data": {
            "text/plain": [
              "<Figure size 576x288 with 0 Axes>"
            ]
          },
          "execution_count": 39,
          "metadata": {},
          "output_type": "execute_result"
        },
        {
          "data": {
            "text/plain": [
              "<Figure size 576x288 with 0 Axes>"
            ]
          },
          "metadata": {},
          "output_type": "display_data"
        }
      ],
      "source": [
        "plt.figure(figsize=(8,4))"
      ]
    },
    {
      "cell_type": "code",
      "execution_count": null,
      "metadata": {
        "id": "Jhpa5p7djObg"
      },
      "outputs": [],
      "source": [
        "plot_precision_recall_vs_thresholds(precisions, recalls,thresholds)"
      ]
    },
    {
      "cell_type": "code",
      "execution_count": null,
      "metadata": {
        "colab": {
          "base_uri": "https://localhost:8080/",
          "height": 288
        },
        "id": "cAFEbgb3584f",
        "outputId": "cb8d2f91-5388-4db3-c2f3-f996ad07980e"
      },
      "outputs": [
        {
          "data": {
            "image/png": "[encoded data removed]",
            "text/plain": [
              "<Figure size 432x288 with 1 Axes>"
            ]
          },
          "metadata": {},
          "output_type": "display_data"
        }
      ],
      "source": [
        "plot_precision_recall_vs_thresholds(precisions, recalls,thresholds)"
      ]
    },
    {
      "cell_type": "markdown",
      "metadata": {
        "id": "4hQ145CtjSt3"
      },
      "source": [
        "Il est également intéressant de tracer la figure précision en fonction du rappel !"
      ]
    },
    {
      "cell_type": "markdown",
      "metadata": {
        "id": "59moNZkMjUWC"
      },
      "source": [
        "### Courbe ROC"
      ]
    },
    {
      "cell_type": "code",
      "execution_count": null,
      "metadata": {
        "colab": {
          "background_save": true
        },
        "id": "ZY3OOXEnjcvU"
      },
      "outputs": [],
      "source": [
        "my_y_scores = y_scores"
      ]
    },
    {
      "cell_type": "code",
      "execution_count": null,
      "metadata": {
        "id": "AGiSTirg6IWg"
      },
      "outputs": [],
      "source": [
        "my_y_scores = y_scores"
      ]
    },
    {
      "cell_type": "code",
      "execution_count": null,
      "metadata": {
        "colab": {
          "background_save": true
        },
        "id": "HWjHL66VjgCR"
      },
      "outputs": [],
      "source": [
        "from sklearn.metrics import roc_curve"
      ]
    },
    {
      "cell_type": "code",
      "execution_count": null,
      "metadata": {
        "id": "oz-nFIOR6NaP"
      },
      "outputs": [],
      "source": [
        "from sklearn.metrics import roc_curve"
      ]
    },
    {
      "cell_type": "code",
      "execution_count": null,
      "metadata": {
        "colab": {
          "background_save": true
        },
        "id": "z91pA3iIjp7F"
      },
      "outputs": [],
      "source": [
        "fpr,tpr,thresholds = roc_curve(y_train_5,my_y_scores)"
      ]
    },
    {
      "cell_type": "code",
      "execution_count": null,
      "metadata": {
        "id": "mVps8Vz-6SUA"
      },
      "outputs": [],
      "source": [
        "fpr,tpr,thresholds = roc_curve(y_train_5,my_y_scores)"
      ]
    },
    {
      "cell_type": "code",
      "execution_count": null,
      "metadata": {
        "colab": {
          "background_save": true
        },
        "id": "mX-yAjUfjyXj"
      },
      "outputs": [],
      "source": [
        "def plot_roc_curve(fpr,tpr,label=None):\n",
        "  plt.plot(fpr,tpr,linewidth=2,label=label)\n",
        "  plt.plot([0,1],[0,1],'k--')\n",
        "  plt.axis([0,1,0,1])\n",
        "  plt.xlabel('FPR',fontsize=16)\n",
        "  plt.ylabel('TPR',fontsize=16)"
      ]
    },
    {
      "cell_type": "code",
      "execution_count": null,
      "metadata": {
        "id": "VZ9J9rhd6dCF"
      },
      "outputs": [],
      "source": [
        "def plot_roc_curve(fpr,tpr,label=None):\n",
        "  plt.plot(fpr,tpr,linewidth=2,label=label)\n",
        "  plt.plot([0,1],[0,1],'k--')\n",
        "  plt.axis([0,1,0,1])\n",
        "  plt.xlabel('FPR',fontsize=16)\n",
        "  plt.ylabel('TPR',fontsize=16)"
      ]
    },
    {
      "cell_type": "code",
      "execution_count": null,
      "metadata": {
        "colab": {
          "background_save": true
        },
        "id": "prP5s5fvkd9a"
      },
      "outputs": [],
      "source": [
        "plt.figure(figsize=(8,4))"
      ]
    },
    {
      "cell_type": "code",
      "execution_count": null,
      "metadata": {
        "colab": {
          "base_uri": "https://localhost:8080/",
          "height": 50
        },
        "id": "V5m8jTGFg7zE",
        "outputId": "1ee65838-5657-4ff1-e2c0-b689e5fdb509"
      },
      "outputs": [
        {
          "data": {
            "text/plain": [
              "<Figure size 576x288 with 0 Axes>"
            ]
          },
          "execution_count": 45,
          "metadata": {},
          "output_type": "execute_result"
        },
        {
          "data": {
            "text/plain": [
              "<Figure size 576x288 with 0 Axes>"
            ]
          },
          "metadata": {},
          "output_type": "display_data"
        }
      ],
      "source": [
        "plt.figure(figsize=(8,4))"
      ]
    },
    {
      "cell_type": "code",
      "execution_count": null,
      "metadata": {
        "colab": {
          "background_save": true
        },
        "id": "qYLHmIx8kiTj"
      },
      "outputs": [],
      "source": [
        "plot_roc_curve(fpr,tpr)"
      ]
    },
    {
      "cell_type": "code",
      "execution_count": null,
      "metadata": {
        "colab": {
          "base_uri": "https://localhost:8080/",
          "height": 288
        },
        "id": "OQHUDIh0hBbc",
        "outputId": "1295cfa8-abe8-4cc1-e882-c6d451c7e477"
      },
      "outputs": [
        {
          "data": {
            "image/png": "[encoded data removed]",
            "text/plain": [
              "<Figure size 432x288 with 1 Axes>"
            ]
          },
          "metadata": {},
          "output_type": "display_data"
        }
      ],
      "source": [
        "plot_roc_curve(fpr,tpr)"
      ]
    },
    {
      "cell_type": "markdown",
      "metadata": {
        "id": "-9Prz7PRgIHT"
      },
      "source": [
        "##Performance globale du prédicteur en multiclass\n",
        "\n"
      ]
    },
    {
      "cell_type": "code",
      "execution_count": null,
      "metadata": {
        "colab": {
          "background_save": true
        },
        "id": "PCes65HZgLVh"
      },
      "outputs": [],
      "source": [
        "sgd_clf.fit(X_train, y_train)\n",
        "predictions=sgd_clf.predict(X_test)"
      ]
    },
    {
      "cell_type": "code",
      "execution_count": null,
      "metadata": {
        "id": "T9x6DdWRhFxi"
      },
      "outputs": [],
      "source": [
        "sgd_clf.fit(X_train, y_train)\n",
        "predictions=sgd_clf.predict(X_test)"
      ]
    },
    {
      "cell_type": "code",
      "execution_count": null,
      "metadata": {
        "colab": {
          "background_save": true
        },
        "id": "IivqhbfdymvM"
      },
      "outputs": [],
      "source": [
        "score=sgd_clf.score(X_test,y_test)"
      ]
    },
    {
      "cell_type": "code",
      "execution_count": null,
      "metadata": {
        "id": "IkDHM07QhQTi"
      },
      "outputs": [],
      "source": [
        "score=sgd_clf.score(X_test,y_test)"
      ]
    },
    {
      "cell_type": "code",
      "execution_count": null,
      "metadata": {
        "colab": {
          "background_save": true
        },
        "id": "_mZ8Jbwwbrq3"
      },
      "outputs": [],
      "source": [
        "from sklearn.model_selection import cross_val_score\n",
        "\n",
        "cross_val_score(sgd_clf, X_train, y_train, cv=3, scoring=\"accuracy\")"
      ]
    },
    {
      "cell_type": "code",
      "execution_count": null,
      "metadata": {
        "colab": {
          "base_uri": "https://localhost:8080/"
        },
        "id": "4Ak2KpxfhWph",
        "outputId": "b9a4c670-871e-4ea7-a057-054d8ad6c950"
      },
      "outputs": [
        {
          "data": {
            "text/plain": [
              "array([0.8727 , 0.85315, 0.85665])"
            ]
          },
          "execution_count": 52,
          "metadata": {},
          "output_type": "execute_result"
        }
      ],
      "source": [
        "from sklearn.model_selection import cross_val_score\n",
        "\n",
        "cross_val_score(sgd_clf, X_train, y_train, cv=3, scoring=\"accuracy\")"
      ]
    },
    {
      "cell_type": "code",
      "execution_count": null,
      "metadata": {
        "colab": {
          "background_save": true
        },
        "id": "rmtYOhWcvH5O"
      },
      "outputs": [],
      "source": [
        "from sklearn.model_selection import cross_val_predict\n",
        "y_train_pred = cross_val_predict(sgd_clf,X_train,y_train, cv=3)"
      ]
    },
    {
      "cell_type": "code",
      "execution_count": null,
      "metadata": {
        "id": "-sCAEx2vhlWB"
      },
      "outputs": [],
      "source": [
        "from sklearn.model_selection import cross_val_predict\n",
        "y_train_pred = cross_val_predict(sgd_clf,X_train,y_train, cv=3)"
      ]
    },
    {
      "cell_type": "markdown",
      "metadata": {
        "id": "-BQmJSJA0SEf"
      },
      "source": [
        "## Matrice de confusion"
      ]
    },
    {
      "cell_type": "code",
      "execution_count": null,
      "metadata": {
        "colab": {
          "background_save": true
        },
        "id": "H0SB2134vpTU"
      },
      "outputs": [],
      "source": [
        "from sklearn.metrics import confusion_matrix\n",
        "cm=confusion_matrix(y_train, y_train_pred)"
      ]
    },
    {
      "cell_type": "code",
      "execution_count": null,
      "metadata": {
        "id": "BS-97IT8hyFO"
      },
      "outputs": [],
      "source": [
        "from sklearn.metrics import confusion_matrix\n",
        "cm=confusion_matrix(y_train, y_train_pred)"
      ]
    },
    {
      "cell_type": "code",
      "execution_count": null,
      "metadata": {
        "colab": {
          "background_save": true
        },
        "id": "LMhpUo0rwFc1"
      },
      "outputs": [],
      "source": [
        "import seaborn as sns\n",
        "\n",
        "plt.figure(figsize=(9,9))\n",
        "sns.heatmap(cm, annot=True, fmt=\".3f\", linewidths=.5, square = True, cmap = 'Blues_r');\n",
        "plt.ylabel('Actual label');\n",
        "plt.xlabel('Predicted label');\n",
        "all_sample_title = 'Accuracy Score: {0}'.format(score)\n",
        "plt.title(all_sample_title, size = 15);\n",
        "plt.savefig('toy_Digits_ConfusionSeabornCodementor.png')\n",
        "#plt.show();"
      ]
    },
    {
      "cell_type": "code",
      "execution_count": null,
      "metadata": {
        "colab": {
          "base_uri": "https://localhost:8080/",
          "height": 520
        },
        "id": "lkp-JIURh7je",
        "outputId": "30ddfeb3-c1cf-4b37-d496-b4c1dc98949a"
      },
      "outputs": [
        {
          "data": {
            "image/png": "[encoded data removed]",
            "text/plain": [
              "<Figure size 648x648 with 2 Axes>"
            ]
          },
          "metadata": {},
          "output_type": "display_data"
        }
      ],
      "source": [
        "import seaborn as sns\n",
        "\n",
        "plt.figure(figsize=(9,9))\n",
        "sns.heatmap(cm, annot=True, fmt=\".3f\", linewidths=.5, square = True, cmap = 'Blues_r');\n",
        "plt.ylabel('Actual label');\n",
        "all_sample_title = 'Accuracy Score: {0}'.format(score)\n",
        "plt.title(all_sample_title, size = 15);\n",
        "plt.savefig('toy_Digits_ConfusionSeabornCodementor.png')\n",
        "plt.show();"
      ]
    },
    {
      "cell_type": "markdown",
      "metadata": {
        "id": "cXBBcy_W0akj"
      },
      "source": [
        "## Precision et rappel"
      ]
    },
    {
      "cell_type": "code",
      "execution_count": null,
      "metadata": {
        "colab": {
          "background_save": true
        },
        "id": "dVtPcji0wcVE"
      },
      "outputs": [],
      "source": [
        "from sklearn.metrics import precision_score, recall_score"
      ]
    },
    {
      "cell_type": "code",
      "execution_count": null,
      "metadata": {
        "id": "IBx68T-LimaG"
      },
      "outputs": [],
      "source": [
        "from sklearn.metrics import precision_score, recall_score"
      ]
    },
    {
      "cell_type": "code",
      "execution_count": null,
      "metadata": {
        "colab": {
          "background_save": true
        },
        "id": "ovi-ZJR7wsbU"
      },
      "outputs": [],
      "source": [
        "precision_score(y_train, y_train_pred,average='micro')"
      ]
    },
    {
      "cell_type": "code",
      "execution_count": null,
      "metadata": {
        "colab": {
          "base_uri": "https://localhost:8080/"
        },
        "id": "Y7hWmuunirj0",
        "outputId": "f84b5a58-3baf-45bc-e33e-714dfb449675"
      },
      "outputs": [
        {
          "data": {
            "text/plain": [
              "0.8608333333333333"
            ]
          },
          "execution_count": 55,
          "metadata": {},
          "output_type": "execute_result"
        }
      ],
      "source": [
        "precision_score(y_train, y_train_pred,average='micro')"
      ]
    },
    {
      "cell_type": "code",
      "execution_count": null,
      "metadata": {
        "colab": {
          "background_save": true
        },
        "id": "-rpgLONzxazL"
      },
      "outputs": [],
      "source": [
        "recall_score(y_train, y_train_pred,average='micro')"
      ]
    },
    {
      "cell_type": "code",
      "execution_count": null,
      "metadata": {
        "colab": {
          "base_uri": "https://localhost:8080/"
        },
        "id": "ZHGpnp31ixQy",
        "outputId": "2510ce02-84b8-41b4-8fa6-36b5e81a70a8"
      },
      "outputs": [
        {
          "data": {
            "text/plain": [
              "0.8608333333333333"
            ]
          },
          "execution_count": 56,
          "metadata": {},
          "output_type": "execute_result"
        }
      ],
      "source": [
        "recall_score(y_train, y_train_pred,average='micro')"
      ]
    },
    {
      "cell_type": "code",
      "execution_count": null,
      "metadata": {
        "colab": {
          "background_save": true
        },
        "id": "7z0rDTuX07pt"
      },
      "outputs": [],
      "source": [
        "y_scores = cross_val_predict(sgd_clf, X_train,y_train,cv=3,method=\"decision_function\")"
      ]
    },
    {
      "cell_type": "code",
      "execution_count": null,
      "metadata": {
        "id": "ZjNqkSk1i6F_"
      },
      "outputs": [],
      "source": [
        "y_scores = cross_val_predict(sgd_clf, X_train,y_train,cv=3,method=\"decision_function\")"
      ]
    },
    {
      "cell_type": "markdown",
      "metadata": {
        "id": "fMZuWWRZ4Jmk"
      },
      "source": [
        "##Exercice : regression logistique\n",
        "\n",
        "Soit les données digits suivants, en utilisant la librairie scikitlearn, effectuer une regression logistique en suivant les étapes vues au dessus.\n",
        "\n",
        "Appliquez différentes régularisations (ridg,lasso par exemple, voir documentation scikitlearn), et effectuer une recherche d'hyperparamètres: cf  https://scikit-learn.org/stable/modules/generated/sklearn.model_selection.GridSearchCV.html"
      ]
    },
    {
      "cell_type": "code",
      "execution_count": null,
      "metadata": {
        "colab": {
          "background_save": true
        },
        "id": "Ue7yn5YJqTyx"
      },
      "outputs": [],
      "source": [
        "%matplotlib inline\n",
        "from sklearn.datasets import load_digits\n",
        "digits = load_digits()\n"
      ]
    },
    {
      "cell_type": "code",
      "execution_count": null,
      "metadata": {
        "id": "veBpW0zRjJBo"
      },
      "outputs": [],
      "source": [
        "%matplotlib inline\n",
        "from sklearn.datasets import load_digits\n",
        "digits = load_digits()"
      ]
    },
    {
      "cell_type": "code",
      "execution_count": null,
      "metadata": {
        "colab": {
          "background_save": true
        },
        "id": "5jzXH5iSqqkZ"
      },
      "outputs": [],
      "source": [
        "# Print to show there are 1797 images (8 by 8 images for a dimensionality of 64)\n",
        "print(\"Image Data Shape\" , digits.data.shape)\n",
        "\n",
        "# Print to show there are 1797 labels (integers from 0-9)\n",
        "print(\"Label Data Shape\", digits.target.shape)"
      ]
    },
    {
      "cell_type": "code",
      "execution_count": null,
      "metadata": {
        "colab": {
          "base_uri": "https://localhost:8080/"
        },
        "id": "AYwWHh4ujrex",
        "outputId": "b814f181-def0-4b40-ad97-35c2dcec3439"
      },
      "outputs": [
        {
          "name": "stdout",
          "output_type": "stream",
          "text": [
            "Image Data Shape (1797, 64)\n",
            "Label Data Shape (1797,)\n"
          ]
        }
      ],
      "source": [
        "# Print to show there are 1797 images (8 by 8 images for a dimensionality of 64)\n",
        "print(\"Image Data Shape\" , digits.data.shape)\n",
        "\n",
        "# Print to show there are 1797 labels (integers from 0-9)\n",
        "print(\"Label Data Shape\", digits.target.shape)"
      ]
    },
    {
      "cell_type": "code",
      "execution_count": null,
      "metadata": {
        "colab": {
          "background_save": true
        },
        "id": "nHsEJ08CqzrO"
      },
      "outputs": [],
      "source": [
        "import numpy as np \n",
        "import matplotlib.pyplot as plt\n",
        "\n",
        "plt.figure(figsize=(20,4))\n",
        "for index, (image, label) in enumerate(zip(digits.data[0:5], digits.target[0:5])):\n",
        "    plt.subplot(1, 5, index + 1)\n",
        "    plt.imshow(np.reshape(image, (8,8)), cmap=plt.cm.gray)\n",
        "    plt.title('Training: %i\\n' % label, fontsize = 20)"
      ]
    },
    {
      "cell_type": "code",
      "execution_count": null,
      "metadata": {
        "colab": {
          "base_uri": "https://localhost:8080/",
          "height": 167
        },
        "id": "u9ti_fT_kDpz",
        "outputId": "d6d5a978-81c3-474f-c23d-9b4771cef76a"
      },
      "outputs": [
        {
          "data": {
            "image/png": "[encoded data removed]",
            "text/plain": [
              "<Figure size 1440x288 with 5 Axes>"
            ]
          },
          "metadata": {},
          "output_type": "display_data"
        }
      ],
      "source": [
        "import numpy as np\n",
        "import matplotlib.pyplot as plt\n",
        "\n",
        "plt.figure(figsize=(20,4))\n",
        "for index, (image, label) in enumerate(zip(digits.data[0:5], digits.target[0:5])):\n",
        "  plt.subplot(1, 5, index + 1)\n",
        "  plt.imshow(np.reshape(image, (8,8)), cmap=plt.cm.gray)\n",
        "  plt.title('Training: %i\\n' % label, fontsize = 20)"
      ]
    },
    {
      "cell_type": "code",
      "execution_count": null,
      "metadata": {
        "colab": {
          "background_save": true
        },
        "id": "VcnTapDWq36D"
      },
      "outputs": [],
      "source": [
        "from sklearn.model_selection import train_test_split\n",
        "x_train, x_test, y_train, y_test = train_test_split(digits.data, digits.target, test_size=0.25, random_state=0)"
      ]
    },
    {
      "cell_type": "code",
      "execution_count": null,
      "metadata": {
        "id": "zgfgDtoBkua5"
      },
      "outputs": [],
      "source": [
        "from sklearn.model_selection import train_test_split\n",
        "x_train, x_test, y_train, y_test = train_test_split(digits.data, digits.target, test_size=0.25, random_state=0)"
      ]
    },
    {
      "cell_type": "markdown",
      "metadata": {
        "id": "vE20_j_37gbt"
      },
      "source": [
        "suite"
      ]
    },
    {
      "cell_type": "code",
      "execution_count": null,
      "metadata": {
        "id": "mg7RIJd_qIN-"
      },
      "outputs": [],
      "source": [
        "#from sklearn import svm, datasets\n",
        "#from sklearn.model_selection, import GridSearchCV\n",
        "from sklearn.model_selection import GridSearchCV\n",
        "from sklearn.linear_model import SGDClassifier\n",
        "\n",
        "parameters = {'penalty': ['l2', 'l1','elasticnet']}\n",
        "\n",
        "#GridSearchCV(estimator=SVC(),\n",
        "SGDC = SGDClassifier()\n",
        "GSCV = GridSearchCV(estimator=SGDC, # cf https://scikit-learn.org/stable/modules/generated/sklearn.linear_model.SGDClassifier.html\n",
        "             param_grid=parameters) # ridge est penalty l2 et lasso est l1\n",
        "#sorted(clf.cv_results_.keys())\n"
      ]
    },
    {
      "cell_type": "code",
      "execution_count": null,
      "metadata": {
        "colab": {
          "background_save": true
        },
        "id": "dDB02Ib6k9CV",
        "outputId": "929cfb56-d2f2-41e1-d5e6-1d8d7a9805bb"
      },
      "outputs": [
        {
          "ename": "ValueError",
          "evalue": "ignored",
          "output_type": "error",
          "traceback": [
            "\u001b[0;31m---------------------------------------------------------------------------\u001b[0m",
            "\u001b[0;31mValueError\u001b[0m                                Traceback (most recent call last)",
            "\u001b[0;32m<ipython-input-23-0e35a3e390a7>\u001b[0m in \u001b[0;36m<module>\u001b[0;34m()\u001b[0m\n\u001b[1;32m      6\u001b[0m \u001b[0;31m# f1_score(y_train_5,y_train_pred)\u001b[0m\u001b[0;34m\u001b[0m\u001b[0;34m\u001b[0m\u001b[0;34m\u001b[0m\u001b[0m\n\u001b[1;32m      7\u001b[0m \u001b[0mGSCV\u001b[0m\u001b[0;34m.\u001b[0m\u001b[0mfit\u001b[0m\u001b[0;34m(\u001b[0m\u001b[0mx_train\u001b[0m\u001b[0;34m,\u001b[0m \u001b[0my_train\u001b[0m\u001b[0;34m)\u001b[0m\u001b[0;34m\u001b[0m\u001b[0;34m\u001b[0m\u001b[0m\n\u001b[0;32m----> 8\u001b[0;31m \u001b[0mf1_score\u001b[0m\u001b[0;34m(\u001b[0m\u001b[0my_test\u001b[0m\u001b[0;34m,\u001b[0m \u001b[0mGSCV\u001b[0m\u001b[0;34m.\u001b[0m\u001b[0mpredict\u001b[0m\u001b[0;34m(\u001b[0m\u001b[0mx_test\u001b[0m\u001b[0;34m)\u001b[0m\u001b[0;34m)\u001b[0m\u001b[0;34m\u001b[0m\u001b[0;34m\u001b[0m\u001b[0m\n\u001b[0m",
            "\u001b[0;32m/usr/local/lib/python3.7/dist-packages/sklearn/metrics/_classification.py\u001b[0m in \u001b[0;36mf1_score\u001b[0;34m(y_true, y_pred, labels, pos_label, average, sample_weight, zero_division)\u001b[0m\n\u001b[1;32m   1097\u001b[0m                        \u001b[0mpos_label\u001b[0m\u001b[0;34m=\u001b[0m\u001b[0mpos_label\u001b[0m\u001b[0;34m,\u001b[0m \u001b[0maverage\u001b[0m\u001b[0;34m=\u001b[0m\u001b[0maverage\u001b[0m\u001b[0;34m,\u001b[0m\u001b[0;34m\u001b[0m\u001b[0;34m\u001b[0m\u001b[0m\n\u001b[1;32m   1098\u001b[0m                        \u001b[0msample_weight\u001b[0m\u001b[0;34m=\u001b[0m\u001b[0msample_weight\u001b[0m\u001b[0;34m,\u001b[0m\u001b[0;34m\u001b[0m\u001b[0;34m\u001b[0m\u001b[0m\n\u001b[0;32m-> 1099\u001b[0;31m                        zero_division=zero_division)\n\u001b[0m\u001b[1;32m   1100\u001b[0m \u001b[0;34m\u001b[0m\u001b[0m\n\u001b[1;32m   1101\u001b[0m \u001b[0;34m\u001b[0m\u001b[0m\n",
            "\u001b[0;32m/usr/local/lib/python3.7/dist-packages/sklearn/metrics/_classification.py\u001b[0m in \u001b[0;36mfbeta_score\u001b[0;34m(y_true, y_pred, beta, labels, pos_label, average, sample_weight, zero_division)\u001b[0m\n\u001b[1;32m   1224\u001b[0m                                                  \u001b[0mwarn_for\u001b[0m\u001b[0;34m=\u001b[0m\u001b[0;34m(\u001b[0m\u001b[0;34m'f-score'\u001b[0m\u001b[0;34m,\u001b[0m\u001b[0;34m)\u001b[0m\u001b[0;34m,\u001b[0m\u001b[0;34m\u001b[0m\u001b[0;34m\u001b[0m\u001b[0m\n\u001b[1;32m   1225\u001b[0m                                                  \u001b[0msample_weight\u001b[0m\u001b[0;34m=\u001b[0m\u001b[0msample_weight\u001b[0m\u001b[0;34m,\u001b[0m\u001b[0;34m\u001b[0m\u001b[0;34m\u001b[0m\u001b[0m\n\u001b[0;32m-> 1226\u001b[0;31m                                                  zero_division=zero_division)\n\u001b[0m\u001b[1;32m   1227\u001b[0m     \u001b[0;32mreturn\u001b[0m \u001b[0mf\u001b[0m\u001b[0;34m\u001b[0m\u001b[0;34m\u001b[0m\u001b[0m\n\u001b[1;32m   1228\u001b[0m \u001b[0;34m\u001b[0m\u001b[0m\n",
            "\u001b[0;32m/usr/local/lib/python3.7/dist-packages/sklearn/metrics/_classification.py\u001b[0m in \u001b[0;36mprecision_recall_fscore_support\u001b[0;34m(y_true, y_pred, beta, labels, pos_label, average, warn_for, sample_weight, zero_division)\u001b[0m\n\u001b[1;32m   1482\u001b[0m         \u001b[0;32mraise\u001b[0m \u001b[0mValueError\u001b[0m\u001b[0;34m(\u001b[0m\u001b[0;34m\"beta should be >=0 in the F-beta score\"\u001b[0m\u001b[0;34m)\u001b[0m\u001b[0;34m\u001b[0m\u001b[0;34m\u001b[0m\u001b[0m\n\u001b[1;32m   1483\u001b[0m     labels = _check_set_wise_labels(y_true, y_pred, average, labels,\n\u001b[0;32m-> 1484\u001b[0;31m                                     pos_label)\n\u001b[0m\u001b[1;32m   1485\u001b[0m \u001b[0;34m\u001b[0m\u001b[0m\n\u001b[1;32m   1486\u001b[0m     \u001b[0;31m# Calculate tp_sum, pred_sum, true_sum ###\u001b[0m\u001b[0;34m\u001b[0m\u001b[0;34m\u001b[0m\u001b[0;34m\u001b[0m\u001b[0m\n",
            "\u001b[0;32m/usr/local/lib/python3.7/dist-packages/sklearn/metrics/_classification.py\u001b[0m in \u001b[0;36m_check_set_wise_labels\u001b[0;34m(y_true, y_pred, average, labels, pos_label)\u001b[0m\n\u001b[1;32m   1314\u001b[0m             raise ValueError(\"Target is %s but average='binary'. Please \"\n\u001b[1;32m   1315\u001b[0m                              \u001b[0;34m\"choose another average setting, one of %r.\"\u001b[0m\u001b[0;34m\u001b[0m\u001b[0;34m\u001b[0m\u001b[0m\n\u001b[0;32m-> 1316\u001b[0;31m                              % (y_type, average_options))\n\u001b[0m\u001b[1;32m   1317\u001b[0m     \u001b[0;32melif\u001b[0m \u001b[0mpos_label\u001b[0m \u001b[0;32mnot\u001b[0m \u001b[0;32min\u001b[0m \u001b[0;34m(\u001b[0m\u001b[0;32mNone\u001b[0m\u001b[0;34m,\u001b[0m \u001b[0;36m1\u001b[0m\u001b[0;34m)\u001b[0m\u001b[0;34m:\u001b[0m\u001b[0;34m\u001b[0m\u001b[0;34m\u001b[0m\u001b[0m\n\u001b[1;32m   1318\u001b[0m         warnings.warn(\"Note that pos_label (set to %r) is ignored when \"\n",
            "\u001b[0;31mValueError\u001b[0m: Target is multiclass but average='binary'. Please choose another average setting, one of [None, 'micro', 'macro', 'weighted']."
          ]
        }
      ],
      "source": [
        "from sklearn.linear_model import SGDClassifier\n",
        "\n",
        "# y_train_pred=cross_val_score(never_5_clf, X_train, y_train_5 , cv=3, scoring=\"accuracy\") : cross_val_score construit un ensemble de predictions par validation croisée\n",
        "\n",
        "from sklearn.metrics import f1_score\n",
        "# f1_score(y_train_5,y_train_pred)\n",
        "GSCV.fit(x_train, y_train)\n",
        "f1_score(y_test, GSCV.predict(x_test))"
      ]
    },
    {
      "cell_type": "code",
      "execution_count": null,
      "metadata": {
        "id": "hLhaM-cUAFpc"
      },
      "outputs": [],
      "source": []
    }
  ],
  "metadata": {
    "colab": {
      "collapsed_sections": [
        "lMfiE22AzXMy",
        "BwAFd7VqeVQ5",
        "VBEdGS7hfL7K",
        "2pM91KX6f78u",
        "59moNZkMjUWC"
      ],
      "provenance": [],
      "include_colab_link": true
    },
    "kernelspec": {
      "display_name": "Python 3",
      "name": "python3"
    }
  },
  "nbformat": 4,
  "nbformat_minor": 0
}