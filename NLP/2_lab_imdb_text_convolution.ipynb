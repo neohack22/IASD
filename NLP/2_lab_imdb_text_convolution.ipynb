{
  "cells": [
    {
      "cell_type": "code",
      "source": [
        "!pwd\n",
        "! echo \"foooo\" > ./drive/MyDrive/titi"
      ],
      "metadata": {
        "id": "ST2vKAUoH9Ak"
      },
      "execution_count": null,
      "outputs": []
    },
    {
      "cell_type": "code",
      "source": [
        ""
      ],
      "metadata": {
        "id": "hfbGEJMQIXuI"
      },
      "execution_count": null,
      "outputs": []
    },
    {
      "cell_type": "code",
      "execution_count": null,
      "metadata": {
        "id": "a2Pqr3qLwwPH"
      },
      "outputs": [],
      "source": [
        "import numpy as np\n",
        "import torch as th\n",
        "import torch.autograd as ag\n",
        "import torch.nn.functional as F\n",
        "import torch.nn as nn\n",
        "import random\n",
        "import math\n",
        "import pickle\n",
        "import gzip\n"
      ]
    },
    {
      "cell_type": "code",
      "source": [
        "import numpy as np\n",
        "import torch as th\n",
        "import torch.autograd as ag\n",
        "import torch.nn.functional as F\n",
        "import torch.nn as nn\n",
        "import random\n",
        "import math\n",
        "import pickle\n",
        "import gzip"
      ],
      "metadata": {
        "id": "aJq5Da2gDGZU"
      },
      "execution_count": 1,
      "outputs": []
    },
    {
      "cell_type": "markdown",
      "metadata": {
        "id": "pYFxXiq-wwPM"
      },
      "source": [
        "The goal is to set up a simple classifier for text and sentiment analysis. \n",
        "\n",
        "The goal of this lab session is to implement the model proposed by  Yoon Kim, published in 2014. This model is a sentence classifier based on Convolution. The original paper can be found [here](https://www.aclweb.org/anthology/D14-1181). It was then adapted to DNA sequence classification by [this paper](https://bmcbioinformatics.biomedcentral.com/articles/10.1186/s12859-017-1878-3). Of course, there exists pytorch and tensorflow implementations on the web. They are more or less correct and efficient. However, here it is important to do it yourself. The goal is to better understand pytorch and the convolution. \n",
        "\n",
        "The task is the binary classification of movie reviews. The dataset is a part of the imdb dataset. You can find the original dataset on the imdb website or a version on the kaggle website. For this lab session, we will use a preprocessed and reduced version. \n",
        "\n",
        "The road-map is to: \n",
        "- Load the data\n",
        "- step-by-step computation (debug)\n",
        "- Create a model to wrap the convolution and pooling \n",
        "\n",
        "\n",
        "\n",
        "# Data loading \n"
      ]
    },
    {
      "cell_type": "markdown",
      "metadata": {
        "id": "SbH3o93EwwPP"
      },
      "source": [
        "Load the data : "
      ]
    },
    {
      "cell_type": "code",
      "execution_count": null,
      "metadata": {
        "id": "rm5GanOEwwPQ"
      },
      "outputs": [],
      "source": [
        "# find the file imdb.pck.gz, and set the next variable accordingly\n",
        "filename = 'imdb.pck.gz'\n",
        "\n",
        "# if you are on colab (otherwise comment the next command): \n",
        "# you can download the file with the following line: \n",
        "! wget \"https://drive.google.com/uc?export=download&id=1199vdCPh5jCMBTWTSM9th0wqMNv2KSvA\" -O imdb.pck.gz\n",
        "\n",
        "\n",
        "\n",
        "fp = gzip.open(filename,'rb')\n",
        "texts , labels, lexicon  = pickle.load(fp) \n",
        "\n",
        "print(type(texts), type(labels), type(lexicon))\n",
        "print(texts[0])\n",
        "print(\"nb examples : \", len(texts))\n",
        "VOCAB_SIZE = len(lexicon)\n",
        "print(\"Vocab size: \", VOCAB_SIZE)\n"
      ]
    },
    {
      "cell_type": "code",
      "source": [
        "# find the file imdb.pck.gz, and set the next variable accordingly\n",
        "filename = 'imdb.pck.gz'\n",
        "\n",
        "# if you are on colab (otherwise comment the next command):\n",
        "# you can download the file with the following line:\n",
        "! wget \"https://drive.google.com/uc?export=download&id=1199vdCPh5jCMBTWTSM9th0wqMNv2KSvA\" -O imdb.pck.gz\n",
        "\n",
        "fp = gzip.open(filename, 'rb')\n",
        "texts, labels, lexicon = pickle.load(fp)\n",
        "\n",
        "print(type(texts), type(labels), type(lexicon))\n",
        "print(texts[0])\n",
        "print(\"no examples : \", len(texts)) #\"nb examples : \", len(texts))\n",
        "VOCAB_SIZE = len(lexicon)\n",
        "print(\"Vocab size: \", VOCAB_SIZE)"
      ],
      "metadata": {
        "colab": {
          "base_uri": "https://localhost:8080/"
        },
        "id": "M9hp_hncDpzj",
        "outputId": "1a825124-d501-49da-9645-fca65097da65"
      },
      "execution_count": 3,
      "outputs": [
        {
          "output_type": "stream",
          "name": "stdout",
          "text": [
            "--2022-04-06 13:34:59--  https://drive.google.com/uc?export=download&id=1199vdCPh5jCMBTWTSM9th0wqMNv2KSvA\n",
            "Resolving drive.google.com (drive.google.com)... 142.250.148.102, 142.250.148.139, 142.250.148.113, ...\n",
            "Connecting to drive.google.com (drive.google.com)|142.250.148.102|:443... connected.\n",
            "HTTP request sent, awaiting response... 303 See Other\n",
            "Location: https://doc-0k-0o-docs.googleusercontent.com/docs/securesc/ha0ro937gcuc7l7deffksulhg5h7mbp1/sb8vnick3f5ldqbbcv1kntltnghhf0up/1649252100000/16692574002775380562/*/1199vdCPh5jCMBTWTSM9th0wqMNv2KSvA?e=download [following]\n",
            "Warning: wildcards not supported in HTTP.\n",
            "--2022-04-06 13:35:00--  https://doc-0k-0o-docs.googleusercontent.com/docs/securesc/ha0ro937gcuc7l7deffksulhg5h7mbp1/sb8vnick3f5ldqbbcv1kntltnghhf0up/1649252100000/16692574002775380562/*/1199vdCPh5jCMBTWTSM9th0wqMNv2KSvA?e=download\n",
            "Resolving doc-0k-0o-docs.googleusercontent.com (doc-0k-0o-docs.googleusercontent.com)... 142.250.148.132, 2607:f8b0:4001:c54::84\n",
            "Connecting to doc-0k-0o-docs.googleusercontent.com (doc-0k-0o-docs.googleusercontent.com)|142.250.148.132|:443... connected.\n",
            "HTTP request sent, awaiting response... 200 OK\n",
            "Length: 1552309 (1.5M) [application/x-gzip]\n",
            "Saving to: ‘imdb.pck.gz’\n",
            "\n",
            "imdb.pck.gz         100%[===================>]   1.48M  --.-KB/s    in 0.01s   \n",
            "\n",
            "2022-04-06 13:35:01 (109 MB/s) - ‘imdb.pck.gz’ saved [1552309/1552309]\n",
            "\n",
            "<class 'list'> <class 'torch.Tensor'> <class 'dict'>\n",
            "tensor([ 36,  25, 381,  10,  58,  21,  83])\n",
            "no examples :  30000\n",
            "Vocab size:  5002\n"
          ]
        }
      ]
    },
    {
      "cell_type": "markdown",
      "metadata": {
        "collapsed": true,
        "id": "y0UcbpdtwwPR"
      },
      "source": [
        "You get 3 objects : \n",
        "- *texts*  : a list of tensors, each tensor represent a word sequence to classify. \n",
        "- *labels* : the class, positive or negative, of the corresponding text\n",
        "- *lexicon*: a dictionnary to map integers to real words\n",
        "Note that a reduced number of words are selected to build the vocabulary. The less frequent words are discarded are replaced by a specific form (*unk* for unknown)\n",
        "To read the text you can use for example the following code: "
      ]
    },
    {
      "cell_type": "code",
      "execution_count": null,
      "metadata": {
        "id": "1cDQHRIgwwPS"
      },
      "outputs": [],
      "source": [
        "def idx2wordlist(idx_array,lexicon): \n",
        "    l = []\n",
        "    for i in idx_array: \n",
        "        l.append(lexicon[i.item()])\n",
        "    return l\n",
        "print(texts[0].shape)\n",
        "for i in range(5): \n",
        "    print(idx2wordlist(texts[i+50],lexicon))\n",
        "print(\"------------\")\n",
        "for i in range(5): \n",
        "    print(idx2wordlist(texts[-i-2000],lexicon))\n",
        "    \n"
      ]
    },
    {
      "cell_type": "code",
      "source": [
        "def idx2wordlist(idx_array,lexicon):\n",
        "  l = []\n",
        "  for i in idx_array:\n",
        "    l.append(lexicon[i.item()])\n",
        "  return l\n",
        "print(texts[0].shape)\n",
        "for i in range(5):\n",
        "  print(idx2wordlist(texts[i+50], lexicon))\n",
        "print(\"------------\")\n",
        "for i in range(5):\n",
        "  print(idx2wordlist(texts[-i-2000], lexicon))"
      ],
      "metadata": {
        "colab": {
          "base_uri": "https://localhost:8080/"
        },
        "id": "qRPaGVLwF0A0",
        "outputId": "ace0bfd3-2cba-4777-e38a-31d017ae067e"
      },
      "execution_count": 4,
      "outputs": [
        {
          "output_type": "stream",
          "name": "stdout",
          "text": [
            "torch.Size([7])\n",
            "['strong', 'drama']\n",
            "['please', 'remake', 'this', 'movie']\n",
            "['very', 'funny', '!']\n",
            "['great', 'series']\n",
            "['fun', 'movie']\n",
            "------------\n",
            "['absolute', 'waste', 'of', 'time']\n",
            "['the', 'worst', 'movie', 'ever', 'made']\n",
            "['slow', 'motion', 'picture', 'that', 'did', \"n't\", 'get', 'to', 'the', 'point']\n",
            "['there', 'are', 'good', 'bad', 'movies', 'and', 'there', 'are', 'bad', 'bad', 'movies', 'this', 'one', 'is', 'a', 'real', 'stinker']\n",
            "['<unk>', 'so', 'bad', 'its', 'funny']\n"
          ]
        }
      ]
    },
    {
      "cell_type": "markdown",
      "metadata": {
        "id": "B-tNkFM6wwPT"
      },
      "source": [
        "# Embeddings and Convolution layers\n",
        "\n",
        "Unfortunately, an important part of the work is dedicated to playing with dimensions. This is true for pytorch, as well as tensorflow. Here the sequence of operation is \n",
        "- Embedding\n",
        "- Convolution (1D)\n",
        "- Pooling\n",
        "- Linear\n",
        "\n",
        "Moreover, things can be tricky if we want our model to work properly with mini-batch. \n",
        "\n",
        "\n",
        "A quick introduction on  the Embedding layer. The goal is to store a set of real vectors associated to each symbol (word) in the vocabulary. The layer requires : \n",
        "- num_embeddings: the vocabulary size or the number of words under consideration. Words are represented by an index (starting at 0)\n",
        "- embedding_dim : the dimension of the continous space (or the word embeddings. \n",
        "Implicitely a lookup matrix is created to store *num_embeddings* of *size embedding_dim*\n"
      ]
    },
    {
      "cell_type": "code",
      "execution_count": null,
      "metadata": {
        "id": "1SX0bO2ewwPU"
      },
      "outputs": [],
      "source": [
        "vocabSize = len(lexicon)\n",
        "h1 = 4 # dimension of embeddings, the input size for convolution\n",
        "h2 = 2 # output dimension (filter size) for the convolution\n",
        "embLayer = th.nn.Embedding(num_embeddings=vocabSize, embedding_dim=h1)"
      ]
    },
    {
      "cell_type": "code",
      "source": [
        "vocabSize = len(lexicon)\n",
        "h1 = 4 # dimension of embeddings, the input size for convolution\n",
        "h2 = 2 # output dimension (filter size) for the convolution\n",
        "embLayer = th.nn.Embedding(num_embeddings=vocabSize, embedding_dim=h1)"
      ],
      "metadata": {
        "id": "UeSDKa5dGj1R"
      },
      "execution_count": 5,
      "outputs": []
    },
    {
      "cell_type": "markdown",
      "metadata": {
        "id": "GRby3k-ZwwPV"
      },
      "source": [
        "The inference or forward method expects a Tensor of word indices (LongTensor) and returns the word vectors associated to these indices. "
      ]
    },
    {
      "cell_type": "code",
      "execution_count": null,
      "metadata": {
        "id": "4iLRgvbOwwPV"
      },
      "outputs": [],
      "source": [
        "# Don't play a sentence, with only one word ! \n",
        "embs = embLayer(texts[0])\n",
        "print(\"the length of the sequence : \", len(texts[0]))\n",
        "print(embs.shape)\n",
        "print(embs)"
      ]
    },
    {
      "cell_type": "code",
      "source": [
        "# Don't play a sentence, with only one word!\n",
        "embs = embLayer(texts[0])\n",
        "print(\"the length of the sequence : \", len(texts[0]))\n",
        "print(embs.shape)\n",
        "print(embs)"
      ],
      "metadata": {
        "colab": {
          "base_uri": "https://localhost:8080/"
        },
        "id": "6SI15tM0Is45",
        "outputId": "20a1510f-6030-4b43-8961-68c85367ea07"
      },
      "execution_count": 6,
      "outputs": [
        {
          "output_type": "stream",
          "name": "stdout",
          "text": [
            "the length of the sequence :  7\n",
            "torch.Size([7, 4])\n",
            "tensor([[ 0.3809,  0.3718,  1.4414, -0.3220],\n",
            "        [-0.0716, -0.8475,  0.0575,  3.2444],\n",
            "        [ 2.2061, -0.0684,  1.3121,  1.5937],\n",
            "        [-0.3186,  0.9530, -1.1698, -0.1269],\n",
            "        [ 0.6542, -2.1104, -0.3662,  1.0056],\n",
            "        [ 1.3688,  0.1469,  1.1925, -0.7378],\n",
            "        [-2.4269, -1.5562,  1.4260, -0.9702]], grad_fn=<EmbeddingBackward0>)\n"
          ]
        }
      ]
    },
    {
      "cell_type": "markdown",
      "metadata": {
        "id": "S7FN-JqUwwPW"
      },
      "source": [
        "\n",
        "\n",
        "Look at the documentation of the Conv1d layer. Read it carefully and try to completely understand the following code. A convolution layer expects a tensor as input, with the following dimensions *B,D,L*: \n",
        "- B: size of the batch, the number of examples (here the number of sequence). For the moment we consider *B=1* (only one sequence)\n",
        "- D: the dimension of the vectors for each time step\n",
        "- L: the length of the input sequence (the number of time step)\n",
        "\n",
        "We must therefore modify the dimensions of the tensor generated by the embedding layer accordingly. \n",
        "\n",
        "A first solution could be: "
      ]
    },
    {
      "cell_type": "code",
      "execution_count": null,
      "metadata": {
        "id": "rD3ac051wwPX"
      },
      "outputs": [],
      "source": [
        "tmp = embs.view(1,h1,-1)\n",
        "print(tmp.shape)"
      ]
    },
    {
      "cell_type": "code",
      "source": [
        "tmp = embs.view(1,h1,-1)\n",
        "print(tmp.shape)"
      ],
      "metadata": {
        "colab": {
          "base_uri": "https://localhost:8080/"
        },
        "id": "zdfUak3GJIZR",
        "outputId": "dc8d26ad-ec82-4fef-d5eb-28b7af3eea1e"
      },
      "execution_count": 7,
      "outputs": [
        {
          "output_type": "stream",
          "name": "stdout",
          "text": [
            "torch.Size([1, 4, 7])\n"
          ]
        }
      ]
    },
    {
      "cell_type": "markdown",
      "metadata": {
        "id": "hNz8AYYAwwPX"
      },
      "source": [
        "The shape is correct, but it is safer to check the consistency: the first time step should be the embedding of the first word of the sequence. Is that correct ? "
      ]
    },
    {
      "cell_type": "markdown",
      "source": [
        "Toutes les convolutions fonctionnent avec des tenseurs à 3 dimensions.<br>\n",
        "B = 1 (mini batch à 1 pour 1 exemple?)<br>\n",
        "D = 4<br>\n",
        "L (longueur des séquences) = 7<br>\n",
        "Il faut donc convertir le tenseur et ajouter une dimension"
      ],
      "metadata": {
        "id": "M2qYJSB7PVX4"
      }
    },
    {
      "cell_type": "code",
      "execution_count": null,
      "metadata": {
        "id": "NKeXfLS-wwPY"
      },
      "outputs": [],
      "source": [
        "#### TODO : \n",
        "print(tmp[0,:,0]) # the embedding of the first time step\n",
        "#### \n"
      ]
    },
    {
      "cell_type": "code",
      "source": [
        "print(tmp[0,:,0]) # the embedding of the first time step\n",
        "print(embs)"
      ],
      "metadata": {
        "colab": {
          "base_uri": "https://localhost:8080/"
        },
        "id": "o1SL8Tg-JRKA",
        "outputId": "750275e5-fb74-410c-8666-4335b42b1056"
      },
      "execution_count": 8,
      "outputs": [
        {
          "output_type": "stream",
          "name": "stdout",
          "text": [
            "tensor([ 0.3809,  3.2444, -1.1698,  0.1469], grad_fn=<SelectBackward0>)\n",
            "tensor([[ 0.3809,  0.3718,  1.4414, -0.3220],\n",
            "        [-0.0716, -0.8475,  0.0575,  3.2444],\n",
            "        [ 2.2061, -0.0684,  1.3121,  1.5937],\n",
            "        [-0.3186,  0.9530, -1.1698, -0.1269],\n",
            "        [ 0.6542, -2.1104, -0.3662,  1.0056],\n",
            "        [ 1.3688,  0.1469,  1.1925, -0.7378],\n",
            "        [-2.4269, -1.5562,  1.4260, -0.9702]], grad_fn=<EmbeddingBackward0>)\n"
          ]
        }
      ]
    },
    {
      "cell_type": "markdown",
      "source": [
        "On se rend compte qu'il n'avait pas pris ce qu'il fallait, car a fait à chaque fois un décalage de 7, ce qui n'était pas ce qu'on voulait."
      ],
      "metadata": {
        "id": "VYeTNPDHQbBI"
      }
    },
    {
      "cell_type": "markdown",
      "metadata": {
        "id": "qGc3JpHnwwPY"
      },
      "source": [
        "Find the good way to tranform embs in consistent way. "
      ]
    },
    {
      "cell_type": "code",
      "execution_count": null,
      "metadata": {
        "id": "EaPIM_vzwwPZ"
      },
      "outputs": [],
      "source": [
        "## TODO \n",
        "tmp = None ## <--Find the right way\n",
        "print(tmp.shape)\n",
        "print(tmp[0,:,0])\n",
        "## while  the expected value is : \n",
        "\n"
      ]
    },
    {
      "cell_type": "code",
      "source": [
        "tmp = embs.transpose(1,0)\n",
        "print(tmp.shape)\n",
        "#print(tmp[0,:0])"
      ],
      "metadata": {
        "colab": {
          "base_uri": "https://localhost:8080/"
        },
        "id": "tFDqyvecQx-Z",
        "outputId": "18fb386d-6de0-4461-bb3b-4222d6e55639"
      },
      "execution_count": 9,
      "outputs": [
        {
          "output_type": "stream",
          "name": "stdout",
          "text": [
            "torch.Size([4, 7])\n"
          ]
        }
      ]
    },
    {
      "cell_type": "code",
      "source": [
        "print(embs.shape)\n",
        "tmp = embs.transpose(1,0)\n",
        "print(tmp.shape)\n",
        "print(tmp[:,0])"
      ],
      "metadata": {
        "colab": {
          "base_uri": "https://localhost:8080/"
        },
        "id": "asOVk8SERAD8",
        "outputId": "03b66575-687c-4f92-b485-00a45ff7f64f"
      },
      "execution_count": 10,
      "outputs": [
        {
          "output_type": "stream",
          "name": "stdout",
          "text": [
            "torch.Size([7, 4])\n",
            "torch.Size([4, 7])\n",
            "tensor([ 0.3809,  0.3718,  1.4414, -0.3220], grad_fn=<SelectBackward0>)\n"
          ]
        }
      ]
    },
    {
      "cell_type": "markdown",
      "source": [
        "le premier vecteur est bon"
      ],
      "metadata": {
        "id": "JjNQyaomRWBQ"
      }
    },
    {
      "cell_type": "code",
      "source": [
        "print(embs.shape)\n",
        "tmp = embs.transpose(1,0).unsqueeze(0) #)\n",
        "print(tmp.shape)\n",
        "print(tmp[0,:0])"
      ],
      "metadata": {
        "colab": {
          "base_uri": "https://localhost:8080/"
        },
        "id": "bJtn5NrLRU8n",
        "outputId": "0d95f071-8580-4724-db1b-9d05a0c08a52"
      },
      "execution_count": 12,
      "outputs": [
        {
          "output_type": "stream",
          "name": "stdout",
          "text": [
            "torch.Size([7, 4])\n",
            "torch.Size([1, 4, 7])\n",
            "tensor([], size=(0, 7), grad_fn=<SliceBackward0>)\n"
          ]
        }
      ]
    },
    {
      "cell_type": "markdown",
      "metadata": {
        "id": "S0gDjmYDwwPZ"
      },
      "source": [
        "Now we have a tensor to feed the convolution layer: "
      ]
    },
    {
      "cell_type": "code",
      "execution_count": null,
      "metadata": {
        "id": "xOyNZPvpwwPZ"
      },
      "outputs": [],
      "source": [
        "conv1 = th.nn.Conv1d(in_channels=4,out_channels=2,kernel_size=3)\n",
        "\n",
        "res = conv1(tmp)\n",
        "print(\"embs : \",embs.shape)\n",
        "print(\"tmp  : \",tmp.shape)\n",
        "print(\"conv : \",res.shape)\n"
      ]
    },
    {
      "cell_type": "code",
      "source": [
        "conv1 = th.nn.Conv1d(in_channels=4,out_channels=2,kernel_size=3) #Conv1d(in_channels=4,out_channels=2,kernel_size=3) # par défauit le stride est à 1\n",
        "\n",
        "res = conv1(tmp)\n",
        "print(\"embs : \",embs.shape)\n",
        "print(\"tmp : \",tmp.shape)\n",
        "print(\"conv : \",res.shape)"
      ],
      "metadata": {
        "colab": {
          "base_uri": "https://localhost:8080/"
        },
        "id": "2EGinEoQSrzu",
        "outputId": "d4db3ecf-1f15-456c-ea31-29b5ead89539"
      },
      "execution_count": 14,
      "outputs": [
        {
          "output_type": "stream",
          "name": "stdout",
          "text": [
            "embs :  torch.Size([7, 4])\n",
            "tmp :  torch.Size([1, 4, 7])\n",
            "conv :  torch.Size([1, 2, 5])\n"
          ]
        }
      ]
    },
    {
      "cell_type": "markdown",
      "source": [
        "on a 5 applications"
      ],
      "metadata": {
        "id": "a6vir69GTJag"
      }
    },
    {
      "cell_type": "markdown",
      "metadata": {
        "id": "SxpHkqM-wwPa"
      },
      "source": [
        "Draw what happens to better understand the obtained dimensions. \n",
        "\n",
        "Now if we add another parameter for padding (set to 1). What do you observe ? \n",
        "Play a bit with the *kernel_size* along with the *padding* to understand the interaction: \n",
        "- try kernel_size=3,padding=1 and (4,1)\n",
        "- (5,1) and (5,2)"
      ]
    },
    {
      "cell_type": "code",
      "execution_count": null,
      "metadata": {
        "id": "p3bIo2ynwwPa"
      },
      "outputs": [],
      "source": [
        "conv1 = th.nn.Conv1d(in_channels=h1,out_channels=h2,kernel_size=3,padding=1)\n",
        "tmp=embs.view(1,4,-1)\n",
        "res = conv1(tmp)\n",
        "print(embs.shape)\n",
        "print(tmp.shape)\n",
        "print(res.shape)\n"
      ]
    },
    {
      "cell_type": "code",
      "source": [
        "conv1 = th.nn.Conv1d(in_channels=h1,out_channels=h2,kernel_size=3,padding=1)\n",
        "tmp=embs.view(1,4,-1)\n",
        "res = conv1(tmp)\n",
        "print(embs.shape)\n",
        "print(tmp.shape)\n",
        "print(res.shape)"
      ],
      "metadata": {
        "colab": {
          "base_uri": "https://localhost:8080/"
        },
        "id": "3qVbLSnmTSkw",
        "outputId": "4fd723f0-e956-4f06-f1fe-e27deaaafce8"
      },
      "execution_count": 15,
      "outputs": [
        {
          "output_type": "stream",
          "name": "stdout",
          "text": [
            "torch.Size([7, 4])\n",
            "torch.Size([1, 4, 7])\n",
            "torch.Size([1, 2, 7])\n"
          ]
        }
      ]
    },
    {
      "cell_type": "code",
      "source": [
        "#conv1 = th.nnConv1d(in_channels=h1,out_channels=h2,kernel_size=4,padding=1)\n",
        "#tmp=embs.view()"
      ],
      "metadata": {
        "id": "iw8qa9-jUaXR"
      },
      "execution_count": null,
      "outputs": []
    },
    {
      "cell_type": "markdown",
      "metadata": {
        "id": "oeB8z6BBwwPa"
      },
      "source": [
        "What do you propose for pooling ? \n"
      ]
    },
    {
      "cell_type": "code",
      "execution_count": null,
      "metadata": {
        "id": "5UbiYoe1wwPa"
      },
      "outputs": [],
      "source": [
        ""
      ]
    },
    {
      "cell_type": "code",
      "source": [
        "maxv, indices = res.max(dim=2) # max retourne 2 structures de données : le max et les indices qui l'ont déclenché afin de savoir vers qui les gradient doivent être retropropagés\n",
        "print(maxv.shape)\n",
        "print(res)\n",
        "print(maxv)\n",
        "print(indices)"
      ],
      "metadata": {
        "colab": {
          "base_uri": "https://localhost:8080/"
        },
        "id": "GovxPm7kV74A",
        "outputId": "a2004017-5e9a-4b0a-e42b-b065679eb55e"
      },
      "execution_count": 17,
      "outputs": [
        {
          "output_type": "stream",
          "name": "stdout",
          "text": [
            "torch.Size([1, 2])\n",
            "tensor([[[-0.6849, -0.2787,  1.2437, -0.2522, -0.0681,  0.5586, -0.0309],\n",
            "         [-1.2937, -0.0363,  1.7093, -1.4702, -2.0846,  0.4261,  0.3271]]],\n",
            "       grad_fn=<SqueezeBackward1>)\n",
            "tensor([[1.2437, 1.7093]], grad_fn=<MaxBackward0>)\n",
            "tensor([[2, 2]])\n"
          ]
        }
      ]
    },
    {
      "cell_type": "code",
      "source": [
        "pool = nn.AdaptiveMaxPool1d(2) # extrait les 2 valeurs max par composante\n",
        "pool(res)"
      ],
      "metadata": {
        "colab": {
          "base_uri": "https://localhost:8080/"
        },
        "id": "pKuwkJ_XXaFs",
        "outputId": "5180b4a0-57e2-4474-8f9d-162aac446d0d"
      },
      "execution_count": 18,
      "outputs": [
        {
          "output_type": "execute_result",
          "data": {
            "text/plain": [
              "tensor([[[1.2437, 0.5586],\n",
              "         [1.7093, 0.4261]]], grad_fn=<SqueezeBackward1>)"
            ]
          },
          "metadata": {},
          "execution_count": 18
        }
      ]
    },
    {
      "cell_type": "code",
      "source": [
        "pool2 = nn.MaxPool1d(res.shape[2])\n",
        "pool2(res)"
      ],
      "metadata": {
        "colab": {
          "base_uri": "https://localhost:8080/"
        },
        "id": "-_cUolBKYY-s",
        "outputId": "c02a2510-79a7-4024-ba59-e3afe742fe0a"
      },
      "execution_count": 19,
      "outputs": [
        {
          "output_type": "execute_result",
          "data": {
            "text/plain": [
              "tensor([[[1.2437],\n",
              "         [1.7093]]], grad_fn=<SqueezeBackward1>)"
            ]
          },
          "metadata": {},
          "execution_count": 19
        }
      ]
    },
    {
      "cell_type": "markdown",
      "metadata": {
        "id": "0Yyh93zswwPb"
      },
      "source": [
        "## A class for our model\n",
        "\n",
        "The goal now is to write a class to implement the model with embeddings, convolution and pooling. Writing this class, allows you to wrap what you have seen so far. To debug the model, you can first play step-by-step with each layer to ensure you are right with dimensions (it was done earlier). Then, write the class and run the training to evaluate the result (this what we have to do now). \n",
        "\n",
        "The class inherits from an existing class of pytorch : *Module*. This means that *Conv1d_classifier* is a *Module*, but we add some peculiarities. For that purpose we \n",
        "can fill the following code: "
      ]
    },
    {
      "cell_type": "code",
      "execution_count": null,
      "metadata": {
        "id": "p4EgTaCKwwPb"
      },
      "outputs": [],
      "source": [
        "class Conv1d_classifier(nn.Module):\n",
        "    '''A text classifier:\n",
        "    - input = a list of word indices\n",
        "    - output = probability associated to a binary classification task\n",
        "    - vocab_size: the number of words in the vocabulary we want to embed\n",
        "    - embedding_dim: size of the word vectors\n",
        "    '''\n",
        "    def __init__(self, vocab_size, embedding_dim, feat_size=10, kernel_size=3,lmax=35):\n",
        "        super(Conv1d_classifier, self).__init__()\n",
        "        self.emb_dim = embedding_dim \n",
        "        # in the previous line, \n",
        "        # store the value of the parameter embedding_dim\n",
        "        # TODO : write the end of the constructor\n",
        "        # It is important to create here all the layers of the network. \n",
        "        # All layers that have paramaters should be attribute. \n",
        "        # For example: \n",
        "        self.embeddings = nn.Embedding(vocab_size, embedding_dim)\n",
        "        # Go on and add the rest. \n",
        "        # TODO ... \n",
        "        \n",
        "        \n",
        "            \n",
        "    def forward(self, input):\n",
        "        # TODO\n",
        "        # if you need to run forward with the embedding layer, \n",
        "        # you can call it by self.embeddings \n",
        "        # TODO ... \n",
        "        "
      ]
    },
    {
      "cell_type": "code",
      "source": [
        "class Conv1d_classifier(nn.Module):\n",
        "    '''A text classifier:\n",
        "    - input = a list of word indices\n",
        "    - output = probability associated to a binary classification task\n",
        "    - vocab_size: the number of words in the vocabulary we want to embed\n",
        "    - embedding_dim: size of the word vectors\n",
        "    '''\n",
        "    def __init__(self, vocab_size, embedding_dim, feat_size=10, kernel_size=3, padding=1):#,lmax=35):\n",
        "        super(Conv1d_classifier, self).__init__()\n",
        "        self.emb_dim = embedding_dim \n",
        "        # in the previous line, \n",
        "        # store the value of the parameter embedding_dim\n",
        "        # TODO : write the end of the constructor\n",
        "        # It is important to create here all the layers of the network. \n",
        "        # All layers that have paramaters should be attribute. \n",
        "        # For example: \n",
        "        self.embeddings = nn.Embedding(vocab_size, embedding_dim)\n",
        "        # Go on and add the rest. \n",
        "        # TODO ... \n",
        "        self.conv = nn.Conv1d(embedding_dim, feat_size, kernel_size=kernel_size,padding=padding) #conv1d(embedding_dim, feat_size, kernel_size=kernel_size)\n",
        "        self.pool = nn.AdaptiveMaxPool1d(1)\n",
        "        self.lin = nn.Linear(feat_size,1)        \n",
        "        \n",
        "            \n",
        "    def forward(self, input): # L\n",
        "        # TODO\n",
        "        # if you need to run forward with the embedding layer, \n",
        "        # you can call it by self.embeddings \n",
        "        # TODO ... \n",
        "        out = self.embeddings(input) # L, D\n",
        "        out = out.transpose(1,0).unsqueeze(0) # 1,D,L\n",
        "        out = self.conv(out) # 1,D',L'\n",
        "        out = self.pool(out) # 1,D',1 -> 1,D\n",
        "        return self.lin(out.squeeze())"
      ],
      "metadata": {
        "id": "ZU0xa3gdYv9L"
      },
      "execution_count": 34,
      "outputs": []
    },
    {
      "cell_type": "code",
      "execution_count": null,
      "metadata": {
        "id": "pptzwt0PwwPb"
      },
      "outputs": [],
      "source": [
        "# Test the class: is everything in place:\n",
        "# A first classifier is built like : \n",
        "classifier = Conv1d_classifier(vocab_size=VOCAB_SIZE,embedding_dim=10)\n",
        "# The parameters of the classifier are randomly initialize, but we \n",
        "# can use it on a sequence : \n",
        "out = classif.forward(texts[0])\n",
        "print(out.shape) # the output has 2 dimensions \n",
        "print(out)\n",
        "\n",
        "# It is correct ? If not, correct the class to get the expected result. \n"
      ]
    },
    {
      "cell_type": "code",
      "source": [
        "# Test the class: is everything in place:\n",
        "# A first classifier is built like : \n",
        "classifier = Conv1d_classifier(vocab_size=VOCAB_SIZE,embedding_dim=10)\n",
        "# The parameters of the classifier are randomly initialize, but we \n",
        "# can use it on a sequence : \n",
        "out = classifier.forward(texts[0]) #classif.forward(texts[0])\n",
        "print(out.shape) # the output has 2 dimensions \n",
        "print(out)\n",
        "\n",
        "# It is correct ? If not, correct the class to get the expected result. \n"
      ],
      "metadata": {
        "colab": {
          "base_uri": "https://localhost:8080/"
        },
        "id": "v9raF-sRaANe",
        "outputId": "1458d6e6-bdd9-49bd-e103-4eb949630e79"
      },
      "execution_count": 30,
      "outputs": [
        {
          "output_type": "stream",
          "name": "stdout",
          "text": [
            "torch.Size([1])\n",
            "tensor([0.5642], grad_fn=<AddBackward0>)\n"
          ]
        }
      ]
    },
    {
      "cell_type": "markdown",
      "metadata": {
        "id": "f4NOPa_fwwPc"
      },
      "source": [
        "## Training the model\n",
        "\n",
        "To train the model, we need to define a loss function and an optimizer. For the moment we will rely on an online learning algorithm: online stochastic gradient descent. Like the previous lab session: \n",
        "- we pick one training example\n",
        "- compute the loss\n",
        "- back-propagation of the gradient \n",
        "- update of the parameters\n",
        "\n",
        "\n",
        "At the end of one epoch, we evaluate the model on the validation step. \n"
      ]
    },
    {
      "cell_type": "code",
      "execution_count": null,
      "metadata": {
        "id": "6V2ge3u8wwPc"
      },
      "outputs": [],
      "source": [
        "# Define the training loss \n",
        "loss_function = nn.BCELoss()\n",
        "# The optimizer \n",
        "optimizer = th.optim.Adam(classif1.parameters(), lr=0.01)\n",
        "# Handle the randomization of the training data \n",
        "total = len(texts)\n",
        "ntrain = 20000  # the number of texts for training \n",
        "assert(total > ntrain) # be sure it is correct\n",
        "## \n",
        "randomidx = list(range(total))\n",
        "random.shuffle(randomidx)\n",
        "## random selection of training examples \n",
        "trainidx  = randomidx[:ntrain]\n",
        "## and for validation \n",
        "valididx  = randomidx[ntrain:]\n",
        "## \n",
        "Nepoch = 10 # the number of training epochs \n",
        "for e in range(Nepoch): \n",
        "    # randomized the training set \n",
        "    random.shuffle(trainidx)\n",
        "    for i in trainidx:\n",
        "        # TODO : training\n",
        "        # \n",
        "    ## validation score \n",
        "    \n",
        "    "
      ]
    },
    {
      "cell_type": "code",
      "source": [
        "classifier = Conv1d_classifier(vocab_size=VOCAB_SIZE,embedding_dim=10)\n",
        "# Define the training loss \n",
        "#loss_function = nn.BCELoss()\n",
        "loss_fn = nn.BCEWithLogitsLoss()\n",
        "# The optimizer \n",
        "optimizer = th.optim.Adam(classifier.parameters(), lr=0.01) #classif1.parameters(), lr=0.01)\n",
        "# Handle the randomization of the training data \n",
        "total = len(texts)\n",
        "#ntrain = 20000  # the number of texts for training \n",
        "#assert(total > ntrain) # be sure it is correct\n",
        "## \n",
        "randomidx = list(range(total))\n",
        "#random.shuffle(randomidx)\n",
        "## random selection of training examples \n",
        "#trainidx  = randomidx[:ntrain]\n",
        "## and for validation \n",
        "#valididx  = randomidx[ntrain:]\n",
        "## \n",
        "Nepoch = 10 # the number of training epochs \n",
        "#losses = th.zeros(Nepochs)\n",
        "losses = th.zeros(Nepoch)\n",
        "for epoch in range (Nepoch): #e in range(Nepoch): \n",
        "    total_loss = th.Tensor([0])\n",
        "    correct=0\n",
        "    # randomized the training set \n",
        "    random.shuffle(randomidx) #trainidx)\n",
        "    for i in randomidx: #trainidx:\n",
        "        # TODO : training\n",
        "        #\n",
        "        classifier.zero_grad()\n",
        "        x = texts[i]\n",
        "        probs = classifier(x)[0]\n",
        "        loss = loss_fn(probs, labels[i])\n",
        "        pred= probs>0.5\n",
        "        if pred.item() == labels[i].item() :\n",
        "          correct +=1\n",
        "        loss.backward()\n",
        "        optimizer.step()\n",
        "        total_loss += loss.data\n",
        "    #  loss[epoch] = total_loss/total\n",
        "    losses[epoch] = total_loss/total\n",
        "    ## validation score \n",
        "    print(epoch, losses[epoch], 100.0*correct/total)\n",
        "    "
      ],
      "metadata": {
        "colab": {
          "base_uri": "https://localhost:8080/"
        },
        "id": "nPtdp5GIbbLD",
        "outputId": "be913d4a-e82c-4a8d-b74a-0afdab867d2a"
      },
      "execution_count": 35,
      "outputs": [
        {
          "output_type": "stream",
          "name": "stdout",
          "text": [
            "0 tensor(0.4794) 74.81666666666666\n",
            "1 tensor(0.4095) 80.42333333333333\n",
            "2 tensor(0.3907) 81.87666666666667\n",
            "3 tensor(0.3831) 82.53666666666666\n",
            "4 tensor(0.3756) 82.84666666666666\n",
            "5 tensor(0.3647) 83.78333333333333\n",
            "6 tensor(0.3573) 84.23\n",
            "7 tensor(0.3532) 84.81333333333333\n",
            "8 tensor(0.3464) 85.21\n",
            "9 tensor(0.3476) 85.43\n"
          ]
        }
      ]
    },
    {
      "cell_type": "code",
      "source": [
        "import matplotlib.pyplot as plt\n",
        "#plt.plot(range(len(losses)), losses)\n",
        "plt.plot(losses)"
      ],
      "metadata": {
        "colab": {
          "base_uri": "https://localhost:8080/",
          "height": 283
        },
        "id": "_0cP1J75dKBB",
        "outputId": "21aac4e4-272a-42b8-8aec-00426b9891f2"
      },
      "execution_count": 37,
      "outputs": [
        {
          "output_type": "execute_result",
          "data": {
            "text/plain": [
              "[<matplotlib.lines.Line2D at 0x7fb852df8090>]"
            ]
          },
          "metadata": {},
          "execution_count": 37
        },
        {
          "output_type": "display_data",
          "data": {
            "text/plain": [
              "<Figure size 432x288 with 1 Axes>"
            ],
            "image/png": "[encoded data removed]"
          },
          "metadata": {
            "needs_background": "light"
          }
        }
      ]
    },
    {
      "cell_type": "markdown",
      "metadata": {
        "id": "fh4-bi0YwwPc"
      },
      "source": [
        "# State of the art model\n",
        "\n",
        "To have a better model, we should add convolution layers of different kernel size, as in the paper of Yoon Kim 2014. \n",
        "We can use kernels of size 3,5, and 7 for instance. Create a new class for this model. \n",
        "\n"
      ]
    },
    {
      "cell_type": "code",
      "execution_count": null,
      "metadata": {
        "id": "OW_yTDDBwwPd"
      },
      "outputs": [],
      "source": [
        "# TODO "
      ]
    },
    {
      "cell_type": "markdown",
      "metadata": {
        "id": "UxQabG8pwwPd"
      },
      "source": [
        "And finaly add dropout on the last layer hidden layer.  "
      ]
    },
    {
      "cell_type": "code",
      "execution_count": null,
      "metadata": {
        "id": "lntWb21AwwPd"
      },
      "outputs": [],
      "source": [
        ""
      ]
    },
    {
      "cell_type": "markdown",
      "metadata": {
        "id": "GwdeJs_KwwPd"
      },
      "source": [
        "# Mini-batch training\n",
        "\n",
        "It is really faster to train the model with mini-batch. The issue is that the input sequences are not of the same size. As a workaround, we can write a function that create the tensor  for a mini-batch. This function needs: \n",
        "- a reference of the data (here texts)\n",
        "- the maximum length of a sequence in the mini-batch\n",
        "- a list of the indices of the sequences we want to put in the mini-batch\n",
        "\n",
        "The function creates a tensor and fill it with the selected sequences, but : \n",
        "- if a sequence is shorter than the maximum length, we pad the sequence with zero values (fill the empty slots)\n",
        "- if the sequence is longer, just truncate it. \n",
        "This function returns a tensor of dimensions (B,Lmax) to be the input of the embedding layer of our model. \n",
        "\n",
        "\n"
      ]
    },
    {
      "cell_type": "code",
      "execution_count": null,
      "metadata": {
        "id": "z1txvRztwwPd"
      },
      "outputs": [],
      "source": [
        "# TODO "
      ]
    },
    {
      "cell_type": "code",
      "execution_count": null,
      "metadata": {
        "id": "xEw1u9fRwwPe"
      },
      "outputs": [],
      "source": [
        ""
      ]
    }
  ],
  "metadata": {
    "kernelspec": {
      "display_name": "Python 3",
      "language": "python",
      "name": "python3"
    },
    "language_info": {
      "codemirror_mode": {
        "name": "ipython",
        "version": 3
      },
      "file_extension": ".py",
      "mimetype": "text/x-python",
      "name": "python",
      "nbconvert_exporter": "python",
      "pygments_lexer": "ipython3",
      "version": "3.7.6"
    },
    "colab": {
      "name": "2_lab_imdb_text_convolution.ipynb",
      "provenance": []
    }
  },
  "nbformat": 4,
  "nbformat_minor": 0
}