{
  "cells": [
    {
      "cell_type": "markdown",
      "metadata": {
        "id": "view-in-github",
        "colab_type": "text"
      },
      "source": [
        "<a href=\"https://colab.research.google.com/github/neohack22/IASD/blob/NLP/NLP/2022_cor_1_lab_imdb.ipynb\" target=\"_parent\"><img src=\"https://colab.research.google.com/assets/colab-badge.svg\" alt=\"Open In Colab\"/></a>"
      ]
    },
    {
      "cell_type": "markdown",
      "metadata": {
        "id": "Gl9nmloVpySE"
      },
      "source": [
        "The goal is to set up a simple classifier for text and sentiment analysis. The task is the binary classification of movie reviews. The dataset is a part of the *imdb* dataset. You can find the original dataset on the [imdb website](https://www.imdb.com/interfaces/) or a version on the [kaggle website](https://www.kaggle.com/utathya/imdb-review-dataset). For this lab session, we will use a preprocessed version. \n",
        "\n",
        "\n",
        "The roadmap is:\n",
        "- Load, clean and setup the data (in practice this a very important step, for this lab we skip it). \n",
        "- Make it suitable for pytorch models\n",
        "- Define your own model\n",
        "- Experiments\n",
        "\n",
        "\n",
        "# The data \n",
        "\n",
        "Datasets are available in the cloud repository. There are 2 files, one for positive reviews (imdb.pos) and one for the negative ones (imdb.neg). There are  300000 examples of each class. \n",
        "\n",
        "Here two functions to load and clean the data. "
      ]
    },
    {
      "cell_type": "code",
      "execution_count": null,
      "metadata": {
        "id": "8aLVRPoUpySK",
        "outputId": "c5a27f1c-3e71-496e-b322-32c359f89ce9"
      },
      "outputs": [
        {
          "data": {
            "text/plain": [
              "<torch._C.Generator at 0x7f57a2a39350>"
            ]
          },
          "execution_count": 4,
          "metadata": {},
          "output_type": "execute_result"
        }
      ],
      "source": [
        "import re\n",
        "import numpy as np\n",
        "import torch as th\n",
        "import torch.autograd as ag\n",
        "import torch.nn.functional as F\n",
        "import torch.nn as nn\n",
        "import random\n",
        "import math\n",
        "import pickle\n",
        "import gzip\n",
        "\n",
        "th.manual_seed(1) # set the seed "
      ]
    },
    {
      "cell_type": "markdown",
      "metadata": {
        "id": "5ucjfrVbpySN"
      },
      "source": [
        "# Data loading \n",
        "\n",
        "\n",
        "Load the data : "
      ]
    },
    {
      "cell_type": "code",
      "execution_count": null,
      "metadata": {
        "id": "2K59vHLBpySN",
        "outputId": "745ce76b-1536-4f21-fc3a-b3db55efd4d4"
      },
      "outputs": [
        {
          "name": "stdout",
          "output_type": "stream",
          "text": [
            "--2022-04-06 11:30:46--  https://drive.google.com/uc?export=download&id=1199vdCPh5jCMBTWTSM9th0wqMNv2KSvA\n",
            "Resolving drive.google.com (drive.google.com)... 172.217.18.206, 2a00:1450:4007:812::200e\n",
            "Connecting to drive.google.com (drive.google.com)|172.217.18.206|:443... connected.\n",
            "HTTP request sent, awaiting response... 303 See Other\n",
            "Location: https://doc-0k-0o-docs.googleusercontent.com/docs/securesc/ha0ro937gcuc7l7deffksulhg5h7mbp1/n2hk1hevtcvg0o0qrmu5u6kngpg8htco/1649237400000/16692574002775380562/*/1199vdCPh5jCMBTWTSM9th0wqMNv2KSvA?e=download [following]\n",
            "Warning: wildcards not supported in HTTP.\n",
            "--2022-04-06 11:30:50--  https://doc-0k-0o-docs.googleusercontent.com/docs/securesc/ha0ro937gcuc7l7deffksulhg5h7mbp1/n2hk1hevtcvg0o0qrmu5u6kngpg8htco/1649237400000/16692574002775380562/*/1199vdCPh5jCMBTWTSM9th0wqMNv2KSvA?e=download\n",
            "Resolving doc-0k-0o-docs.googleusercontent.com (doc-0k-0o-docs.googleusercontent.com)... 216.58.213.129, 2a00:1450:4007:811::2001\n",
            "Connecting to doc-0k-0o-docs.googleusercontent.com (doc-0k-0o-docs.googleusercontent.com)|216.58.213.129|:443... connected.\n",
            "HTTP request sent, awaiting response... 200 OK\n",
            "Length: 1552309 (1,5M) [application/x-gzip]\n",
            "Saving to: ‘imdb.pck.gz’\n",
            "\n",
            "imdb.pck.gz         100%[===================>]   1,48M  5,08MB/s    in 0,3s    \n",
            "\n",
            "2022-04-06 11:30:51 (5,08 MB/s) - ‘imdb.pck.gz’ saved [1552309/1552309]\n",
            "\n"
          ]
        }
      ],
      "source": [
        "# find the file imdb.pck.gz, and set the next variable accordingly\n",
        "filename = 'imdb.pck.gz'\n",
        "\n",
        "# You can download the file with the following line: \n",
        "! wget \"https://drive.google.com/uc?export=download&id=1199vdCPh5jCMBTWTSM9th0wqMNv2KSvA\" -O imdb.pck.gz"
      ]
    },
    {
      "cell_type": "markdown",
      "metadata": {
        "collapsed": true,
        "id": "hVFv-0u_pySO"
      },
      "source": [
        "Open the data with python and you will get 3 objects : \n",
        "- *texts*  : a list of tensors, each tensor represent a word sequence to classify. \n",
        "- *labels* : the class, positive or negative, of the corresponding text\n",
        "- *lexicon*: a dictionnary to map integers to real words\n"
      ]
    },
    {
      "cell_type": "code",
      "execution_count": null,
      "metadata": {
        "id": "HlMFMQ08pySO",
        "outputId": "d52cb691-861d-4f36-c49f-269a8c45afed"
      },
      "outputs": [
        {
          "name": "stdout",
          "output_type": "stream",
          "text": [
            "<class 'list'> <class 'torch.Tensor'> <class 'dict'>\n",
            "tensor([ 36,  25, 381,  10,  58,  21,  83])\n",
            "nb examples :  30000\n",
            "Vocab size:  5002\n"
          ]
        }
      ],
      "source": [
        "fp = gzip.open(filename,'rb')\n",
        "texts , labels, lexicon  = pickle.load(fp) \n",
        "\n",
        "print(type(texts), type(labels), type(lexicon))\n",
        "print(texts[0])\n",
        "print(\"nb examples : \", len(texts))\n",
        "VOCAB_SIZE = len(lexicon)\n",
        "print(\"Vocab size: \", VOCAB_SIZE)"
      ]
    },
    {
      "cell_type": "markdown",
      "metadata": {
        "id": "MBHrK2okpySP"
      },
      "source": [
        "Note that a reduced number of words are selected to build the vocabulary. The less frequent words are discarded are replaced by a specific form (*unk* for unknown).\n"
      ]
    },
    {
      "cell_type": "code",
      "execution_count": null,
      "metadata": {
        "id": "7SlDfDuVpySQ",
        "outputId": "92b5a3ea-7909-44db-d2ec-4e8b3913cc98"
      },
      "outputs": [
        {
          "name": "stdout",
          "output_type": "stream",
          "text": [
            "word of index 0  :  <pad>\n",
            "word of index 1  :  <unk>\n",
            "word of index 2  :  !\n",
            "word of index 3  :  the\n",
            "word of index 4  :  a\n",
            "word of index 5  :  of\n",
            "word of index 6  :  movie\n",
            "word of index 7  :  and\n",
            "word of index 8  :  this\n",
            "word of index 9  :  to\n"
          ]
        }
      ],
      "source": [
        "for i in range(10):\n",
        "    print(\"word of index\", i , \" : \", lexicon[i])"
      ]
    },
    {
      "cell_type": "markdown",
      "metadata": {
        "id": "08EvO2IfpySR"
      },
      "source": [
        "To read the text you can use for example the following code: "
      ]
    },
    {
      "cell_type": "code",
      "execution_count": null,
      "metadata": {
        "id": "JUNU4tIdpySR",
        "outputId": "26aaa4f1-ed60-496f-f151-baedc638f5b4"
      },
      "outputs": [
        {
          "name": "stdout",
          "output_type": "stream",
          "text": [
            "torch.Size([7])\n",
            "Some positive reviews\n",
            "------------\n",
            "['strong', 'drama']\n",
            "['please', 'remake', 'this', 'movie']\n",
            "['very', 'funny', '!']\n",
            "['great', 'series']\n",
            "['fun', 'movie']\n",
            "Some negative reviews\n",
            "------------\n",
            "['absolute', 'waste', 'of', 'time']\n",
            "['the', 'worst', 'movie', 'ever', 'made']\n",
            "['slow', 'motion', 'picture', 'that', 'did', \"n't\", 'get', 'to', 'the', 'point']\n",
            "['there', 'are', 'good', 'bad', 'movies', 'and', 'there', 'are', 'bad', 'bad', 'movies', 'this', 'one', 'is', 'a', 'real', 'stinker']\n",
            "['<unk>', 'so', 'bad', 'its', 'funny']\n",
            "-----------\n",
            "A random sentence: \n",
            "['you', 'definitely', 'need', 'to', 'see', 'this', 'movie']\n"
          ]
        }
      ],
      "source": [
        "def idx2wordlist(idx_array,lexicon): \n",
        "    l = []\n",
        "    for i in idx_array: \n",
        "        l.append(lexicon[i.item()])\n",
        "    return l\n",
        "print(texts[0].shape)\n",
        "print(\"Some positive reviews\")\n",
        "print(\"------------\")\n",
        "for i in range(5): \n",
        "    print(idx2wordlist(texts[i+50],lexicon))\n",
        "print(\"Some negative reviews\")\n",
        "print(\"------------\")\n",
        "for i in range(5): \n",
        "    print(idx2wordlist(texts[-i-2000],lexicon))\n",
        "    \n",
        "print(\"-----------\\nA random sentence: \")\n",
        "print(idx2wordlist(texts[104],lexicon))"
      ]
    },
    {
      "cell_type": "markdown",
      "metadata": {
        "id": "mtlcwqfQpySS"
      },
      "source": [
        "# Interface data/model\n",
        "\n",
        "In pratice, we start from raw texts and we need to convert them into word indices. At this step, we can perform text pre-processing, tokenization and data cleaning. In the present case, it is already done. But in real life it is a very important step. \n",
        "\n",
        "\n",
        "The goal is to implement a CBOW (Continuous Bag of Words, or a bag of word embeddings) classifier.  This means that the first layer of the model deals with word embeddings. \n",
        "\n",
        "The **Embedding** module in pytorch is designed for that purpose. This module expects as input an array or a list of word indices. For this session, the goal is to quickly develop a model. The data interface is therefore rather simple. \n",
        "We end this section by creating a labels\n",
        "\n"
      ]
    },
    {
      "cell_type": "markdown",
      "metadata": {
        "id": "KBwbWCEwpyST"
      },
      "source": [
        "# A first model\n",
        "The first model is a CBOW (Continuous Bag of Words). A text is represented as set of words (a bag of binary features):   \n",
        "- Each word is associated to its embedding. \n",
        "- The text is  represented as the sum of the word embeddings involved. \n",
        "- This sum of embeddings is then feed to linear layer with one output unit, \n",
        "- followed by the sigmoid activation. The model output is similar to a logistic regression. \n",
        "\n",
        "Now we want to code this in pytorch. One way is to first try to build such model (or a toy but similar example) **step by step**, then to create a nice class to wrap everything in a **model**. \n",
        "\n",
        "## Building the model, step by step\n",
        "\n",
        "The input layer of the model is an Embedding layer. This is already implemented in pytorch. Look at the following toy example: "
      ]
    },
    {
      "cell_type": "code",
      "execution_count": null,
      "metadata": {
        "id": "Q25KzwFlpySU",
        "outputId": "cd77d9d1-f5d7-45e7-d60c-980e4d6ce137"
      },
      "outputs": [
        {
          "name": "stdout",
          "output_type": "stream",
          "text": [
            "The input:  tensor([ 21, 316, 320,   9,  59,   8,   6])\n",
            "length:  7\n",
            "Embs shape :  torch.Size([7, 4])\n",
            "tensor([[ 0.6971, -0.9576, -1.0220,  1.3295],\n",
            "        [ 1.0256,  1.7889, -1.2001,  0.8268],\n",
            "        [-1.1081,  0.4350, -0.5725, -1.6943],\n",
            "        [-0.9530, -1.2833, -0.6837,  1.3832],\n",
            "        [ 0.2081, -0.4403,  1.3717,  0.9725],\n",
            "        [-0.5415, -1.4216, -0.0367, -1.9919],\n",
            "        [-1.3417,  0.0124, -1.3485, -0.5739]], grad_fn=<EmbeddingBackward>)\n"
          ]
        }
      ],
      "source": [
        "# build an Embedding layer\n",
        "# it is important to understand the parameters given to the constructor ! \n",
        "D = 4\n",
        "embLayer = th.nn.Embedding(num_embeddings=len(lexicon), embedding_dim=D)\n",
        "# The dim of 4 is a toy example. \n",
        "# run forward on some input\n",
        "inp = texts[104]\n",
        "embs = embLayer(inp) # embLayer.forward(inp)\n",
        "# Look at the dimension of i/o\n",
        "print(\"The input: \",inp)\n",
        "print(\"length: \",len(inp))\n",
        "print(\"Embs shape : \",embs.shape)\n",
        "print(embs)"
      ]
    },
    {
      "cell_type": "markdown",
      "metadata": {
        "id": "mAo2OntepySV"
      },
      "source": [
        "Now, we want to compress the resulting tensor along the time dimension. This dimension depends on the input texts, while we want to build a fixed-size representation of the sentence. The sum is a first idea. "
      ]
    },
    {
      "cell_type": "code",
      "execution_count": null,
      "metadata": {
        "id": "l9aqQ9aJpySV",
        "outputId": "26197125-7c58-40e5-9456-ba7270543fcf"
      },
      "outputs": [
        {
          "name": "stdout",
          "output_type": "stream",
          "text": [
            "torch.Size([7])\n",
            "torch.Size([4])\n"
          ]
        }
      ],
      "source": [
        "## compute the sum of out to create a vector of size \"embedding_dim\".\n",
        "## Of course it will be a tensor with one dimension set to \"embedding_dim\".\n",
        "sumOfEmbs = embs.sum(dim=1)\n",
        "print(sumOfEmbs.shape) # check the shape \n",
        "sumOfEmbs = embs.sum(dim=0)\n",
        "print(sumOfEmbs.shape) # check the shape "
      ]
    },
    {
      "cell_type": "markdown",
      "metadata": {
        "id": "Fray2Zj_pySW"
      },
      "source": [
        "The final layer is a linear transformation: as input we have a vector of size *embedding_dim* and 1 in output. \n",
        "Code this transformation and check the shape of the final result. "
      ]
    },
    {
      "cell_type": "code",
      "execution_count": null,
      "metadata": {
        "id": "mA4Ekg8ypySW",
        "outputId": "8ac98391-4be8-466d-98ef-8190c74e61d4"
      },
      "outputs": [
        {
          "name": "stdout",
          "output_type": "stream",
          "text": [
            "torch.Size([1]) tensor([0.6601], grad_fn=<SigmoidBackward>)\n",
            "torch.Size([1]) tensor([0.8424], grad_fn=<SigmoidBackward>)\n"
          ]
        }
      ],
      "source": [
        "# Compute out, after you created the Linear layer\n",
        "th.manual_seed(12) # set the seed \n",
        "W  = th.nn.Linear(in_features=D, out_features=1) \n",
        "out_activation = th.nn.Sigmoid()\n",
        "out= out_activation(W(sumOfEmbs))\n",
        "print(out.shape,out)\n",
        "\n",
        "W  = th.nn.Linear(in_features=D, out_features=1) \n",
        "out_activation = th.nn.Sigmoid()\n",
        "out= out_activation(W(sumOfEmbs))\n",
        "print(out.shape,out)"
      ]
    },
    {
      "cell_type": "markdown",
      "metadata": {
        "id": "BIOT0Mm3pySW"
      },
      "source": [
        "##  Wrap everything in a nice module/model\n",
        "\n",
        "To implement the model, we propose to fill the following class. To write your own module, inherit from the *Module* class. "
      ]
    },
    {
      "cell_type": "code",
      "execution_count": null,
      "metadata": {
        "id": "LLWaKdIEpySX"
      },
      "outputs": [],
      "source": [
        "class CBOW_classifier(nn.Module):\n",
        "\n",
        "    def __init__(self, vocab_size, embedding_dim):\n",
        "        super(CBOW_classifier, self).__init__()\n",
        "        self.emb = nn.Embedding(vocab_size, embedding_dim) \n",
        "        self.lin = nn.Linear(embedding_dim, 1)\n",
        "        \n",
        "    def forward(self, inp):\n",
        "        return th.sigmoid(self.lin(self.emb(inp).sum(dim=0)))\n",
        "        \n",
        "    "
      ]
    },
    {
      "cell_type": "markdown",
      "metadata": {
        "collapsed": true,
        "id": "cs5wXpWwpySX"
      },
      "source": [
        "This class inherits of *Module*. These two methods are mandatory. The constructor build a model with its initialized parameters. The *forward* is for inference.  Reminder: in pytorch, a model takes *Tensors (variables) * and returns *Tensors (variables)*. The output is compared with the gold standard by the loss function. \n",
        "\n",
        "Fill this class and make a simple test: take a training example and see if the forward pass is correct. The result should be a *FloatTensor* with one value: the score between 0 and 1 assigned by the model to the example. \n"
      ]
    },
    {
      "cell_type": "code",
      "execution_count": null,
      "metadata": {
        "id": "UIlrnlyMpySX",
        "outputId": "9fd6769d-002a-4cad-875e-ffef4b306831"
      },
      "outputs": [
        {
          "name": "stdout",
          "output_type": "stream",
          "text": [
            "tensor([0.6236], grad_fn=<SigmoidBackward>)\n",
            "tensor(0.)\n"
          ]
        }
      ],
      "source": [
        "classifier = CBOW_classifier(vocab_size=len(lexicon),embedding_dim=10)\n",
        "print(classifier(texts[0]))\n",
        "print(labels[0])"
      ]
    },
    {
      "cell_type": "code",
      "execution_count": null,
      "metadata": {
        "id": "OFWSldy6pySY",
        "outputId": "bb7b2097-d081-4f63-b030-ffa7884b8395"
      },
      "outputs": [
        {
          "name": "stdout",
          "output_type": "stream",
          "text": [
            "tensor([0.6236], grad_fn=<SigmoidBackward>)\n"
          ]
        }
      ],
      "source": [
        "print(classifier.forward(texts[0]))"
      ]
    },
    {
      "cell_type": "markdown",
      "metadata": {
        "id": "HEqE-4ippySY"
      },
      "source": [
        "## Objective function\n",
        "The loss (or objective) function is tailored to the model and the task.  \n",
        "\n",
        "- Read the doc of module **nn** : http://pytorch.org/docs/master/nn.html. \n",
        "- In our case, two loss functions can be used:  *BCELoss* and *BCEWithLogitsLoss*. Compare them and make your choice. \n",
        "- Given this choice, you may want to modify the class *CBOW_Classifier*. \n",
        "\n"
      ]
    },
    {
      "cell_type": "code",
      "execution_count": null,
      "metadata": {
        "id": "yOg8oBhTpySY"
      },
      "outputs": [],
      "source": [
        "## TODO : define de training function\n",
        "loss_fn = nn.BCELoss()\n",
        "\n"
      ]
    },
    {
      "cell_type": "markdown",
      "metadata": {
        "collapsed": true,
        "id": "pDdDsFBmpySZ"
      },
      "source": [
        "## Training \n",
        "\n",
        "Write the code to train your model and monitor the training process and to evaluate the model using test data. Starts with a SGD optimizer with 0.1 as learning rate. \n",
        "\n",
        "### Random order\n",
        "In many cases, in can be important to iter on the data in a random order and not in the order we built the corpus. This initial order can introduce bias in the evaluation process.  A simple method to shuffle the data is to shuffle the indices we use. Assume we have 10 training samples, we can do something like \n"
      ]
    },
    {
      "cell_type": "code",
      "execution_count": null,
      "metadata": {
        "id": "6yPZ4J8ypySZ",
        "outputId": "207db18a-a6c1-461d-d9f3-508e0e18256d"
      },
      "outputs": [
        {
          "name": "stdout",
          "output_type": "stream",
          "text": [
            "4\n",
            "0\n",
            "2\n",
            "3\n",
            "8\n",
            "7\n",
            "9\n",
            "6\n",
            "1\n",
            "5\n"
          ]
        }
      ],
      "source": [
        "ids = list(range(10))\n",
        "import random \n",
        "random.shuffle(ids)\n",
        "for i in ids: \n",
        "    print(i)"
      ]
    },
    {
      "cell_type": "code",
      "execution_count": null,
      "metadata": {
        "id": "3e1N9HuIpySZ"
      },
      "outputs": [],
      "source": []
    },
    {
      "cell_type": "markdown",
      "metadata": {
        "id": "YkLbvcefpySZ"
      },
      "source": [
        "##### Now we have everything to run the training loop and test this model. "
      ]
    },
    {
      "cell_type": "code",
      "execution_count": null,
      "metadata": {
        "id": "9FN8eCwkpySa",
        "outputId": "a7be379c-0a06-408e-c669-c3cb0efd7906"
      },
      "outputs": [
        {
          "name": "stdout",
          "output_type": "stream",
          "text": [
            "0 tensor(0.7279) 54.54333333333334 tensor(15049.)\n",
            "1 tensor(0.6946) 58.906666666666666 tensor(15068.)\n",
            "2 tensor(0.6643) 62.86333333333334 tensor(14997.)\n",
            "3 tensor(0.6356) 65.49333333333334 tensor(15064.)\n",
            "4 tensor(0.6110) 67.36 tensor(14950.)\n",
            "5 tensor(0.5916) 68.86666666666666 tensor(14988.)\n",
            "6 tensor(0.5753) 69.91333333333333 tensor(14934.)\n",
            "7 tensor(0.5615) 71.37 tensor(14945.)\n",
            "8 tensor(0.5477) 72.33666666666667 tensor(14995.)\n",
            "9 tensor(0.5371) 72.68 tensor(14916.)\n"
          ]
        }
      ],
      "source": [
        "total = len(texts)\n",
        "randomidx = list(range(total))\n",
        "preds = th.zeros(total)\n",
        "optimizer = th.optim.SGD(classifier.parameters(),lr=1e-2)\n",
        "Nepochs = 10\n",
        "losses = th.zeros(Nepochs)\n",
        "for epoch in range(Nepochs):\n",
        "    total_loss = th.Tensor([0])\n",
        "    correct=0 \n",
        "    random.shuffle(randomidx)\n",
        "    for i in randomidx:\n",
        "        classifier.zero_grad()\n",
        "        x = texts[i]\n",
        "        probs = classifier(x)[0]    \n",
        "        loss = loss_fn(probs, labels[i])\n",
        "        pred= probs>0.5\n",
        "        preds[i] = pred\n",
        "        if pred.item() == labels[i].item() : \n",
        "            correct +=1\n",
        "        loss.backward()\n",
        "        optimizer.step()\n",
        "        total_loss += loss.data\n",
        "    losses[epoch] = total_loss/total\n",
        "    print(epoch, losses[epoch], 100.0*correct/total, preds.sum())\n",
        "\n",
        "    \n",
        "\n",
        "\n"
      ]
    },
    {
      "cell_type": "code",
      "execution_count": null,
      "metadata": {
        "id": "Xvduf49XpySa",
        "outputId": "1435f946-064f-47ef-c8f8-f1fc951d87ef"
      },
      "outputs": [
        {
          "data": {
            "text/plain": [
              "[<matplotlib.lines.Line2D at 0x7f57963942d0>]"
            ]
          },
          "execution_count": 57,
          "metadata": {},
          "output_type": "execute_result"
        },
        {
          "data": {
            "image/png": "[encoded data removed]",
            "text/plain": [
              "<Figure size 432x288 with 1 Axes>"
            ]
          },
          "metadata": {
            "needs_background": "light"
          },
          "output_type": "display_data"
        }
      ],
      "source": [
        "import matplotlib.pyplot as plt\n",
        "plt.plot(losses)"
      ]
    },
    {
      "cell_type": "markdown",
      "metadata": {
        "id": "lejz2by5pySa"
      },
      "source": [
        "# First Experiments\n",
        "\n",
        "- Make experiments  with  2000 to start then all the data for training (equally distributed between positive and negative examples). \n",
        "- You should create a development and test sets. \n",
        "- Test different parametrization of the model (here the embedding size) and the hyper-parameter (the learning rate) for each setups. \n",
        "- Compare these different setups (loss function on the train and also the classification accuracy). \n",
        "\n"
      ]
    },
    {
      "cell_type": "code",
      "execution_count": null,
      "metadata": {
        "id": "UdNAgkrLpySa"
      },
      "outputs": [],
      "source": []
    },
    {
      "cell_type": "markdown",
      "metadata": {
        "id": "_WkBH35wpySa"
      },
      "source": [
        "# A deeper model\n",
        "\n",
        "We can add a hidden layer to the previous classifier. \n",
        "- Do the same as before with the different setups\n",
        "- Find the good choice of hyper-parameters.  \n",
        "\n"
      ]
    },
    {
      "cell_type": "code",
      "execution_count": null,
      "metadata": {
        "id": "Xf5frvuhpySb"
      },
      "outputs": [],
      "source": []
    }
  ],
  "metadata": {
    "kernelspec": {
      "display_name": "Python 3",
      "language": "python",
      "name": "python3"
    },
    "language_info": {
      "codemirror_mode": {
        "name": "ipython",
        "version": 3
      },
      "file_extension": ".py",
      "mimetype": "text/x-python",
      "name": "python",
      "nbconvert_exporter": "python",
      "pygments_lexer": "ipython3",
      "version": "3.7.6"
    },
    "colab": {
      "provenance": [],
      "include_colab_link": true
    }
  },
  "nbformat": 4,
  "nbformat_minor": 0
}