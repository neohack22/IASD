{
  "cells": [
    {
      "cell_type": "markdown",
      "metadata": {
        "id": "view-in-github",
        "colab_type": "text"
      },
      "source": [
        "<a href=\"https://colab.research.google.com/github/neohack22/IASD/blob/projets/projets/Differential_Privacy.ipynb\" target=\"_parent\"><img src=\"https://colab.research.google.com/assets/colab-badge.svg\" alt=\"Open In Colab\"/></a>"
      ]
    },
    {
      "cell_type": "markdown",
      "metadata": {
        "id": "DxbWScIyItQk"
      },
      "source": [
        "# Differential Privacy\n",
        "\n",
        "Among the numerous definition of private data analysis,\n",
        "differential privacy has become the dominant standard by providing a formal and adaptive conception of safe data-analysis. First introduced by Dwork et al. in [1], and further detailed in [2]. It states that an algorithm is  differentially private if, given two **close** databases, it produces statistically indistinguishable outputs.\n",
        "Formally, a randomized algorithm $\\mathcal{A}$ is $\\epsilon$-differentially private if for any output $Z$ and for any two close databases $X$ and $X'$, $$\\mathbb{P}[\\mathcal{A}(X) \\in Z] \\leq e^{\\epsilon}\\mathbb{P}\\left[\\mathcal{A}(X') \\in Z\\right]. \\text{   } (1)$$\n",
        "Where the probability space is over the coin flips of $\\mathcal{A}$.\n",
        "\n",
        "Here, $\\mathbb{P}[\\mathcal{A}(X) \\in Z]$ is the probability of a\n",
        "randomized function $\\mathcal{A}$ to ouput a value in $Z$ when evaluating\n",
        "it on a given dataset $X$. The right side is identical to the left except\n",
        "that the function is now evaluated on a dataset $X'$ that differs from $X$\n",
        "in at most one element (hence the notion of **closness**). And finally, $\\epsilon$ is a parameter that describes\n",
        "how much information is leaked by the function.\n",
        "\n",
        "Sounds pretty abstract, so let's work out a simple example: Let's assume we want to build a differentially private dataset from the adult data that we've looked at in the first session. The goal here is to protect an adversary from gaining too much information about the sensitive attribute (income > 50k or not) when adding that Alice's data to the dataset. With differential privacy, we look at the state of the dataset before and after Alice was added and quantify the privacy loss as given by equation (1). Let us suppose that $\\mathcal{A}$ outputs the total number of persons with income > 50k in deterministic fashion. Then by simply comparing the output value of $\\mathcal{A}$ before and after the adding Alice to the dataset, we can infer with certainty what kind of income Alice has. This highlights the fact that any deterministic analysis of a dataset represents a security breach, this is why the curator is needed to input some kind of randomness that will help preserving privacy.\n",
        "\n",
        "Let us now investigate a simple randomization trick called **randomized response**. It works as follows:\n",
        "\n",
        "* With probability $1-p$, we add a Alice's true income value to the database.\n",
        "* With probability $p$ we choose a random boolean (0/1) value from a distribution returning $0$ with probability $q$ and $1$ with probability $1-q$ and add that value to the database instead.\n",
        "\n",
        "**We denote 0/1 for generality, but for our application 1 means \"income > 50k\" and 0 means \"income =< 50k\"**\n",
        "\n",
        "Using this scheme, an attacker cannot know with certainty if the real attribute value of Alice or a random one was added to the database. This protects the privacy of Alice but of course it also adds noise to the database, making it more difficult to use for legitimate users as well. In practice, we therefore always need to weigh privacy against utility when employing differential privacy. In this notebook, we will calculate the $\\epsilon$ and other relevant parameters for our scheme above and see how we can use this differentially private data to make predictions about the \n",
        "income distribution of the people in our dataset.\n",
        "\n",
        "* [1] [Differential privacy](https://www.microsoft.com/en-us/research/publication/differential-privacy/)\n",
        "* [2] [The Algorithmic Foundations of Differential Privacy](https://www.cis.upenn.edu/~aaroth/Papers/privacybook.pdf)\n",
        "\n",
        "\n",
        "## Calculating $\\epsilon$\n",
        "\n",
        "In our differentially private scheme, the probability of adding the true attribute value to the database is $1-p$. The probability of adding a random value is therefore $p$ and the probability of that value being $0$ is $q$. So how can we relate this to eq. (1)? Well, we can set $X$ and $X'$ as the versions of our database **before** and **after** adding Alice's data to it. Let's say that before adding Alice there are $k$ $1$'s in the database. We can then use a query $\\mathcal{A}$ that returns the number of $1$'s in the database and choose our result set as $Z = \\{n\\}$. Before adding Alice to the database, $\\mathcal{A}(X)=k$ with certainty, hence $\\mathbb{P}(\\mathcal{A}(X) = k)=1$. After adding Alice's data, the probability that the query result is still $k$ can be calculated as follows, depending on the Alice's attribute value:\n",
        "\n",
        "* If Alice's attribute value is $0$, the probability that $\\mathcal{A}$ is unchanged after adding the data to the database is given as $1-p+p\\cdot q$.\n",
        "* If a Alice's attribute value is $1$, the probability that $\\mathcal{A}$ is unchanged after adding the data to the database is given as $p\\cdot q$.\n",
        "\n",
        "We therefore have the two equations\n",
        "\n",
        "$$\n",
        "\\begin{eqnarray}\n",
        "\\mathbb{P}[\\mathcal{A}(X) \\in Z | x_i=1] & = & 1 \\le \\exp{\\epsilon}\\cdot \\mathbb{P}[\\mathcal{\n",
        "A}(X') \\in Z | x_i=1] = \\exp{\\epsilon}\\cdot p \\cdot q \\\\\n",
        "\\mathbb{P}[\\mathcal{A}(X) \\in Z | x_i=0] & = & 1 \\le \\exp{\\epsilon}\\cdot \\mathbb{P}[\\mathcal{A}(X') \\in Z | x_i=0] = \\exp{\\epsilon}\\cdot (1-p+p \\cdot q) \\\\\n",
        "\\end{eqnarray}\n",
        "$$\n",
        "\n",
        "This leads to\n",
        "\n",
        "$$\n",
        "\\begin{eqnarray}\n",
        " \\epsilon & \\ge & -\\ln{\\left(p \\cdot q\\right)} \\\\\n",
        " \\epsilon & \\ge & -\\ln{\\left(1-p+p\\cdot q\\right)} \\\\\n",
        "\\end{eqnarray}\n",
        "$$\n",
        "\n",
        "Since we're interested in an upper bound for $\\epsilon$ and since $-\\ln{\\left(1-p+p\\cdot q\\right)} \\le -\\ln{p\\cdot q}$, we get\n",
        "\n",
        "$$\n",
        "\\begin{equation}\n",
        "\\epsilon = -\\ln{\\left(p\\cdot q\\right)}\n",
        "\\end{equation}\n",
        "$$\n",
        "\n",
        "\n",
        "## Exercise \n",
        "\n",
        "* To your point of view, what value of $\\epsilon$ represent a good enough uncertainty for the adversary? \n",
        "* How does the level of privacy evolve when $\\epsilon$ gets bigger/smaller? \n",
        "* Same question for the accuracy of $\\mathcal{A}$."
      ]
    },
    {
      "cell_type": "markdown",
      "metadata": {
        "id": "e6XKE66WItQr"
      },
      "source": []
    },
    {
      "cell_type": "markdown",
      "metadata": {
        "id": "e3vH_9EYItQs"
      },
      "source": [
        "## Exercise\n",
        "\n",
        "**Write a function that returns the value of epsilon for a given $p$ and $q$.**"
      ]
    },
    {
      "cell_type": "code",
      "execution_count": null,
      "metadata": {
        "id": "xLy5n_d5ItQt"
      },
      "outputs": [],
      "source": [
        "import numpy as np\n",
        "\n",
        "def epsilon(p, q):\n",
        "    \"\"\"\n",
        "    :param p: The probability of returning a random value instead of the true one\n",
        "    :param q: The probability of returning 1 when generating a random value\n",
        "    :returns: The epsilon for the given values of p, q\n",
        "    \"\"\""
      ]
    },
    {
      "cell_type": "markdown",
      "metadata": {
        "id": "eEcFImhuItQv"
      },
      "source": [
        "## Exercise\n",
        "\n",
        "**Plot $\\epsilon$ for various values of $p$ and $q$. Analyze.**"
      ]
    },
    {
      "cell_type": "code",
      "execution_count": null,
      "metadata": {
        "id": "lpZYd8_OItQw"
      },
      "outputs": [],
      "source": []
    },
    {
      "cell_type": "markdown",
      "metadata": {
        "id": "T698IxehItQw"
      },
      "source": [
        "# A Different Scheme\n",
        "\n",
        "Let's assume we propose the following anonymization scheme for our dataset:\n",
        "\n",
        "* With probability $1-p$, we add a person's true attribute value to the database\n",
        "* With probability $p$, we do not add anything to the database\n",
        "\n",
        "## Exercise\n",
        "\n",
        "Can you calculate the $\\epsilon$ of this scheme? Which scheme do you prefer, and why? Does this scheme always provide \"plausible deniability\"?"
      ]
    },
    {
      "cell_type": "markdown",
      "metadata": {
        "id": "uGe3hSiwItQx"
      },
      "source": []
    },
    {
      "cell_type": "markdown",
      "metadata": {
        "id": "jktkknFHItQy"
      },
      "source": [
        "## What does this tell us?\n",
        "\n",
        "Calculating the $\\epsilon$ is great, but what does it actually tell us about the privacy loss or risk for our use case? Let's assume an adversary want to learn about the real value of a person's attribute. If she knows the model used for generating the data, she could then use Bayesian reasoning to calculate the probability of a person's attribute being $1$ given the observed difference in the database, which we denote $\\Delta = \\mathcal{A}(X') - \\mathcal{A}(X)$. Using Bayes theorem we can calculate this as (for $\\Delta = 1$ here)\n",
        "\n",
        "$$\n",
        "\\begin{equation}\n",
        "    P(x_i=1 | \\Delta = 1) = P(\\Delta = 1| x_i = 1)\\cdot \\frac{P(x_i=1)}{P(\\Delta=1)}\n",
        "\\end{equation}\n",
        "$$\n",
        "\n",
        "For our scheme, we know that \n",
        "\n",
        "$$\n",
        "\\begin{equation}\n",
        "    P(\\Delta = 1 | x_i = \\mathrm{1}) = 1-pq\n",
        "\\end{equation}\n",
        "$$\n",
        "\n",
        "and\n",
        "\n",
        "$$\n",
        "\\begin{equation}\n",
        "    P(\\Delta = 1) = (1-p)\\cdot P(x_i = \\mathrm{1}) + p\\cdot(1-q)\n",
        "\\end{equation}\n",
        "$$\n",
        "\n",
        "so we obtain\n",
        "\n",
        "$$\n",
        "\\begin{equation}\n",
        "    P(x_i=1 | \\Delta = 1) = \\frac{(1-pq)\\cdot P(x_i = \\mathrm{1})}{(1-p)\\cdot P(x_i = \\mathrm{1})+p\\cdot(1-q)}\n",
        "\\end{equation}\n",
        "$$\n",
        "\n",
        "Let's see how this relates to $\\epsilon$!"
      ]
    },
    {
      "cell_type": "markdown",
      "metadata": {
        "id": "9vc2OLQwItQz"
      },
      "source": [
        "## Exercise\n",
        "\n",
        "**Write a function that calculates the conditional probability as given in eq. (4).**"
      ]
    },
    {
      "cell_type": "code",
      "execution_count": null,
      "metadata": {
        "id": "KUB-lngLItQz"
      },
      "outputs": [],
      "source": [
        "def p_cond(p, q, p_1):\n",
        "    \"\"\"\n",
        "    :param   p: The probability of returning a random value instead of the true one\n",
        "    :param   q: The probability of returning 1 when generating a random value\n",
        "    :param p_1: The probability of a person to have an attribute value x_i=1\n",
        "    \"\"\""
      ]
    },
    {
      "cell_type": "markdown",
      "metadata": {
        "id": "U4TIwFUGItQ0"
      },
      "source": [
        "## Exercise\n",
        "\n",
        "**Choose a given q (e.g. 0.1) as well as a value for P(x_i=yes) and plot the conditional probability from eq. (4) as a function of p.**"
      ]
    },
    {
      "cell_type": "code",
      "execution_count": null,
      "metadata": {
        "id": "GePxTK4fItQ1"
      },
      "outputs": [],
      "source": []
    },
    {
      "cell_type": "markdown",
      "metadata": {
        "id": "YaG68axzItQ1"
      },
      "source": [
        "# Implementing It\n",
        "\n",
        "Now that we have a feeling for our scheme we can implement it! For that, we load the \"adult census\" data from the k-anonymity case study again."
      ]
    },
    {
      "cell_type": "code",
      "execution_count": null,
      "metadata": {
        "id": "0pZ1mLb5ItQ2"
      },
      "outputs": [],
      "source": [
        "import pandas as pd\n",
        "\n",
        "names = (\n",
        "    'age',\n",
        "    'workclass', #Private, Self-emp-not-inc, Self-emp-inc, Federal-gov, Local-gov, State-gov, Without-pay, Never-worked.\n",
        "    'fnlwgt', # \"weight\" of that person in the dataset (i.e. how many people does that person represent) -> https://www.kansascityfed.org/research/datamuseum/cps/coreinfo/keyconcepts/weights\n",
        "    'education',\n",
        "    'education-num',\n",
        "    'marital-status',\n",
        "    'occupation',\n",
        "    'relationship',\n",
        "    'race',\n",
        "    'sex',\n",
        "    'capital-gain',\n",
        "    'capital-loss',\n",
        "    'hours-per-week',\n",
        "    'native-country',\n",
        "    'income',\n",
        ")\n",
        "categorical = set((\n",
        "    'workclass',\n",
        "    'education',\n",
        "    'marital-status',\n",
        "    'occupation',\n",
        "    'relationship',\n",
        "    'sex',\n",
        "    'native-country',\n",
        "    'race',\n",
        "    'income',\n",
        "))\n",
        "df = pd.read_csv(\"data/adult.all.txt\", sep=\", \", header=None, names=names, index_col=False, engine='python');# We load the data using Pandas"
      ]
    },
    {
      "cell_type": "markdown",
      "metadata": {
        "id": "HItPxAcHItQ2"
      },
      "source": [
        "## Exercise\n",
        "\n",
        "**Implement a function that processes a new value according to the differentially private scheme discussed above.**"
      ]
    },
    {
      "cell_type": "code",
      "execution_count": null,
      "metadata": {
        "id": "D0XaYCD2ItQ3"
      },
      "outputs": [],
      "source": [
        "def process_value(value, p, q):\n",
        "    \"\"\"\n",
        "    :param value: The value to apply the differentially private scheme to.\n",
        "    :param     p: The probability of returning a random value instead of the true one\n",
        "    :param     q: The probability of returning 1 when generating a random value\n",
        "    :    returns: A new, differentially private value\n",
        "    \"\"\""
      ]
    },
    {
      "cell_type": "markdown",
      "metadata": {
        "id": "xKatkv9TItQ3"
      },
      "source": [
        "## Exercise\n",
        "\n",
        "**Now apply this method to the \"income\" column of the adult dataset to obtain a differentially private dataset e.g with p=q=0.5.**"
      ]
    },
    {
      "cell_type": "code",
      "execution_count": null,
      "metadata": {
        "id": "E1VwXxLAItQ4"
      },
      "outputs": [],
      "source": []
    },
    {
      "cell_type": "markdown",
      "metadata": {
        "id": "J84BMpt8ItQ4"
      },
      "source": [
        "# Working With Differentially Private Data\n",
        "\n",
        "After collecting the differentially private data, we want of course to make use of it! For example, we might want to estimate the probability of a person having an income > 50K based on the data we've collected, which we assume is Bernoulli distributed with a probability $p_{1}$ for every individual in the database. Now, when adding up the data from $n$ persons, the resulting value is binomially distributed. The mean of this distribution is given as $\\mathbb{E}_{1} = n\\cdot p_{1}$ and the variance as $\\mathbb{V}_1 = n\\cdot p_1 \\cdot (1-p_1)$. A consistent and unbiased estimator of $\\mathbb{E}_1$ is $\\hat{\\mathbb{E}}_{1} = \\sum_i x_i$, which then gives an estimate for $p_{1}$ of $\\hat{p}_{1} = \\hat{\\mathbb{E}}_1/n$.\n",
        "\n",
        "Now, if we apply the differential privacy mechanism to our dataset, the probability of obtaining a $1$ will change to $p_{1,dp} = (1-p)\\cdot p_{1}+p\\cdot(1-q)$. Therefore, an unbiased and consistent estimator of $p_1$ based on $p_{1,dp}$ is given as\n",
        "$$\n",
        "\\begin{equation}\n",
        "\\hat{p}_1 = \\frac{\\hat{p}_{1,dp}-p\\cdot(1-q)}{1-p}\n",
        "\\end{equation}\n",
        "$$\n",
        "\n",
        "As before, $\\hat{p}_{1,dp}=\\sum_i x_{i,dp}/n$. Note that this naive estimator can return a negative probability, which can be avoided by using a more suitable method like a maximum likelihood estimator."
      ]
    },
    {
      "cell_type": "markdown",
      "metadata": {
        "id": "0z3OXOO4ItQ5"
      },
      "source": [
        "## Exercise\n",
        "\n",
        "**Write an estimator for $\\hat{p}_1$ based on a differentially private dataset with parameters $p$ and $k$..**"
      ]
    },
    {
      "cell_type": "code",
      "execution_count": null,
      "metadata": {
        "id": "x5nbg1A-ItQ5"
      },
      "outputs": [],
      "source": [
        "def p_1_estimator(p_1dp, p, q):\n",
        "    \"\"\"\n",
        "    :param p_1dp: The empirical probability of x_i=1 of our DP dataset.\n",
        "    :param     p: The p value of our DP scheme.\n",
        "    :param     q: The q value of our DP scheme.\n",
        "    :    returns: An estimate of p_1 of our DP dataset.\n",
        "    \"\"\""
      ]
    },
    {
      "cell_type": "markdown",
      "metadata": {
        "id": "12F_ijE7ItQ5"
      },
      "source": [
        "## Exercise\n",
        "\n",
        "**Apply the estimator to the differentially private dataset created above to generate an estimate of $p_1$.**"
      ]
    },
    {
      "cell_type": "code",
      "execution_count": null,
      "metadata": {
        "id": "MM3mqSq1ItQ6"
      },
      "outputs": [],
      "source": []
    },
    {
      "cell_type": "markdown",
      "metadata": {
        "id": "xXizV7QPItQ6"
      },
      "source": [
        "## Exercise\n",
        "\n",
        "**Write a function that estimates the variance of $\\hat{p}_{1}$ and calculate its value for the case above.**\n",
        "\n",
        "Hint: The variance of $\\hat{p}_1$ can be estimated as $$\\hat{\\mathrm{Var}}_1 = \\frac{\\hat{\\mathrm{Var}}_{1,dp}}{(1-p)^2} = \\frac{\\hat{p}_{1,dp}\\cdot(1-\\hat{p}_{1,dp})}{(1-p)^2\\cdot n}$$"
      ]
    },
    {
      "cell_type": "code",
      "execution_count": null,
      "metadata": {
        "id": "mK9TGDyAItQ6"
      },
      "outputs": [],
      "source": [
        "def var_1_estimator(p_1dp, n, p, q):\n",
        "    \"\"\"\n",
        "    :param p_1dp: The estimates probability of our DP dataset.\n",
        "    :param     n: The number of samples in our dataset.\n",
        "    :param     p: The p value of our DP scheme.\n",
        "    :param     q: The q value of our DP scheme.\n",
        "    :    returns: An estimate of the variance of our DP dataset.\n",
        "    \"\"\"\n",
        "\n",
        "var_1_hat = var_1_estimator(p_1dp, len(df), p, q)\n",
        "var_1_hat"
      ]
    },
    {
      "cell_type": "markdown",
      "metadata": {
        "id": "UC4pfp2bItQ7"
      },
      "source": [
        "## Exercise\n",
        "\n",
        "**Repeat the data generation process $N$ (e.g. 500) times. For each resulting dataset, estimate $\\hat{p}_1$ and store the value in a list, so that we can plot it later.**"
      ]
    },
    {
      "cell_type": "code",
      "execution_count": null,
      "metadata": {
        "id": "DRew29G0ItQ7"
      },
      "outputs": [],
      "source": [
        "p_1_hats = []\n",
        "\n",
        "\n",
        "for j in range(500):\n",
        "    \n",
        "    \n",
        "    # ...\n",
        "    \n",
        "    p_1_hats.append(p_1_hat)\n",
        "\n",
        "p_1_hats = np.array(p_1_hats)"
      ]
    },
    {
      "cell_type": "code",
      "execution_count": null,
      "metadata": {
        "id": "77WuNzhiItQ8"
      },
      "outputs": [],
      "source": [
        "# We then compare these estimates to the expected distribution (via central limit theorem: a normal distribution\n",
        "# with expectation p_1 and variance var_1_hat)\n",
        "\n",
        "import matplotlib.pylab as plt\n",
        "\n",
        "plt.hist(p_1_hats, density=True)\n",
        "\n",
        "gauss = lambda x, mu, var: 1/np.sqrt(2*np.pi*var)*np.exp(-(x-mu)**2/(2*var))\n",
        "\n",
        "p_1_hat = p_1_hats.mean()\n",
        "\n",
        "x = np.linspace(0.1, 0.3, 1000)\n",
        "\n",
        "plt.plot(x, gauss(x, p_1_hat, var_1_hat));"
      ]
    },
    {
      "cell_type": "markdown",
      "metadata": {
        "id": "wEnNUo01ItQ8"
      },
      "source": [
        "# Another scheme: Laplace mechanism. \n",
        "\n",
        "We can now estimate the probability of a categorial private feature from accuring in $X$. But what about numerical features? For example, let us suppose that the database $X$ contains the real people incomes. We still would like to be able to estimate the mean income of the population in a private way. First let us introduce what a Laplace distribution is. A Laplace distribution with scale $b$ that is the distribution with probability density \n",
        "\n",
        "$$Lap(x|b)=\\frac{1}{2b}exp\\left(-\\frac{|x|}{b}\\right).$$\n",
        "\n",
        "\n",
        "To manage this kind of problem, we intoduce another simple randomization scheme called **Laplace mechanism**: \n",
        "\n",
        "* Sample $s$ a random noise from a laplace distribution with scale $\\frac{\\epsilon}{\\Delta}$, where $\\Delta$ is the maximum difference of income two people could have. For example we consider that the minimum income is $0$ and the maximum is 200 000 dollars, hence $\\Delta=200 000$.\n",
        "* Add $s$ to Alice's true income to get a private income for Alice. \n",
        "\n",
        "For this scheme, calculating $\\epsilon$ is trivial, since it is directly in the distribution scale."
      ]
    },
    {
      "cell_type": "markdown",
      "metadata": {
        "id": "U7hjzqgFItQ9"
      },
      "source": [
        "## Exercise (Bonus)\n",
        "\n",
        "**Show that the Laplace mechanism makes data publishing $\\epsilon$-differentially private**"
      ]
    },
    {
      "cell_type": "markdown",
      "metadata": {
        "id": "6BDWWJmgItQ9"
      },
      "source": [
        "## Implementing it\n",
        "\n",
        "To implement this scheme, we load a modified version of the \"adult census\" data from the k-anonymity where incomes are numerical. "
      ]
    },
    {
      "cell_type": "code",
      "execution_count": null,
      "metadata": {
        "id": "VJSRAKi5ItQ9"
      },
      "outputs": [],
      "source": [
        "import pandas as pd\n",
        "\n",
        "names = (\n",
        "    'age',\n",
        "    'workclass', #Private, Self-emp-not-inc, Self-emp-inc, Federal-gov, Local-gov, State-gov, Without-pay, Never-worked.\n",
        "    'fnlwgt', # \"weight\" of that person in the dataset (i.e. how many people does that person represent) -> https://www.kansascityfed.org/research/datamuseum/cps/coreinfo/keyconcepts/weights\n",
        "    'education',\n",
        "    'education-num',\n",
        "    'marital-status',\n",
        "    'occupation',\n",
        "    'relationship',\n",
        "    'race',\n",
        "    'sex',\n",
        "    'capital-gain',\n",
        "    'capital-loss',\n",
        "    'hours-per-week',\n",
        "    'native-country',\n",
        "    'income-numerical',\n",
        ")\n",
        "categorical = set((\n",
        "    'workclass',\n",
        "    'education',\n",
        "    'marital-status',\n",
        "    'occupation',\n",
        "    'relationship',\n",
        "    'sex',\n",
        "    'native-country',\n",
        "    'race',\n",
        "))\n",
        "df = pd.read_csv(\"data/adult.all.numerical.txt\", sep=\" \", header=None, names=names, index_col=False, engine='python');# We load the data using Pandas"
      ]
    },
    {
      "cell_type": "code",
      "execution_count": null,
      "metadata": {
        "id": "z-YQCthhItQ-"
      },
      "outputs": [],
      "source": [
        "df.head()"
      ]
    },
    {
      "cell_type": "markdown",
      "metadata": {
        "id": "tjcX-7OaItQ-"
      },
      "source": [
        "## Exercise \n",
        "\n",
        "**Write a function that generates a random sample from a Laplace distribution with scale $b$.**\n",
        "\n",
        "**Hint: You can use numpy.random or learn more about how to generate noises [here](https://en.wikipedia.org/wiki/Inverse_transform_sampling).**"
      ]
    },
    {
      "cell_type": "code",
      "execution_count": null,
      "metadata": {
        "id": "pwhcEsayItQ-"
      },
      "outputs": [],
      "source": [
        "def simlap(n, b):\n",
        "    \"\"\"\n",
        "    :param     n: The number of samples to draw\n",
        "    :param     b: Scale of the distribution.\n",
        "    :    returns: a vector of size n with noises sample from laplace dristribution.\n",
        "    \"\"\""
      ]
    },
    {
      "cell_type": "code",
      "execution_count": null,
      "metadata": {
        "id": "3nKhGgHOItQ_"
      },
      "outputs": [],
      "source": [
        "# We now plot the histogram of the sampled noise against the density \n",
        "# of a laplace distribution to check if they match\n",
        "\n",
        "b=1\n",
        "n=1000\n",
        "\n",
        "l = simlap(n,b)\n",
        "plt.hist(l,  density=True, bins=[float(i)/2 for i in range(-20,21)])\n",
        "\n",
        "laplace = lambda x, b: 1/(2*b)*np.exp(-np.abs(x)/b)\n",
        "\n",
        "x = np.linspace(-10, 10, 1000)\n",
        "\n",
        "plt.plot(x, laplace(x, b));"
      ]
    },
    {
      "cell_type": "markdown",
      "metadata": {
        "id": "zzxZ-lJ1ItQ_"
      },
      "source": [
        "## Exercise\n",
        "\n",
        "**Now apply Laplace mechanism to the \"income-numerical\" column of the adult dataset to obtain a differentially private dataset with $\\epsilon =1$.**"
      ]
    },
    {
      "cell_type": "code",
      "execution_count": null,
      "metadata": {
        "id": "UigVJYHmItQ_"
      },
      "outputs": [],
      "source": [
        "import numpy as np\n",
        "\n",
        "epsilon=1\n",
        "\n",
        "df['income_dp'] = ..."
      ]
    },
    {
      "cell_type": "markdown",
      "metadata": {
        "id": "_7AKHnsQItRA"
      },
      "source": [
        "## Exercise\n",
        "\n",
        "**compare a few of the lines from the rivate and non private columns. Would you say the data would still be useful for a statistical analysis? Compute the mean of each columns and discuss.**"
      ]
    },
    {
      "cell_type": "code",
      "execution_count": null,
      "metadata": {
        "id": "DchncpqYItRA"
      },
      "outputs": [],
      "source": [
        "df.head()"
      ]
    },
    {
      "cell_type": "code",
      "execution_count": null,
      "metadata": {
        "id": "xfx-7MClItRA"
      },
      "outputs": [],
      "source": []
    },
    {
      "cell_type": "markdown",
      "metadata": {
        "id": "2pK5zPJQItRA"
      },
      "source": [
        "# Bonus: Noisy Histogram\n",
        "\n",
        "Read about the following [blog posts](https://desfontain.es/privacy/differential-privacy-awesomeness.html) (At least post 1 to 4). Can you compute a private histogram of the incomes of the dataset? "
      ]
    },
    {
      "cell_type": "code",
      "execution_count": null,
      "metadata": {
        "id": "UM-ChpZoItRB"
      },
      "outputs": [],
      "source": []
    }
  ],
  "metadata": {
    "kernelspec": {
      "display_name": "Python 3",
      "language": "python",
      "name": "python3"
    },
    "language_info": {
      "codemirror_mode": {
        "name": "ipython",
        "version": 3
      },
      "file_extension": ".py",
      "mimetype": "text/x-python",
      "name": "python",
      "nbconvert_exporter": "python",
      "pygments_lexer": "ipython3",
      "version": "3.7.4"
    },
    "colab": {
      "provenance": [],
      "include_colab_link": true
    }
  },
  "nbformat": 4,
  "nbformat_minor": 0
}