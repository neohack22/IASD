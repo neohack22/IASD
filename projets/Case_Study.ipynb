{
  "cells": [
    {
      "cell_type": "markdown",
      "metadata": {
        "id": "view-in-github",
        "colab_type": "text"
      },
      "source": [
        "<a href=\"https://colab.research.google.com/github/neohack22/IASD/blob/projets/projets/Case_Study.ipynb\" target=\"_parent\"><img src=\"https://colab.research.google.com/assets/colab-badge.svg\" alt=\"Open In Colab\"/></a>"
      ]
    },
    {
      "cell_type": "markdown",
      "metadata": {
        "id": "vZD0JH2gR8j0"
      },
      "source": [
        "# Case Study - Health Care dataset\n",
        "\n",
        "In this notebook, we'll explore the possibilties for data privacy on a new dataset.\n",
        "Your challenge is that you are working with a health care provider, who would like to do the \"machine learning\" on this dataset to figure out if there are preventative measures that can be taken so fewer patients are seen in the hospital for related care or so that their visits are shorter, to do so you might want to predict the **has_diabetes** according to the features at hand. The goal is that more potentially affected patients are given access to primary care physicians and regular medication or visits that can keep them out of the hostpital for long stays."
      ]
    },
    {
      "cell_type": "markdown",
      "metadata": {
        "id": "T-355Zd8R8j3"
      },
      "source": [
        "## Part One: Determining What's Useful and What's Sensitive\n",
        "\n",
        "- Data completeness\n",
        "- Potential sensitive columns\n",
        "- Potential useful features\n",
        "- What columns should we use? \n",
        "- Which ones should we remove?\n",
        "- Are there columns which we should protect but not remove? \n",
        "\n",
        "For each, we need some justification or thought!"
      ]
    },
    {
      "cell_type": "code",
      "execution_count": null,
      "metadata": {
        "id": "VWmutJVMR8j5"
      },
      "outputs": [],
      "source": [
        "%matplotlib inline\n",
        "import pandas as pd\n",
        "\n",
        "df = pd.read_csv('data/health_data.csv')"
      ]
    },
    {
      "cell_type": "code",
      "execution_count": null,
      "metadata": {
        "id": "5uz3hdP6R8j6"
      },
      "outputs": [],
      "source": [
        "df.head()"
      ]
    },
    {
      "cell_type": "markdown",
      "metadata": {
        "id": "_OsSi0biR8j7"
      },
      "source": [
        "## Part Two: Determining the Approach for Protecting the Columns\n",
        "\n",
        "You are the database manager at the health care provider asked to prepare the data to send to a machine learning consultant who will help give you a more detailed analysis. The consultant has signed all the necessary NDAs, but you have instructions to keep the private or potentially sensitive data to a minimum.\n",
        "\n",
        "Based on the scenario and what you learned\n",
        "\n",
        "- What methods will be most effective? \n",
        "- Have you considered potential data leakage within the *non-sensitive* columns?\n",
        "- Is there other sensitive or secret data we should address?"
      ]
    },
    {
      "cell_type": "code",
      "execution_count": null,
      "metadata": {
        "id": "RwBnGkMJR8j8"
      },
      "outputs": [],
      "source": []
    },
    {
      "cell_type": "markdown",
      "metadata": {
        "id": "53SPRunYR8j9"
      },
      "source": [
        "## Part Three: Implement Data Protection for the Dataset\n",
        "\n",
        "Now it's time to code! Feel free to utilize code from the previous notebooks to implement protection of at least two of the columns you chose as sensitive. \n",
        "\n",
        "- What was difficult to decide and implement?\n",
        "- How might this relate to real problems in machine learning with sensitive data? \n",
        "\n"
      ]
    },
    {
      "cell_type": "code",
      "execution_count": null,
      "metadata": {
        "id": "VW_klBbNR8j-"
      },
      "outputs": [],
      "source": []
    },
    {
      "cell_type": "markdown",
      "metadata": {
        "id": "CKoVrf9VR8j_"
      },
      "source": [
        "## Bonus: machine learning from anonymized Dataset\n",
        "\n",
        "Build a model that predicts the the diabetes statue of a new patient based on the anonymized database from part three. Compare with non anonymized dataset. (try to get more than 0.65 accuracy)"
      ]
    },
    {
      "cell_type": "code",
      "execution_count": null,
      "metadata": {
        "id": "lYKi2WUmR8j_"
      },
      "outputs": [],
      "source": []
    }
  ],
  "metadata": {
    "kernelspec": {
      "display_name": "Python 3",
      "language": "python",
      "name": "python3"
    },
    "language_info": {
      "codemirror_mode": {
        "name": "ipython",
        "version": 3
      },
      "file_extension": ".py",
      "mimetype": "text/x-python",
      "name": "python",
      "nbconvert_exporter": "python",
      "pygments_lexer": "ipython3",
      "version": "3.7.4"
    },
    "colab": {
      "provenance": [],
      "include_colab_link": true
    }
  },
  "nbformat": 4,
  "nbformat_minor": 0
}