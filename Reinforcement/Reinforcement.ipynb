{
  "nbformat": 4,
  "nbformat_minor": 0,
  "metadata": {
    "colab": {
      "provenance": [],
      "authorship_tag": "ABX9TyO3Qv/1fYKGM1xVx9vF5rLV",
      "include_colab_link": true
    },
    "kernelspec": {
      "name": "python3",
      "display_name": "Python 3"
    },
    "language_info": {
      "name": "python"
    }
  },
  "cells": [
    {
      "cell_type": "markdown",
      "metadata": {
        "id": "view-in-github",
        "colab_type": "text"
      },
      "source": [
        "<a href=\"https://colab.research.google.com/github/neohack22/IASD/blob/reinforcement/Reinforcement/Reinforcement.ipynb\" target=\"_parent\"><img src=\"https://colab.research.google.com/assets/colab-badge.svg\" alt=\"Open In Colab\"/></a>"
      ]
    },
    {
      "cell_type": "markdown",
      "source": [
        "Left Move Problem"
      ],
      "metadata": {
        "id": "YFKlMPnVmSJ5"
      }
    },
    {
      "cell_type": "code",
      "execution_count": null,
      "metadata": {
        "id": "oaqWDaoFmNTu"
      },
      "outputs": [],
      "source": [
        "import random\n",
        "import copy"
      ]
    },
    {
      "cell_type": "code",
      "source": [
        "def legalMoves(state):\n",
        "  return [0, 1]"
      ],
      "metadata": {
        "id": "Tg6oBtt4mXSa"
      },
      "execution_count": null,
      "outputs": []
    },
    {
      "cell_type": "code",
      "source": [
        "def play(state, move):\n",
        "  state.append(move)\n",
        "  return state"
      ],
      "metadata": {
        "id": "N2EAI9eXmcfP"
      },
      "execution_count": null,
      "outputs": []
    },
    {
      "cell_type": "code",
      "source": [
        "def terminal(state):\n",
        "  return len(state) >= 60"
      ],
      "metadata": {
        "id": "ZtBA6LWkmjO4"
      },
      "execution_count": null,
      "outputs": []
    },
    {
      "cell_type": "code",
      "source": [
        "def score(state):\n",
        "  s = 0\n",
        "  for i in state:\n",
        "    if i == 0:\n",
        "      s = s + 1\n",
        "  return s"
      ],
      "metadata": {
        "id": "v_3i_DItmpXM"
      },
      "execution_count": null,
      "outputs": []
    },
    {
      "cell_type": "code",
      "source": [
        "def playout(state):\n",
        "  while not terminal(state):\n",
        "    moves = legalMoves(state)\n",
        "    move = moves[int(random.random() * len(moves))]\n",
        "    state = play(state, move)\n",
        "  return state"
      ],
      "metadata": {
        "id": "a1eH8bRImz-p"
      },
      "execution_count": null,
      "outputs": []
    },
    {
      "cell_type": "code",
      "source": [
        "def nested(state, n):\n",
        "  if(n == 0):\n",
        "    return playout(state)\n",
        "  bestSequence = []\n",
        "  while not terminal (state):\n",
        "    moves = legalMoves(state)\n",
        "    for m in moves:\n",
        "      s1 = copy.deepcopy(state)\n",
        "      s1 = play(s1, m)\n",
        "      s1 = nested(s1, n-1)\n",
        "      if score(s1) > score(bestSequence):\n",
        "        bestSequence = s1\n",
        "    state = play(state, bestSequence[len(state)])\n",
        "  return state"
      ],
      "metadata": {
        "id": "lXFEItQQnn-_"
      },
      "execution_count": null,
      "outputs": []
    },
    {
      "cell_type": "markdown",
      "source": [
        "Expression Discovery"
      ],
      "metadata": {
        "id": "mTSjZdTvq-yu"
      }
    },
    {
      "cell_type": "code",
      "source": [
        "import random\n",
        "import copy"
      ],
      "metadata": {
        "id": "S2mhvTyaoUHr"
      },
      "execution_count": null,
      "outputs": []
    },
    {
      "cell_type": "code",
      "source": [
        "atoms = [1, 2, 3, '+', '-']\n",
        "children = [0, 0, 0, 2, 2]\n",
        "MaxLength = 11"
      ],
      "metadata": {
        "id": "zt37agwdrCvr"
      },
      "execution_count": null,
      "outputs": []
    },
    {
      "cell_type": "code",
      "source": [
        "def legalMoves(state, leaves):\n",
        "  l = []\n",
        "  for a in range(len(atoms  )):\n",
        "    if len(state) + leaves + children[a] <= MaxLength:\n",
        "      l.append(a)\n",
        "  return l"
      ],
      "metadata": {
        "id": "4tgMzb6mrPbb"
      },
      "execution_count": null,
      "outputs": []
    },
    {
      "cell_type": "code",
      "source": [
        "def play(state, move, leaves):\n",
        "  state.append(move)\n",
        "  return[\n",
        "      state, leaves - 1 + children[\n",
        "          move\n",
        "      ]\n",
        "  ]"
      ],
      "metadata": {
        "id": "zVU836PNrnaJ"
      },
      "execution_count": null,
      "outputs": []
    },
    {
      "cell_type": "code",
      "source": [
        "def terminal(state, leaves):\n",
        "  return leaves == 0"
      ],
      "metadata": {
        "id": "hk1Pkvqkr1oV"
      },
      "execution_count": null,
      "outputs": []
    },
    {
      "cell_type": "code",
      "source": [
        "def playout(state, leaves):\n",
        "  while not terminal(state, leaves):\n",
        "    moves = legalMoves(state, leaves)\n",
        "    move = moves[\n",
        "        int(\n",
        "            random.random() * len(\n",
        "                moves\n",
        "            )\n",
        "        )\n",
        "    ]\n",
        "    [\n",
        "        state, leaves\n",
        "    ] = play(\n",
        "        state, move, leaves\n",
        "    )\n",
        "  return state"
      ],
      "metadata": {
        "id": "WdyGDTD2r7AL"
      },
      "execution_count": null,
      "outputs": []
    },
    {
      "cell_type": "code",
      "source": [
        "def score(state, i):\n",
        "  if children[state[i]] == 0:\n",
        "    return[\n",
        "        atoms[\n",
        "            state[i]\n",
        "        ], i + 1\n",
        "    ]\n",
        "  if children[state[i]] == 2:\n",
        "    a = atoms[state[i]]\n",
        "    [\n",
        "        s1, i\n",
        "    ] == score(\n",
        "        state, i + 1\n",
        "    )\n",
        "    [s2, i ] = score(\n",
        "        state, i\n",
        "    )\n",
        "    if a == '+':\n",
        "      return[\n",
        "          s1 + s2, i\n",
        "      ]\n",
        "    if a == '-':\n",
        "      return[\n",
        "          s1 - s2, i\n",
        "      ]"
      ],
      "metadata": {
        "id": "3Ssx4CimsoO5"
      },
      "execution_count": null,
      "outputs": []
    },
    {
      "cell_type": "code",
      "source": [
        "def score (state, i):\n",
        "  if children [state [i]] == 0:\n",
        "    return [atoms [state [i]], i + 1]\n",
        "  if children [state [i]] == 2:\n",
        "    a = atoms [state [i]]\n",
        "    [s1,i] = score (state, i + 1)\n",
        "    [s2,i] = score (state, i)\n",
        "    if a == '+':\n",
        "      return [s1 + s2, i]\n",
        "    if a == '-':\n",
        "      return [s1 - s2, i]"
      ],
      "metadata": {
        "id": "-8Y2MUoXxGDs"
      },
      "execution_count": null,
      "outputs": []
    },
    {
      "cell_type": "code",
      "source": [
        "def nested(state, leaves, n): #aeves, n):\n",
        "  bestSequence = []\n",
        "  bestScore = -10e9\n",
        "  while not terminal(state, leaves): #laeves):\n",
        "    moves = legalMoves(\n",
        "        state, leaves\n",
        "    )\n",
        "    for m in moves:\n",
        "      s1 = copy.deepcopy(state)\n",
        "      [\n",
        "          s1, leaves1\n",
        "      ] = play(\n",
        "          s1, m, leaves\n",
        "      )\n",
        "      if (n==1):\n",
        "        s1 = playout(\n",
        "            s1, leaves1\n",
        "        )\n",
        "      else:\n",
        "        s1 = nested(\n",
        "            s1, leaves1, n - 1\n",
        "        )\n",
        "      [\n",
        "          score1, i\n",
        "      ] = score(\n",
        "          s1, 0\n",
        "      )\n",
        "      if score1 > bestScore:\n",
        "        bestScore = score1\n",
        "        bestSequence = s1\n",
        "  [\n",
        "      state, leaves\n",
        "  ] = play(\n",
        "      state, bestSequence[\n",
        "          len(\n",
        "              state\n",
        "          )\n",
        "      ], leaves\n",
        "  )\n",
        "#return state\n",
        "  return state"
      ],
      "metadata": {
        "id": "2oIrVKaHts6a"
      },
      "execution_count": null,
      "outputs": []
    },
    {
      "cell_type": "code",
      "source": [
        "def nested (state, leaves, n):\n",
        "  bestSequence = []\n",
        "  bestScore = -10e9\n",
        "  while not terminal (state, leaves):\n",
        "      moves = legalMoves (state, leaves)\n",
        "      for m in moves:\n",
        "        s1 = copy.deepcopy (state)\n",
        "        [s1, leaves1] = play (s1, m, leaves)\n",
        "        if (n == 1):\n",
        "          s1 = playout (s1, leaves1)\n",
        "        else:\n",
        "          s1 = nested (s1, leaves1, n - 1)\n",
        "        [score1, i] = score (s1, 0)\n",
        "        if score1 > bestScore:\n",
        "          bestScore = score1\n",
        "          bestSequence = s1\n",
        "    [state, leaves] = play (state, bestSequence [len (state)], leaves)\n",
        "  return state"
      ],
      "metadata": {
        "colab": {
          "base_uri": "https://localhost:8080/",
          "height": 130
        },
        "id": "pmZMwuaoyHTu",
        "outputId": "1e38a2b8-00b5-4832-82b7-a5887b8f0436"
      },
      "execution_count": null,
      "outputs": [
        {
          "output_type": "error",
          "ename": "IndentationError",
          "evalue": "ignored",
          "traceback": [
            "\u001b[0;36m  File \u001b[0;32m\"<tokenize>\"\u001b[0;36m, line \u001b[0;32m17\u001b[0m\n\u001b[0;31m    [state, leaves] = play (state, bestSequence [len (state)], leaves)\u001b[0m\n\u001b[0m    ^\u001b[0m\n\u001b[0;31mIndentationError\u001b[0m\u001b[0;31m:\u001b[0m unindent does not match any outer indentation level\n"
          ]
        }
      ]
    },
    {
      "cell_type": "code",
      "source": [
        "import sys"
      ],
      "metadata": {
        "id": "Jc1j7x45veE0"
      },
      "execution_count": null,
      "outputs": []
    },
    {
      "cell_type": "code",
      "source": [
        "def printExpression(state):\n",
        "  for i in state:\n",
        "    sys.stdout.write(\n",
        "        str(\n",
        "            atoms[i]\n",
        "        )+''\n",
        "    )\n",
        "  sys.stdout.write(\n",
        "      '\\n'\n",
        "  )"
      ],
      "metadata": {
        "id": "Je79ziFGvnco"
      },
      "execution_count": null,
      "outputs": []
    },
    {
      "cell_type": "code",
      "source": [
        "def test():\n",
        "  for i in range(10):\n",
        "    s = playout(\n",
        "        [], 1\n",
        "    )\n",
        "    printExpression(s)\n",
        "    print(\n",
        "        score(\n",
        "            s, 0\n",
        "        )[0]\n",
        "    )\n",
        "  for i in range(10):\n",
        "    s = nested([], 1, 2)\n",
        "    printExpression(s)\n",
        "    print(\n",
        "        score(\n",
        "            s, 0\n",
        "        )[0]\n",
        "    )"
      ],
      "metadata": {
        "id": "U5sBZun5v75n"
      },
      "execution_count": null,
      "outputs": []
    },
    {
      "cell_type": "code",
      "source": [
        "test()"
      ],
      "metadata": {
        "colab": {
          "base_uri": "https://localhost:8080/",
          "height": 658
        },
        "id": "9GV7sFlBwmSQ",
        "outputId": "d7b1229c-4c97-4e8c-ad32-12af43c8da1f"
      },
      "execution_count": null,
      "outputs": [
        {
          "output_type": "stream",
          "name": "stdout",
          "text": [
            "3\n",
            "3\n",
            "2\n",
            "2\n",
            "+3--233\n",
            "-1\n",
            "2\n",
            "2\n",
            "2\n",
            "2\n",
            "3\n",
            "3\n",
            "+3-33\n",
            "3\n",
            "1\n",
            "1\n",
            "2\n",
            "2\n",
            "-32\n",
            "1\n"
          ]
        },
        {
          "output_type": "error",
          "ename": "IndexError",
          "evalue": "ignored",
          "traceback": [
            "\u001b[0;31m---------------------------------------------------------------------------\u001b[0m",
            "\u001b[0;31mIndexError\u001b[0m                                Traceback (most recent call last)",
            "\u001b[0;32m<ipython-input-48-fbd55f77ab7c>\u001b[0m in \u001b[0;36m<module>\u001b[0;34m\u001b[0m\n\u001b[0;32m----> 1\u001b[0;31m \u001b[0mtest\u001b[0m\u001b[0;34m(\u001b[0m\u001b[0;34m)\u001b[0m\u001b[0;34m\u001b[0m\u001b[0;34m\u001b[0m\u001b[0m\n\u001b[0m",
            "\u001b[0;32m<ipython-input-47-cb3c35797fc2>\u001b[0m in \u001b[0;36mtest\u001b[0;34m()\u001b[0m\n\u001b[1;32m     11\u001b[0m     )\n\u001b[1;32m     12\u001b[0m   \u001b[0;32mfor\u001b[0m \u001b[0mi\u001b[0m \u001b[0;32min\u001b[0m \u001b[0mrange\u001b[0m\u001b[0;34m(\u001b[0m\u001b[0;36m10\u001b[0m\u001b[0;34m)\u001b[0m\u001b[0;34m:\u001b[0m\u001b[0;34m\u001b[0m\u001b[0;34m\u001b[0m\u001b[0m\n\u001b[0;32m---> 13\u001b[0;31m     \u001b[0ms\u001b[0m \u001b[0;34m=\u001b[0m \u001b[0mnested\u001b[0m\u001b[0;34m(\u001b[0m\u001b[0;34m[\u001b[0m\u001b[0;34m]\u001b[0m\u001b[0;34m,\u001b[0m \u001b[0;36m1\u001b[0m\u001b[0;34m,\u001b[0m \u001b[0;36m2\u001b[0m\u001b[0;34m)\u001b[0m\u001b[0;34m\u001b[0m\u001b[0;34m\u001b[0m\u001b[0m\n\u001b[0m\u001b[1;32m     14\u001b[0m     \u001b[0mprintExpression\u001b[0m\u001b[0;34m(\u001b[0m\u001b[0ms\u001b[0m\u001b[0;34m)\u001b[0m\u001b[0;34m\u001b[0m\u001b[0;34m\u001b[0m\u001b[0m\n\u001b[1;32m     15\u001b[0m     print(\n",
            "\u001b[0;32m<ipython-input-38-1341cc6a1f3a>\u001b[0m in \u001b[0;36mnested\u001b[0;34m(state, leaves, n)\u001b[0m\n\u001b[1;32m     19\u001b[0m       \u001b[0;32melse\u001b[0m\u001b[0;34m:\u001b[0m\u001b[0;34m\u001b[0m\u001b[0;34m\u001b[0m\u001b[0m\n\u001b[1;32m     20\u001b[0m         s1 = nested(\n\u001b[0;32m---> 21\u001b[0;31m             \u001b[0ms1\u001b[0m\u001b[0;34m,\u001b[0m \u001b[0mleaves1\u001b[0m\u001b[0;34m,\u001b[0m \u001b[0mn\u001b[0m \u001b[0;34m-\u001b[0m \u001b[0;36m1\u001b[0m\u001b[0;34m\u001b[0m\u001b[0;34m\u001b[0m\u001b[0m\n\u001b[0m\u001b[1;32m     22\u001b[0m         )\n\u001b[1;32m     23\u001b[0m       [\n",
            "\u001b[0;32m<ipython-input-38-1341cc6a1f3a>\u001b[0m in \u001b[0;36mnested\u001b[0;34m(state, leaves, n)\u001b[0m\n\u001b[1;32m     34\u001b[0m       state, bestSequence[\n\u001b[1;32m     35\u001b[0m           len(\n\u001b[0;32m---> 36\u001b[0;31m               \u001b[0mstate\u001b[0m\u001b[0;34m\u001b[0m\u001b[0;34m\u001b[0m\u001b[0m\n\u001b[0m\u001b[1;32m     37\u001b[0m           )\n\u001b[1;32m     38\u001b[0m       ], leaves\n",
            "\u001b[0;31mIndexError\u001b[0m: list index out of range"
          ]
        }
      ]
    },
    {
      "cell_type": "markdown",
      "source": [
        "NRPA"
      ],
      "metadata": {
        "id": "cpiH0tsZ6J3l"
      }
    },
    {
      "cell_type": "code",
      "source": [
        "def randomMove(state, policy):\n",
        "  moves = legalMoves(state)\n",
        "  sum = 0.0\n",
        "  for m in moves:\n",
        "    if policy.get(code(m)) == None:\n",
        "      policy[m] = 0.0\n",
        "    sum = sum + math.exp(policy[code(m)])\n",
        "  stop = random.random() * sum\n",
        "  sum = 0.0\n",
        "  for m in moves:\n",
        "    sum = sum + math+exp(policy[code(m)])\n",
        "    if(sum>=stop):\n",
        "      return m"
      ],
      "metadata": {
        "id": "3ulVEEQVwnQD"
      },
      "execution_count": null,
      "outputs": []
    },
    {
      "cell_type": "code",
      "source": [
        "def playout(state, policy):\n",
        "  while not terminal(state):\n",
        "    move = randomMove(state, policy)\n",
        "    play(state, move)\n",
        "  return score(state, sequence(state))"
      ],
      "metadata": {
        "id": "WPpYvhSv7Acp"
      },
      "execution_count": null,
      "outputs": []
    },
    {
      "cell_type": "code",
      "source": [
        "def adapt(policy, sequence):\n",
        "  s = root\n",
        "  polp = copy.deepcopy(policy)\n",
        "  for best in sequence:\n",
        "    moves = legalMoves(s)\n",
        "    sum = 0.0\n",
        "    for m in moves:\n",
        "      if policy.get(code(m)) == None:\n",
        "        policy[code(m)] = 0.0\n",
        "      sum = sum + math.exp(policy[code(m)])\n",
        "    for m in moves:\n",
        "      if polp.get(code(m)) == None:\n",
        "        polp[code(m)] = 0.0\n",
        "      polp[code(m)] -= math.exp(policy[code(m)]) / sum\n",
        "    polp[code(best)] += 1.0\n",
        "    play(s, best)\n",
        "  return polp"
      ],
      "metadata": {
        "id": "TNRzrZei7Q3f"
      },
      "execution_count": null,
      "outputs": []
    },
    {
      "cell_type": "code",
      "source": [
        "def NRPA(level, policy):\n",
        "  if level == 0:\n",
        "    return playout(root, policy)\n",
        "  best = -np.inf\n",
        "  seq = []\n",
        "  for i in range(100):\n",
        "    pol = copy.deepcopy(policy)\n",
        "    sc, s = NRPA(level - 1, pol)\n",
        "    if sc > best:\n",
        "      best = sc\n",
        "      seq = s\n",
        "    policy = adapt(policy, seq)\n",
        "  return best, seq"
      ],
      "metadata": {
        "id": "_u70iQPE8q-I"
      },
      "execution_count": null,
      "outputs": []
    },
    {
      "cell_type": "code",
      "source": [
        "import numpy as np"
      ],
      "metadata": {
        "id": "uffZ5xVF-C4i"
      },
      "execution_count": null,
      "outputs": []
    },
    {
      "cell_type": "code",
      "source": [
        "def code(self, board):\n",
        "  direction = 0\n",
        "  if self.y2 > self.y1:\n",
        "    if board.board[self.x2][self.y2] == Empty:\n",
        "      direction = 1\n",
        "    else:\n",
        "      direction = 2\n",
        "  if self.y2 < self.y1:\n",
        "    if board.board[self.x2][self.y2] == Empty:\n",
        "      direction = 3\n",
        "    else:\n",
        "      direction = 4\n",
        "  if self.color == White:\n",
        "    return 5 *(Dy * self.x1 + self.y1) + direction\n",
        "  else:\n",
        "    return 5 * Dx * Dy + 5 * (Dy * self.x1 + self.y1) + direction #direction"
      ],
      "metadata": {
        "id": "eHb8I7pl-Rb7"
      },
      "execution_count": null,
      "outputs": []
    },
    {
      "cell_type": "code",
      "source": [
        "root = []\n",
        "def score (state):\n",
        "  sum = 0\n",
        "  for i in range(state):\n",
        "    sum += state[i]\n",
        "def play(state, move):\n",
        "  state.append(move)\n",
        "def legalMoves(state):\n",
        "  return[0,1]\n",
        "def terminal(state):\n",
        "  return len(state)>=60 #:\n",
        "def sequence(state):\n",
        "  return state\n",
        "sc,s = NRPA(1,{})\n",
        "print(sc, s)"
      ],
      "metadata": {
        "colab": {
          "base_uri": "https://localhost:8080/",
          "height": 363
        },
        "id": "8IiFs5319Lou",
        "outputId": "f6409d44-126e-4d1c-9112-73a5ef39baff"
      },
      "execution_count": null,
      "outputs": [
        {
          "output_type": "error",
          "ename": "TypeError",
          "evalue": "ignored",
          "traceback": [
            "\u001b[0;31m---------------------------------------------------------------------------\u001b[0m",
            "\u001b[0;31mTypeError\u001b[0m                                 Traceback (most recent call last)",
            "\u001b[0;32m<ipython-input-60-29662f013146>\u001b[0m in \u001b[0;36m<module>\u001b[0;34m\u001b[0m\n\u001b[1;32m     12\u001b[0m \u001b[0;32mdef\u001b[0m \u001b[0msequence\u001b[0m\u001b[0;34m(\u001b[0m\u001b[0mstate\u001b[0m\u001b[0;34m)\u001b[0m\u001b[0;34m:\u001b[0m\u001b[0;34m\u001b[0m\u001b[0;34m\u001b[0m\u001b[0m\n\u001b[1;32m     13\u001b[0m   \u001b[0;32mreturn\u001b[0m \u001b[0mstate\u001b[0m\u001b[0;34m\u001b[0m\u001b[0;34m\u001b[0m\u001b[0m\n\u001b[0;32m---> 14\u001b[0;31m \u001b[0msc\u001b[0m\u001b[0;34m,\u001b[0m\u001b[0ms\u001b[0m \u001b[0;34m=\u001b[0m \u001b[0mNRPA\u001b[0m\u001b[0;34m(\u001b[0m\u001b[0;36m1\u001b[0m\u001b[0;34m,\u001b[0m\u001b[0;34m{\u001b[0m\u001b[0;34m}\u001b[0m\u001b[0;34m)\u001b[0m\u001b[0;34m\u001b[0m\u001b[0;34m\u001b[0m\u001b[0m\n\u001b[0m\u001b[1;32m     15\u001b[0m \u001b[0mprint\u001b[0m\u001b[0;34m(\u001b[0m\u001b[0msc\u001b[0m\u001b[0;34m,\u001b[0m \u001b[0ms\u001b[0m\u001b[0;34m)\u001b[0m\u001b[0;34m\u001b[0m\u001b[0;34m\u001b[0m\u001b[0m\n",
            "\u001b[0;32m<ipython-input-52-a933c35b02ed>\u001b[0m in \u001b[0;36mNRPA\u001b[0;34m(level, policy)\u001b[0m\n\u001b[1;32m      6\u001b[0m   \u001b[0;32mfor\u001b[0m \u001b[0mi\u001b[0m \u001b[0;32min\u001b[0m \u001b[0mrange\u001b[0m\u001b[0;34m(\u001b[0m\u001b[0;36m100\u001b[0m\u001b[0;34m)\u001b[0m\u001b[0;34m:\u001b[0m\u001b[0;34m\u001b[0m\u001b[0;34m\u001b[0m\u001b[0m\n\u001b[1;32m      7\u001b[0m     \u001b[0mpol\u001b[0m \u001b[0;34m=\u001b[0m \u001b[0mcopy\u001b[0m\u001b[0;34m.\u001b[0m\u001b[0mdeepcopy\u001b[0m\u001b[0;34m(\u001b[0m\u001b[0mpolicy\u001b[0m\u001b[0;34m)\u001b[0m\u001b[0;34m\u001b[0m\u001b[0;34m\u001b[0m\u001b[0m\n\u001b[0;32m----> 8\u001b[0;31m     \u001b[0msc\u001b[0m\u001b[0;34m,\u001b[0m \u001b[0ms\u001b[0m \u001b[0;34m=\u001b[0m \u001b[0mNRPA\u001b[0m\u001b[0;34m(\u001b[0m\u001b[0mlevel\u001b[0m \u001b[0;34m-\u001b[0m \u001b[0;36m1\u001b[0m\u001b[0;34m,\u001b[0m \u001b[0mpol\u001b[0m\u001b[0;34m)\u001b[0m\u001b[0;34m\u001b[0m\u001b[0;34m\u001b[0m\u001b[0m\n\u001b[0m\u001b[1;32m      9\u001b[0m     \u001b[0;32mif\u001b[0m \u001b[0msc\u001b[0m \u001b[0;34m>\u001b[0m \u001b[0mbest\u001b[0m\u001b[0;34m:\u001b[0m\u001b[0;34m\u001b[0m\u001b[0;34m\u001b[0m\u001b[0m\n\u001b[1;32m     10\u001b[0m       \u001b[0mbest\u001b[0m \u001b[0;34m=\u001b[0m \u001b[0msc\u001b[0m\u001b[0;34m\u001b[0m\u001b[0;34m\u001b[0m\u001b[0m\n",
            "\u001b[0;32m<ipython-input-52-a933c35b02ed>\u001b[0m in \u001b[0;36mNRPA\u001b[0;34m(level, policy)\u001b[0m\n\u001b[1;32m      1\u001b[0m \u001b[0;32mdef\u001b[0m \u001b[0mNRPA\u001b[0m\u001b[0;34m(\u001b[0m\u001b[0mlevel\u001b[0m\u001b[0;34m,\u001b[0m \u001b[0mpolicy\u001b[0m\u001b[0;34m)\u001b[0m\u001b[0;34m:\u001b[0m\u001b[0;34m\u001b[0m\u001b[0;34m\u001b[0m\u001b[0m\n\u001b[1;32m      2\u001b[0m   \u001b[0;32mif\u001b[0m \u001b[0mlevel\u001b[0m \u001b[0;34m==\u001b[0m \u001b[0;36m0\u001b[0m\u001b[0;34m:\u001b[0m\u001b[0;34m\u001b[0m\u001b[0;34m\u001b[0m\u001b[0m\n\u001b[0;32m----> 3\u001b[0;31m     \u001b[0;32mreturn\u001b[0m \u001b[0mplayout\u001b[0m\u001b[0;34m(\u001b[0m\u001b[0mroot\u001b[0m\u001b[0;34m,\u001b[0m \u001b[0mpolicy\u001b[0m\u001b[0;34m)\u001b[0m\u001b[0;34m\u001b[0m\u001b[0;34m\u001b[0m\u001b[0m\n\u001b[0m\u001b[1;32m      4\u001b[0m   \u001b[0mbest\u001b[0m \u001b[0;34m=\u001b[0m \u001b[0;34m-\u001b[0m\u001b[0mnp\u001b[0m\u001b[0;34m.\u001b[0m\u001b[0minf\u001b[0m\u001b[0;34m\u001b[0m\u001b[0;34m\u001b[0m\u001b[0m\n\u001b[1;32m      5\u001b[0m   \u001b[0mseq\u001b[0m \u001b[0;34m=\u001b[0m \u001b[0;34m[\u001b[0m\u001b[0;34m]\u001b[0m\u001b[0;34m\u001b[0m\u001b[0;34m\u001b[0m\u001b[0m\n",
            "\u001b[0;32m<ipython-input-50-4d358d0ca72f>\u001b[0m in \u001b[0;36mplayout\u001b[0;34m(state, policy)\u001b[0m\n\u001b[1;32m      1\u001b[0m \u001b[0;32mdef\u001b[0m \u001b[0mplayout\u001b[0m\u001b[0;34m(\u001b[0m\u001b[0mstate\u001b[0m\u001b[0;34m,\u001b[0m \u001b[0mpolicy\u001b[0m\u001b[0;34m)\u001b[0m\u001b[0;34m:\u001b[0m\u001b[0;34m\u001b[0m\u001b[0;34m\u001b[0m\u001b[0m\n\u001b[1;32m      2\u001b[0m   \u001b[0;32mwhile\u001b[0m \u001b[0;32mnot\u001b[0m \u001b[0mterminal\u001b[0m\u001b[0;34m(\u001b[0m\u001b[0mstate\u001b[0m\u001b[0;34m)\u001b[0m\u001b[0;34m:\u001b[0m\u001b[0;34m\u001b[0m\u001b[0;34m\u001b[0m\u001b[0m\n\u001b[0;32m----> 3\u001b[0;31m     \u001b[0mmove\u001b[0m \u001b[0;34m=\u001b[0m \u001b[0mrandomMove\u001b[0m\u001b[0;34m(\u001b[0m\u001b[0mstate\u001b[0m\u001b[0;34m,\u001b[0m \u001b[0mpolicy\u001b[0m\u001b[0;34m)\u001b[0m\u001b[0;34m\u001b[0m\u001b[0;34m\u001b[0m\u001b[0m\n\u001b[0m\u001b[1;32m      4\u001b[0m     \u001b[0mplay\u001b[0m\u001b[0;34m(\u001b[0m\u001b[0mstate\u001b[0m\u001b[0;34m,\u001b[0m \u001b[0mmove\u001b[0m\u001b[0;34m)\u001b[0m\u001b[0;34m\u001b[0m\u001b[0;34m\u001b[0m\u001b[0m\n\u001b[1;32m      5\u001b[0m   \u001b[0;32mreturn\u001b[0m \u001b[0mscore\u001b[0m\u001b[0;34m(\u001b[0m\u001b[0mstate\u001b[0m\u001b[0;34m,\u001b[0m \u001b[0msequence\u001b[0m\u001b[0;34m(\u001b[0m\u001b[0mstate\u001b[0m\u001b[0;34m)\u001b[0m\u001b[0;34m)\u001b[0m\u001b[0;34m\u001b[0m\u001b[0;34m\u001b[0m\u001b[0m\n",
            "\u001b[0;32m<ipython-input-49-0f1840cc9780>\u001b[0m in \u001b[0;36mrandomMove\u001b[0;34m(state, policy)\u001b[0m\n\u001b[1;32m      3\u001b[0m   \u001b[0msum\u001b[0m \u001b[0;34m=\u001b[0m \u001b[0;36m0.0\u001b[0m\u001b[0;34m\u001b[0m\u001b[0;34m\u001b[0m\u001b[0m\n\u001b[1;32m      4\u001b[0m   \u001b[0;32mfor\u001b[0m \u001b[0mm\u001b[0m \u001b[0;32min\u001b[0m \u001b[0mmoves\u001b[0m\u001b[0;34m:\u001b[0m\u001b[0;34m\u001b[0m\u001b[0;34m\u001b[0m\u001b[0m\n\u001b[0;32m----> 5\u001b[0;31m     \u001b[0;32mif\u001b[0m \u001b[0mpolicy\u001b[0m\u001b[0;34m.\u001b[0m\u001b[0mget\u001b[0m\u001b[0;34m(\u001b[0m\u001b[0mcode\u001b[0m\u001b[0;34m(\u001b[0m\u001b[0mm\u001b[0m\u001b[0;34m)\u001b[0m\u001b[0;34m)\u001b[0m \u001b[0;34m==\u001b[0m \u001b[0;32mNone\u001b[0m\u001b[0;34m:\u001b[0m\u001b[0;34m\u001b[0m\u001b[0;34m\u001b[0m\u001b[0m\n\u001b[0m\u001b[1;32m      6\u001b[0m       \u001b[0mpolicy\u001b[0m\u001b[0;34m[\u001b[0m\u001b[0mm\u001b[0m\u001b[0;34m]\u001b[0m \u001b[0;34m=\u001b[0m \u001b[0;36m0.0\u001b[0m\u001b[0;34m\u001b[0m\u001b[0;34m\u001b[0m\u001b[0m\n\u001b[1;32m      7\u001b[0m     \u001b[0msum\u001b[0m \u001b[0;34m=\u001b[0m \u001b[0msum\u001b[0m \u001b[0;34m+\u001b[0m \u001b[0mmath\u001b[0m\u001b[0;34m.\u001b[0m\u001b[0mexp\u001b[0m\u001b[0;34m(\u001b[0m\u001b[0mpolicy\u001b[0m\u001b[0;34m[\u001b[0m\u001b[0mcode\u001b[0m\u001b[0;34m(\u001b[0m\u001b[0mm\u001b[0m\u001b[0;34m)\u001b[0m\u001b[0;34m]\u001b[0m\u001b[0;34m)\u001b[0m\u001b[0;34m\u001b[0m\u001b[0;34m\u001b[0m\u001b[0m\n",
            "\u001b[0;31mTypeError\u001b[0m: code() missing 1 required positional argument: 'board'"
          ]
        }
      ]
    },
    {
      "cell_type": "markdown",
      "source": [
        "Weak Schur"
      ],
      "metadata": {
        "id": "ysBnlvJ7FCY6"
      }
    },
    {
      "cell_type": "code",
      "source": [
        "def terminal(self):\n",
        "  l = self.legalMoves()\n",
        "  if l == []:\n",
        "    return true\n",
        "  return False"
      ],
      "metadata": {
        "id": "NCowrHhf9zIA"
      },
      "execution_count": null,
      "outputs": []
    },
    {
      "cell_type": "code",
      "source": [
        "def score(self):\n",
        "  return self.next - 1"
      ],
      "metadata": {
        "id": "63lZ5kDrFN1h"
      },
      "execution_count": null,
      "outputs": []
    },
    {
      "cell_type": "code",
      "source": [
        "def play(self, p):\n",
        "  for i in range(len(self.partitions[p])):"
      ],
      "metadata": {
        "id": "1HKKe93HFSFz"
      },
      "execution_count": null,
      "outputs": []
    }
  ]
}