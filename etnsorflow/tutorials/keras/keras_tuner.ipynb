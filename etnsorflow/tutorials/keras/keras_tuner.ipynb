{
  "cells": [
    {
      "cell_type": "markdown",
      "metadata": {
        "id": "view-in-github",
        "colab_type": "text"
      },
      "source": [
        "<a href=\"https://colab.research.google.com/github/neohack22/IASD/blob/prerequisites/etnsorflow/tutorials/keras/keras_tuner.ipynb\" target=\"_parent\"><img src=\"https://colab.research.google.com/assets/colab-badge.svg\" alt=\"Open In Colab\"/></a>"
      ]
    },
    {
      "cell_type": "markdown",
      "metadata": {
        "id": "Tce3stUlHN0L"
      },
      "source": [
        "##### Copyright 2020 The TensorFlow Authors."
      ]
    },
    {
      "cell_type": "code",
      "execution_count": null,
      "metadata": {
        "cellView": "form",
        "id": "tuOe1ymfHZPu"
      },
      "outputs": [],
      "source": [
        "#@title Licensed under the Apache License, Version 2.0 (the \"License\");\n",
        "# you may not use this file except in compliance with the License.\n",
        "# You may obtain a copy of the License at\n",
        "#\n",
        "# https://www.apache.org/licenses/LICENSE-2.0\n",
        "#\n",
        "# Unless required by applicable law or agreed to in writing, software\n",
        "# distributed under the License is distributed on an \"AS IS\" BASIS,\n",
        "# WITHOUT WARRANTIES OR CONDITIONS OF ANY KIND, either express or implied.\n",
        "# See the License for the specific language governing permissions and\n",
        "# limitations under the License."
      ]
    },
    {
      "cell_type": "markdown",
      "metadata": {
        "id": "qFdPvlXBOdUN"
      },
      "source": [
        "# Introduction to the Keras Tuner"
      ]
    },
    {
      "cell_type": "markdown",
      "metadata": {
        "id": "MfBg1C5NB3X0"
      },
      "source": [
        "<table class=\"tfo-notebook-buttons\" align=\"left\">\n",
        "  <td>\n",
        "    <a target=\"_blank\" href=\"https://www.tensorflow.org/tutorials/keras/keras_tuner\"><img src=\"https://www.tensorflow.org/images/tf_logo_32px.png\" />View on TensorFlow.org</a>\n",
        "  </td>\n",
        "  <td>\n",
        "    <a target=\"_blank\" href=\"https://colab.research.google.com/github/tensorflow/docs/blob/master/site/en/tutorials/keras/keras_tuner.ipynb\"><img src=\"https://www.tensorflow.org/images/colab_logo_32px.png\" />Run in Google Colab</a>\n",
        "  </td>\n",
        "  <td>\n",
        "    <a target=\"_blank\" href=\"https://github.com/tensorflow/docs/blob/master/site/en/tutorials/keras/keras_tuner.ipynb\"><img src=\"https://www.tensorflow.org/images/GitHub-Mark-32px.png\" />View source on GitHub</a>\n",
        "  </td>\n",
        "  <td>\n",
        "    <a href=\"https://storage.googleapis.com/tensorflow_docs/docs/site/en/tutorials/keras/keras_tuner.ipynb\"><img src=\"https://www.tensorflow.org/images/download_logo_32px.png\" />Download notebook</a>\n",
        "  </td>\n",
        "</table>"
      ]
    },
    {
      "cell_type": "markdown",
      "metadata": {
        "id": "xHxb-dlhMIzW"
      },
      "source": [
        "## Overview\n",
        "\n",
        "The Keras Tuner is a library that helps you pick the optimal set of hyperparameters for your TensorFlow program. The process of selecting the right set of hyperparameters for your machine learning (ML) application is called *hyperparameter tuning* or *hypertuning*.\n",
        "\n",
        "Hyperparameters are the variables that govern the training process and the topology of an ML model. These variables remain constant over the training process and directly impact the performance of your ML program. Hyperparameters are of two types:\n",
        "1. **Model hyperparameters** which influence model selection such as the number and width of hidden layers\n",
        "2. **Algorithm hyperparameters** which influence the speed and quality of the learning algorithm such as the learning rate for Stochastic Gradient Descent (SGD) and the number of nearest neighbors for a k Nearest Neighbors (KNN) classifier\n",
        "\n",
        "In this tutorial, you will use the Keras Tuner to perform hypertuning for an image classification application."
      ]
    },
    {
      "cell_type": "markdown",
      "metadata": {
        "id": "MUXex9ctTuDB"
      },
      "source": [
        "## Setup"
      ]
    },
    {
      "cell_type": "code",
      "execution_count": null,
      "metadata": {
        "id": "IqR2PQG4ZaZ0"
      },
      "outputs": [],
      "source": [
        "import tensorflow as tf\n",
        "from tensorflow import keras"
      ]
    },
    {
      "cell_type": "code",
      "source": [
        "import tensorflow as tf\n",
        "from tensorflow import keras"
      ],
      "metadata": {
        "id": "2AFcqnOxELo6"
      },
      "execution_count": 1,
      "outputs": []
    },
    {
      "cell_type": "markdown",
      "metadata": {
        "id": "g83Lwsy-Aq2_"
      },
      "source": [
        "Install and import the Keras Tuner."
      ]
    },
    {
      "cell_type": "code",
      "execution_count": null,
      "metadata": {
        "id": "hpMLpbt9jcO6"
      },
      "outputs": [],
      "source": [
        "!pip install -q -U keras-tuner"
      ]
    },
    {
      "cell_type": "code",
      "source": [
        "!pip install -q -U keras-tuner"
      ],
      "metadata": {
        "id": "RjFINDFDEP2W",
        "outputId": "7a4cfd29-3379-492c-81a1-54cab0648d48",
        "colab": {
          "base_uri": "https://localhost:8080/"
        }
      },
      "execution_count": 2,
      "outputs": [
        {
          "output_type": "stream",
          "name": "stdout",
          "text": [
            "\u001b[?25l\r\u001b[K     |██▌                             | 10 kB 25.9 MB/s eta 0:00:01\r\u001b[K     |█████                           | 20 kB 31.5 MB/s eta 0:00:01\r\u001b[K     |███████▍                        | 30 kB 36.2 MB/s eta 0:00:01\r\u001b[K     |█████████▉                      | 40 kB 37.9 MB/s eta 0:00:01\r\u001b[K     |████████████▎                   | 51 kB 40.6 MB/s eta 0:00:01\r\u001b[K     |██████████████▊                 | 61 kB 44.9 MB/s eta 0:00:01\r\u001b[K     |█████████████████▏              | 71 kB 33.1 MB/s eta 0:00:01\r\u001b[K     |███████████████████▋            | 81 kB 33.2 MB/s eta 0:00:01\r\u001b[K     |██████████████████████          | 92 kB 35.6 MB/s eta 0:00:01\r\u001b[K     |████████████████████████▌       | 102 kB 37.9 MB/s eta 0:00:01\r\u001b[K     |███████████████████████████     | 112 kB 37.9 MB/s eta 0:00:01\r\u001b[K     |█████████████████████████████▍  | 122 kB 37.9 MB/s eta 0:00:01\r\u001b[K     |███████████████████████████████▉| 133 kB 37.9 MB/s eta 0:00:01\r\u001b[K     |████████████████████████████████| 133 kB 37.9 MB/s \n",
            "\u001b[?25h"
          ]
        }
      ]
    },
    {
      "cell_type": "code",
      "execution_count": null,
      "metadata": {
        "id": "_leAIdFKAxAD"
      },
      "outputs": [],
      "source": [
        "import keras_tuner as kt"
      ]
    },
    {
      "cell_type": "code",
      "source": [
        "import keras_tuner as kt"
      ],
      "metadata": {
        "id": "LtWMGOioET6r"
      },
      "execution_count": 3,
      "outputs": []
    },
    {
      "cell_type": "markdown",
      "metadata": {
        "id": "ReV_UXOgCZvx"
      },
      "source": [
        "## Download and prepare the dataset\n",
        "\n",
        "In this tutorial, you will use the Keras Tuner to find the best hyperparameters for a machine learning model that classifies images of clothing from the [Fashion MNIST dataset](https://github.com/zalandoresearch/fashion-mnist)."
      ]
    },
    {
      "cell_type": "markdown",
      "metadata": {
        "id": "HljH_ENLEdHa"
      },
      "source": [
        "Load the data."
      ]
    },
    {
      "cell_type": "code",
      "execution_count": null,
      "metadata": {
        "id": "OHlHs9Wj_PUM"
      },
      "outputs": [],
      "source": [
        "(img_train, label_train), (img_test, label_test) = keras.datasets.fashion_mnist.load_data()"
      ]
    },
    {
      "cell_type": "code",
      "source": [
        "(\n",
        "    img_train, label_train\n",
        "), (\n",
        "    img_test, label_test\n",
        ") = keras.datasets.fashion_mnist.load_data()"
      ],
      "metadata": {
        "id": "Mm4gFmqZEYrg",
        "outputId": "ef079fee-83e7-4188-d890-b7cc77e59443",
        "colab": {
          "base_uri": "https://localhost:8080/"
        }
      },
      "execution_count": 4,
      "outputs": [
        {
          "output_type": "stream",
          "name": "stdout",
          "text": [
            "Downloading data from https://storage.googleapis.com/tensorflow/tf-keras-datasets/train-labels-idx1-ubyte.gz\n",
            "32768/29515 [=================================] - 0s 0us/step\n",
            "40960/29515 [=========================================] - 0s 0us/step\n",
            "Downloading data from https://storage.googleapis.com/tensorflow/tf-keras-datasets/train-images-idx3-ubyte.gz\n",
            "26427392/26421880 [==============================] - 0s 0us/step\n",
            "26435584/26421880 [==============================] - 0s 0us/step\n",
            "Downloading data from https://storage.googleapis.com/tensorflow/tf-keras-datasets/t10k-labels-idx1-ubyte.gz\n",
            "16384/5148 [===============================================================================================] - 0s 0us/step\n",
            "Downloading data from https://storage.googleapis.com/tensorflow/tf-keras-datasets/t10k-images-idx3-ubyte.gz\n",
            "4423680/4422102 [==============================] - 0s 0us/step\n",
            "4431872/4422102 [==============================] - 0s 0us/step\n"
          ]
        }
      ]
    },
    {
      "cell_type": "code",
      "execution_count": null,
      "metadata": {
        "id": "bLVhXs3xrUD0"
      },
      "outputs": [],
      "source": [
        "# Normalize pixel values between 0 and 1\n",
        "img_train = img_train.astype('float32') / 255.0\n",
        "img_test = img_test.astype('float32') / 255.0"
      ]
    },
    {
      "cell_type": "code",
      "source": [
        "# Normalize pixel values between 0 and 1\n",
        "img_train = img_train.astype(\n",
        "    'float32'\n",
        ") / 255.0\n",
        "img_test = img_test.astype(\n",
        "    'float32'\n",
        ") /255.0"
      ],
      "metadata": {
        "id": "qZjkjUcLElGR"
      },
      "execution_count": 5,
      "outputs": []
    },
    {
      "cell_type": "markdown",
      "metadata": {
        "id": "K5YEL2H2Ax3e"
      },
      "source": [
        "## Define the model\n",
        "\n",
        "When you build a model for hypertuning, you also define the hyperparameter search space in addition to the model architecture. The model you set up for hypertuning is called a *hypermodel*.\n",
        "\n",
        "You can define a hypermodel through two approaches:\n",
        "\n",
        "* By using a model builder function\n",
        "* By subclassing the `HyperModel` class of the Keras Tuner API\n",
        "\n",
        "You can also use two pre-defined [HyperModel](https://keras.io/api/keras_tuner/hypermodels/) classes - [HyperXception](https://keras.io/api/keras_tuner/hypermodels/hyper_xception/) and [HyperResNet](https://keras.io/api/keras_tuner/hypermodels/hyper_resnet/) for computer vision applications.\n",
        "\n",
        "In this tutorial, you use a model builder function to define the image classification model. The model builder function returns a compiled model and uses hyperparameters you define inline to hypertune the model."
      ]
    },
    {
      "cell_type": "code",
      "execution_count": null,
      "metadata": {
        "id": "ZQKodC-jtsva"
      },
      "outputs": [],
      "source": [
        "def model_builder(hp):\n",
        "  model = keras.Sequential()\n",
        "  model.add(keras.layers.Flatten(input_shape=(28, 28)))\n",
        "\n",
        "  # Tune the number of units in the first Dense layer\n",
        "  # Choose an optimal value between 32-512\n",
        "  hp_units = hp.Int('units', min_value=32, max_value=512, step=32)\n",
        "  model.add(keras.layers.Dense(units=hp_units, activation='relu'))\n",
        "  model.add(keras.layers.Dense(10))\n",
        "\n",
        "  # Tune the learning rate for the optimizer\n",
        "  # Choose an optimal value from 0.01, 0.001, or 0.0001\n",
        "  hp_learning_rate = hp.Choice('learning_rate', values=[1e-2, 1e-3, 1e-4])\n",
        "\n",
        "  model.compile(optimizer=keras.optimizers.Adam(learning_rate=hp_learning_rate),\n",
        "                loss=keras.losses.SparseCategoricalCrossentropy(from_logits=True),\n",
        "                metrics=['accuracy'])\n",
        "\n",
        "  return model"
      ]
    },
    {
      "cell_type": "code",
      "source": [
        "def model_builder(hp):\n",
        "  model = keras.Sequential()\n",
        "  model.add(\n",
        "      keras.layers.Flatten(\n",
        "          input_shape=(\n",
        "              28, 28\n",
        "          )\n",
        "      )\n",
        "  )\n",
        "\n",
        "  # Tune the number of units in the first Dense layer\n",
        "  # Choose an optimal value between 32-512\n",
        "  hp_units = hp.Int(\n",
        "      'units', min_value=32, max_value=512, step=32\n",
        "  )\n",
        "  model.add(\n",
        "      keras.layers.Dense(\n",
        "          units=hp_units, activation='relu'\n",
        "      )\n",
        "  )\n",
        "  model.add(\n",
        "      keras.layers.Dense(\n",
        "          10\n",
        "      )\n",
        "  )\n",
        "\n",
        "  # Tune the learning rate for the optimizer\n",
        "  # Choose an optimal value from 0.01, 0.001, or 0.0001\n",
        "  hp_learning_rate = hp.Choice(\n",
        "      'learning_rate', values=[\n",
        "                               1e-2, 1e-3, 1e-4\n",
        "      ]\n",
        "  )\n",
        "\n",
        "  model.compile(optimizer=keras.optimizers.Adam(\n",
        "      learning_rate=hp_learning_rate\n",
        "  ), loss=keras.losses.SparseCategoricalCrossentropy(\n",
        "      from_logits=True\n",
        "  ),\n",
        "  metrics=[\n",
        "           'accuracy'\n",
        "  ])\n",
        "\n",
        "  return model"
      ],
      "metadata": {
        "id": "yNuCvVJzFbLz"
      },
      "execution_count": 6,
      "outputs": []
    },
    {
      "cell_type": "markdown",
      "metadata": {
        "id": "0J1VYw4q3x0b"
      },
      "source": [
        "## Instantiate the tuner and perform hypertuning\n",
        "\n",
        "Instantiate the tuner to perform the hypertuning. The Keras Tuner has four tuners available - `RandomSearch`, `Hyperband`, `BayesianOptimization`, and `Sklearn`. In this tutorial, you use the [Hyperband](https://arxiv.org/pdf/1603.06560.pdf) tuner.\n",
        "\n",
        "To instantiate the Hyperband tuner, you must specify the hypermodel, the `objective` to optimize and the maximum number of epochs to train (`max_epochs`)."
      ]
    },
    {
      "cell_type": "code",
      "execution_count": null,
      "metadata": {
        "id": "oichQFly6Y46"
      },
      "outputs": [],
      "source": [
        "tuner = kt.Hyperband(model_builder,\n",
        "                     objective='val_accuracy',\n",
        "                     max_epochs=10,\n",
        "                     factor=3,\n",
        "                     directory='my_dir',\n",
        "                     project_name='intro_to_kt')"
      ]
    },
    {
      "cell_type": "code",
      "source": [
        "tuner = kt.Hyperband(\n",
        "    model_builder,\n",
        "    objective='val_accuracy',\n",
        "    max_epochs=10,\n",
        "    factor=3,\n",
        "    directory='my_dir',\n",
        "    project_name='intro_to_kt'\n",
        ")"
      ],
      "metadata": {
        "id": "FWN3wxpSIqjy"
      },
      "execution_count": 7,
      "outputs": []
    },
    {
      "cell_type": "markdown",
      "metadata": {
        "id": "VaIhhdKf9VtI"
      },
      "source": [
        "The Hyperband tuning algorithm uses adaptive resource allocation and early-stopping to quickly converge on a high-performing model. This is done using a sports championship style bracket. The algorithm trains a large number of models for a few epochs and carries forward only the top-performing half of models to the next round. Hyperband determines the number of models to train in a bracket by computing 1 + log<sub>`factor`</sub>(`max_epochs`) and rounding it up to the nearest integer."
      ]
    },
    {
      "cell_type": "markdown",
      "metadata": {
        "id": "cwhBdXx0Ekj8"
      },
      "source": [
        "Create a callback to stop training early after reaching a certain value for the validation loss."
      ]
    },
    {
      "cell_type": "code",
      "execution_count": null,
      "metadata": {
        "id": "WT9IkS9NEjLc"
      },
      "outputs": [],
      "source": [
        "stop_early = tf.keras.callbacks.EarlyStopping(monitor='val_loss', patience=5)"
      ]
    },
    {
      "cell_type": "code",
      "source": [
        "stop_early = tf.keras.callbacks.EarlyStopping(\n",
        "    monitor='val_loss', patience=5\n",
        ")"
      ],
      "metadata": {
        "id": "WprJUMc6JyXN"
      },
      "execution_count": 8,
      "outputs": []
    },
    {
      "cell_type": "markdown",
      "metadata": {
        "id": "UKghEo15Tduy"
      },
      "source": [
        "Run the hyperparameter search. The arguments for the search method are the same as those used for `tf.keras.model.fit` in addition to the callback above."
      ]
    },
    {
      "cell_type": "code",
      "execution_count": null,
      "metadata": {
        "id": "dSBQcTHF9cKt"
      },
      "outputs": [],
      "source": [
        "tuner.search(img_train, label_train, epochs=50, validation_split=0.2, callbacks=[stop_early])\n",
        "\n",
        "# Get the optimal hyperparameters\n",
        "best_hps=tuner.get_best_hyperparameters(num_trials=1)[0]\n",
        "\n",
        "print(f\"\"\"\n",
        "The hyperparameter search is complete. The optimal number of units in the first densely-connected\n",
        "layer is {best_hps.get('units')} and the optimal learning rate for the optimizer\n",
        "is {best_hps.get('learning_rate')}.\n",
        "\"\"\")"
      ]
    },
    {
      "cell_type": "code",
      "source": [
        "tuner.search(\n",
        "    img_train, label_train, epochs=50, validation_split=0.2, callbacks=[ #]=50, validation_split=0.2, callbacks=[\n",
        "                                                                       stop_early\n",
        "    ]\n",
        ")\n",
        "\n",
        "# Get the optimal hyperparameters\n",
        "best_hps=tuner.get_best_hyperparameters(\n",
        "    num_trials=1\n",
        ")[\n",
        "  0\n",
        "]\n",
        "\n",
        "print(\n",
        "    f\"\"\"\n",
        "    The hyperparameter search is complete.\n",
        "    The optimal number of units in the first densely-connected layer is\n",
        "    {best_hps.get(\n",
        "        'units'\n",
        "    )} and the optimal learning rate for the optimizer is\n",
        "    {best_hps.get(\n",
        "        'learning_rate'\n",
        "    )}.\n",
        "    \"\"\"\n",
        ")"
      ],
      "metadata": {
        "id": "77oeYWMYKByK",
        "outputId": "6a7c5109-7721-49e3-ff40-62c0cb93ec30",
        "colab": {
          "base_uri": "https://localhost:8080/"
        }
      },
      "execution_count": 10,
      "outputs": [
        {
          "output_type": "stream",
          "name": "stdout",
          "text": [
            "Trial 30 Complete [00h 01m 22s]\n",
            "val_accuracy: 0.8584166765213013\n",
            "\n",
            "Best val_accuracy So Far: 0.8916666507720947\n",
            "Total elapsed time: 00h 13m 17s\n",
            "INFO:tensorflow:Oracle triggered exit\n",
            "\n",
            "    The hyperparameter search is complete.\n",
            "    The optimal number of units in the first densely-connected layer is\n",
            "    160 and the optimal learning rate for the optimizer is\n",
            "    0.001.\n",
            "    \n"
          ]
        }
      ]
    },
    {
      "cell_type": "markdown",
      "metadata": {
        "id": "Lak_ylf88xBv"
      },
      "source": [
        "## Train the model\n",
        "\n",
        "Find the optimal number of epochs to train the model with the hyperparameters obtained from the search."
      ]
    },
    {
      "cell_type": "code",
      "execution_count": null,
      "metadata": {
        "id": "McO82AXOuxXh"
      },
      "outputs": [],
      "source": [
        "# Build the model with the optimal hyperparameters and train it on the data for 50 epochs\n",
        "model = tuner.hypermodel.build(best_hps)\n",
        "history = model.fit(img_train, label_train, epochs=50, validation_split=0.2)\n",
        "\n",
        "val_acc_per_epoch = history.history['val_accuracy']\n",
        "best_epoch = val_acc_per_epoch.index(max(val_acc_per_epoch)) + 1\n",
        "print('Best epoch: %d' % (best_epoch,))"
      ]
    },
    {
      "cell_type": "code",
      "source": [
        "# Build the model with the optimal hyperparmeters and train it on the data for 50 epochs\n",
        "model = tuner.hypermodel.build(\n",
        "    best_hps\n",
        ")\n",
        "history = model.fit(\n",
        "    img_train, label_train, epochs=50, validation_split=0.2\n",
        ")\n",
        "\n",
        "val_acc_per_epoch = history.history[\n",
        "                                    'val_accuracy'\n",
        "]\n",
        "best_epoch = val_acc_per_epoch.index(\n",
        "    max(\n",
        "        val_acc_per_epoch\n",
        "    )\n",
        ") + 1\n",
        "print(\n",
        "    'Best epoch: %d' % (\n",
        "        best_epoch,\n",
        "    )\n",
        ")"
      ],
      "metadata": {
        "id": "TiGlfTGCLnhA",
        "outputId": "f1fe87f4-d5a9-4b99-c5f0-112c0bcfbf4e",
        "colab": {
          "base_uri": "https://localhost:8080/"
        }
      },
      "execution_count": 11,
      "outputs": [
        {
          "output_type": "stream",
          "name": "stdout",
          "text": [
            "Epoch 1/50\n",
            "1500/1500 [==============================] - 4s 3ms/step - loss: 0.5132 - accuracy: 0.8185 - val_loss: 0.4056 - val_accuracy: 0.8593\n",
            "Epoch 2/50\n",
            "1500/1500 [==============================] - 4s 3ms/step - loss: 0.3808 - accuracy: 0.8615 - val_loss: 0.3742 - val_accuracy: 0.8656\n",
            "Epoch 3/50\n",
            "1500/1500 [==============================] - 4s 3ms/step - loss: 0.3438 - accuracy: 0.8740 - val_loss: 0.3641 - val_accuracy: 0.8643\n",
            "Epoch 4/50\n",
            "1500/1500 [==============================] - 4s 3ms/step - loss: 0.3196 - accuracy: 0.8829 - val_loss: 0.3461 - val_accuracy: 0.8771\n",
            "Epoch 5/50\n",
            "1500/1500 [==============================] - 4s 3ms/step - loss: 0.2980 - accuracy: 0.8905 - val_loss: 0.3490 - val_accuracy: 0.8760\n",
            "Epoch 6/50\n",
            "1500/1500 [==============================] - 4s 3ms/step - loss: 0.2813 - accuracy: 0.8943 - val_loss: 0.3133 - val_accuracy: 0.8845\n",
            "Epoch 7/50\n",
            "1500/1500 [==============================] - 4s 3ms/step - loss: 0.2684 - accuracy: 0.9006 - val_loss: 0.3328 - val_accuracy: 0.8817\n",
            "Epoch 8/50\n",
            "1500/1500 [==============================] - 4s 3ms/step - loss: 0.2570 - accuracy: 0.9032 - val_loss: 0.3052 - val_accuracy: 0.8878\n",
            "Epoch 9/50\n",
            "1500/1500 [==============================] - 4s 3ms/step - loss: 0.2453 - accuracy: 0.9081 - val_loss: 0.3473 - val_accuracy: 0.8770\n",
            "Epoch 10/50\n",
            "1500/1500 [==============================] - 4s 3ms/step - loss: 0.2367 - accuracy: 0.9112 - val_loss: 0.3416 - val_accuracy: 0.8823\n",
            "Epoch 11/50\n",
            "1500/1500 [==============================] - 4s 3ms/step - loss: 0.2287 - accuracy: 0.9149 - val_loss: 0.3421 - val_accuracy: 0.8827\n",
            "Epoch 12/50\n",
            "1500/1500 [==============================] - 4s 3ms/step - loss: 0.2172 - accuracy: 0.9199 - val_loss: 0.3343 - val_accuracy: 0.8829\n",
            "Epoch 13/50\n",
            "1500/1500 [==============================] - 4s 3ms/step - loss: 0.2103 - accuracy: 0.9213 - val_loss: 0.3265 - val_accuracy: 0.8863\n",
            "Epoch 14/50\n",
            "1500/1500 [==============================] - 4s 3ms/step - loss: 0.2073 - accuracy: 0.9226 - val_loss: 0.3274 - val_accuracy: 0.8914\n",
            "Epoch 15/50\n",
            "1500/1500 [==============================] - 4s 3ms/step - loss: 0.1971 - accuracy: 0.9275 - val_loss: 0.3356 - val_accuracy: 0.8849\n",
            "Epoch 16/50\n",
            "1500/1500 [==============================] - 4s 3ms/step - loss: 0.1942 - accuracy: 0.9275 - val_loss: 0.3518 - val_accuracy: 0.8852\n",
            "Epoch 17/50\n",
            "1500/1500 [==============================] - 4s 3ms/step - loss: 0.1863 - accuracy: 0.9296 - val_loss: 0.3328 - val_accuracy: 0.8872\n",
            "Epoch 18/50\n",
            "1500/1500 [==============================] - 4s 3ms/step - loss: 0.1805 - accuracy: 0.9323 - val_loss: 0.3218 - val_accuracy: 0.8944\n",
            "Epoch 19/50\n",
            "1500/1500 [==============================] - 4s 3ms/step - loss: 0.1764 - accuracy: 0.9339 - val_loss: 0.3451 - val_accuracy: 0.8913\n",
            "Epoch 20/50\n",
            "1500/1500 [==============================] - 4s 3ms/step - loss: 0.1691 - accuracy: 0.9378 - val_loss: 0.3443 - val_accuracy: 0.8901\n",
            "Epoch 21/50\n",
            "1500/1500 [==============================] - 4s 3ms/step - loss: 0.1671 - accuracy: 0.9370 - val_loss: 0.3471 - val_accuracy: 0.8890\n",
            "Epoch 22/50\n",
            "1500/1500 [==============================] - 4s 3ms/step - loss: 0.1620 - accuracy: 0.9394 - val_loss: 0.3548 - val_accuracy: 0.8873\n",
            "Epoch 23/50\n",
            "1500/1500 [==============================] - 4s 3ms/step - loss: 0.1567 - accuracy: 0.9416 - val_loss: 0.3444 - val_accuracy: 0.8917\n",
            "Epoch 24/50\n",
            "1500/1500 [==============================] - 4s 3ms/step - loss: 0.1527 - accuracy: 0.9430 - val_loss: 0.3853 - val_accuracy: 0.8827\n",
            "Epoch 25/50\n",
            "1500/1500 [==============================] - 4s 3ms/step - loss: 0.1499 - accuracy: 0.9434 - val_loss: 0.3575 - val_accuracy: 0.8941\n",
            "Epoch 26/50\n",
            "1500/1500 [==============================] - 4s 3ms/step - loss: 0.1472 - accuracy: 0.9447 - val_loss: 0.3652 - val_accuracy: 0.8951\n",
            "Epoch 27/50\n",
            "1500/1500 [==============================] - 4s 3ms/step - loss: 0.1386 - accuracy: 0.9480 - val_loss: 0.3755 - val_accuracy: 0.8863\n",
            "Epoch 28/50\n",
            "1500/1500 [==============================] - 4s 3ms/step - loss: 0.1393 - accuracy: 0.9479 - val_loss: 0.3649 - val_accuracy: 0.8954\n",
            "Epoch 29/50\n",
            "1500/1500 [==============================] - 4s 3ms/step - loss: 0.1377 - accuracy: 0.9477 - val_loss: 0.3766 - val_accuracy: 0.8924\n",
            "Epoch 30/50\n",
            "1500/1500 [==============================] - 4s 3ms/step - loss: 0.1316 - accuracy: 0.9512 - val_loss: 0.3758 - val_accuracy: 0.8933\n",
            "Epoch 31/50\n",
            "1500/1500 [==============================] - 4s 3ms/step - loss: 0.1270 - accuracy: 0.9521 - val_loss: 0.3924 - val_accuracy: 0.8913\n",
            "Epoch 32/50\n",
            "1500/1500 [==============================] - 4s 3ms/step - loss: 0.1260 - accuracy: 0.9519 - val_loss: 0.3894 - val_accuracy: 0.8906\n",
            "Epoch 33/50\n",
            "1500/1500 [==============================] - 4s 3ms/step - loss: 0.1213 - accuracy: 0.9553 - val_loss: 0.4015 - val_accuracy: 0.8970\n",
            "Epoch 34/50\n",
            "1500/1500 [==============================] - 4s 3ms/step - loss: 0.1216 - accuracy: 0.9539 - val_loss: 0.4366 - val_accuracy: 0.8896\n",
            "Epoch 35/50\n",
            "1500/1500 [==============================] - 4s 3ms/step - loss: 0.1161 - accuracy: 0.9556 - val_loss: 0.3961 - val_accuracy: 0.8970\n",
            "Epoch 36/50\n",
            "1500/1500 [==============================] - 4s 3ms/step - loss: 0.1157 - accuracy: 0.9561 - val_loss: 0.4452 - val_accuracy: 0.8892\n",
            "Epoch 37/50\n",
            "1500/1500 [==============================] - 4s 3ms/step - loss: 0.1110 - accuracy: 0.9589 - val_loss: 0.4333 - val_accuracy: 0.8878\n",
            "Epoch 38/50\n",
            "1500/1500 [==============================] - 4s 3ms/step - loss: 0.1104 - accuracy: 0.9589 - val_loss: 0.4232 - val_accuracy: 0.8892\n",
            "Epoch 39/50\n",
            "1500/1500 [==============================] - 4s 3ms/step - loss: 0.1076 - accuracy: 0.9604 - val_loss: 0.4111 - val_accuracy: 0.8947\n",
            "Epoch 40/50\n",
            "1500/1500 [==============================] - 4s 3ms/step - loss: 0.1066 - accuracy: 0.9607 - val_loss: 0.4614 - val_accuracy: 0.8908\n",
            "Epoch 41/50\n",
            "1500/1500 [==============================] - 4s 3ms/step - loss: 0.1025 - accuracy: 0.9619 - val_loss: 0.4457 - val_accuracy: 0.8903\n",
            "Epoch 42/50\n",
            "1500/1500 [==============================] - 4s 3ms/step - loss: 0.1005 - accuracy: 0.9614 - val_loss: 0.4504 - val_accuracy: 0.8942\n",
            "Epoch 43/50\n",
            "1500/1500 [==============================] - 4s 3ms/step - loss: 0.0983 - accuracy: 0.9638 - val_loss: 0.4676 - val_accuracy: 0.8878\n",
            "Epoch 44/50\n",
            "1500/1500 [==============================] - 4s 3ms/step - loss: 0.0967 - accuracy: 0.9639 - val_loss: 0.4711 - val_accuracy: 0.8895\n",
            "Epoch 45/50\n",
            "1500/1500 [==============================] - 4s 3ms/step - loss: 0.0961 - accuracy: 0.9635 - val_loss: 0.4667 - val_accuracy: 0.8893\n",
            "Epoch 46/50\n",
            "1500/1500 [==============================] - 4s 3ms/step - loss: 0.0944 - accuracy: 0.9645 - val_loss: 0.4818 - val_accuracy: 0.8897\n",
            "Epoch 47/50\n",
            "1500/1500 [==============================] - 4s 3ms/step - loss: 0.0894 - accuracy: 0.9667 - val_loss: 0.4658 - val_accuracy: 0.8915\n",
            "Epoch 48/50\n",
            "1500/1500 [==============================] - 4s 3ms/step - loss: 0.0932 - accuracy: 0.9652 - val_loss: 0.5019 - val_accuracy: 0.8901\n",
            "Epoch 49/50\n",
            "1500/1500 [==============================] - 4s 3ms/step - loss: 0.0887 - accuracy: 0.9668 - val_loss: 0.4890 - val_accuracy: 0.8930\n",
            "Epoch 50/50\n",
            "1500/1500 [==============================] - 4s 3ms/step - loss: 0.0843 - accuracy: 0.9683 - val_loss: 0.5052 - val_accuracy: 0.8941\n",
            "Best epoch: 33\n"
          ]
        }
      ]
    },
    {
      "cell_type": "markdown",
      "metadata": {
        "id": "uOTSirSTI3Gp"
      },
      "source": [
        "Re-instantiate the hypermodel and train it with the optimal number of epochs from above."
      ]
    },
    {
      "cell_type": "code",
      "execution_count": null,
      "metadata": {
        "id": "NoiPUEHmMhCe"
      },
      "outputs": [],
      "source": [
        "hypermodel = tuner.hypermodel.build(best_hps)\n",
        "\n",
        "# Retrain the model\n",
        "hypermodel.fit(img_train, label_train, epochs=best_epoch, validation_split=0.2)"
      ]
    },
    {
      "cell_type": "code",
      "source": [
        "hypermodel = tuner.hypermodel.build(\n",
        "    best_hps\n",
        ")\n",
        "\n",
        "# Retrain the model\n",
        "hypermodel.fit(\n",
        "    img_train, label_train, epochs=best_epoch, validation_split=0.2\n",
        ")"
      ],
      "metadata": {
        "id": "9LV0wiJLMeji",
        "outputId": "c5171b97-d166-4737-ded2-8fef1cd150c8",
        "colab": {
          "base_uri": "https://localhost:8080/"
        }
      },
      "execution_count": 12,
      "outputs": [
        {
          "output_type": "stream",
          "name": "stdout",
          "text": [
            "Epoch 1/33\n",
            "1500/1500 [==============================] - 4s 3ms/step - loss: 0.5088 - accuracy: 0.8207 - val_loss: 0.4108 - val_accuracy: 0.8547\n",
            "Epoch 2/33\n",
            "1500/1500 [==============================] - 4s 3ms/step - loss: 0.3803 - accuracy: 0.8634 - val_loss: 0.4076 - val_accuracy: 0.8465\n",
            "Epoch 3/33\n",
            "1500/1500 [==============================] - 4s 3ms/step - loss: 0.3395 - accuracy: 0.8764 - val_loss: 0.3537 - val_accuracy: 0.8716\n",
            "Epoch 4/33\n",
            "1500/1500 [==============================] - 4s 3ms/step - loss: 0.3107 - accuracy: 0.8861 - val_loss: 0.3573 - val_accuracy: 0.8673\n",
            "Epoch 5/33\n",
            "1500/1500 [==============================] - 4s 3ms/step - loss: 0.2957 - accuracy: 0.8901 - val_loss: 0.3405 - val_accuracy: 0.8754\n",
            "Epoch 6/33\n",
            "1500/1500 [==============================] - 4s 3ms/step - loss: 0.2778 - accuracy: 0.8978 - val_loss: 0.3580 - val_accuracy: 0.8698\n",
            "Epoch 7/33\n",
            "1500/1500 [==============================] - 4s 3ms/step - loss: 0.2648 - accuracy: 0.9009 - val_loss: 0.3229 - val_accuracy: 0.8867\n",
            "Epoch 8/33\n",
            "1500/1500 [==============================] - 4s 3ms/step - loss: 0.2555 - accuracy: 0.9039 - val_loss: 0.3164 - val_accuracy: 0.8882\n",
            "Epoch 9/33\n",
            "1500/1500 [==============================] - 4s 3ms/step - loss: 0.2427 - accuracy: 0.9096 - val_loss: 0.3447 - val_accuracy: 0.8819\n",
            "Epoch 10/33\n",
            "1500/1500 [==============================] - 4s 3ms/step - loss: 0.2356 - accuracy: 0.9125 - val_loss: 0.3236 - val_accuracy: 0.8873\n",
            "Epoch 11/33\n",
            "1500/1500 [==============================] - 4s 3ms/step - loss: 0.2263 - accuracy: 0.9154 - val_loss: 0.3400 - val_accuracy: 0.8808\n",
            "Epoch 12/33\n",
            "1500/1500 [==============================] - 4s 3ms/step - loss: 0.2180 - accuracy: 0.9192 - val_loss: 0.3229 - val_accuracy: 0.8880\n",
            "Epoch 13/33\n",
            "1500/1500 [==============================] - 4s 3ms/step - loss: 0.2120 - accuracy: 0.9196 - val_loss: 0.3334 - val_accuracy: 0.8827\n",
            "Epoch 14/33\n",
            "1500/1500 [==============================] - 4s 3ms/step - loss: 0.2036 - accuracy: 0.9237 - val_loss: 0.3416 - val_accuracy: 0.8876\n",
            "Epoch 15/33\n",
            "1500/1500 [==============================] - 4s 3ms/step - loss: 0.1990 - accuracy: 0.9245 - val_loss: 0.3250 - val_accuracy: 0.8923\n",
            "Epoch 16/33\n",
            "1500/1500 [==============================] - 4s 3ms/step - loss: 0.1901 - accuracy: 0.9279 - val_loss: 0.3160 - val_accuracy: 0.8948\n",
            "Epoch 17/33\n",
            "1500/1500 [==============================] - 4s 3ms/step - loss: 0.1854 - accuracy: 0.9289 - val_loss: 0.3375 - val_accuracy: 0.8857\n",
            "Epoch 18/33\n",
            "1500/1500 [==============================] - 4s 3ms/step - loss: 0.1808 - accuracy: 0.9327 - val_loss: 0.3251 - val_accuracy: 0.8898\n",
            "Epoch 19/33\n",
            "1500/1500 [==============================] - 4s 3ms/step - loss: 0.1746 - accuracy: 0.9333 - val_loss: 0.3468 - val_accuracy: 0.8903\n",
            "Epoch 20/33\n",
            "1500/1500 [==============================] - 4s 3ms/step - loss: 0.1700 - accuracy: 0.9360 - val_loss: 0.3561 - val_accuracy: 0.8899\n",
            "Epoch 21/33\n",
            "1500/1500 [==============================] - 4s 3ms/step - loss: 0.1629 - accuracy: 0.9389 - val_loss: 0.3530 - val_accuracy: 0.8885\n",
            "Epoch 22/33\n",
            "1500/1500 [==============================] - 4s 3ms/step - loss: 0.1610 - accuracy: 0.9399 - val_loss: 0.3877 - val_accuracy: 0.8866\n",
            "Epoch 23/33\n",
            "1500/1500 [==============================] - 4s 3ms/step - loss: 0.1571 - accuracy: 0.9411 - val_loss: 0.3514 - val_accuracy: 0.8950\n",
            "Epoch 24/33\n",
            "1500/1500 [==============================] - 4s 3ms/step - loss: 0.1507 - accuracy: 0.9430 - val_loss: 0.3620 - val_accuracy: 0.8912\n",
            "Epoch 25/33\n",
            "1500/1500 [==============================] - 4s 3ms/step - loss: 0.1452 - accuracy: 0.9451 - val_loss: 0.3613 - val_accuracy: 0.8949\n",
            "Epoch 26/33\n",
            "1500/1500 [==============================] - 4s 3ms/step - loss: 0.1439 - accuracy: 0.9457 - val_loss: 0.3661 - val_accuracy: 0.8937\n",
            "Epoch 27/33\n",
            "1500/1500 [==============================] - 4s 3ms/step - loss: 0.1400 - accuracy: 0.9477 - val_loss: 0.3749 - val_accuracy: 0.8934\n",
            "Epoch 28/33\n",
            "1500/1500 [==============================] - 4s 3ms/step - loss: 0.1378 - accuracy: 0.9482 - val_loss: 0.3628 - val_accuracy: 0.8923\n",
            "Epoch 29/33\n",
            "1500/1500 [==============================] - 4s 3ms/step - loss: 0.1333 - accuracy: 0.9501 - val_loss: 0.3969 - val_accuracy: 0.8903\n",
            "Epoch 30/33\n",
            "1500/1500 [==============================] - 4s 3ms/step - loss: 0.1320 - accuracy: 0.9502 - val_loss: 0.3961 - val_accuracy: 0.8882\n",
            "Epoch 31/33\n",
            "1500/1500 [==============================] - 5s 3ms/step - loss: 0.1264 - accuracy: 0.9515 - val_loss: 0.3985 - val_accuracy: 0.8870\n",
            "Epoch 32/33\n",
            "1500/1500 [==============================] - 4s 3ms/step - loss: 0.1239 - accuracy: 0.9526 - val_loss: 0.4040 - val_accuracy: 0.8898\n",
            "Epoch 33/33\n",
            "1500/1500 [==============================] - 4s 3ms/step - loss: 0.1217 - accuracy: 0.9541 - val_loss: 0.4250 - val_accuracy: 0.8866\n"
          ]
        },
        {
          "output_type": "execute_result",
          "data": {
            "text/plain": [
              "<keras.callbacks.History at 0x7fb3880d2710>"
            ]
          },
          "metadata": {},
          "execution_count": 12
        }
      ]
    },
    {
      "cell_type": "markdown",
      "metadata": {
        "id": "MqU5ZVAaag2v"
      },
      "source": [
        "To finish this tutorial, evaluate the hypermodel on the test data."
      ]
    },
    {
      "cell_type": "code",
      "execution_count": null,
      "metadata": {
        "id": "9E0BTp9Ealjb"
      },
      "outputs": [],
      "source": [
        "eval_result = hypermodel.evaluate(img_test, label_test)\n",
        "print(\"[test loss, test accuracy]:\", eval_result)"
      ]
    },
    {
      "cell_type": "code",
      "source": [
        "eval_result = hypermodel.evaluate(\n",
        "    img_test, label_test\n",
        ")\n",
        "print(\n",
        "    \"[test loss, test accuracy]:\", eval_result\n",
        ")"
      ],
      "metadata": {
        "id": "Ap-qXSM3MvH4",
        "outputId": "7503e028-7cb4-4e4d-f33f-7f61143cc968",
        "colab": {
          "base_uri": "https://localhost:8080/"
        }
      },
      "execution_count": 13,
      "outputs": [
        {
          "output_type": "stream",
          "name": "stdout",
          "text": [
            "313/313 [==============================] - 1s 3ms/step - loss: 0.4830 - accuracy: 0.8796\n",
            "[test loss, test accuracy]: [0.48295527696609497, 0.8795999884605408]\n"
          ]
        }
      ]
    },
    {
      "cell_type": "markdown",
      "metadata": {
        "id": "EQRpPHZsz-eC"
      },
      "source": [
        "The `my_dir/intro_to_kt` directory contains detailed logs and checkpoints for every trial (model configuration) run during the hyperparameter search. If you re-run the hyperparameter search, the Keras Tuner uses the existing state from these logs to resume the search. To disable this behavior, pass an additional `overwrite=True` argument while instantiating the tuner."
      ]
    },
    {
      "cell_type": "markdown",
      "metadata": {
        "id": "sKwLOzKpFGAj"
      },
      "source": [
        "## Summary\n",
        "\n",
        "In this tutorial, you learned how to use the Keras Tuner to tune hyperparameters for a model. To learn more about the Keras Tuner, check out these additional resources:\n",
        "\n",
        "* [Keras Tuner on the TensorFlow blog](https://blog.tensorflow.org/2020/01/hyperparameter-tuning-with-keras-tuner.html)\n",
        "* [Keras Tuner website](https://keras-team.github.io/keras-tuner/)\n",
        "\n",
        "Also check out the [HParams Dashboard](https://www.tensorflow.org/tensorboard/hyperparameter_tuning_with_hparams) in TensorBoard to interactively tune your model hyperparameters."
      ]
    }
  ],
  "metadata": {
    "accelerator": "GPU",
    "colab": {
      "collapsed_sections": [
        "Tce3stUlHN0L"
      ],
      "name": "keras_tuner.ipynb",
      "toc_visible": true,
      "provenance": [],
      "include_colab_link": true
    },
    "kernelspec": {
      "display_name": "Python 3",
      "name": "python3"
    }
  },
  "nbformat": 4,
  "nbformat_minor": 0
}