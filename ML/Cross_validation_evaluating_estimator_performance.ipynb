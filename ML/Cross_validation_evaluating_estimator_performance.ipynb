{
  "nbformat": 4,
  "nbformat_minor": 0,
  "metadata": {
    "colab": {
      "name": "Cross-validation: evaluating estimator performance.ipynb",
      "provenance": [],
      "authorship_tag": "ABX9TyMMKvS5T2Trk0IygShrYPZ1",
      "include_colab_link": true
    },
    "kernelspec": {
      "name": "python3",
      "display_name": "Python 3"
    },
    "language_info": {
      "name": "python"
    }
  },
  "cells": [
    {
      "cell_type": "markdown",
      "metadata": {
        "id": "view-in-github",
        "colab_type": "text"
      },
      "source": [
        "<a href=\"https://colab.research.google.com/github/neohack22/IASD/blob/ML/ML/Cross_validation_evaluating_estimator_performance.ipynb\" target=\"_parent\"><img src=\"https://colab.research.google.com/assets/colab-badge.svg\" alt=\"Open In Colab\"/></a>"
      ]
    },
    {
      "cell_type": "code",
      "metadata": {
        "colab": {
          "base_uri": "https://localhost:8080/"
        },
        "id": "FIJ4plnQqH86",
        "outputId": "25c65be1-dd63-4616-f7fc-292659745e51"
      },
      "source": [
        "import numpy as np\n",
        "from sklearn.model_selection import train_test_split\n",
        "from sklearn import datasets\n",
        "from sklearn import svm\n",
        "\n",
        "X, y = datasets.load_iris(return_X_y=True)\n",
        "X.shape, y.shape"
      ],
      "execution_count": null,
      "outputs": [
        {
          "output_type": "execute_result",
          "data": {
            "text/plain": [
              "((150, 4), (150,))"
            ]
          },
          "metadata": {},
          "execution_count": 1
        }
      ]
    },
    {
      "cell_type": "code",
      "metadata": {
        "colab": {
          "base_uri": "https://localhost:8080/"
        },
        "id": "xdCOLrVAqyc6",
        "outputId": "c5b911a0-20b3-427e-bf9b-916187e6b2b6"
      },
      "source": [
        "X_train, X_test, y_train, y_test = train_test_split(X, y, test_size=0.4, random_state=0)\n",
        "\n",
        "X_train.shape, y_train.shape"
      ],
      "execution_count": null,
      "outputs": [
        {
          "output_type": "execute_result",
          "data": {
            "text/plain": [
              "((90, 4), (90,))"
            ]
          },
          "metadata": {},
          "execution_count": 2
        }
      ]
    },
    {
      "cell_type": "code",
      "metadata": {
        "colab": {
          "base_uri": "https://localhost:8080/"
        },
        "id": "IHnU3UmUtqmk",
        "outputId": "80fdab24-b199-4ef1-c80b-5aa752826059"
      },
      "source": [
        "X_test.shape, y_test.shape"
      ],
      "execution_count": null,
      "outputs": [
        {
          "output_type": "execute_result",
          "data": {
            "text/plain": [
              "((60, 4), (60,))"
            ]
          },
          "metadata": {},
          "execution_count": 3
        }
      ]
    },
    {
      "cell_type": "code",
      "metadata": {
        "colab": {
          "base_uri": "https://localhost:8080/"
        },
        "id": "AUCIFXx3t556",
        "outputId": "d79ba95f-03cc-4ccf-c0db-1f624190375a"
      },
      "source": [
        "# clf = svm.SVC(kernel='linear', C=1).fit(X_train, y_train)\n",
        "clm = svm.SVC(kernel='linear', C=1).fit(X_train, y_train)\n",
        "clm.score(X_test, y_test)"
      ],
      "execution_count": null,
      "outputs": [
        {
          "output_type": "execute_result",
          "data": {
            "text/plain": [
              "0.9666666666666667"
            ]
          },
          "metadata": {},
          "execution_count": 5
        }
      ]
    },
    {
      "cell_type": "markdown",
      "metadata": {
        "id": "BIhRQxHevsBq"
      },
      "source": [
        "### Computing cross-validated metrics"
      ]
    },
    {
      "cell_type": "code",
      "metadata": {
        "colab": {
          "base_uri": "https://localhost:8080/"
        },
        "id": "Hg9Bhma8uIt8",
        "outputId": "c970921c-9f1b-4076-fbf9-9a005d5ba500"
      },
      "source": [
        "from sklearn.model_selection import cross_val_score\n",
        "clf = svm.SVC(kernel='linear', C=1, random_state=42)\n",
        "scores = cross_val_score(clf, X, y, cv=5)\n",
        "scores"
      ],
      "execution_count": null,
      "outputs": [
        {
          "output_type": "execute_result",
          "data": {
            "text/plain": [
              "array([0.96666667, 1.        , 0.96666667, 0.96666667, 1.        ])"
            ]
          },
          "metadata": {},
          "execution_count": 6
        }
      ]
    },
    {
      "cell_type": "code",
      "metadata": {
        "colab": {
          "base_uri": "https://localhost:8080/"
        },
        "id": "0eXHanmPwKyx",
        "outputId": "391fc6b4-3d1e-4caa-fe9a-3d986a1d332d"
      },
      "source": [
        "print(\"%0.2f accuracy with a standard deviation of %0.2f\" % (scores.mean(), scores.std()))"
      ],
      "execution_count": null,
      "outputs": [
        {
          "output_type": "stream",
          "name": "stdout",
          "text": [
            "0.98 accuracy with a standard deviation of 0.02\n"
          ]
        }
      ]
    },
    {
      "cell_type": "code",
      "metadata": {
        "colab": {
          "base_uri": "https://localhost:8080/"
        },
        "id": "4yIhnqL8wgzD",
        "outputId": "bb99bcb9-f095-4711-ec38-fda75bf1b921"
      },
      "source": [
        "from sklearn import metrics\n",
        "scores = cross_val_score(\n",
        "    clf, X, y, cv=5, scoring='f1_macro')\n",
        "scores"
      ],
      "execution_count": null,
      "outputs": [
        {
          "output_type": "execute_result",
          "data": {
            "text/plain": [
              "array([0.96658312, 1.        , 0.96658312, 0.96658312, 1.        ])"
            ]
          },
          "metadata": {},
          "execution_count": 9
        }
      ]
    },
    {
      "cell_type": "code",
      "metadata": {
        "colab": {
          "base_uri": "https://localhost:8080/"
        },
        "id": "PgWp_cBcxYbr",
        "outputId": "9c594ef4-0299-4271-f13a-acc56254667d"
      },
      "source": [
        "from sklearn.model_selection import ShuffleSplit\n",
        "n_samples = X.shape[0]\n",
        "# cv = ShuffleSplit(n_split=5, test_size=0.3, random_state=0)\n",
        "cv = ShuffleSplit(n_splits=5, test_size=0.3, random_state=0)\n",
        "cross_val_score(clf, X, y, cv=cv)"
      ],
      "execution_count": null,
      "outputs": [
        {
          "output_type": "execute_result",
          "data": {
            "text/plain": [
              "array([0.97777778, 0.97777778, 1.        , 0.95555556, 1.        ])"
            ]
          },
          "metadata": {},
          "execution_count": 11
        }
      ]
    },
    {
      "cell_type": "code",
      "metadata": {
        "colab": {
          "base_uri": "https://localhost:8080/"
        },
        "id": "roWDkIP06gqX",
        "outputId": "9fb27fe2-539d-435c-b8f7-c6f06ce948f0"
      },
      "source": [
        "def custom_cv_2folds(X):\n",
        "  n = X.shape[0]\n",
        "  i = 1\n",
        "  while i<= 2:\n",
        "    # idx = np.arrange(n * (i - 1) / 2, n * i / 2, dtype=int)\n",
        "    idx = np.arange(n * (i - 1) / 2, n * i / 2, dtype=int)\n",
        "    yield idx, idx\n",
        "    i += 1\n",
        "\n",
        "custom_cv = custom_cv_2folds(X)\n",
        "cross_val_score(clf, X, y, cv=custom_cv)"
      ],
      "execution_count": null,
      "outputs": [
        {
          "output_type": "execute_result",
          "data": {
            "text/plain": [
              "array([1.        , 0.97333333])"
            ]
          },
          "metadata": {},
          "execution_count": 13
        }
      ]
    },
    {
      "cell_type": "code",
      "metadata": {
        "colab": {
          "base_uri": "https://localhost:8080/"
        },
        "id": "cTJP1gjT89dt",
        "outputId": "32d5cde3-50bc-4c64-a01e-8a35f84e001a"
      },
      "source": [
        "from sklearn import preprocessing\n",
        "X_train, X_test, y_train, y_test = train_test_split(\n",
        "    X, y, test_size=0.4, random_state=0\n",
        ")\n",
        "scaler = preprocessing.StandardScaler().fit(X_train)\n",
        "X_train_transformed = scaler.transform(X_train)\n",
        "clf = svm.SVC(C=1).fit(X_train_transformed, y_train)\n",
        "X_test_transformed = scaler.transform(X_test)\n",
        "clf.score(X_test_transformed, y_test)"
      ],
      "execution_count": null,
      "outputs": [
        {
          "output_type": "execute_result",
          "data": {
            "text/plain": [
              "0.9333333333333333"
            ]
          },
          "metadata": {},
          "execution_count": 14
        }
      ]
    },
    {
      "cell_type": "code",
      "metadata": {
        "colab": {
          "base_uri": "https://localhost:8080/"
        },
        "id": "gscmeIrG_U07",
        "outputId": "b964e7d2-a00b-4344-cf32-eb21625e4220"
      },
      "source": [
        "from sklearn.pipeline import make_pipeline\n",
        "clf = make_pipeline(preprocessing.StandardScaler(), svm.SVC(C=1))\n",
        "cross_val_score(clf, X, y, cv=cv)"
      ],
      "execution_count": null,
      "outputs": [
        {
          "output_type": "execute_result",
          "data": {
            "text/plain": [
              "array([0.97777778, 0.93333333, 0.95555556, 0.93333333, 0.97777778])"
            ]
          },
          "metadata": {},
          "execution_count": 15
        }
      ]
    },
    {
      "cell_type": "markdown",
      "metadata": {
        "id": "17KEsxJ7_4xW"
      },
      "source": [
        "#### The cross_validate function and multiple metric evaluation"
      ]
    },
    {
      "cell_type": "code",
      "metadata": {
        "colab": {
          "base_uri": "https://localhost:8080/"
        },
        "id": "DdLMXZTF_yCe",
        "outputId": "3b1eefb8-ec03-46aa-a43e-190eb6b8455c"
      },
      "source": [
        "from sklearn.model_selection import cross_validate\n",
        "from sklearn.metrics import recall_score\n",
        "scoring = ['precision_macro', 'recall_macro']\n",
        "clf = svm.SVC(kernel='linear', C=1, random_state=0)\n",
        "scores = cross_validate(clf, X, y, scoring=scoring)\n",
        "sorted(scores.keys())"
      ],
      "execution_count": null,
      "outputs": [
        {
          "output_type": "execute_result",
          "data": {
            "text/plain": [
              "['fit_time', 'score_time', 'test_precision_macro', 'test_recall_macro']"
            ]
          },
          "metadata": {},
          "execution_count": 16
        }
      ]
    },
    {
      "cell_type": "code",
      "metadata": {
        "colab": {
          "base_uri": "https://localhost:8080/"
        },
        "id": "LvJe4h90CNIS",
        "outputId": "ed3d0983-e720-4ccc-9635-e359c246f169"
      },
      "source": [
        "scores['test_recall_macro']"
      ],
      "execution_count": null,
      "outputs": [
        {
          "output_type": "execute_result",
          "data": {
            "text/plain": [
              "array([0.96666667, 1.        , 0.96666667, 0.96666667, 1.        ])"
            ]
          },
          "metadata": {},
          "execution_count": 17
        }
      ]
    },
    {
      "cell_type": "code",
      "metadata": {
        "colab": {
          "base_uri": "https://localhost:8080/"
        },
        "id": "vsnBdw5pCQ35",
        "outputId": "21eefe9f-2f75-4e9e-fd80-503a5449e8c9"
      },
      "source": [
        "from sklearn.metrics import make_scorer\n",
        "scoring = {'prec_macro': 'precision_macro',\n",
        "           'rec_macro': make_scorer(recall_score, average='macro')}\n",
        "scores = cross_validate(clf, X, y, scoring=scoring,\n",
        "                        cv=5, return_train_score=True)           \n",
        "sorted(scores.keys())"
      ],
      "execution_count": null,
      "outputs": [
        {
          "output_type": "execute_result",
          "data": {
            "text/plain": [
              "['fit_time',\n",
              " 'score_time',\n",
              " 'test_prec_macro',\n",
              " 'test_rec_macro',\n",
              " 'train_prec_macro',\n",
              " 'train_rec_macro']"
            ]
          },
          "metadata": {},
          "execution_count": 18
        }
      ]
    },
    {
      "cell_type": "code",
      "metadata": {
        "colab": {
          "base_uri": "https://localhost:8080/"
        },
        "id": "yjyEFMnrEdBJ",
        "outputId": "a9f893f0-af8b-4b7a-ec46-29961c89ea64"
      },
      "source": [
        "scores['train_rec_macro']"
      ],
      "execution_count": null,
      "outputs": [
        {
          "output_type": "execute_result",
          "data": {
            "text/plain": [
              "array([0.975     , 0.975     , 0.99166667, 0.98333333, 0.98333333])"
            ]
          },
          "metadata": {},
          "execution_count": 19
        }
      ]
    },
    {
      "cell_type": "code",
      "metadata": {
        "colab": {
          "base_uri": "https://localhost:8080/"
        },
        "id": "NHC5vefbEkFc",
        "outputId": "a1102fe8-091a-4891-9814-0eba1c7cff32"
      },
      "source": [
        "scores = cross_validate(clf, X, y,\n",
        "                        scoring='precision_macro', cv=5,\n",
        "                        return_estimator=True)\n",
        "sorted(scores.keys())"
      ],
      "execution_count": null,
      "outputs": [
        {
          "output_type": "execute_result",
          "data": {
            "text/plain": [
              "['estimator', 'fit_time', 'score_time', 'test_score']"
            ]
          },
          "metadata": {},
          "execution_count": 20
        }
      ]
    },
    {
      "cell_type": "markdown",
      "metadata": {
        "id": "9jauFl8PGFH8"
      },
      "source": [
        "### Cross validation iterators"
      ]
    },
    {
      "cell_type": "markdown",
      "metadata": {
        "id": "ESVlbS9DGwdJ"
      },
      "source": [
        "#### Cross-validation iterators for i.i.d. data"
      ]
    },
    {
      "cell_type": "markdown",
      "metadata": {
        "id": "-KneKab1Hjzr"
      },
      "source": [
        "##### K-fold"
      ]
    },
    {
      "cell_type": "code",
      "metadata": {
        "colab": {
          "base_uri": "https://localhost:8080/"
        },
        "id": "1WKNRpT3GAEs",
        "outputId": "78e3e5ea-eaf5-4b44-83f2-eaf5d0ee05e0"
      },
      "source": [
        "import numpy as np\n",
        "from sklearn.model_selection import KFold\n",
        "\n",
        "X = [\"a\", \"b\", \"c\", \"d\"]\n",
        "kf = KFold(n_splits=2)\n",
        "for train, test in kf.split(X):\n",
        "  print(\"%s %s\" % (train, test))"
      ],
      "execution_count": null,
      "outputs": [
        {
          "output_type": "stream",
          "name": "stdout",
          "text": [
            "[2 3] [0 1]\n",
            "[0 1] [2 3]\n"
          ]
        }
      ]
    },
    {
      "cell_type": "code",
      "metadata": {
        "id": "lpUvIrxgILq6"
      },
      "source": [
        "X = np.array([[0., 0.], [1., 1.], [-1., -1.], [2., 2.]])\n",
        "y = np.array([0, 1, 0, 1])\n",
        "X_train, X_test, y_train, y_test = X[train], X[test], y[train], y[test]"
      ],
      "execution_count": null,
      "outputs": []
    },
    {
      "cell_type": "markdown",
      "metadata": {
        "id": "yg6Bs1_MJo2D"
      },
      "source": [
        "##### Repeated K-Fold"
      ]
    },
    {
      "cell_type": "code",
      "metadata": {
        "colab": {
          "base_uri": "https://localhost:8080/"
        },
        "id": "02c1R22iJfjU",
        "outputId": "039f62f0-d745-433f-eacb-a773fa5f36d1"
      },
      "source": [
        "import numpy as np\n",
        "from sklearn.model_selection import RepeatedKFold\n",
        "X = np.array([[1, 2], [3, 4], [1, 2], [3, 4]])\n",
        "random_state = 12883823\n",
        "rkf = RepeatedKFold(n_splits=2, n_repeats=2, random_state=random_state)\n",
        "for train, test in rkf.split(X):\n",
        "  print(\"%s %s\" % (train, test))"
      ],
      "execution_count": null,
      "outputs": [
        {
          "output_type": "stream",
          "name": "stdout",
          "text": [
            "[2 3] [0 1]\n",
            "[0 1] [2 3]\n",
            "[0 2] [1 3]\n",
            "[1 3] [0 2]\n"
          ]
        }
      ]
    },
    {
      "cell_type": "markdown",
      "metadata": {
        "id": "Kwr-_ouHKjgp"
      },
      "source": [
        "##### Leave One Out (LOO)"
      ]
    },
    {
      "cell_type": "code",
      "metadata": {
        "colab": {
          "base_uri": "https://localhost:8080/"
        },
        "id": "g1m0Pvf1KgUu",
        "outputId": "52084136-4032-4b88-8e0c-3b58e8cf4174"
      },
      "source": [
        "from sklearn.model_selection import LeaveOneOut\n",
        "\n",
        "X = [1, 2, 3, 4]\n",
        "loo = LeaveOneOut()\n",
        "for train, test in loo.split(X):\n",
        "  print(\"%s %s\" % (train, test))"
      ],
      "execution_count": null,
      "outputs": [
        {
          "output_type": "stream",
          "name": "stdout",
          "text": [
            "[1 2 3] [0]\n",
            "[0 2 3] [1]\n",
            "[0 1 3] [2]\n",
            "[0 1 2] [3]\n"
          ]
        }
      ]
    },
    {
      "cell_type": "markdown",
      "metadata": {
        "id": "zZLP4zdnNhS7"
      },
      "source": [
        "##### Leave P Out (LPO)"
      ]
    },
    {
      "cell_type": "code",
      "metadata": {
        "colab": {
          "base_uri": "https://localhost:8080/"
        },
        "id": "vlAdI5SUMiej",
        "outputId": "fc2abcec-3f8f-40e9-9ac7-860c692be9c1"
      },
      "source": [
        "from sklearn.model_selection import LeavePOut\n",
        "\n",
        "X = np.ones(4)\n",
        "lpo = LeavePOut(p=2)\n",
        "for train, test in lpo.split(X):\n",
        "  print(\"%s %s\" % (train, test))"
      ],
      "execution_count": null,
      "outputs": [
        {
          "output_type": "stream",
          "name": "stdout",
          "text": [
            "[2 3] [0 1]\n",
            "[1 3] [0 2]\n",
            "[1 2] [0 3]\n",
            "[0 3] [1 2]\n",
            "[0 2] [1 3]\n",
            "[0 1] [2 3]\n"
          ]
        }
      ]
    },
    {
      "cell_type": "markdown",
      "metadata": {
        "id": "VqrzM1ZvOEyJ"
      },
      "source": [
        "##### Random permutations cross-validation a.k.a. Shuffle & Split"
      ]
    },
    {
      "cell_type": "code",
      "metadata": {
        "colab": {
          "base_uri": "https://localhost:8080/"
        },
        "id": "Wek8QFryOBNw",
        "outputId": "cad3d134-7f5a-4340-c886-1ba0b2a6d25c"
      },
      "source": [
        "from sklearn.model_selection import ShuffleSplit\n",
        "X = np.arange(10)\n",
        "ss = ShuffleSplit(n_splits=5, test_size=0.25, random_state=0)\n",
        "for train_index, test_index in ss.split(X):\n",
        "  print(\"%s %s\" % (train_index, test_index))"
      ],
      "execution_count": null,
      "outputs": [
        {
          "output_type": "stream",
          "name": "stdout",
          "text": [
            "[9 1 6 7 3 0 5] [2 8 4]\n",
            "[2 9 8 0 6 7 4] [3 5 1]\n",
            "[4 5 1 0 6 9 7] [2 3 8]\n",
            "[2 7 5 8 0 3 4] [6 1 9]\n",
            "[4 1 0 6 8 9 3] [5 2 7]\n"
          ]
        }
      ]
    },
    {
      "cell_type": "markdown",
      "metadata": {
        "id": "5cTV7nT-QRNy"
      },
      "source": [
        "#### Cross-validation iterators with stratification based on class labels."
      ]
    },
    {
      "cell_type": "markdown",
      "metadata": {
        "id": "j3CpQVqFQTXf"
      },
      "source": [
        "##### Stratified k-fold"
      ]
    },
    {
      "cell_type": "code",
      "metadata": {
        "colab": {
          "base_uri": "https://localhost:8080/"
        },
        "id": "NmTjJTrIP9AK",
        "outputId": "dfd4ef7d-34c1-4b3f-f17d-878061c9647b"
      },
      "source": [
        "from sklearn.model_selection import StratifiedKFold, KFold\n",
        "import numpy as np\n",
        "X, y = np.ones((50, 1)), np.hstack(([0] * 45, [1] * 5))\n",
        "skf = StratifiedKFold(n_splits=3)\n",
        "for train, test in skf.split(X, y):\n",
        "  print('train -  {}    | test  -   {}'.format(\n",
        "      np.bincount(y[train]), np.bincount(y[test])))\n",
        "#  ))"
      ],
      "execution_count": null,
      "outputs": [
        {
          "output_type": "stream",
          "name": "stdout",
          "text": [
            "train -  [30  3]    | test  -   [15  2]\n",
            "train -  [30  3]    | test  -   [15  2]\n",
            "train -  [30  4]    | test  -   [15  1]\n"
          ]
        }
      ]
    },
    {
      "cell_type": "code",
      "metadata": {
        "colab": {
          "base_uri": "https://localhost:8080/"
        },
        "id": "pi5Ns5zbSdyv",
        "outputId": "14998b78-5489-45fd-f61e-746efdce7c8d"
      },
      "source": [
        "kf = KFold(n_splits=3)\n",
        "for train, test in kf.split(X, y):\n",
        "  print('train  -   {}    |   test  -   {}'.format(\n",
        "      np.bincount(y[train]), np.bincount(y[test])\n",
        "  ))"
      ],
      "execution_count": null,
      "outputs": [
        {
          "output_type": "stream",
          "name": "stdout",
          "text": [
            "train  -   [28  5]    |   test  -   [17]\n",
            "train  -   [28  5]    |   test  -   [17]\n",
            "train  -   [34]    |   test  -   [11  5]\n"
          ]
        }
      ]
    },
    {
      "cell_type": "markdown",
      "metadata": {
        "id": "GQ12rYDnTk14"
      },
      "source": [
        "#### Cross-validation iterators for grouped data."
      ]
    },
    {
      "cell_type": "markdown",
      "metadata": {
        "id": "vWxhVlLHUZP9"
      },
      "source": [
        "##### Group k-fold"
      ]
    },
    {
      "cell_type": "code",
      "metadata": {
        "colab": {
          "base_uri": "https://localhost:8080/"
        },
        "id": "0AJYU0a6TDHj",
        "outputId": "24fa858f-f85b-454a-e227-e29f31e520b0"
      },
      "source": [
        "from sklearn.model_selection import GroupKFold\n",
        "\n",
        "X = [0.1, 0.2, 2.2, 2.4, 2.3, 4.55, 5.8, 8.8, 9, 10]\n",
        "y = [\"a\", \"b\", \"b\", \"b\", \"c\", \"c\", \"c\", \"d\", \"d\", \"d\"]\n",
        "groups = [1, 1, 1, 2, 2, 2, 3, 3, 3, 3]\n",
        "\n",
        "gkf = GroupKFold(n_splits=3)\n",
        "for train, test in gkf.split(X, y, groups=groups):\n",
        "  print(\"%s %s\" % (train, test))"
      ],
      "execution_count": null,
      "outputs": [
        {
          "output_type": "stream",
          "name": "stdout",
          "text": [
            "[0 1 2 3 4 5] [6 7 8 9]\n",
            "[0 1 2 6 7 8 9] [3 4 5]\n",
            "[3 4 5 6 7 8 9] [0 1 2]\n"
          ]
        }
      ]
    },
    {
      "cell_type": "markdown",
      "metadata": {
        "id": "927DWD7eX7yt"
      },
      "source": [
        "##### StratifiedGroupKFold"
      ]
    },
    {
      "cell_type": "code",
      "metadata": {
        "colab": {
          "base_uri": "https://localhost:8080/",
          "height": 450
        },
        "id": "Z2ZjozgJXseW",
        "outputId": "66b5e3ba-b65d-4cff-9c32-326b1ba8c022"
      },
      "source": [
        "!pip install StratifiedGroupKFold\n",
        "from sklearn.model_selection import StratifiedGroupKFold\n",
        "\n",
        "X = list(range(18))\n",
        "y = [1] * 6 + [0] * 12\n",
        "# groups = [1, 2, 3, 3, 4, 4, 1, 1, 2, 2, 3, 4, 5? 5, 5, 6, 6, 6]\n",
        "groups = [1, 2, 3, 3, 4, 4, 1, 1, 2, 2, 3, 4, 5, 5, 5, 6, 6, 6]\n",
        "sgkf = StratifiedGroupKFold(n_splits=3)\n",
        "for train, test in sgkf.split(X, y, groups=groups):\n",
        "  print(\"%s %s\" % (train, test))"
      ],
      "execution_count": null,
      "outputs": [
        {
          "output_type": "stream",
          "name": "stdout",
          "text": [
            "\u001b[31mERROR: Could not find a version that satisfies the requirement StratifiedGroupKFold (from versions: none)\u001b[0m\n",
            "\u001b[31mERROR: No matching distribution found for StratifiedGroupKFold\u001b[0m\n"
          ]
        },
        {
          "output_type": "error",
          "ename": "ImportError",
          "evalue": "ignored",
          "traceback": [
            "\u001b[0;31m---------------------------------------------------------------------------\u001b[0m",
            "\u001b[0;31mImportError\u001b[0m                               Traceback (most recent call last)",
            "\u001b[0;32m<ipython-input-33-742a286b0776>\u001b[0m in \u001b[0;36m<module>\u001b[0;34m()\u001b[0m\n\u001b[1;32m      1\u001b[0m \u001b[0mget_ipython\u001b[0m\u001b[0;34m(\u001b[0m\u001b[0;34m)\u001b[0m\u001b[0;34m.\u001b[0m\u001b[0msystem\u001b[0m\u001b[0;34m(\u001b[0m\u001b[0;34m'pip install StratifiedGroupKFold'\u001b[0m\u001b[0;34m)\u001b[0m\u001b[0;34m\u001b[0m\u001b[0;34m\u001b[0m\u001b[0m\n\u001b[0;32m----> 2\u001b[0;31m \u001b[0;32mfrom\u001b[0m \u001b[0msklearn\u001b[0m\u001b[0;34m.\u001b[0m\u001b[0mmodel_selection\u001b[0m \u001b[0;32mimport\u001b[0m \u001b[0mStratifiedGroupKFold\u001b[0m\u001b[0;34m\u001b[0m\u001b[0;34m\u001b[0m\u001b[0m\n\u001b[0m\u001b[1;32m      3\u001b[0m \u001b[0;34m\u001b[0m\u001b[0m\n\u001b[1;32m      4\u001b[0m \u001b[0mX\u001b[0m \u001b[0;34m=\u001b[0m \u001b[0mlist\u001b[0m\u001b[0;34m(\u001b[0m\u001b[0mrange\u001b[0m\u001b[0;34m(\u001b[0m\u001b[0;36m18\u001b[0m\u001b[0;34m)\u001b[0m\u001b[0;34m)\u001b[0m\u001b[0;34m\u001b[0m\u001b[0;34m\u001b[0m\u001b[0m\n\u001b[1;32m      5\u001b[0m \u001b[0my\u001b[0m \u001b[0;34m=\u001b[0m \u001b[0;34m[\u001b[0m\u001b[0;36m1\u001b[0m\u001b[0;34m]\u001b[0m \u001b[0;34m*\u001b[0m \u001b[0;36m6\u001b[0m \u001b[0;34m+\u001b[0m \u001b[0;34m[\u001b[0m\u001b[0;36m0\u001b[0m\u001b[0;34m]\u001b[0m \u001b[0;34m*\u001b[0m \u001b[0;36m12\u001b[0m\u001b[0;34m\u001b[0m\u001b[0;34m\u001b[0m\u001b[0m\n",
            "\u001b[0;31mImportError\u001b[0m: cannot import name 'StratifiedGroupKFold' from 'sklearn.model_selection' (/usr/local/lib/python3.7/dist-packages/sklearn/model_selection/__init__.py)",
            "",
            "\u001b[0;31m---------------------------------------------------------------------------\u001b[0;32m\nNOTE: If your import is failing due to a missing package, you can\nmanually install dependencies using either !pip or !apt.\n\nTo view examples of installing some common dependencies, click the\n\"Open Examples\" button below.\n\u001b[0;31m---------------------------------------------------------------------------\u001b[0m\n"
          ],
          "errorDetails": {
            "actions": [
              {
                "action": "open_url",
                "actionText": "Open Examples",
                "url": "/notebooks/snippets/importing_libraries.ipynb"
              }
            ]
          }
        }
      ]
    },
    {
      "cell_type": "code",
      "metadata": {
        "colab": {
          "base_uri": "https://localhost:8080/"
        },
        "id": "V9TYrOD3ZNhD",
        "outputId": "ad88ec8c-5717-4154-d86e-9d6fa647a769"
      },
      "source": [
        "import sklearn\n",
        "print(sklearn.__version__)"
      ],
      "execution_count": null,
      "outputs": [
        {
          "output_type": "stream",
          "name": "stdout",
          "text": [
            "0.22.2.post1\n"
          ]
        }
      ]
    },
    {
      "cell_type": "markdown",
      "metadata": {
        "id": "FD0rnuZbfTfd"
      },
      "source": [
        "##### Leave One Group Out"
      ]
    },
    {
      "cell_type": "code",
      "metadata": {
        "colab": {
          "base_uri": "https://localhost:8080/"
        },
        "id": "oumT-eIcZ0y_",
        "outputId": "4aa8703c-0ba8-4688-c1ff-9ae1e3417338"
      },
      "source": [
        "from sklearn.model_selection import LeaveOneGroupOut\n",
        "\n",
        "X = [1, 5, 10, 50, 60, 70, 80]\n",
        "y = [0, 1, 1, 2, 2, 2, 2]\n",
        "groups = [1, 1, 2, 2, 3, 3, 3]\n",
        "logo = LeaveOneGroupOut()\n",
        "for train, test in logo.split(X, y, groups=groups):\n",
        "  print(\"%s %s\" % (train, test))"
      ],
      "execution_count": null,
      "outputs": [
        {
          "output_type": "stream",
          "name": "stdout",
          "text": [
            "[2 3 4 5 6] [0 1]\n",
            "[0 1 4 5 6] [2 3]\n",
            "[0 1 2 3] [4 5 6]\n"
          ]
        }
      ]
    },
    {
      "cell_type": "markdown",
      "metadata": {
        "id": "aXB4tTX0lasx"
      },
      "source": [
        "##### Leave P Groups Out"
      ]
    },
    {
      "cell_type": "code",
      "metadata": {
        "colab": {
          "base_uri": "https://localhost:8080/"
        },
        "id": "Wr5k4V9GjioY",
        "outputId": "58072b24-6f32-49a2-9909-9e9ef22810a0"
      },
      "source": [
        "from sklearn.model_selection import LeavePGroupsOut\n",
        "\n",
        "X = np.arange(6)\n",
        "y = [1, 1, 1, 2, 2, 2]\n",
        "groups = [1, 1, 2, 2, 3, 3]\n",
        "lpgo = LeavePGroupsOut(n_groups=2)\n",
        "for train, test in lpgo.split(X, y, groups=groups):\n",
        "  print(\"%s %s\" % (train, test))"
      ],
      "execution_count": null,
      "outputs": [
        {
          "output_type": "stream",
          "name": "stdout",
          "text": [
            "[4 5] [0 1 2 3]\n",
            "[2 3] [0 1 4 5]\n",
            "[0 1] [2 3 4 5]\n"
          ]
        }
      ]
    },
    {
      "cell_type": "markdown",
      "metadata": {
        "id": "c5rX0_0HmIOf"
      },
      "source": [
        "##### Group Shuffle Split"
      ]
    },
    {
      "cell_type": "code",
      "metadata": {
        "colab": {
          "base_uri": "https://localhost:8080/"
        },
        "id": "3d2GEBa_l7zU",
        "outputId": "7580ca37-1b65-406a-8ffd-56fe329b4b37"
      },
      "source": [
        "from sklearn.model_selection import GroupShuffleSplit\n",
        "\n",
        "X = [0.1, 0.2, 2.2, 2.4, 2.3, 4.55, 5.8, 0.001]\n",
        "y = [\"a\", \"b\", \"b\", \"b\", \"c\", \"c\", \"c\", \"a\"]\n",
        "groups = [1, 1, 2, 2, 3, 3, 4, 4]\n",
        "gss = GroupShuffleSplit(n_splits=4, test_size=0.5, random_state=0)\n",
        "for train, test in gss.split(X, y, groups=groups):\n",
        "  print(\"%s %s\" % (train, test))"
      ],
      "execution_count": null,
      "outputs": [
        {
          "output_type": "stream",
          "name": "stdout",
          "text": [
            "[0 1 2 3] [4 5 6 7]\n",
            "[2 3 6 7] [0 1 4 5]\n",
            "[2 3 4 5] [0 1 6 7]\n",
            "[4 5 6 7] [0 1 2 3]\n"
          ]
        }
      ]
    },
    {
      "cell_type": "markdown",
      "metadata": {
        "id": "T47PEM0GovBl"
      },
      "source": [
        "#### Using cross-validation iterators to split train and test"
      ]
    },
    {
      "cell_type": "code",
      "metadata": {
        "colab": {
          "base_uri": "https://localhost:8080/"
        },
        "id": "a4XJtrXbnSQn",
        "outputId": "558fac34-219a-4541-a7f2-758165103d6e"
      },
      "source": [
        "import numpy as np\n",
        "from sklearn.model_selection import GroupShuffleSplit\n",
        "\n",
        "X = np.array([0.1, 0.2, 2.2, 2.4, 2.3, 4.55, 5.8, 0.001])\n",
        "y = np.array([\"a\", \"b\", \"b\", \"b\", \"c\", \"c\", \"c\", \"a\"])\n",
        "groups = np.array([1, 1, 2, 2, 3, 3, 4, 4])\n",
        "train_indx, test_indx = next(\n",
        "    GroupShuffleSplit(random_state=7).split(X, y, groups)\n",
        ")\n",
        "X_train, X_test, y_train, y_test = \\\n",
        "X[train_indx], X[test_indx], y[train_indx], y[test_indx]\n",
        "X_train.shape, X_test.shape"
      ],
      "execution_count": null,
      "outputs": [
        {
          "output_type": "execute_result",
          "data": {
            "text/plain": [
              "((6,), (2,))"
            ]
          },
          "metadata": {},
          "execution_count": 39
        }
      ]
    },
    {
      "cell_type": "code",
      "metadata": {
        "colab": {
          "base_uri": "https://localhost:8080/"
        },
        "id": "3URpx972qcUH",
        "outputId": "3e7ecef1-8c65-415b-a7cb-3da30100246a"
      },
      "source": [
        "np.unique(groups[train_indx]), np.unique(groups[test_indx])"
      ],
      "execution_count": null,
      "outputs": [
        {
          "output_type": "execute_result",
          "data": {
            "text/plain": [
              "(array([1, 2, 4]), array([3]))"
            ]
          },
          "metadata": {},
          "execution_count": 40
        }
      ]
    },
    {
      "cell_type": "markdown",
      "metadata": {
        "id": "teQSrjtmrFu7"
      },
      "source": [
        "##### Time Series Split"
      ]
    },
    {
      "cell_type": "code",
      "metadata": {
        "colab": {
          "base_uri": "https://localhost:8080/"
        },
        "id": "hdXFfse3qlDj",
        "outputId": "ae704120-18b7-490b-ccce-352db95db5a8"
      },
      "source": [
        "from sklearn.model_selection import TimeSeriesSplit\n",
        "\n",
        "X = np.array([[1, 2], [3, 4], [1, 2], [3, 4], [1, 2], [3, 4]])\n",
        "y = np.array([1, 2, 3, 4, 5, 6])\n",
        "tscv = TimeSeriesSplit(n_splits=3)\n",
        "print(tscv)"
      ],
      "execution_count": null,
      "outputs": [
        {
          "output_type": "stream",
          "name": "stdout",
          "text": [
            "TimeSeriesSplit(max_train_size=None, n_splits=3)\n"
          ]
        }
      ]
    },
    {
      "cell_type": "code",
      "metadata": {
        "colab": {
          "base_uri": "https://localhost:8080/"
        },
        "id": "1JKGIlEVrsFa",
        "outputId": "d180d16a-cbcc-4050-b450-e660a0536e2f"
      },
      "source": [
        "for train, test in tscv.split(X):\n",
        "  print(\"%s %s\" % (train, test))"
      ],
      "execution_count": null,
      "outputs": [
        {
          "output_type": "stream",
          "name": "stdout",
          "text": [
            "[0 1 2] [3]\n",
            "[0 1 2 3] [4]\n",
            "[0 1 2 3 4] [5]\n"
          ]
        }
      ]
    },
    {
      "cell_type": "markdown",
      "metadata": {
        "id": "9wxnhcCMtygJ"
      },
      "source": [
        "[Source : Scikit Learn](https://https://scikit-learn.org/stable/modules/cross_validation.html)"
      ]
    },
    {
      "cell_type": "code",
      "metadata": {
        "id": "jPJKmXqwr3L7"
      },
      "source": [],
      "execution_count": null,
      "outputs": []
    }
  ]
}