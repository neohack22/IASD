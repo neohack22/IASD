{
  "cells": [
    {
      "cell_type": "code",
      "execution_count": null,
      "metadata": {
        "id": "9Tas3c_63VK-"
      },
      "outputs": [],
      "source": [
        "%matplotlib inline"
      ]
    },
    {
      "cell_type": "code",
      "source": [
        "%matplotlib inline"
      ],
      "metadata": {
        "id": "tThXxQ4I3V00"
      },
      "execution_count": 1,
      "outputs": []
    },
    {
      "cell_type": "markdown",
      "metadata": {
        "id": "-otjwFcs3VLB"
      },
      "source": [
        "\n",
        "Introduction to TorchScript\n",
        "===========================\n",
        "\n",
        "*James Reed (jamesreed@fb.com), Michael Suo (suo@fb.com)*, rev2\n",
        "\n",
        "This tutorial is an introduction to TorchScript, an intermediate\n",
        "representation of a PyTorch model (subclass of ``nn.Module``) that\n",
        "can then be run in a high-performance environment such as C++.\n",
        "\n",
        "In this tutorial we will cover:\n",
        "\n",
        "1. The basics of model authoring in PyTorch, including:\n",
        "\n",
        "-  Modules\n",
        "-  Defining ``forward`` functions\n",
        "-  Composing modules into a hierarchy of modules\n",
        "\n",
        "2. Specific methods for converting PyTorch modules to TorchScript, our\n",
        "   high-performance deployment runtime\n",
        "\n",
        "-  Tracing an existing module\n",
        "-  Using scripting to directly compile a module\n",
        "-  How to compose both approaches\n",
        "-  Saving and loading TorchScript modules\n",
        "\n",
        "We hope that after you complete this tutorial, you will proceed to go through\n",
        "`the follow-on tutorial <https://pytorch.org/tutorials/advanced/cpp_export.html>`_\n",
        "which will walk you through an example of actually calling a TorchScript\n",
        "model from C++.\n"
      ]
    },
    {
      "cell_type": "code",
      "execution_count": null,
      "metadata": {
        "id": "i5AI0obL3VLE"
      },
      "outputs": [],
      "source": [
        "import torch  # This is all you need to use both PyTorch and TorchScript!\n",
        "print(torch.__version__)"
      ]
    },
    {
      "cell_type": "code",
      "source": [
        "import torch # This is all you need to use both PyTorch and TorchScript!\n",
        "print(torch.__version__)"
      ],
      "metadata": {
        "id": "9ZuN9a_Y4H13",
        "outputId": "61115199-efb6-4752-8c5e-ad1a217496dd",
        "colab": {
          "base_uri": "https://localhost:8080/"
        }
      },
      "execution_count": 2,
      "outputs": [
        {
          "output_type": "stream",
          "name": "stdout",
          "text": [
            "1.10.0+cu111\n"
          ]
        }
      ]
    },
    {
      "cell_type": "markdown",
      "metadata": {
        "id": "IwCBWLoG3VLE"
      },
      "source": [
        "Basics of PyTorch Model Authoring\n",
        "---------------------------------\n",
        "\n",
        "Let’s start out be defining a simple ``Module``. A ``Module`` is the\n",
        "basic unit of composition in PyTorch. It contains:\n",
        "\n",
        "1. A constructor, which prepares the module for invocation\n",
        "2. A set of ``Parameters`` and sub-\\ ``Modules``. These are initialized\n",
        "   by the constructor and can be used by the module during invocation.\n",
        "3. A ``forward`` function. This is the code that is run when the module\n",
        "   is invoked.\n",
        "\n",
        "Let’s examine a small example:\n",
        "\n",
        "\n"
      ]
    },
    {
      "cell_type": "code",
      "execution_count": null,
      "metadata": {
        "id": "chED4osg3VLF"
      },
      "outputs": [],
      "source": [
        "class MyCell(torch.nn.Module):\n",
        "    def __init__(self):\n",
        "        super(MyCell, self).__init__()\n",
        "\n",
        "    def forward(self, x, h):\n",
        "        new_h = torch.tanh(x + h)\n",
        "        return new_h, new_h\n",
        "\n",
        "my_cell = MyCell()\n",
        "x = torch.rand(3, 4)\n",
        "h = torch.rand(3, 4)\n",
        "print(my_cell(x, h))"
      ]
    },
    {
      "cell_type": "code",
      "source": [
        "class MyCell(torch.nn.Module):\n",
        "  def __init__(self):\n",
        "    super(MyCell, self).__init__()\n",
        "\n",
        "  def forward(self, x, h):\n",
        "    new_h = torch.tanh(x + h)\n",
        "    return new_h, new_h\n",
        "\n",
        "my_cell = MyCell()\n",
        "x = torch.rand(3, 4)\n",
        "h = torch.rand(3, 4)\n",
        "print(my_cell(x, h))    "
      ],
      "metadata": {
        "id": "pDWlVlfU4XPi",
        "outputId": "b8ce1bc3-4213-4292-b134-4f7ca07ce96e",
        "colab": {
          "base_uri": "https://localhost:8080/"
        }
      },
      "execution_count": 3,
      "outputs": [
        {
          "output_type": "stream",
          "name": "stdout",
          "text": [
            "(tensor([[0.8454, 0.6593, 0.5567, 0.6133],\n",
            "        [0.4900, 0.6417, 0.6336, 0.4099],\n",
            "        [0.6745, 0.8004, 0.8867, 0.7874]]), tensor([[0.8454, 0.6593, 0.5567, 0.6133],\n",
            "        [0.4900, 0.6417, 0.6336, 0.4099],\n",
            "        [0.6745, 0.8004, 0.8867, 0.7874]]))\n"
          ]
        }
      ]
    },
    {
      "cell_type": "markdown",
      "metadata": {
        "id": "XYl790gJ3VLG"
      },
      "source": [
        "So we’ve:\n",
        "\n",
        "1. Created a class that subclasses ``torch.nn.Module``.\n",
        "2. Defined a constructor. The constructor doesn’t do much, just calls\n",
        "   the constructor for ``super``.\n",
        "3. Defined a ``forward`` function, which takes two inputs and returns\n",
        "   two outputs. The actual contents of the ``forward`` function are not\n",
        "   really important, but it’s sort of a fake `RNN\n",
        "   cell <https://colah.github.io/posts/2015-08-Understanding-LSTMs/>`__–that\n",
        "   is–it’s a function that is applied on a loop.\n",
        "\n",
        "We instantiated the module, and made ``x`` and ``h``, which are just 3x4\n",
        "matrices of random values. Then we invoked the cell with\n",
        "``my_cell(x, h)``. This in turn calls our ``forward`` function.\n",
        "\n",
        "Let’s do something a little more interesting:\n",
        "\n",
        "\n"
      ]
    },
    {
      "cell_type": "code",
      "execution_count": null,
      "metadata": {
        "id": "g3rVIb5j3VLH"
      },
      "outputs": [],
      "source": [
        "class MyCell(torch.nn.Module):\n",
        "    def __init__(self):\n",
        "        super(MyCell, self).__init__()\n",
        "        self.linear = torch.nn.Linear(4, 4)\n",
        "\n",
        "    def forward(self, x, h):\n",
        "        new_h = torch.tanh(self.linear(x) + h)\n",
        "        return new_h, new_h\n",
        "\n",
        "my_cell = MyCell()\n",
        "print(my_cell)\n",
        "print(my_cell(x, h))"
      ]
    },
    {
      "cell_type": "code",
      "source": [
        "class MyCell(torch.nn.Module):\n",
        "  def __init__(self):\n",
        "    super(MyCell, self).__init__()\n",
        "    self.linear = torch.nn.Linear(4, 4)\n",
        "\n",
        "  def forward(self, x, h):\n",
        "    new_h = torch.tanh(self.linear(x) + h)\n",
        "    return new_h, new_h\n",
        "\n",
        "my_cell = MyCell()\n",
        "print(my_cell)\n",
        "print(my_cell(x, h))    "
      ],
      "metadata": {
        "id": "Jwe7L_Wb5BTW",
        "outputId": "d931ea44-b8d9-4674-a80d-d43f79a77b79",
        "colab": {
          "base_uri": "https://localhost:8080/"
        }
      },
      "execution_count": 4,
      "outputs": [
        {
          "output_type": "stream",
          "name": "stdout",
          "text": [
            "MyCell(\n",
            "  (linear): Linear(in_features=4, out_features=4, bias=True)\n",
            ")\n",
            "(tensor([[ 0.7648, -0.4114, -0.0573, -0.1864],\n",
            "        [ 0.5786, -0.1391,  0.0728, -0.1320],\n",
            "        [ 0.7928,  0.2487,  0.2313,  0.3581]], grad_fn=<TanhBackward0>), tensor([[ 0.7648, -0.4114, -0.0573, -0.1864],\n",
            "        [ 0.5786, -0.1391,  0.0728, -0.1320],\n",
            "        [ 0.7928,  0.2487,  0.2313,  0.3581]], grad_fn=<TanhBackward0>))\n"
          ]
        }
      ]
    },
    {
      "cell_type": "markdown",
      "metadata": {
        "id": "26_6AuvV3VLH"
      },
      "source": [
        "We’ve redefined our module ``MyCell``, but this time we’ve added a\n",
        "``self.linear`` attribute, and we invoke ``self.linear`` in the forward\n",
        "function.\n",
        "\n",
        "What exactly is happening here? ``torch.nn.Linear`` is a ``Module`` from\n",
        "the PyTorch standard library. Just like ``MyCell``, it can be invoked\n",
        "using the call syntax. We are building a hierarchy of ``Module``\\ s.\n",
        "\n",
        "``print`` on a ``Module`` will give a visual representation of the\n",
        "``Module``\\ ’s subclass hierarchy. In our example, we can see our\n",
        "``Linear`` subclass and its parameters.\n",
        "\n",
        "By composing ``Module``\\ s in this way, we can succintly and readably\n",
        "author models with reusable components.\n",
        "\n",
        "You may have noticed ``grad_fn`` on the outputs. This is a detail of\n",
        "PyTorch’s method of automatic differentiation, called\n",
        "`autograd <https://pytorch.org/tutorials/beginner/blitz/autograd_tutorial.html>`__.\n",
        "In short, this system allows us to compute derivatives through\n",
        "potentially complex programs. The design allows for a massive amount of\n",
        "flexibility in model authoring.\n",
        "\n",
        "Now let’s examine said flexibility:\n",
        "\n",
        "\n"
      ]
    },
    {
      "cell_type": "code",
      "execution_count": null,
      "metadata": {
        "id": "9Mmud4OD3VLI"
      },
      "outputs": [],
      "source": [
        "class MyDecisionGate(torch.nn.Module):\n",
        "    def forward(self, x):\n",
        "        if x.sum() > 0:\n",
        "            return x\n",
        "        else:\n",
        "            return -x\n",
        "\n",
        "class MyCell(torch.nn.Module):\n",
        "    def __init__(self):\n",
        "        super(MyCell, self).__init__()\n",
        "        self.dg = MyDecisionGate()\n",
        "        self.linear = torch.nn.Linear(4, 4)\n",
        "\n",
        "    def forward(self, x, h):\n",
        "        new_h = torch.tanh(self.dg(self.linear(x)) + h)\n",
        "        return new_h, new_h\n",
        "\n",
        "my_cell = MyCell()\n",
        "print(my_cell)\n",
        "print(my_cell(x, h))"
      ]
    },
    {
      "cell_type": "code",
      "source": [
        "class MyDecisionGate(torch.nn.Module):\n",
        "  def forward(self, x):\n",
        "    if x.sum() > 0:\n",
        "      return x\n",
        "    else:\n",
        "      return -x\n",
        "\n",
        "class MyCell(torch.nn.Module):\n",
        "  def __init__(self):\n",
        "    super(MyCell, self).__init__()\n",
        "    self.dg = MyDecisionGate()\n",
        "    self.linear = torch.nn.Linear(4, 4)\n",
        "\n",
        "  def forward(self, x, h):\n",
        "    new_h = torch.tanh(self.dg(self.linear(x)) + h)\n",
        "    return new_h, new_h\n",
        "\n",
        "my_cell = MyCell()\n",
        "print(my_cell)\n",
        "print(my_cell(x, h))          "
      ],
      "metadata": {
        "id": "lUU2lFY15vd0",
        "outputId": "ed61f18a-5315-431d-c78d-a25cf139afc3",
        "colab": {
          "base_uri": "https://localhost:8080/"
        }
      },
      "execution_count": 5,
      "outputs": [
        {
          "output_type": "stream",
          "name": "stdout",
          "text": [
            "MyCell(\n",
            "  (dg): MyDecisionGate()\n",
            "  (linear): Linear(in_features=4, out_features=4, bias=True)\n",
            ")\n",
            "(tensor([[ 0.4203,  0.4146,  0.3507, -0.0042],\n",
            "        [ 0.0469,  0.6301,  0.0497,  0.4041],\n",
            "        [-0.2497,  0.8165,  0.5044,  0.6011]], grad_fn=<TanhBackward0>), tensor([[ 0.4203,  0.4146,  0.3507, -0.0042],\n",
            "        [ 0.0469,  0.6301,  0.0497,  0.4041],\n",
            "        [-0.2497,  0.8165,  0.5044,  0.6011]], grad_fn=<TanhBackward0>))\n"
          ]
        }
      ]
    },
    {
      "cell_type": "markdown",
      "metadata": {
        "id": "JbAgMDvB3VLJ"
      },
      "source": [
        "We’ve once again redefined our MyCell class, but here we’ve defined\n",
        "``MyDecisionGate``. This module utilizes **control flow**. Control flow\n",
        "consists of things like loops and ``if``-statements.\n",
        "\n",
        "Many frameworks take the approach of computing symbolic derivatives\n",
        "given a full program representation. However, in PyTorch, we use a\n",
        "gradient tape. We record operations as they occur, and replay them\n",
        "backwards in computing derivatives. In this way, the framework does not\n",
        "have to explicitly define derivatives for all constructs in the\n",
        "language.\n",
        "\n",
        ".. figure:: https://github.com/pytorch/pytorch/raw/master/docs/source/_static/img/dynamic_graph.gif\n",
        "   :alt: How autograd works\n",
        "\n",
        "   How autograd works\n",
        "\n",
        "\n"
      ]
    },
    {
      "cell_type": "markdown",
      "metadata": {
        "id": "fOXXrar23VLJ"
      },
      "source": [
        "Basics of TorchScript\n",
        "---------------------\n",
        "\n",
        "Now let’s take our running example and see how we can apply TorchScript.\n",
        "\n",
        "In short, TorchScript provides tools to capture the definition of your\n",
        "model, even in light of the flexible and dynamic nature of PyTorch.\n",
        "Let’s begin by examining what we call **tracing**.\n",
        "\n",
        "Tracing ``Modules``\n",
        "~~~~~~~~~~~~~~~~~~~\n",
        "\n",
        "\n"
      ]
    },
    {
      "cell_type": "code",
      "execution_count": null,
      "metadata": {
        "id": "ANu89fnX3VLJ"
      },
      "outputs": [],
      "source": [
        "class MyCell(torch.nn.Module):\n",
        "    def __init__(self):\n",
        "        super(MyCell, self).__init__()\n",
        "        self.linear = torch.nn.Linear(4, 4)\n",
        "\n",
        "    def forward(self, x, h):\n",
        "        new_h = torch.tanh(self.linear(x) + h)\n",
        "        return new_h, new_h\n",
        "\n",
        "my_cell = MyCell()\n",
        "x, h = torch.rand(3, 4), torch.rand(3, 4)\n",
        "traced_cell = torch.jit.trace(my_cell, (x, h))\n",
        "print(traced_cell)\n",
        "traced_cell(x, h)"
      ]
    },
    {
      "cell_type": "code",
      "source": [
        "class MyCell(torch.nn.Module):\n",
        "  def __init__(self):\n",
        "    super(MyCell, self).__init__()\n",
        "    self.linear = torch.nn.Linear(4, 4)\n",
        "\n",
        "  def forward(self, x, h):\n",
        "    new_h = torch.tanh(self.linear(x) + h)\n",
        "    return new_h, new_h\n",
        "\n",
        "my_cell = MyCell()\n",
        "x, h = torch.rand(3, 4), torch.rand(3, 4)\n",
        "traced_cell = torch.jit.trace(my_cell, (x, h))\n",
        "print(traced_cell)\n",
        "traced_cell(x, h)    "
      ],
      "metadata": {
        "id": "0t5wOyPd7Mdj",
        "outputId": "60365e37-cd4a-40c4-b377-0fb180c76ac4",
        "colab": {
          "base_uri": "https://localhost:8080/"
        }
      },
      "execution_count": 6,
      "outputs": [
        {
          "output_type": "stream",
          "name": "stdout",
          "text": [
            "MyCell(\n",
            "  original_name=MyCell\n",
            "  (linear): Linear(original_name=Linear)\n",
            ")\n"
          ]
        },
        {
          "output_type": "execute_result",
          "data": {
            "text/plain": [
              "(tensor([[-0.1995,  0.0353, -0.2504,  0.8522],\n",
              "         [ 0.1831, -0.0269, -0.0369,  0.7609],\n",
              "         [ 0.1605, -0.0443, -0.2855,  0.4462]], grad_fn=<TanhBackward0>),\n",
              " tensor([[-0.1995,  0.0353, -0.2504,  0.8522],\n",
              "         [ 0.1831, -0.0269, -0.0369,  0.7609],\n",
              "         [ 0.1605, -0.0443, -0.2855,  0.4462]], grad_fn=<TanhBackward0>))"
            ]
          },
          "metadata": {},
          "execution_count": 6
        }
      ]
    },
    {
      "cell_type": "markdown",
      "metadata": {
        "id": "Xn4K410r3VLK"
      },
      "source": [
        "We’ve rewinded a bit and taken the second version of our ``MyCell``\n",
        "class. As before, we’ve instantiated it, but this time, we’ve called\n",
        "``torch.jit.trace``, passed in the ``Module``, and passed in *example\n",
        "inputs* the network might see.\n",
        "\n",
        "What exactly has this done? It has invoked the ``Module``, recorded the\n",
        "operations that occured when the ``Module`` was run, and created an\n",
        "instance of ``torch.jit.ScriptModule`` (of which ``TracedModule`` is an\n",
        "instance)\n",
        "\n",
        "TorchScript records its definitions in an Intermediate Representation\n",
        "(or IR), commonly referred to in Deep learning as a *graph*. We can\n",
        "examine the graph with the ``.graph`` property:\n",
        "\n",
        "\n"
      ]
    },
    {
      "cell_type": "code",
      "execution_count": null,
      "metadata": {
        "id": "92H91Tjk3VLK"
      },
      "outputs": [],
      "source": [
        "print(traced_cell.graph)"
      ]
    },
    {
      "cell_type": "code",
      "source": [
        "print(traced_cell.graph)"
      ],
      "metadata": {
        "id": "uXFdjPBo8IUU",
        "outputId": "18a5192f-a35c-413c-d66e-3a66a3d28a0e",
        "colab": {
          "base_uri": "https://localhost:8080/"
        }
      },
      "execution_count": 7,
      "outputs": [
        {
          "output_type": "stream",
          "name": "stdout",
          "text": [
            "graph(%self.1 : __torch__.MyCell,\n",
            "      %x : Float(3, 4, strides=[4, 1], requires_grad=0, device=cpu),\n",
            "      %h : Float(3, 4, strides=[4, 1], requires_grad=0, device=cpu)):\n",
            "  %linear : __torch__.torch.nn.modules.linear.Linear = prim::GetAttr[name=\"linear\"](%self.1)\n",
            "  %20 : Tensor = prim::CallMethod[name=\"forward\"](%linear, %x)\n",
            "  %11 : int = prim::Constant[value=1]() # <ipython-input-6-2ad86aa7f42d>:7:0\n",
            "  %12 : Float(3, 4, strides=[4, 1], requires_grad=1, device=cpu) = aten::add(%20, %h, %11) # <ipython-input-6-2ad86aa7f42d>:7:0\n",
            "  %13 : Float(3, 4, strides=[4, 1], requires_grad=1, device=cpu) = aten::tanh(%12) # <ipython-input-6-2ad86aa7f42d>:7:0\n",
            "  %14 : (Float(3, 4, strides=[4, 1], requires_grad=1, device=cpu), Float(3, 4, strides=[4, 1], requires_grad=1, device=cpu)) = prim::TupleConstruct(%13, %13)\n",
            "  return (%14)\n",
            "\n"
          ]
        }
      ]
    },
    {
      "cell_type": "markdown",
      "metadata": {
        "id": "8PAB_b9C3VLK"
      },
      "source": [
        "However, this is a very low-level representation and most of the\n",
        "information contained in the graph is not useful for end users. Instead,\n",
        "we can use the ``.code`` property to give a Python-syntax interpretation\n",
        "of the code:\n",
        "\n",
        "\n"
      ]
    },
    {
      "cell_type": "code",
      "execution_count": null,
      "metadata": {
        "id": "Y9BxR3sc3VLL"
      },
      "outputs": [],
      "source": [
        "print(traced_cell.code)"
      ]
    },
    {
      "cell_type": "code",
      "source": [
        "print(traced_cell.code)"
      ],
      "metadata": {
        "id": "YW6L_rRU8OCB",
        "outputId": "fcce8790-25ec-4804-925c-43609027f475",
        "colab": {
          "base_uri": "https://localhost:8080/"
        }
      },
      "execution_count": 8,
      "outputs": [
        {
          "output_type": "stream",
          "name": "stdout",
          "text": [
            "def forward(self,\n",
            "    x: Tensor,\n",
            "    h: Tensor) -> Tuple[Tensor, Tensor]:\n",
            "  linear = self.linear\n",
            "  _0 = torch.tanh(torch.add((linear).forward(x, ), h))\n",
            "  return (_0, _0)\n",
            "\n"
          ]
        }
      ]
    },
    {
      "cell_type": "markdown",
      "metadata": {
        "id": "D4b-6N8X3VLL"
      },
      "source": [
        "So **why** did we do all this? There are several reasons:\n",
        "\n",
        "1. TorchScript code can be invoked in its own interpreter, which is\n",
        "   basically a restricted Python interpreter. This interpreter does not\n",
        "   acquire the Global Interpreter Lock, and so many requests can be\n",
        "   processed on the same instance simultaneously.\n",
        "2. This format allows us to save the whole model to disk and load it\n",
        "   into another environment, such as in a server written in a language\n",
        "   other than Python\n",
        "3. TorchScript gives us a representation in which we can do compiler\n",
        "   optimizations on the code to provide more efficient execution\n",
        "4. TorchScript allows us to interface with many backend/device runtimes\n",
        "   that require a broader view of the program than individual operators.\n",
        "\n",
        "We can see that invoking ``traced_cell`` produces the same results as\n",
        "the Python module:\n",
        "\n",
        "\n"
      ]
    },
    {
      "cell_type": "code",
      "execution_count": null,
      "metadata": {
        "id": "eQOz1Cl63VLM"
      },
      "outputs": [],
      "source": [
        "print(my_cell(x, h))\n",
        "print(traced_cell(x, h))"
      ]
    },
    {
      "cell_type": "code",
      "source": [
        "print(my_cell(x, h))\n",
        "print(traced_cell(x, h))"
      ],
      "metadata": {
        "id": "1zCljjgF9U9J",
        "outputId": "a716987a-d9fc-4dc5-e3c0-12a44e4cfa08",
        "colab": {
          "base_uri": "https://localhost:8080/"
        }
      },
      "execution_count": 9,
      "outputs": [
        {
          "output_type": "stream",
          "name": "stdout",
          "text": [
            "(tensor([[-0.1995,  0.0353, -0.2504,  0.8522],\n",
            "        [ 0.1831, -0.0269, -0.0369,  0.7609],\n",
            "        [ 0.1605, -0.0443, -0.2855,  0.4462]], grad_fn=<TanhBackward0>), tensor([[-0.1995,  0.0353, -0.2504,  0.8522],\n",
            "        [ 0.1831, -0.0269, -0.0369,  0.7609],\n",
            "        [ 0.1605, -0.0443, -0.2855,  0.4462]], grad_fn=<TanhBackward0>))\n",
            "(tensor([[-0.1995,  0.0353, -0.2504,  0.8522],\n",
            "        [ 0.1831, -0.0269, -0.0369,  0.7609],\n",
            "        [ 0.1605, -0.0443, -0.2855,  0.4462]],\n",
            "       grad_fn=<DifferentiableGraphBackward>), tensor([[-0.1995,  0.0353, -0.2504,  0.8522],\n",
            "        [ 0.1831, -0.0269, -0.0369,  0.7609],\n",
            "        [ 0.1605, -0.0443, -0.2855,  0.4462]],\n",
            "       grad_fn=<DifferentiableGraphBackward>))\n"
          ]
        }
      ]
    },
    {
      "cell_type": "markdown",
      "metadata": {
        "id": "7EWpDwHO3VLM"
      },
      "source": [
        "Using Scripting to Convert Modules\n",
        "----------------------------------\n",
        "\n",
        "There’s a reason we used version two of our module, and not the one with\n",
        "the control-flow-laden submodule. Let’s examine that now:\n",
        "\n",
        "\n"
      ]
    },
    {
      "cell_type": "code",
      "execution_count": null,
      "metadata": {
        "id": "_SJAEHF03VLM"
      },
      "outputs": [],
      "source": [
        "class MyDecisionGate(torch.nn.Module):\n",
        "    def forward(self, x):\n",
        "        if x.sum() > 0:\n",
        "            return x\n",
        "        else:\n",
        "            return -x\n",
        "\n",
        "class MyCell(torch.nn.Module):\n",
        "    def __init__(self, dg):\n",
        "        super(MyCell, self).__init__()\n",
        "        self.dg = dg\n",
        "        self.linear = torch.nn.Linear(4, 4)\n",
        "\n",
        "    def forward(self, x, h):\n",
        "        new_h = torch.tanh(self.dg(self.linear(x)) + h)\n",
        "        return new_h, new_h\n",
        "\n",
        "my_cell = MyCell(MyDecisionGate())\n",
        "traced_cell = torch.jit.trace(my_cell, (x, h))\n",
        "\n",
        "print(traced_cell.dg.code)\n",
        "print(traced_cell.code)"
      ]
    },
    {
      "cell_type": "code",
      "source": [
        "class MyDecisionGate(torch.nn.Module):\n",
        "  def forward(self, x):\n",
        "    if x.sum() > 0:\n",
        "      return x\n",
        "    else:\n",
        "      return -x\n",
        "\n",
        "class MyCell(torch.nn.Module):\n",
        "  def __init__(self, dg):\n",
        "    super(MyCell, self).__init__()\n",
        "    self.dg = dg\n",
        "    self.linear = torch.nn.Linear(4, 4)      \n",
        "\n",
        "  def forward(self, x, h):\n",
        "    new_h = torch.tanh(self.dg(self.linear(x)) + h)\n",
        "    return new_h, new_h\n",
        "\n",
        "my_cell = MyCell(MyDecisionGate())    \n",
        "traced_cell = torch.jit.trace(my_cell, (x, h))\n",
        "\n",
        "print(traced_cell.dg.code)\n",
        "print(traced_cell.code)"
      ],
      "metadata": {
        "id": "jjq9L6_v9bzj",
        "outputId": "85f93b14-b51e-4d03-a644-eb3caaeb2606",
        "colab": {
          "base_uri": "https://localhost:8080/"
        }
      },
      "execution_count": 10,
      "outputs": [
        {
          "output_type": "stream",
          "name": "stdout",
          "text": [
            "def forward(self,\n",
            "    argument_1: Tensor) -> Tensor:\n",
            "  return torch.neg(argument_1)\n",
            "\n",
            "def forward(self,\n",
            "    x: Tensor,\n",
            "    h: Tensor) -> Tuple[Tensor, Tensor]:\n",
            "  dg = self.dg\n",
            "  linear = self.linear\n",
            "  _0 = torch.add((dg).forward((linear).forward(x, ), ), h)\n",
            "  _1 = torch.tanh(_0)\n",
            "  return (_1, _1)\n",
            "\n"
          ]
        },
        {
          "output_type": "stream",
          "name": "stderr",
          "text": [
            "/usr/local/lib/python3.7/dist-packages/ipykernel_launcher.py:3: TracerWarning: Converting a tensor to a Python boolean might cause the trace to be incorrect. We can't record the data flow of Python values, so this value will be treated as a constant in the future. This means that the trace might not generalize to other inputs!\n",
            "  This is separate from the ipykernel package so we can avoid doing imports until\n"
          ]
        }
      ]
    },
    {
      "cell_type": "markdown",
      "metadata": {
        "id": "9tFfkARL3VLN"
      },
      "source": [
        "Looking at the ``.code`` output, we can see that the ``if-else`` branch\n",
        "is nowhere to be found! Why? Tracing does exactly what we said it would:\n",
        "run the code, record the operations *that happen* and construct a\n",
        "ScriptModule that does exactly that. Unfortunately, things like control\n",
        "flow are erased.\n",
        "\n",
        "How can we faithfully represent this module in TorchScript? We provide a\n",
        "**script compiler**, which does direct analysis of your Python source\n",
        "code to transform it into TorchScript. Let’s convert ``MyDecisionGate``\n",
        "using the script compiler:\n",
        "\n",
        "\n"
      ]
    },
    {
      "cell_type": "code",
      "execution_count": null,
      "metadata": {
        "id": "F9XpsX3c3VLN"
      },
      "outputs": [],
      "source": [
        "scripted_gate = torch.jit.script(MyDecisionGate())\n",
        "\n",
        "my_cell = MyCell(scripted_gate)\n",
        "scripted_cell = torch.jit.script(my_cell)\n",
        "\n",
        "print(scripted_gate.code)\n",
        "print(scripted_cell.code)"
      ]
    },
    {
      "cell_type": "code",
      "source": [
        "scripted_gate = torch.jit.script(MyDecisionGate())\n",
        "\n",
        "my_cell = MyCell(scripted_gate)\n",
        "scripted_cell = torch.jit.script(my_cell)\n",
        "\n",
        "print(scripted_gate.code)\n",
        "print(scripted_cell.code)"
      ],
      "metadata": {
        "id": "UwFlv4JA-u3D",
        "outputId": "5c9d01e0-7467-4ea1-f8e5-1a0646b29f53",
        "colab": {
          "base_uri": "https://localhost:8080/"
        }
      },
      "execution_count": 11,
      "outputs": [
        {
          "output_type": "stream",
          "name": "stdout",
          "text": [
            "def forward(self,\n",
            "    x: Tensor) -> Tensor:\n",
            "  if bool(torch.gt(torch.sum(x), 0)):\n",
            "    _0 = x\n",
            "  else:\n",
            "    _0 = torch.neg(x)\n",
            "  return _0\n",
            "\n",
            "def forward(self,\n",
            "    x: Tensor,\n",
            "    h: Tensor) -> Tuple[Tensor, Tensor]:\n",
            "  dg = self.dg\n",
            "  linear = self.linear\n",
            "  _0 = torch.add((dg).forward((linear).forward(x, ), ), h)\n",
            "  new_h = torch.tanh(_0)\n",
            "  return (new_h, new_h)\n",
            "\n"
          ]
        }
      ]
    },
    {
      "cell_type": "markdown",
      "metadata": {
        "id": "t2kUwlKP3VLO"
      },
      "source": [
        "Hooray! We’ve now faithfully captured the behavior of our program in\n",
        "TorchScript. Let’s now try running the program:\n",
        "\n",
        "\n"
      ]
    },
    {
      "cell_type": "code",
      "execution_count": null,
      "metadata": {
        "id": "2mi-uvYo3VLO"
      },
      "outputs": [],
      "source": [
        "# New inputs\n",
        "x, h = torch.rand(3, 4), torch.rand(3, 4)\n",
        "traced_cell(x, h)"
      ]
    },
    {
      "cell_type": "code",
      "source": [
        "# New inputs\n",
        "x, h = torch.rand(3, 4), torch.rand(3, 4)\n",
        "traced_cell(x, h)"
      ],
      "metadata": {
        "id": "j6d_vbZo_CF1",
        "outputId": "926743a6-4d0a-43ef-d365-bb66ee7dda69",
        "colab": {
          "base_uri": "https://localhost:8080/"
        }
      },
      "execution_count": 12,
      "outputs": [
        {
          "output_type": "execute_result",
          "data": {
            "text/plain": [
              "(tensor([[ 0.6046,  0.1584,  0.5318, -0.0708],\n",
              "         [ 0.7176,  0.2472,  0.7928,  0.4973],\n",
              "         [ 0.5277,  0.0103,  0.8133,  0.3713]], grad_fn=<TanhBackward0>),\n",
              " tensor([[ 0.6046,  0.1584,  0.5318, -0.0708],\n",
              "         [ 0.7176,  0.2472,  0.7928,  0.4973],\n",
              "         [ 0.5277,  0.0103,  0.8133,  0.3713]], grad_fn=<TanhBackward0>))"
            ]
          },
          "metadata": {},
          "execution_count": 12
        }
      ]
    },
    {
      "cell_type": "markdown",
      "metadata": {
        "id": "Vclk7Ynq3VLO"
      },
      "source": [
        "Mixing Scripting and Tracing\n",
        "~~~~~~~~~~~~~~~~~~~~~~~~~~~~\n",
        "\n",
        "Some situations call for using tracing rather than scripting (e.g. a\n",
        "module has many architectural decisions that are made based on constant\n",
        "Python values that we would like to not appear in TorchScript). In this\n",
        "case, scripting can be composed with tracing: ``torch.jit.script`` will\n",
        "inline the code for a traced module, and tracing will inline the code\n",
        "for a scripted module.\n",
        "\n",
        "An example of the first case:\n",
        "\n",
        "\n"
      ]
    },
    {
      "cell_type": "code",
      "execution_count": null,
      "metadata": {
        "id": "dTxem-aL3VLP"
      },
      "outputs": [],
      "source": [
        "class MyRNNLoop(torch.nn.Module):\n",
        "    def __init__(self):\n",
        "        super(MyRNNLoop, self).__init__()\n",
        "        self.cell = torch.jit.trace(MyCell(scripted_gate), (x, h))\n",
        "\n",
        "    def forward(self, xs):\n",
        "        h, y = torch.zeros(3, 4), torch.zeros(3, 4)\n",
        "        for i in range(xs.size(0)):\n",
        "            y, h = self.cell(xs[i], h)\n",
        "        return y, h\n",
        "\n",
        "rnn_loop = torch.jit.script(MyRNNLoop())\n",
        "print(rnn_loop.code)"
      ]
    },
    {
      "cell_type": "code",
      "source": [
        "class MyRNNLoop(torch.nn.Module):\n",
        "  def __init__(self):\n",
        "    super(MyRNNLoop, self).__init__()\n",
        "    self.cell = torch.jit.trace(MyCell(scripted_gate), (x, h))\n",
        "\n",
        "  def forward(self, xs):\n",
        "    h, y = torch.zeros(3, 4), torch.zeros(3, 4)\n",
        "    for i in range(xs.size(0)):\n",
        "      y, h = self.cell(xs[i], h)\n",
        "    return y, h\n",
        "\n",
        "rnn_loop = torch.jit.script(MyRNNLoop())\n",
        "print(rnn_loop.code)    "
      ],
      "metadata": {
        "id": "PuHMTWX9_QYq",
        "outputId": "5a4b85a9-1b83-40d9-afca-e8fa970a5168",
        "colab": {
          "base_uri": "https://localhost:8080/"
        }
      },
      "execution_count": 13,
      "outputs": [
        {
          "output_type": "stream",
          "name": "stdout",
          "text": [
            "def forward(self,\n",
            "    xs: Tensor) -> Tuple[Tensor, Tensor]:\n",
            "  h = torch.zeros([3, 4])\n",
            "  y = torch.zeros([3, 4])\n",
            "  y0 = y\n",
            "  h0 = h\n",
            "  for i in range(torch.size(xs, 0)):\n",
            "    cell = self.cell\n",
            "    _0 = (cell).forward(torch.select(xs, 0, i), h0, )\n",
            "    y1, h1, = _0\n",
            "    y0, h0 = y1, h1\n",
            "  return (y0, h0)\n",
            "\n"
          ]
        }
      ]
    },
    {
      "cell_type": "markdown",
      "metadata": {
        "id": "n3xaQAdf3VLP"
      },
      "source": [
        "And an example of the second case:\n",
        "\n",
        "\n"
      ]
    },
    {
      "cell_type": "code",
      "execution_count": null,
      "metadata": {
        "id": "AHz8hVKH3VLP"
      },
      "outputs": [],
      "source": [
        "class WrapRNN(torch.nn.Module):\n",
        "    def __init__(self):\n",
        "        super(WrapRNN, self).__init__()\n",
        "        self.loop = torch.jit.script(MyRNNLoop())\n",
        "\n",
        "    def forward(self, xs):\n",
        "        y, h = self.loop(xs)\n",
        "        return torch.relu(y)\n",
        "\n",
        "traced = torch.jit.trace(WrapRNN(), (torch.rand(10, 3, 4)))\n",
        "print(traced.code)"
      ]
    },
    {
      "cell_type": "code",
      "source": [
        "class WrapRNN(torch.nn.Module):\n",
        "  def __init__(self):\n",
        "    super(WrapRNN, self).__init__()\n",
        "    self.loop = torch.jit.script(MyRNNLoop())\n",
        "\n",
        "  def forward(self, xs):\n",
        "    y, h = self.loop(xs)\n",
        "    return torch.relu(y)\n",
        "\n",
        "traced = torch.jit.trace(WrapRNN(), (torch.rand(10, 3, 4)))    \n",
        "print(traced.code)"
      ],
      "metadata": {
        "id": "4E0prATg_9yf",
        "outputId": "90a30dce-a1f4-485f-df3f-0c5a4114405a",
        "colab": {
          "base_uri": "https://localhost:8080/"
        }
      },
      "execution_count": 14,
      "outputs": [
        {
          "output_type": "stream",
          "name": "stdout",
          "text": [
            "def forward(self,\n",
            "    xs: Tensor) -> Tensor:\n",
            "  loop = self.loop\n",
            "  _0, y, = (loop).forward(xs, )\n",
            "  return torch.relu(y)\n",
            "\n"
          ]
        }
      ]
    },
    {
      "cell_type": "markdown",
      "metadata": {
        "id": "AnFl9gkm3VLP"
      },
      "source": [
        "This way, scripting and tracing can be used when the situation calls for\n",
        "each of them and used together.\n",
        "\n",
        "Saving and Loading models\n",
        "-------------------------\n",
        "\n",
        "We provide APIs to save and load TorchScript modules to/from disk in an\n",
        "archive format. This format includes code, parameters, attributes, and\n",
        "debug information, meaning that the archive is a freestanding\n",
        "representation of the model that can be loaded in an entirely separate\n",
        "process. Let’s save and load our wrapped RNN module:\n",
        "\n",
        "\n"
      ]
    },
    {
      "cell_type": "code",
      "execution_count": null,
      "metadata": {
        "id": "LrDX5tWS3VLP"
      },
      "outputs": [],
      "source": [
        "traced.save('wrapped_rnn.pt')\n",
        "\n",
        "loaded = torch.jit.load('wrapped_rnn.pt')\n",
        "\n",
        "print(loaded)\n",
        "print(loaded.code)"
      ]
    },
    {
      "cell_type": "code",
      "source": [
        "traced.save('wrapped_rnn.pt')\n",
        "\n",
        "loaded = torch.jit.load('wrapped_rnn.pt')\n",
        "\n",
        "print(loaded)\n",
        "print(loaded.code)"
      ],
      "metadata": {
        "id": "lAglhbn3Ai1L",
        "outputId": "ede4449b-cce8-41ff-9d09-2ae1137880e2",
        "colab": {
          "base_uri": "https://localhost:8080/"
        }
      },
      "execution_count": 15,
      "outputs": [
        {
          "output_type": "stream",
          "name": "stdout",
          "text": [
            "RecursiveScriptModule(\n",
            "  original_name=WrapRNN\n",
            "  (loop): RecursiveScriptModule(\n",
            "    original_name=MyRNNLoop\n",
            "    (cell): RecursiveScriptModule(\n",
            "      original_name=MyCell\n",
            "      (dg): RecursiveScriptModule(original_name=MyDecisionGate)\n",
            "      (linear): RecursiveScriptModule(original_name=Linear)\n",
            "    )\n",
            "  )\n",
            ")\n",
            "def forward(self,\n",
            "    xs: Tensor) -> Tensor:\n",
            "  loop = self.loop\n",
            "  _0, y, = (loop).forward(xs, )\n",
            "  return torch.relu(y)\n",
            "\n"
          ]
        }
      ]
    },
    {
      "cell_type": "markdown",
      "metadata": {
        "id": "QQY2kxLl3VLQ"
      },
      "source": [
        "As you can see, serialization preserves the module hierarchy and the\n",
        "code we’ve been examining throughout. The model can also be loaded, for\n",
        "example, `into\n",
        "C++ <https://pytorch.org/tutorials/advanced/cpp_export.html>`__ for\n",
        "python-free execution.\n",
        "\n",
        "Further Reading\n",
        "~~~~~~~~~~~~~~~\n",
        "\n",
        "We’ve completed our tutorial! For a more involved demonstration, check\n",
        "out the NeurIPS demo for converting machine translation models using\n",
        "TorchScript:\n",
        "https://colab.research.google.com/drive/1HiICg6jRkBnr5hvK2-VnMi88Vi9pUzEJ\n",
        "\n",
        "\n"
      ]
    }
  ],
  "metadata": {
    "kernelspec": {
      "display_name": "Python 3",
      "language": "python",
      "name": "python3"
    },
    "language_info": {
      "codemirror_mode": {
        "name": "ipython",
        "version": 3
      },
      "file_extension": ".py",
      "mimetype": "text/x-python",
      "name": "python",
      "nbconvert_exporter": "python",
      "pygments_lexer": "ipython3",
      "version": "3.7.11"
    },
    "colab": {
      "name": "Intro_to_TorchScript_tutorial.ipynb",
      "provenance": []
    }
  },
  "nbformat": 4,
  "nbformat_minor": 0
}