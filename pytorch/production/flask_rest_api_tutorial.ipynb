{
  "cells": [
    {
      "cell_type": "code",
      "execution_count": null,
      "metadata": {
        "id": "UiefjfvcrD0G"
      },
      "outputs": [],
      "source": [
        "%matplotlib inline"
      ]
    },
    {
      "cell_type": "code",
      "source": [
        "%matplotlib inline"
      ],
      "metadata": {
        "id": "J_47PWv1rKem"
      },
      "execution_count": 1,
      "outputs": []
    },
    {
      "cell_type": "markdown",
      "metadata": {
        "id": "7QYLf2AArD0L"
      },
      "source": [
        "\n",
        "Deploying PyTorch in Python via a REST API with Flask\n",
        "========================================================\n",
        "**Author**: `Avinash Sajjanshetty <https://avi.im>`_\n",
        "\n",
        "In this tutorial, we will deploy a PyTorch model using Flask and expose a\n",
        "REST API for model inference. In particular, we will deploy a pretrained\n",
        "DenseNet 121 model which detects the image.\n",
        "\n",
        ".. tip:: All the code used here is released under MIT license and is available on `Github <https://github.com/avinassh/pytorch-flask-api>`_.\n",
        "\n",
        "This represents the first in a series of tutorials on deploying PyTorch models\n",
        "in production. Using Flask in this way is by far the easiest way to start\n",
        "serving your PyTorch models, but it will not work for a use case\n",
        "with high performance requirements. For that:\n",
        "\n",
        "    - If you're already familiar with TorchScript, you can jump straight into our\n",
        "      `Loading a TorchScript Model in C++ <https://pytorch.org/tutorials/advanced/cpp_export.html>`_ tutorial.\n",
        "\n",
        "    - If you first need a refresher on TorchScript, check out our\n",
        "      `Intro a TorchScript <https://pytorch.org/tutorials/beginner/Intro_to_TorchScript_tutorial.html>`_ tutorial.\n"
      ]
    },
    {
      "cell_type": "markdown",
      "metadata": {
        "id": "FWLAcH2LrD0N"
      },
      "source": [
        "API Definition\n",
        "--------------\n",
        "\n",
        "We will first define our API endpoints, the request and response types. Our\n",
        "API endpoint will be at ``/predict`` which takes HTTP POST requests with a\n",
        "``file`` parameter which contains the image. The response will be of JSON\n",
        "response containing the prediction:\n",
        "\n",
        "::\n",
        "\n",
        "    {\"class_id\": \"n02124075\", \"class_name\": \"Egyptian_cat\"}\n",
        "\n",
        "\n",
        "\n"
      ]
    },
    {
      "cell_type": "markdown",
      "metadata": {
        "id": "A4JuwXtdrD0O"
      },
      "source": [
        "Dependencies\n",
        "------------\n",
        "\n",
        "Install the required dependenices by running the following command:\n",
        "\n",
        "::\n",
        "\n",
        "    $ pip install Flask==2.0.1 torchvision==0.10.0\n",
        "\n"
      ]
    },
    {
      "cell_type": "markdown",
      "metadata": {
        "id": "e30mUxJ5rD0O"
      },
      "source": [
        "Simple Web Server\n",
        "-----------------\n",
        "\n",
        "Following is a simple webserver, taken from Flask's documentaion\n",
        "\n"
      ]
    },
    {
      "cell_type": "code",
      "execution_count": null,
      "metadata": {
        "id": "3s-kA1X6rD0P"
      },
      "outputs": [],
      "source": [
        "from flask import Flask\n",
        "app = Flask(__name__)\n",
        "\n",
        "\n",
        "@app.route('/')\n",
        "def hello():\n",
        "    return 'Hello World!'"
      ]
    },
    {
      "cell_type": "code",
      "source": [
        "from flask import Flask\n",
        "app = Flask(__name__)\n",
        "\n",
        "@app.route('/')\n",
        "def hello():\n",
        "  return 'Hello World!'"
      ],
      "metadata": {
        "id": "FQUczOcmsXJB"
      },
      "execution_count": 2,
      "outputs": []
    },
    {
      "cell_type": "markdown",
      "metadata": {
        "id": "G21uV_9irD0Q"
      },
      "source": [
        "Save the above snippet in a file called ``app.py`` and you can now run a\n",
        "Flask development server by typing:\n",
        "\n",
        "::\n",
        "\n",
        "    $ FLASK_ENV=development FLASK_APP=app.py flask run\n",
        "\n"
      ]
    },
    {
      "cell_type": "markdown",
      "metadata": {
        "id": "xWTfI-F6rD0R"
      },
      "source": [
        "When you visit ``http://localhost:5000/`` in your web browser, you will be\n",
        "greeted with ``Hello World!`` text\n",
        "\n"
      ]
    },
    {
      "cell_type": "markdown",
      "metadata": {
        "id": "4WfgCiWmrD0R"
      },
      "source": [
        "We will make slight changes to the above snippet, so that it suits our API\n",
        "definition. First, we will rename the method to ``predict``. We will update\n",
        "the endpoint path to ``/predict``. Since the image files will be sent via\n",
        "HTTP POST requests, we will update it so that it also accepts only POST\n",
        "requests:\n",
        "\n"
      ]
    },
    {
      "cell_type": "code",
      "execution_count": null,
      "metadata": {
        "id": "wDBSPgMFrD0S"
      },
      "outputs": [],
      "source": [
        "@app.route('/predict', methods=['POST'])\n",
        "def predict():\n",
        "    return 'Hello World!'"
      ]
    },
    {
      "cell_type": "code",
      "source": [
        "@app.route('/predict', methods=['POST'])\n",
        "def predict():\n",
        "  return 'Hello World!'"
      ],
      "metadata": {
        "id": "5CahhN3ustGR"
      },
      "execution_count": 3,
      "outputs": []
    },
    {
      "cell_type": "markdown",
      "metadata": {
        "id": "gMjQMzXErD0S"
      },
      "source": [
        "We will also change the response type, so that it returns a JSON response\n",
        "containing ImageNet class id and name. The updated ``app.py`` file will\n",
        "be now:\n",
        "\n"
      ]
    },
    {
      "cell_type": "code",
      "execution_count": null,
      "metadata": {
        "id": "ym9xJPMCrD0T"
      },
      "outputs": [],
      "source": [
        "from flask import Flask, jsonify\n",
        "app = Flask(__name__)\n",
        "\n",
        "@app.route('/predict', methods=['POST'])\n",
        "def predict():\n",
        "    return jsonify({'class_id': 'IMAGE_NET_XXX', 'class_name': 'Cat'})"
      ]
    },
    {
      "cell_type": "code",
      "source": [
        "from flask import Flask, jsonify\n",
        "app = Flask(__name__)\n",
        "\n",
        "@app.route('/predict', methods=['POST'])\n",
        "def predict():\n",
        "  return jsonify({'class_id': 'IMAGE_NET_XXX', 'class_name': 'Cat'})"
      ],
      "metadata": {
        "id": "rrLHRBZes3rN"
      },
      "execution_count": 4,
      "outputs": []
    },
    {
      "cell_type": "markdown",
      "metadata": {
        "id": "JYKbIgGUrD0T"
      },
      "source": [
        "Inference\n",
        "-----------------\n",
        "\n",
        "In the next sections we will focus on writing the inference code. This will\n",
        "involve two parts, one where we prepare the image so that it can be fed\n",
        "to DenseNet and next, we will write the code to get the actual prediction\n",
        "from the model.\n",
        "\n",
        "Preparing the image\n",
        "~~~~~~~~~~~~~~~~~~~\n",
        "\n",
        "DenseNet model requires the image to be of 3 channel RGB image of size\n",
        "224 x 224. We will also normalise the image tensor with the required mean\n",
        "and standard deviation values. You can read more about it\n",
        "`here <https://pytorch.org/vision/stable/models.html>`_.\n",
        "\n",
        "We will use ``transforms`` from ``torchvision`` library and build a\n",
        "transform pipeline, which transforms our images as required. You\n",
        "can read more about transforms `here <https://pytorch.org/vision/stable/transforms.html>`_.\n",
        "\n"
      ]
    },
    {
      "cell_type": "code",
      "execution_count": null,
      "metadata": {
        "id": "qYxwOL6krD0T"
      },
      "outputs": [],
      "source": [
        "import io\n",
        "\n",
        "import torchvision.transforms as transforms\n",
        "from PIL import Image\n",
        "\n",
        "def transform_image(image_bytes):\n",
        "    my_transforms = transforms.Compose([transforms.Resize(255),\n",
        "                                        transforms.CenterCrop(224),\n",
        "                                        transforms.ToTensor(),\n",
        "                                        transforms.Normalize(\n",
        "                                            [0.485, 0.456, 0.406],\n",
        "                                            [0.229, 0.224, 0.225])])\n",
        "    image = Image.open(io.BytesIO(image_bytes))\n",
        "    return my_transforms(image).unsqueeze(0)"
      ]
    },
    {
      "cell_type": "code",
      "source": [
        "import io\n",
        "\n",
        "import torchvision.transforms as transforms\n",
        "from PIL import Image\n",
        "\n",
        "def transform_image(image_bytes):\n",
        "  my_transforms = transforms.Compose([transforms.Resize(255),#size(255),\n",
        "                                      transforms.CenterCrop(224),\n",
        "                                      transforms.ToTensor(),\n",
        "                                      transforms.Normalize(\n",
        "                                          [0.485, 0.456, 0.406],\n",
        "                                          [0.229, 0.224, 0.225]\n",
        "                                      )])\n",
        "  image = Image.open(io.BytesIO(image_bytes))\n",
        "  return my_transforms(image).unsqueeze(0)"
      ],
      "metadata": {
        "id": "Z3u9vZN7tdRI"
      },
      "execution_count": 9,
      "outputs": []
    },
    {
      "cell_type": "markdown",
      "metadata": {
        "id": "uGWxJPd6rD0U"
      },
      "source": [
        "The above method takes image data in bytes, applies the series of transforms\n",
        "and returns a tensor. To test the above method, read an image file in\n",
        "bytes mode (first replacing `../_static/img/sample_file.jpeg` with the actual\n",
        "path to the file on your computer) and see if you get a tensor back:\n",
        "\n"
      ]
    },
    {
      "cell_type": "code",
      "source": [
        "from google.colab import drive\n",
        "drive.mount('/content/drive')"
      ],
      "metadata": {
        "id": "GTERI63ruYZg",
        "outputId": "c0e28170-9978-45af-bf57-cb2592d52aeb",
        "colab": {
          "base_uri": "https://localhost:8080/"
        }
      },
      "execution_count": 6,
      "outputs": [
        {
          "output_type": "stream",
          "name": "stdout",
          "text": [
            "Mounted at /content/drive\n"
          ]
        }
      ]
    },
    {
      "cell_type": "code",
      "execution_count": null,
      "metadata": {
        "id": "Q01hKOjCrD0U"
      },
      "outputs": [],
      "source": [
        "with open(\"../_static/img/sample_file.jpeg\", 'rb') as f:\n",
        "    image_bytes = f.read()\n",
        "    tensor = transform_image(image_bytes=image_bytes)\n",
        "    print(tensor)"
      ]
    },
    {
      "cell_type": "code",
      "source": [
        "with open(\"/content/drive/MyDrive/OBAMA/Obama Bar - Big sizes/IMG_1534-2.JPG\", 'rb') as f:#/content/drive/MyDrive/OBAMA/Obama Bar - Big sizes\", 'rb') as f:\n",
        "  image_bytes = f.read()\n",
        "  tensor = transform_image(image_bytes=image_bytes)\n",
        "  print(tensor)"
      ],
      "metadata": {
        "id": "AatFaiZUuSiU",
        "outputId": "e08327b9-325a-4038-c3b7-908e414ba3b4",
        "colab": {
          "base_uri": "https://localhost:8080/"
        }
      },
      "execution_count": 10,
      "outputs": [
        {
          "output_type": "stream",
          "name": "stdout",
          "text": [
            "tensor([[[[-2.1179, -2.1179, -2.1179,  ..., -2.1008, -2.1179, -2.1179],\n",
            "          [-2.1179, -2.1179, -2.1179,  ..., -2.1179, -2.1179, -2.1008],\n",
            "          [-2.1179, -2.1179, -2.1179,  ..., -2.1179, -2.1179, -2.1179],\n",
            "          ...,\n",
            "          [-1.3302, -1.3815, -1.4500,  ..., -1.4843, -1.4672, -1.5528],\n",
            "          [-1.3302, -1.4329, -1.4843,  ..., -1.5014, -1.5014, -1.5870],\n",
            "          [-1.2959, -1.3987, -1.4672,  ..., -1.5528, -1.5014, -1.5185]],\n",
            "\n",
            "         [[-0.5651, -0.5826, -0.5826,  ..., -0.4601, -0.4601, -0.4601],\n",
            "          [-0.5651, -0.5826, -0.5826,  ..., -0.4426, -0.4426, -0.4426],\n",
            "          [-0.5826, -0.5826, -0.5826,  ..., -0.4601, -0.4601, -0.4426],\n",
            "          ...,\n",
            "          [-1.6331, -1.6681, -1.7206,  ..., -1.6506, -1.6331, -1.6856],\n",
            "          [-1.6331, -1.7031, -1.7556,  ..., -1.6681, -1.6506, -1.7206],\n",
            "          [-1.6155, -1.6506, -1.7556,  ..., -1.7031, -1.6506, -1.6506]],\n",
            "\n",
            "         [[ 1.4722,  1.4722,  1.4722,  ...,  1.3851,  1.3677,  1.3851],\n",
            "          [ 1.4548,  1.4548,  1.4722,  ...,  1.3851,  1.3851,  1.3851],\n",
            "          [ 1.4548,  1.4548,  1.4548,  ...,  1.3851,  1.3677,  1.3677],\n",
            "          ...,\n",
            "          [-1.3687, -1.4036, -1.4559,  ..., -1.2816, -1.2990, -1.3687],\n",
            "          [-1.3861, -1.4384, -1.4907,  ..., -1.3164, -1.3164, -1.3861],\n",
            "          [-1.3513, -1.4036, -1.4907,  ..., -1.3513, -1.3164, -1.3339]]]])\n"
          ]
        }
      ]
    },
    {
      "cell_type": "markdown",
      "metadata": {
        "id": "YEdrdhXlrD0U"
      },
      "source": [
        "Prediction\n",
        "~~~~~~~~~~~~~~~~~~~\n",
        "\n",
        "Now will use a pretrained DenseNet 121 model to predict the image class. We\n",
        "will use one from ``torchvision`` library, load the model and get an\n",
        "inference. While we'll be using a pretrained model in this example, you can\n",
        "use this same approach for your own models. See more about loading your\n",
        "models in this :doc:`tutorial </beginner/saving_loading_models>`.\n",
        "\n"
      ]
    },
    {
      "cell_type": "code",
      "execution_count": null,
      "metadata": {
        "id": "q10p4cWMrD0U"
      },
      "outputs": [],
      "source": [
        "from torchvision import models\n",
        "\n",
        "# Make sure to pass `pretrained` as `True` to use the pretrained weights:\n",
        "model = models.densenet121(pretrained=True)\n",
        "# Since we are using our model only for inference, switch to `eval` mode:\n",
        "model.eval()\n",
        "\n",
        "\n",
        "def get_prediction(image_bytes):\n",
        "    tensor = transform_image(image_bytes=image_bytes)\n",
        "    outputs = model.forward(tensor)\n",
        "    _, y_hat = outputs.max(1)\n",
        "    return y_hat"
      ]
    },
    {
      "cell_type": "code",
      "source": [
        "from torchvision import models\n",
        "\n",
        "# Make sure to pass `pretrained` as `True` to use the pretrained weights:\n",
        "model = models.densenet121(pretrained=True)\n",
        "# Since we are using our model only for inference, switch to `eval` mode:\n",
        "model.eval()\n",
        "\n",
        "def get_prediction(image_bytes):\n",
        "  tensor = transform_image(image_bytes=image_bytes)\n",
        "  outputs = model.forward(tensor)\n",
        "  _, y_hat = outputs.max(1)\n",
        "  return y_hat"
      ],
      "metadata": {
        "id": "Vq4k65zjvhOL",
        "outputId": "1be100c2-0691-4ec9-d7c0-7479e27e0181",
        "colab": {
          "base_uri": "https://localhost:8080/",
          "height": 87,
          "referenced_widgets": [
            "ea3721253af24dfd9d724bfb85a66de7",
            "46a469db843143c790106f7cd6ab1e5d",
            "c7676911946141debec56ec1274a8ad9",
            "36f88e0158ac477db82fea31cba70a84",
            "ef44f0d494564bc2b24f6d2bf2bfdde4",
            "1bbf4cc4988e4ac4b5f011dda5acbcbf",
            "7fb40a2c23044bcca70baccb72ad95e7",
            "e09165d7f98647aea4caed83c1205e5b",
            "9232ba3dcb06425b83ed666b46774941",
            "6d28d385d7f44086b0804b841c1f54f8",
            "67699f57f973400b8d19e537a4f42edb"
          ]
        }
      },
      "execution_count": 11,
      "outputs": [
        {
          "output_type": "stream",
          "name": "stderr",
          "text": [
            "Downloading: \"https://download.pytorch.org/models/densenet121-a639ec97.pth\" to /root/.cache/torch/hub/checkpoints/densenet121-a639ec97.pth\n"
          ]
        },
        {
          "output_type": "display_data",
          "data": {
            "text/plain": [
              "  0%|          | 0.00/30.8M [00:00<?, ?B/s]"
            ],
            "application/vnd.jupyter.widget-view+json": {
              "version_major": 2,
              "version_minor": 0,
              "model_id": "ea3721253af24dfd9d724bfb85a66de7"
            }
          },
          "metadata": {}
        }
      ]
    },
    {
      "cell_type": "markdown",
      "metadata": {
        "id": "taodQOKgrD0U"
      },
      "source": [
        "The tensor ``y_hat`` will contain the index of the predicted class id.\n",
        "However, we need a human readable class name. For that we need a class id\n",
        "to name mapping. Download\n",
        "`this file <https://s3.amazonaws.com/deep-learning-models/image-models/imagenet_class_index.json>`_\n",
        "as ``imagenet_class_index.json`` and remember where you saved it (or, if you\n",
        "are following the exact steps in this tutorial, save it in\n",
        "`tutorials/_static`). This file contains the mapping of ImageNet class id to\n",
        "ImageNet class name. We will load this JSON file and get the class name of\n",
        "the predicted index.\n",
        "\n"
      ]
    },
    {
      "cell_type": "code",
      "execution_count": null,
      "metadata": {
        "id": "kdVkNltPrD0V"
      },
      "outputs": [],
      "source": [
        "import json\n",
        "\n",
        "imagenet_class_index = json.load(open('../_static/imagenet_class_index.json'))\n",
        "\n",
        "def get_prediction(image_bytes):\n",
        "    tensor = transform_image(image_bytes=image_bytes)\n",
        "    outputs = model.forward(tensor)\n",
        "    _, y_hat = outputs.max(1)\n",
        "    predicted_idx = str(y_hat.item())\n",
        "    return imagenet_class_index[predicted_idx]"
      ]
    },
    {
      "cell_type": "code",
      "source": [
        "import json\n",
        "\n",
        "imagenet_class_index = json.load(open('/imagenet_class_index.json'))\n",
        "\n",
        "def get_prediction(image_bytes):\n",
        "  tensor = transform_image(image_bytes=image_bytes)#_bytes=image_bytes)\n",
        "  outputs = model.forward(tensor)\n",
        "  _, y_hat = outputs.max(1)\n",
        "  predicted_idx = str(y_hat.item())\n",
        "  return imagenet_class_index[predicted_idx]"
      ],
      "metadata": {
        "id": "wISovrFqxT2h"
      },
      "execution_count": 13,
      "outputs": []
    },
    {
      "cell_type": "markdown",
      "metadata": {
        "id": "cXf6TsTQrD0V"
      },
      "source": [
        "Before using ``imagenet_class_index`` dictionary, first we will convert\n",
        "tensor value to a string value, since the keys in the\n",
        "``imagenet_class_index`` dictionary are strings.\n",
        "We will test our above method:\n",
        "\n"
      ]
    },
    {
      "cell_type": "code",
      "execution_count": null,
      "metadata": {
        "id": "l_1na8eCrD0V"
      },
      "outputs": [],
      "source": [
        "with open(\"../_static/img/sample_file.jpeg\", 'rb') as f:\n",
        "    image_bytes = f.read()\n",
        "    print(get_prediction(image_bytes=image_bytes))"
      ]
    },
    {
      "cell_type": "code",
      "source": [
        "#path = '/imagenet_class_index.json'\n",
        "#image=Image.open(path)\n",
        "\n",
        "#with Image.open(path, 'r') as f:#b') as f:#open(path, 'rb') as f:#\"/imagenet_class_index.json\", 'rb') as f:\n",
        "with open(\"/content/drive/MyDrive/OBAMA/Obama Bar - Big sizes/IMG_1534-2.JPG\", 'rb') as f:\n",
        "  image_bytes = f.read()\n",
        "  print(get_prediction(image_bytes=image_bytes))"
      ],
      "metadata": {
        "id": "JWhaRsXVyIhJ",
        "outputId": "96f5b8a4-82e8-4ec6-a6eb-6578e195f713",
        "colab": {
          "base_uri": "https://localhost:8080/"
        }
      },
      "execution_count": 18,
      "outputs": [
        {
          "output_type": "stream",
          "name": "stdout",
          "text": [
            "['n02894605', 'breakwater']\n"
          ]
        }
      ]
    },
    {
      "cell_type": "markdown",
      "metadata": {
        "id": "AGIyzK9HrD0V"
      },
      "source": [
        "You should get a response like this:\n",
        "\n"
      ]
    },
    {
      "cell_type": "code",
      "execution_count": null,
      "metadata": {
        "id": "HUtm_dykrD0V"
      },
      "outputs": [],
      "source": [
        "['n02124075', 'Egyptian_cat']"
      ]
    },
    {
      "cell_type": "markdown",
      "metadata": {
        "id": "AOzNqmjbrD0W"
      },
      "source": [
        "The first item in array is ImageNet class id and second item is the human\n",
        "readable name.\n",
        "\n",
        ".. Note ::\n",
        "   Did you notice that ``model`` variable is not part of ``get_prediction``\n",
        "   method? Or why is model a global variable? Loading a model can be an\n",
        "   expensive operation in terms of memory and compute. If we loaded the model in the\n",
        "   ``get_prediction`` method, then it would get unnecessarily loaded every\n",
        "   time the method is called. Since, we are building a web server, there\n",
        "   could be thousands of requests per second, we should not waste time\n",
        "   redundantly loading the model for every inference. So, we keep the model\n",
        "   loaded in memory just once. In\n",
        "   production systems, it's necessary to be efficient about your use of\n",
        "   compute to be able to serve requests at scale, so you should generally\n",
        "   load your model before serving requests.\n",
        "\n"
      ]
    },
    {
      "cell_type": "markdown",
      "metadata": {
        "id": "2Nnx_ejGrD0W"
      },
      "source": [
        "Integrating the model in our API Server\n",
        "---------------------------------------\n",
        "\n",
        "In this final part we will add our model to our Flask API server. Since\n",
        "our API server is supposed to take an image file, we will update our ``predict``\n",
        "method to read files from the requests:\n",
        "\n",
        ".. code-block:: python\n",
        "\n",
        "   from flask import request\n",
        "\n",
        "   @app.route('/predict', methods=['POST'])\n",
        "   def predict():\n",
        "       if request.method == 'POST':\n",
        "           # we will get the file from the request\n",
        "           file = request.files['file']\n",
        "           # convert that to bytes\n",
        "           img_bytes = file.read()\n",
        "           class_id, class_name = get_prediction(image_bytes=img_bytes)\n",
        "           return jsonify({'class_id': class_id, 'class_name': class_name})\n",
        "\n"
      ]
    },
    {
      "cell_type": "markdown",
      "metadata": {
        "id": "_Td_KTZOrD0W"
      },
      "source": [
        "The ``app.py`` file is now complete. Following is the full version; replace\n",
        "the paths with the paths where you saved your files and it should run:\n",
        "\n",
        ".. code-block:: python\n",
        "\n",
        "  import io\n",
        "  import json\n",
        "\n",
        "  from torchvision import models\n",
        "  import torchvision.transforms as transforms\n",
        "  from PIL import Image\n",
        "  from flask import Flask, jsonify, request\n",
        "\n",
        "\n",
        "  app = Flask(__name__)\n",
        "  imagenet_class_index = json.load(open('<PATH/TO/.json/FILE>/imagenet_class_index.json'))\n",
        "  model = models.densenet121(pretrained=True)\n",
        "  model.eval()\n",
        "\n",
        "\n",
        "  def transform_image(image_bytes):\n",
        "      my_transforms = transforms.Compose([transforms.Resize(255),\n",
        "                                          transforms.CenterCrop(224),\n",
        "                                          transforms.ToTensor(),\n",
        "                                          transforms.Normalize(\n",
        "                                              [0.485, 0.456, 0.406],\n",
        "                                              [0.229, 0.224, 0.225])])\n",
        "      image = Image.open(io.BytesIO(image_bytes))\n",
        "      return my_transforms(image).unsqueeze(0)\n",
        "\n",
        "\n",
        "  def get_prediction(image_bytes):\n",
        "      tensor = transform_image(image_bytes=image_bytes)\n",
        "      outputs = model.forward(tensor)\n",
        "      _, y_hat = outputs.max(1)\n",
        "      predicted_idx = str(y_hat.item())\n",
        "      return imagenet_class_index[predicted_idx]\n",
        "\n",
        "\n",
        "  @app.route('/predict', methods=['POST'])\n",
        "  def predict():\n",
        "      if request.method == 'POST':\n",
        "          file = request.files['file']\n",
        "          img_bytes = file.read()\n",
        "          class_id, class_name = get_prediction(image_bytes=img_bytes)\n",
        "          return jsonify({'class_id': class_id, 'class_name': class_name})\n",
        "\n",
        "\n",
        "  if __name__ == '__main__':\n",
        "      app.run()\n",
        "\n"
      ]
    },
    {
      "cell_type": "markdown",
      "metadata": {
        "id": "m2mOOWjtrD0W"
      },
      "source": [
        "Let's test our web server! Run:\n",
        "\n",
        "::\n",
        "\n",
        "    $ FLASK_ENV=development FLASK_APP=app.py flask run\n",
        "\n"
      ]
    },
    {
      "cell_type": "markdown",
      "metadata": {
        "id": "ZlHgxbo6rD0W"
      },
      "source": [
        "We can use the\n",
        "`requests <https://pypi.org/project/requests/>`_\n",
        "library to send a POST request to our app:\n",
        "\n",
        ".. code-block:: python\n",
        "\n",
        "  import requests\n",
        "\n",
        "  resp = requests.post(\"http://localhost:5000/predict\",\n",
        "                       files={\"file\": open('<PATH/TO/.jpg/FILE>/cat.jpg','rb')})\n",
        "\n"
      ]
    },
    {
      "cell_type": "markdown",
      "metadata": {
        "id": "gs-42Jb5rD0W"
      },
      "source": [
        "Printing `resp.json()` will now show the following:\n",
        "\n",
        "::\n",
        "\n",
        "    {\"class_id\": \"n02124075\", \"class_name\": \"Egyptian_cat\"}\n",
        "\n",
        "\n"
      ]
    },
    {
      "cell_type": "markdown",
      "metadata": {
        "id": "XPe0Is4orD0W"
      },
      "source": [
        "Next steps\n",
        "--------------\n",
        "\n",
        "The server we wrote is quite trivial and and may not do everything\n",
        "you need for your production application. So, here are some things you\n",
        "can do to make it better:\n",
        "\n",
        "- The endpoint ``/predict`` assumes that always there will be a image file\n",
        "  in the request. This may not hold true for all requests. Our user may\n",
        "  send image with a different parameter or send no images at all.\n",
        "\n",
        "- The user may send non-image type files too. Since we are not handling\n",
        "  errors, this will break our server. Adding an explicit error handing\n",
        "  path that will throw an exception would allow us to better handle\n",
        "  the bad inputs\n",
        "\n",
        "- Even though the model can recognize a large number of classes of images,\n",
        "  it may not be able to recognize all images. Enhance the implementation\n",
        "  to handle cases when the model does not recognize anything in the image.\n",
        "\n",
        "- We run the Flask server in the development mode, which is not suitable for\n",
        "  deploying in production. You can check out `this tutorial <https://flask.palletsprojects.com/en/1.1.x/tutorial/deploy/>`_\n",
        "  for deploying a Flask server in production.\n",
        "\n",
        "- You can also add a UI by creating a page with a form which takes the image and\n",
        "  displays the prediction. Check out the `demo <https://pytorch-imagenet.herokuapp.com/>`_\n",
        "  of a similar project and its `source code <https://github.com/avinassh/pytorch-flask-api-heroku>`_.\n",
        "\n",
        "- In this tutorial, we only showed how to build a service that could return predictions for\n",
        "  a single image at a time. We could modify our service to be able to return predictions for\n",
        "  multiple images at once. In addition, the `service-streamer <https://github.com/ShannonAI/service-streamer>`_\n",
        "  library automatically queues requests to your service and samples them into mini-batches\n",
        "  that can be fed into your model. You can check out `this tutorial <https://github.com/ShannonAI/service-streamer/wiki/Vision-Recognition-Service-with-Flask-and-service-streamer>`_.\n",
        "\n",
        "- Finally, we encourage you to check out our other tutorials on deploying PyTorch models\n",
        "  linked-to at the top of the page.\n",
        "\n"
      ]
    }
  ],
  "metadata": {
    "kernelspec": {
      "display_name": "Python 3",
      "language": "python",
      "name": "python3"
    },
    "language_info": {
      "codemirror_mode": {
        "name": "ipython",
        "version": 3
      },
      "file_extension": ".py",
      "mimetype": "text/x-python",
      "name": "python",
      "nbconvert_exporter": "python",
      "pygments_lexer": "ipython3",
      "version": "3.7.11"
    },
    "colab": {
      "name": "flask_rest_api_tutorial.ipynb",
      "provenance": []
    },
    "widgets": {
      "application/vnd.jupyter.widget-state+json": {
        "ea3721253af24dfd9d724bfb85a66de7": {
          "model_module": "@jupyter-widgets/controls",
          "model_name": "HBoxModel",
          "model_module_version": "1.5.0",
          "state": {
            "_dom_classes": [],
            "_model_module": "@jupyter-widgets/controls",
            "_model_module_version": "1.5.0",
            "_model_name": "HBoxModel",
            "_view_count": null,
            "_view_module": "@jupyter-widgets/controls",
            "_view_module_version": "1.5.0",
            "_view_name": "HBoxView",
            "box_style": "",
            "children": [
              "IPY_MODEL_46a469db843143c790106f7cd6ab1e5d",
              "IPY_MODEL_c7676911946141debec56ec1274a8ad9",
              "IPY_MODEL_36f88e0158ac477db82fea31cba70a84"
            ],
            "layout": "IPY_MODEL_ef44f0d494564bc2b24f6d2bf2bfdde4"
          }
        },
        "46a469db843143c790106f7cd6ab1e5d": {
          "model_module": "@jupyter-widgets/controls",
          "model_name": "HTMLModel",
          "model_module_version": "1.5.0",
          "state": {
            "_dom_classes": [],
            "_model_module": "@jupyter-widgets/controls",
            "_model_module_version": "1.5.0",
            "_model_name": "HTMLModel",
            "_view_count": null,
            "_view_module": "@jupyter-widgets/controls",
            "_view_module_version": "1.5.0",
            "_view_name": "HTMLView",
            "description": "",
            "description_tooltip": null,
            "layout": "IPY_MODEL_1bbf4cc4988e4ac4b5f011dda5acbcbf",
            "placeholder": "​",
            "style": "IPY_MODEL_7fb40a2c23044bcca70baccb72ad95e7",
            "value": "100%"
          }
        },
        "c7676911946141debec56ec1274a8ad9": {
          "model_module": "@jupyter-widgets/controls",
          "model_name": "FloatProgressModel",
          "model_module_version": "1.5.0",
          "state": {
            "_dom_classes": [],
            "_model_module": "@jupyter-widgets/controls",
            "_model_module_version": "1.5.0",
            "_model_name": "FloatProgressModel",
            "_view_count": null,
            "_view_module": "@jupyter-widgets/controls",
            "_view_module_version": "1.5.0",
            "_view_name": "ProgressView",
            "bar_style": "success",
            "description": "",
            "description_tooltip": null,
            "layout": "IPY_MODEL_e09165d7f98647aea4caed83c1205e5b",
            "max": 32342954,
            "min": 0,
            "orientation": "horizontal",
            "style": "IPY_MODEL_9232ba3dcb06425b83ed666b46774941",
            "value": 32342954
          }
        },
        "36f88e0158ac477db82fea31cba70a84": {
          "model_module": "@jupyter-widgets/controls",
          "model_name": "HTMLModel",
          "model_module_version": "1.5.0",
          "state": {
            "_dom_classes": [],
            "_model_module": "@jupyter-widgets/controls",
            "_model_module_version": "1.5.0",
            "_model_name": "HTMLModel",
            "_view_count": null,
            "_view_module": "@jupyter-widgets/controls",
            "_view_module_version": "1.5.0",
            "_view_name": "HTMLView",
            "description": "",
            "description_tooltip": null,
            "layout": "IPY_MODEL_6d28d385d7f44086b0804b841c1f54f8",
            "placeholder": "​",
            "style": "IPY_MODEL_67699f57f973400b8d19e537a4f42edb",
            "value": " 30.8M/30.8M [00:00&lt;00:00, 74.3MB/s]"
          }
        },
        "ef44f0d494564bc2b24f6d2bf2bfdde4": {
          "model_module": "@jupyter-widgets/base",
          "model_name": "LayoutModel",
          "model_module_version": "1.2.0",
          "state": {
            "_model_module": "@jupyter-widgets/base",
            "_model_module_version": "1.2.0",
            "_model_name": "LayoutModel",
            "_view_count": null,
            "_view_module": "@jupyter-widgets/base",
            "_view_module_version": "1.2.0",
            "_view_name": "LayoutView",
            "align_content": null,
            "align_items": null,
            "align_self": null,
            "border": null,
            "bottom": null,
            "display": null,
            "flex": null,
            "flex_flow": null,
            "grid_area": null,
            "grid_auto_columns": null,
            "grid_auto_flow": null,
            "grid_auto_rows": null,
            "grid_column": null,
            "grid_gap": null,
            "grid_row": null,
            "grid_template_areas": null,
            "grid_template_columns": null,
            "grid_template_rows": null,
            "height": null,
            "justify_content": null,
            "justify_items": null,
            "left": null,
            "margin": null,
            "max_height": null,
            "max_width": null,
            "min_height": null,
            "min_width": null,
            "object_fit": null,
            "object_position": null,
            "order": null,
            "overflow": null,
            "overflow_x": null,
            "overflow_y": null,
            "padding": null,
            "right": null,
            "top": null,
            "visibility": null,
            "width": null
          }
        },
        "1bbf4cc4988e4ac4b5f011dda5acbcbf": {
          "model_module": "@jupyter-widgets/base",
          "model_name": "LayoutModel",
          "model_module_version": "1.2.0",
          "state": {
            "_model_module": "@jupyter-widgets/base",
            "_model_module_version": "1.2.0",
            "_model_name": "LayoutModel",
            "_view_count": null,
            "_view_module": "@jupyter-widgets/base",
            "_view_module_version": "1.2.0",
            "_view_name": "LayoutView",
            "align_content": null,
            "align_items": null,
            "align_self": null,
            "border": null,
            "bottom": null,
            "display": null,
            "flex": null,
            "flex_flow": null,
            "grid_area": null,
            "grid_auto_columns": null,
            "grid_auto_flow": null,
            "grid_auto_rows": null,
            "grid_column": null,
            "grid_gap": null,
            "grid_row": null,
            "grid_template_areas": null,
            "grid_template_columns": null,
            "grid_template_rows": null,
            "height": null,
            "justify_content": null,
            "justify_items": null,
            "left": null,
            "margin": null,
            "max_height": null,
            "max_width": null,
            "min_height": null,
            "min_width": null,
            "object_fit": null,
            "object_position": null,
            "order": null,
            "overflow": null,
            "overflow_x": null,
            "overflow_y": null,
            "padding": null,
            "right": null,
            "top": null,
            "visibility": null,
            "width": null
          }
        },
        "7fb40a2c23044bcca70baccb72ad95e7": {
          "model_module": "@jupyter-widgets/controls",
          "model_name": "DescriptionStyleModel",
          "model_module_version": "1.5.0",
          "state": {
            "_model_module": "@jupyter-widgets/controls",
            "_model_module_version": "1.5.0",
            "_model_name": "DescriptionStyleModel",
            "_view_count": null,
            "_view_module": "@jupyter-widgets/base",
            "_view_module_version": "1.2.0",
            "_view_name": "StyleView",
            "description_width": ""
          }
        },
        "e09165d7f98647aea4caed83c1205e5b": {
          "model_module": "@jupyter-widgets/base",
          "model_name": "LayoutModel",
          "model_module_version": "1.2.0",
          "state": {
            "_model_module": "@jupyter-widgets/base",
            "_model_module_version": "1.2.0",
            "_model_name": "LayoutModel",
            "_view_count": null,
            "_view_module": "@jupyter-widgets/base",
            "_view_module_version": "1.2.0",
            "_view_name": "LayoutView",
            "align_content": null,
            "align_items": null,
            "align_self": null,
            "border": null,
            "bottom": null,
            "display": null,
            "flex": null,
            "flex_flow": null,
            "grid_area": null,
            "grid_auto_columns": null,
            "grid_auto_flow": null,
            "grid_auto_rows": null,
            "grid_column": null,
            "grid_gap": null,
            "grid_row": null,
            "grid_template_areas": null,
            "grid_template_columns": null,
            "grid_template_rows": null,
            "height": null,
            "justify_content": null,
            "justify_items": null,
            "left": null,
            "margin": null,
            "max_height": null,
            "max_width": null,
            "min_height": null,
            "min_width": null,
            "object_fit": null,
            "object_position": null,
            "order": null,
            "overflow": null,
            "overflow_x": null,
            "overflow_y": null,
            "padding": null,
            "right": null,
            "top": null,
            "visibility": null,
            "width": null
          }
        },
        "9232ba3dcb06425b83ed666b46774941": {
          "model_module": "@jupyter-widgets/controls",
          "model_name": "ProgressStyleModel",
          "model_module_version": "1.5.0",
          "state": {
            "_model_module": "@jupyter-widgets/controls",
            "_model_module_version": "1.5.0",
            "_model_name": "ProgressStyleModel",
            "_view_count": null,
            "_view_module": "@jupyter-widgets/base",
            "_view_module_version": "1.2.0",
            "_view_name": "StyleView",
            "bar_color": null,
            "description_width": ""
          }
        },
        "6d28d385d7f44086b0804b841c1f54f8": {
          "model_module": "@jupyter-widgets/base",
          "model_name": "LayoutModel",
          "model_module_version": "1.2.0",
          "state": {
            "_model_module": "@jupyter-widgets/base",
            "_model_module_version": "1.2.0",
            "_model_name": "LayoutModel",
            "_view_count": null,
            "_view_module": "@jupyter-widgets/base",
            "_view_module_version": "1.2.0",
            "_view_name": "LayoutView",
            "align_content": null,
            "align_items": null,
            "align_self": null,
            "border": null,
            "bottom": null,
            "display": null,
            "flex": null,
            "flex_flow": null,
            "grid_area": null,
            "grid_auto_columns": null,
            "grid_auto_flow": null,
            "grid_auto_rows": null,
            "grid_column": null,
            "grid_gap": null,
            "grid_row": null,
            "grid_template_areas": null,
            "grid_template_columns": null,
            "grid_template_rows": null,
            "height": null,
            "justify_content": null,
            "justify_items": null,
            "left": null,
            "margin": null,
            "max_height": null,
            "max_width": null,
            "min_height": null,
            "min_width": null,
            "object_fit": null,
            "object_position": null,
            "order": null,
            "overflow": null,
            "overflow_x": null,
            "overflow_y": null,
            "padding": null,
            "right": null,
            "top": null,
            "visibility": null,
            "width": null
          }
        },
        "67699f57f973400b8d19e537a4f42edb": {
          "model_module": "@jupyter-widgets/controls",
          "model_name": "DescriptionStyleModel",
          "model_module_version": "1.5.0",
          "state": {
            "_model_module": "@jupyter-widgets/controls",
            "_model_module_version": "1.5.0",
            "_model_name": "DescriptionStyleModel",
            "_view_count": null,
            "_view_module": "@jupyter-widgets/base",
            "_view_module_version": "1.2.0",
            "_view_name": "StyleView",
            "description_width": ""
          }
        }
      }
    }
  },
  "nbformat": 4,
  "nbformat_minor": 0
}