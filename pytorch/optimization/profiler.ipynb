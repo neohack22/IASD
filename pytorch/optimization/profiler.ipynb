{
  "cells": [
    {
      "cell_type": "code",
      "execution_count": null,
      "metadata": {
        "id": "HIpzJyf8Fags"
      },
      "outputs": [],
      "source": [
        "%matplotlib inline"
      ]
    },
    {
      "cell_type": "code",
      "source": [
        "%matplotlib inline"
      ],
      "metadata": {
        "id": "VQ4BQqveFbNp"
      },
      "execution_count": 2,
      "outputs": []
    },
    {
      "cell_type": "markdown",
      "metadata": {
        "id": "YydhBtr6Fagv"
      },
      "source": [
        "\n",
        "Profiling your PyTorch Module\n",
        "------------\n",
        "**Author:** `Suraj Subramanian <https://github.com/suraj813>`_\n",
        "\n",
        "PyTorch includes a profiler API that is useful to identify the time and\n",
        "memory costs of various PyTorch operations in your code. Profiler can be\n",
        "easily integrated in your code, and the results can be printed as a table\n",
        "or retured in a JSON trace file.\n",
        "\n",
        "<div class=\"alert alert-info\"><h4>Note</h4><p>Profiler supports multithreaded models. Profiler runs in the\n",
        "    same thread as the operation but it will also profile child operators\n",
        "    that might run in another thread. Concurrently-running profilers will be\n",
        "    scoped to their own thread to prevent mixing of results.</p></div>\n",
        "\n",
        "<div class=\"alert alert-info\"><h4>Note</h4><p>PyTorch 1.8 introduces the new API that will replace the older profiler API\n",
        "    in the future releases. Check the new API at `this page <https://pytorch.org/docs/master/profiler.html>`__.</p></div>\n",
        "\n",
        "Head on over to `this\n",
        "recipe <https://pytorch.org/tutorials/recipes/recipes/profiler_recipe.html>`__\n",
        "for a quicker walkthrough of Profiler API usage.\n",
        "\n",
        "\n",
        "--------------\n"
      ]
    },
    {
      "cell_type": "code",
      "execution_count": null,
      "metadata": {
        "id": "tq_wxYG5Fagy"
      },
      "outputs": [],
      "source": [
        "import torch\n",
        "import numpy as np\n",
        "from torch import nn\n",
        "import torch.autograd.profiler as profiler"
      ]
    },
    {
      "cell_type": "code",
      "source": [
        "import torch\n",
        "import numpy as np\n",
        "from torch import nn\n",
        "import torch.autograd.profiler as profiler"
      ],
      "metadata": {
        "id": "WY_G9TPPFo2o"
      },
      "execution_count": 3,
      "outputs": []
    },
    {
      "cell_type": "markdown",
      "metadata": {
        "id": "DbVRR5zKFagz"
      },
      "source": [
        "Performance debugging using Profiler\n",
        "~~~~~~~~~~~~~~~~~~~~~~~~~~~~~~~~~~~~~~~~~~~~~~~~~~~\n",
        "\n",
        "Profiler can be useful to identify performance bottlenecks in your\n",
        "models. In this example, we build a custom module that performs two\n",
        "sub-tasks:\n",
        "\n",
        "- a linear transformation on the input, and\n",
        "- use the transformation result to get indices on a mask tensor.\n",
        "\n",
        "We wrap the code for each sub-task in separate labelled context managers using\n",
        "``profiler.record_function(\"label\")``. In the profiler output, the\n",
        "aggregate performance metrics of all operations in the sub-task will\n",
        "show up under its corresponding label.\n",
        "\n",
        "\n",
        "Note that using Profiler incurs some overhead, and is best used only for investigating\n",
        "code. Remember to remove it if you are benchmarking runtimes.\n",
        "\n",
        "\n"
      ]
    },
    {
      "cell_type": "code",
      "execution_count": null,
      "metadata": {
        "id": "7ArvcygeFag0"
      },
      "outputs": [],
      "source": [
        "class MyModule(nn.Module):\n",
        "    def __init__(self, in_features: int, out_features: int, bias: bool = True):\n",
        "        super(MyModule, self).__init__()\n",
        "        self.linear = nn.Linear(in_features, out_features, bias)\n",
        "\n",
        "    def forward(self, input, mask):\n",
        "        with profiler.record_function(\"LINEAR PASS\"):\n",
        "            out = self.linear(input)\n",
        "\n",
        "        with profiler.record_function(\"MASK INDICES\"):\n",
        "            threshold = out.sum(axis=1).mean().item()\n",
        "            hi_idx = np.argwhere(mask.cpu().numpy() > threshold)\n",
        "            hi_idx = torch.from_numpy(hi_idx).cuda()\n",
        "\n",
        "        return out, hi_idx"
      ]
    },
    {
      "cell_type": "code",
      "source": [
        "class MyModule(nn.Module):\n",
        "  def __init__(self, in_features: int, out_features: int, bias: bool = True):\n",
        "    super(MyModule, self).__init__()\n",
        "    self.linear = nn.Linear(in_features, out_features, bias)\n",
        "\n",
        "  def forward(self, input, mask):\n",
        "    with profiler.record_function(\"LINEAR PASS\"):\n",
        "      out = self.linear(input)\n",
        "\n",
        "    with profiler.record_function(\"MASK INDICES\"):\n",
        "      threshold = out.sum(axis=1).mean().item()\n",
        "      hi_idx = np.argwhere(mask.cpu().numpy() > threshold)\n",
        "      hi_idx = torch.from_numpy(hi_idx).cuda()\n",
        "\n",
        "    return out, hi_idx"
      ],
      "metadata": {
        "id": "3cbp9_OzF5Bz"
      },
      "execution_count": 4,
      "outputs": []
    },
    {
      "cell_type": "markdown",
      "metadata": {
        "id": "qKG9Zk3BFag1"
      },
      "source": [
        "Profile the forward pass\n",
        "~~~~~~~~~~~~~~~~~~~~~~~~~~~~~~~~~~\n",
        "\n",
        "We initialize random input and mask tensors, and the model.\n",
        "\n",
        "Before we run the profiler, we warm-up CUDA to ensure accurate\n",
        "performance benchmarking. We wrap the forward pass of our module in the\n",
        "``profiler.profile`` context manager. The ``with_stack=True`` parameter appends the\n",
        "file and line number of the operation in the trace.\n",
        "\n",
        ".. WARNING::\n",
        "    ``with_stack=True`` incurs an additional overhead, and is better suited for investigating code.\n",
        "    Remember to remove it if you are benchmarking performance.\n",
        "\n",
        "\n"
      ]
    },
    {
      "cell_type": "code",
      "execution_count": null,
      "metadata": {
        "id": "U1CPysbrFag2"
      },
      "outputs": [],
      "source": [
        "model = MyModule(500, 10).cuda()\n",
        "input = torch.rand(128, 500).cuda()\n",
        "mask = torch.rand((500, 500, 500), dtype=torch.double).cuda()\n",
        "\n",
        "# warm-up\n",
        "model(input, mask)\n",
        "\n",
        "with profiler.profile(with_stack=True, profile_memory=True) as prof:\n",
        "    out, idx = model(input, mask)"
      ]
    },
    {
      "cell_type": "code",
      "source": [
        "model = MyModule(500, 10).cuda()\n",
        "input = torch.rand(128, 500).cuda()\n",
        "mask = torch.rand((500, 500, 500), dtype=torch.double).cuda()\n",
        "\n",
        "# warm-up\n",
        "model(input, mask)\n",
        "\n",
        "with profiler.profile(with_stack=True, profile_memory=True) as prof:#) as prof:\n",
        "  out, idx = model(input, mask)"
      ],
      "metadata": {
        "id": "CEcBziSKG0jL"
      },
      "execution_count": 5,
      "outputs": []
    },
    {
      "cell_type": "markdown",
      "metadata": {
        "id": "AgR1M3i3Fag2"
      },
      "source": [
        "Print profiler results\n",
        "~~~~~~~~~~~~~~~~~~~~~~~~~~~~~~~~~~\n",
        "\n",
        "Finally, we print the profiler results. ``profiler.key_averages``\n",
        "aggregates the results by operator name, and optionally by input\n",
        "shapes and/or stack trace events.\n",
        "Grouping by input shapes is useful to identify which tensor shapes\n",
        "are utilized by the model.\n",
        "\n",
        "Here, we use ``group_by_stack_n=5`` which aggregates runtimes by the\n",
        "operation and its traceback (truncated to the most recent 5 events), and\n",
        "display the events in the order they are registered. The table can also\n",
        "be sorted by passing a ``sort_by`` argument (refer to the\n",
        "`docs <https://pytorch.org/docs/stable/autograd.html#profiler>`__ for\n",
        "valid sorting keys).\n",
        "\n",
        ".. Note::\n",
        "  When running profiler in a notebook, you might see entries like ``<ipython-input-18-193a910735e8>(13): forward``\n",
        "  instead of filenames in the stacktrace. These correspond to ``<notebook-cell>(line number): calling-function``.\n",
        "\n"
      ]
    },
    {
      "cell_type": "code",
      "execution_count": null,
      "metadata": {
        "id": "bzg89nX7Fag3"
      },
      "outputs": [],
      "source": [
        "print(prof.key_averages(group_by_stack_n=5).table(sort_by='self_cpu_time_total', row_limit=5))\n",
        "\n",
        "\"\"\"\n",
        "(Some columns are omitted)\n",
        "\n",
        "-------------  ------------  ------------  ------------  ---------------------------------\n",
        "         Name    Self CPU %      Self CPU  Self CPU Mem   Source Location\n",
        "-------------  ------------  ------------  ------------  ---------------------------------\n",
        " MASK INDICES        87.88%        5.212s    -953.67 Mb  /mnt/xarfuse/.../torch/au\n",
        "                                                         <ipython-input-...>(10): forward\n",
        "                                                         /mnt/xarfuse/.../torch/nn\n",
        "                                                         <ipython-input-...>(9): <module>\n",
        "                                                         /mnt/xarfuse/.../IPython/\n",
        "\n",
        "  aten::copy_        12.07%     715.848ms           0 b  <ipython-input-...>(12): forward\n",
        "                                                         /mnt/xarfuse/.../torch/nn\n",
        "                                                         <ipython-input-...>(9): <module>\n",
        "                                                         /mnt/xarfuse/.../IPython/\n",
        "                                                         /mnt/xarfuse/.../IPython/\n",
        "\n",
        "  LINEAR PASS         0.01%     350.151us         -20 b  /mnt/xarfuse/.../torch/au\n",
        "                                                         <ipython-input-...>(7): forward\n",
        "                                                         /mnt/xarfuse/.../torch/nn\n",
        "                                                         <ipython-input-...>(9): <module>\n",
        "                                                         /mnt/xarfuse/.../IPython/\n",
        "\n",
        "  aten::addmm         0.00%     293.342us           0 b  /mnt/xarfuse/.../torch/nn\n",
        "                                                         /mnt/xarfuse/.../torch/nn\n",
        "                                                         /mnt/xarfuse/.../torch/nn\n",
        "                                                         <ipython-input-...>(8): forward\n",
        "                                                         /mnt/xarfuse/.../torch/nn\n",
        "\n",
        "   aten::mean         0.00%     235.095us           0 b  <ipython-input-...>(11): forward\n",
        "                                                         /mnt/xarfuse/.../torch/nn\n",
        "                                                         <ipython-input-...>(9): <module>\n",
        "                                                         /mnt/xarfuse/.../IPython/\n",
        "                                                         /mnt/xarfuse/.../IPython/\n",
        "\n",
        "-----------------------------  ------------  ---------- ----------------------------------\n",
        "Self CPU time total: 5.931s\n",
        "\n",
        "\"\"\""
      ]
    },
    {
      "cell_type": "code",
      "source": [
        "print(prof.key_averages(group_by_stack_n=5).table(sort_by='self_cpu_time_total', row_limit=5))"
      ],
      "metadata": {
        "id": "bHdR_DiLH1Yk",
        "outputId": "7a323d41-63b2-4a62-9cfa-da525f8950dc",
        "colab": {
          "base_uri": "https://localhost:8080/"
        }
      },
      "execution_count": 6,
      "outputs": [
        {
          "output_type": "stream",
          "name": "stdout",
          "text": [
            "-----------------------------  ------------  ------------  ------------  ------------  ------------  ------------  ------------  ------------  ------------  ------------  ---------------------------------------------------------------------------  \n",
            "                         Name    Self CPU %      Self CPU   CPU total %     CPU total  CPU time avg       CPU Mem  Self CPU Mem      CUDA Mem  Self CUDA Mem    # of Calls  Source Location                                                              \n",
            "-----------------------------  ------------  ------------  ------------  ------------  ------------  ------------  ------------  ------------  ------------  ------------  ---------------------------------------------------------------------------  \n",
            "                 MASK INDICES        82.67%        1.452s        99.78%        1.752s        1.752s          -4 b    -953.67 Mb     838.93 Mb      -1.00 Kb             1  ...l/lib/python3.7/dist-packages/torch/autograd/profiler.py(435): __enter__  \n",
            "                                                                                                                                                                           <ipython-input-4-9944a29ab7c8>(10): forward                                  \n",
            "                                                                                                                                                                           ...lib/python3.7/dist-packages/torch/nn/modules/module.py(1102): _call_impl  \n",
            "                                                                                                                                                                           <ipython-input-5-8b3259458712>(9): <module>                                  \n",
            "                                                                                                                                                                           ...python3.7/dist-packages/IPython/core/interactiveshell.py(2882): run_code  \n",
            "                                                                                                                                                                                                                                                        \n",
            "              cudaMemcpyAsync        16.81%     295.159ms        16.81%     295.159ms      98.386ms           0 b           0 b           0 b           0 b             3                                                                               \n",
            "                                                                                                                                                                                                                                                        \n",
            "          aten::empty_strided         0.22%       3.929ms         0.22%       3.929ms       3.929ms     953.67 Mb     953.67 Mb           0 b           0 b             1  <ipython-input-4-9944a29ab7c8>(12): forward                                  \n",
            "                                                                                                                                                                           ...lib/python3.7/dist-packages/torch/nn/modules/module.py(1102): _call_impl  \n",
            "                                                                                                                                                                           <ipython-input-5-8b3259458712>(9): <module>                                  \n",
            "                                                                                                                                                                           ...python3.7/dist-packages/IPython/core/interactiveshell.py(2882): run_code  \n",
            "                                                                                                                                                                           ...n3.7/dist-packages/IPython/core/interactiveshell.py(2822): run_ast_nodes  \n",
            "                                                                                                                                                                                                                                                        \n",
            "                  aten::addmm         0.06%       1.009ms         0.10%       1.753ms       1.753ms           0 b           0 b       5.00 Kb       5.00 Kb             1  /usr/local/lib/python3.7/dist-packages/torch/nn/functional.py(1848): linear  \n",
            "                                                                                                                                                                           ...cal/lib/python3.7/dist-packages/torch/nn/modules/linear.py(103): forward  \n",
            "                                                                                                                                                                           ...lib/python3.7/dist-packages/torch/nn/modules/module.py(1102): _call_impl  \n",
            "                                                                                                                                                                           <ipython-input-4-9944a29ab7c8>(8): forward                                   \n",
            "                                                                                                                                                                           ...lib/python3.7/dist-packages/torch/nn/modules/module.py(1102): _call_impl  \n",
            "                                                                                                                                                                                                                                                        \n",
            "                  aten::zeros         0.05%     846.000us         0.05%     898.000us     898.000us           4 b           0 b           0 b           0 b             1  ...al/lib/python3.7/dist-packages/torch/autograd/profiler.py(432): __init__  \n",
            "                                                                                                                                                                           <ipython-input-4-9944a29ab7c8>(7): forward                                   \n",
            "                                                                                                                                                                           ...lib/python3.7/dist-packages/torch/nn/modules/module.py(1102): _call_impl  \n",
            "                                                                                                                                                                           <ipython-input-5-8b3259458712>(9): <module>                                  \n",
            "                                                                                                                                                                           ...python3.7/dist-packages/IPython/core/interactiveshell.py(2882): run_code  \n",
            "                                                                                                                                                                                                                                                        \n",
            "-----------------------------  ------------  ------------  ------------  ------------  ------------  ------------  ------------  ------------  ------------  ------------  ---------------------------------------------------------------------------  \n",
            "Self CPU time total: 1.756s\n",
            "\n"
          ]
        }
      ]
    },
    {
      "cell_type": "markdown",
      "metadata": {
        "id": "wzvLksNjFag4"
      },
      "source": [
        "Improve memory performance\n",
        "~~~~~~~~~~~~~~~~~~~~~~~~~~~~~~~~~~\n",
        "Note that the most expensive operations - in terms of memory and time -\n",
        "are at ``forward (10)`` representing the operations within MASK INDICES. Let’s try to\n",
        "tackle the memory consumption first. We can see that the ``.to()``\n",
        "operation at line 12 consumes 953.67 Mb. This operation copies ``mask`` to the CPU.\n",
        "``mask`` is initialized with a ``torch.double`` datatype. Can we reduce the memory footprint by casting\n",
        "it to ``torch.float`` instead?\n",
        "\n",
        "\n"
      ]
    },
    {
      "cell_type": "code",
      "execution_count": null,
      "metadata": {
        "id": "A7OxO68lFag5"
      },
      "outputs": [],
      "source": [
        "model = MyModule(500, 10).cuda()\n",
        "input = torch.rand(128, 500).cuda()\n",
        "mask = torch.rand((500, 500, 500), dtype=torch.float).cuda()\n",
        "\n",
        "# warm-up\n",
        "model(input, mask)\n",
        "\n",
        "with profiler.profile(with_stack=True, profile_memory=True) as prof:\n",
        "    out, idx = model(input, mask)\n",
        "\n",
        "print(prof.key_averages(group_by_stack_n=5).table(sort_by='self_cpu_time_total', row_limit=5))\n",
        "\n",
        "\"\"\"\n",
        "(Some columns are omitted)\n",
        "\n",
        "-----------------  ------------  ------------  ------------  --------------------------------\n",
        "             Name    Self CPU %      Self CPU  Self CPU Mem   Source Location\n",
        "-----------------  ------------  ------------  ------------  --------------------------------\n",
        "     MASK INDICES        93.61%        5.006s    -476.84 Mb  /mnt/xarfuse/.../torch/au\n",
        "                                                             <ipython-input-...>(10): forward\n",
        "                                                             /mnt/xarfuse/  /torch/nn\n",
        "                                                             <ipython-input-...>(9): <module>\n",
        "                                                             /mnt/xarfuse/.../IPython/\n",
        "\n",
        "      aten::copy_         6.34%     338.759ms           0 b  <ipython-input-...>(12): forward\n",
        "                                                             /mnt/xarfuse/.../torch/nn\n",
        "                                                             <ipython-input-...>(9): <module>\n",
        "                                                             /mnt/xarfuse/.../IPython/\n",
        "                                                             /mnt/xarfuse/.../IPython/\n",
        "\n",
        " aten::as_strided         0.01%     281.808us           0 b  <ipython-input-...>(11): forward\n",
        "                                                             /mnt/xarfuse/.../torch/nn\n",
        "                                                             <ipython-input-...>(9): <module>\n",
        "                                                             /mnt/xarfuse/.../IPython/\n",
        "                                                             /mnt/xarfuse/.../IPython/\n",
        "\n",
        "      aten::addmm         0.01%     275.721us           0 b  /mnt/xarfuse/.../torch/nn\n",
        "                                                             /mnt/xarfuse/.../torch/nn\n",
        "                                                             /mnt/xarfuse/.../torch/nn\n",
        "                                                             <ipython-input-...>(8): forward\n",
        "                                                             /mnt/xarfuse/.../torch/nn\n",
        "\n",
        "      aten::_local        0.01%     268.650us           0 b  <ipython-input-...>(11): forward\n",
        "      _scalar_dense                                          /mnt/xarfuse/.../torch/nn\n",
        "                                                             <ipython-input-...>(9): <module>\n",
        "                                                             /mnt/xarfuse/.../IPython/\n",
        "                                                             /mnt/xarfuse/.../IPython/\n",
        "\n",
        "-----------------  ------------  ------------  ------------  --------------------------------\n",
        "Self CPU time total: 5.347s\n",
        "\n",
        "\"\"\""
      ]
    },
    {
      "cell_type": "code",
      "source": [
        "model = MyModule(500, 10).cuda()\n",
        "input = torch.rand(128, 500).cuda()\n",
        "mask = torch.rand((500, 500, 500), dtype=torch.float).cuda()\n",
        "\n",
        "# warm-up\n",
        "model(input, mask)\n",
        "\n",
        "with profiler.profile(with_stack=True, profile_memory=True) as prof:\n",
        "  out, idx = model(input, mask)\n",
        "\n",
        "print(\n",
        "    prof.key_averages(\n",
        "        group_by_stack_n=5).table(sort_by='self_cpu_time_total', row_limit=5))  "
      ],
      "metadata": {
        "id": "cI05mes8IMXH",
        "outputId": "a24239d6-9f54-4b15-93b5-eb191806d455",
        "colab": {
          "base_uri": "https://localhost:8080/"
        }
      },
      "execution_count": 7,
      "outputs": [
        {
          "output_type": "stream",
          "name": "stdout",
          "text": [
            "-----------------------------  ------------  ------------  ------------  ------------  ------------  ------------  ------------  ------------  ------------  ------------  ---------------------------------------------------------------------------  \n",
            "                         Name    Self CPU %      Self CPU   CPU total %     CPU total  CPU time avg       CPU Mem  Self CPU Mem      CUDA Mem  Self CUDA Mem    # of Calls  Source Location                                                              \n",
            "-----------------------------  ------------  ------------  ------------  ------------  ------------  ------------  ------------  ------------  ------------  ------------  ---------------------------------------------------------------------------  \n",
            "                 MASK INDICES        79.18%        2.320s        99.94%        2.928s        2.928s          -4 b    -476.84 Mb       2.79 Gb      -1.00 Kb             1  ...l/lib/python3.7/dist-packages/torch/autograd/profiler.py(435): __enter__  \n",
            "                                                                                                                                                                           <ipython-input-4-9944a29ab7c8>(10): forward                                  \n",
            "                                                                                                                                                                           ...lib/python3.7/dist-packages/torch/nn/modules/module.py(1102): _call_impl  \n",
            "                                                                                                                                                                           <ipython-input-7-2cd576f14b32>(9): <module>                                  \n",
            "                                                                                                                                                                           ...python3.7/dist-packages/IPython/core/interactiveshell.py(2882): run_code  \n",
            "                                                                                                                                                                                                                                                        \n",
            "              cudaMemcpyAsync        20.73%     607.239ms        20.73%     607.239ms     202.413ms           0 b           0 b           0 b           0 b             3                                                                               \n",
            "                                                                                                                                                                                                                                                        \n",
            "                  aten::addmm         0.03%     795.000us         0.03%     935.000us     935.000us           0 b           0 b       5.00 Kb       5.00 Kb             1  /usr/local/lib/python3.7/dist-packages/torch/nn/functional.py(1848): linear  \n",
            "                                                                                                                                                                           ...cal/lib/python3.7/dist-packages/torch/nn/modules/linear.py(103): forward  \n",
            "                                                                                                                                                                           ...lib/python3.7/dist-packages/torch/nn/modules/module.py(1102): _call_impl  \n",
            "                                                                                                                                                                           <ipython-input-4-9944a29ab7c8>(8): forward                                   \n",
            "                                                                                                                                                                           ...lib/python3.7/dist-packages/torch/nn/modules/module.py(1102): _call_impl  \n",
            "                                                                                                                                                                                                                                                        \n",
            "                  LINEAR PASS         0.01%     225.000us         0.05%       1.378ms       1.378ms          -4 b         -20 b       5.00 Kb           0 b             1  ...l/lib/python3.7/dist-packages/torch/autograd/profiler.py(435): __enter__  \n",
            "                                                                                                                                                                           <ipython-input-4-9944a29ab7c8>(7): forward                                   \n",
            "                                                                                                                                                                           ...lib/python3.7/dist-packages/torch/nn/modules/module.py(1102): _call_impl  \n",
            "                                                                                                                                                                           <ipython-input-7-2cd576f14b32>(9): <module>                                  \n",
            "                                                                                                                                                                           ...python3.7/dist-packages/IPython/core/interactiveshell.py(2882): run_code  \n",
            "                                                                                                                                                                                                                                                        \n",
            "                    aten::sum         0.00%     146.000us         0.01%     166.000us     166.000us           0 b           0 b         512 b         512 b             1  <ipython-input-4-9944a29ab7c8>(11): forward                                  \n",
            "                                                                                                                                                                           ...lib/python3.7/dist-packages/torch/nn/modules/module.py(1102): _call_impl  \n",
            "                                                                                                                                                                           <ipython-input-7-2cd576f14b32>(9): <module>                                  \n",
            "                                                                                                                                                                           ...python3.7/dist-packages/IPython/core/interactiveshell.py(2882): run_code  \n",
            "                                                                                                                                                                           ...n3.7/dist-packages/IPython/core/interactiveshell.py(2822): run_ast_nodes  \n",
            "                                                                                                                                                                                                                                                        \n",
            "-----------------------------  ------------  ------------  ------------  ------------  ------------  ------------  ------------  ------------  ------------  ------------  ---------------------------------------------------------------------------  \n",
            "Self CPU time total: 2.930s\n",
            "\n"
          ]
        }
      ]
    },
    {
      "cell_type": "markdown",
      "metadata": {
        "id": "NmcV3tNgFag5"
      },
      "source": [
        "The CPU memory footprint for this operation has halved.\n",
        "\n",
        "Improve time performance\n",
        "~~~~~~~~~~~~~~~~~~~~~~~~~~~~~~~~~~\n",
        "While the time consumed has also reduced a bit, it’s still too high.\n",
        "Turns out copying a matrix from CUDA to CPU is pretty expensive!\n",
        "The ``aten::copy_`` operator in ``forward (12)`` copies ``mask`` to CPU\n",
        "so that it can use the NumPy ``argwhere`` function. ``aten::copy_`` at ``forward(13)``\n",
        "copies the array back to CUDA as a tensor. We could eliminate both of these if we use a\n",
        "``torch`` function ``nonzero()`` here instead.\n",
        "\n",
        "\n"
      ]
    },
    {
      "cell_type": "code",
      "execution_count": null,
      "metadata": {
        "id": "jVEorxJVFag6"
      },
      "outputs": [],
      "source": [
        "class MyModule(nn.Module):\n",
        "    def __init__(self, in_features: int, out_features: int, bias: bool = True):\n",
        "        super(MyModule, self).__init__()\n",
        "        self.linear = nn.Linear(in_features, out_features, bias)\n",
        "\n",
        "    def forward(self, input, mask):\n",
        "        with profiler.record_function(\"LINEAR PASS\"):\n",
        "            out = self.linear(input)\n",
        "\n",
        "        with profiler.record_function(\"MASK INDICES\"):\n",
        "            threshold = out.sum(axis=1).mean()\n",
        "            hi_idx = (mask > threshold).nonzero(as_tuple=True)\n",
        "\n",
        "        return out, hi_idx\n",
        "\n",
        "\n",
        "model = MyModule(500, 10).cuda()\n",
        "input = torch.rand(128, 500).cuda()\n",
        "mask = torch.rand((500, 500, 500), dtype=torch.float).cuda()\n",
        "\n",
        "# warm-up\n",
        "model(input, mask)\n",
        "\n",
        "with profiler.profile(with_stack=True, profile_memory=True) as prof:\n",
        "    out, idx = model(input, mask)\n",
        "\n",
        "print(prof.key_averages(group_by_stack_n=5).table(sort_by='self_cpu_time_total', row_limit=5))\n",
        "\n",
        "\"\"\"\n",
        "(Some columns are omitted)\n",
        "\n",
        "--------------  ------------  ------------  ------------  ---------------------------------\n",
        "          Name    Self CPU %      Self CPU  Self CPU Mem   Source Location\n",
        "--------------  ------------  ------------  ------------  ---------------------------------\n",
        "      aten::gt        57.17%     129.089ms           0 b  <ipython-input-...>(12): forward\n",
        "                                                          /mnt/xarfuse/.../torch/nn\n",
        "                                                          <ipython-input-...>(25): <module>\n",
        "                                                          /mnt/xarfuse/.../IPython/\n",
        "                                                          /mnt/xarfuse/.../IPython/\n",
        "\n",
        " aten::nonzero        37.38%      84.402ms           0 b  <ipython-input-...>(12): forward\n",
        "                                                          /mnt/xarfuse/.../torch/nn\n",
        "                                                          <ipython-input-...>(25): <module>\n",
        "                                                          /mnt/xarfuse/.../IPython/\n",
        "                                                          /mnt/xarfuse/.../IPython/\n",
        "\n",
        "   INDEX SCORE         3.32%       7.491ms    -119.21 Mb  /mnt/xarfuse/.../torch/au\n",
        "                                                          <ipython-input-...>(10): forward\n",
        "                                                          /mnt/xarfuse/.../torch/nn\n",
        "                                                          <ipython-input-...>(25): <module>\n",
        "                                                          /mnt/xarfuse/.../IPython/\n",
        "\n",
        "aten::as_strided         0.20%    441.587us          0 b  <ipython-input-...>(12): forward\n",
        "                                                          /mnt/xarfuse/.../torch/nn\n",
        "                                                          <ipython-input-...>(25): <module>\n",
        "                                                          /mnt/xarfuse/.../IPython/\n",
        "                                                          /mnt/xarfuse/.../IPython/\n",
        "\n",
        " aten::nonzero\n",
        "     _numpy             0.18%     395.602us           0 b  <ipython-input-...>(12): forward\n",
        "                                                          /mnt/xarfuse/.../torch/nn\n",
        "                                                          <ipython-input-...>(25): <module>\n",
        "                                                          /mnt/xarfuse/.../IPython/\n",
        "                                                          /mnt/xarfuse/.../IPython/\n",
        "--------------  ------------  ------------  ------------  ---------------------------------\n",
        "Self CPU time total: 225.801ms\n",
        "\n",
        "\"\"\""
      ]
    },
    {
      "cell_type": "code",
      "source": [
        "class MyModule(nn.Module):\n",
        "  def __init__(self, in_features: int, out_features: int, bias: bool = True):\n",
        "    super(MyModule, self).__init__()\n",
        "    self.linear = nn.Linear(in_features, out_features, bias)\n",
        "\n",
        "  def forward(self, input, mask):\n",
        "    with profiler.record_function(\"LINEAR PASS\"):\n",
        "      out = self.linear(input)\n",
        "\n",
        "    with profiler.record_function(\"MASK INDICES\"):\n",
        "      threshold = out.sum(axis=1).mean()\n",
        "      hi_idx = (mask > threshold).nonzero(as_tuple=True)\n",
        "\n",
        "    return out, hi_idx\n",
        "\n",
        "model = MyModule(500, 10).cuda()\n",
        "input = torch.rand(128, 500).cuda()\n",
        "input = torch.rand(128, 500).cuda()\n",
        "mask = torch.rand((500, 500, 500), dtype=torch.float).cuda()\n",
        "\n",
        "# warm-up\n",
        "model(input, mask)\n",
        "\n",
        "with profiler.profile(with_stack=True, profile_memory=True) as prof:\n",
        "  out, idx = model(input, mask)\n",
        "\n",
        "print(prof.key_averages(group_by_stack_n=5).table(#ry_averages(group_by_stack_n=5).table(\n",
        "    sort_by='self_cpu_time_total', row_limit=5))  "
      ],
      "metadata": {
        "id": "clVIl3UIJDON",
        "outputId": "ddd0f7af-5d1f-4902-e376-92ce6fff7c2d",
        "colab": {
          "base_uri": "https://localhost:8080/"
        }
      },
      "execution_count": 9,
      "outputs": [
        {
          "output_type": "stream",
          "name": "stdout",
          "text": [
            "-------------------------------------------------------  ------------  ------------  ------------  ------------  ------------  ------------  ------------  ------------  ------------  ------------  ---------------------------------------------------------------------------  \n",
            "                                                   Name    Self CPU %      Self CPU   CPU total %     CPU total  CPU time avg       CPU Mem  Self CPU Mem      CUDA Mem  Self CUDA Mem    # of Calls  Source Location                                                              \n",
            "-------------------------------------------------------  ------------  ------------  ------------  ------------  ------------  ------------  ------------  ------------  ------------  ------------  ---------------------------------------------------------------------------  \n",
            "                                        cudaMemcpyAsync        95.44%      56.448ms        95.44%      56.448ms      56.448ms           0 b           0 b           0 b           0 b             1                                                                               \n",
            "                                                                                                                                                                                                                                                                                  \n",
            "                                            aten::addmm         1.25%     737.000us         1.36%     805.000us     805.000us           0 b           0 b       5.00 Kb       5.00 Kb             1  /usr/local/lib/python3.7/dist-packages/torch/nn/functional.py(1848): linear  \n",
            "                                                                                                                                                                                                     ...cal/lib/python3.7/dist-packages/torch/nn/modules/linear.py(103): forward  \n",
            "                                                                                                                                                                                                     ...lib/python3.7/dist-packages/torch/nn/modules/module.py(1102): _call_impl  \n",
            "                                                                                                                                                                                                     <ipython-input-9-dadb44fb3981>(8): forward                                   \n",
            "                                                                                                                                                                                                     ...lib/python3.7/dist-packages/torch/nn/modules/module.py(1102): _call_impl  \n",
            "                                                                                                                                                                                                                                                                                  \n",
            "                                           MASK INDICES         0.48%     282.000us        97.73%      57.803ms      57.803ms          -4 b         -20 b       2.79 Gb    -119.21 Mb             1  ...l/lib/python3.7/dist-packages/torch/autograd/profiler.py(435): __enter__  \n",
            "                                                                                                                                                                                                     <ipython-input-9-dadb44fb3981>(10): forward                                  \n",
            "                                                                                                                                                                                                     ...lib/python3.7/dist-packages/torch/nn/modules/module.py(1102): _call_impl  \n",
            "                                                                                                                                                                                                     <ipython-input-9-dadb44fb3981>(25): <module>                                 \n",
            "                                                                                                                                                                                                     ...python3.7/dist-packages/IPython/core/interactiveshell.py(2882): run_code  \n",
            "                                                                                                                                                                                                                                                                                  \n",
            "                                          aten::nonzero         0.43%     256.000us        96.20%      56.894ms      56.894ms           0 b           0 b       2.79 Gb           0 b             1  <ipython-input-9-dadb44fb3981>(12): forward                                  \n",
            "                                                                                                                                                                                                     ...lib/python3.7/dist-packages/torch/nn/modules/module.py(1102): _call_impl  \n",
            "                                                                                                                                                                                                     <ipython-input-9-dadb44fb3981>(25): <module>                                 \n",
            "                                                                                                                                                                                                     ...python3.7/dist-packages/IPython/core/interactiveshell.py(2882): run_code  \n",
            "                                                                                                                                                                                                     ...n3.7/dist-packages/IPython/core/interactiveshell.py(2822): run_ast_nodes  \n",
            "                                                                                                                                                                                                                                                                                  \n",
            "                                             aten::mean         0.26%     156.000us         0.29%     172.000us     172.000us           0 b           0 b         512 b         512 b             1  <ipython-input-9-dadb44fb3981>(11): forward                                  \n",
            "                                                                                                                                                                                                     ...lib/python3.7/dist-packages/torch/nn/modules/module.py(1102): _call_impl  \n",
            "                                                                                                                                                                                                     <ipython-input-9-dadb44fb3981>(25): <module>                                 \n",
            "                                                                                                                                                                                                     ...python3.7/dist-packages/IPython/core/interactiveshell.py(2882): run_code  \n",
            "                                                                                                                                                                                                     ...n3.7/dist-packages/IPython/core/interactiveshell.py(2822): run_ast_nodes  \n",
            "                                                                                                                                                                                                                                                                                  \n",
            "-------------------------------------------------------  ------------  ------------  ------------  ------------  ------------  ------------  ------------  ------------  ------------  ------------  ---------------------------------------------------------------------------  \n",
            "Self CPU time total: 59.144ms\n",
            "\n"
          ]
        }
      ]
    },
    {
      "cell_type": "code",
      "source": [
        ""
      ],
      "metadata": {
        "id": "341nvb8KK3v5"
      },
      "execution_count": null,
      "outputs": []
    },
    {
      "cell_type": "markdown",
      "metadata": {
        "id": "WxMQjCONFag6"
      },
      "source": [
        "Further Reading\n",
        "~~~~~~~~~~~~~~~~~\n",
        "We have seen how Profiler can be used to investigate time and memory bottlenecks in PyTorch models.\n",
        "Read more about Profiler here:\n",
        "\n",
        "- `Profiler Usage Recipe <https://pytorch.org/tutorials/recipes/recipes/profiler.html>`__\n",
        "- `Profiling RPC-Based Workloads <https://pytorch.org/tutorials/recipes/distributed_rpc_profiling.html>`__\n",
        "- `Profiler API Docs <https://pytorch.org/docs/stable/autograd.html?highlight=profiler#profiler>`__\n",
        "\n"
      ]
    }
  ],
  "metadata": {
    "kernelspec": {
      "display_name": "Python 3",
      "language": "python",
      "name": "python3"
    },
    "language_info": {
      "codemirror_mode": {
        "name": "ipython",
        "version": 3
      },
      "file_extension": ".py",
      "mimetype": "text/x-python",
      "name": "python",
      "nbconvert_exporter": "python",
      "pygments_lexer": "ipython3",
      "version": "3.7.11"
    },
    "colab": {
      "name": "profiler.ipynb",
      "provenance": []
    },
    "accelerator": "GPU"
  },
  "nbformat": 4,
  "nbformat_minor": 0
}