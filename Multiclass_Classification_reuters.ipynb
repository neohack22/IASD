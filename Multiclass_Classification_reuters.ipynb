{
  "nbformat": 4,
  "nbformat_minor": 0,
  "metadata": {
    "colab": {
      "name": "Multiclass_Classification_reuters.ipynb",
      "provenance": [],
      "include_colab_link": true
    },
    "kernelspec": {
      "name": "python3",
      "display_name": "Python 3"
    }
  },
  "cells": [
    {
      "cell_type": "markdown",
      "metadata": {
        "id": "view-in-github",
        "colab_type": "text"
      },
      "source": [
        "<a href=\"https://colab.research.google.com/github/neohack22/IASD/blob/DeepLearning/Multiclass_Classification_reuters.ipynb\" target=\"_parent\"><img src=\"https://colab.research.google.com/assets/colab-badge.svg\" alt=\"Open In Colab\"/></a>"
      ]
    },
    {
      "cell_type": "code",
      "metadata": {
        "id": "mYl5mqaMZhc_",
        "colab_type": "code",
        "colab": {}
      },
      "source": [
        "from keras.datasets import reuters"
      ],
      "execution_count": 0,
      "outputs": []
    },
    {
      "cell_type": "code",
      "metadata": {
        "id": "FaX10MxgtD3e",
        "colab_type": "code",
        "colab": {}
      },
      "source": [
        "(train_data, train_labels), (test_data, test_labels) = reuters.load_data(num_words=10000)"
      ],
      "execution_count": 0,
      "outputs": []
    },
    {
      "cell_type": "markdown",
      "metadata": {
        "id": "sAOtk4qstSTN",
        "colab_type": "text"
      },
      "source": [
        "# Exercise: Train a small dense network on the Reuters data"
      ]
    },
    {
      "cell_type": "markdown",
      "metadata": {
        "id": "m8Ca8EyEtbi3",
        "colab_type": "text"
      },
      "source": [
        "## Encoding the data"
      ]
    },
    {
      "cell_type": "markdown",
      "metadata": {
        "id": "krNxod4_tpG1",
        "colab_type": "text"
      },
      "source": [
        "### error encoding the data"
      ]
    },
    {
      "cell_type": "code",
      "metadata": {
        "id": "b2fpq3mDtPMY",
        "colab_type": "code",
        "outputId": "86dd7a6a-5793-4dab-9551-81be72132efa",
        "colab": {
          "base_uri": "https://localhost:8080/",
          "height": 34
        }
      },
      "source": [
        "\"\"\"\n",
        "x_train = vectorize_sequences(train_data)\n",
        "x_test = vectorize_sequences(test_data)\n",
        "\"\"\""
      ],
      "execution_count": 0,
      "outputs": [
        {
          "output_type": "execute_result",
          "data": {
            "text/plain": [
              "'\\nx_train = vectorize_sequences(train_data)\\nx_test = vectorize_sequences(test_data)\\n'"
            ]
          },
          "metadata": {
            "tags": []
          },
          "execution_count": 36
        }
      ]
    },
    {
      "cell_type": "code",
      "metadata": {
        "id": "yGHNRUxXtaS4",
        "colab_type": "code",
        "colab": {}
      },
      "source": [
        ""
      ],
      "execution_count": 0,
      "outputs": []
    },
    {
      "cell_type": "markdown",
      "metadata": {
        "id": "NqhOmZZqtt3e",
        "colab_type": "text"
      },
      "source": [
        "### define a vectorizer"
      ]
    },
    {
      "cell_type": "code",
      "metadata": {
        "id": "Rtl2Klfdt6dm",
        "colab_type": "code",
        "colab": {}
      },
      "source": [
        "def vectorize_sequences(sequences, dimension=10000):\n",
        "  results = np.zeros((len(sequences), dimension))\n",
        "  for i, sequence in enumerate(sequences):\n",
        "    results[i, sequence] = 1\n",
        "  return results"
      ],
      "execution_count": 0,
      "outputs": []
    },
    {
      "cell_type": "markdown",
      "metadata": {
        "id": "f9OOyglWv-Sv",
        "colab_type": "text"
      },
      "source": [
        "### missing numpy import: vectorize the data"
      ]
    },
    {
      "cell_type": "code",
      "metadata": {
        "id": "6ADIeeQIv5Kq",
        "colab_type": "code",
        "outputId": "53388668-3e0c-4347-c044-a4dff9975aaa",
        "colab": {
          "base_uri": "https://localhost:8080/",
          "height": 34
        }
      },
      "source": [
        "\"\"\"\n",
        "x_train = vectorize_sequences(train_data)\n",
        "x_test = vectorize_sequences(test_data)\n",
        "\"\"\""
      ],
      "execution_count": 0,
      "outputs": [
        {
          "output_type": "execute_result",
          "data": {
            "text/plain": [
              "'\\nx_train = vectorize_sequences(train_data)\\nx_test = vectorize_sequences(test_data)\\n'"
            ]
          },
          "metadata": {
            "tags": []
          },
          "execution_count": 38
        }
      ]
    },
    {
      "cell_type": "markdown",
      "metadata": {
        "id": "0T06MT0bwh6d",
        "colab_type": "text"
      },
      "source": [
        "### import numpy for vectorizer"
      ]
    },
    {
      "cell_type": "code",
      "metadata": {
        "id": "0dRf1BrhwS_u",
        "colab_type": "code",
        "colab": {}
      },
      "source": [
        "import numpy as np"
      ],
      "execution_count": 0,
      "outputs": []
    },
    {
      "cell_type": "markdown",
      "metadata": {
        "id": "7MyUPejmwsmG",
        "colab_type": "text"
      },
      "source": [
        "### vectorize the data"
      ]
    },
    {
      "cell_type": "code",
      "metadata": {
        "id": "q4wuvAVVwru2",
        "colab_type": "code",
        "colab": {}
      },
      "source": [
        ""
      ],
      "execution_count": 0,
      "outputs": []
    },
    {
      "cell_type": "markdown",
      "metadata": {
        "id": "nmQyNoYLEXx3",
        "colab_type": "text"
      },
      "source": [
        "# Multiclass Classification 1.1"
      ]
    },
    {
      "cell_type": "markdown",
      "metadata": {
        "id": "xwf34iwvEToR",
        "colab_type": "text"
      },
      "source": [
        "You’ll work with the Reuters dataset, a set of short newswires and\n",
        "their topics, published by Reuters in 1986. It’s a simple, widely used\n",
        "toy dataset for text classification. There are 46 different topics; some\n",
        "topics are more represented than others, but each topic has at least\n",
        "10 examples in the training set."
      ]
    },
    {
      "cell_type": "code",
      "metadata": {
        "id": "_-Z1Shg2EVFU",
        "colab_type": "code",
        "colab": {}
      },
      "source": [
        "from keras.datasets import reuters"
      ],
      "execution_count": 0,
      "outputs": []
    },
    {
      "cell_type": "code",
      "metadata": {
        "id": "7PNet4sCEg1H",
        "colab_type": "code",
        "colab": {}
      },
      "source": [
        "(train_data, train_labels), (test_data, test_labels) = reuters.load_data(num_words=10000)"
      ],
      "execution_count": 0,
      "outputs": []
    },
    {
      "cell_type": "markdown",
      "metadata": {
        "id": "Sgm165n9EyR-",
        "colab_type": "text"
      },
      "source": [
        "## Train a small dense network on the Reuters data"
      ]
    },
    {
      "cell_type": "markdown",
      "metadata": {
        "id": "j9GZE9CFE18m",
        "colab_type": "text"
      },
      "source": [
        "### Encoding the data"
      ]
    },
    {
      "cell_type": "markdown",
      "metadata": {
        "id": "PPU9UZArFQNS",
        "colab_type": "text"
      },
      "source": [
        "#### NameError: name 'vectorize_sequences' is not defined"
      ]
    },
    {
      "cell_type": "code",
      "metadata": {
        "id": "pIY0-MB8Etaj",
        "colab_type": "code",
        "outputId": "ed219349-474d-4fe5-b62a-e266a846080d",
        "colab": {
          "base_uri": "https://localhost:8080/",
          "height": 34
        }
      },
      "source": [
        "\"\"\"\n",
        "x_train = vectorize_sequences(train_data)\n",
        "x_test = vectorize_sequences(test_data)\n",
        "\"\"\""
      ],
      "execution_count": 0,
      "outputs": [
        {
          "output_type": "execute_result",
          "data": {
            "text/plain": [
              "'\\nx_train = vectorize_sequences(train_data)\\nx_test = vectorize_sequences(test_data)\\n'"
            ]
          },
          "metadata": {
            "tags": []
          },
          "execution_count": 42
        }
      ]
    },
    {
      "cell_type": "markdown",
      "metadata": {
        "id": "nMd-6hEwFx1N",
        "colab_type": "text"
      },
      "source": [
        "#### SyntaxError: invalid syntax"
      ]
    },
    {
      "cell_type": "code",
      "metadata": {
        "id": "Os0oT2c3E_ys",
        "colab_type": "code",
        "outputId": "e3f4281a-2bcb-45d4-db13-0c3b2ae0d797",
        "colab": {
          "base_uri": "https://localhost:8080/",
          "height": 54
        }
      },
      "source": [
        "\"\"\"\n",
        "def vectorize_sequences(sequences, dimension=10000):\n",
        "  results = np.zeros(len(sequences), dimension))\n",
        "  for i, sequence in enumerate(sequences):\n",
        "    results[i, sequence] = 1\n",
        "  return results\n",
        "\"\"\""
      ],
      "execution_count": 0,
      "outputs": [
        {
          "output_type": "execute_result",
          "data": {
            "text/plain": [
              "'\\ndef vectorize_sequences(sequences, dimension=10000):\\n  results = np.zeros(len(sequences), dimension))\\n  for i, sequence in enumerate(sequences):\\n    results[i, sequence] = 1\\n  return results\\n'"
            ]
          },
          "metadata": {
            "tags": []
          },
          "execution_count": 43
        }
      ]
    },
    {
      "cell_type": "code",
      "metadata": {
        "id": "ecP8u7FUFsck",
        "colab_type": "code",
        "colab": {}
      },
      "source": [
        ""
      ],
      "execution_count": 0,
      "outputs": []
    },
    {
      "cell_type": "markdown",
      "metadata": {
        "id": "Kw4FTfphFYqm",
        "colab_type": "text"
      },
      "source": [
        "#### def vectorize_sequences"
      ]
    },
    {
      "cell_type": "code",
      "metadata": {
        "id": "iQ9OcL4PF8_R",
        "colab_type": "code",
        "colab": {}
      },
      "source": [
        "def vectorize_sequences(sequences, dimension=10000):\n",
        "  results = np.zeros((len(sequences), dimension))\n",
        "  for i, sequence in enumerate(sequences):\n",
        "    results[i, sequence] = 1\n",
        "  return results"
      ],
      "execution_count": 0,
      "outputs": []
    },
    {
      "cell_type": "markdown",
      "metadata": {
        "id": "gSXj2wXhF8uv",
        "colab_type": "text"
      },
      "source": [
        "#### Encoding the data 1.0"
      ]
    },
    {
      "cell_type": "code",
      "metadata": {
        "id": "LTO1tYtzFNnR",
        "colab_type": "code",
        "colab": {}
      },
      "source": [
        "from keras.utils.np_utils import to_categorical\n",
        "one_hot_train_labels = to_categorical(train_labels)\n",
        "one_hot_test_labels = to_categorical(test_labels)"
      ],
      "execution_count": 0,
      "outputs": []
    },
    {
      "cell_type": "markdown",
      "metadata": {
        "id": "h9pfvXBOG3H-",
        "colab_type": "text"
      },
      "source": [
        "### Defining the network"
      ]
    },
    {
      "cell_type": "markdown",
      "metadata": {
        "id": "R7e8ioqCHDiX",
        "colab_type": "text"
      },
      "source": [
        "#### SyntaxError: invalid syntax"
      ]
    },
    {
      "cell_type": "code",
      "metadata": {
        "id": "4a9VDOhaG1uh",
        "colab_type": "code",
        "outputId": "d6765dfe-9b45-4a02-cf14-e2a55d3619a0",
        "colab": {
          "base_uri": "https://localhost:8080/",
          "height": 34
        }
      },
      "source": [
        "\"\"\"\n",
        "form keras import models\n",
        "from keras import layers\n",
        "\"\"\""
      ],
      "execution_count": 0,
      "outputs": [
        {
          "output_type": "execute_result",
          "data": {
            "text/plain": [
              "'\\nform keras import models\\nfrom keras import layers\\n'"
            ]
          },
          "metadata": {
            "tags": []
          },
          "execution_count": 46
        }
      ]
    },
    {
      "cell_type": "markdown",
      "metadata": {
        "id": "-vxwex0LHF6v",
        "colab_type": "text"
      },
      "source": [
        "### Defining the network 1.1"
      ]
    },
    {
      "cell_type": "code",
      "metadata": {
        "id": "NqvIEguCG597",
        "colab_type": "code",
        "colab": {}
      },
      "source": [
        "from keras import models\n",
        "from keras import layers"
      ],
      "execution_count": 0,
      "outputs": []
    },
    {
      "cell_type": "code",
      "metadata": {
        "id": "Ry8mgrmWHWGf",
        "colab_type": "code",
        "colab": {}
      },
      "source": [
        "model = models.Sequential()\n",
        "model.add(layers.Dense(64, activation='relu',input_shape=(10000,)))\n",
        "model.add(layers.Dense(64, activation='relu'))\n",
        "model.add(layers.Dense(46, activation='softmax'))"
      ],
      "execution_count": 0,
      "outputs": []
    },
    {
      "cell_type": "markdown",
      "metadata": {
        "id": "EJUqSUvkH0UH",
        "colab_type": "text"
      },
      "source": [
        "### Defining the optimizer and the loss"
      ]
    },
    {
      "cell_type": "code",
      "metadata": {
        "id": "kmQJJnKyHwVs",
        "colab_type": "code",
        "colab": {}
      },
      "source": [
        "model.compile(optimizer='rmsprop', loss='categorical_crossentropy', metrics=['accuracy'])"
      ],
      "execution_count": 0,
      "outputs": []
    },
    {
      "cell_type": "markdown",
      "metadata": {
        "id": "f04gKZhzILXX",
        "colab_type": "text"
      },
      "source": [
        "### Defining a validation set"
      ]
    },
    {
      "cell_type": "markdown",
      "metadata": {
        "id": "-TN53HkGIwuv",
        "colab_type": "text"
      },
      "source": [
        "#### NameError: name 'x_train' is not defined"
      ]
    },
    {
      "cell_type": "code",
      "metadata": {
        "id": "hrbTSLg_IIQG",
        "colab_type": "code",
        "outputId": "b69a5e25-023a-4a49-fc15-5da32713d4f0",
        "colab": {
          "base_uri": "https://localhost:8080/",
          "height": 34
        }
      },
      "source": [
        "\"\"\"\n",
        "x_val = x_train[:1000]\n",
        "partial_x_train = x_train[1000:]\n",
        "y_val = one_hot_train_labels[:1000]\n",
        "partial_y_train = one_hot_train_labels[1000:]\n",
        "\"\"\""
      ],
      "execution_count": 0,
      "outputs": [
        {
          "output_type": "execute_result",
          "data": {
            "text/plain": [
              "'\\nx_val = x_train[:1000]\\npartial_x_train = x_train[1000:]\\ny_val = one_hot_train_labels[:1000]\\npartial_y_train = one_hot_train_labels[1000:]\\n'"
            ]
          },
          "metadata": {
            "tags": []
          },
          "execution_count": 50
        }
      ]
    },
    {
      "cell_type": "markdown",
      "metadata": {
        "id": "n5PG18w8Iz8c",
        "colab_type": "text"
      },
      "source": [
        "### Encoding the data 1.1"
      ]
    },
    {
      "cell_type": "markdown",
      "metadata": {
        "id": "9fExAsJfJEw0",
        "colab_type": "text"
      },
      "source": [
        "#### NameError: name 'np' is not defined"
      ]
    },
    {
      "cell_type": "code",
      "metadata": {
        "id": "75dGQeRLIflO",
        "colab_type": "code",
        "outputId": "c255b57a-b261-4faf-8cf3-1b08ce001da5",
        "colab": {
          "base_uri": "https://localhost:8080/",
          "height": 34
        }
      },
      "source": [
        "\"\"\"\n",
        "x_train = vectorize_sequences(train_data)\n",
        "x_test = vectorize_sequences(test_data)\n",
        "\"\"\""
      ],
      "execution_count": 0,
      "outputs": [
        {
          "output_type": "execute_result",
          "data": {
            "text/plain": [
              "'\\nx_train = vectorize_sequences(train_data)\\nx_test = vectorize_sequences(test_data)\\n'"
            ]
          },
          "metadata": {
            "tags": []
          },
          "execution_count": 51
        }
      ]
    },
    {
      "cell_type": "markdown",
      "metadata": {
        "id": "U4nYGAE9JQhs",
        "colab_type": "text"
      },
      "source": [
        "#### import numpy for vectorizer"
      ]
    },
    {
      "cell_type": "code",
      "metadata": {
        "id": "2ZxwCPnkJAKr",
        "colab_type": "code",
        "colab": {}
      },
      "source": [
        "import numpy as np"
      ],
      "execution_count": 0,
      "outputs": []
    },
    {
      "cell_type": "markdown",
      "metadata": {
        "id": "ZQKbOdfxJZ2Z",
        "colab_type": "text"
      },
      "source": [
        "### Encoding the data 1.2"
      ]
    },
    {
      "cell_type": "code",
      "metadata": {
        "id": "QW39-AKgJTRy",
        "colab_type": "code",
        "colab": {}
      },
      "source": [
        "x_train = vectorize_sequences(train_data)\n",
        "x_test = vectorize_sequences(test_data)"
      ],
      "execution_count": 0,
      "outputs": []
    },
    {
      "cell_type": "markdown",
      "metadata": {
        "id": "MddimZ4CJyTC",
        "colab_type": "text"
      },
      "source": [
        "### Defining a validation set 1.1"
      ]
    },
    {
      "cell_type": "code",
      "metadata": {
        "id": "CrPlM13YJnqe",
        "colab_type": "code",
        "colab": {}
      },
      "source": [
        "x_val = x_test[:1000]\n",
        "partial_x_train = x_train[1000:]\n",
        "y_val = one_hot_train_labels[:1000]\n",
        "partial_y_train = one_hot_train_labels[1000:]"
      ],
      "execution_count": 0,
      "outputs": []
    },
    {
      "cell_type": "markdown",
      "metadata": {
        "id": "PAzc_ezsKMWX",
        "colab_type": "text"
      },
      "source": [
        "### Training with a validation set"
      ]
    },
    {
      "cell_type": "code",
      "metadata": {
        "id": "Uwt9cTIkKJrx",
        "colab_type": "code",
        "outputId": "4b30418f-00e5-4df0-bbf0-6ae2147d427a",
        "colab": {
          "base_uri": "https://localhost:8080/",
          "height": 706
        }
      },
      "source": [
        "history = model.fit(partial_x_train, partial_y_train, epochs=20, \\\n",
        "                    batch_size=512, validation_data=(x_val, y_val))"
      ],
      "execution_count": 0,
      "outputs": [
        {
          "output_type": "stream",
          "text": [
            "Train on 7982 samples, validate on 1000 samples\n",
            "Epoch 1/20\n",
            "7982/7982 [==============================] - 1s 165us/step - loss: 2.5361 - acc: 0.4754 - val_loss: 3.1182 - val_acc: 0.2270\n",
            "Epoch 2/20\n",
            "7982/7982 [==============================] - 1s 131us/step - loss: 1.3711 - acc: 0.7182 - val_loss: 3.5878 - val_acc: 0.2190\n",
            "Epoch 3/20\n",
            "7982/7982 [==============================] - 1s 130us/step - loss: 1.0190 - acc: 0.7826 - val_loss: 3.9709 - val_acc: 0.2110\n",
            "Epoch 4/20\n",
            "7982/7982 [==============================] - 1s 130us/step - loss: 0.8079 - acc: 0.8277 - val_loss: 4.2284 - val_acc: 0.2020\n",
            "Epoch 5/20\n",
            "7982/7982 [==============================] - 1s 131us/step - loss: 0.6453 - acc: 0.8632 - val_loss: 4.4478 - val_acc: 0.2050\n",
            "Epoch 6/20\n",
            "7982/7982 [==============================] - 1s 130us/step - loss: 0.5189 - acc: 0.8910 - val_loss: 4.7423 - val_acc: 0.2050\n",
            "Epoch 7/20\n",
            "7982/7982 [==============================] - 1s 129us/step - loss: 0.4222 - acc: 0.9073 - val_loss: 4.9045 - val_acc: 0.2050\n",
            "Epoch 8/20\n",
            "7982/7982 [==============================] - 1s 131us/step - loss: 0.3437 - acc: 0.9250 - val_loss: 5.2114 - val_acc: 0.2010\n",
            "Epoch 9/20\n",
            "7982/7982 [==============================] - 1s 130us/step - loss: 0.2857 - acc: 0.9389 - val_loss: 5.4193 - val_acc: 0.2000\n",
            "Epoch 10/20\n",
            "7982/7982 [==============================] - 1s 130us/step - loss: 0.2459 - acc: 0.9432 - val_loss: 5.6497 - val_acc: 0.2030\n",
            "Epoch 11/20\n",
            "7982/7982 [==============================] - 1s 131us/step - loss: 0.2061 - acc: 0.9499 - val_loss: 5.8281 - val_acc: 0.2110\n",
            "Epoch 12/20\n",
            "7982/7982 [==============================] - 1s 132us/step - loss: 0.1862 - acc: 0.9498 - val_loss: 6.0353 - val_acc: 0.1980\n",
            "Epoch 13/20\n",
            "7982/7982 [==============================] - 1s 133us/step - loss: 0.1653 - acc: 0.9533 - val_loss: 6.1283 - val_acc: 0.2070\n",
            "Epoch 14/20\n",
            "7982/7982 [==============================] - 1s 132us/step - loss: 0.1529 - acc: 0.9535 - val_loss: 6.4411 - val_acc: 0.2070\n",
            "Epoch 15/20\n",
            "7982/7982 [==============================] - 1s 132us/step - loss: 0.1432 - acc: 0.9563 - val_loss: 6.5149 - val_acc: 0.2060\n",
            "Epoch 16/20\n",
            "7982/7982 [==============================] - 1s 134us/step - loss: 0.1318 - acc: 0.9557 - val_loss: 6.7528 - val_acc: 0.2030\n",
            "Epoch 17/20\n",
            "7982/7982 [==============================] - 1s 133us/step - loss: 0.1268 - acc: 0.9562 - val_loss: 6.8539 - val_acc: 0.2000\n",
            "Epoch 18/20\n",
            "7982/7982 [==============================] - 1s 133us/step - loss: 0.1204 - acc: 0.9569 - val_loss: 6.9018 - val_acc: 0.2010\n",
            "Epoch 19/20\n",
            "7982/7982 [==============================] - 1s 131us/step - loss: 0.1188 - acc: 0.9582 - val_loss: 7.0087 - val_acc: 0.2070\n",
            "Epoch 20/20\n",
            "7982/7982 [==============================] - 1s 129us/step - loss: 0.1133 - acc: 0.9593 - val_loss: 7.0225 - val_acc: 0.2080\n"
          ],
          "name": "stdout"
        }
      ]
    },
    {
      "cell_type": "markdown",
      "metadata": {
        "id": "HRvhJ2o_Klun",
        "colab_type": "text"
      },
      "source": [
        "### Visualize the training"
      ]
    },
    {
      "cell_type": "code",
      "metadata": {
        "id": "HzWqcN4hKjP9",
        "colab_type": "code",
        "colab": {}
      },
      "source": [
        "import matplotlib.pyplot as plt"
      ],
      "execution_count": 0,
      "outputs": []
    },
    {
      "cell_type": "code",
      "metadata": {
        "id": "llWaO6eQKsSF",
        "colab_type": "code",
        "outputId": "1549ed39-03f0-4f16-9be9-53702a1bdacf",
        "colab": {
          "base_uri": "https://localhost:8080/",
          "height": 54
        }
      },
      "source": [
        "\"\"\"\n",
        "loss = history.history['loss']\n",
        "val_loss = history.history['val_loss']\n",
        "epochs = range(1, len(loss) + 1)\n",
        "plt.plot(epochs, loss, 'bo', label='Validation loss')\n",
        "plt.title('Training and validation loss')\n",
        "plt.xlabel('Epochs')\n",
        "plt.ylabel('Loss')\n",
        "plt.legend()\n",
        "plt.show()\n",
        "\"\"\""
      ],
      "execution_count": 0,
      "outputs": [
        {
          "output_type": "execute_result",
          "data": {
            "text/plain": [
              "\"\\nloss = history.history['loss']\\nval_loss = history.history['val_loss']\\nepochs = range(1, len(loss) + 1)\\nplt.plot(epochs, loss, 'bo', label='Validation loss')\\nplt.title('Training and validation loss')\\nplt.xlabel('Epochs')\\nplt.ylabel('Loss')\\nplt.legend()\\nplt.show()\\n\""
            ]
          },
          "metadata": {
            "tags": []
          },
          "execution_count": 57
        }
      ]
    },
    {
      "cell_type": "code",
      "metadata": {
        "id": "dY89dZmxLX6A",
        "colab_type": "code",
        "outputId": "349da7ff-f073-4724-92fe-037d16066a38",
        "colab": {
          "base_uri": "https://localhost:8080/",
          "height": 295
        }
      },
      "source": [
        "import matplotlib.pyplot as plt\n",
        "loss = history.history['loss']\n",
        "val_loss = history.history['val_loss']\n",
        "epochs = range(1, len(loss) + 1)\n",
        "plt.plot(epochs, loss, 'bo', label='Training loss')\n",
        "plt.plot(epochs, val_loss, 'b', label='Validation loss')\n",
        "plt.title('Training and validation loss')\n",
        "plt.xlabel('Epochs')\n",
        "plt.ylabel('Loss')\n",
        "plt.legend()\n",
        "plt.show()"
      ],
      "execution_count": 0,
      "outputs": [
        {
          "output_type": "display_data",
          "data": {
            "image/png": "[encoded data removed]",
            "text/plain": [
              "<Figure size 432x288 with 1 Axes>"
            ]
          },
          "metadata": {
            "tags": []
          }
        }
      ]
    },
    {
      "cell_type": "markdown",
      "metadata": {
        "id": "XNHVB8FVMqdG",
        "colab_type": "text"
      },
      "source": [
        "### Further experiments"
      ]
    },
    {
      "cell_type": "markdown",
      "metadata": {
        "id": "0KAg2oVmMsQp",
        "colab_type": "text"
      },
      "source": [
        "#### Train on less epochs"
      ]
    },
    {
      "cell_type": "code",
      "metadata": {
        "id": "LZ_x8RuJMmAj",
        "colab_type": "code",
        "outputId": "00755788-d485-44ca-f8ae-3def409bf7d7",
        "colab": {
          "base_uri": "https://localhost:8080/",
          "height": 101
        }
      },
      "source": [
        "history_1 = model.fit(partial_x_train, partial_y_train, epochs=2, \\\n",
        "                      batch_size=512, validation_data=(x_val, y_val))"
      ],
      "execution_count": 0,
      "outputs": [
        {
          "output_type": "stream",
          "text": [
            "Train on 7982 samples, validate on 1000 samples\n",
            "Epoch 1/2\n",
            "7982/7982 [==============================] - 1s 132us/step - loss: 0.1144 - acc: 0.9568 - val_loss: 7.2951 - val_acc: 0.2040\n",
            "Epoch 2/2\n",
            "7982/7982 [==============================] - 1s 130us/step - loss: 0.1123 - acc: 0.9558 - val_loss: 7.2236 - val_acc: 0.2110\n"
          ],
          "name": "stdout"
        }
      ]
    },
    {
      "cell_type": "markdown",
      "metadata": {
        "id": "10V2l_gjPYyr",
        "colab_type": "text"
      },
      "source": [
        "##### AttributeError: 'History' object has no attribute 'history_1'"
      ]
    },
    {
      "cell_type": "code",
      "metadata": {
        "id": "WQeJPCaLNJeU",
        "colab_type": "code",
        "outputId": "173d4226-eb13-4867-aa8e-dc46cf2fe5f1",
        "colab": {
          "base_uri": "https://localhost:8080/",
          "height": 54
        }
      },
      "source": [
        "\"\"\"\n",
        "loss_1 = history_1.history_1['loss']\n",
        "val_loss_1 = history_1.history_1['val_loss_1']\n",
        "epochs = range(1, len(loss_1) + 1)\n",
        "plt.plot(epochs, loss_1, 'bo', label='Training loss 1')\n",
        "plt.plot(epochs, val_loss_1, 'b', label='Validation loss 1')\n",
        "plt.title('Training and validation loss 1')\n",
        "plt.xlabel('Epochs')\n",
        "plt.ylabel('Loss 1')\n",
        "plt.legend()\n",
        "plt.show()\n",
        "\"\"\""
      ],
      "execution_count": 0,
      "outputs": [
        {
          "output_type": "execute_result",
          "data": {
            "text/plain": [
              "\"\\nloss_1 = history_1.history_1['loss']\\nval_loss_1 = history_1.history_1['val_loss_1']\\nepochs = range(1, len(loss_1) + 1)\\nplt.plot(epochs, loss_1, 'bo', label='Training loss 1')\\nplt.plot(epochs, val_loss_1, 'b', label='Validation loss 1')\\nplt.title('Training and validation loss 1')\\nplt.xlabel('Epochs')\\nplt.ylabel('Loss 1')\\nplt.legend()\\nplt.show()\\n\""
            ]
          },
          "metadata": {
            "tags": []
          },
          "execution_count": 60
        }
      ]
    },
    {
      "cell_type": "markdown",
      "metadata": {
        "id": "-sXaepDuQ-ZF",
        "colab_type": "text"
      },
      "source": [
        "#### KeyError: 'val_loss_1"
      ]
    },
    {
      "cell_type": "code",
      "metadata": {
        "id": "vdclCrbIOqJv",
        "colab_type": "code",
        "outputId": "dc215d86-95e9-449f-e30c-5a4d1314c49e",
        "colab": {
          "base_uri": "https://localhost:8080/",
          "height": 54
        }
      },
      "source": [
        "\"\"\"\n",
        "loss_1 = history_1.history['loss']\n",
        "val_loss_1 = history_1.history['val_loss_1']\n",
        "epochs = range(1, len(loss_1) + 1)\n",
        "plt.plot(epochs, loss_1, 'bo', label='Training loss 1')\n",
        "plt.plot(epochs, val_loss_1, 'b', label='Validation loss 1')\n",
        "plt.title('Training and validation loss 1')\n",
        "plt.xlabel('Epochs')\n",
        "plt.ylabel('Loss 1')\n",
        "plt.legend()\n",
        "plt.show()\n",
        "\"\"\""
      ],
      "execution_count": 0,
      "outputs": [
        {
          "output_type": "execute_result",
          "data": {
            "text/plain": [
              "\"\\nloss_1 = history_1.history['loss']\\nval_loss_1 = history_1.history['val_loss_1']\\nepochs = range(1, len(loss_1) + 1)\\nplt.plot(epochs, loss_1, 'bo', label='Training loss 1')\\nplt.plot(epochs, val_loss_1, 'b', label='Validation loss 1')\\nplt.title('Training and validation loss 1')\\nplt.xlabel('Epochs')\\nplt.ylabel('Loss 1')\\nplt.legend()\\nplt.show()\\n\""
            ]
          },
          "metadata": {
            "tags": []
          },
          "execution_count": 61
        }
      ]
    },
    {
      "cell_type": "markdown",
      "metadata": {
        "id": "fJ719NgVPhVY",
        "colab_type": "text"
      },
      "source": [
        "#### Visualize the training 1.1"
      ]
    },
    {
      "cell_type": "code",
      "metadata": {
        "id": "4dIcs5hdQ3Qs",
        "colab_type": "code",
        "outputId": "8e73539d-dc39-40a1-9ca6-a8a62443d212",
        "colab": {
          "base_uri": "https://localhost:8080/",
          "height": 295
        }
      },
      "source": [
        "loss_1 = history_1.history['loss']\n",
        "val_loss_1 = history_1.history['val_loss']\n",
        "epochs = range(1, len(loss_1) + 1)\n",
        "plt.plot(epochs, loss_1, 'bo', label='Training loss 1')\n",
        "plt.plot(epochs, val_loss_1, 'b', label='Validation loss 1')\n",
        "plt.title('Training and validation loss 1')\n",
        "plt.xlabel('Epochs')\n",
        "plt.ylabel('Loss 1')\n",
        "plt.legend()\n",
        "plt.show()"
      ],
      "execution_count": 0,
      "outputs": [
        {
          "output_type": "display_data",
          "data": {
            "image/png": "[encoded data removed]",
            "text/plain": [
              "<Figure size 432x288 with 1 Axes>"
            ]
          },
          "metadata": {
            "tags": []
          }
        }
      ]
    },
    {
      "cell_type": "markdown",
      "metadata": {
        "id": "Y8hS8bQWR7QJ",
        "colab_type": "text"
      },
      "source": [
        "#### Try using larger or smaller layers"
      ]
    },
    {
      "cell_type": "markdown",
      "metadata": {
        "id": "VrqRGgNbSGXp",
        "colab_type": "text"
      },
      "source": [
        "##### 32 **units**"
      ]
    },
    {
      "cell_type": "markdown",
      "metadata": {
        "id": "iTsoeyyASHe8",
        "colab_type": "text"
      },
      "source": [
        "###### Defining the network 1.2"
      ]
    },
    {
      "cell_type": "code",
      "metadata": {
        "id": "QsYtg6ZPSxDY",
        "colab_type": "code",
        "colab": {}
      },
      "source": [
        "model_1 = models.Sequential()\n",
        "model_1.add(layers.Dense(32, activation='relu', input_shape=(1000,)))\n",
        "model_1.add(layers.Dense(32, activation='relu'))\n",
        "model_1.add(layers.Dense(46, activation='softmax'))"
      ],
      "execution_count": 0,
      "outputs": []
    },
    {
      "cell_type": "markdown",
      "metadata": {
        "id": "Zz1Etta8UJVO",
        "colab_type": "text"
      },
      "source": [
        "###### Training with a validation set 1.1"
      ]
    },
    {
      "cell_type": "markdown",
      "metadata": {
        "id": "7Pr40VzrUcRl",
        "colab_type": "text"
      },
      "source": [
        "SyntaxError: positional argument follows keyword argument"
      ]
    },
    {
      "cell_type": "code",
      "metadata": {
        "id": "LLc8V_b3R0wk",
        "colab_type": "code",
        "outputId": "2fcbe916-5421-40d7-c0d2-14043df0bb26",
        "colab": {
          "base_uri": "https://localhost:8080/",
          "height": 34
        }
      },
      "source": [
        "\"\"\"\n",
        "history_1_1 = model.fit(partial_x_train, partial_y_train, epochs=2, \\\n",
        "                        batch_size=512, validation)\n",
        "\"\"\"\n"
      ],
      "execution_count": 0,
      "outputs": [
        {
          "output_type": "execute_result",
          "data": {
            "text/plain": [
              "'\\nhistory_1_1 = model.fit(partial_x_train, partial_y_train, epochs=2,                         batch_size=512, validation)\\n'"
            ]
          },
          "metadata": {
            "tags": []
          },
          "execution_count": 64
        }
      ]
    },
    {
      "cell_type": "markdown",
      "metadata": {
        "id": "OXf1AkQHUmIl",
        "colab_type": "text"
      },
      "source": [
        "###### Training with a validation set 1.2"
      ]
    },
    {
      "cell_type": "markdown",
      "metadata": {
        "id": "jdf3qd9NXqyU",
        "colab_type": "text"
      },
      "source": [
        "TypeError: Unrecognized keyword arguments"
      ]
    },
    {
      "cell_type": "code",
      "metadata": {
        "id": "UMQKApBSUUhz",
        "colab_type": "code",
        "outputId": "1ea8940a-32cb-4594-acdf-aba20b6e22d3",
        "colab": {
          "base_uri": "https://localhost:8080/",
          "height": 34
        }
      },
      "source": [
        "\"\"\"\n",
        "history_1_1 = model_1.fit(partial_x_train, partial_y_train, epochs=2, \\\n",
        "                          batch_size=512, validation=(x_val, y_val))\n",
        "\"\"\""
      ],
      "execution_count": 0,
      "outputs": [
        {
          "output_type": "execute_result",
          "data": {
            "text/plain": [
              "'\\nhistory_1_1 = model_1.fit(partial_x_train, partial_y_train, epochs=2,                           batch_size=512, validation=(x_val, y_val))\\n'"
            ]
          },
          "metadata": {
            "tags": []
          },
          "execution_count": 66
        }
      ]
    },
    {
      "cell_type": "markdown",
      "metadata": {
        "id": "aukJEQhyX-XQ",
        "colab_type": "text"
      },
      "source": [
        "Defining the network 1.2"
      ]
    },
    {
      "cell_type": "code",
      "metadata": {
        "id": "TE7ylFRCXkzb",
        "colab_type": "code",
        "colab": {}
      },
      "source": [
        "model_1 = models.Sequential()\n",
        "model_1.add(layers.Dense(32, activation='relu', input_shape=(10000,)))\n",
        "model_1.add(layers.Dense(32, activation='relu'))\n",
        "model_1.add(layers.Dense(46, activation='softmax'))"
      ],
      "execution_count": 0,
      "outputs": []
    },
    {
      "cell_type": "markdown",
      "metadata": {
        "id": "H1ZHDfDoQHsj",
        "colab_type": "text"
      },
      "source": [
        "###### TypeError: Unrecognized keyword arguments"
      ]
    },
    {
      "cell_type": "code",
      "metadata": {
        "id": "tZF11_eoYsvg",
        "colab_type": "code",
        "outputId": "24162620-75a7-4179-d45b-2e549c695569",
        "colab": {
          "base_uri": "https://localhost:8080/",
          "height": 34
        }
      },
      "source": [
        "\"\"\"\n",
        "history_1_1 = model_1.fit(partial_x_train, partial_y_train, epochs=2, \\\n",
        "                          batch_size=512, validation=(x_val, y_val))\n",
        "\"\"\""
      ],
      "execution_count": 0,
      "outputs": [
        {
          "output_type": "execute_result",
          "data": {
            "text/plain": [
              "'\\nhistory_1_1 = model_1.fit(partial_x_train, partial_y_train, epochs=2,                           batch_size=512, validation=(x_val, y_val))\\n'"
            ]
          },
          "metadata": {
            "tags": []
          },
          "execution_count": 68
        }
      ]
    },
    {
      "cell_type": "markdown",
      "metadata": {
        "id": "aYRDzOZcQ8zh",
        "colab_type": "text"
      },
      "source": [
        "Defining the network 1.3"
      ]
    },
    {
      "cell_type": "markdown",
      "metadata": {
        "id": "NDTyezxPirQI",
        "colab_type": "text"
      },
      "source": [
        "RuntimeError: You must compile a model before training/testing"
      ]
    },
    {
      "cell_type": "code",
      "metadata": {
        "id": "713Oo7Y7Qd-B",
        "colab_type": "code",
        "outputId": "570efb62-0ea8-4100-b01d-cb799b4aab17",
        "colab": {
          "base_uri": "https://localhost:8080/",
          "height": 34
        }
      },
      "source": [
        "\"\"\"\n",
        "history_1_1 = model_1.fit(partial_x_train, partial_y_train, epochs=2, \\\n",
        "                          batch_size=512, validation_data=(x_val, y_val))\n",
        "\"\"\""
      ],
      "execution_count": 0,
      "outputs": [
        {
          "output_type": "execute_result",
          "data": {
            "text/plain": [
              "'\\nhistory_1_1 = model_1.fit(partial_x_train, partial_y_train, epochs=2,                           batch_size=512, validation_data=(x_val, y_val))\\n'"
            ]
          },
          "metadata": {
            "tags": []
          },
          "execution_count": 70
        }
      ]
    },
    {
      "cell_type": "markdown",
      "metadata": {
        "id": "igoqITUSi1LS",
        "colab_type": "text"
      },
      "source": [
        "Defining the optimizer and the loss"
      ]
    },
    {
      "cell_type": "code",
      "metadata": {
        "id": "XAd5wmQJimDb",
        "colab_type": "code",
        "colab": {}
      },
      "source": [
        "model_1.compile(optimizer='rmsprop', loss='categorical_crossentropy', metrics=['accuracy'])"
      ],
      "execution_count": 0,
      "outputs": []
    },
    {
      "cell_type": "markdown",
      "metadata": {
        "id": "bOmCfYgji3nj",
        "colab_type": "text"
      },
      "source": [
        "Defining the network 1.4"
      ]
    },
    {
      "cell_type": "code",
      "metadata": {
        "id": "ZLk3Afcqi8K7",
        "colab_type": "code",
        "outputId": "4d46339e-1a80-4401-a5e2-ccaedbf98d8d",
        "colab": {
          "base_uri": "https://localhost:8080/",
          "height": 101
        }
      },
      "source": [
        "history_1_1 = model_1.fit(partial_x_train, partial_y_train, epochs=2, \\\n",
        "                          batch_size=512, validation_data=(x_val, y_val))"
      ],
      "execution_count": 0,
      "outputs": [
        {
          "output_type": "stream",
          "text": [
            "Train on 7982 samples, validate on 1000 samples\n",
            "Epoch 1/2\n",
            "7982/7982 [==============================] - 1s 159us/step - loss: 3.1236 - acc: 0.3563 - val_loss: 2.9976 - val_acc: 0.2870\n",
            "Epoch 2/2\n",
            "7982/7982 [==============================] - 1s 105us/step - loss: 2.0725 - acc: 0.5786 - val_loss: 2.9446 - val_acc: 0.2590\n"
          ],
          "name": "stdout"
        }
      ]
    },
    {
      "cell_type": "markdown",
      "metadata": {
        "id": "O8V8Ii97pqY0",
        "colab_type": "text"
      },
      "source": [
        "SyntaxError: invalid syntax"
      ]
    },
    {
      "cell_type": "code",
      "metadata": {
        "id": "XPzkDUrUk20T",
        "colab_type": "code",
        "outputId": "60e64401-55d5-47ef-c693-c358932d4343",
        "colab": {
          "base_uri": "https://localhost:8080/",
          "height": 54
        }
      },
      "source": [
        "\"\"\"\n",
        "loss_1_1 = history_1_1.history['loss']\n",
        "val_loss_1_1 = history_1_1.history['val_loss']\n",
        "epochs_1_1 = range(1, len(loss_1_1)) + .1)\n",
        "plt.plot(epochs_1_1, loss_1_1, 'bo', label='Training loss 1_1')\n",
        "plt.title('Training and validation loss 1_1')\n",
        "plt.xlabel('Epochs 1_1')\n",
        "plt.ylabel('Loss 1_1')\n",
        "plt.legend()\n",
        "plt.show()\n",
        "\"\"\""
      ],
      "execution_count": 0,
      "outputs": [
        {
          "output_type": "execute_result",
          "data": {
            "text/plain": [
              "\"\\nloss_1_1 = history_1_1.history['loss']\\nval_loss_1_1 = history_1_1.history['val_loss']\\nepochs_1_1 = range(1, len(loss_1_1)) + .1)\\nplt.plot(epochs_1_1, loss_1_1, 'bo', label='Training loss 1_1')\\nplt.title('Training and validation loss 1_1')\\nplt.xlabel('Epochs 1_1')\\nplt.ylabel('Loss 1_1')\\nplt.legend()\\nplt.show()\\n\""
            ]
          },
          "metadata": {
            "tags": []
          },
          "execution_count": 85
        }
      ]
    },
    {
      "cell_type": "markdown",
      "metadata": {
        "id": "_rVjqyfapykx",
        "colab_type": "text"
      },
      "source": [
        "Visualize the training"
      ]
    },
    {
      "cell_type": "markdown",
      "metadata": {
        "id": "mEWYYKMPtFtB",
        "colab_type": "text"
      },
      "source": [
        "TypeError: 'float' object cannot be interpreted as an integer"
      ]
    },
    {
      "cell_type": "code",
      "metadata": {
        "id": "H0Ioaqy6poEx",
        "colab_type": "code",
        "outputId": "d43a6187-f717-4a53-b644-70840a33e093",
        "colab": {
          "base_uri": "https://localhost:8080/",
          "height": 54
        }
      },
      "source": [
        "\"\"\"\n",
        "loss_1_1 = history_1_1.history['loss']\n",
        "val_loss_1_1 = history_1_1.history['val_loss']\n",
        "epochs_1_1 = range(1, len(loss_1_1) + .1)\n",
        "plt.plot(epochs_1_1, loss_1_1, 'bo', label='Training loss 1_1')\n",
        "plt.plot(epochs, val_loss_1_1, 'b', label='Validation loss 1_1')\n",
        "plt.title('Training and validation loss 1_1')\n",
        "plt.xlabel('Epochs 1_1')\n",
        "plt.ylabel('Loss 1_1')\n",
        "plt.legend()\n",
        "plt.show()\n",
        "\"\"\""
      ],
      "execution_count": 0,
      "outputs": [
        {
          "output_type": "execute_result",
          "data": {
            "text/plain": [
              "\"\\nloss_1_1 = history_1_1.history['loss']\\nval_loss_1_1 = history_1_1.history['val_loss']\\nepochs_1_1 = range(1, len(loss_1_1) + .1)\\nplt.plot(epochs_1_1, loss_1_1, 'bo', label='Training loss 1_1')\\nplt.plot(epochs, val_loss_1_1, 'b', label='Validation loss 1_1')\\nplt.title('Training and validation loss 1_1')\\nplt.xlabel('Epochs 1_1')\\nplt.ylabel('Loss 1_1')\\nplt.legend()\\nplt.show()\\n\""
            ]
          },
          "metadata": {
            "tags": []
          },
          "execution_count": 87
        }
      ]
    },
    {
      "cell_type": "markdown",
      "metadata": {
        "id": "O47voefUuXD1",
        "colab_type": "text"
      },
      "source": [
        "Visualize the training 1.2"
      ]
    },
    {
      "cell_type": "code",
      "metadata": {
        "id": "hlTAiO79tIGe",
        "colab_type": "code",
        "outputId": "eda49d78-2044-4904-a003-2ea797e3e25e",
        "colab": {
          "base_uri": "https://localhost:8080/",
          "height": 296
        }
      },
      "source": [
        "loss_1_1 = history_1_1.history['loss']\n",
        "val_loss_1_1 = history_1_1.history['val_loss']\n",
        "epochs = range(1, len(loss_1_1) + 1)\n",
        "plt.plot(epochs, loss_1_1, 'bo', label='Training loss 1_1')\n",
        "plt.plot(epochs, val_loss_1_1, 'b', label='Validation loss 1_1')\n",
        "plt.title('Training and validation loss 1_1')\n",
        "plt.xlabel('Epochs 1_1')\n",
        "plt.ylabel('Loss 1_1')\n",
        "plt.legend()\n",
        "plt.show()"
      ],
      "execution_count": 0,
      "outputs": [
        {
          "output_type": "display_data",
          "data": {
            "image/png": "[encoded data removed]",
            "text/plain": [
              "<Figure size 432x288 with 1 Axes>"
            ]
          },
          "metadata": {
            "tags": []
          }
        }
      ]
    },
    {
      "cell_type": "markdown",
      "metadata": {
        "id": "S1s3wnDBVWVy",
        "colab_type": "text"
      },
      "source": [
        "##### 128 units"
      ]
    },
    {
      "cell_type": "code",
      "metadata": {
        "id": "t1bwbalHVKhq",
        "colab_type": "code",
        "outputId": "401b64a4-b1a5-41a9-a4c3-edd2937a298c",
        "colab": {
          "base_uri": "https://localhost:8080/",
          "height": 54
        }
      },
      "source": [
        "\"\"\"\n",
        "model_2 = models.Sequential()\n",
        "model_2.add(layers.Dense(128, activation='relu', input_shape=(1000,)))\n",
        "model_2.add(layers.Dense(128, activation='relu'))\n",
        "model_2.add(layers.Dense(46, activation='softmax'))\n",
        "\"\"\""
      ],
      "execution_count": 0,
      "outputs": [
        {
          "output_type": "execute_result",
          "data": {
            "text/plain": [
              "\"\\nmodel_2 = models.Sequential()\\nmodel_2.add(layers.Dense(128, activation='relu', input_shape=(1000,)))\\nmodel_2.add(layers.Dense(128, activation='relu'))\\nmodel_2.add(layers.Dense(46, activation='softmax'))\\n\""
            ]
          },
          "metadata": {
            "tags": []
          },
          "execution_count": 89
        }
      ]
    },
    {
      "cell_type": "code",
      "metadata": {
        "id": "wy1UXocKmSO2",
        "colab_type": "code",
        "colab": {}
      },
      "source": [
        "model_2 = models.Sequential()\n",
        "model_2.add(layers.Dense(128, activation='relu', input_shape=(10000,)))\n",
        "model_2.add(layers.Dense(128, activation='relu'))\n",
        "model_2.add(layers.Dense(46, activation='softmax'))"
      ],
      "execution_count": 0,
      "outputs": []
    },
    {
      "cell_type": "markdown",
      "metadata": {
        "id": "nLrhaT9XnUeC",
        "colab_type": "text"
      },
      "source": [
        "###### Defining the network 1.4"
      ]
    },
    {
      "cell_type": "markdown",
      "metadata": {
        "id": "PVl6-rnTRJQ3",
        "colab_type": "text"
      },
      "source": [
        "###### TypeError: Unrecognized keyword arguments"
      ]
    },
    {
      "cell_type": "code",
      "metadata": {
        "id": "4iJfFSOQWBpZ",
        "colab_type": "code",
        "outputId": "0febd81a-856d-4000-e7d2-2554de3781ad",
        "colab": {
          "base_uri": "https://localhost:8080/",
          "height": 34
        }
      },
      "source": [
        "\"\"\"\n",
        "history_1_1 = model_1.fit(partial_x_train, partial_y_train, epochs=2, \\\n",
        "                          batch_size=512, validation=(x_val, y_val))\n",
        "\"\"\""
      ],
      "execution_count": 0,
      "outputs": [
        {
          "output_type": "execute_result",
          "data": {
            "text/plain": [
              "'\\nhistory_1_1 = model_1.fit(partial_x_train, partial_y_train, epochs=2,                           batch_size=512, validation=(x_val, y_val))\\n'"
            ]
          },
          "metadata": {
            "tags": []
          },
          "execution_count": 91
        }
      ]
    },
    {
      "cell_type": "markdown",
      "metadata": {
        "id": "bKoqWme8nHGO",
        "colab_type": "text"
      },
      "source": [
        "###### Defining the optimizer and the loss"
      ]
    },
    {
      "cell_type": "code",
      "metadata": {
        "id": "IWWDIhdBjCJY",
        "colab_type": "code",
        "colab": {}
      },
      "source": [
        "model_2.compile(optimizer='rmsprop', loss='categorical_crossentropy', metrics=['accuracy'])"
      ],
      "execution_count": 0,
      "outputs": []
    },
    {
      "cell_type": "markdown",
      "metadata": {
        "id": "XvqA6d5Cm-kO",
        "colab_type": "text"
      },
      "source": [
        "###### ValueError: Error when checking input"
      ]
    },
    {
      "cell_type": "code",
      "metadata": {
        "id": "jmxsZhshWdoB",
        "colab_type": "code",
        "outputId": "e21bebaa-af22-4d89-db13-e752248a4240",
        "colab": {
          "base_uri": "https://localhost:8080/",
          "height": 101
        }
      },
      "source": [
        "history_1_2 = model_2.fit(partial_x_train, partial_y_train, epochs=2, \\\n",
        "                          batch_size=512, validation_data=(x_val, y_val))"
      ],
      "execution_count": 0,
      "outputs": [
        {
          "output_type": "stream",
          "text": [
            "Train on 7982 samples, validate on 1000 samples\n",
            "Epoch 1/2\n",
            "7982/7982 [==============================] - 2s 272us/step - loss: 2.1639 - acc: 0.5699 - val_loss: 3.4946 - val_acc: 0.2200\n",
            "Epoch 2/2\n",
            "7982/7982 [==============================] - 2s 189us/step - loss: 1.0932 - acc: 0.7611 - val_loss: 4.0342 - val_acc: 0.2030\n"
          ],
          "name": "stdout"
        }
      ]
    },
    {
      "cell_type": "markdown",
      "metadata": {
        "id": "e1SQaMjDnmbQ",
        "colab_type": "text"
      },
      "source": [
        "Defining the network 1.5"
      ]
    },
    {
      "cell_type": "code",
      "metadata": {
        "id": "W7wB_T5FntKd",
        "colab_type": "code",
        "outputId": "4ed6e823-43d9-496f-af85-e542c1364f71",
        "colab": {
          "base_uri": "https://localhost:8080/",
          "height": 101
        }
      },
      "source": [
        "history_1_2 = model_2.fit(partial_x_train, partial_y_train, epochs=2, \\\n",
        "                          batch_size=512, validation_data=(x_val, y_val))"
      ],
      "execution_count": 0,
      "outputs": [
        {
          "output_type": "stream",
          "text": [
            "Train on 7982 samples, validate on 1000 samples\n",
            "Epoch 1/2\n",
            "7982/7982 [==============================] - 2s 197us/step - loss: 0.7633 - acc: 0.8393 - val_loss: 4.3788 - val_acc: 0.2040\n",
            "Epoch 2/2\n",
            "7982/7982 [==============================] - 2s 197us/step - loss: 0.5568 - acc: 0.8810 - val_loss: 4.7523 - val_acc: 0.2030\n"
          ],
          "name": "stdout"
        }
      ]
    },
    {
      "cell_type": "markdown",
      "metadata": {
        "id": "4kUwyWERrYNj",
        "colab_type": "text"
      },
      "source": [
        "SyntaxError: invalid syntax"
      ]
    },
    {
      "cell_type": "code",
      "metadata": {
        "id": "KuDHso8vmOE1",
        "colab_type": "code",
        "outputId": "9f9df9f9-5690-4f35-e2f5-e3361433c313",
        "colab": {
          "base_uri": "https://localhost:8080/",
          "height": 54
        }
      },
      "source": [
        "\"\"\"\n",
        "loss_1_2 = history_1_2.history['loss']\n",
        "val_loss_1_2 = history_1_2.history['val_loss']\n",
        "epochs_1_2 = range(1, len(loss_1_2)) + .1)\n",
        "plt.plot(epochs_1_2, loss_1_2, 'bo', label='Training loss 1_2')\n",
        "plt.title('Training and validation loss 1_2')\n",
        "plt.xlabel('Epochs 1_2')\n",
        "plt.ylabel('Loss 1_2')\n",
        "plt.Legend()\n",
        "plt.show()\n",
        "\"\"\""
      ],
      "execution_count": 0,
      "outputs": [
        {
          "output_type": "execute_result",
          "data": {
            "text/plain": [
              "\"\\nloss_1_2 = history_1_2.history['loss']\\nval_loss_1_2 = history_1_2.history['val_loss']\\nepochs_1_2 = range(1, len(loss_1_2)) + .1)\\nplt.plot(epochs_1_2, loss_1_2, 'bo', label='Training loss 1_2')\\nplt.title('Training and validation loss 1_2')\\nplt.xlabel('Epochs 1_2')\\nplt.ylabel('Loss 1_2')\\nplt.Legend()\\nplt.show()\\n\""
            ]
          },
          "metadata": {
            "tags": []
          },
          "execution_count": 95
        }
      ]
    },
    {
      "cell_type": "code",
      "metadata": {
        "id": "kGhQ0x8wrVrY",
        "colab_type": "code",
        "outputId": "8807d66d-801b-4e11-d6b2-d79a75846080",
        "colab": {
          "base_uri": "https://localhost:8080/",
          "height": 296
        }
      },
      "source": [
        "loss_1_2 = history_1_2.history['loss']\n",
        "val_loss_1_2 = history_1_2.history['val_loss']\n",
        "epochs = range(1, len(loss_1_2) + 1)\n",
        "plt.plot(epochs, loss_1_2, 'bo', label='Training loss 1_2')\n",
        "plt.plot(epochs, val_loss_1_2, 'b', label='Validation loss 1_2')\n",
        "plt.title('Training and validation loss 1_2')\n",
        "plt.xlabel('Epochs 1_2')\n",
        "plt.ylabel('Loss 1_2')\n",
        "plt.legend()\n",
        "plt.show()"
      ],
      "execution_count": 0,
      "outputs": [
        {
          "output_type": "display_data",
          "data": {
            "image/png": "[encoded data removed]",
            "text/plain": [
              "<Figure size 432x288 with 1 Axes>"
            ]
          },
          "metadata": {
            "tags": []
          }
        }
      ]
    }
  ]
}